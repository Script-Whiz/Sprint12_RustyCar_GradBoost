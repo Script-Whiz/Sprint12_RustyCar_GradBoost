{
 "cells": [
  {
   "cell_type": "markdown",
   "metadata": {},
   "source": [
    "Please find my comments below - **I kindly ask that you do not move, modify, or delete them**.\n",
    "\n",
    "You can find my comments in green, yellow or red boxes like this:\n",
    "\n",
    "<div class=\"alert alert-block alert-success\">\n",
    "<b>Reviewer's comment</b> <a class=\"tocSkip\"></a>\n",
    "\n",
    "Success. Everything is done succesfully.\n",
    "</div>\n",
    "\n",
    "<div class=\"alert alert-block alert-warning\">\n",
    "<b>Reviewer's comment</b> <a class=\"tocSkip\"></a>\n",
    "\n",
    "Remarks. Some recommendations.\n",
    "</div>\n",
    "\n",
    "<div class=\"alert alert-block alert-danger\">\n",
    "\n",
    "<b>Reviewer's comment</b> <a class=\"tocSkip\"></a>\n",
    "\n",
    "Needs fixing. The block requires some corrections. Work can't be accepted with the red comments.\n",
    "</div>\n",
    "\n",
    "You can answer me by using this:\n",
    "\n",
    "<div class=\"alert alert-block alert-info\">\n",
    "<b>Student answer.</b> <a class=\"tocSkip\"></a>\n",
    "\n",
    "Text here.\n",
    "</div>"
   ]
  },
  {
   "cell_type": "markdown",
   "metadata": {},
   "source": [
    "<div class=\"alert alert-block alert-success\">\n",
    "<b>Overall reviewer's comment</b> <a class=\"tocSkip\"></a>\n",
    "\n",
    "Hello Deborah,\n",
    "    \n",
    "Another project successfully completed - well done! 🏆 Your consistent effort and progress are truly commendable.\n",
    "    \n",
    "Our team is here to help you keep pushing forward and honing your skills as you advance through the program.\n",
    "    \n",
    "What Was Great:\n",
    "- Very deep analysis\n",
    "- Good project structure\n",
    "- High code level\n",
    "\n",
    "Tips for Future Projects:\n",
    "- We can organize the final comparison in one dataframe (quality, speed of prediction, and time for training).\n",
    "    \n",
    "Congratulations again on your accomplishment! Each project you complete adds to your growing expertise, and it’s exciting to see you make such great strides. Keep up the great work! 🎯\n",
    "</div>"
   ]
  },
  {
   "cell_type": "markdown",
   "metadata": {},
   "source": [
    "Rusty Bargain Car Sales, Sprint 12 / Gradient Boosting, by Deborah Thomas"
   ]
  },
  {
   "cell_type": "markdown",
   "metadata": {},
   "source": [
    "<span style=\"color: #4682B4; font-size: 32px; font-weight: bold;\">Introduction</span>"
   ]
  },
  {
   "cell_type": "markdown",
   "metadata": {},
   "source": [
    "Rusty Bargain used car sales service is developing an app to attract new customers. In that app, you can quickly find out the market value of your car. You have access to historical data: technical specifications, trim versions, and prices. You need to build the model to determine the value. \n",
    "\n",
    "Rusty Bargain is interested in:\n",
    "\n",
    "- the quality of the prediction;\n",
    "- the speed of the prediction;\n",
    "- the time required for training"
   ]
  },
  {
   "cell_type": "markdown",
   "metadata": {},
   "source": [
    "<span style=\"color: #4682B4; font-size: 32px; font-weight: bold;\">Data preparation</span>"
   ]
  },
  {
   "cell_type": "markdown",
   "metadata": {},
   "source": [
    "<span style=\"color: #5A9BD5; font-size: 22px;\">Load in Libraries</span>"
   ]
  },
  {
   "cell_type": "code",
   "execution_count": 1,
   "metadata": {},
   "outputs": [],
   "source": [
    "import pandas as pd\n",
    "import numpy as np\n",
    "\n",
    "from sklearn.model_selection import train_test_split\n",
    "from sklearn.preprocessing import OrdinalEncoder\n",
    "from sklearn.metrics import mean_squared_error\n",
    "from sklearn.preprocessing import StandardScaler\n",
    "from sklearn.linear_model import LinearRegression\n",
    "\n",
    "from catboost import CatBoostRegressor\n",
    "from lightgbm import LGBMRegressor\n",
    "from xgboost import XGBRegressor\n",
    "from sklearn.tree import DecisionTreeRegressor\n",
    "from sklearn.ensemble import RandomForestRegressor\n",
    "from sklearn.model_selection import GridSearchCV\n",
    "\n",
    "from sklearn.model_selection import KFold\n",
    "\n",
    "import matplotlib.pyplot as plt"
   ]
  },
  {
   "cell_type": "markdown",
   "metadata": {},
   "source": [
    "<span style=\"color: #5A9BD5; font-size: 22px;\">Download the Data</span>"
   ]
  },
  {
   "cell_type": "code",
   "execution_count": 2,
   "metadata": {},
   "outputs": [
    {
     "data": {
      "text/html": [
       "<div>\n",
       "<style scoped>\n",
       "    .dataframe tbody tr th:only-of-type {\n",
       "        vertical-align: middle;\n",
       "    }\n",
       "\n",
       "    .dataframe tbody tr th {\n",
       "        vertical-align: top;\n",
       "    }\n",
       "\n",
       "    .dataframe thead th {\n",
       "        text-align: right;\n",
       "    }\n",
       "</style>\n",
       "<table border=\"1\" class=\"dataframe\">\n",
       "  <thead>\n",
       "    <tr style=\"text-align: right;\">\n",
       "      <th></th>\n",
       "      <th>DateCrawled</th>\n",
       "      <th>Price</th>\n",
       "      <th>VehicleType</th>\n",
       "      <th>RegistrationYear</th>\n",
       "      <th>Gearbox</th>\n",
       "      <th>Power</th>\n",
       "      <th>Model</th>\n",
       "      <th>Mileage</th>\n",
       "      <th>RegistrationMonth</th>\n",
       "      <th>FuelType</th>\n",
       "      <th>Brand</th>\n",
       "      <th>NotRepaired</th>\n",
       "      <th>DateCreated</th>\n",
       "      <th>NumberOfPictures</th>\n",
       "      <th>PostalCode</th>\n",
       "      <th>LastSeen</th>\n",
       "    </tr>\n",
       "  </thead>\n",
       "  <tbody>\n",
       "    <tr>\n",
       "      <th>0</th>\n",
       "      <td>24/03/2016 11:52</td>\n",
       "      <td>480</td>\n",
       "      <td>NaN</td>\n",
       "      <td>1993</td>\n",
       "      <td>manual</td>\n",
       "      <td>0</td>\n",
       "      <td>golf</td>\n",
       "      <td>150000</td>\n",
       "      <td>0</td>\n",
       "      <td>petrol</td>\n",
       "      <td>volkswagen</td>\n",
       "      <td>NaN</td>\n",
       "      <td>24/03/2016 00:00</td>\n",
       "      <td>0</td>\n",
       "      <td>70435</td>\n",
       "      <td>07/04/2016 03:16</td>\n",
       "    </tr>\n",
       "    <tr>\n",
       "      <th>1</th>\n",
       "      <td>24/03/2016 10:58</td>\n",
       "      <td>18300</td>\n",
       "      <td>coupe</td>\n",
       "      <td>2011</td>\n",
       "      <td>manual</td>\n",
       "      <td>190</td>\n",
       "      <td>NaN</td>\n",
       "      <td>125000</td>\n",
       "      <td>5</td>\n",
       "      <td>gasoline</td>\n",
       "      <td>audi</td>\n",
       "      <td>yes</td>\n",
       "      <td>24/03/2016 00:00</td>\n",
       "      <td>0</td>\n",
       "      <td>66954</td>\n",
       "      <td>07/04/2016 01:46</td>\n",
       "    </tr>\n",
       "    <tr>\n",
       "      <th>2</th>\n",
       "      <td>14/03/2016 12:52</td>\n",
       "      <td>9800</td>\n",
       "      <td>suv</td>\n",
       "      <td>2004</td>\n",
       "      <td>auto</td>\n",
       "      <td>163</td>\n",
       "      <td>grand</td>\n",
       "      <td>125000</td>\n",
       "      <td>8</td>\n",
       "      <td>gasoline</td>\n",
       "      <td>jeep</td>\n",
       "      <td>NaN</td>\n",
       "      <td>14/03/2016 00:00</td>\n",
       "      <td>0</td>\n",
       "      <td>90480</td>\n",
       "      <td>05/04/2016 12:47</td>\n",
       "    </tr>\n",
       "    <tr>\n",
       "      <th>3</th>\n",
       "      <td>17/03/2016 16:54</td>\n",
       "      <td>1500</td>\n",
       "      <td>small</td>\n",
       "      <td>2001</td>\n",
       "      <td>manual</td>\n",
       "      <td>75</td>\n",
       "      <td>golf</td>\n",
       "      <td>150000</td>\n",
       "      <td>6</td>\n",
       "      <td>petrol</td>\n",
       "      <td>volkswagen</td>\n",
       "      <td>no</td>\n",
       "      <td>17/03/2016 00:00</td>\n",
       "      <td>0</td>\n",
       "      <td>91074</td>\n",
       "      <td>17/03/2016 17:40</td>\n",
       "    </tr>\n",
       "    <tr>\n",
       "      <th>4</th>\n",
       "      <td>31/03/2016 17:25</td>\n",
       "      <td>3600</td>\n",
       "      <td>small</td>\n",
       "      <td>2008</td>\n",
       "      <td>manual</td>\n",
       "      <td>69</td>\n",
       "      <td>fabia</td>\n",
       "      <td>90000</td>\n",
       "      <td>7</td>\n",
       "      <td>gasoline</td>\n",
       "      <td>skoda</td>\n",
       "      <td>no</td>\n",
       "      <td>31/03/2016 00:00</td>\n",
       "      <td>0</td>\n",
       "      <td>60437</td>\n",
       "      <td>06/04/2016 10:17</td>\n",
       "    </tr>\n",
       "    <tr>\n",
       "      <th>5</th>\n",
       "      <td>04/04/2016 17:36</td>\n",
       "      <td>650</td>\n",
       "      <td>sedan</td>\n",
       "      <td>1995</td>\n",
       "      <td>manual</td>\n",
       "      <td>102</td>\n",
       "      <td>3er</td>\n",
       "      <td>150000</td>\n",
       "      <td>10</td>\n",
       "      <td>petrol</td>\n",
       "      <td>bmw</td>\n",
       "      <td>yes</td>\n",
       "      <td>04/04/2016 00:00</td>\n",
       "      <td>0</td>\n",
       "      <td>33775</td>\n",
       "      <td>06/04/2016 19:17</td>\n",
       "    </tr>\n",
       "    <tr>\n",
       "      <th>6</th>\n",
       "      <td>01/04/2016 20:48</td>\n",
       "      <td>2200</td>\n",
       "      <td>convertible</td>\n",
       "      <td>2004</td>\n",
       "      <td>manual</td>\n",
       "      <td>109</td>\n",
       "      <td>2_reihe</td>\n",
       "      <td>150000</td>\n",
       "      <td>8</td>\n",
       "      <td>petrol</td>\n",
       "      <td>peugeot</td>\n",
       "      <td>no</td>\n",
       "      <td>01/04/2016 00:00</td>\n",
       "      <td>0</td>\n",
       "      <td>67112</td>\n",
       "      <td>05/04/2016 18:18</td>\n",
       "    </tr>\n",
       "    <tr>\n",
       "      <th>7</th>\n",
       "      <td>21/03/2016 18:54</td>\n",
       "      <td>0</td>\n",
       "      <td>sedan</td>\n",
       "      <td>1980</td>\n",
       "      <td>manual</td>\n",
       "      <td>50</td>\n",
       "      <td>other</td>\n",
       "      <td>40000</td>\n",
       "      <td>7</td>\n",
       "      <td>petrol</td>\n",
       "      <td>volkswagen</td>\n",
       "      <td>no</td>\n",
       "      <td>21/03/2016 00:00</td>\n",
       "      <td>0</td>\n",
       "      <td>19348</td>\n",
       "      <td>25/03/2016 16:47</td>\n",
       "    </tr>\n",
       "    <tr>\n",
       "      <th>8</th>\n",
       "      <td>04/04/2016 23:42</td>\n",
       "      <td>14500</td>\n",
       "      <td>bus</td>\n",
       "      <td>2014</td>\n",
       "      <td>manual</td>\n",
       "      <td>125</td>\n",
       "      <td>c_max</td>\n",
       "      <td>30000</td>\n",
       "      <td>8</td>\n",
       "      <td>petrol</td>\n",
       "      <td>ford</td>\n",
       "      <td>NaN</td>\n",
       "      <td>04/04/2016 00:00</td>\n",
       "      <td>0</td>\n",
       "      <td>94505</td>\n",
       "      <td>04/04/2016 23:42</td>\n",
       "    </tr>\n",
       "    <tr>\n",
       "      <th>9</th>\n",
       "      <td>17/03/2016 10:53</td>\n",
       "      <td>999</td>\n",
       "      <td>small</td>\n",
       "      <td>1998</td>\n",
       "      <td>manual</td>\n",
       "      <td>101</td>\n",
       "      <td>golf</td>\n",
       "      <td>150000</td>\n",
       "      <td>0</td>\n",
       "      <td>NaN</td>\n",
       "      <td>volkswagen</td>\n",
       "      <td>NaN</td>\n",
       "      <td>17/03/2016 00:00</td>\n",
       "      <td>0</td>\n",
       "      <td>27472</td>\n",
       "      <td>31/03/2016 17:17</td>\n",
       "    </tr>\n",
       "    <tr>\n",
       "      <th>10</th>\n",
       "      <td>26/03/2016 19:54</td>\n",
       "      <td>2000</td>\n",
       "      <td>sedan</td>\n",
       "      <td>2004</td>\n",
       "      <td>manual</td>\n",
       "      <td>105</td>\n",
       "      <td>3_reihe</td>\n",
       "      <td>150000</td>\n",
       "      <td>12</td>\n",
       "      <td>petrol</td>\n",
       "      <td>mazda</td>\n",
       "      <td>no</td>\n",
       "      <td>26/03/2016 00:00</td>\n",
       "      <td>0</td>\n",
       "      <td>96224</td>\n",
       "      <td>06/04/2016 10:45</td>\n",
       "    </tr>\n",
       "    <tr>\n",
       "      <th>11</th>\n",
       "      <td>07/04/2016 10:06</td>\n",
       "      <td>2799</td>\n",
       "      <td>wagon</td>\n",
       "      <td>2005</td>\n",
       "      <td>manual</td>\n",
       "      <td>140</td>\n",
       "      <td>passat</td>\n",
       "      <td>150000</td>\n",
       "      <td>12</td>\n",
       "      <td>gasoline</td>\n",
       "      <td>volkswagen</td>\n",
       "      <td>yes</td>\n",
       "      <td>07/04/2016 00:00</td>\n",
       "      <td>0</td>\n",
       "      <td>57290</td>\n",
       "      <td>07/04/2016 10:25</td>\n",
       "    </tr>\n",
       "    <tr>\n",
       "      <th>12</th>\n",
       "      <td>15/03/2016 22:49</td>\n",
       "      <td>999</td>\n",
       "      <td>wagon</td>\n",
       "      <td>1995</td>\n",
       "      <td>manual</td>\n",
       "      <td>115</td>\n",
       "      <td>passat</td>\n",
       "      <td>150000</td>\n",
       "      <td>11</td>\n",
       "      <td>petrol</td>\n",
       "      <td>volkswagen</td>\n",
       "      <td>NaN</td>\n",
       "      <td>15/03/2016 00:00</td>\n",
       "      <td>0</td>\n",
       "      <td>37269</td>\n",
       "      <td>01/04/2016 13:16</td>\n",
       "    </tr>\n",
       "    <tr>\n",
       "      <th>13</th>\n",
       "      <td>21/03/2016 21:37</td>\n",
       "      <td>2500</td>\n",
       "      <td>wagon</td>\n",
       "      <td>2004</td>\n",
       "      <td>manual</td>\n",
       "      <td>131</td>\n",
       "      <td>passat</td>\n",
       "      <td>150000</td>\n",
       "      <td>2</td>\n",
       "      <td>NaN</td>\n",
       "      <td>volkswagen</td>\n",
       "      <td>no</td>\n",
       "      <td>21/03/2016 00:00</td>\n",
       "      <td>0</td>\n",
       "      <td>90762</td>\n",
       "      <td>23/03/2016 02:50</td>\n",
       "    </tr>\n",
       "    <tr>\n",
       "      <th>14</th>\n",
       "      <td>21/03/2016 12:57</td>\n",
       "      <td>17999</td>\n",
       "      <td>suv</td>\n",
       "      <td>2011</td>\n",
       "      <td>manual</td>\n",
       "      <td>190</td>\n",
       "      <td>navara</td>\n",
       "      <td>70000</td>\n",
       "      <td>3</td>\n",
       "      <td>gasoline</td>\n",
       "      <td>nissan</td>\n",
       "      <td>no</td>\n",
       "      <td>21/03/2016 00:00</td>\n",
       "      <td>0</td>\n",
       "      <td>4177</td>\n",
       "      <td>06/04/2016 07:45</td>\n",
       "    </tr>\n",
       "    <tr>\n",
       "      <th>15</th>\n",
       "      <td>11/03/2016 21:39</td>\n",
       "      <td>450</td>\n",
       "      <td>small</td>\n",
       "      <td>1910</td>\n",
       "      <td>NaN</td>\n",
       "      <td>0</td>\n",
       "      <td>ka</td>\n",
       "      <td>5000</td>\n",
       "      <td>0</td>\n",
       "      <td>petrol</td>\n",
       "      <td>ford</td>\n",
       "      <td>NaN</td>\n",
       "      <td>11/03/2016 00:00</td>\n",
       "      <td>0</td>\n",
       "      <td>24148</td>\n",
       "      <td>19/03/2016 08:46</td>\n",
       "    </tr>\n",
       "    <tr>\n",
       "      <th>16</th>\n",
       "      <td>01/04/2016 12:46</td>\n",
       "      <td>300</td>\n",
       "      <td>NaN</td>\n",
       "      <td>2016</td>\n",
       "      <td>NaN</td>\n",
       "      <td>60</td>\n",
       "      <td>polo</td>\n",
       "      <td>150000</td>\n",
       "      <td>0</td>\n",
       "      <td>petrol</td>\n",
       "      <td>volkswagen</td>\n",
       "      <td>NaN</td>\n",
       "      <td>01/04/2016 00:00</td>\n",
       "      <td>0</td>\n",
       "      <td>38871</td>\n",
       "      <td>01/04/2016 12:46</td>\n",
       "    </tr>\n",
       "    <tr>\n",
       "      <th>17</th>\n",
       "      <td>20/03/2016 10:25</td>\n",
       "      <td>1750</td>\n",
       "      <td>small</td>\n",
       "      <td>2004</td>\n",
       "      <td>auto</td>\n",
       "      <td>75</td>\n",
       "      <td>twingo</td>\n",
       "      <td>150000</td>\n",
       "      <td>2</td>\n",
       "      <td>petrol</td>\n",
       "      <td>renault</td>\n",
       "      <td>no</td>\n",
       "      <td>20/03/2016 00:00</td>\n",
       "      <td>0</td>\n",
       "      <td>65599</td>\n",
       "      <td>06/04/2016 13:16</td>\n",
       "    </tr>\n",
       "    <tr>\n",
       "      <th>18</th>\n",
       "      <td>23/03/2016 15:48</td>\n",
       "      <td>7550</td>\n",
       "      <td>bus</td>\n",
       "      <td>2007</td>\n",
       "      <td>manual</td>\n",
       "      <td>136</td>\n",
       "      <td>c_max</td>\n",
       "      <td>150000</td>\n",
       "      <td>6</td>\n",
       "      <td>gasoline</td>\n",
       "      <td>ford</td>\n",
       "      <td>no</td>\n",
       "      <td>23/03/2016 00:00</td>\n",
       "      <td>0</td>\n",
       "      <td>88361</td>\n",
       "      <td>05/04/2016 18:45</td>\n",
       "    </tr>\n",
       "    <tr>\n",
       "      <th>19</th>\n",
       "      <td>01/04/2016 22:55</td>\n",
       "      <td>1850</td>\n",
       "      <td>bus</td>\n",
       "      <td>2004</td>\n",
       "      <td>manual</td>\n",
       "      <td>102</td>\n",
       "      <td>a_klasse</td>\n",
       "      <td>150000</td>\n",
       "      <td>1</td>\n",
       "      <td>petrol</td>\n",
       "      <td>mercedes_benz</td>\n",
       "      <td>no</td>\n",
       "      <td>01/04/2016 00:00</td>\n",
       "      <td>0</td>\n",
       "      <td>49565</td>\n",
       "      <td>05/04/2016 22:46</td>\n",
       "    </tr>\n",
       "  </tbody>\n",
       "</table>\n",
       "</div>"
      ],
      "text/plain": [
       "         DateCrawled  Price  VehicleType  RegistrationYear Gearbox  Power  \\\n",
       "0   24/03/2016 11:52    480          NaN              1993  manual      0   \n",
       "1   24/03/2016 10:58  18300        coupe              2011  manual    190   \n",
       "2   14/03/2016 12:52   9800          suv              2004    auto    163   \n",
       "3   17/03/2016 16:54   1500        small              2001  manual     75   \n",
       "4   31/03/2016 17:25   3600        small              2008  manual     69   \n",
       "5   04/04/2016 17:36    650        sedan              1995  manual    102   \n",
       "6   01/04/2016 20:48   2200  convertible              2004  manual    109   \n",
       "7   21/03/2016 18:54      0        sedan              1980  manual     50   \n",
       "8   04/04/2016 23:42  14500          bus              2014  manual    125   \n",
       "9   17/03/2016 10:53    999        small              1998  manual    101   \n",
       "10  26/03/2016 19:54   2000        sedan              2004  manual    105   \n",
       "11  07/04/2016 10:06   2799        wagon              2005  manual    140   \n",
       "12  15/03/2016 22:49    999        wagon              1995  manual    115   \n",
       "13  21/03/2016 21:37   2500        wagon              2004  manual    131   \n",
       "14  21/03/2016 12:57  17999          suv              2011  manual    190   \n",
       "15  11/03/2016 21:39    450        small              1910     NaN      0   \n",
       "16  01/04/2016 12:46    300          NaN              2016     NaN     60   \n",
       "17  20/03/2016 10:25   1750        small              2004    auto     75   \n",
       "18  23/03/2016 15:48   7550          bus              2007  manual    136   \n",
       "19  01/04/2016 22:55   1850          bus              2004  manual    102   \n",
       "\n",
       "       Model  Mileage  RegistrationMonth  FuelType          Brand NotRepaired  \\\n",
       "0       golf   150000                  0    petrol     volkswagen         NaN   \n",
       "1        NaN   125000                  5  gasoline           audi         yes   \n",
       "2      grand   125000                  8  gasoline           jeep         NaN   \n",
       "3       golf   150000                  6    petrol     volkswagen          no   \n",
       "4      fabia    90000                  7  gasoline          skoda          no   \n",
       "5        3er   150000                 10    petrol            bmw         yes   \n",
       "6    2_reihe   150000                  8    petrol        peugeot          no   \n",
       "7      other    40000                  7    petrol     volkswagen          no   \n",
       "8      c_max    30000                  8    petrol           ford         NaN   \n",
       "9       golf   150000                  0       NaN     volkswagen         NaN   \n",
       "10   3_reihe   150000                 12    petrol          mazda          no   \n",
       "11    passat   150000                 12  gasoline     volkswagen         yes   \n",
       "12    passat   150000                 11    petrol     volkswagen         NaN   \n",
       "13    passat   150000                  2       NaN     volkswagen          no   \n",
       "14    navara    70000                  3  gasoline         nissan          no   \n",
       "15        ka     5000                  0    petrol           ford         NaN   \n",
       "16      polo   150000                  0    petrol     volkswagen         NaN   \n",
       "17    twingo   150000                  2    petrol        renault          no   \n",
       "18     c_max   150000                  6  gasoline           ford          no   \n",
       "19  a_klasse   150000                  1    petrol  mercedes_benz          no   \n",
       "\n",
       "         DateCreated  NumberOfPictures  PostalCode          LastSeen  \n",
       "0   24/03/2016 00:00                 0       70435  07/04/2016 03:16  \n",
       "1   24/03/2016 00:00                 0       66954  07/04/2016 01:46  \n",
       "2   14/03/2016 00:00                 0       90480  05/04/2016 12:47  \n",
       "3   17/03/2016 00:00                 0       91074  17/03/2016 17:40  \n",
       "4   31/03/2016 00:00                 0       60437  06/04/2016 10:17  \n",
       "5   04/04/2016 00:00                 0       33775  06/04/2016 19:17  \n",
       "6   01/04/2016 00:00                 0       67112  05/04/2016 18:18  \n",
       "7   21/03/2016 00:00                 0       19348  25/03/2016 16:47  \n",
       "8   04/04/2016 00:00                 0       94505  04/04/2016 23:42  \n",
       "9   17/03/2016 00:00                 0       27472  31/03/2016 17:17  \n",
       "10  26/03/2016 00:00                 0       96224  06/04/2016 10:45  \n",
       "11  07/04/2016 00:00                 0       57290  07/04/2016 10:25  \n",
       "12  15/03/2016 00:00                 0       37269  01/04/2016 13:16  \n",
       "13  21/03/2016 00:00                 0       90762  23/03/2016 02:50  \n",
       "14  21/03/2016 00:00                 0        4177  06/04/2016 07:45  \n",
       "15  11/03/2016 00:00                 0       24148  19/03/2016 08:46  \n",
       "16  01/04/2016 00:00                 0       38871  01/04/2016 12:46  \n",
       "17  20/03/2016 00:00                 0       65599  06/04/2016 13:16  \n",
       "18  23/03/2016 00:00                 0       88361  05/04/2016 18:45  \n",
       "19  01/04/2016 00:00                 0       49565  05/04/2016 22:46  "
      ]
     },
     "metadata": {},
     "output_type": "display_data"
    }
   ],
   "source": [
    "try:\n",
    "    car_df = pd.read_csv('/datasets/car_data.csv')  # Attempt to read from the server path\n",
    "except FileNotFoundError:\n",
    "    car_df = pd.read_csv('../datasets/car_data.csv')  # Fallback to the local path\n",
    "\n",
    "display(car_df.head(20))"
   ]
  },
  {
   "cell_type": "markdown",
   "metadata": {},
   "source": [
    "<span style=\"color: #5A9BD5; font-size: 22px;\">Rename the Columns:</span>"
   ]
  },
  {
   "cell_type": "code",
   "execution_count": 3,
   "metadata": {},
   "outputs": [],
   "source": [
    "car_df.columns = car_df.columns.str.lower()"
   ]
  },
  {
   "cell_type": "code",
   "execution_count": 4,
   "metadata": {},
   "outputs": [],
   "source": [
    "rename_mapping = {\n",
    "    'vehicletype': 'type',\n",
    "    'registrationyear': 'regYear',\n",
    "    'gearbox': 'trans',\n",
    "    'power': 'HP',\n",
    "    'mileage': 'miles',\n",
    "    'registrationmonth': 'regMonth',\n",
    "    'fueltype': 'fuel',\n",
    "    'notrepaired': 'needsRepair',\n",
    "    'numberofpictures': 'numPics',\n",
    "    'postalcode': 'zip'   \n",
    "}"
   ]
  },
  {
   "cell_type": "code",
   "execution_count": 5,
   "metadata": {},
   "outputs": [],
   "source": [
    "car_df.rename(columns=rename_mapping, inplace=True)"
   ]
  },
  {
   "cell_type": "code",
   "execution_count": 6,
   "metadata": {},
   "outputs": [
    {
     "data": {
      "text/plain": [
       "Index(['datecrawled', 'price', 'type', 'regYear', 'trans', 'HP', 'model',\n",
       "       'miles', 'regMonth', 'fuel', 'brand', 'needsRepair', 'datecreated',\n",
       "       'numPics', 'zip', 'lastseen'],\n",
       "      dtype='object')"
      ]
     },
     "execution_count": 6,
     "metadata": {},
     "output_type": "execute_result"
    }
   ],
   "source": [
    "car_df.columns"
   ]
  },
  {
   "cell_type": "code",
   "execution_count": 7,
   "metadata": {},
   "outputs": [
    {
     "name": "stdout",
     "output_type": "stream",
     "text": [
      "<class 'pandas.core.frame.DataFrame'>\n",
      "RangeIndex: 354369 entries, 0 to 354368\n",
      "Data columns (total 16 columns):\n",
      " #   Column       Non-Null Count   Dtype \n",
      "---  ------       --------------   ----- \n",
      " 0   datecrawled  354369 non-null  object\n",
      " 1   price        354369 non-null  int64 \n",
      " 2   type         316879 non-null  object\n",
      " 3   regYear      354369 non-null  int64 \n",
      " 4   trans        334536 non-null  object\n",
      " 5   HP           354369 non-null  int64 \n",
      " 6   model        334664 non-null  object\n",
      " 7   miles        354369 non-null  int64 \n",
      " 8   regMonth     354369 non-null  int64 \n",
      " 9   fuel         321474 non-null  object\n",
      " 10  brand        354369 non-null  object\n",
      " 11  needsRepair  283215 non-null  object\n",
      " 12  datecreated  354369 non-null  object\n",
      " 13  numPics      354369 non-null  int64 \n",
      " 14  zip          354369 non-null  int64 \n",
      " 15  lastseen     354369 non-null  object\n",
      "dtypes: int64(7), object(9)\n",
      "memory usage: 43.3+ MB\n"
     ]
    }
   ],
   "source": [
    "car_df.info()"
   ]
  },
  {
   "cell_type": "markdown",
   "metadata": {},
   "source": [
    "<span style=\"color: #5A9BD5; font-size: 16px;\">'numPics'</span>"
   ]
  },
  {
   "cell_type": "code",
   "execution_count": 8,
   "metadata": {
    "scrolled": true
   },
   "outputs": [
    {
     "name": "stdout",
     "output_type": "stream",
     "text": [
      "0    354369\n",
      "Name: numPics, dtype: int64\n"
     ]
    }
   ],
   "source": [
    "values_count_pics = car_df['numPics'].value_counts(dropna=False)\n",
    "print(values_count_pics)"
   ]
  },
  {
   "cell_type": "markdown",
   "metadata": {},
   "source": [
    "All values are 0, for numPics. This column is not useful."
   ]
  },
  {
   "cell_type": "markdown",
   "metadata": {},
   "source": [
    "<span style=\"color: #5A9BD5; font-size: 22px;\">Remove unecessary columns:</span>"
   ]
  },
  {
   "cell_type": "markdown",
   "metadata": {},
   "source": [
    "Also not useful, in finding the target(price), are 'datecrawled', 'datecreated', 'lastseen', 'zip'."
   ]
  },
  {
   "cell_type": "code",
   "execution_count": 9,
   "metadata": {},
   "outputs": [],
   "source": [
    "car_df = car_df.drop(['datecrawled', 'datecreated', 'lastseen', 'zip', 'numPics'], axis=1)"
   ]
  },
  {
   "cell_type": "code",
   "execution_count": 10,
   "metadata": {},
   "outputs": [
    {
     "data": {
      "text/html": [
       "<div>\n",
       "<style scoped>\n",
       "    .dataframe tbody tr th:only-of-type {\n",
       "        vertical-align: middle;\n",
       "    }\n",
       "\n",
       "    .dataframe tbody tr th {\n",
       "        vertical-align: top;\n",
       "    }\n",
       "\n",
       "    .dataframe thead th {\n",
       "        text-align: right;\n",
       "    }\n",
       "</style>\n",
       "<table border=\"1\" class=\"dataframe\">\n",
       "  <thead>\n",
       "    <tr style=\"text-align: right;\">\n",
       "      <th></th>\n",
       "      <th>price</th>\n",
       "      <th>type</th>\n",
       "      <th>regYear</th>\n",
       "      <th>trans</th>\n",
       "      <th>HP</th>\n",
       "      <th>model</th>\n",
       "      <th>miles</th>\n",
       "      <th>regMonth</th>\n",
       "      <th>fuel</th>\n",
       "      <th>brand</th>\n",
       "      <th>needsRepair</th>\n",
       "    </tr>\n",
       "  </thead>\n",
       "  <tbody>\n",
       "    <tr>\n",
       "      <th>0</th>\n",
       "      <td>480</td>\n",
       "      <td>NaN</td>\n",
       "      <td>1993</td>\n",
       "      <td>manual</td>\n",
       "      <td>0</td>\n",
       "      <td>golf</td>\n",
       "      <td>150000</td>\n",
       "      <td>0</td>\n",
       "      <td>petrol</td>\n",
       "      <td>volkswagen</td>\n",
       "      <td>NaN</td>\n",
       "    </tr>\n",
       "    <tr>\n",
       "      <th>1</th>\n",
       "      <td>18300</td>\n",
       "      <td>coupe</td>\n",
       "      <td>2011</td>\n",
       "      <td>manual</td>\n",
       "      <td>190</td>\n",
       "      <td>NaN</td>\n",
       "      <td>125000</td>\n",
       "      <td>5</td>\n",
       "      <td>gasoline</td>\n",
       "      <td>audi</td>\n",
       "      <td>yes</td>\n",
       "    </tr>\n",
       "    <tr>\n",
       "      <th>2</th>\n",
       "      <td>9800</td>\n",
       "      <td>suv</td>\n",
       "      <td>2004</td>\n",
       "      <td>auto</td>\n",
       "      <td>163</td>\n",
       "      <td>grand</td>\n",
       "      <td>125000</td>\n",
       "      <td>8</td>\n",
       "      <td>gasoline</td>\n",
       "      <td>jeep</td>\n",
       "      <td>NaN</td>\n",
       "    </tr>\n",
       "    <tr>\n",
       "      <th>3</th>\n",
       "      <td>1500</td>\n",
       "      <td>small</td>\n",
       "      <td>2001</td>\n",
       "      <td>manual</td>\n",
       "      <td>75</td>\n",
       "      <td>golf</td>\n",
       "      <td>150000</td>\n",
       "      <td>6</td>\n",
       "      <td>petrol</td>\n",
       "      <td>volkswagen</td>\n",
       "      <td>no</td>\n",
       "    </tr>\n",
       "    <tr>\n",
       "      <th>4</th>\n",
       "      <td>3600</td>\n",
       "      <td>small</td>\n",
       "      <td>2008</td>\n",
       "      <td>manual</td>\n",
       "      <td>69</td>\n",
       "      <td>fabia</td>\n",
       "      <td>90000</td>\n",
       "      <td>7</td>\n",
       "      <td>gasoline</td>\n",
       "      <td>skoda</td>\n",
       "      <td>no</td>\n",
       "    </tr>\n",
       "  </tbody>\n",
       "</table>\n",
       "</div>"
      ],
      "text/plain": [
       "   price   type  regYear   trans   HP  model   miles  regMonth      fuel  \\\n",
       "0    480    NaN     1993  manual    0   golf  150000         0    petrol   \n",
       "1  18300  coupe     2011  manual  190    NaN  125000         5  gasoline   \n",
       "2   9800    suv     2004    auto  163  grand  125000         8  gasoline   \n",
       "3   1500  small     2001  manual   75   golf  150000         6    petrol   \n",
       "4   3600  small     2008  manual   69  fabia   90000         7  gasoline   \n",
       "\n",
       "        brand needsRepair  \n",
       "0  volkswagen         NaN  \n",
       "1        audi         yes  \n",
       "2        jeep         NaN  \n",
       "3  volkswagen          no  \n",
       "4       skoda          no  "
      ]
     },
     "metadata": {},
     "output_type": "display_data"
    }
   ],
   "source": [
    "display(car_df.head(5))"
   ]
  },
  {
   "cell_type": "markdown",
   "metadata": {},
   "source": [
    "<span style=\"color: #5A9BD5; font-size: 22px;\">Check for Missing Values:</span>"
   ]
  },
  {
   "cell_type": "code",
   "execution_count": 11,
   "metadata": {},
   "outputs": [
    {
     "name": "stdout",
     "output_type": "stream",
     "text": [
      "<class 'pandas.core.frame.DataFrame'>\n",
      "RangeIndex: 354369 entries, 0 to 354368\n",
      "Data columns (total 11 columns):\n",
      " #   Column       Non-Null Count   Dtype \n",
      "---  ------       --------------   ----- \n",
      " 0   price        354369 non-null  int64 \n",
      " 1   type         316879 non-null  object\n",
      " 2   regYear      354369 non-null  int64 \n",
      " 3   trans        334536 non-null  object\n",
      " 4   HP           354369 non-null  int64 \n",
      " 5   model        334664 non-null  object\n",
      " 6   miles        354369 non-null  int64 \n",
      " 7   regMonth     354369 non-null  int64 \n",
      " 8   fuel         321474 non-null  object\n",
      " 9   brand        354369 non-null  object\n",
      " 10  needsRepair  283215 non-null  object\n",
      "dtypes: int64(5), object(6)\n",
      "memory usage: 29.7+ MB\n"
     ]
    }
   ],
   "source": [
    "car_df.info()"
   ]
  },
  {
   "cell_type": "markdown",
   "metadata": {},
   "source": [
    "These columns have missing values: 'type', 'trans', 'model', 'fuel', 'needsRepair'."
   ]
  },
  {
   "cell_type": "markdown",
   "metadata": {},
   "source": [
    "<span style=\"color: #5A9BD5; font-size: 16px;\">'type'</span>"
   ]
  },
  {
   "cell_type": "code",
   "execution_count": 12,
   "metadata": {},
   "outputs": [
    {
     "name": "stdout",
     "output_type": "stream",
     "text": [
      "sedan          91457\n",
      "small          79831\n",
      "wagon          65166\n",
      "bus            28775\n",
      "convertible    20203\n",
      "coupe          16163\n",
      "suv            11996\n",
      "other           3288\n",
      "Name: type, dtype: int64\n"
     ]
    }
   ],
   "source": [
    "type_val_counts = car_df['type'].value_counts()\n",
    "\n",
    "print(type_val_counts)"
   ]
  },
  {
   "cell_type": "markdown",
   "metadata": {},
   "source": [
    "<span style=\"color: #5A9BD5; font-size: 16px;\">'trans'</span>"
   ]
  },
  {
   "cell_type": "code",
   "execution_count": 13,
   "metadata": {},
   "outputs": [
    {
     "name": "stdout",
     "output_type": "stream",
     "text": [
      "manual    268251\n",
      "auto       66285\n",
      "Name: trans, dtype: int64\n"
     ]
    }
   ],
   "source": [
    "trans_val_counts = car_df['trans'].value_counts()\n",
    "\n",
    "print(trans_val_counts)"
   ]
  },
  {
   "cell_type": "markdown",
   "metadata": {},
   "source": [
    "<span style=\"color: #5A9BD5; font-size: 16px;\">'model'</span>"
   ]
  },
  {
   "cell_type": "code",
   "execution_count": 14,
   "metadata": {},
   "outputs": [
    {
     "name": "stdout",
     "output_type": "stream",
     "text": [
      "golf                  29232\n",
      "other                 24421\n",
      "3er                   19761\n",
      "polo                  13066\n",
      "corsa                 12570\n",
      "                      ...  \n",
      "i3                        8\n",
      "rangerover                4\n",
      "serie_3                   4\n",
      "range_rover_evoque        2\n",
      "serie_1                   2\n",
      "Name: model, Length: 250, dtype: int64\n"
     ]
    }
   ],
   "source": [
    "model_val_counts = car_df['model'].value_counts()\n",
    "\n",
    "print(model_val_counts)"
   ]
  },
  {
   "cell_type": "markdown",
   "metadata": {},
   "source": [
    "<span style=\"color: #5A9BD5; font-size: 16px;\">'fuel'</span>"
   ]
  },
  {
   "cell_type": "code",
   "execution_count": 15,
   "metadata": {},
   "outputs": [
    {
     "name": "stdout",
     "output_type": "stream",
     "text": [
      "petrol      216352\n",
      "gasoline     98720\n",
      "lpg           5310\n",
      "cng            565\n",
      "hybrid         233\n",
      "other          204\n",
      "electric        90\n",
      "Name: fuel, dtype: int64\n"
     ]
    }
   ],
   "source": [
    "fuel_val_counts = car_df['fuel'].value_counts()\n",
    "\n",
    "print(fuel_val_counts)"
   ]
  },
  {
   "cell_type": "markdown",
   "metadata": {},
   "source": [
    "<span style=\"color: #5A9BD5; font-size: 16px;\">'needsRepair'</span>"
   ]
  },
  {
   "cell_type": "code",
   "execution_count": 16,
   "metadata": {},
   "outputs": [
    {
     "name": "stdout",
     "output_type": "stream",
     "text": [
      "no     247161\n",
      "yes     36054\n",
      "Name: needsRepair, dtype: int64\n"
     ]
    }
   ],
   "source": [
    "repair_val_counts = car_df['needsRepair'].value_counts()\n",
    "\n",
    "print(repair_val_counts)"
   ]
  },
  {
   "cell_type": "markdown",
   "metadata": {},
   "source": [
    "<span style=\"color: #5A9BD5; font-size: 22px;\">Replace missing values, in categorical columns, with the mode:</span>"
   ]
  },
  {
   "cell_type": "code",
   "execution_count": 17,
   "metadata": {},
   "outputs": [],
   "source": [
    "categorical_columns = ['type', 'trans', 'model', 'fuel', 'needsRepair']\n",
    "\n",
    "for column in categorical_columns:\n",
    "    car_df[column].fillna(car_df[column].mode()[0], inplace=True)"
   ]
  },
  {
   "cell_type": "markdown",
   "metadata": {},
   "source": [
    "<span style=\"color: #5A9BD5; font-size: 22px;\">Check for NaN Values:</span>"
   ]
  },
  {
   "cell_type": "code",
   "execution_count": 18,
   "metadata": {},
   "outputs": [
    {
     "name": "stdout",
     "output_type": "stream",
     "text": [
      "Number of NaN values in 'price': 0\n"
     ]
    }
   ],
   "source": [
    "nan_count_price = car_df['price'].isna().sum()\n",
    "print(f\"Number of NaN values in 'price': {nan_count_price}\")"
   ]
  },
  {
   "cell_type": "code",
   "execution_count": 19,
   "metadata": {},
   "outputs": [
    {
     "name": "stdout",
     "output_type": "stream",
     "text": [
      "Number of rows with NaN values: 0\n"
     ]
    }
   ],
   "source": [
    "# Count rows with any NaN values\n",
    "nan_count = car_df.isna().any(axis=1).sum()\n",
    "print(f\"Number of rows with NaN values: {nan_count}\")"
   ]
  },
  {
   "cell_type": "code",
   "execution_count": 20,
   "metadata": {},
   "outputs": [
    {
     "name": "stdout",
     "output_type": "stream",
     "text": [
      "<class 'pandas.core.frame.DataFrame'>\n",
      "RangeIndex: 354369 entries, 0 to 354368\n",
      "Data columns (total 11 columns):\n",
      " #   Column       Non-Null Count   Dtype \n",
      "---  ------       --------------   ----- \n",
      " 0   price        354369 non-null  int64 \n",
      " 1   type         354369 non-null  object\n",
      " 2   regYear      354369 non-null  int64 \n",
      " 3   trans        354369 non-null  object\n",
      " 4   HP           354369 non-null  int64 \n",
      " 5   model        354369 non-null  object\n",
      " 6   miles        354369 non-null  int64 \n",
      " 7   regMonth     354369 non-null  int64 \n",
      " 8   fuel         354369 non-null  object\n",
      " 9   brand        354369 non-null  object\n",
      " 10  needsRepair  354369 non-null  object\n",
      "dtypes: int64(5), object(6)\n",
      "memory usage: 29.7+ MB\n"
     ]
    }
   ],
   "source": [
    "car_df.info()"
   ]
  },
  {
   "cell_type": "markdown",
   "metadata": {},
   "source": [
    "<span style=\"color: #5A9BD5; font-size: 22px;\">Further examine the data:</span>"
   ]
  },
  {
   "cell_type": "code",
   "execution_count": 21,
   "metadata": {},
   "outputs": [
    {
     "data": {
      "text/html": [
       "<div>\n",
       "<style scoped>\n",
       "    .dataframe tbody tr th:only-of-type {\n",
       "        vertical-align: middle;\n",
       "    }\n",
       "\n",
       "    .dataframe tbody tr th {\n",
       "        vertical-align: top;\n",
       "    }\n",
       "\n",
       "    .dataframe thead th {\n",
       "        text-align: right;\n",
       "    }\n",
       "</style>\n",
       "<table border=\"1\" class=\"dataframe\">\n",
       "  <thead>\n",
       "    <tr style=\"text-align: right;\">\n",
       "      <th></th>\n",
       "      <th>price</th>\n",
       "      <th>regYear</th>\n",
       "      <th>HP</th>\n",
       "      <th>miles</th>\n",
       "      <th>regMonth</th>\n",
       "    </tr>\n",
       "  </thead>\n",
       "  <tbody>\n",
       "    <tr>\n",
       "      <th>count</th>\n",
       "      <td>354369.000000</td>\n",
       "      <td>354369.000000</td>\n",
       "      <td>354369.000000</td>\n",
       "      <td>354369.000000</td>\n",
       "      <td>354369.000000</td>\n",
       "    </tr>\n",
       "    <tr>\n",
       "      <th>mean</th>\n",
       "      <td>4416.656776</td>\n",
       "      <td>2004.234448</td>\n",
       "      <td>110.094337</td>\n",
       "      <td>128211.172535</td>\n",
       "      <td>5.714645</td>\n",
       "    </tr>\n",
       "    <tr>\n",
       "      <th>std</th>\n",
       "      <td>4514.158514</td>\n",
       "      <td>90.227958</td>\n",
       "      <td>189.850405</td>\n",
       "      <td>37905.341530</td>\n",
       "      <td>3.726421</td>\n",
       "    </tr>\n",
       "    <tr>\n",
       "      <th>min</th>\n",
       "      <td>0.000000</td>\n",
       "      <td>1000.000000</td>\n",
       "      <td>0.000000</td>\n",
       "      <td>5000.000000</td>\n",
       "      <td>0.000000</td>\n",
       "    </tr>\n",
       "    <tr>\n",
       "      <th>25%</th>\n",
       "      <td>1050.000000</td>\n",
       "      <td>1999.000000</td>\n",
       "      <td>69.000000</td>\n",
       "      <td>125000.000000</td>\n",
       "      <td>3.000000</td>\n",
       "    </tr>\n",
       "    <tr>\n",
       "      <th>50%</th>\n",
       "      <td>2700.000000</td>\n",
       "      <td>2003.000000</td>\n",
       "      <td>105.000000</td>\n",
       "      <td>150000.000000</td>\n",
       "      <td>6.000000</td>\n",
       "    </tr>\n",
       "    <tr>\n",
       "      <th>75%</th>\n",
       "      <td>6400.000000</td>\n",
       "      <td>2008.000000</td>\n",
       "      <td>143.000000</td>\n",
       "      <td>150000.000000</td>\n",
       "      <td>9.000000</td>\n",
       "    </tr>\n",
       "    <tr>\n",
       "      <th>max</th>\n",
       "      <td>20000.000000</td>\n",
       "      <td>9999.000000</td>\n",
       "      <td>20000.000000</td>\n",
       "      <td>150000.000000</td>\n",
       "      <td>12.000000</td>\n",
       "    </tr>\n",
       "  </tbody>\n",
       "</table>\n",
       "</div>"
      ],
      "text/plain": [
       "               price        regYear             HP          miles  \\\n",
       "count  354369.000000  354369.000000  354369.000000  354369.000000   \n",
       "mean     4416.656776    2004.234448     110.094337  128211.172535   \n",
       "std      4514.158514      90.227958     189.850405   37905.341530   \n",
       "min         0.000000    1000.000000       0.000000    5000.000000   \n",
       "25%      1050.000000    1999.000000      69.000000  125000.000000   \n",
       "50%      2700.000000    2003.000000     105.000000  150000.000000   \n",
       "75%      6400.000000    2008.000000     143.000000  150000.000000   \n",
       "max     20000.000000    9999.000000   20000.000000  150000.000000   \n",
       "\n",
       "            regMonth  \n",
       "count  354369.000000  \n",
       "mean        5.714645  \n",
       "std         3.726421  \n",
       "min         0.000000  \n",
       "25%         3.000000  \n",
       "50%         6.000000  \n",
       "75%         9.000000  \n",
       "max        12.000000  "
      ]
     },
     "execution_count": 21,
     "metadata": {},
     "output_type": "execute_result"
    }
   ],
   "source": [
    "car_df.describe()"
   ]
  },
  {
   "cell_type": "markdown",
   "metadata": {},
   "source": [
    "- The average price of a car is \\$4,416.\n",
    "- The average year, for registration, is 2004.\n",
    "- The average horsepower is 110.\n",
    "- The average miles on a car are 128,211.\n",
    "- The average month, for registration is late May."
   ]
  },
  {
   "cell_type": "markdown",
   "metadata": {},
   "source": [
    "<span style=\"color: #5A9BD5; font-size: 16px;\">'brand'</span>"
   ]
  },
  {
   "cell_type": "code",
   "execution_count": 22,
   "metadata": {},
   "outputs": [
    {
     "name": "stdout",
     "output_type": "stream",
     "text": [
      "volkswagen        77013\n",
      "opel              39931\n",
      "bmw               36914\n",
      "mercedes_benz     32046\n",
      "audi              29456\n",
      "ford              25179\n",
      "renault           17927\n",
      "peugeot           10998\n",
      "fiat               9643\n",
      "seat               6907\n",
      "mazda              5615\n",
      "skoda              5500\n",
      "smart              5246\n",
      "citroen            5148\n",
      "nissan             4941\n",
      "toyota             4606\n",
      "hyundai            3587\n",
      "sonstige_autos     3374\n",
      "volvo              3210\n",
      "mini               3202\n",
      "mitsubishi         3022\n",
      "honda              2817\n",
      "kia                2465\n",
      "suzuki             2323\n",
      "alfa_romeo         2314\n",
      "chevrolet          1754\n",
      "chrysler           1439\n",
      "dacia               900\n",
      "daihatsu            806\n",
      "subaru              762\n",
      "porsche             758\n",
      "jeep                677\n",
      "trabant             589\n",
      "land_rover          545\n",
      "daewoo              542\n",
      "saab                526\n",
      "jaguar              505\n",
      "rover               486\n",
      "lancia              471\n",
      "lada                225\n",
      "Name: brand, dtype: int64\n"
     ]
    }
   ],
   "source": [
    "values_count_brand = car_df['brand'].value_counts(dropna=False)\n",
    "print(values_count_brand)"
   ]
  },
  {
   "cell_type": "markdown",
   "metadata": {},
   "source": [
    "<span style=\"color: #5A9BD5; font-size: 16px;\">'regYear'</span>"
   ]
  },
  {
   "cell_type": "code",
   "execution_count": 23,
   "metadata": {},
   "outputs": [
    {
     "name": "stdout",
     "output_type": "stream",
     "text": [
      "1000    37\n",
      "1001     1\n",
      "1039     1\n",
      "1111     3\n",
      "1200     1\n",
      "        ..\n",
      "9000     3\n",
      "9229     1\n",
      "9450     1\n",
      "9996     1\n",
      "9999    26\n",
      "Name: regYear, Length: 151, dtype: int64\n"
     ]
    }
   ],
   "source": [
    "value_counts_regYear_after = car_df['regYear'].value_counts(dropna=False)\n",
    "sorted_by_year_after = value_counts_regYear_after.sort_index()\n",
    "\n",
    "# Display the sorted counts after filtering\n",
    "print(sorted_by_year_after)"
   ]
  },
  {
   "cell_type": "markdown",
   "metadata": {},
   "source": [
    "There are values here, for Registration Year, that are 900 years before the car was even invented, so obviously those years are incorrect. There are years here that are years in the future, such as the year 9999. So, those erroeous years need to be filtered out."
   ]
  },
  {
   "cell_type": "code",
   "execution_count": 24,
   "metadata": {},
   "outputs": [],
   "source": [
    "car_df = car_df[(car_df['regYear'] >= 1910) & (car_df['regYear'] < 2020)]                                                               "
   ]
  },
  {
   "cell_type": "code",
   "execution_count": 25,
   "metadata": {},
   "outputs": [
    {
     "name": "stdout",
     "output_type": "stream",
     "text": [
      "Value counts after filtering:\n",
      "1910      101\n",
      "1915        1\n",
      "1919        1\n",
      "1920        1\n",
      "1923        2\n",
      "        ...  \n",
      "2015     1302\n",
      "2016     9599\n",
      "2017    10441\n",
      "2018     3959\n",
      "2019       25\n",
      "Name: regYear, Length: 98, dtype: int64\n"
     ]
    }
   ],
   "source": [
    "value_counts_regYear_after_filter = car_df['regYear'].value_counts(dropna=False).sort_index()\n",
    "sorted_by_year_after_ = value_counts_regYear_after_filter.sort_index()\n",
    "\n",
    "print(\"Value counts after filtering:\")\n",
    "print(sorted_by_year_after_)"
   ]
  },
  {
   "cell_type": "markdown",
   "metadata": {},
   "source": [
    "<span style=\"color: #5A9BD5; font-size: 16px;\">'trans'</span>"
   ]
  },
  {
   "cell_type": "code",
   "execution_count": 26,
   "metadata": {},
   "outputs": [
    {
     "data": {
      "text/plain": [
       "manual    287920\n",
       "auto       66278\n",
       "Name: trans, dtype: int64"
      ]
     },
     "execution_count": 26,
     "metadata": {},
     "output_type": "execute_result"
    }
   ],
   "source": [
    "car_df.trans.value_counts()"
   ]
  },
  {
   "cell_type": "markdown",
   "metadata": {},
   "source": [
    "<span style=\"color: #5A9BD5; font-size: 16px;\">'model'</span>"
   ]
  },
  {
   "cell_type": "code",
   "execution_count": 27,
   "metadata": {},
   "outputs": [
    {
     "data": {
      "text/plain": [
       "golf                  48848\n",
       "other                 24403\n",
       "3er                   19756\n",
       "polo                  13063\n",
       "corsa                 12564\n",
       "                      ...  \n",
       "i3                        8\n",
       "rangerover                4\n",
       "serie_3                   4\n",
       "range_rover_evoque        2\n",
       "serie_1                   2\n",
       "Name: model, Length: 250, dtype: int64"
      ]
     },
     "execution_count": 27,
     "metadata": {},
     "output_type": "execute_result"
    }
   ],
   "source": [
    "car_df.model.value_counts()"
   ]
  },
  {
   "cell_type": "markdown",
   "metadata": {},
   "source": [
    "<span style=\"color: #5A9BD5; font-size: 16px;\">'miles'</span>"
   ]
  },
  {
   "cell_type": "code",
   "execution_count": 28,
   "metadata": {},
   "outputs": [
    {
     "data": {
      "text/plain": [
       "150000    238205\n",
       "125000     36453\n",
       "100000     14881\n",
       "90000      11567\n",
       "80000      10047\n",
       "70000       8593\n",
       "60000       7444\n",
       "5000        6289\n",
       "50000       6232\n",
       "40000       4911\n",
       "30000       4436\n",
       "20000       3975\n",
       "10000       1165\n",
       "Name: miles, dtype: int64"
      ]
     },
     "execution_count": 28,
     "metadata": {},
     "output_type": "execute_result"
    }
   ],
   "source": [
    "car_df.miles.value_counts()"
   ]
  },
  {
   "cell_type": "code",
   "execution_count": 29,
   "metadata": {},
   "outputs": [
    {
     "data": {
      "text/plain": [
       "150000"
      ]
     },
     "execution_count": 29,
     "metadata": {},
     "output_type": "execute_result"
    }
   ],
   "source": [
    "car_df.miles.max()"
   ]
  },
  {
   "cell_type": "code",
   "execution_count": 30,
   "metadata": {},
   "outputs": [
    {
     "data": {
      "text/plain": [
       "5000"
      ]
     },
     "execution_count": 30,
     "metadata": {},
     "output_type": "execute_result"
    }
   ],
   "source": [
    "car_df.miles.min()"
   ]
  },
  {
   "cell_type": "markdown",
   "metadata": {},
   "source": [
    "<span style=\"color: #5A9BD5; font-size: 16px;\">'regMonth'</span>"
   ]
  },
  {
   "cell_type": "code",
   "execution_count": 31,
   "metadata": {
    "scrolled": true
   },
   "outputs": [
    {
     "name": "stdout",
     "output_type": "stream",
     "text": [
      "12    24287\n",
      "11    24184\n",
      "10    26098\n",
      "9     23811\n",
      "8     22626\n",
      "7     27210\n",
      "6     31501\n",
      "5     29149\n",
      "4     29266\n",
      "3     34368\n",
      "2     21264\n",
      "1     23214\n",
      "0     37220\n",
      "Name: regMonth, dtype: int64\n"
     ]
    }
   ],
   "source": [
    "sorted_counts_regMonth_desc = car_df['regMonth'].value_counts().sort_index(ascending=False)\n",
    "print(sorted_counts_regMonth_desc)"
   ]
  },
  {
   "cell_type": "code",
   "execution_count": 32,
   "metadata": {},
   "outputs": [
    {
     "name": "stdout",
     "output_type": "stream",
     "text": [
      "354198\n"
     ]
    }
   ],
   "source": [
    "print(len(car_df))"
   ]
  },
  {
   "cell_type": "markdown",
   "metadata": {},
   "source": [
    "There are 13 months here. Since month 0 is disproportionally valued ( being more than 10 \\% of the rows ), I will assume that month 0 is meant to represent a missing value. I will not remove these rows, as these rows contain valueable data in their other columns."
   ]
  },
  {
   "cell_type": "markdown",
   "metadata": {},
   "source": [
    "<span style=\"color: #5A9BD5; font-size: 22px;\">Look for outliers:</span>"
   ]
  },
  {
   "cell_type": "code",
   "execution_count": 33,
   "metadata": {},
   "outputs": [
    {
     "data": {
      "image/png": "[encoded data removed]",
      "text/plain": [
       "<Figure size 640x480 with 1 Axes>"
      ]
     },
     "metadata": {},
     "output_type": "display_data"
    }
   ],
   "source": [
    "car_df.boxplot(column=['price'])\n",
    "plt.show()"
   ]
  },
  {
   "cell_type": "code",
   "execution_count": 34,
   "metadata": {},
   "outputs": [
    {
     "data": {
      "image/png": "[encoded data removed]",
      "text/plain": [
       "<Figure size 640x480 with 1 Axes>"
      ]
     },
     "metadata": {},
     "output_type": "display_data"
    }
   ],
   "source": [
    "car_df.boxplot(column=['miles'])\n",
    "plt.show()"
   ]
  },
  {
   "cell_type": "code",
   "execution_count": 35,
   "metadata": {
    "scrolled": true
   },
   "outputs": [
    {
     "data": {
      "image/png": "[encoded data removed]",
      "text/plain": [
       "<Figure size 640x480 with 1 Axes>"
      ]
     },
     "metadata": {},
     "output_type": "display_data"
    }
   ],
   "source": [
    "car_df.boxplot(column=['HP'])\n",
    "plt.show()"
   ]
  },
  {
   "cell_type": "markdown",
   "metadata": {},
   "source": [
    "HP will need to have some outliers removed."
   ]
  },
  {
   "cell_type": "code",
   "execution_count": 36,
   "metadata": {},
   "outputs": [
    {
     "name": "stdout",
     "output_type": "stream",
     "text": [
      "<bound method NDFrame.sample of 0        40098\n",
      "1           34\n",
      "2           10\n",
      "3            8\n",
      "4           30\n",
      "         ...  \n",
      "17932        1\n",
      "19208        1\n",
      "19211        1\n",
      "19312        1\n",
      "20000        1\n",
      "Name: HP, Length: 711, dtype: int64>\n"
     ]
    }
   ],
   "source": [
    "values_count_HP = car_df['HP'].value_counts().sort_index()\n",
    "print(values_count_HP.sample)"
   ]
  },
  {
   "cell_type": "code",
   "execution_count": 37,
   "metadata": {},
   "outputs": [
    {
     "data": {
      "text/plain": [
       "20000"
      ]
     },
     "execution_count": 37,
     "metadata": {},
     "output_type": "execute_result"
    }
   ],
   "source": [
    "car_df.HP.max()"
   ]
  },
  {
   "cell_type": "code",
   "execution_count": 38,
   "metadata": {},
   "outputs": [
    {
     "data": {
      "text/plain": [
       "0"
      ]
     },
     "execution_count": 38,
     "metadata": {},
     "output_type": "execute_result"
    }
   ],
   "source": [
    "car_df.HP.min()"
   ]
  },
  {
   "cell_type": "markdown",
   "metadata": {},
   "source": [
    "20,000 is the highest value for horsepower. Zero is the lowest horsepower in this dataset."
   ]
  },
  {
   "cell_type": "markdown",
   "metadata": {},
   "source": [
    "In reality, there are really no cars that have horsepower of 0, nor of 20,000. There are super high end cars that have horsepower as high as 1900, but none of those brands are in this dataset. I will drop rows that have horsepower higher than 1200.  I will not drop the rows that have a zero value,  I will assume that zero was intended to mean a missing value. "
   ]
  },
  {
   "cell_type": "code",
   "execution_count": 39,
   "metadata": {},
   "outputs": [
    {
     "name": "stdout",
     "output_type": "stream",
     "text": [
      "Percentage of rows to be dropped: \n",
      "0.000705819908638671\n"
     ]
    }
   ],
   "source": [
    "hp_above_1200 = car_df.loc[car_df['HP'] > 1200]\n",
    "\n",
    "count_hp_above_1200 = len(hp_above_1200)\n",
    "\n",
    "print(\"Percentage of rows to be dropped: \")\n",
    "print(count_hp_above_1200 / len(car_df))"
   ]
  },
  {
   "cell_type": "markdown",
   "metadata": {},
   "source": [
    "I will be dropping 250 rows. This is far less than one percent of the total rows."
   ]
  },
  {
   "cell_type": "code",
   "execution_count": 40,
   "metadata": {},
   "outputs": [],
   "source": [
    "car_df = car_df[car_df['HP'] <= 1200]"
   ]
  },
  {
   "cell_type": "code",
   "execution_count": 41,
   "metadata": {},
   "outputs": [
    {
     "name": "stdout",
     "output_type": "stream",
     "text": [
      "<class 'pandas.core.frame.DataFrame'>\n",
      "Int64Index: 353948 entries, 0 to 354368\n",
      "Data columns (total 11 columns):\n",
      " #   Column       Non-Null Count   Dtype \n",
      "---  ------       --------------   ----- \n",
      " 0   price        353948 non-null  int64 \n",
      " 1   type         353948 non-null  object\n",
      " 2   regYear      353948 non-null  int64 \n",
      " 3   trans        353948 non-null  object\n",
      " 4   HP           353948 non-null  int64 \n",
      " 5   model        353948 non-null  object\n",
      " 6   miles        353948 non-null  int64 \n",
      " 7   regMonth     353948 non-null  int64 \n",
      " 8   fuel         353948 non-null  object\n",
      " 9   brand        353948 non-null  object\n",
      " 10  needsRepair  353948 non-null  object\n",
      "dtypes: int64(5), object(6)\n",
      "memory usage: 32.4+ MB\n"
     ]
    }
   ],
   "source": [
    "car_df.info()"
   ]
  },
  {
   "cell_type": "code",
   "execution_count": 42,
   "metadata": {},
   "outputs": [
    {
     "data": {
      "text/plain": [
       "421"
      ]
     },
     "execution_count": 42,
     "metadata": {},
     "output_type": "execute_result"
    }
   ],
   "source": [
    "354369 - 353948"
   ]
  },
  {
   "cell_type": "markdown",
   "metadata": {},
   "source": [
    "In total, 421 rows got dropped, from the original 354,369 rows.\n",
    "Data is clean now."
   ]
  },
  {
   "cell_type": "markdown",
   "metadata": {},
   "source": [
    "<span style=\"color: #5A9BD5; font-size: 22px;\">Ordinal Encoding:</span>"
   ]
  },
  {
   "cell_type": "code",
   "execution_count": 43,
   "metadata": {},
   "outputs": [],
   "source": [
    "ordinal_encoder = OrdinalEncoder()"
   ]
  },
  {
   "cell_type": "code",
   "execution_count": 44,
   "metadata": {},
   "outputs": [],
   "source": [
    "# List of columns to encode\n",
    "columns_to_encode = ['type', 'trans', 'model', 'fuel', 'brand', 'needsRepair']"
   ]
  },
  {
   "cell_type": "code",
   "execution_count": 45,
   "metadata": {},
   "outputs": [],
   "source": [
    "car_df[columns_to_encode] = ordinal_encoder.fit_transform(car_df[columns_to_encode])"
   ]
  },
  {
   "cell_type": "code",
   "execution_count": 46,
   "metadata": {},
   "outputs": [
    {
     "data": {
      "text/html": [
       "<div>\n",
       "<style scoped>\n",
       "    .dataframe tbody tr th:only-of-type {\n",
       "        vertical-align: middle;\n",
       "    }\n",
       "\n",
       "    .dataframe tbody tr th {\n",
       "        vertical-align: top;\n",
       "    }\n",
       "\n",
       "    .dataframe thead th {\n",
       "        text-align: right;\n",
       "    }\n",
       "</style>\n",
       "<table border=\"1\" class=\"dataframe\">\n",
       "  <thead>\n",
       "    <tr style=\"text-align: right;\">\n",
       "      <th></th>\n",
       "      <th>price</th>\n",
       "      <th>type</th>\n",
       "      <th>regYear</th>\n",
       "      <th>trans</th>\n",
       "      <th>HP</th>\n",
       "      <th>model</th>\n",
       "      <th>miles</th>\n",
       "      <th>regMonth</th>\n",
       "      <th>fuel</th>\n",
       "      <th>brand</th>\n",
       "      <th>needsRepair</th>\n",
       "    </tr>\n",
       "  </thead>\n",
       "  <tbody>\n",
       "    <tr>\n",
       "      <th>354359</th>\n",
       "      <td>7900</td>\n",
       "      <td>4.0</td>\n",
       "      <td>2010</td>\n",
       "      <td>1.0</td>\n",
       "      <td>140</td>\n",
       "      <td>116.0</td>\n",
       "      <td>150000</td>\n",
       "      <td>7</td>\n",
       "      <td>2.0</td>\n",
       "      <td>38.0</td>\n",
       "      <td>0.0</td>\n",
       "    </tr>\n",
       "    <tr>\n",
       "      <th>354360</th>\n",
       "      <td>3999</td>\n",
       "      <td>7.0</td>\n",
       "      <td>2005</td>\n",
       "      <td>1.0</td>\n",
       "      <td>3</td>\n",
       "      <td>11.0</td>\n",
       "      <td>150000</td>\n",
       "      <td>5</td>\n",
       "      <td>2.0</td>\n",
       "      <td>2.0</td>\n",
       "      <td>0.0</td>\n",
       "    </tr>\n",
       "    <tr>\n",
       "      <th>354361</th>\n",
       "      <td>5250</td>\n",
       "      <td>4.0</td>\n",
       "      <td>2016</td>\n",
       "      <td>0.0</td>\n",
       "      <td>150</td>\n",
       "      <td>4.0</td>\n",
       "      <td>150000</td>\n",
       "      <td>12</td>\n",
       "      <td>6.0</td>\n",
       "      <td>0.0</td>\n",
       "      <td>0.0</td>\n",
       "    </tr>\n",
       "    <tr>\n",
       "      <th>354362</th>\n",
       "      <td>3200</td>\n",
       "      <td>4.0</td>\n",
       "      <td>2004</td>\n",
       "      <td>1.0</td>\n",
       "      <td>225</td>\n",
       "      <td>140.0</td>\n",
       "      <td>150000</td>\n",
       "      <td>5</td>\n",
       "      <td>6.0</td>\n",
       "      <td>30.0</td>\n",
       "      <td>1.0</td>\n",
       "    </tr>\n",
       "    <tr>\n",
       "      <th>354363</th>\n",
       "      <td>1150</td>\n",
       "      <td>0.0</td>\n",
       "      <td>2000</td>\n",
       "      <td>1.0</td>\n",
       "      <td>0</td>\n",
       "      <td>249.0</td>\n",
       "      <td>150000</td>\n",
       "      <td>3</td>\n",
       "      <td>6.0</td>\n",
       "      <td>24.0</td>\n",
       "      <td>0.0</td>\n",
       "    </tr>\n",
       "    <tr>\n",
       "      <th>354364</th>\n",
       "      <td>0</td>\n",
       "      <td>4.0</td>\n",
       "      <td>2005</td>\n",
       "      <td>1.0</td>\n",
       "      <td>0</td>\n",
       "      <td>78.0</td>\n",
       "      <td>150000</td>\n",
       "      <td>7</td>\n",
       "      <td>6.0</td>\n",
       "      <td>22.0</td>\n",
       "      <td>1.0</td>\n",
       "    </tr>\n",
       "    <tr>\n",
       "      <th>354365</th>\n",
       "      <td>2200</td>\n",
       "      <td>4.0</td>\n",
       "      <td>2005</td>\n",
       "      <td>1.0</td>\n",
       "      <td>0</td>\n",
       "      <td>116.0</td>\n",
       "      <td>20000</td>\n",
       "      <td>1</td>\n",
       "      <td>6.0</td>\n",
       "      <td>33.0</td>\n",
       "      <td>0.0</td>\n",
       "    </tr>\n",
       "    <tr>\n",
       "      <th>354366</th>\n",
       "      <td>1199</td>\n",
       "      <td>1.0</td>\n",
       "      <td>2000</td>\n",
       "      <td>0.0</td>\n",
       "      <td>101</td>\n",
       "      <td>106.0</td>\n",
       "      <td>125000</td>\n",
       "      <td>3</td>\n",
       "      <td>6.0</td>\n",
       "      <td>32.0</td>\n",
       "      <td>0.0</td>\n",
       "    </tr>\n",
       "    <tr>\n",
       "      <th>354367</th>\n",
       "      <td>9200</td>\n",
       "      <td>0.0</td>\n",
       "      <td>1996</td>\n",
       "      <td>1.0</td>\n",
       "      <td>102</td>\n",
       "      <td>224.0</td>\n",
       "      <td>150000</td>\n",
       "      <td>3</td>\n",
       "      <td>2.0</td>\n",
       "      <td>38.0</td>\n",
       "      <td>0.0</td>\n",
       "    </tr>\n",
       "    <tr>\n",
       "      <th>354368</th>\n",
       "      <td>3400</td>\n",
       "      <td>7.0</td>\n",
       "      <td>2002</td>\n",
       "      <td>1.0</td>\n",
       "      <td>100</td>\n",
       "      <td>116.0</td>\n",
       "      <td>150000</td>\n",
       "      <td>6</td>\n",
       "      <td>2.0</td>\n",
       "      <td>38.0</td>\n",
       "      <td>0.0</td>\n",
       "    </tr>\n",
       "  </tbody>\n",
       "</table>\n",
       "</div>"
      ],
      "text/plain": [
       "        price  type  regYear  trans   HP  model   miles  regMonth  fuel  \\\n",
       "354359   7900   4.0     2010    1.0  140  116.0  150000         7   2.0   \n",
       "354360   3999   7.0     2005    1.0    3   11.0  150000         5   2.0   \n",
       "354361   5250   4.0     2016    0.0  150    4.0  150000        12   6.0   \n",
       "354362   3200   4.0     2004    1.0  225  140.0  150000         5   6.0   \n",
       "354363   1150   0.0     2000    1.0    0  249.0  150000         3   6.0   \n",
       "354364      0   4.0     2005    1.0    0   78.0  150000         7   6.0   \n",
       "354365   2200   4.0     2005    1.0    0  116.0   20000         1   6.0   \n",
       "354366   1199   1.0     2000    0.0  101  106.0  125000         3   6.0   \n",
       "354367   9200   0.0     1996    1.0  102  224.0  150000         3   2.0   \n",
       "354368   3400   7.0     2002    1.0  100  116.0  150000         6   2.0   \n",
       "\n",
       "        brand  needsRepair  \n",
       "354359   38.0          0.0  \n",
       "354360    2.0          0.0  \n",
       "354361    0.0          0.0  \n",
       "354362   30.0          1.0  \n",
       "354363   24.0          0.0  \n",
       "354364   22.0          1.0  \n",
       "354365   33.0          0.0  \n",
       "354366   32.0          0.0  \n",
       "354367   38.0          0.0  \n",
       "354368   38.0          0.0  "
      ]
     },
     "metadata": {},
     "output_type": "display_data"
    }
   ],
   "source": [
    "display(car_df.tail(10))"
   ]
  },
  {
   "cell_type": "markdown",
   "metadata": {},
   "source": [
    "<b>Explanation of columns:</b>\n",
    "\n",
    "<b>Features</b>\n",
    "- `datecrawled` ... date profile was downloaded from the database <span style=\"color: red;\">(this column has been removed)</span>\n",
    "- `type` ... vehicle body type\n",
    "- `regYear` ... vehicle registration year\n",
    "- `trans` ... gearbox type (transmission)\n",
    "- `HP` ... horsepower\n",
    "- `model` ... vehicle model\n",
    "- `miles` ... mileage (measured in km)\n",
    "- `regMonth` ... vehicle registration month\n",
    "- `fuel` ... fuel type\n",
    "- `brand` ... vehicle brand\n",
    "- `needsRepair` ... vehicle repaired or not\n",
    "- `dateCreated` ... date of profile creation  <span style=\"color: red;\">(this column has been removed)</span>\n",
    "- `numPics` ... number of vehicle pictures <span style=\"color: red;\">(this column has been removed, as all values were '0'.)</span>\n",
    "- `zip` ... postal code of profile owner (user)  <span style=\"color: red;\">(this column has been removed)</span>\n",
    "- `lastSeen` ... date of the last activity of the user  <span style=\"color: red;\">(this column has been removed)</span>\n",
    "                       \n",
    "<b>Target</b>\n",
    "- `price` — price (Euro)"
   ]
  },
  {
   "cell_type": "markdown",
   "metadata": {},
   "source": [
    "<div class=\"alert alert-block alert-success\">\n",
    "<b>Reviewer's comment</b> <a class=\"tocSkip\"></a>\n",
    "\n",
    "Excellent preprocessing!\n",
    "</div>"
   ]
  },
  {
   "cell_type": "markdown",
   "metadata": {},
   "source": [
    "## Model training"
   ]
  },
  {
   "cell_type": "markdown",
   "metadata": {},
   "source": [
    "<span style=\"color: #5A9BD5; font-size: 22px;\">Split data:</span>"
   ]
  },
  {
   "cell_type": "code",
   "execution_count": 47,
   "metadata": {},
   "outputs": [],
   "source": [
    "# Split the data into training and testing sets\n",
    "index_train_valid, index_test = train_test_split(car_df.index, test_size=0.2, random_state=12345)\n",
    "index_train, index_valid = train_test_split(index_train_valid, test_size=0.25, random_state=54321)"
   ]
  },
  {
   "cell_type": "code",
   "execution_count": 48,
   "metadata": {},
   "outputs": [],
   "source": [
    "data_train = car_df.loc[index_train]\n",
    "data_valid = car_df.loc[index_valid]\n",
    "data_test = car_df.loc[index_test]"
   ]
  },
  {
   "cell_type": "code",
   "execution_count": 49,
   "metadata": {},
   "outputs": [
    {
     "data": {
      "text/html": [
       "<div>\n",
       "<style scoped>\n",
       "    .dataframe tbody tr th:only-of-type {\n",
       "        vertical-align: middle;\n",
       "    }\n",
       "\n",
       "    .dataframe tbody tr th {\n",
       "        vertical-align: top;\n",
       "    }\n",
       "\n",
       "    .dataframe thead th {\n",
       "        text-align: right;\n",
       "    }\n",
       "</style>\n",
       "<table border=\"1\" class=\"dataframe\">\n",
       "  <thead>\n",
       "    <tr style=\"text-align: right;\">\n",
       "      <th></th>\n",
       "      <th>price</th>\n",
       "      <th>type</th>\n",
       "      <th>regYear</th>\n",
       "      <th>trans</th>\n",
       "      <th>HP</th>\n",
       "      <th>model</th>\n",
       "      <th>miles</th>\n",
       "      <th>regMonth</th>\n",
       "      <th>fuel</th>\n",
       "      <th>brand</th>\n",
       "      <th>needsRepair</th>\n",
       "    </tr>\n",
       "  </thead>\n",
       "  <tbody>\n",
       "    <tr>\n",
       "      <th>94790</th>\n",
       "      <td>1900</td>\n",
       "      <td>1.0</td>\n",
       "      <td>2016</td>\n",
       "      <td>1.0</td>\n",
       "      <td>0</td>\n",
       "      <td>116.0</td>\n",
       "      <td>150000</td>\n",
       "      <td>0</td>\n",
       "      <td>6.0</td>\n",
       "      <td>38.0</td>\n",
       "      <td>0.0</td>\n",
       "    </tr>\n",
       "    <tr>\n",
       "      <th>230505</th>\n",
       "      <td>1200</td>\n",
       "      <td>5.0</td>\n",
       "      <td>2001</td>\n",
       "      <td>1.0</td>\n",
       "      <td>60</td>\n",
       "      <td>173.0</td>\n",
       "      <td>150000</td>\n",
       "      <td>5</td>\n",
       "      <td>6.0</td>\n",
       "      <td>38.0</td>\n",
       "      <td>0.0</td>\n",
       "    </tr>\n",
       "    <tr>\n",
       "      <th>83261</th>\n",
       "      <td>2190</td>\n",
       "      <td>4.0</td>\n",
       "      <td>2000</td>\n",
       "      <td>1.0</td>\n",
       "      <td>75</td>\n",
       "      <td>116.0</td>\n",
       "      <td>150000</td>\n",
       "      <td>11</td>\n",
       "      <td>6.0</td>\n",
       "      <td>38.0</td>\n",
       "      <td>0.0</td>\n",
       "    </tr>\n",
       "    <tr>\n",
       "      <th>165737</th>\n",
       "      <td>1600</td>\n",
       "      <td>4.0</td>\n",
       "      <td>2006</td>\n",
       "      <td>1.0</td>\n",
       "      <td>90</td>\n",
       "      <td>214.0</td>\n",
       "      <td>125000</td>\n",
       "      <td>7</td>\n",
       "      <td>6.0</td>\n",
       "      <td>9.0</td>\n",
       "      <td>0.0</td>\n",
       "    </tr>\n",
       "    <tr>\n",
       "      <th>105612</th>\n",
       "      <td>11000</td>\n",
       "      <td>4.0</td>\n",
       "      <td>2012</td>\n",
       "      <td>1.0</td>\n",
       "      <td>136</td>\n",
       "      <td>6.0</td>\n",
       "      <td>80000</td>\n",
       "      <td>8</td>\n",
       "      <td>6.0</td>\n",
       "      <td>2.0</td>\n",
       "      <td>0.0</td>\n",
       "    </tr>\n",
       "    <tr>\n",
       "      <th>...</th>\n",
       "      <td>...</td>\n",
       "      <td>...</td>\n",
       "      <td>...</td>\n",
       "      <td>...</td>\n",
       "      <td>...</td>\n",
       "      <td>...</td>\n",
       "      <td>...</td>\n",
       "      <td>...</td>\n",
       "      <td>...</td>\n",
       "      <td>...</td>\n",
       "      <td>...</td>\n",
       "    </tr>\n",
       "    <tr>\n",
       "      <th>267726</th>\n",
       "      <td>2999</td>\n",
       "      <td>0.0</td>\n",
       "      <td>2007</td>\n",
       "      <td>1.0</td>\n",
       "      <td>109</td>\n",
       "      <td>57.0</td>\n",
       "      <td>150000</td>\n",
       "      <td>5</td>\n",
       "      <td>2.0</td>\n",
       "      <td>5.0</td>\n",
       "      <td>0.0</td>\n",
       "    </tr>\n",
       "    <tr>\n",
       "      <th>269534</th>\n",
       "      <td>1000</td>\n",
       "      <td>4.0</td>\n",
       "      <td>2016</td>\n",
       "      <td>1.0</td>\n",
       "      <td>115</td>\n",
       "      <td>170.0</td>\n",
       "      <td>150000</td>\n",
       "      <td>5</td>\n",
       "      <td>6.0</td>\n",
       "      <td>38.0</td>\n",
       "      <td>0.0</td>\n",
       "    </tr>\n",
       "    <tr>\n",
       "      <th>177328</th>\n",
       "      <td>3200</td>\n",
       "      <td>5.0</td>\n",
       "      <td>2004</td>\n",
       "      <td>1.0</td>\n",
       "      <td>101</td>\n",
       "      <td>173.0</td>\n",
       "      <td>150000</td>\n",
       "      <td>6</td>\n",
       "      <td>2.0</td>\n",
       "      <td>38.0</td>\n",
       "      <td>0.0</td>\n",
       "    </tr>\n",
       "    <tr>\n",
       "      <th>265509</th>\n",
       "      <td>6450</td>\n",
       "      <td>6.0</td>\n",
       "      <td>2003</td>\n",
       "      <td>0.0</td>\n",
       "      <td>250</td>\n",
       "      <td>145.0</td>\n",
       "      <td>150000</td>\n",
       "      <td>10</td>\n",
       "      <td>2.0</td>\n",
       "      <td>20.0</td>\n",
       "      <td>0.0</td>\n",
       "    </tr>\n",
       "    <tr>\n",
       "      <th>272076</th>\n",
       "      <td>11500</td>\n",
       "      <td>7.0</td>\n",
       "      <td>2005</td>\n",
       "      <td>0.0</td>\n",
       "      <td>192</td>\n",
       "      <td>15.0</td>\n",
       "      <td>125000</td>\n",
       "      <td>2</td>\n",
       "      <td>6.0</td>\n",
       "      <td>2.0</td>\n",
       "      <td>0.0</td>\n",
       "    </tr>\n",
       "  </tbody>\n",
       "</table>\n",
       "<p>212368 rows × 11 columns</p>\n",
       "</div>"
      ],
      "text/plain": [
       "        price  type  regYear  trans   HP  model   miles  regMonth  fuel  \\\n",
       "94790    1900   1.0     2016    1.0    0  116.0  150000         0   6.0   \n",
       "230505   1200   5.0     2001    1.0   60  173.0  150000         5   6.0   \n",
       "83261    2190   4.0     2000    1.0   75  116.0  150000        11   6.0   \n",
       "165737   1600   4.0     2006    1.0   90  214.0  125000         7   6.0   \n",
       "105612  11000   4.0     2012    1.0  136    6.0   80000         8   6.0   \n",
       "...       ...   ...      ...    ...  ...    ...     ...       ...   ...   \n",
       "267726   2999   0.0     2007    1.0  109   57.0  150000         5   2.0   \n",
       "269534   1000   4.0     2016    1.0  115  170.0  150000         5   6.0   \n",
       "177328   3200   5.0     2004    1.0  101  173.0  150000         6   2.0   \n",
       "265509   6450   6.0     2003    0.0  250  145.0  150000        10   2.0   \n",
       "272076  11500   7.0     2005    0.0  192   15.0  125000         2   6.0   \n",
       "\n",
       "        brand  needsRepair  \n",
       "94790    38.0          0.0  \n",
       "230505   38.0          0.0  \n",
       "83261    38.0          0.0  \n",
       "165737    9.0          0.0  \n",
       "105612    2.0          0.0  \n",
       "...       ...          ...  \n",
       "267726    5.0          0.0  \n",
       "269534   38.0          0.0  \n",
       "177328   38.0          0.0  \n",
       "265509   20.0          0.0  \n",
       "272076    2.0          0.0  \n",
       "\n",
       "[212368 rows x 11 columns]"
      ]
     },
     "metadata": {},
     "output_type": "display_data"
    }
   ],
   "source": [
    "display(data_train)"
   ]
  },
  {
   "cell_type": "code",
   "execution_count": 50,
   "metadata": {},
   "outputs": [
    {
     "data": {
      "text/html": [
       "<div>\n",
       "<style scoped>\n",
       "    .dataframe tbody tr th:only-of-type {\n",
       "        vertical-align: middle;\n",
       "    }\n",
       "\n",
       "    .dataframe tbody tr th {\n",
       "        vertical-align: top;\n",
       "    }\n",
       "\n",
       "    .dataframe thead th {\n",
       "        text-align: right;\n",
       "    }\n",
       "</style>\n",
       "<table border=\"1\" class=\"dataframe\">\n",
       "  <thead>\n",
       "    <tr style=\"text-align: right;\">\n",
       "      <th></th>\n",
       "      <th>price</th>\n",
       "      <th>type</th>\n",
       "      <th>regYear</th>\n",
       "      <th>trans</th>\n",
       "      <th>HP</th>\n",
       "      <th>model</th>\n",
       "      <th>miles</th>\n",
       "      <th>regMonth</th>\n",
       "      <th>fuel</th>\n",
       "      <th>brand</th>\n",
       "      <th>needsRepair</th>\n",
       "    </tr>\n",
       "  </thead>\n",
       "  <tbody>\n",
       "    <tr>\n",
       "      <th>196287</th>\n",
       "      <td>1400</td>\n",
       "      <td>4.0</td>\n",
       "      <td>2005</td>\n",
       "      <td>1.0</td>\n",
       "      <td>0</td>\n",
       "      <td>10.0</td>\n",
       "      <td>150000</td>\n",
       "      <td>0</td>\n",
       "      <td>2.0</td>\n",
       "      <td>25.0</td>\n",
       "      <td>1.0</td>\n",
       "    </tr>\n",
       "    <tr>\n",
       "      <th>110243</th>\n",
       "      <td>700</td>\n",
       "      <td>5.0</td>\n",
       "      <td>1997</td>\n",
       "      <td>1.0</td>\n",
       "      <td>75</td>\n",
       "      <td>166.0</td>\n",
       "      <td>150000</td>\n",
       "      <td>2</td>\n",
       "      <td>6.0</td>\n",
       "      <td>36.0</td>\n",
       "      <td>1.0</td>\n",
       "    </tr>\n",
       "    <tr>\n",
       "      <th>176411</th>\n",
       "      <td>6600</td>\n",
       "      <td>4.0</td>\n",
       "      <td>1996</td>\n",
       "      <td>1.0</td>\n",
       "      <td>193</td>\n",
       "      <td>11.0</td>\n",
       "      <td>150000</td>\n",
       "      <td>10</td>\n",
       "      <td>6.0</td>\n",
       "      <td>2.0</td>\n",
       "      <td>0.0</td>\n",
       "    </tr>\n",
       "    <tr>\n",
       "      <th>190886</th>\n",
       "      <td>3150</td>\n",
       "      <td>5.0</td>\n",
       "      <td>2003</td>\n",
       "      <td>1.0</td>\n",
       "      <td>101</td>\n",
       "      <td>173.0</td>\n",
       "      <td>150000</td>\n",
       "      <td>3</td>\n",
       "      <td>2.0</td>\n",
       "      <td>38.0</td>\n",
       "      <td>0.0</td>\n",
       "    </tr>\n",
       "    <tr>\n",
       "      <th>307382</th>\n",
       "      <td>3990</td>\n",
       "      <td>4.0</td>\n",
       "      <td>2002</td>\n",
       "      <td>0.0</td>\n",
       "      <td>170</td>\n",
       "      <td>59.0</td>\n",
       "      <td>150000</td>\n",
       "      <td>10</td>\n",
       "      <td>4.0</td>\n",
       "      <td>20.0</td>\n",
       "      <td>0.0</td>\n",
       "    </tr>\n",
       "    <tr>\n",
       "      <th>...</th>\n",
       "      <td>...</td>\n",
       "      <td>...</td>\n",
       "      <td>...</td>\n",
       "      <td>...</td>\n",
       "      <td>...</td>\n",
       "      <td>...</td>\n",
       "      <td>...</td>\n",
       "      <td>...</td>\n",
       "      <td>...</td>\n",
       "      <td>...</td>\n",
       "      <td>...</td>\n",
       "    </tr>\n",
       "    <tr>\n",
       "      <th>8159</th>\n",
       "      <td>2300</td>\n",
       "      <td>1.0</td>\n",
       "      <td>2005</td>\n",
       "      <td>1.0</td>\n",
       "      <td>90</td>\n",
       "      <td>218.0</td>\n",
       "      <td>150000</td>\n",
       "      <td>4</td>\n",
       "      <td>6.0</td>\n",
       "      <td>24.0</td>\n",
       "      <td>0.0</td>\n",
       "    </tr>\n",
       "    <tr>\n",
       "      <th>278852</th>\n",
       "      <td>200</td>\n",
       "      <td>0.0</td>\n",
       "      <td>1997</td>\n",
       "      <td>1.0</td>\n",
       "      <td>90</td>\n",
       "      <td>166.0</td>\n",
       "      <td>150000</td>\n",
       "      <td>7</td>\n",
       "      <td>2.0</td>\n",
       "      <td>9.0</td>\n",
       "      <td>1.0</td>\n",
       "    </tr>\n",
       "    <tr>\n",
       "      <th>316754</th>\n",
       "      <td>750</td>\n",
       "      <td>4.0</td>\n",
       "      <td>1988</td>\n",
       "      <td>1.0</td>\n",
       "      <td>132</td>\n",
       "      <td>95.0</td>\n",
       "      <td>150000</td>\n",
       "      <td>6</td>\n",
       "      <td>6.0</td>\n",
       "      <td>20.0</td>\n",
       "      <td>0.0</td>\n",
       "    </tr>\n",
       "    <tr>\n",
       "      <th>30461</th>\n",
       "      <td>350</td>\n",
       "      <td>5.0</td>\n",
       "      <td>1997</td>\n",
       "      <td>0.0</td>\n",
       "      <td>75</td>\n",
       "      <td>116.0</td>\n",
       "      <td>150000</td>\n",
       "      <td>10</td>\n",
       "      <td>6.0</td>\n",
       "      <td>38.0</td>\n",
       "      <td>0.0</td>\n",
       "    </tr>\n",
       "    <tr>\n",
       "      <th>302442</th>\n",
       "      <td>10999</td>\n",
       "      <td>7.0</td>\n",
       "      <td>2005</td>\n",
       "      <td>0.0</td>\n",
       "      <td>320</td>\n",
       "      <td>15.0</td>\n",
       "      <td>150000</td>\n",
       "      <td>5</td>\n",
       "      <td>2.0</td>\n",
       "      <td>2.0</td>\n",
       "      <td>1.0</td>\n",
       "    </tr>\n",
       "  </tbody>\n",
       "</table>\n",
       "<p>70790 rows × 11 columns</p>\n",
       "</div>"
      ],
      "text/plain": [
       "        price  type  regYear  trans   HP  model   miles  regMonth  fuel  \\\n",
       "196287   1400   4.0     2005    1.0    0   10.0  150000         0   2.0   \n",
       "110243    700   5.0     1997    1.0   75  166.0  150000         2   6.0   \n",
       "176411   6600   4.0     1996    1.0  193   11.0  150000        10   6.0   \n",
       "190886   3150   5.0     2003    1.0  101  173.0  150000         3   2.0   \n",
       "307382   3990   4.0     2002    0.0  170   59.0  150000        10   4.0   \n",
       "...       ...   ...      ...    ...  ...    ...     ...       ...   ...   \n",
       "8159     2300   1.0     2005    1.0   90  218.0  150000         4   6.0   \n",
       "278852    200   0.0     1997    1.0   90  166.0  150000         7   2.0   \n",
       "316754    750   4.0     1988    1.0  132   95.0  150000         6   6.0   \n",
       "30461     350   5.0     1997    0.0   75  116.0  150000        10   6.0   \n",
       "302442  10999   7.0     2005    0.0  320   15.0  150000         5   2.0   \n",
       "\n",
       "        brand  needsRepair  \n",
       "196287   25.0          1.0  \n",
       "110243   36.0          1.0  \n",
       "176411    2.0          0.0  \n",
       "190886   38.0          0.0  \n",
       "307382   20.0          0.0  \n",
       "...       ...          ...  \n",
       "8159     24.0          0.0  \n",
       "278852    9.0          1.0  \n",
       "316754   20.0          0.0  \n",
       "30461    38.0          0.0  \n",
       "302442    2.0          1.0  \n",
       "\n",
       "[70790 rows x 11 columns]"
      ]
     },
     "metadata": {},
     "output_type": "display_data"
    }
   ],
   "source": [
    "display(data_valid)"
   ]
  },
  {
   "cell_type": "code",
   "execution_count": 51,
   "metadata": {},
   "outputs": [
    {
     "data": {
      "text/html": [
       "<div>\n",
       "<style scoped>\n",
       "    .dataframe tbody tr th:only-of-type {\n",
       "        vertical-align: middle;\n",
       "    }\n",
       "\n",
       "    .dataframe tbody tr th {\n",
       "        vertical-align: top;\n",
       "    }\n",
       "\n",
       "    .dataframe thead th {\n",
       "        text-align: right;\n",
       "    }\n",
       "</style>\n",
       "<table border=\"1\" class=\"dataframe\">\n",
       "  <thead>\n",
       "    <tr style=\"text-align: right;\">\n",
       "      <th></th>\n",
       "      <th>price</th>\n",
       "      <th>type</th>\n",
       "      <th>regYear</th>\n",
       "      <th>trans</th>\n",
       "      <th>HP</th>\n",
       "      <th>model</th>\n",
       "      <th>miles</th>\n",
       "      <th>regMonth</th>\n",
       "      <th>fuel</th>\n",
       "      <th>brand</th>\n",
       "      <th>needsRepair</th>\n",
       "    </tr>\n",
       "  </thead>\n",
       "  <tbody>\n",
       "    <tr>\n",
       "      <th>178290</th>\n",
       "      <td>1100</td>\n",
       "      <td>4.0</td>\n",
       "      <td>2000</td>\n",
       "      <td>1.0</td>\n",
       "      <td>0</td>\n",
       "      <td>143.0</td>\n",
       "      <td>150000</td>\n",
       "      <td>10</td>\n",
       "      <td>6.0</td>\n",
       "      <td>38.0</td>\n",
       "      <td>0.0</td>\n",
       "    </tr>\n",
       "    <tr>\n",
       "      <th>318870</th>\n",
       "      <td>4900</td>\n",
       "      <td>5.0</td>\n",
       "      <td>2008</td>\n",
       "      <td>1.0</td>\n",
       "      <td>60</td>\n",
       "      <td>83.0</td>\n",
       "      <td>90000</td>\n",
       "      <td>7</td>\n",
       "      <td>4.0</td>\n",
       "      <td>24.0</td>\n",
       "      <td>0.0</td>\n",
       "    </tr>\n",
       "    <tr>\n",
       "      <th>120833</th>\n",
       "      <td>3600</td>\n",
       "      <td>4.0</td>\n",
       "      <td>2006</td>\n",
       "      <td>0.0</td>\n",
       "      <td>0</td>\n",
       "      <td>47.0</td>\n",
       "      <td>50000</td>\n",
       "      <td>7</td>\n",
       "      <td>2.0</td>\n",
       "      <td>20.0</td>\n",
       "      <td>0.0</td>\n",
       "    </tr>\n",
       "    <tr>\n",
       "      <th>292302</th>\n",
       "      <td>15990</td>\n",
       "      <td>7.0</td>\n",
       "      <td>2013</td>\n",
       "      <td>1.0</td>\n",
       "      <td>147</td>\n",
       "      <td>44.0</td>\n",
       "      <td>50000</td>\n",
       "      <td>9</td>\n",
       "      <td>6.0</td>\n",
       "      <td>36.0</td>\n",
       "      <td>0.0</td>\n",
       "    </tr>\n",
       "    <tr>\n",
       "      <th>175426</th>\n",
       "      <td>850</td>\n",
       "      <td>7.0</td>\n",
       "      <td>2000</td>\n",
       "      <td>1.0</td>\n",
       "      <td>0</td>\n",
       "      <td>95.0</td>\n",
       "      <td>150000</td>\n",
       "      <td>10</td>\n",
       "      <td>2.0</td>\n",
       "      <td>20.0</td>\n",
       "      <td>1.0</td>\n",
       "    </tr>\n",
       "    <tr>\n",
       "      <th>...</th>\n",
       "      <td>...</td>\n",
       "      <td>...</td>\n",
       "      <td>...</td>\n",
       "      <td>...</td>\n",
       "      <td>...</td>\n",
       "      <td>...</td>\n",
       "      <td>...</td>\n",
       "      <td>...</td>\n",
       "      <td>...</td>\n",
       "      <td>...</td>\n",
       "      <td>...</td>\n",
       "    </tr>\n",
       "    <tr>\n",
       "      <th>307889</th>\n",
       "      <td>900</td>\n",
       "      <td>7.0</td>\n",
       "      <td>1999</td>\n",
       "      <td>1.0</td>\n",
       "      <td>150</td>\n",
       "      <td>170.0</td>\n",
       "      <td>150000</td>\n",
       "      <td>0</td>\n",
       "      <td>6.0</td>\n",
       "      <td>38.0</td>\n",
       "      <td>0.0</td>\n",
       "    </tr>\n",
       "    <tr>\n",
       "      <th>333306</th>\n",
       "      <td>13999</td>\n",
       "      <td>7.0</td>\n",
       "      <td>2010</td>\n",
       "      <td>0.0</td>\n",
       "      <td>190</td>\n",
       "      <td>31.0</td>\n",
       "      <td>150000</td>\n",
       "      <td>4</td>\n",
       "      <td>2.0</td>\n",
       "      <td>1.0</td>\n",
       "      <td>0.0</td>\n",
       "    </tr>\n",
       "    <tr>\n",
       "      <th>28311</th>\n",
       "      <td>7200</td>\n",
       "      <td>7.0</td>\n",
       "      <td>2005</td>\n",
       "      <td>0.0</td>\n",
       "      <td>150</td>\n",
       "      <td>59.0</td>\n",
       "      <td>150000</td>\n",
       "      <td>1</td>\n",
       "      <td>2.0</td>\n",
       "      <td>20.0</td>\n",
       "      <td>0.0</td>\n",
       "    </tr>\n",
       "    <tr>\n",
       "      <th>109025</th>\n",
       "      <td>8000</td>\n",
       "      <td>4.0</td>\n",
       "      <td>2017</td>\n",
       "      <td>1.0</td>\n",
       "      <td>0</td>\n",
       "      <td>75.0</td>\n",
       "      <td>10000</td>\n",
       "      <td>0</td>\n",
       "      <td>6.0</td>\n",
       "      <td>27.0</td>\n",
       "      <td>0.0</td>\n",
       "    </tr>\n",
       "    <tr>\n",
       "      <th>93797</th>\n",
       "      <td>500</td>\n",
       "      <td>5.0</td>\n",
       "      <td>2003</td>\n",
       "      <td>1.0</td>\n",
       "      <td>60</td>\n",
       "      <td>5.0</td>\n",
       "      <td>100000</td>\n",
       "      <td>4</td>\n",
       "      <td>6.0</td>\n",
       "      <td>25.0</td>\n",
       "      <td>1.0</td>\n",
       "    </tr>\n",
       "  </tbody>\n",
       "</table>\n",
       "<p>70790 rows × 11 columns</p>\n",
       "</div>"
      ],
      "text/plain": [
       "        price  type  regYear  trans   HP  model   miles  regMonth  fuel  \\\n",
       "178290   1100   4.0     2000    1.0    0  143.0  150000        10   6.0   \n",
       "318870   4900   5.0     2008    1.0   60   83.0   90000         7   4.0   \n",
       "120833   3600   4.0     2006    0.0    0   47.0   50000         7   2.0   \n",
       "292302  15990   7.0     2013    1.0  147   44.0   50000         9   6.0   \n",
       "175426    850   7.0     2000    1.0    0   95.0  150000        10   2.0   \n",
       "...       ...   ...      ...    ...  ...    ...     ...       ...   ...   \n",
       "307889    900   7.0     1999    1.0  150  170.0  150000         0   6.0   \n",
       "333306  13999   7.0     2010    0.0  190   31.0  150000         4   2.0   \n",
       "28311    7200   7.0     2005    0.0  150   59.0  150000         1   2.0   \n",
       "109025   8000   4.0     2017    1.0    0   75.0   10000         0   6.0   \n",
       "93797     500   5.0     2003    1.0   60    5.0  100000         4   6.0   \n",
       "\n",
       "        brand  needsRepair  \n",
       "178290   38.0          0.0  \n",
       "318870   24.0          0.0  \n",
       "120833   20.0          0.0  \n",
       "292302   36.0          0.0  \n",
       "175426   20.0          1.0  \n",
       "...       ...          ...  \n",
       "307889   38.0          0.0  \n",
       "333306    1.0          0.0  \n",
       "28311    20.0          0.0  \n",
       "109025   27.0          0.0  \n",
       "93797    25.0          1.0  \n",
       "\n",
       "[70790 rows x 11 columns]"
      ]
     },
     "metadata": {},
     "output_type": "display_data"
    }
   ],
   "source": [
    "display(data_test)"
   ]
  },
  {
   "cell_type": "markdown",
   "metadata": {},
   "source": [
    "<span style=\"color: #5A9BD5; font-size: 16px;\">'split the features from the target'</span>"
   ]
  },
  {
   "cell_type": "code",
   "execution_count": 52,
   "metadata": {},
   "outputs": [],
   "source": [
    "# Separate features and target for training data\n",
    "features_train = data_train.drop(columns=['price'])\n",
    "target_train = data_train['price']\n",
    "\n",
    "# Separate features and target for validation data\n",
    "features_valid = data_valid.drop(columns=['price'])\n",
    "target_valid = data_valid['price']\n",
    "\n",
    "# Separate features and target for test data\n",
    "features_test = data_test.drop(columns=['price'])\n",
    "target_test = data_test['price']"
   ]
  },
  {
   "cell_type": "markdown",
   "metadata": {},
   "source": [
    "<span style=\"color: #5A9BD5; font-size: 22px;\">Create / train / predict / score models:</span>"
   ]
  },
  {
   "cell_type": "markdown",
   "metadata": {},
   "source": [
    "<span style=\"color: #5A9BD5; font-size: 16px;\">Linear Regression:</span>"
   ]
  },
  {
   "cell_type": "markdown",
   "metadata": {},
   "source": [
    "Linear Regression is not very good for hyperparameter tuning, but it is perfect for doing a sanity check of other methods. If gradient boosting performs worse than linear regression, something definitely went wrong. Let's see what RMSE score the linear regression model gets, and we'll compare this score to gradient boosting scores, later on. ..."
   ]
  },
  {
   "cell_type": "code",
   "execution_count": 53,
   "metadata": {},
   "outputs": [
    {
     "name": "stdout",
     "output_type": "stream",
     "text": [
      "\n",
      "\n",
      "Linear Regression Root Mean Squared Error score:\n",
      "3203.00033\n",
      "\n",
      "\n",
      "CPU times: user 48.1 ms, sys: 38.9 ms, total: 87 ms\n",
      "Wall time: 61.5 ms\n"
     ]
    }
   ],
   "source": [
    "%%time\n",
    "print('\\n')\n",
    "\n",
    "lr = LinearRegression()\n",
    "lr.fit(features_train, target_train)\n",
    "pred_test = lr.predict(features_test)\n",
    "\n",
    "#RMSE (root mean squared error)\n",
    "rmse = mean_squared_error(target_test, pred_test, squared=False)\n",
    "\n",
    "print(\"Linear Regression Root Mean Squared Error score:\")\n",
    "print(round(rmse, 5))\n",
    "\n",
    "print('\\n')"
   ]
  },
  {
   "cell_type": "markdown",
   "metadata": {},
   "source": [
    "<span style=\"color: #5A9BD5; font-size: 16px;\">Decision Tree:</span>"
   ]
  },
  {
   "cell_type": "code",
   "execution_count": 54,
   "metadata": {},
   "outputs": [
    {
     "name": "stdout",
     "output_type": "stream",
     "text": [
      "\n",
      "\n",
      "Depth 1\n",
      "RMSE: 3788.65377\n",
      "\n",
      "\n",
      "Depth 3\n",
      "RMSE: 3035.97730\n",
      "\n",
      "\n",
      "Depth 5\n",
      "RMSE: 2567.47963\n",
      "\n",
      "\n",
      "Depth 7\n",
      "RMSE: 2308.48580\n",
      "\n",
      "\n",
      "Depth 9\n",
      "RMSE: 2170.06779\n",
      "\n",
      "\n",
      "Depth 11\n",
      "RMSE: 2089.12546\n",
      "\n",
      "\n",
      "Depth 13\n",
      "RMSE: 2070.54538\n",
      "\n",
      "\n",
      "\n",
      "\n",
      "CPU times: user 1.99 s, sys: 0 ns, total: 1.99 s\n",
      "Wall time: 2.07 s\n"
     ]
    }
   ],
   "source": [
    "%%time\n",
    "print('\\n')\n",
    "\n",
    "tree_list = [1, 3, 5, 7, 9, 11, 13]\n",
    "\n",
    "for t in tree_list:\n",
    "    dt = DecisionTreeRegressor(max_depth=t, random_state=42)\n",
    "    dt.fit(features_train, target_train)\n",
    "    pred_test = dt.predict(features_test)\n",
    "    \n",
    "    #RMSE (root mean squared error)\n",
    "    rmse = mean_squared_error(target_test, pred_test, squared=False)\n",
    "    print(f'Depth {t}')\n",
    "    print(f'RMSE: {rmse:.5f}')\n",
    "    print('\\n')\n",
    "    \n",
    "print('\\n')"
   ]
  },
  {
   "cell_type": "markdown",
   "metadata": {},
   "source": [
    "<span style=\"color: #5A9BD5; font-size: 16px;\">Random Forest:</span>"
   ]
  },
  {
   "cell_type": "code",
   "execution_count": 55,
   "metadata": {},
   "outputs": [
    {
     "name": "stdout",
     "output_type": "stream",
     "text": [
      "\n",
      "\n",
      "Max Depth: 2, MSE: 10643163.10632, RMSE: 3262.38611\n",
      "Max Depth: 4, MSE: 7018156.64572, RMSE: 2649.18037\n",
      "Max Depth: 6, MSE: 5551638.26604, RMSE: 2356.19147\n",
      "Max Depth: 8, MSE: 4657408.44493, RMSE: 2158.10297\n",
      "Max Depth: 10, MSE: 4083324.88837, RMSE: 2020.72385\n",
      "Max Depth: 12, MSE: 3652784.54402, RMSE: 1911.22593\n",
      "Max Depth: 14, MSE: 3361774.85579, RMSE: 1833.51435\n",
      "\n",
      "\n",
      "Best Depth for Random Forest: 14, Best MSE: 3361774.85579, Best RMSE: 1833.51435\n",
      "\n",
      "\n",
      "CPU times: user 2min 24s, sys: 92.8 ms, total: 2min 24s\n",
      "Wall time: 2min 25s\n"
     ]
    }
   ],
   "source": [
    "%%time\n",
    "print('\\n')\n",
    "\n",
    "forest_list = [2, 4, 6, 8, 10, 12, 14]\n",
    "\n",
    "# Iterate over each depth\n",
    "best_mse = float('inf')\n",
    "best_depth = None\n",
    "\n",
    "for depth in forest_list:\n",
    "    rf = RandomForestRegressor(max_depth=depth, n_estimators=100, random_state=42)\n",
    "    rf.fit(features_train, target_train)\n",
    "    pred_test = rf.predict(features_test)\n",
    "    \n",
    "    # Evaluate model\n",
    "    mse = mean_squared_error(target_test, pred_test)\n",
    "    \n",
    "    #RMSE (root mean squared error)\n",
    "    rmse = mse ** 0.5\n",
    "    print(f'Max Depth: {depth}, MSE: {mse.round(5)}, RMSE: {rmse.round(5)}')\n",
    "    \n",
    "    \n",
    "    # Check if this is the best depth, so far, and store it\n",
    "    if mse < best_mse:\n",
    "        best_mse = mse\n",
    "        best_depth = depth\n",
    "    \n",
    "print('\\n')\n",
    "best_rmse = best_mse ** 0.5\n",
    "print(f'Best Depth for Random Forest: {best_depth}, Best MSE: {best_mse.round(5)}, Best RMSE: {best_rmse.round(5)}')\n",
    "print('\\n')"
   ]
  },
  {
   "cell_type": "markdown",
   "metadata": {},
   "source": [
    "<span style=\"color: #5A9BD5; font-size: 16px;\">LGBM Regressor:</span>"
   ]
  },
  {
   "cell_type": "code",
   "execution_count": 56,
   "metadata": {},
   "outputs": [
    {
     "name": "stdout",
     "output_type": "stream",
     "text": [
      "\n",
      "\n",
      "Average RMSE: 2005.5916079760002\n",
      "\n",
      "\n",
      "CPU times: user 1min 6s, sys: 89 ms, total: 1min 7s\n",
      "Wall time: 1min 7s\n"
     ]
    }
   ],
   "source": [
    "%%time\n",
    "print('\\n')\n",
    "\n",
    "# Separate features and target for training, validation, and test data\n",
    "features_train = data_train.drop(columns=['price'])\n",
    "target_train = data_train['price']\n",
    "features_valid = data_valid.drop(columns=['price'])\n",
    "\n",
    "target_valid = data_valid['price']\n",
    "features_test = data_test.drop(columns=['price'])\n",
    "target_test = data_test['price']\n",
    "\n",
    "# Combine train and validation data for Cross-validation (K-Fold)\n",
    "data_train_valid = pd.concat([data_train, data_valid])\n",
    "\n",
    "features = data_train_valid.drop(columns=['price']).values\n",
    "target = data_train_valid['price'].values\n",
    "\n",
    "\n",
    "kf = KFold(n_splits=5)\n",
    "rmses = []\n",
    "\n",
    "for train_index, valid_index in kf.split(features):\n",
    "    X_train, X_valid = features[train_index], features[valid_index]\n",
    "    y_train, y_valid = target[train_index], target[valid_index]\n",
    "    \n",
    "\n",
    "    lgb = LGBMRegressor(\n",
    "        num_leaves=31,\n",
    "        learning_rate=0.05,\n",
    "        n_estimators=100,\n",
    "        max_depth=5,\n",
    "        random_state=42\n",
    "    )\n",
    "    \n",
    "    lgb.fit(X_train, y_train)\n",
    "    \n",
    "    # Predict on the validation data\n",
    "    pred_valid = lgb.predict(X_valid)\n",
    "    \n",
    "    mse = mean_squared_error(y_valid, pred_valid)\n",
    "    \n",
    "    #RMSE (root mean squared error)\n",
    "    rmse = np.sqrt(mse)\n",
    "    rmses.append(rmse)\n",
    "    \n",
    "average_rmse = np.mean(rmses)\n",
    "print(\"Average RMSE:\", average_rmse)\n",
    "\n",
    "print('\\n')"
   ]
  },
  {
   "cell_type": "markdown",
   "metadata": {},
   "source": [
    "<span style=\"color: #5A9BD5; font-size: 16px;\">Cat Boost Regressor:</span>"
   ]
  },
  {
   "cell_type": "code",
   "execution_count": 58,
   "metadata": {},
   "outputs": [
    {
     "name": "stdout",
     "output_type": "stream",
     "text": [
      "\n",
      "\n",
      "0:\tlearn: 4491.5870034\ttotal: 15.7ms\tremaining: 3.13s\n",
      "1:\tlearn: 4466.1666857\ttotal: 32.4ms\tremaining: 3.21s\n",
      "2:\tlearn: 4441.8428358\ttotal: 49.5ms\tremaining: 3.25s\n",
      "3:\tlearn: 4417.4301741\ttotal: 65.1ms\tremaining: 3.19s\n",
      "4:\tlearn: 4393.9255948\ttotal: 80.2ms\tremaining: 3.13s\n",
      "5:\tlearn: 4370.4842166\ttotal: 95.7ms\tremaining: 3.09s\n",
      "6:\tlearn: 4346.6068852\ttotal: 111ms\tremaining: 3.06s\n",
      "7:\tlearn: 4323.7046798\ttotal: 128ms\tremaining: 3.06s\n",
      "8:\tlearn: 4300.3328537\ttotal: 145ms\tremaining: 3.08s\n",
      "9:\tlearn: 4277.2584643\ttotal: 161ms\tremaining: 3.06s\n",
      "10:\tlearn: 4255.2375430\ttotal: 177ms\tremaining: 3.04s\n",
      "11:\tlearn: 4232.8732536\ttotal: 192ms\tremaining: 3.01s\n",
      "12:\tlearn: 4210.6449945\ttotal: 207ms\tremaining: 2.98s\n",
      "13:\tlearn: 4188.7352792\ttotal: 224ms\tremaining: 2.98s\n",
      "14:\tlearn: 4167.8390169\ttotal: 242ms\tremaining: 2.99s\n",
      "15:\tlearn: 4147.2435795\ttotal: 259ms\tremaining: 2.98s\n",
      "16:\tlearn: 4126.9131651\ttotal: 274ms\tremaining: 2.95s\n",
      "17:\tlearn: 4106.1878321\ttotal: 290ms\tremaining: 2.93s\n",
      "18:\tlearn: 4085.8895643\ttotal: 305ms\tremaining: 2.91s\n",
      "19:\tlearn: 4066.3480273\ttotal: 321ms\tremaining: 2.89s\n",
      "20:\tlearn: 4047.4112639\ttotal: 338ms\tremaining: 2.88s\n",
      "21:\tlearn: 4026.8081672\ttotal: 355ms\tremaining: 2.87s\n",
      "22:\tlearn: 4007.9540244\ttotal: 370ms\tremaining: 2.85s\n",
      "23:\tlearn: 3989.6180128\ttotal: 386ms\tremaining: 2.83s\n",
      "24:\tlearn: 3970.1003727\ttotal: 401ms\tremaining: 2.8s\n",
      "25:\tlearn: 3951.4482777\ttotal: 416ms\tremaining: 2.78s\n",
      "26:\tlearn: 3933.5549329\ttotal: 433ms\tremaining: 2.77s\n",
      "27:\tlearn: 3915.2336438\ttotal: 450ms\tremaining: 2.77s\n",
      "28:\tlearn: 3897.7688770\ttotal: 466ms\tremaining: 2.75s\n",
      "29:\tlearn: 3879.7916534\ttotal: 482ms\tremaining: 2.73s\n",
      "30:\tlearn: 3862.8549587\ttotal: 498ms\tremaining: 2.71s\n",
      "31:\tlearn: 3845.4413016\ttotal: 513ms\tremaining: 2.69s\n",
      "32:\tlearn: 3828.1720044\ttotal: 530ms\tremaining: 2.68s\n",
      "33:\tlearn: 3811.7377505\ttotal: 547ms\tremaining: 2.67s\n",
      "34:\tlearn: 3794.5980023\ttotal: 563ms\tremaining: 2.65s\n",
      "35:\tlearn: 3778.5311230\ttotal: 578ms\tremaining: 2.63s\n",
      "36:\tlearn: 3762.8470256\ttotal: 594ms\tremaining: 2.62s\n",
      "37:\tlearn: 3746.5017493\ttotal: 609ms\tremaining: 2.6s\n",
      "38:\tlearn: 3730.3947104\ttotal: 626ms\tremaining: 2.58s\n",
      "39:\tlearn: 3714.4491919\ttotal: 644ms\tremaining: 2.58s\n",
      "40:\tlearn: 3698.8084206\ttotal: 660ms\tremaining: 2.56s\n",
      "41:\tlearn: 3683.4632105\ttotal: 675ms\tremaining: 2.54s\n",
      "42:\tlearn: 3668.1675614\ttotal: 690ms\tremaining: 2.52s\n",
      "43:\tlearn: 3653.3089117\ttotal: 706ms\tremaining: 2.5s\n",
      "44:\tlearn: 3639.0157688\ttotal: 726ms\tremaining: 2.5s\n",
      "45:\tlearn: 3624.2296834\ttotal: 744ms\tremaining: 2.49s\n",
      "46:\tlearn: 3609.6407163\ttotal: 760ms\tremaining: 2.47s\n",
      "47:\tlearn: 3594.1808822\ttotal: 775ms\tremaining: 2.45s\n",
      "48:\tlearn: 3580.2301022\ttotal: 791ms\tremaining: 2.44s\n",
      "49:\tlearn: 3566.3424093\ttotal: 806ms\tremaining: 2.42s\n",
      "50:\tlearn: 3553.1506267\ttotal: 822ms\tremaining: 2.4s\n",
      "51:\tlearn: 3538.4097586\ttotal: 839ms\tremaining: 2.39s\n",
      "52:\tlearn: 3525.0193825\ttotal: 856ms\tremaining: 2.37s\n",
      "53:\tlearn: 3511.6257495\ttotal: 872ms\tremaining: 2.36s\n",
      "54:\tlearn: 3499.1258791\ttotal: 887ms\tremaining: 2.34s\n",
      "55:\tlearn: 3485.0695290\ttotal: 902ms\tremaining: 2.32s\n",
      "56:\tlearn: 3472.4255569\ttotal: 918ms\tremaining: 2.3s\n",
      "57:\tlearn: 3458.8928065\ttotal: 935ms\tremaining: 2.29s\n",
      "58:\tlearn: 3446.0962614\ttotal: 952ms\tremaining: 2.27s\n",
      "59:\tlearn: 3433.4168627\ttotal: 970ms\tremaining: 2.26s\n",
      "60:\tlearn: 3422.0175946\ttotal: 987ms\tremaining: 2.25s\n",
      "61:\tlearn: 3409.7379864\ttotal: 1s\tremaining: 2.24s\n",
      "62:\tlearn: 3396.9516219\ttotal: 1.02s\tremaining: 2.23s\n",
      "63:\tlearn: 3385.4443483\ttotal: 1.04s\tremaining: 2.21s\n",
      "64:\tlearn: 3373.2330385\ttotal: 1.06s\tremaining: 2.2s\n",
      "65:\tlearn: 3360.9355221\ttotal: 1.07s\tremaining: 2.18s\n",
      "66:\tlearn: 3349.0226078\ttotal: 1.09s\tremaining: 2.16s\n",
      "67:\tlearn: 3337.9353545\ttotal: 1.1s\tremaining: 2.14s\n",
      "68:\tlearn: 3326.2294944\ttotal: 1.12s\tremaining: 2.13s\n",
      "69:\tlearn: 3315.5602711\ttotal: 1.14s\tremaining: 2.11s\n",
      "70:\tlearn: 3305.0100767\ttotal: 1.15s\tremaining: 2.1s\n",
      "71:\tlearn: 3293.9193955\ttotal: 1.17s\tremaining: 2.08s\n",
      "72:\tlearn: 3282.6931756\ttotal: 1.18s\tremaining: 2.06s\n",
      "73:\tlearn: 3272.7033059\ttotal: 1.2s\tremaining: 2.04s\n",
      "74:\tlearn: 3261.7685330\ttotal: 1.21s\tremaining: 2.02s\n",
      "75:\tlearn: 3252.1681811\ttotal: 1.23s\tremaining: 2.01s\n",
      "76:\tlearn: 3242.8837299\ttotal: 1.25s\tremaining: 2s\n",
      "77:\tlearn: 3233.2666269\ttotal: 1.26s\tremaining: 1.98s\n",
      "78:\tlearn: 3222.8680385\ttotal: 1.28s\tremaining: 1.96s\n",
      "79:\tlearn: 3212.8729137\ttotal: 1.29s\tremaining: 1.94s\n",
      "80:\tlearn: 3203.8333737\ttotal: 1.31s\tremaining: 1.93s\n",
      "81:\tlearn: 3194.7129882\ttotal: 1.33s\tremaining: 1.91s\n",
      "82:\tlearn: 3185.0539481\ttotal: 1.34s\tremaining: 1.9s\n",
      "83:\tlearn: 3175.4078865\ttotal: 1.36s\tremaining: 1.88s\n",
      "84:\tlearn: 3166.1928645\ttotal: 1.38s\tremaining: 1.86s\n",
      "85:\tlearn: 3157.4340648\ttotal: 1.39s\tremaining: 1.85s\n",
      "86:\tlearn: 3148.6523634\ttotal: 1.41s\tremaining: 1.83s\n",
      "87:\tlearn: 3139.2644934\ttotal: 1.43s\tremaining: 1.81s\n",
      "88:\tlearn: 3130.1821623\ttotal: 1.44s\tremaining: 1.8s\n",
      "89:\tlearn: 3121.4267953\ttotal: 1.46s\tremaining: 1.78s\n",
      "90:\tlearn: 3113.1996457\ttotal: 1.47s\tremaining: 1.76s\n",
      "91:\tlearn: 3104.6707665\ttotal: 1.49s\tremaining: 1.75s\n",
      "92:\tlearn: 3096.7437606\ttotal: 1.5s\tremaining: 1.73s\n",
      "93:\tlearn: 3088.7891399\ttotal: 1.52s\tremaining: 1.72s\n",
      "94:\tlearn: 3080.9985598\ttotal: 1.54s\tremaining: 1.7s\n",
      "95:\tlearn: 3072.6735260\ttotal: 1.55s\tremaining: 1.68s\n",
      "96:\tlearn: 3064.8044479\ttotal: 1.57s\tremaining: 1.67s\n",
      "97:\tlearn: 3057.0985544\ttotal: 1.59s\tremaining: 1.65s\n",
      "98:\tlearn: 3049.9244420\ttotal: 1.6s\tremaining: 1.63s\n",
      "99:\tlearn: 3042.5832148\ttotal: 1.62s\tremaining: 1.62s\n",
      "100:\tlearn: 3035.6771634\ttotal: 1.64s\tremaining: 1.61s\n",
      "101:\tlearn: 3027.8339254\ttotal: 1.66s\tremaining: 1.59s\n",
      "102:\tlearn: 3020.8302541\ttotal: 1.67s\tremaining: 1.57s\n",
      "103:\tlearn: 3013.8799298\ttotal: 1.69s\tremaining: 1.56s\n",
      "104:\tlearn: 3007.2256504\ttotal: 1.7s\tremaining: 1.54s\n",
      "105:\tlearn: 2999.7435196\ttotal: 1.72s\tremaining: 1.52s\n",
      "106:\tlearn: 2993.0548427\ttotal: 1.73s\tremaining: 1.51s\n",
      "107:\tlearn: 2985.8043014\ttotal: 1.75s\tremaining: 1.49s\n",
      "108:\tlearn: 2978.7231469\ttotal: 1.77s\tremaining: 1.47s\n",
      "109:\tlearn: 2971.6698421\ttotal: 1.78s\tremaining: 1.46s\n",
      "110:\tlearn: 2964.5489394\ttotal: 1.8s\tremaining: 1.44s\n",
      "111:\tlearn: 2958.3953618\ttotal: 1.82s\tremaining: 1.43s\n",
      "112:\tlearn: 2952.3915927\ttotal: 1.84s\tremaining: 1.41s\n",
      "113:\tlearn: 2946.2609909\ttotal: 1.85s\tremaining: 1.4s\n",
      "114:\tlearn: 2940.3722846\ttotal: 1.87s\tremaining: 1.38s\n",
      "115:\tlearn: 2934.3201076\ttotal: 1.88s\tremaining: 1.36s\n",
      "116:\tlearn: 2928.6751829\ttotal: 1.9s\tremaining: 1.35s\n",
      "117:\tlearn: 2922.2757513\ttotal: 1.91s\tremaining: 1.33s\n",
      "118:\tlearn: 2916.6520988\ttotal: 1.93s\tremaining: 1.31s\n",
      "119:\tlearn: 2910.3810764\ttotal: 1.95s\tremaining: 1.3s\n",
      "120:\tlearn: 2904.2017924\ttotal: 1.97s\tremaining: 1.28s\n",
      "121:\tlearn: 2898.7506768\ttotal: 1.98s\tremaining: 1.27s\n",
      "122:\tlearn: 2892.2803392\ttotal: 2s\tremaining: 1.25s\n",
      "123:\tlearn: 2886.4783740\ttotal: 2.02s\tremaining: 1.24s\n",
      "124:\tlearn: 2880.1123585\ttotal: 2.04s\tremaining: 1.22s\n",
      "125:\tlearn: 2874.7651557\ttotal: 2.06s\tremaining: 1.21s\n",
      "126:\tlearn: 2869.6076328\ttotal: 2.07s\tremaining: 1.19s\n",
      "127:\tlearn: 2864.5243104\ttotal: 2.09s\tremaining: 1.17s\n",
      "128:\tlearn: 2859.4605464\ttotal: 2.11s\tremaining: 1.16s\n",
      "129:\tlearn: 2854.3815136\ttotal: 2.12s\tremaining: 1.14s\n",
      "130:\tlearn: 2849.3800668\ttotal: 2.14s\tremaining: 1.13s\n",
      "131:\tlearn: 2843.4962514\ttotal: 2.16s\tremaining: 1.11s\n",
      "132:\tlearn: 2838.5877679\ttotal: 2.17s\tremaining: 1.09s\n",
      "133:\tlearn: 2833.7234582\ttotal: 2.19s\tremaining: 1.08s\n",
      "134:\tlearn: 2827.9633327\ttotal: 2.2s\tremaining: 1.06s\n",
      "135:\tlearn: 2823.2817023\ttotal: 2.22s\tremaining: 1.04s\n",
      "136:\tlearn: 2817.6598391\ttotal: 2.23s\tremaining: 1.03s\n",
      "137:\tlearn: 2812.1391390\ttotal: 2.25s\tremaining: 1.01s\n",
      "138:\tlearn: 2806.6614860\ttotal: 2.27s\tremaining: 995ms\n",
      "139:\tlearn: 2802.1263916\ttotal: 2.29s\tremaining: 979ms\n",
      "140:\tlearn: 2797.6670992\ttotal: 2.3s\tremaining: 964ms\n",
      "141:\tlearn: 2792.4213920\ttotal: 2.32s\tremaining: 948ms\n",
      "142:\tlearn: 2788.0849207\ttotal: 2.34s\tremaining: 932ms\n",
      "143:\tlearn: 2783.6832890\ttotal: 2.35s\tremaining: 916ms\n",
      "144:\tlearn: 2778.5738010\ttotal: 2.37s\tremaining: 899ms\n",
      "145:\tlearn: 2773.6180340\ttotal: 2.39s\tremaining: 883ms\n",
      "146:\tlearn: 2769.3632711\ttotal: 2.4s\tremaining: 866ms\n",
      "147:\tlearn: 2765.2302948\ttotal: 2.42s\tremaining: 851ms\n",
      "148:\tlearn: 2761.1671225\ttotal: 2.44s\tremaining: 835ms\n",
      "149:\tlearn: 2756.2910015\ttotal: 2.45s\tremaining: 818ms\n",
      "150:\tlearn: 2752.3219312\ttotal: 2.47s\tremaining: 801ms\n",
      "151:\tlearn: 2748.4567160\ttotal: 2.48s\tremaining: 785ms\n",
      "152:\tlearn: 2743.8368757\ttotal: 2.5s\tremaining: 768ms\n",
      "153:\tlearn: 2739.1881880\ttotal: 2.52s\tremaining: 751ms\n",
      "154:\tlearn: 2735.3533464\ttotal: 2.53s\tremaining: 735ms\n",
      "155:\tlearn: 2730.8254710\ttotal: 2.55s\tremaining: 718ms\n",
      "156:\tlearn: 2726.9945035\ttotal: 2.56s\tremaining: 702ms\n"
     ]
    },
    {
     "name": "stdout",
     "output_type": "stream",
     "text": [
      "157:\tlearn: 2722.5310511\ttotal: 2.58s\tremaining: 685ms\n",
      "158:\tlearn: 2718.8295581\ttotal: 2.59s\tremaining: 668ms\n",
      "159:\tlearn: 2714.5649905\ttotal: 2.61s\tremaining: 652ms\n",
      "160:\tlearn: 2710.8021377\ttotal: 2.63s\tremaining: 637ms\n",
      "161:\tlearn: 2707.2111303\ttotal: 2.64s\tremaining: 620ms\n",
      "162:\tlearn: 2702.9671805\ttotal: 2.66s\tremaining: 603ms\n",
      "163:\tlearn: 2698.8336285\ttotal: 2.67s\tremaining: 587ms\n",
      "164:\tlearn: 2694.7435337\ttotal: 2.69s\tremaining: 570ms\n",
      "165:\tlearn: 2690.7969305\ttotal: 2.7s\tremaining: 553ms\n",
      "166:\tlearn: 2687.3156096\ttotal: 2.72s\tremaining: 537ms\n",
      "167:\tlearn: 2683.3866499\ttotal: 2.73s\tremaining: 521ms\n",
      "168:\tlearn: 2679.4980736\ttotal: 2.75s\tremaining: 504ms\n",
      "169:\tlearn: 2676.1424846\ttotal: 2.76s\tremaining: 488ms\n",
      "170:\tlearn: 2672.4055434\ttotal: 2.78s\tremaining: 471ms\n",
      "171:\tlearn: 2669.1715356\ttotal: 2.79s\tremaining: 455ms\n",
      "172:\tlearn: 2665.4118317\ttotal: 2.81s\tremaining: 438ms\n",
      "173:\tlearn: 2662.2019970\ttotal: 2.83s\tremaining: 422ms\n",
      "174:\tlearn: 2658.5876385\ttotal: 2.84s\tremaining: 406ms\n",
      "175:\tlearn: 2654.7669145\ttotal: 2.86s\tremaining: 390ms\n",
      "176:\tlearn: 2651.6028196\ttotal: 2.87s\tremaining: 373ms\n",
      "177:\tlearn: 2648.5400894\ttotal: 2.89s\tremaining: 357ms\n",
      "178:\tlearn: 2645.5239225\ttotal: 2.9s\tremaining: 340ms\n",
      "179:\tlearn: 2642.1336431\ttotal: 2.92s\tremaining: 324ms\n",
      "180:\tlearn: 2639.2010827\ttotal: 2.93s\tremaining: 308ms\n",
      "181:\tlearn: 2636.1714188\ttotal: 2.95s\tremaining: 292ms\n",
      "182:\tlearn: 2632.8295587\ttotal: 2.96s\tremaining: 275ms\n",
      "183:\tlearn: 2629.5502971\ttotal: 2.98s\tremaining: 259ms\n",
      "184:\tlearn: 2626.2398258\ttotal: 2.99s\tremaining: 243ms\n",
      "185:\tlearn: 2623.3678416\ttotal: 3.01s\tremaining: 227ms\n",
      "186:\tlearn: 2620.5205198\ttotal: 3.02s\tremaining: 210ms\n",
      "187:\tlearn: 2617.3493185\ttotal: 3.04s\tremaining: 194ms\n",
      "188:\tlearn: 2614.2147864\ttotal: 3.06s\tremaining: 178ms\n",
      "189:\tlearn: 2610.9386447\ttotal: 3.07s\tremaining: 162ms\n",
      "190:\tlearn: 2608.0675583\ttotal: 3.09s\tremaining: 145ms\n",
      "191:\tlearn: 2604.8069551\ttotal: 3.1s\tremaining: 129ms\n",
      "192:\tlearn: 2601.7737250\ttotal: 3.12s\tremaining: 113ms\n",
      "193:\tlearn: 2598.9834239\ttotal: 3.14s\tremaining: 97.1ms\n",
      "194:\tlearn: 2595.8327717\ttotal: 3.16s\tremaining: 80.9ms\n",
      "195:\tlearn: 2592.9155145\ttotal: 3.17s\tremaining: 64.8ms\n",
      "196:\tlearn: 2589.7997032\ttotal: 3.19s\tremaining: 48.6ms\n",
      "197:\tlearn: 2586.6525440\ttotal: 3.21s\tremaining: 32.4ms\n",
      "198:\tlearn: 2584.1496903\ttotal: 3.23s\tremaining: 16.2ms\n",
      "199:\tlearn: 2581.0788456\ttotal: 3.24s\tremaining: 0us\n",
      "0:\tlearn: 4497.6407769\ttotal: 18.4ms\tremaining: 3.66s\n",
      "1:\tlearn: 4472.1979785\ttotal: 36.2ms\tremaining: 3.58s\n",
      "2:\tlearn: 4447.7870317\ttotal: 52.1ms\tremaining: 3.42s\n",
      "3:\tlearn: 4423.1371633\ttotal: 67.3ms\tremaining: 3.3s\n",
      "4:\tlearn: 4399.4213905\ttotal: 97.1ms\tremaining: 3.79s\n",
      "5:\tlearn: 4375.8961025\ttotal: 113ms\tremaining: 3.66s\n",
      "6:\tlearn: 4352.0447298\ttotal: 129ms\tremaining: 3.56s\n",
      "7:\tlearn: 4329.6108892\ttotal: 145ms\tremaining: 3.47s\n",
      "8:\tlearn: 4306.2483785\ttotal: 160ms\tremaining: 3.39s\n",
      "9:\tlearn: 4283.1207861\ttotal: 183ms\tremaining: 3.48s\n",
      "10:\tlearn: 4261.0173686\ttotal: 201ms\tremaining: 3.45s\n",
      "11:\tlearn: 4238.3166320\ttotal: 217ms\tremaining: 3.4s\n",
      "12:\tlearn: 4217.5467927\ttotal: 232ms\tremaining: 3.34s\n",
      "13:\tlearn: 4196.3783637\ttotal: 248ms\tremaining: 3.29s\n",
      "14:\tlearn: 4175.3996601\ttotal: 263ms\tremaining: 3.24s\n",
      "15:\tlearn: 4154.7628654\ttotal: 280ms\tremaining: 3.23s\n",
      "16:\tlearn: 4133.6938187\ttotal: 298ms\tremaining: 3.21s\n",
      "17:\tlearn: 4112.9039080\ttotal: 315ms\tremaining: 3.19s\n",
      "18:\tlearn: 4092.5481911\ttotal: 331ms\tremaining: 3.15s\n",
      "19:\tlearn: 4073.0059095\ttotal: 346ms\tremaining: 3.12s\n",
      "20:\tlearn: 4052.9347698\ttotal: 362ms\tremaining: 3.08s\n",
      "21:\tlearn: 4033.5941221\ttotal: 378ms\tremaining: 3.06s\n",
      "22:\tlearn: 4014.6724952\ttotal: 396ms\tremaining: 3.04s\n",
      "23:\tlearn: 3995.1774516\ttotal: 412ms\tremaining: 3.02s\n",
      "24:\tlearn: 3976.0692573\ttotal: 427ms\tremaining: 2.99s\n",
      "25:\tlearn: 3956.3416965\ttotal: 442ms\tremaining: 2.96s\n",
      "26:\tlearn: 3938.4230989\ttotal: 458ms\tremaining: 2.93s\n",
      "27:\tlearn: 3919.8655949\ttotal: 480ms\tremaining: 2.95s\n",
      "28:\tlearn: 3901.6507615\ttotal: 497ms\tremaining: 2.93s\n",
      "29:\tlearn: 3883.8292190\ttotal: 514ms\tremaining: 2.91s\n",
      "30:\tlearn: 3865.7453162\ttotal: 530ms\tremaining: 2.89s\n",
      "31:\tlearn: 3847.9387283\ttotal: 545ms\tremaining: 2.86s\n",
      "32:\tlearn: 3830.3863189\ttotal: 561ms\tremaining: 2.84s\n",
      "33:\tlearn: 3813.2063865\ttotal: 586ms\tremaining: 2.86s\n",
      "34:\tlearn: 3796.3814997\ttotal: 604ms\tremaining: 2.85s\n",
      "35:\tlearn: 3780.2658795\ttotal: 620ms\tremaining: 2.82s\n",
      "36:\tlearn: 3764.5656835\ttotal: 636ms\tremaining: 2.8s\n",
      "37:\tlearn: 3748.5706906\ttotal: 652ms\tremaining: 2.78s\n",
      "38:\tlearn: 3732.5813403\ttotal: 667ms\tremaining: 2.75s\n",
      "39:\tlearn: 3717.3569105\ttotal: 685ms\tremaining: 2.74s\n",
      "40:\tlearn: 3700.9334237\ttotal: 701ms\tremaining: 2.72s\n",
      "41:\tlearn: 3685.5353701\ttotal: 717ms\tremaining: 2.7s\n",
      "42:\tlearn: 3670.4511995\ttotal: 732ms\tremaining: 2.67s\n",
      "43:\tlearn: 3655.3489678\ttotal: 748ms\tremaining: 2.65s\n",
      "44:\tlearn: 3641.2556733\ttotal: 765ms\tremaining: 2.63s\n",
      "45:\tlearn: 3625.4657625\ttotal: 783ms\tremaining: 2.62s\n",
      "46:\tlearn: 3611.5614190\ttotal: 800ms\tremaining: 2.6s\n",
      "47:\tlearn: 3596.3669559\ttotal: 817ms\tremaining: 2.58s\n",
      "48:\tlearn: 3582.0044560\ttotal: 833ms\tremaining: 2.57s\n",
      "49:\tlearn: 3567.8719996\ttotal: 849ms\tremaining: 2.55s\n",
      "50:\tlearn: 3554.1276252\ttotal: 865ms\tremaining: 2.53s\n",
      "51:\tlearn: 3539.3003309\ttotal: 882ms\tremaining: 2.51s\n",
      "52:\tlearn: 3526.3695658\ttotal: 899ms\tremaining: 2.49s\n",
      "53:\tlearn: 3513.6702720\ttotal: 914ms\tremaining: 2.47s\n",
      "54:\tlearn: 3500.9582401\ttotal: 930ms\tremaining: 2.45s\n",
      "55:\tlearn: 3488.6618107\ttotal: 945ms\tremaining: 2.43s\n",
      "56:\tlearn: 3475.5393090\ttotal: 960ms\tremaining: 2.41s\n",
      "57:\tlearn: 3461.8027546\ttotal: 977ms\tremaining: 2.39s\n",
      "58:\tlearn: 3449.3420659\ttotal: 995ms\tremaining: 2.38s\n",
      "59:\tlearn: 3436.6898982\ttotal: 1.01s\tremaining: 2.36s\n",
      "60:\tlearn: 3425.0291557\ttotal: 1.03s\tremaining: 2.34s\n",
      "61:\tlearn: 3411.9064893\ttotal: 1.04s\tremaining: 2.32s\n",
      "62:\tlearn: 3399.7565402\ttotal: 1.06s\tremaining: 2.3s\n",
      "63:\tlearn: 3388.2224118\ttotal: 1.08s\tremaining: 2.29s\n",
      "64:\tlearn: 3376.8677723\ttotal: 1.09s\tremaining: 2.27s\n",
      "65:\tlearn: 3364.8069280\ttotal: 1.11s\tremaining: 2.25s\n",
      "66:\tlearn: 3352.6786385\ttotal: 1.12s\tremaining: 2.23s\n",
      "67:\tlearn: 3342.2094206\ttotal: 1.14s\tremaining: 2.21s\n",
      "68:\tlearn: 3330.7311994\ttotal: 1.16s\tremaining: 2.19s\n",
      "69:\tlearn: 3319.1006294\ttotal: 1.17s\tremaining: 2.18s\n",
      "70:\tlearn: 3308.4736963\ttotal: 1.19s\tremaining: 2.16s\n",
      "71:\tlearn: 3298.4730970\ttotal: 1.21s\tremaining: 2.14s\n",
      "72:\tlearn: 3288.1737145\ttotal: 1.22s\tremaining: 2.12s\n",
      "73:\tlearn: 3277.3929123\ttotal: 1.24s\tremaining: 2.1s\n",
      "74:\tlearn: 3266.6030518\ttotal: 1.25s\tremaining: 2.08s\n",
      "75:\tlearn: 3255.9280086\ttotal: 1.27s\tremaining: 2.07s\n",
      "76:\tlearn: 3246.6261985\ttotal: 1.28s\tremaining: 2.05s\n",
      "77:\tlearn: 3236.5310205\ttotal: 1.3s\tremaining: 2.04s\n",
      "78:\tlearn: 3226.0588512\ttotal: 1.32s\tremaining: 2.02s\n",
      "79:\tlearn: 3215.7841798\ttotal: 1.33s\tremaining: 2s\n",
      "80:\tlearn: 3206.7865987\ttotal: 1.35s\tremaining: 1.98s\n",
      "81:\tlearn: 3196.5369913\ttotal: 1.36s\tremaining: 1.96s\n",
      "82:\tlearn: 3187.7051904\ttotal: 1.38s\tremaining: 1.95s\n",
      "83:\tlearn: 3177.7411229\ttotal: 1.4s\tremaining: 1.93s\n",
      "84:\tlearn: 3168.2464249\ttotal: 1.41s\tremaining: 1.91s\n",
      "85:\tlearn: 3159.4855964\ttotal: 1.43s\tremaining: 1.9s\n",
      "86:\tlearn: 3150.9114680\ttotal: 1.44s\tremaining: 1.88s\n",
      "87:\tlearn: 3141.4210383\ttotal: 1.46s\tremaining: 1.86s\n",
      "88:\tlearn: 3132.3827083\ttotal: 1.48s\tremaining: 1.84s\n",
      "89:\tlearn: 3124.3642659\ttotal: 1.5s\tremaining: 1.83s\n",
      "90:\tlearn: 3115.3617388\ttotal: 1.52s\tremaining: 1.82s\n",
      "91:\tlearn: 3107.2975381\ttotal: 1.53s\tremaining: 1.8s\n",
      "92:\tlearn: 3099.2469112\ttotal: 1.55s\tremaining: 1.78s\n",
      "93:\tlearn: 3090.5114590\ttotal: 1.56s\tremaining: 1.76s\n",
      "94:\tlearn: 3082.7195079\ttotal: 1.58s\tremaining: 1.75s\n",
      "95:\tlearn: 3074.1851763\ttotal: 1.6s\tremaining: 1.73s\n",
      "96:\tlearn: 3066.0250957\ttotal: 1.61s\tremaining: 1.71s\n",
      "97:\tlearn: 3058.3575048\ttotal: 1.63s\tremaining: 1.69s\n",
      "98:\tlearn: 3050.8824596\ttotal: 1.64s\tremaining: 1.68s\n",
      "99:\tlearn: 3042.6862352\ttotal: 1.66s\tremaining: 1.66s\n",
      "100:\tlearn: 3034.8037010\ttotal: 1.68s\tremaining: 1.64s\n",
      "101:\tlearn: 3027.0085494\ttotal: 1.69s\tremaining: 1.63s\n",
      "102:\tlearn: 3019.2893661\ttotal: 1.71s\tremaining: 1.61s\n",
      "103:\tlearn: 3012.3103091\ttotal: 1.73s\tremaining: 1.59s\n",
      "104:\tlearn: 3005.4810666\ttotal: 1.74s\tremaining: 1.58s\n",
      "105:\tlearn: 2998.0611295\ttotal: 1.76s\tremaining: 1.56s\n",
      "106:\tlearn: 2991.5406926\ttotal: 1.78s\tremaining: 1.54s\n",
      "107:\tlearn: 2984.3535363\ttotal: 1.79s\tremaining: 1.53s\n",
      "108:\tlearn: 2977.3358113\ttotal: 1.81s\tremaining: 1.51s\n",
      "109:\tlearn: 2970.8028998\ttotal: 1.82s\tremaining: 1.49s\n",
      "110:\tlearn: 2964.4086221\ttotal: 1.84s\tremaining: 1.48s\n",
      "111:\tlearn: 2957.5628494\ttotal: 1.86s\tremaining: 1.46s\n",
      "112:\tlearn: 2951.5583226\ttotal: 1.87s\tremaining: 1.44s\n",
      "113:\tlearn: 2944.9844141\ttotal: 1.89s\tremaining: 1.43s\n",
      "114:\tlearn: 2938.4312708\ttotal: 1.91s\tremaining: 1.41s\n"
     ]
    },
    {
     "name": "stdout",
     "output_type": "stream",
     "text": [
      "115:\tlearn: 2931.8999903\ttotal: 1.92s\tremaining: 1.39s\n",
      "116:\tlearn: 2926.0477169\ttotal: 1.94s\tremaining: 1.37s\n",
      "117:\tlearn: 2920.2923712\ttotal: 1.96s\tremaining: 1.36s\n",
      "118:\tlearn: 2914.5991709\ttotal: 1.97s\tremaining: 1.34s\n",
      "119:\tlearn: 2907.8107286\ttotal: 1.99s\tremaining: 1.33s\n",
      "120:\tlearn: 2901.6460644\ttotal: 2.01s\tremaining: 1.31s\n",
      "121:\tlearn: 2896.0313893\ttotal: 2.02s\tremaining: 1.29s\n",
      "122:\tlearn: 2890.5578166\ttotal: 2.04s\tremaining: 1.27s\n",
      "123:\tlearn: 2884.0866301\ttotal: 2.05s\tremaining: 1.26s\n",
      "124:\tlearn: 2878.2631881\ttotal: 2.07s\tremaining: 1.24s\n",
      "125:\tlearn: 2873.0355167\ttotal: 2.08s\tremaining: 1.22s\n",
      "126:\tlearn: 2867.7719185\ttotal: 2.1s\tremaining: 1.21s\n",
      "127:\tlearn: 2862.6390637\ttotal: 2.12s\tremaining: 1.19s\n",
      "128:\tlearn: 2857.2181932\ttotal: 2.13s\tremaining: 1.17s\n",
      "129:\tlearn: 2852.1261814\ttotal: 2.15s\tremaining: 1.16s\n",
      "130:\tlearn: 2846.3712937\ttotal: 2.17s\tremaining: 1.14s\n",
      "131:\tlearn: 2841.5139208\ttotal: 2.18s\tremaining: 1.13s\n",
      "132:\tlearn: 2835.8774806\ttotal: 2.2s\tremaining: 1.11s\n",
      "133:\tlearn: 2831.0263238\ttotal: 2.21s\tremaining: 1.09s\n",
      "134:\tlearn: 2826.3370638\ttotal: 2.23s\tremaining: 1.07s\n",
      "135:\tlearn: 2820.6713562\ttotal: 2.25s\tremaining: 1.06s\n",
      "136:\tlearn: 2816.0188766\ttotal: 2.27s\tremaining: 1.04s\n",
      "137:\tlearn: 2810.4861927\ttotal: 2.28s\tremaining: 1.03s\n",
      "138:\tlearn: 2805.1035920\ttotal: 2.3s\tremaining: 1.01s\n",
      "139:\tlearn: 2800.5687998\ttotal: 2.31s\tremaining: 992ms\n",
      "140:\tlearn: 2795.3280108\ttotal: 2.33s\tremaining: 975ms\n",
      "141:\tlearn: 2790.9392100\ttotal: 2.34s\tremaining: 958ms\n",
      "142:\tlearn: 2785.8516224\ttotal: 2.36s\tremaining: 941ms\n",
      "143:\tlearn: 2781.3696142\ttotal: 2.38s\tremaining: 924ms\n",
      "144:\tlearn: 2776.3793025\ttotal: 2.39s\tremaining: 908ms\n",
      "145:\tlearn: 2772.2548783\ttotal: 2.41s\tremaining: 891ms\n",
      "146:\tlearn: 2767.3150917\ttotal: 2.42s\tremaining: 874ms\n",
      "147:\tlearn: 2762.6777107\ttotal: 2.44s\tremaining: 857ms\n",
      "148:\tlearn: 2758.3833078\ttotal: 2.45s\tremaining: 840ms\n",
      "149:\tlearn: 2754.3095892\ttotal: 2.47s\tremaining: 823ms\n",
      "150:\tlearn: 2750.3131213\ttotal: 2.49s\tremaining: 809ms\n",
      "151:\tlearn: 2745.7223403\ttotal: 2.51s\tremaining: 793ms\n",
      "152:\tlearn: 2741.7835067\ttotal: 2.52s\tremaining: 776ms\n",
      "153:\tlearn: 2737.9365137\ttotal: 2.54s\tremaining: 759ms\n",
      "154:\tlearn: 2734.0054670\ttotal: 2.56s\tremaining: 742ms\n",
      "155:\tlearn: 2730.2069603\ttotal: 2.57s\tremaining: 726ms\n",
      "156:\tlearn: 2726.0240154\ttotal: 2.59s\tremaining: 709ms\n",
      "157:\tlearn: 2722.2574895\ttotal: 2.6s\tremaining: 693ms\n",
      "158:\tlearn: 2717.9154089\ttotal: 2.62s\tremaining: 676ms\n",
      "159:\tlearn: 2713.6687916\ttotal: 2.63s\tremaining: 659ms\n",
      "160:\tlearn: 2709.8430925\ttotal: 2.65s\tremaining: 642ms\n",
      "161:\tlearn: 2706.2705203\ttotal: 2.67s\tremaining: 625ms\n",
      "162:\tlearn: 2702.1536676\ttotal: 2.68s\tremaining: 609ms\n",
      "163:\tlearn: 2698.0928145\ttotal: 2.7s\tremaining: 592ms\n",
      "164:\tlearn: 2694.6909855\ttotal: 2.71s\tremaining: 575ms\n",
      "165:\tlearn: 2690.7038560\ttotal: 2.73s\tremaining: 558ms\n",
      "166:\tlearn: 2686.7950671\ttotal: 2.74s\tremaining: 542ms\n",
      "167:\tlearn: 2682.9238871\ttotal: 2.75s\tremaining: 525ms\n",
      "168:\tlearn: 2679.6018797\ttotal: 2.77s\tremaining: 509ms\n",
      "169:\tlearn: 2676.3317401\ttotal: 2.79s\tremaining: 492ms\n",
      "170:\tlearn: 2673.0154077\ttotal: 2.8s\tremaining: 476ms\n",
      "171:\tlearn: 2669.7196523\ttotal: 2.82s\tremaining: 459ms\n",
      "172:\tlearn: 2666.0231320\ttotal: 2.83s\tremaining: 442ms\n",
      "173:\tlearn: 2662.8328274\ttotal: 2.85s\tremaining: 426ms\n",
      "174:\tlearn: 2659.2029664\ttotal: 2.87s\tremaining: 409ms\n",
      "175:\tlearn: 2656.0479900\ttotal: 2.88s\tremaining: 393ms\n",
      "176:\tlearn: 2653.0081601\ttotal: 2.9s\tremaining: 376ms\n",
      "177:\tlearn: 2649.5587810\ttotal: 2.91s\tremaining: 360ms\n",
      "178:\tlearn: 2646.4114732\ttotal: 2.93s\tremaining: 343ms\n",
      "179:\tlearn: 2643.4473988\ttotal: 2.94s\tremaining: 327ms\n",
      "180:\tlearn: 2639.9561920\ttotal: 2.96s\tremaining: 310ms\n",
      "181:\tlearn: 2637.1135534\ttotal: 2.97s\tremaining: 294ms\n",
      "182:\tlearn: 2633.7977008\ttotal: 2.99s\tremaining: 278ms\n",
      "183:\tlearn: 2630.5186720\ttotal: 3.01s\tremaining: 262ms\n",
      "184:\tlearn: 2627.2414578\ttotal: 3.02s\tremaining: 245ms\n",
      "185:\tlearn: 2624.1242642\ttotal: 3.04s\tremaining: 229ms\n",
      "186:\tlearn: 2620.5972236\ttotal: 3.06s\tremaining: 213ms\n",
      "187:\tlearn: 2617.5049128\ttotal: 3.08s\tremaining: 197ms\n",
      "188:\tlearn: 2614.8102258\ttotal: 3.1s\tremaining: 180ms\n",
      "189:\tlearn: 2611.5070157\ttotal: 3.11s\tremaining: 164ms\n",
      "190:\tlearn: 2608.7827387\ttotal: 3.13s\tremaining: 147ms\n",
      "191:\tlearn: 2605.4471924\ttotal: 3.14s\tremaining: 131ms\n",
      "192:\tlearn: 2602.2634269\ttotal: 3.15s\tremaining: 114ms\n",
      "193:\tlearn: 2599.2966422\ttotal: 3.17s\tremaining: 98.1ms\n",
      "194:\tlearn: 2596.1680290\ttotal: 3.19s\tremaining: 81.7ms\n",
      "195:\tlearn: 2593.0350255\ttotal: 3.2s\tremaining: 65.4ms\n",
      "196:\tlearn: 2590.2170306\ttotal: 3.22s\tremaining: 49ms\n",
      "197:\tlearn: 2587.1138417\ttotal: 3.23s\tremaining: 32.7ms\n",
      "198:\tlearn: 2584.5653387\ttotal: 3.25s\tremaining: 16.3ms\n",
      "199:\tlearn: 2581.5758696\ttotal: 3.26s\tremaining: 0us\n",
      "0:\tlearn: 4491.7856588\ttotal: 16.8ms\tremaining: 3.35s\n",
      "1:\tlearn: 4466.2483434\ttotal: 33.7ms\tremaining: 3.33s\n",
      "2:\tlearn: 4441.7788902\ttotal: 49.2ms\tremaining: 3.23s\n",
      "3:\tlearn: 4417.0911069\ttotal: 64.6ms\tremaining: 3.16s\n",
      "4:\tlearn: 4392.4674852\ttotal: 79.4ms\tremaining: 3.1s\n",
      "5:\tlearn: 4369.0273666\ttotal: 94.8ms\tremaining: 3.06s\n",
      "6:\tlearn: 4345.3584188\ttotal: 110ms\tremaining: 3.04s\n",
      "7:\tlearn: 4321.7441422\ttotal: 127ms\tremaining: 3.05s\n",
      "8:\tlearn: 4298.4093463\ttotal: 144ms\tremaining: 3.05s\n",
      "9:\tlearn: 4276.1921420\ttotal: 159ms\tremaining: 3.02s\n",
      "10:\tlearn: 4254.0965638\ttotal: 175ms\tremaining: 3s\n",
      "11:\tlearn: 4232.3864193\ttotal: 190ms\tremaining: 2.97s\n",
      "12:\tlearn: 4210.1119575\ttotal: 205ms\tremaining: 2.95s\n",
      "13:\tlearn: 4188.9128408\ttotal: 222ms\tremaining: 2.95s\n",
      "14:\tlearn: 4167.8641115\ttotal: 239ms\tremaining: 2.95s\n",
      "15:\tlearn: 4147.1948875\ttotal: 255ms\tremaining: 2.94s\n",
      "16:\tlearn: 4126.0408917\ttotal: 271ms\tremaining: 2.91s\n",
      "17:\tlearn: 4105.8924609\ttotal: 286ms\tremaining: 2.89s\n",
      "18:\tlearn: 4085.8914050\ttotal: 301ms\tremaining: 2.87s\n",
      "19:\tlearn: 4066.2619741\ttotal: 318ms\tremaining: 2.87s\n",
      "20:\tlearn: 4047.3154644\ttotal: 336ms\tremaining: 2.86s\n",
      "21:\tlearn: 4027.7684012\ttotal: 351ms\tremaining: 2.84s\n",
      "22:\tlearn: 4008.8751074\ttotal: 367ms\tremaining: 2.82s\n",
      "23:\tlearn: 3990.2809661\ttotal: 383ms\tremaining: 2.81s\n",
      "24:\tlearn: 3970.9174977\ttotal: 398ms\tremaining: 2.78s\n",
      "25:\tlearn: 3951.1796130\ttotal: 414ms\tremaining: 2.77s\n",
      "26:\tlearn: 3932.7805104\ttotal: 431ms\tremaining: 2.76s\n",
      "27:\tlearn: 3914.3609432\ttotal: 447ms\tremaining: 2.75s\n",
      "28:\tlearn: 3895.7901194\ttotal: 462ms\tremaining: 2.73s\n",
      "29:\tlearn: 3877.7096589\ttotal: 478ms\tremaining: 2.71s\n",
      "30:\tlearn: 3859.9223958\ttotal: 493ms\tremaining: 2.69s\n",
      "31:\tlearn: 3842.3827885\ttotal: 513ms\tremaining: 2.69s\n",
      "32:\tlearn: 3824.9635287\ttotal: 530ms\tremaining: 2.68s\n",
      "33:\tlearn: 3807.7127698\ttotal: 547ms\tremaining: 2.67s\n",
      "34:\tlearn: 3791.3615721\ttotal: 563ms\tremaining: 2.65s\n",
      "35:\tlearn: 3775.3241430\ttotal: 578ms\tremaining: 2.63s\n",
      "36:\tlearn: 3758.6186696\ttotal: 593ms\tremaining: 2.61s\n",
      "37:\tlearn: 3742.3433830\ttotal: 609ms\tremaining: 2.6s\n",
      "38:\tlearn: 3726.2691976\ttotal: 627ms\tremaining: 2.59s\n",
      "39:\tlearn: 3710.3999297\ttotal: 644ms\tremaining: 2.58s\n",
      "40:\tlearn: 3694.5933759\ttotal: 662ms\tremaining: 2.56s\n",
      "41:\tlearn: 3679.1437998\ttotal: 679ms\tremaining: 2.56s\n",
      "42:\tlearn: 3663.8047701\ttotal: 695ms\tremaining: 2.54s\n",
      "43:\tlearn: 3648.6490632\ttotal: 715ms\tremaining: 2.54s\n",
      "44:\tlearn: 3632.9940421\ttotal: 732ms\tremaining: 2.52s\n",
      "45:\tlearn: 3617.3830269\ttotal: 748ms\tremaining: 2.5s\n",
      "46:\tlearn: 3603.3418631\ttotal: 764ms\tremaining: 2.49s\n",
      "47:\tlearn: 3589.1567085\ttotal: 779ms\tremaining: 2.47s\n",
      "48:\tlearn: 3574.9665763\ttotal: 794ms\tremaining: 2.45s\n",
      "49:\tlearn: 3560.5517699\ttotal: 811ms\tremaining: 2.43s\n",
      "50:\tlearn: 3546.7815145\ttotal: 827ms\tremaining: 2.42s\n",
      "51:\tlearn: 3533.1733480\ttotal: 844ms\tremaining: 2.4s\n",
      "52:\tlearn: 3519.5160251\ttotal: 860ms\tremaining: 2.38s\n",
      "53:\tlearn: 3505.9686130\ttotal: 875ms\tremaining: 2.37s\n",
      "54:\tlearn: 3492.7673667\ttotal: 891ms\tremaining: 2.35s\n",
      "55:\tlearn: 3479.9521793\ttotal: 907ms\tremaining: 2.33s\n",
      "56:\tlearn: 3466.2977728\ttotal: 923ms\tremaining: 2.32s\n",
      "57:\tlearn: 3453.7091516\ttotal: 940ms\tremaining: 2.3s\n",
      "58:\tlearn: 3440.2695562\ttotal: 956ms\tremaining: 2.28s\n",
      "59:\tlearn: 3427.0532724\ttotal: 971ms\tremaining: 2.27s\n",
      "60:\tlearn: 3415.4847084\ttotal: 987ms\tremaining: 2.25s\n",
      "61:\tlearn: 3402.9362795\ttotal: 1s\tremaining: 2.23s\n",
      "62:\tlearn: 3390.9559723\ttotal: 1.02s\tremaining: 2.22s\n",
      "63:\tlearn: 3379.3726852\ttotal: 1.04s\tremaining: 2.2s\n",
      "64:\tlearn: 3367.9767159\ttotal: 1.05s\tremaining: 2.19s\n",
      "65:\tlearn: 3356.5517038\ttotal: 1.07s\tremaining: 2.17s\n",
      "66:\tlearn: 3345.3820561\ttotal: 1.08s\tremaining: 2.15s\n",
      "67:\tlearn: 3334.2874519\ttotal: 1.1s\tremaining: 2.13s\n",
      "68:\tlearn: 3322.5404155\ttotal: 1.11s\tremaining: 2.12s\n",
      "69:\tlearn: 3312.0159348\ttotal: 1.13s\tremaining: 2.1s\n",
      "70:\tlearn: 3301.4397978\ttotal: 1.15s\tremaining: 2.09s\n",
      "71:\tlearn: 3290.2814936\ttotal: 1.16s\tremaining: 2.07s\n",
      "72:\tlearn: 3278.9992827\ttotal: 1.18s\tremaining: 2.05s\n",
      "73:\tlearn: 3267.9180381\ttotal: 1.19s\tremaining: 2.03s\n",
      "74:\tlearn: 3257.9803266\ttotal: 1.21s\tremaining: 2.02s\n",
      "75:\tlearn: 3247.8241578\ttotal: 1.23s\tremaining: 2s\n",
      "76:\tlearn: 3237.5539808\ttotal: 1.25s\tremaining: 1.99s\n"
     ]
    },
    {
     "name": "stdout",
     "output_type": "stream",
     "text": [
      "77:\tlearn: 3227.9054697\ttotal: 1.26s\tremaining: 1.98s\n",
      "78:\tlearn: 3218.2358766\ttotal: 1.28s\tremaining: 1.96s\n",
      "79:\tlearn: 3209.1635138\ttotal: 1.29s\tremaining: 1.94s\n",
      "80:\tlearn: 3199.9482338\ttotal: 1.31s\tremaining: 1.93s\n",
      "81:\tlearn: 3189.8726609\ttotal: 1.33s\tremaining: 1.91s\n",
      "82:\tlearn: 3180.1430212\ttotal: 1.35s\tremaining: 1.9s\n",
      "83:\tlearn: 3171.1765155\ttotal: 1.36s\tremaining: 1.88s\n",
      "84:\tlearn: 3161.5248564\ttotal: 1.38s\tremaining: 1.86s\n",
      "85:\tlearn: 3152.8496201\ttotal: 1.39s\tremaining: 1.85s\n",
      "86:\tlearn: 3143.3569593\ttotal: 1.41s\tremaining: 1.83s\n",
      "87:\tlearn: 3134.0741564\ttotal: 1.43s\tremaining: 1.82s\n",
      "88:\tlearn: 3125.6018158\ttotal: 1.44s\tremaining: 1.8s\n",
      "89:\tlearn: 3116.5700875\ttotal: 1.46s\tremaining: 1.78s\n",
      "90:\tlearn: 3108.3640205\ttotal: 1.48s\tremaining: 1.77s\n",
      "91:\tlearn: 3099.7440272\ttotal: 1.49s\tremaining: 1.75s\n",
      "92:\tlearn: 3091.7071610\ttotal: 1.51s\tremaining: 1.74s\n",
      "93:\tlearn: 3083.4051124\ttotal: 1.53s\tremaining: 1.73s\n",
      "94:\tlearn: 3075.5948852\ttotal: 1.55s\tremaining: 1.71s\n",
      "95:\tlearn: 3067.0314346\ttotal: 1.56s\tremaining: 1.69s\n",
      "96:\tlearn: 3058.8058381\ttotal: 1.58s\tremaining: 1.68s\n",
      "97:\tlearn: 3051.1963821\ttotal: 1.59s\tremaining: 1.66s\n",
      "98:\tlearn: 3043.1032405\ttotal: 1.61s\tremaining: 1.64s\n",
      "99:\tlearn: 3035.0998907\ttotal: 1.63s\tremaining: 1.63s\n",
      "100:\tlearn: 3027.5727358\ttotal: 1.64s\tremaining: 1.61s\n",
      "101:\tlearn: 3020.6027288\ttotal: 1.66s\tremaining: 1.59s\n",
      "102:\tlearn: 3013.7243770\ttotal: 1.68s\tremaining: 1.58s\n",
      "103:\tlearn: 3006.7611024\ttotal: 1.69s\tremaining: 1.56s\n",
      "104:\tlearn: 2999.8326926\ttotal: 1.71s\tremaining: 1.55s\n",
      "105:\tlearn: 2992.2645755\ttotal: 1.73s\tremaining: 1.53s\n",
      "106:\tlearn: 2984.9248131\ttotal: 1.74s\tremaining: 1.51s\n",
      "107:\tlearn: 2978.3824043\ttotal: 1.76s\tremaining: 1.5s\n",
      "108:\tlearn: 2971.3232434\ttotal: 1.78s\tremaining: 1.49s\n",
      "109:\tlearn: 2965.0068382\ttotal: 1.8s\tremaining: 1.47s\n",
      "110:\tlearn: 2958.6624614\ttotal: 1.81s\tremaining: 1.45s\n",
      "111:\tlearn: 2952.4373847\ttotal: 1.83s\tremaining: 1.44s\n",
      "112:\tlearn: 2946.4784476\ttotal: 1.85s\tremaining: 1.42s\n",
      "113:\tlearn: 2939.5512952\ttotal: 1.86s\tremaining: 1.4s\n",
      "114:\tlearn: 2933.5839170\ttotal: 1.88s\tremaining: 1.39s\n",
      "115:\tlearn: 2927.1728307\ttotal: 1.9s\tremaining: 1.37s\n",
      "116:\tlearn: 2920.7018861\ttotal: 1.91s\tremaining: 1.36s\n",
      "117:\tlearn: 2915.0108933\ttotal: 1.93s\tremaining: 1.34s\n",
      "118:\tlearn: 2908.6320361\ttotal: 1.95s\tremaining: 1.32s\n",
      "119:\tlearn: 2902.8274414\ttotal: 1.96s\tremaining: 1.31s\n",
      "120:\tlearn: 2897.1495689\ttotal: 1.98s\tremaining: 1.29s\n",
      "121:\tlearn: 2891.7611285\ttotal: 2s\tremaining: 1.27s\n",
      "122:\tlearn: 2885.8356550\ttotal: 2.01s\tremaining: 1.26s\n",
      "123:\tlearn: 2880.5824573\ttotal: 2.03s\tremaining: 1.24s\n",
      "124:\tlearn: 2874.6843864\ttotal: 2.04s\tremaining: 1.23s\n",
      "125:\tlearn: 2869.4512367\ttotal: 2.06s\tremaining: 1.21s\n",
      "126:\tlearn: 2863.7056453\ttotal: 2.08s\tremaining: 1.19s\n",
      "127:\tlearn: 2857.5246751\ttotal: 2.09s\tremaining: 1.18s\n",
      "128:\tlearn: 2851.9611366\ttotal: 2.11s\tremaining: 1.16s\n",
      "129:\tlearn: 2846.9107316\ttotal: 2.13s\tremaining: 1.15s\n",
      "130:\tlearn: 2842.0452133\ttotal: 2.14s\tremaining: 1.13s\n",
      "131:\tlearn: 2836.7865503\ttotal: 2.16s\tremaining: 1.11s\n",
      "132:\tlearn: 2831.9280842\ttotal: 2.17s\tremaining: 1.09s\n",
      "133:\tlearn: 2826.6621367\ttotal: 2.19s\tremaining: 1.08s\n",
      "134:\tlearn: 2820.9521172\ttotal: 2.21s\tremaining: 1.06s\n",
      "135:\tlearn: 2816.2135398\ttotal: 2.22s\tremaining: 1.05s\n",
      "136:\tlearn: 2811.5443380\ttotal: 2.24s\tremaining: 1.03s\n",
      "137:\tlearn: 2806.9524495\ttotal: 2.25s\tremaining: 1.01s\n",
      "138:\tlearn: 2801.9381477\ttotal: 2.27s\tremaining: 996ms\n",
      "139:\tlearn: 2797.4757627\ttotal: 2.28s\tremaining: 979ms\n",
      "140:\tlearn: 2793.0353999\ttotal: 2.3s\tremaining: 963ms\n",
      "141:\tlearn: 2787.7245432\ttotal: 2.32s\tremaining: 946ms\n",
      "142:\tlearn: 2783.4414818\ttotal: 2.33s\tremaining: 930ms\n",
      "143:\tlearn: 2778.2728301\ttotal: 2.35s\tremaining: 913ms\n",
      "144:\tlearn: 2773.3550772\ttotal: 2.36s\tremaining: 896ms\n",
      "145:\tlearn: 2769.1165986\ttotal: 2.38s\tremaining: 880ms\n",
      "146:\tlearn: 2764.9265260\ttotal: 2.39s\tremaining: 863ms\n",
      "147:\tlearn: 2759.9672730\ttotal: 2.41s\tremaining: 847ms\n",
      "148:\tlearn: 2755.0478099\ttotal: 2.42s\tremaining: 830ms\n",
      "149:\tlearn: 2750.1889948\ttotal: 2.44s\tremaining: 813ms\n",
      "150:\tlearn: 2745.6298421\ttotal: 2.45s\tremaining: 797ms\n",
      "151:\tlearn: 2741.0613954\ttotal: 2.47s\tremaining: 780ms\n",
      "152:\tlearn: 2736.4247332\ttotal: 2.48s\tremaining: 763ms\n",
      "153:\tlearn: 2732.0851701\ttotal: 2.5s\tremaining: 747ms\n",
      "154:\tlearn: 2728.1781262\ttotal: 2.52s\tremaining: 730ms\n",
      "155:\tlearn: 2724.2701256\ttotal: 2.53s\tremaining: 714ms\n",
      "156:\tlearn: 2720.4379131\ttotal: 2.55s\tremaining: 698ms\n",
      "157:\tlearn: 2716.5521805\ttotal: 2.56s\tremaining: 681ms\n",
      "158:\tlearn: 2712.3192887\ttotal: 2.58s\tremaining: 664ms\n",
      "159:\tlearn: 2708.5178704\ttotal: 2.6s\tremaining: 649ms\n",
      "160:\tlearn: 2704.8759820\ttotal: 2.61s\tremaining: 633ms\n",
      "161:\tlearn: 2701.2559319\ttotal: 2.63s\tremaining: 617ms\n",
      "162:\tlearn: 2697.0825558\ttotal: 2.64s\tremaining: 600ms\n",
      "163:\tlearn: 2693.5344526\ttotal: 2.66s\tremaining: 584ms\n",
      "164:\tlearn: 2689.4507724\ttotal: 2.67s\tremaining: 567ms\n",
      "165:\tlearn: 2685.9228055\ttotal: 2.69s\tremaining: 551ms\n",
      "166:\tlearn: 2682.5076781\ttotal: 2.71s\tremaining: 535ms\n",
      "167:\tlearn: 2678.6559577\ttotal: 2.72s\tremaining: 519ms\n",
      "168:\tlearn: 2674.8010706\ttotal: 2.74s\tremaining: 503ms\n",
      "169:\tlearn: 2671.5702711\ttotal: 2.75s\tremaining: 486ms\n",
      "170:\tlearn: 2667.8746049\ttotal: 2.77s\tremaining: 470ms\n",
      "171:\tlearn: 2664.2768901\ttotal: 2.79s\tremaining: 453ms\n",
      "172:\tlearn: 2660.9753290\ttotal: 2.8s\tremaining: 437ms\n",
      "173:\tlearn: 2657.3419217\ttotal: 2.82s\tremaining: 421ms\n",
      "174:\tlearn: 2654.1164608\ttotal: 2.83s\tremaining: 405ms\n",
      "175:\tlearn: 2650.4529086\ttotal: 2.85s\tremaining: 389ms\n",
      "176:\tlearn: 2646.9529486\ttotal: 2.87s\tremaining: 373ms\n",
      "177:\tlearn: 2643.8840194\ttotal: 2.89s\tremaining: 357ms\n",
      "178:\tlearn: 2640.4759862\ttotal: 2.91s\tremaining: 341ms\n",
      "179:\tlearn: 2637.1693961\ttotal: 2.92s\tremaining: 325ms\n",
      "180:\tlearn: 2633.8179609\ttotal: 2.94s\tremaining: 309ms\n",
      "181:\tlearn: 2630.7384153\ttotal: 2.96s\tremaining: 292ms\n",
      "182:\tlearn: 2627.2192390\ttotal: 2.97s\tremaining: 276ms\n",
      "183:\tlearn: 2624.3158662\ttotal: 2.99s\tremaining: 260ms\n",
      "184:\tlearn: 2621.1225242\ttotal: 3s\tremaining: 243ms\n",
      "185:\tlearn: 2618.1917393\ttotal: 3.02s\tremaining: 227ms\n",
      "186:\tlearn: 2614.7010102\ttotal: 3.03s\tremaining: 211ms\n",
      "187:\tlearn: 2611.3516946\ttotal: 3.05s\tremaining: 195ms\n",
      "188:\tlearn: 2608.4554792\ttotal: 3.06s\tremaining: 178ms\n",
      "189:\tlearn: 2605.1244542\ttotal: 3.08s\tremaining: 162ms\n",
      "190:\tlearn: 2602.3096883\ttotal: 3.1s\tremaining: 146ms\n",
      "191:\tlearn: 2599.0703279\ttotal: 3.11s\tremaining: 130ms\n",
      "192:\tlearn: 2596.2219824\ttotal: 3.13s\tremaining: 113ms\n",
      "193:\tlearn: 2593.5667251\ttotal: 3.14s\tremaining: 97.2ms\n",
      "194:\tlearn: 2590.4353951\ttotal: 3.16s\tremaining: 81ms\n",
      "195:\tlearn: 2587.5294064\ttotal: 3.17s\tremaining: 64.7ms\n",
      "196:\tlearn: 2584.7809632\ttotal: 3.19s\tremaining: 48.5ms\n",
      "197:\tlearn: 2581.6802207\ttotal: 3.21s\tremaining: 32.4ms\n",
      "198:\tlearn: 2579.0943789\ttotal: 3.22s\tremaining: 16.2ms\n",
      "199:\tlearn: 2576.1419654\ttotal: 3.24s\tremaining: 0us\n",
      "0:\tlearn: 4488.4625974\ttotal: 15.6ms\tremaining: 3.1s\n",
      "1:\tlearn: 4463.3247513\ttotal: 31.2ms\tremaining: 3.09s\n",
      "2:\tlearn: 4439.0234669\ttotal: 46.8ms\tremaining: 3.07s\n",
      "3:\tlearn: 4415.1437652\ttotal: 67.5ms\tremaining: 3.31s\n",
      "4:\tlearn: 4391.4619477\ttotal: 84.1ms\tremaining: 3.28s\n",
      "5:\tlearn: 4368.1839564\ttotal: 99.6ms\tremaining: 3.22s\n",
      "6:\tlearn: 4345.2473215\ttotal: 115ms\tremaining: 3.17s\n",
      "7:\tlearn: 4322.9039085\ttotal: 130ms\tremaining: 3.13s\n",
      "8:\tlearn: 4299.7128962\ttotal: 146ms\tremaining: 3.1s\n",
      "9:\tlearn: 4276.6858569\ttotal: 163ms\tremaining: 3.09s\n",
      "10:\tlearn: 4254.5907850\ttotal: 180ms\tremaining: 3.09s\n",
      "11:\tlearn: 4232.0835278\ttotal: 196ms\tremaining: 3.07s\n",
      "12:\tlearn: 4209.7360541\ttotal: 211ms\tremaining: 3.04s\n",
      "13:\tlearn: 4188.7711071\ttotal: 227ms\tremaining: 3.02s\n",
      "14:\tlearn: 4167.8389745\ttotal: 243ms\tremaining: 2.99s\n",
      "15:\tlearn: 4147.2693653\ttotal: 259ms\tremaining: 2.98s\n",
      "16:\tlearn: 4126.2518642\ttotal: 276ms\tremaining: 2.97s\n",
      "17:\tlearn: 4105.4536169\ttotal: 293ms\tremaining: 2.96s\n",
      "18:\tlearn: 4085.1529693\ttotal: 309ms\tremaining: 2.94s\n",
      "19:\tlearn: 4064.6563368\ttotal: 324ms\tremaining: 2.91s\n",
      "20:\tlearn: 4044.8036747\ttotal: 339ms\tremaining: 2.89s\n",
      "21:\tlearn: 4025.2183373\ttotal: 355ms\tremaining: 2.87s\n",
      "22:\tlearn: 4006.2255928\ttotal: 372ms\tremaining: 2.86s\n",
      "23:\tlearn: 3986.0321541\ttotal: 389ms\tremaining: 2.85s\n",
      "24:\tlearn: 3966.8788845\ttotal: 404ms\tremaining: 2.83s\n",
      "25:\tlearn: 3947.2651534\ttotal: 419ms\tremaining: 2.8s\n",
      "26:\tlearn: 3928.5118949\ttotal: 434ms\tremaining: 2.78s\n",
      "27:\tlearn: 3909.9575542\ttotal: 459ms\tremaining: 2.82s\n",
      "28:\tlearn: 3892.3632449\ttotal: 476ms\tremaining: 2.81s\n",
      "29:\tlearn: 3874.5695511\ttotal: 493ms\tremaining: 2.79s\n",
      "30:\tlearn: 3856.8654650\ttotal: 509ms\tremaining: 2.77s\n",
      "31:\tlearn: 3840.1209191\ttotal: 525ms\tremaining: 2.75s\n",
      "32:\tlearn: 3822.9374206\ttotal: 540ms\tremaining: 2.73s\n",
      "33:\tlearn: 3805.7974040\ttotal: 557ms\tremaining: 2.72s\n",
      "34:\tlearn: 3788.9678163\ttotal: 575ms\tremaining: 2.71s\n",
      "35:\tlearn: 3772.8136861\ttotal: 592ms\tremaining: 2.69s\n",
      "36:\tlearn: 3756.8454282\ttotal: 609ms\tremaining: 2.68s\n",
      "37:\tlearn: 3739.6925032\ttotal: 624ms\tremaining: 2.66s\n"
     ]
    },
    {
     "name": "stdout",
     "output_type": "stream",
     "text": [
      "38:\tlearn: 3723.6168467\ttotal: 639ms\tremaining: 2.64s\n",
      "39:\tlearn: 3708.3272176\ttotal: 655ms\tremaining: 2.62s\n",
      "40:\tlearn: 3692.6813247\ttotal: 672ms\tremaining: 2.61s\n",
      "41:\tlearn: 3677.2769607\ttotal: 689ms\tremaining: 2.59s\n",
      "42:\tlearn: 3662.0079618\ttotal: 704ms\tremaining: 2.57s\n",
      "43:\tlearn: 3647.0003321\ttotal: 720ms\tremaining: 2.55s\n",
      "44:\tlearn: 3632.2740121\ttotal: 735ms\tremaining: 2.53s\n",
      "45:\tlearn: 3617.1147512\ttotal: 750ms\tremaining: 2.51s\n",
      "46:\tlearn: 3603.1965814\ttotal: 767ms\tremaining: 2.5s\n",
      "47:\tlearn: 3588.1410896\ttotal: 784ms\tremaining: 2.48s\n",
      "48:\tlearn: 3574.1497851\ttotal: 800ms\tremaining: 2.46s\n",
      "49:\tlearn: 3559.8483739\ttotal: 816ms\tremaining: 2.45s\n",
      "50:\tlearn: 3546.2788183\ttotal: 831ms\tremaining: 2.43s\n",
      "51:\tlearn: 3532.6069445\ttotal: 852ms\tremaining: 2.42s\n",
      "52:\tlearn: 3519.1689679\ttotal: 869ms\tremaining: 2.41s\n",
      "53:\tlearn: 3505.9818648\ttotal: 886ms\tremaining: 2.39s\n",
      "54:\tlearn: 3492.2709755\ttotal: 901ms\tremaining: 2.37s\n",
      "55:\tlearn: 3478.9116299\ttotal: 916ms\tremaining: 2.35s\n",
      "56:\tlearn: 3466.0364882\ttotal: 931ms\tremaining: 2.34s\n",
      "57:\tlearn: 3453.5644621\ttotal: 946ms\tremaining: 2.32s\n",
      "58:\tlearn: 3441.3120575\ttotal: 964ms\tremaining: 2.3s\n",
      "59:\tlearn: 3428.0237187\ttotal: 981ms\tremaining: 2.29s\n",
      "60:\tlearn: 3415.5898278\ttotal: 996ms\tremaining: 2.27s\n",
      "61:\tlearn: 3402.7207691\ttotal: 1.01s\tremaining: 2.25s\n",
      "62:\tlearn: 3391.2919384\ttotal: 1.03s\tremaining: 2.23s\n",
      "63:\tlearn: 3378.9744434\ttotal: 1.04s\tremaining: 2.21s\n",
      "64:\tlearn: 3367.5770060\ttotal: 1.06s\tremaining: 2.2s\n",
      "65:\tlearn: 3355.5794983\ttotal: 1.07s\tremaining: 2.18s\n",
      "66:\tlearn: 3344.5255955\ttotal: 1.09s\tremaining: 2.16s\n",
      "67:\tlearn: 3332.5488050\ttotal: 1.1s\tremaining: 2.15s\n",
      "68:\tlearn: 3321.4300284\ttotal: 1.12s\tremaining: 2.13s\n",
      "69:\tlearn: 3310.6567625\ttotal: 1.14s\tremaining: 2.11s\n",
      "70:\tlearn: 3300.1030057\ttotal: 1.16s\tremaining: 2.1s\n",
      "71:\tlearn: 3288.9416194\ttotal: 1.17s\tremaining: 2.09s\n",
      "72:\tlearn: 3277.7153226\ttotal: 1.19s\tremaining: 2.07s\n",
      "73:\tlearn: 3266.9316864\ttotal: 1.21s\tremaining: 2.05s\n",
      "74:\tlearn: 3257.0391429\ttotal: 1.22s\tremaining: 2.03s\n",
      "75:\tlearn: 3247.4146307\ttotal: 1.24s\tremaining: 2.02s\n",
      "76:\tlearn: 3238.0714849\ttotal: 1.25s\tremaining: 2s\n",
      "77:\tlearn: 3228.1657546\ttotal: 1.27s\tremaining: 1.99s\n",
      "78:\tlearn: 3218.9247629\ttotal: 1.29s\tremaining: 1.97s\n",
      "79:\tlearn: 3209.8009237\ttotal: 1.3s\tremaining: 1.95s\n",
      "80:\tlearn: 3200.7776295\ttotal: 1.32s\tremaining: 1.94s\n",
      "81:\tlearn: 3191.4435253\ttotal: 1.33s\tremaining: 1.92s\n",
      "82:\tlearn: 3181.4443228\ttotal: 1.35s\tremaining: 1.9s\n",
      "83:\tlearn: 3171.6099985\ttotal: 1.36s\tremaining: 1.89s\n",
      "84:\tlearn: 3162.7159945\ttotal: 1.38s\tremaining: 1.87s\n",
      "85:\tlearn: 3154.0226528\ttotal: 1.4s\tremaining: 1.85s\n",
      "86:\tlearn: 3145.4597341\ttotal: 1.41s\tremaining: 1.84s\n",
      "87:\tlearn: 3136.0824584\ttotal: 1.43s\tremaining: 1.82s\n",
      "88:\tlearn: 3128.0428699\ttotal: 1.45s\tremaining: 1.8s\n",
      "89:\tlearn: 3120.0026739\ttotal: 1.46s\tremaining: 1.79s\n",
      "90:\tlearn: 3111.0075887\ttotal: 1.48s\tremaining: 1.77s\n",
      "91:\tlearn: 3103.2931297\ttotal: 1.49s\tremaining: 1.75s\n",
      "92:\tlearn: 3094.4352094\ttotal: 1.51s\tremaining: 1.74s\n",
      "93:\tlearn: 3086.4328311\ttotal: 1.52s\tremaining: 1.72s\n",
      "94:\tlearn: 3077.9036041\ttotal: 1.54s\tremaining: 1.7s\n",
      "95:\tlearn: 3070.2554945\ttotal: 1.56s\tremaining: 1.69s\n",
      "96:\tlearn: 3062.0380131\ttotal: 1.58s\tremaining: 1.68s\n",
      "97:\tlearn: 3053.7170310\ttotal: 1.59s\tremaining: 1.66s\n",
      "98:\tlearn: 3046.6330830\ttotal: 1.61s\tremaining: 1.64s\n",
      "99:\tlearn: 3038.5590262\ttotal: 1.63s\tremaining: 1.63s\n",
      "100:\tlearn: 3030.5441978\ttotal: 1.64s\tremaining: 1.61s\n",
      "101:\tlearn: 3023.4268981\ttotal: 1.66s\tremaining: 1.59s\n",
      "102:\tlearn: 3016.5142142\ttotal: 1.67s\tremaining: 1.58s\n",
      "103:\tlearn: 3009.5681118\ttotal: 1.69s\tremaining: 1.56s\n",
      "104:\tlearn: 3002.1708579\ttotal: 1.71s\tremaining: 1.54s\n",
      "105:\tlearn: 2994.7604381\ttotal: 1.72s\tremaining: 1.53s\n",
      "106:\tlearn: 2988.2987656\ttotal: 1.74s\tremaining: 1.51s\n",
      "107:\tlearn: 2981.8648071\ttotal: 1.76s\tremaining: 1.5s\n",
      "108:\tlearn: 2974.8094438\ttotal: 1.78s\tremaining: 1.48s\n",
      "109:\tlearn: 2967.6748091\ttotal: 1.79s\tremaining: 1.47s\n",
      "110:\tlearn: 2961.3779964\ttotal: 1.81s\tremaining: 1.45s\n",
      "111:\tlearn: 2955.1718535\ttotal: 1.82s\tremaining: 1.43s\n",
      "112:\tlearn: 2948.1373302\ttotal: 1.84s\tremaining: 1.42s\n",
      "113:\tlearn: 2941.8912713\ttotal: 1.86s\tremaining: 1.4s\n",
      "114:\tlearn: 2935.7465329\ttotal: 1.87s\tremaining: 1.39s\n",
      "115:\tlearn: 2929.1816128\ttotal: 1.89s\tremaining: 1.37s\n",
      "116:\tlearn: 2922.7306676\ttotal: 1.91s\tremaining: 1.35s\n",
      "117:\tlearn: 2917.0498503\ttotal: 1.92s\tremaining: 1.33s\n",
      "118:\tlearn: 2910.6855808\ttotal: 1.94s\tremaining: 1.32s\n",
      "119:\tlearn: 2905.1113891\ttotal: 1.95s\tremaining: 1.3s\n",
      "120:\tlearn: 2899.4097149\ttotal: 1.97s\tremaining: 1.29s\n",
      "121:\tlearn: 2893.2939811\ttotal: 1.99s\tremaining: 1.27s\n",
      "122:\tlearn: 2887.9014042\ttotal: 2.01s\tremaining: 1.25s\n",
      "123:\tlearn: 2882.6285400\ttotal: 2.02s\tremaining: 1.24s\n",
      "124:\tlearn: 2877.4245987\ttotal: 2.04s\tremaining: 1.22s\n",
      "125:\tlearn: 2871.5734327\ttotal: 2.05s\tremaining: 1.21s\n",
      "126:\tlearn: 2865.2559312\ttotal: 2.07s\tremaining: 1.19s\n",
      "127:\tlearn: 2859.6092775\ttotal: 2.09s\tremaining: 1.17s\n",
      "128:\tlearn: 2854.5798238\ttotal: 2.1s\tremaining: 1.16s\n",
      "129:\tlearn: 2849.4707801\ttotal: 2.12s\tremaining: 1.14s\n",
      "130:\tlearn: 2844.0220931\ttotal: 2.13s\tremaining: 1.12s\n",
      "131:\tlearn: 2838.3379771\ttotal: 2.15s\tremaining: 1.11s\n",
      "132:\tlearn: 2832.7402984\ttotal: 2.17s\tremaining: 1.09s\n",
      "133:\tlearn: 2826.9868141\ttotal: 2.18s\tremaining: 1.07s\n",
      "134:\tlearn: 2822.1463731\ttotal: 2.2s\tremaining: 1.06s\n",
      "135:\tlearn: 2817.4784915\ttotal: 2.21s\tremaining: 1.04s\n",
      "136:\tlearn: 2812.3518395\ttotal: 2.23s\tremaining: 1.02s\n",
      "137:\tlearn: 2807.0853594\ttotal: 2.24s\tremaining: 1.01s\n",
      "138:\tlearn: 2801.6804873\ttotal: 2.26s\tremaining: 991ms\n",
      "139:\tlearn: 2797.1436573\ttotal: 2.27s\tremaining: 975ms\n",
      "140:\tlearn: 2792.0875936\ttotal: 2.29s\tremaining: 958ms\n",
      "141:\tlearn: 2787.6320265\ttotal: 2.3s\tremaining: 941ms\n",
      "142:\tlearn: 2783.2658832\ttotal: 2.32s\tremaining: 925ms\n",
      "143:\tlearn: 2778.2142496\ttotal: 2.33s\tremaining: 908ms\n",
      "144:\tlearn: 2773.9729688\ttotal: 2.35s\tremaining: 892ms\n",
      "145:\tlearn: 2769.6864078\ttotal: 2.37s\tremaining: 876ms\n",
      "146:\tlearn: 2765.5460734\ttotal: 2.38s\tremaining: 859ms\n",
      "147:\tlearn: 2761.3378709\ttotal: 2.4s\tremaining: 843ms\n",
      "148:\tlearn: 2757.2447726\ttotal: 2.42s\tremaining: 827ms\n",
      "149:\tlearn: 2753.2100194\ttotal: 2.43s\tremaining: 810ms\n",
      "150:\tlearn: 2748.4384061\ttotal: 2.44s\tremaining: 793ms\n",
      "151:\tlearn: 2744.1321904\ttotal: 2.46s\tremaining: 777ms\n",
      "152:\tlearn: 2739.9294804\ttotal: 2.48s\tremaining: 761ms\n",
      "153:\tlearn: 2735.4633515\ttotal: 2.49s\tremaining: 745ms\n",
      "154:\tlearn: 2731.6512724\ttotal: 2.51s\tremaining: 729ms\n",
      "155:\tlearn: 2727.8006928\ttotal: 2.52s\tremaining: 712ms\n",
      "156:\tlearn: 2724.0430223\ttotal: 2.54s\tremaining: 697ms\n",
      "157:\tlearn: 2719.6049279\ttotal: 2.56s\tremaining: 681ms\n",
      "158:\tlearn: 2715.6177724\ttotal: 2.58s\tremaining: 664ms\n",
      "159:\tlearn: 2711.3495018\ttotal: 2.59s\tremaining: 648ms\n",
      "160:\tlearn: 2707.0904556\ttotal: 2.6s\tremaining: 631ms\n",
      "161:\tlearn: 2702.9227945\ttotal: 2.62s\tremaining: 615ms\n",
      "162:\tlearn: 2699.3784671\ttotal: 2.63s\tremaining: 598ms\n",
      "163:\tlearn: 2695.4088296\ttotal: 2.65s\tremaining: 582ms\n",
      "164:\tlearn: 2691.3980940\ttotal: 2.67s\tremaining: 566ms\n",
      "165:\tlearn: 2687.9140250\ttotal: 2.68s\tremaining: 550ms\n",
      "166:\tlearn: 2684.4741907\ttotal: 2.7s\tremaining: 533ms\n",
      "167:\tlearn: 2680.5885854\ttotal: 2.71s\tremaining: 517ms\n",
      "168:\tlearn: 2676.7725076\ttotal: 2.73s\tremaining: 501ms\n",
      "169:\tlearn: 2673.5686643\ttotal: 2.75s\tremaining: 486ms\n",
      "170:\tlearn: 2669.8690996\ttotal: 2.77s\tremaining: 470ms\n",
      "171:\tlearn: 2666.3615197\ttotal: 2.79s\tremaining: 454ms\n",
      "172:\tlearn: 2662.7261270\ttotal: 2.8s\tremaining: 437ms\n",
      "173:\tlearn: 2659.1079086\ttotal: 2.82s\tremaining: 421ms\n",
      "174:\tlearn: 2655.8633889\ttotal: 2.83s\tremaining: 405ms\n",
      "175:\tlearn: 2652.3312337\ttotal: 2.85s\tremaining: 388ms\n",
      "176:\tlearn: 2649.2094871\ttotal: 2.87s\tremaining: 372ms\n",
      "177:\tlearn: 2646.1944661\ttotal: 2.88s\tremaining: 356ms\n",
      "178:\tlearn: 2643.1777530\ttotal: 2.9s\tremaining: 340ms\n",
      "179:\tlearn: 2639.8323344\ttotal: 2.91s\tremaining: 323ms\n",
      "180:\tlearn: 2636.4528913\ttotal: 2.92s\tremaining: 307ms\n",
      "181:\tlearn: 2633.1418887\ttotal: 2.94s\tremaining: 291ms\n",
      "182:\tlearn: 2630.1935334\ttotal: 2.96s\tremaining: 275ms\n",
      "183:\tlearn: 2627.2413309\ttotal: 2.97s\tremaining: 259ms\n",
      "184:\tlearn: 2624.0183874\ttotal: 2.99s\tremaining: 242ms\n",
      "185:\tlearn: 2620.8620407\ttotal: 3s\tremaining: 226ms\n",
      "186:\tlearn: 2617.3195848\ttotal: 3.02s\tremaining: 210ms\n",
      "187:\tlearn: 2613.9699271\ttotal: 3.03s\tremaining: 194ms\n",
      "188:\tlearn: 2610.9411153\ttotal: 3.05s\tremaining: 177ms\n",
      "189:\tlearn: 2607.5904767\ttotal: 3.06s\tremaining: 161ms\n",
      "190:\tlearn: 2604.3187978\ttotal: 3.08s\tremaining: 145ms\n",
      "191:\tlearn: 2601.0577602\ttotal: 3.1s\tremaining: 129ms\n",
      "192:\tlearn: 2598.2039054\ttotal: 3.12s\tremaining: 113ms\n",
      "193:\tlearn: 2595.3987352\ttotal: 3.13s\tremaining: 96.9ms\n"
     ]
    },
    {
     "name": "stdout",
     "output_type": "stream",
     "text": [
      "194:\tlearn: 2592.2942465\ttotal: 3.15s\tremaining: 80.7ms\n",
      "195:\tlearn: 2589.2551888\ttotal: 3.17s\tremaining: 64.6ms\n",
      "196:\tlearn: 2586.5607724\ttotal: 3.18s\tremaining: 48.5ms\n",
      "197:\tlearn: 2583.4915354\ttotal: 3.2s\tremaining: 32.3ms\n",
      "198:\tlearn: 2580.9555437\ttotal: 3.21s\tremaining: 16.1ms\n",
      "199:\tlearn: 2578.0425287\ttotal: 3.23s\tremaining: 0us\n",
      "0:\tlearn: 4490.7287748\ttotal: 16.1ms\tremaining: 3.21s\n",
      "1:\tlearn: 4465.4318394\ttotal: 33.3ms\tremaining: 3.29s\n",
      "2:\tlearn: 4441.2102487\ttotal: 50.5ms\tremaining: 3.32s\n",
      "3:\tlearn: 4416.6744487\ttotal: 66ms\tremaining: 3.23s\n",
      "4:\tlearn: 4392.9548267\ttotal: 81.3ms\tremaining: 3.17s\n",
      "5:\tlearn: 4369.5852697\ttotal: 96.7ms\tremaining: 3.13s\n",
      "6:\tlearn: 4345.8269256\ttotal: 113ms\tremaining: 3.1s\n",
      "7:\tlearn: 4322.2876159\ttotal: 130ms\tremaining: 3.11s\n",
      "8:\tlearn: 4299.1027655\ttotal: 146ms\tremaining: 3.1s\n",
      "9:\tlearn: 4276.8777644\ttotal: 162ms\tremaining: 3.08s\n",
      "10:\tlearn: 4254.7825084\ttotal: 178ms\tremaining: 3.05s\n",
      "11:\tlearn: 4233.2037424\ttotal: 193ms\tremaining: 3.02s\n",
      "12:\tlearn: 4211.1012860\ttotal: 208ms\tremaining: 2.99s\n",
      "13:\tlearn: 4190.0105714\ttotal: 228ms\tremaining: 3.02s\n",
      "14:\tlearn: 4169.1195129\ttotal: 245ms\tremaining: 3.02s\n",
      "15:\tlearn: 4148.5287210\ttotal: 261ms\tremaining: 3.01s\n",
      "16:\tlearn: 4127.5140342\ttotal: 277ms\tremaining: 2.98s\n",
      "17:\tlearn: 4106.8659263\ttotal: 293ms\tremaining: 2.96s\n",
      "18:\tlearn: 4086.6447739\ttotal: 308ms\tremaining: 2.94s\n",
      "19:\tlearn: 4067.1215285\ttotal: 326ms\tremaining: 2.93s\n",
      "20:\tlearn: 4047.8274621\ttotal: 343ms\tremaining: 2.92s\n",
      "21:\tlearn: 4027.2892551\ttotal: 359ms\tremaining: 2.9s\n",
      "22:\tlearn: 4008.4810174\ttotal: 375ms\tremaining: 2.89s\n",
      "23:\tlearn: 3989.0949876\ttotal: 391ms\tremaining: 2.87s\n",
      "24:\tlearn: 3969.5983876\ttotal: 406ms\tremaining: 2.84s\n",
      "25:\tlearn: 3951.0697868\ttotal: 423ms\tremaining: 2.83s\n",
      "26:\tlearn: 3932.4731247\ttotal: 443ms\tremaining: 2.84s\n",
      "27:\tlearn: 3913.8892508\ttotal: 459ms\tremaining: 2.82s\n",
      "28:\tlearn: 3896.4231104\ttotal: 474ms\tremaining: 2.79s\n",
      "29:\tlearn: 3878.4955940\ttotal: 490ms\tremaining: 2.77s\n",
      "30:\tlearn: 3861.4822735\ttotal: 505ms\tremaining: 2.75s\n",
      "31:\tlearn: 3843.8869689\ttotal: 530ms\tremaining: 2.78s\n",
      "32:\tlearn: 3826.3770596\ttotal: 546ms\tremaining: 2.76s\n",
      "33:\tlearn: 3809.8872068\ttotal: 562ms\tremaining: 2.74s\n",
      "34:\tlearn: 3792.6298962\ttotal: 576ms\tremaining: 2.72s\n",
      "35:\tlearn: 3776.6502324\ttotal: 592ms\tremaining: 2.7s\n",
      "36:\tlearn: 3760.2321128\ttotal: 607ms\tremaining: 2.67s\n",
      "37:\tlearn: 3744.1765118\ttotal: 624ms\tremaining: 2.66s\n",
      "38:\tlearn: 3728.1034775\ttotal: 641ms\tremaining: 2.64s\n",
      "39:\tlearn: 3712.2658973\ttotal: 656ms\tremaining: 2.63s\n",
      "40:\tlearn: 3696.6154074\ttotal: 671ms\tremaining: 2.6s\n",
      "41:\tlearn: 3681.2718977\ttotal: 687ms\tremaining: 2.58s\n",
      "42:\tlearn: 3665.9306194\ttotal: 702ms\tremaining: 2.56s\n",
      "43:\tlearn: 3651.1927542\ttotal: 719ms\tremaining: 2.55s\n",
      "44:\tlearn: 3636.5032472\ttotal: 736ms\tremaining: 2.53s\n",
      "45:\tlearn: 3620.9825905\ttotal: 751ms\tremaining: 2.51s\n",
      "46:\tlearn: 3607.0071726\ttotal: 766ms\tremaining: 2.49s\n",
      "47:\tlearn: 3592.2142915\ttotal: 781ms\tremaining: 2.47s\n",
      "48:\tlearn: 3578.1792698\ttotal: 797ms\tremaining: 2.46s\n",
      "49:\tlearn: 3564.7411678\ttotal: 814ms\tremaining: 2.44s\n",
      "50:\tlearn: 3550.7155932\ttotal: 830ms\tremaining: 2.42s\n",
      "51:\tlearn: 3537.1701023\ttotal: 847ms\tremaining: 2.41s\n",
      "52:\tlearn: 3523.7722733\ttotal: 862ms\tremaining: 2.39s\n",
      "53:\tlearn: 3510.5677407\ttotal: 878ms\tremaining: 2.37s\n",
      "54:\tlearn: 3497.9955387\ttotal: 893ms\tremaining: 2.35s\n",
      "55:\tlearn: 3484.1387679\ttotal: 909ms\tremaining: 2.34s\n",
      "56:\tlearn: 3471.4704113\ttotal: 926ms\tremaining: 2.32s\n",
      "57:\tlearn: 3458.6481036\ttotal: 942ms\tremaining: 2.31s\n",
      "58:\tlearn: 3445.9282100\ttotal: 957ms\tremaining: 2.29s\n",
      "59:\tlearn: 3433.5451587\ttotal: 972ms\tremaining: 2.27s\n",
      "60:\tlearn: 3421.9004437\ttotal: 987ms\tremaining: 2.25s\n",
      "61:\tlearn: 3409.1259320\ttotal: 1s\tremaining: 2.23s\n",
      "62:\tlearn: 3397.3800557\ttotal: 1.02s\tremaining: 2.22s\n",
      "63:\tlearn: 3385.8821556\ttotal: 1.04s\tremaining: 2.2s\n",
      "64:\tlearn: 3374.8272414\ttotal: 1.05s\tremaining: 2.18s\n",
      "65:\tlearn: 3362.6025543\ttotal: 1.07s\tremaining: 2.17s\n",
      "66:\tlearn: 3351.4629255\ttotal: 1.08s\tremaining: 2.15s\n",
      "67:\tlearn: 3340.5336639\ttotal: 1.1s\tremaining: 2.13s\n",
      "68:\tlearn: 3328.9040994\ttotal: 1.11s\tremaining: 2.11s\n",
      "69:\tlearn: 3318.2580946\ttotal: 1.13s\tremaining: 2.1s\n",
      "70:\tlearn: 3307.7560239\ttotal: 1.15s\tremaining: 2.08s\n",
      "71:\tlearn: 3297.2175457\ttotal: 1.16s\tremaining: 2.06s\n",
      "72:\tlearn: 3286.0016758\ttotal: 1.18s\tremaining: 2.05s\n",
      "73:\tlearn: 3276.0100436\ttotal: 1.19s\tremaining: 2.03s\n",
      "74:\tlearn: 3264.9495067\ttotal: 1.21s\tremaining: 2.01s\n",
      "75:\tlearn: 3255.4351337\ttotal: 1.22s\tremaining: 2s\n",
      "76:\tlearn: 3244.9439125\ttotal: 1.24s\tremaining: 1.98s\n",
      "77:\tlearn: 3234.4764685\ttotal: 1.26s\tremaining: 1.96s\n",
      "78:\tlearn: 3224.9039748\ttotal: 1.27s\tremaining: 1.95s\n",
      "79:\tlearn: 3215.0641847\ttotal: 1.29s\tremaining: 1.93s\n",
      "80:\tlearn: 3205.9583954\ttotal: 1.31s\tremaining: 1.92s\n",
      "81:\tlearn: 3196.8376921\ttotal: 1.32s\tremaining: 1.91s\n",
      "82:\tlearn: 3188.2380190\ttotal: 1.34s\tremaining: 1.89s\n",
      "83:\tlearn: 3178.5213260\ttotal: 1.36s\tremaining: 1.87s\n",
      "84:\tlearn: 3168.9119989\ttotal: 1.37s\tremaining: 1.85s\n",
      "85:\tlearn: 3159.3461241\ttotal: 1.39s\tremaining: 1.84s\n",
      "86:\tlearn: 3149.9867984\ttotal: 1.4s\tremaining: 1.82s\n",
      "87:\tlearn: 3140.7490682\ttotal: 1.42s\tremaining: 1.81s\n",
      "88:\tlearn: 3132.4238339\ttotal: 1.44s\tremaining: 1.79s\n",
      "89:\tlearn: 3123.5795593\ttotal: 1.45s\tremaining: 1.78s\n",
      "90:\tlearn: 3115.4756991\ttotal: 1.47s\tremaining: 1.76s\n",
      "91:\tlearn: 3107.4033336\ttotal: 1.48s\tremaining: 1.74s\n",
      "92:\tlearn: 3099.4450677\ttotal: 1.5s\tremaining: 1.73s\n",
      "93:\tlearn: 3091.5671703\ttotal: 1.52s\tremaining: 1.72s\n",
      "94:\tlearn: 3083.7850699\ttotal: 1.54s\tremaining: 1.7s\n",
      "95:\tlearn: 3075.2225937\ttotal: 1.55s\tremaining: 1.68s\n",
      "96:\tlearn: 3067.7250688\ttotal: 1.57s\tremaining: 1.67s\n",
      "97:\tlearn: 3060.2547760\ttotal: 1.58s\tremaining: 1.65s\n",
      "98:\tlearn: 3052.4166177\ttotal: 1.6s\tremaining: 1.63s\n",
      "99:\tlearn: 3044.4300403\ttotal: 1.62s\tremaining: 1.62s\n",
      "100:\tlearn: 3036.5252498\ttotal: 1.64s\tremaining: 1.6s\n",
      "101:\tlearn: 3029.4201804\ttotal: 1.65s\tremaining: 1.58s\n",
      "102:\tlearn: 3022.4176743\ttotal: 1.67s\tremaining: 1.57s\n",
      "103:\tlearn: 3015.5158342\ttotal: 1.68s\tremaining: 1.55s\n",
      "104:\tlearn: 3008.1339390\ttotal: 1.7s\tremaining: 1.53s\n",
      "105:\tlearn: 3000.9879858\ttotal: 1.71s\tremaining: 1.52s\n",
      "106:\tlearn: 2993.6876451\ttotal: 1.73s\tremaining: 1.5s\n",
      "107:\tlearn: 2987.1948118\ttotal: 1.75s\tremaining: 1.49s\n",
      "108:\tlearn: 2980.1410722\ttotal: 1.76s\tremaining: 1.47s\n",
      "109:\tlearn: 2973.8848257\ttotal: 1.78s\tremaining: 1.45s\n",
      "110:\tlearn: 2966.8744827\ttotal: 1.79s\tremaining: 1.44s\n",
      "111:\tlearn: 2960.6050243\ttotal: 1.81s\tremaining: 1.42s\n",
      "112:\tlearn: 2954.6014755\ttotal: 1.82s\tremaining: 1.41s\n",
      "113:\tlearn: 2947.8048313\ttotal: 1.84s\tremaining: 1.39s\n",
      "114:\tlearn: 2941.0551576\ttotal: 1.85s\tremaining: 1.37s\n",
      "115:\tlearn: 2935.0863649\ttotal: 1.87s\tremaining: 1.35s\n",
      "116:\tlearn: 2929.2712002\ttotal: 1.89s\tremaining: 1.34s\n",
      "117:\tlearn: 2923.5799929\ttotal: 1.9s\tremaining: 1.32s\n",
      "118:\tlearn: 2917.2246266\ttotal: 1.92s\tremaining: 1.31s\n",
      "119:\tlearn: 2911.0311486\ttotal: 1.94s\tremaining: 1.29s\n",
      "120:\tlearn: 2905.0960372\ttotal: 1.95s\tremaining: 1.27s\n",
      "121:\tlearn: 2899.6973858\ttotal: 1.97s\tremaining: 1.26s\n",
      "122:\tlearn: 2893.8751380\ttotal: 1.98s\tremaining: 1.24s\n",
      "123:\tlearn: 2888.5570610\ttotal: 2s\tremaining: 1.22s\n",
      "124:\tlearn: 2883.1470967\ttotal: 2.01s\tremaining: 1.21s\n",
      "125:\tlearn: 2877.8813119\ttotal: 2.03s\tremaining: 1.19s\n",
      "126:\tlearn: 2872.6518646\ttotal: 2.05s\tremaining: 1.18s\n",
      "127:\tlearn: 2866.4471588\ttotal: 2.06s\tremaining: 1.16s\n",
      "128:\tlearn: 2861.4873690\ttotal: 2.08s\tremaining: 1.14s\n",
      "129:\tlearn: 2856.4744834\ttotal: 2.09s\tremaining: 1.13s\n",
      "130:\tlearn: 2851.5170695\ttotal: 2.11s\tremaining: 1.11s\n",
      "131:\tlearn: 2845.8764151\ttotal: 2.12s\tremaining: 1.09s\n",
      "132:\tlearn: 2841.0434812\ttotal: 2.14s\tremaining: 1.08s\n",
      "133:\tlearn: 2835.8046435\ttotal: 2.16s\tremaining: 1.06s\n",
      "134:\tlearn: 2831.1991300\ttotal: 2.17s\tremaining: 1.05s\n",
      "135:\tlearn: 2826.5111482\ttotal: 2.19s\tremaining: 1.03s\n",
      "136:\tlearn: 2820.8994390\ttotal: 2.21s\tremaining: 1.02s\n",
      "137:\tlearn: 2815.3987781\ttotal: 2.23s\tremaining: 1s\n",
      "138:\tlearn: 2810.4070893\ttotal: 2.24s\tremaining: 984ms\n",
      "139:\tlearn: 2804.9744704\ttotal: 2.26s\tremaining: 967ms\n",
      "140:\tlearn: 2799.9331410\ttotal: 2.27s\tremaining: 950ms\n",
      "141:\tlearn: 2794.9782516\ttotal: 2.29s\tremaining: 934ms\n",
      "142:\tlearn: 2790.6042573\ttotal: 2.3s\tremaining: 917ms\n",
      "143:\tlearn: 2785.5362964\ttotal: 2.32s\tremaining: 902ms\n",
      "144:\tlearn: 2781.2549482\ttotal: 2.33s\tremaining: 885ms\n",
      "145:\tlearn: 2776.9880779\ttotal: 2.35s\tremaining: 869ms\n",
      "146:\tlearn: 2772.7613428\ttotal: 2.36s\tremaining: 853ms\n",
      "147:\tlearn: 2767.8339193\ttotal: 2.38s\tremaining: 836ms\n",
      "148:\tlearn: 2763.7130762\ttotal: 2.4s\tremaining: 821ms\n",
      "149:\tlearn: 2759.6807479\ttotal: 2.42s\tremaining: 805ms\n",
      "150:\tlearn: 2755.6959140\ttotal: 2.43s\tremaining: 789ms\n",
      "151:\tlearn: 2751.7296290\ttotal: 2.45s\tremaining: 773ms\n",
      "152:\tlearn: 2746.9613143\ttotal: 2.46s\tremaining: 756ms\n",
      "153:\tlearn: 2742.3408654\ttotal: 2.48s\tremaining: 740ms\n",
      "154:\tlearn: 2737.8540545\ttotal: 2.49s\tremaining: 723ms\n",
      "155:\tlearn: 2734.0098362\ttotal: 2.51s\tremaining: 707ms\n"
     ]
    },
    {
     "name": "stdout",
     "output_type": "stream",
     "text": [
      "156:\tlearn: 2729.5398168\ttotal: 2.52s\tremaining: 691ms\n",
      "157:\tlearn: 2725.4212324\ttotal: 2.54s\tremaining: 676ms\n",
      "158:\tlearn: 2721.1618129\ttotal: 2.56s\tremaining: 660ms\n",
      "159:\tlearn: 2716.8825996\ttotal: 2.58s\tremaining: 644ms\n",
      "160:\tlearn: 2713.1678224\ttotal: 2.59s\tremaining: 628ms\n",
      "161:\tlearn: 2709.0289908\ttotal: 2.61s\tremaining: 612ms\n",
      "162:\tlearn: 2705.4887025\ttotal: 2.63s\tremaining: 596ms\n",
      "163:\tlearn: 2701.4440024\ttotal: 2.64s\tremaining: 580ms\n",
      "164:\tlearn: 2697.8269605\ttotal: 2.66s\tremaining: 564ms\n",
      "165:\tlearn: 2694.3170995\ttotal: 2.67s\tremaining: 548ms\n",
      "166:\tlearn: 2690.8905323\ttotal: 2.69s\tremaining: 531ms\n",
      "167:\tlearn: 2686.9756044\ttotal: 2.71s\tremaining: 515ms\n",
      "168:\tlearn: 2683.1221278\ttotal: 2.72s\tremaining: 499ms\n",
      "169:\tlearn: 2679.3575633\ttotal: 2.74s\tremaining: 483ms\n",
      "170:\tlearn: 2676.0793668\ttotal: 2.75s\tremaining: 467ms\n",
      "171:\tlearn: 2672.8467868\ttotal: 2.77s\tremaining: 450ms\n",
      "172:\tlearn: 2669.5470344\ttotal: 2.78s\tremaining: 434ms\n",
      "173:\tlearn: 2665.9753186\ttotal: 2.8s\tremaining: 418ms\n",
      "174:\tlearn: 2662.4836730\ttotal: 2.82s\tremaining: 402ms\n",
      "175:\tlearn: 2658.8768988\ttotal: 2.83s\tremaining: 386ms\n",
      "176:\tlearn: 2655.7153090\ttotal: 2.85s\tremaining: 370ms\n",
      "177:\tlearn: 2652.7194079\ttotal: 2.86s\tremaining: 354ms\n",
      "178:\tlearn: 2649.7511502\ttotal: 2.88s\tremaining: 337ms\n",
      "179:\tlearn: 2646.3954003\ttotal: 2.89s\tremaining: 321ms\n",
      "180:\tlearn: 2643.0241027\ttotal: 2.91s\tremaining: 305ms\n",
      "181:\tlearn: 2639.6980486\ttotal: 2.92s\tremaining: 289ms\n",
      "182:\tlearn: 2636.1901588\ttotal: 2.94s\tremaining: 273ms\n",
      "183:\tlearn: 2632.9936091\ttotal: 2.95s\tremaining: 257ms\n",
      "184:\tlearn: 2629.8529610\ttotal: 2.97s\tremaining: 241ms\n",
      "185:\tlearn: 2626.9528775\ttotal: 2.98s\tremaining: 225ms\n",
      "186:\tlearn: 2623.5118327\ttotal: 3s\tremaining: 209ms\n",
      "187:\tlearn: 2620.1988509\ttotal: 3.02s\tremaining: 193ms\n",
      "188:\tlearn: 2617.3630226\ttotal: 3.04s\tremaining: 177ms\n",
      "189:\tlearn: 2614.1271705\ttotal: 3.05s\tremaining: 161ms\n",
      "190:\tlearn: 2611.4047156\ttotal: 3.06s\tremaining: 144ms\n",
      "191:\tlearn: 2608.2045476\ttotal: 3.08s\tremaining: 128ms\n",
      "192:\tlearn: 2605.2044371\ttotal: 3.1s\tremaining: 112ms\n",
      "193:\tlearn: 2602.0558450\ttotal: 3.11s\tremaining: 96.3ms\n",
      "194:\tlearn: 2599.0437719\ttotal: 3.13s\tremaining: 80.2ms\n",
      "195:\tlearn: 2596.3713223\ttotal: 3.14s\tremaining: 64.2ms\n",
      "196:\tlearn: 2593.5183721\ttotal: 3.16s\tremaining: 48.1ms\n",
      "197:\tlearn: 2590.5240961\ttotal: 3.17s\tremaining: 32.1ms\n",
      "198:\tlearn: 2587.8285518\ttotal: 3.19s\tremaining: 16ms\n",
      "199:\tlearn: 2584.9199650\ttotal: 3.21s\tremaining: 0us\n",
      "0:\tlearn: 4488.0821680\ttotal: 19.6ms\tremaining: 3.89s\n",
      "1:\tlearn: 4460.8129820\ttotal: 40.5ms\tremaining: 4.01s\n",
      "2:\tlearn: 4433.2265341\ttotal: 59.7ms\tremaining: 3.92s\n",
      "3:\tlearn: 4406.3615634\ttotal: 77.3ms\tremaining: 3.79s\n",
      "4:\tlearn: 4379.9577215\ttotal: 95.3ms\tremaining: 3.72s\n",
      "5:\tlearn: 4353.5190150\ttotal: 114ms\tremaining: 3.69s\n",
      "6:\tlearn: 4327.6637681\ttotal: 135ms\tremaining: 3.71s\n",
      "7:\tlearn: 4301.5635910\ttotal: 153ms\tremaining: 3.68s\n",
      "8:\tlearn: 4276.0309203\ttotal: 171ms\tremaining: 3.62s\n",
      "9:\tlearn: 4250.2551463\ttotal: 189ms\tremaining: 3.59s\n",
      "10:\tlearn: 4225.4733414\ttotal: 206ms\tremaining: 3.54s\n",
      "11:\tlearn: 4201.4373111\ttotal: 227ms\tremaining: 3.55s\n",
      "12:\tlearn: 4177.2307099\ttotal: 247ms\tremaining: 3.55s\n",
      "13:\tlearn: 4153.1533803\ttotal: 266ms\tremaining: 3.54s\n",
      "14:\tlearn: 4129.5734678\ttotal: 288ms\tremaining: 3.55s\n",
      "15:\tlearn: 4106.7690055\ttotal: 307ms\tremaining: 3.54s\n",
      "16:\tlearn: 4083.6902396\ttotal: 335ms\tremaining: 3.6s\n",
      "17:\tlearn: 4060.7711742\ttotal: 354ms\tremaining: 3.58s\n",
      "18:\tlearn: 4038.5939438\ttotal: 373ms\tremaining: 3.56s\n",
      "19:\tlearn: 4016.1548380\ttotal: 391ms\tremaining: 3.52s\n",
      "20:\tlearn: 3993.8115561\ttotal: 410ms\tremaining: 3.5s\n",
      "21:\tlearn: 3971.4025678\ttotal: 431ms\tremaining: 3.49s\n",
      "22:\tlearn: 3949.5250331\ttotal: 451ms\tremaining: 3.47s\n",
      "23:\tlearn: 3928.2745261\ttotal: 469ms\tremaining: 3.44s\n",
      "24:\tlearn: 3907.3137319\ttotal: 486ms\tremaining: 3.4s\n",
      "25:\tlearn: 3886.8729621\ttotal: 509ms\tremaining: 3.4s\n",
      "26:\tlearn: 3866.2680145\ttotal: 530ms\tremaining: 3.39s\n",
      "27:\tlearn: 3846.4082065\ttotal: 549ms\tremaining: 3.37s\n",
      "28:\tlearn: 3826.3425729\ttotal: 567ms\tremaining: 3.34s\n",
      "29:\tlearn: 3806.5139905\ttotal: 585ms\tremaining: 3.32s\n",
      "30:\tlearn: 3786.8442538\ttotal: 604ms\tremaining: 3.29s\n",
      "31:\tlearn: 3767.9760228\ttotal: 624ms\tremaining: 3.27s\n",
      "32:\tlearn: 3749.8364122\ttotal: 644ms\tremaining: 3.26s\n",
      "33:\tlearn: 3730.9143035\ttotal: 662ms\tremaining: 3.23s\n",
      "34:\tlearn: 3712.0705671\ttotal: 680ms\tremaining: 3.21s\n",
      "35:\tlearn: 3693.8611833\ttotal: 699ms\tremaining: 3.18s\n",
      "36:\tlearn: 3676.5890900\ttotal: 723ms\tremaining: 3.19s\n",
      "37:\tlearn: 3658.6375433\ttotal: 743ms\tremaining: 3.17s\n",
      "38:\tlearn: 3640.3513893\ttotal: 762ms\tremaining: 3.15s\n",
      "39:\tlearn: 3622.7648919\ttotal: 780ms\tremaining: 3.12s\n",
      "40:\tlearn: 3605.9295333\ttotal: 799ms\tremaining: 3.1s\n",
      "41:\tlearn: 3588.7510743\ttotal: 818ms\tremaining: 3.08s\n",
      "42:\tlearn: 3571.8846869\ttotal: 840ms\tremaining: 3.06s\n",
      "43:\tlearn: 3555.1572312\ttotal: 858ms\tremaining: 3.04s\n",
      "44:\tlearn: 3538.6366820\ttotal: 876ms\tremaining: 3.02s\n",
      "45:\tlearn: 3522.8431517\ttotal: 895ms\tremaining: 2.99s\n",
      "46:\tlearn: 3506.9252634\ttotal: 919ms\tremaining: 2.99s\n",
      "47:\tlearn: 3491.3443846\ttotal: 940ms\tremaining: 2.98s\n",
      "48:\tlearn: 3475.4586604\ttotal: 960ms\tremaining: 2.96s\n",
      "49:\tlearn: 3460.3811560\ttotal: 979ms\tremaining: 2.94s\n",
      "50:\tlearn: 3445.9379981\ttotal: 998ms\tremaining: 2.91s\n",
      "51:\tlearn: 3430.8384186\ttotal: 1.02s\tremaining: 2.9s\n",
      "52:\tlearn: 3416.4636524\ttotal: 1.04s\tremaining: 2.88s\n",
      "53:\tlearn: 3401.9147560\ttotal: 1.05s\tremaining: 2.85s\n",
      "54:\tlearn: 3387.1627752\ttotal: 1.07s\tremaining: 2.83s\n",
      "55:\tlearn: 3372.6815228\ttotal: 1.09s\tremaining: 2.81s\n",
      "56:\tlearn: 3358.7958219\ttotal: 1.12s\tremaining: 2.8s\n",
      "57:\tlearn: 3345.2429985\ttotal: 1.14s\tremaining: 2.78s\n",
      "58:\tlearn: 3331.5117858\ttotal: 1.16s\tremaining: 2.76s\n",
      "59:\tlearn: 3318.0529388\ttotal: 1.17s\tremaining: 2.74s\n",
      "60:\tlearn: 3304.6457191\ttotal: 1.19s\tremaining: 2.72s\n",
      "61:\tlearn: 3292.1946221\ttotal: 1.21s\tremaining: 2.7s\n",
      "62:\tlearn: 3279.1736437\ttotal: 1.23s\tremaining: 2.68s\n",
      "63:\tlearn: 3266.2259991\ttotal: 1.25s\tremaining: 2.66s\n",
      "64:\tlearn: 3253.3535701\ttotal: 1.27s\tremaining: 2.64s\n",
      "65:\tlearn: 3240.4639455\ttotal: 1.29s\tremaining: 2.62s\n",
      "66:\tlearn: 3228.2987993\ttotal: 1.31s\tremaining: 2.6s\n",
      "67:\tlearn: 3216.3043386\ttotal: 1.33s\tremaining: 2.59s\n",
      "68:\tlearn: 3204.3318123\ttotal: 1.35s\tremaining: 2.56s\n",
      "69:\tlearn: 3192.5585084\ttotal: 1.37s\tremaining: 2.54s\n",
      "70:\tlearn: 3181.0379835\ttotal: 1.39s\tremaining: 2.52s\n",
      "71:\tlearn: 3169.2275315\ttotal: 1.41s\tremaining: 2.5s\n",
      "72:\tlearn: 3157.7191071\ttotal: 1.43s\tremaining: 2.48s\n",
      "73:\tlearn: 3146.7568654\ttotal: 1.45s\tremaining: 2.46s\n",
      "74:\tlearn: 3135.2453208\ttotal: 1.47s\tremaining: 2.45s\n",
      "75:\tlearn: 3124.7312141\ttotal: 1.49s\tremaining: 2.42s\n",
      "76:\tlearn: 3113.7718177\ttotal: 1.5s\tremaining: 2.4s\n",
      "77:\tlearn: 3102.5750581\ttotal: 1.52s\tremaining: 2.38s\n",
      "78:\tlearn: 3092.0188562\ttotal: 1.54s\tremaining: 2.37s\n",
      "79:\tlearn: 3081.6940625\ttotal: 1.56s\tremaining: 2.34s\n",
      "80:\tlearn: 3070.9074073\ttotal: 1.58s\tremaining: 2.32s\n",
      "81:\tlearn: 3060.6338526\ttotal: 1.6s\tremaining: 2.31s\n",
      "82:\tlearn: 3050.8203404\ttotal: 1.62s\tremaining: 2.29s\n",
      "83:\tlearn: 3041.0976129\ttotal: 1.64s\tremaining: 2.27s\n",
      "84:\tlearn: 3031.3350889\ttotal: 1.66s\tremaining: 2.25s\n",
      "85:\tlearn: 3021.9022864\ttotal: 1.68s\tremaining: 2.22s\n",
      "86:\tlearn: 3012.2090346\ttotal: 1.7s\tremaining: 2.2s\n",
      "87:\tlearn: 3002.9289703\ttotal: 1.72s\tremaining: 2.18s\n",
      "88:\tlearn: 2993.5091835\ttotal: 1.74s\tremaining: 2.16s\n",
      "89:\tlearn: 2984.0202482\ttotal: 1.75s\tremaining: 2.14s\n",
      "90:\tlearn: 2974.6037091\ttotal: 1.77s\tremaining: 2.12s\n",
      "91:\tlearn: 2965.7647605\ttotal: 1.79s\tremaining: 2.1s\n",
      "92:\tlearn: 2956.7925195\ttotal: 1.81s\tremaining: 2.08s\n",
      "93:\tlearn: 2947.9922022\ttotal: 1.83s\tremaining: 2.07s\n",
      "94:\tlearn: 2939.3753309\ttotal: 1.85s\tremaining: 2.05s\n",
      "95:\tlearn: 2930.9548631\ttotal: 1.87s\tremaining: 2.03s\n",
      "96:\tlearn: 2922.5704721\ttotal: 1.89s\tremaining: 2s\n",
      "97:\tlearn: 2913.8871607\ttotal: 1.91s\tremaining: 1.99s\n",
      "98:\tlearn: 2906.0413428\ttotal: 1.93s\tremaining: 1.97s\n",
      "99:\tlearn: 2898.1466295\ttotal: 1.95s\tremaining: 1.95s\n",
      "100:\tlearn: 2890.5042450\ttotal: 1.96s\tremaining: 1.93s\n",
      "101:\tlearn: 2882.2602987\ttotal: 1.98s\tremaining: 1.9s\n",
      "102:\tlearn: 2874.1364224\ttotal: 2s\tremaining: 1.89s\n",
      "103:\tlearn: 2866.4380167\ttotal: 2.02s\tremaining: 1.87s\n",
      "104:\tlearn: 2858.9220486\ttotal: 2.04s\tremaining: 1.85s\n",
      "105:\tlearn: 2851.6213832\ttotal: 2.06s\tremaining: 1.83s\n",
      "106:\tlearn: 2844.3087048\ttotal: 2.08s\tremaining: 1.81s\n",
      "107:\tlearn: 2836.5475879\ttotal: 2.1s\tremaining: 1.78s\n",
      "108:\tlearn: 2829.3611604\ttotal: 2.12s\tremaining: 1.77s\n",
      "109:\tlearn: 2821.9317584\ttotal: 2.13s\tremaining: 1.75s\n"
     ]
    },
    {
     "name": "stdout",
     "output_type": "stream",
     "text": [
      "110:\tlearn: 2814.8899623\ttotal: 2.15s\tremaining: 1.73s\n",
      "111:\tlearn: 2808.0325687\ttotal: 2.17s\tremaining: 1.71s\n",
      "112:\tlearn: 2800.8949598\ttotal: 2.19s\tremaining: 1.69s\n",
      "113:\tlearn: 2793.9801583\ttotal: 2.21s\tremaining: 1.67s\n",
      "114:\tlearn: 2786.9430547\ttotal: 2.23s\tremaining: 1.65s\n",
      "115:\tlearn: 2780.1914540\ttotal: 2.25s\tremaining: 1.63s\n",
      "116:\tlearn: 2773.5003415\ttotal: 2.27s\tremaining: 1.61s\n",
      "117:\tlearn: 2766.7267872\ttotal: 2.29s\tremaining: 1.59s\n",
      "118:\tlearn: 2760.0853769\ttotal: 2.31s\tremaining: 1.57s\n",
      "119:\tlearn: 2753.6562162\ttotal: 2.33s\tremaining: 1.55s\n",
      "120:\tlearn: 2747.5190018\ttotal: 2.35s\tremaining: 1.53s\n",
      "121:\tlearn: 2741.5227944\ttotal: 2.36s\tremaining: 1.51s\n",
      "122:\tlearn: 2735.2220837\ttotal: 2.38s\tremaining: 1.49s\n",
      "123:\tlearn: 2729.3006590\ttotal: 2.4s\tremaining: 1.47s\n",
      "124:\tlearn: 2723.2859516\ttotal: 2.42s\tremaining: 1.46s\n",
      "125:\tlearn: 2717.0783638\ttotal: 2.44s\tremaining: 1.43s\n",
      "126:\tlearn: 2711.4784206\ttotal: 2.46s\tremaining: 1.42s\n",
      "127:\tlearn: 2705.3624117\ttotal: 2.48s\tremaining: 1.4s\n",
      "128:\tlearn: 2699.5703191\ttotal: 2.5s\tremaining: 1.38s\n",
      "129:\tlearn: 2693.9969172\ttotal: 2.52s\tremaining: 1.36s\n",
      "130:\tlearn: 2688.6128117\ttotal: 2.54s\tremaining: 1.34s\n",
      "131:\tlearn: 2683.0111474\ttotal: 2.56s\tremaining: 1.32s\n",
      "132:\tlearn: 2677.7020185\ttotal: 2.58s\tremaining: 1.3s\n",
      "133:\tlearn: 2671.9849431\ttotal: 2.61s\tremaining: 1.28s\n",
      "134:\tlearn: 2666.4932415\ttotal: 2.63s\tremaining: 1.26s\n",
      "135:\tlearn: 2660.9229122\ttotal: 2.64s\tremaining: 1.24s\n",
      "136:\tlearn: 2655.8801170\ttotal: 2.66s\tremaining: 1.22s\n",
      "137:\tlearn: 2650.9848066\ttotal: 2.68s\tremaining: 1.2s\n",
      "138:\tlearn: 2646.1862355\ttotal: 2.7s\tremaining: 1.18s\n",
      "139:\tlearn: 2640.9411710\ttotal: 2.72s\tremaining: 1.16s\n",
      "140:\tlearn: 2636.0141516\ttotal: 2.73s\tremaining: 1.14s\n",
      "141:\tlearn: 2630.9033079\ttotal: 2.75s\tremaining: 1.12s\n",
      "142:\tlearn: 2626.3995311\ttotal: 2.77s\tremaining: 1.1s\n",
      "143:\tlearn: 2621.6662473\ttotal: 2.79s\tremaining: 1.08s\n",
      "144:\tlearn: 2616.9587089\ttotal: 2.81s\tremaining: 1.07s\n",
      "145:\tlearn: 2612.1335759\ttotal: 2.83s\tremaining: 1.05s\n",
      "146:\tlearn: 2607.4199984\ttotal: 2.85s\tremaining: 1.03s\n",
      "147:\tlearn: 2602.9692448\ttotal: 2.87s\tremaining: 1.01s\n",
      "148:\tlearn: 2598.6865849\ttotal: 2.89s\tremaining: 988ms\n",
      "149:\tlearn: 2594.5303891\ttotal: 2.9s\tremaining: 969ms\n",
      "150:\tlearn: 2590.0251817\ttotal: 2.92s\tremaining: 949ms\n",
      "151:\tlearn: 2585.9726336\ttotal: 2.94s\tremaining: 930ms\n",
      "152:\tlearn: 2581.4458857\ttotal: 2.96s\tremaining: 910ms\n",
      "153:\tlearn: 2577.3976929\ttotal: 2.98s\tremaining: 890ms\n",
      "154:\tlearn: 2573.0035249\ttotal: 3s\tremaining: 872ms\n",
      "155:\tlearn: 2568.6491888\ttotal: 3.02s\tremaining: 853ms\n",
      "156:\tlearn: 2564.4545776\ttotal: 3.04s\tremaining: 833ms\n",
      "157:\tlearn: 2560.4794541\ttotal: 3.06s\tremaining: 813ms\n",
      "158:\tlearn: 2556.4666025\ttotal: 3.08s\tremaining: 793ms\n",
      "159:\tlearn: 2552.5364526\ttotal: 3.09s\tremaining: 774ms\n",
      "160:\tlearn: 2548.5721342\ttotal: 3.11s\tremaining: 754ms\n",
      "161:\tlearn: 2544.6121666\ttotal: 3.13s\tremaining: 735ms\n",
      "162:\tlearn: 2540.6474473\ttotal: 3.15s\tremaining: 715ms\n",
      "163:\tlearn: 2536.5609854\ttotal: 3.17s\tremaining: 695ms\n",
      "164:\tlearn: 2532.7493819\ttotal: 3.19s\tremaining: 676ms\n",
      "165:\tlearn: 2528.8919135\ttotal: 3.21s\tremaining: 657ms\n",
      "166:\tlearn: 2525.0309965\ttotal: 3.23s\tremaining: 638ms\n",
      "167:\tlearn: 2521.4183712\ttotal: 3.25s\tremaining: 618ms\n",
      "168:\tlearn: 2518.0726563\ttotal: 3.26s\tremaining: 599ms\n",
      "169:\tlearn: 2514.5342480\ttotal: 3.28s\tremaining: 579ms\n",
      "170:\tlearn: 2510.9367100\ttotal: 3.3s\tremaining: 560ms\n",
      "171:\tlearn: 2507.4159990\ttotal: 3.32s\tremaining: 540ms\n",
      "172:\tlearn: 2504.0393409\ttotal: 3.34s\tremaining: 521ms\n",
      "173:\tlearn: 2500.7431765\ttotal: 3.35s\tremaining: 501ms\n",
      "174:\tlearn: 2497.2834515\ttotal: 3.37s\tremaining: 482ms\n",
      "175:\tlearn: 2493.8625410\ttotal: 3.39s\tremaining: 462ms\n",
      "176:\tlearn: 2490.7285692\ttotal: 3.41s\tremaining: 443ms\n",
      "177:\tlearn: 2487.1521658\ttotal: 3.43s\tremaining: 424ms\n",
      "178:\tlearn: 2483.8410318\ttotal: 3.45s\tremaining: 404ms\n",
      "179:\tlearn: 2480.9094353\ttotal: 3.46s\tremaining: 385ms\n",
      "180:\tlearn: 2477.6966997\ttotal: 3.48s\tremaining: 365ms\n",
      "181:\tlearn: 2474.5273820\ttotal: 3.5s\tremaining: 347ms\n",
      "182:\tlearn: 2471.5517418\ttotal: 3.52s\tremaining: 327ms\n",
      "183:\tlearn: 2468.3559096\ttotal: 3.54s\tremaining: 308ms\n",
      "184:\tlearn: 2465.0792781\ttotal: 3.56s\tremaining: 289ms\n",
      "185:\tlearn: 2461.9983451\ttotal: 3.58s\tremaining: 269ms\n",
      "186:\tlearn: 2458.8453421\ttotal: 3.59s\tremaining: 250ms\n",
      "187:\tlearn: 2455.7737769\ttotal: 3.62s\tremaining: 231ms\n",
      "188:\tlearn: 2452.4536603\ttotal: 3.64s\tremaining: 212ms\n",
      "189:\tlearn: 2449.3211882\ttotal: 3.66s\tremaining: 193ms\n",
      "190:\tlearn: 2446.4082590\ttotal: 3.67s\tremaining: 173ms\n",
      "191:\tlearn: 2443.5062486\ttotal: 3.69s\tremaining: 154ms\n",
      "192:\tlearn: 2440.7442027\ttotal: 3.71s\tremaining: 135ms\n",
      "193:\tlearn: 2437.8164252\ttotal: 3.73s\tremaining: 115ms\n",
      "194:\tlearn: 2435.0531583\ttotal: 3.75s\tremaining: 96.1ms\n",
      "195:\tlearn: 2432.2831257\ttotal: 3.76s\tremaining: 76.8ms\n",
      "196:\tlearn: 2429.4527164\ttotal: 3.78s\tremaining: 57.6ms\n",
      "197:\tlearn: 2426.7947426\ttotal: 3.8s\tremaining: 38.4ms\n",
      "198:\tlearn: 2423.9534616\ttotal: 3.82s\tremaining: 19.2ms\n",
      "199:\tlearn: 2421.2924603\ttotal: 3.84s\tremaining: 0us\n",
      "0:\tlearn: 4494.1371410\ttotal: 18.4ms\tremaining: 3.66s\n",
      "1:\tlearn: 4466.2710178\ttotal: 36.6ms\tremaining: 3.62s\n",
      "2:\tlearn: 4439.3006297\ttotal: 54.7ms\tremaining: 3.59s\n",
      "3:\tlearn: 4412.4076141\ttotal: 74.2ms\tremaining: 3.63s\n",
      "4:\tlearn: 4385.8937356\ttotal: 93.6ms\tremaining: 3.65s\n",
      "5:\tlearn: 4359.3629931\ttotal: 112ms\tremaining: 3.61s\n",
      "6:\tlearn: 4333.2503142\ttotal: 130ms\tremaining: 3.59s\n",
      "7:\tlearn: 4307.5436714\ttotal: 148ms\tremaining: 3.56s\n",
      "8:\tlearn: 4281.6081841\ttotal: 168ms\tremaining: 3.56s\n",
      "9:\tlearn: 4257.2591233\ttotal: 189ms\tremaining: 3.59s\n",
      "10:\tlearn: 4232.3724833\ttotal: 208ms\tremaining: 3.56s\n",
      "11:\tlearn: 4208.2251174\ttotal: 226ms\tremaining: 3.54s\n",
      "12:\tlearn: 4184.3581921\ttotal: 244ms\tremaining: 3.51s\n",
      "13:\tlearn: 4160.3477000\ttotal: 263ms\tremaining: 3.5s\n",
      "14:\tlearn: 4136.1297353\ttotal: 284ms\tremaining: 3.51s\n",
      "15:\tlearn: 4112.7784732\ttotal: 304ms\tremaining: 3.5s\n",
      "16:\tlearn: 4090.1483716\ttotal: 322ms\tremaining: 3.47s\n",
      "17:\tlearn: 4067.2280269\ttotal: 340ms\tremaining: 3.44s\n",
      "18:\tlearn: 4044.2212710\ttotal: 359ms\tremaining: 3.42s\n",
      "19:\tlearn: 4021.1638703\ttotal: 380ms\tremaining: 3.42s\n",
      "20:\tlearn: 3998.8484568\ttotal: 398ms\tremaining: 3.39s\n",
      "21:\tlearn: 3976.5606472\ttotal: 417ms\tremaining: 3.37s\n",
      "22:\tlearn: 3954.7936773\ttotal: 435ms\tremaining: 3.35s\n",
      "23:\tlearn: 3933.5331411\ttotal: 452ms\tremaining: 3.32s\n",
      "24:\tlearn: 3912.9982310\ttotal: 473ms\tremaining: 3.31s\n",
      "25:\tlearn: 3892.4796599\ttotal: 492ms\tremaining: 3.29s\n",
      "26:\tlearn: 3871.5342511\ttotal: 511ms\tremaining: 3.27s\n",
      "27:\tlearn: 3851.7347892\ttotal: 530ms\tremaining: 3.25s\n",
      "28:\tlearn: 3831.6929343\ttotal: 548ms\tremaining: 3.23s\n",
      "29:\tlearn: 3811.2333697\ttotal: 568ms\tremaining: 3.22s\n",
      "30:\tlearn: 3791.9019891\ttotal: 589ms\tremaining: 3.21s\n",
      "31:\tlearn: 3773.1342236\ttotal: 608ms\tremaining: 3.19s\n",
      "32:\tlearn: 3753.8752878\ttotal: 626ms\tremaining: 3.17s\n",
      "33:\tlearn: 3735.8694861\ttotal: 646ms\tremaining: 3.15s\n",
      "34:\tlearn: 3716.9844304\ttotal: 670ms\tremaining: 3.16s\n",
      "35:\tlearn: 3698.7922573\ttotal: 691ms\tremaining: 3.15s\n",
      "36:\tlearn: 3680.6862929\ttotal: 709ms\tremaining: 3.12s\n",
      "37:\tlearn: 3663.5987355\ttotal: 730ms\tremaining: 3.11s\n",
      "38:\tlearn: 3645.4118498\ttotal: 748ms\tremaining: 3.09s\n",
      "39:\tlearn: 3627.9181256\ttotal: 772ms\tremaining: 3.09s\n",
      "40:\tlearn: 3610.5269610\ttotal: 792ms\tremaining: 3.07s\n",
      "41:\tlearn: 3593.2078503\ttotal: 811ms\tremaining: 3.05s\n",
      "42:\tlearn: 3576.9556334\ttotal: 831ms\tremaining: 3.03s\n",
      "43:\tlearn: 3559.5771589\ttotal: 852ms\tremaining: 3.02s\n",
      "44:\tlearn: 3542.6060199\ttotal: 877ms\tremaining: 3.02s\n",
      "45:\tlearn: 3526.3393911\ttotal: 898ms\tremaining: 3s\n",
      "46:\tlearn: 3509.6647937\ttotal: 917ms\tremaining: 2.98s\n",
      "47:\tlearn: 3493.9782279\ttotal: 936ms\tremaining: 2.96s\n",
      "48:\tlearn: 3478.4220393\ttotal: 955ms\tremaining: 2.94s\n",
      "49:\tlearn: 3463.3556574\ttotal: 976ms\tremaining: 2.93s\n",
      "50:\tlearn: 3448.4878423\ttotal: 995ms\tremaining: 2.91s\n",
      "51:\tlearn: 3433.7687322\ttotal: 1.01s\tremaining: 2.89s\n",
      "52:\tlearn: 3419.3469198\ttotal: 1.03s\tremaining: 2.86s\n",
      "53:\tlearn: 3404.9664909\ttotal: 1.05s\tremaining: 2.84s\n",
      "54:\tlearn: 3390.7523136\ttotal: 1.07s\tremaining: 2.82s\n",
      "55:\tlearn: 3376.9927891\ttotal: 1.09s\tremaining: 2.8s\n",
      "56:\tlearn: 3362.7675806\ttotal: 1.11s\tremaining: 2.78s\n",
      "57:\tlearn: 3349.0336658\ttotal: 1.13s\tremaining: 2.76s\n",
      "58:\tlearn: 3335.1412032\ttotal: 1.14s\tremaining: 2.73s\n",
      "59:\tlearn: 3321.0701925\ttotal: 1.17s\tremaining: 2.73s\n",
      "60:\tlearn: 3307.6364336\ttotal: 1.19s\tremaining: 2.72s\n",
      "61:\tlearn: 3294.9501449\ttotal: 1.21s\tremaining: 2.7s\n",
      "62:\tlearn: 3282.0848727\ttotal: 1.23s\tremaining: 2.68s\n",
      "63:\tlearn: 3269.3229161\ttotal: 1.25s\tremaining: 2.66s\n",
      "64:\tlearn: 3256.7534360\ttotal: 1.27s\tremaining: 2.64s\n"
     ]
    },
    {
     "name": "stdout",
     "output_type": "stream",
     "text": [
      "65:\tlearn: 3243.9410474\ttotal: 1.29s\tremaining: 2.62s\n",
      "66:\tlearn: 3231.4039236\ttotal: 1.31s\tremaining: 2.6s\n",
      "67:\tlearn: 3219.7132731\ttotal: 1.32s\tremaining: 2.57s\n",
      "68:\tlearn: 3207.4906806\ttotal: 1.34s\tremaining: 2.55s\n",
      "69:\tlearn: 3195.7139790\ttotal: 1.36s\tremaining: 2.53s\n",
      "70:\tlearn: 3184.5409887\ttotal: 1.38s\tremaining: 2.51s\n",
      "71:\tlearn: 3172.4588663\ttotal: 1.4s\tremaining: 2.49s\n",
      "72:\tlearn: 3161.0363463\ttotal: 1.42s\tremaining: 2.47s\n",
      "73:\tlearn: 3149.7689963\ttotal: 1.44s\tremaining: 2.45s\n",
      "74:\tlearn: 3138.2340659\ttotal: 1.46s\tremaining: 2.43s\n",
      "75:\tlearn: 3127.4432973\ttotal: 1.48s\tremaining: 2.41s\n",
      "76:\tlearn: 3116.4734373\ttotal: 1.5s\tremaining: 2.39s\n",
      "77:\tlearn: 3105.2334120\ttotal: 1.52s\tremaining: 2.37s\n",
      "78:\tlearn: 3094.8480815\ttotal: 1.53s\tremaining: 2.35s\n",
      "79:\tlearn: 3084.4273530\ttotal: 1.56s\tremaining: 2.34s\n",
      "80:\tlearn: 3074.3848655\ttotal: 1.58s\tremaining: 2.32s\n",
      "81:\tlearn: 3064.3454512\ttotal: 1.6s\tremaining: 2.3s\n",
      "82:\tlearn: 3054.4465028\ttotal: 1.61s\tremaining: 2.28s\n",
      "83:\tlearn: 3044.7227791\ttotal: 1.63s\tremaining: 2.25s\n",
      "84:\tlearn: 3035.2103108\ttotal: 1.65s\tremaining: 2.23s\n",
      "85:\tlearn: 3025.0839211\ttotal: 1.67s\tremaining: 2.22s\n",
      "86:\tlearn: 3015.7068631\ttotal: 1.69s\tremaining: 2.2s\n",
      "87:\tlearn: 3006.3557251\ttotal: 1.71s\tremaining: 2.17s\n",
      "88:\tlearn: 2997.4429318\ttotal: 1.73s\tremaining: 2.15s\n",
      "89:\tlearn: 2987.7693623\ttotal: 1.75s\tremaining: 2.14s\n",
      "90:\tlearn: 2978.9178069\ttotal: 1.77s\tremaining: 2.12s\n",
      "91:\tlearn: 2969.7626434\ttotal: 1.79s\tremaining: 2.1s\n",
      "92:\tlearn: 2961.4328431\ttotal: 1.81s\tremaining: 2.08s\n",
      "93:\tlearn: 2952.9803211\ttotal: 1.83s\tremaining: 2.06s\n",
      "94:\tlearn: 2944.1262124\ttotal: 1.84s\tremaining: 2.04s\n",
      "95:\tlearn: 2935.0574326\ttotal: 1.86s\tremaining: 2.02s\n",
      "96:\tlearn: 2926.9779769\ttotal: 1.88s\tremaining: 2s\n",
      "97:\tlearn: 2918.6290521\ttotal: 1.9s\tremaining: 1.98s\n",
      "98:\tlearn: 2910.1773488\ttotal: 1.92s\tremaining: 1.96s\n",
      "99:\tlearn: 2901.4922744\ttotal: 1.94s\tremaining: 1.94s\n",
      "100:\tlearn: 2893.3371683\ttotal: 1.96s\tremaining: 1.92s\n",
      "101:\tlearn: 2885.1879403\ttotal: 1.98s\tremaining: 1.9s\n",
      "102:\tlearn: 2877.4903784\ttotal: 2s\tremaining: 1.88s\n",
      "103:\tlearn: 2869.9241895\ttotal: 2.01s\tremaining: 1.86s\n",
      "104:\tlearn: 2862.0416499\ttotal: 2.03s\tremaining: 1.84s\n",
      "105:\tlearn: 2854.9118430\ttotal: 2.05s\tremaining: 1.82s\n",
      "106:\tlearn: 2847.7197266\ttotal: 2.07s\tremaining: 1.8s\n",
      "107:\tlearn: 2840.0884779\ttotal: 2.09s\tremaining: 1.78s\n",
      "108:\tlearn: 2832.5176242\ttotal: 2.11s\tremaining: 1.76s\n",
      "109:\tlearn: 2825.5535979\ttotal: 2.13s\tremaining: 1.74s\n",
      "110:\tlearn: 2818.6769595\ttotal: 2.15s\tremaining: 1.72s\n",
      "111:\tlearn: 2811.2429267\ttotal: 2.17s\tremaining: 1.7s\n",
      "112:\tlearn: 2804.2483431\ttotal: 2.19s\tremaining: 1.69s\n",
      "113:\tlearn: 2797.3662486\ttotal: 2.21s\tremaining: 1.67s\n",
      "114:\tlearn: 2790.2853707\ttotal: 2.23s\tremaining: 1.65s\n",
      "115:\tlearn: 2783.2190482\ttotal: 2.25s\tremaining: 1.63s\n",
      "116:\tlearn: 2776.7953235\ttotal: 2.27s\tremaining: 1.61s\n",
      "117:\tlearn: 2770.1680976\ttotal: 2.29s\tremaining: 1.59s\n",
      "118:\tlearn: 2763.5884856\ttotal: 2.3s\tremaining: 1.57s\n",
      "119:\tlearn: 2757.1707452\ttotal: 2.32s\tremaining: 1.55s\n",
      "120:\tlearn: 2750.8013979\ttotal: 2.35s\tremaining: 1.53s\n",
      "121:\tlearn: 2744.7809529\ttotal: 2.37s\tremaining: 1.51s\n",
      "122:\tlearn: 2738.5604195\ttotal: 2.39s\tremaining: 1.49s\n",
      "123:\tlearn: 2732.7579732\ttotal: 2.4s\tremaining: 1.47s\n",
      "124:\tlearn: 2726.5436325\ttotal: 2.42s\tremaining: 1.45s\n",
      "125:\tlearn: 2720.4538016\ttotal: 2.44s\tremaining: 1.43s\n",
      "126:\tlearn: 2714.6798284\ttotal: 2.46s\tremaining: 1.41s\n",
      "127:\tlearn: 2708.7017033\ttotal: 2.48s\tremaining: 1.39s\n",
      "128:\tlearn: 2702.9176599\ttotal: 2.5s\tremaining: 1.37s\n",
      "129:\tlearn: 2697.2812853\ttotal: 2.52s\tremaining: 1.35s\n",
      "130:\tlearn: 2691.9061724\ttotal: 2.53s\tremaining: 1.33s\n",
      "131:\tlearn: 2686.7205998\ttotal: 2.55s\tremaining: 1.31s\n",
      "132:\tlearn: 2681.3949030\ttotal: 2.57s\tremaining: 1.3s\n",
      "133:\tlearn: 2676.2729849\ttotal: 2.59s\tremaining: 1.28s\n",
      "134:\tlearn: 2670.6569408\ttotal: 2.61s\tremaining: 1.26s\n",
      "135:\tlearn: 2665.2297414\ttotal: 2.63s\tremaining: 1.24s\n",
      "136:\tlearn: 2659.7555240\ttotal: 2.65s\tremaining: 1.22s\n",
      "137:\tlearn: 2654.7951571\ttotal: 2.67s\tremaining: 1.2s\n",
      "138:\tlearn: 2649.5799627\ttotal: 2.69s\tremaining: 1.18s\n",
      "139:\tlearn: 2644.8075179\ttotal: 2.71s\tremaining: 1.16s\n",
      "140:\tlearn: 2639.5830398\ttotal: 2.73s\tremaining: 1.14s\n",
      "141:\tlearn: 2634.4672353\ttotal: 2.74s\tremaining: 1.12s\n",
      "142:\tlearn: 2629.6887974\ttotal: 2.76s\tremaining: 1.1s\n",
      "143:\tlearn: 2624.7612117\ttotal: 2.79s\tremaining: 1.08s\n",
      "144:\tlearn: 2620.0582064\ttotal: 2.8s\tremaining: 1.06s\n",
      "145:\tlearn: 2615.4239427\ttotal: 2.82s\tremaining: 1.04s\n",
      "146:\tlearn: 2610.5861545\ttotal: 2.84s\tremaining: 1.02s\n",
      "147:\tlearn: 2606.2435736\ttotal: 2.86s\tremaining: 1s\n",
      "148:\tlearn: 2601.4508341\ttotal: 2.88s\tremaining: 986ms\n",
      "149:\tlearn: 2596.7728634\ttotal: 2.9s\tremaining: 966ms\n",
      "150:\tlearn: 2592.5008892\ttotal: 2.92s\tremaining: 947ms\n",
      "151:\tlearn: 2588.2950180\ttotal: 2.94s\tremaining: 928ms\n",
      "152:\tlearn: 2584.0610461\ttotal: 2.96s\tremaining: 909ms\n",
      "153:\tlearn: 2579.9785989\ttotal: 2.98s\tremaining: 890ms\n",
      "154:\tlearn: 2575.6767439\ttotal: 3s\tremaining: 871ms\n",
      "155:\tlearn: 2571.8377792\ttotal: 3.02s\tremaining: 851ms\n",
      "156:\tlearn: 2567.5584122\ttotal: 3.04s\tremaining: 832ms\n",
      "157:\tlearn: 2563.4257728\ttotal: 3.06s\tremaining: 813ms\n",
      "158:\tlearn: 2559.2548744\ttotal: 3.08s\tremaining: 794ms\n",
      "159:\tlearn: 2555.3553202\ttotal: 3.1s\tremaining: 774ms\n",
      "160:\tlearn: 2551.5722918\ttotal: 3.11s\tremaining: 754ms\n",
      "161:\tlearn: 2547.7918393\ttotal: 3.13s\tremaining: 734ms\n",
      "162:\tlearn: 2544.1669075\ttotal: 3.15s\tremaining: 715ms\n",
      "163:\tlearn: 2540.1754319\ttotal: 3.17s\tremaining: 696ms\n",
      "164:\tlearn: 2536.1221084\ttotal: 3.19s\tremaining: 676ms\n",
      "165:\tlearn: 2532.2586147\ttotal: 3.21s\tremaining: 657ms\n",
      "166:\tlearn: 2528.7999276\ttotal: 3.22s\tremaining: 637ms\n",
      "167:\tlearn: 2524.9906000\ttotal: 3.24s\tremaining: 617ms\n",
      "168:\tlearn: 2521.3589229\ttotal: 3.26s\tremaining: 598ms\n",
      "169:\tlearn: 2517.8890792\ttotal: 3.28s\tremaining: 579ms\n",
      "170:\tlearn: 2514.3787477\ttotal: 3.3s\tremaining: 559ms\n",
      "171:\tlearn: 2510.7621541\ttotal: 3.31s\tremaining: 540ms\n",
      "172:\tlearn: 2507.4104166\ttotal: 3.33s\tremaining: 520ms\n",
      "173:\tlearn: 2503.9272425\ttotal: 3.35s\tremaining: 501ms\n",
      "174:\tlearn: 2500.4833838\ttotal: 3.37s\tremaining: 482ms\n",
      "175:\tlearn: 2496.9016868\ttotal: 3.39s\tremaining: 462ms\n",
      "176:\tlearn: 2493.8085585\ttotal: 3.41s\tremaining: 443ms\n",
      "177:\tlearn: 2490.3306592\ttotal: 3.42s\tremaining: 423ms\n",
      "178:\tlearn: 2487.0396095\ttotal: 3.45s\tremaining: 404ms\n",
      "179:\tlearn: 2483.7771915\ttotal: 3.47s\tremaining: 385ms\n",
      "180:\tlearn: 2480.7304489\ttotal: 3.48s\tremaining: 366ms\n",
      "181:\tlearn: 2477.4615837\ttotal: 3.5s\tremaining: 346ms\n",
      "182:\tlearn: 2474.0739164\ttotal: 3.52s\tremaining: 327ms\n",
      "183:\tlearn: 2470.8845883\ttotal: 3.54s\tremaining: 308ms\n",
      "184:\tlearn: 2467.8558683\ttotal: 3.56s\tremaining: 288ms\n",
      "185:\tlearn: 2464.5953867\ttotal: 3.57s\tremaining: 269ms\n",
      "186:\tlearn: 2461.5745582\ttotal: 3.59s\tremaining: 250ms\n",
      "187:\tlearn: 2458.7153634\ttotal: 3.61s\tremaining: 230ms\n",
      "188:\tlearn: 2455.7753531\ttotal: 3.63s\tremaining: 211ms\n",
      "189:\tlearn: 2452.7234657\ttotal: 3.65s\tremaining: 192ms\n",
      "190:\tlearn: 2449.8398465\ttotal: 3.67s\tremaining: 173ms\n",
      "191:\tlearn: 2447.1409896\ttotal: 3.69s\tremaining: 154ms\n",
      "192:\tlearn: 2444.3313353\ttotal: 3.7s\tremaining: 134ms\n",
      "193:\tlearn: 2441.5381817\ttotal: 3.72s\tremaining: 115ms\n",
      "194:\tlearn: 2438.8831258\ttotal: 3.74s\tremaining: 95.9ms\n",
      "195:\tlearn: 2436.0749313\ttotal: 3.76s\tremaining: 76.7ms\n",
      "196:\tlearn: 2433.3967346\ttotal: 3.78s\tremaining: 57.5ms\n",
      "197:\tlearn: 2430.6365089\ttotal: 3.79s\tremaining: 38.3ms\n",
      "198:\tlearn: 2428.0421364\ttotal: 3.81s\tremaining: 19.2ms\n",
      "199:\tlearn: 2425.4398075\ttotal: 3.83s\tremaining: 0us\n",
      "0:\tlearn: 4488.2682576\ttotal: 21.1ms\tremaining: 4.2s\n",
      "1:\tlearn: 4460.3797100\ttotal: 42.6ms\tremaining: 4.22s\n",
      "2:\tlearn: 4432.9383586\ttotal: 62.5ms\tremaining: 4.1s\n",
      "3:\tlearn: 4405.8884562\ttotal: 80.2ms\tremaining: 3.93s\n",
      "4:\tlearn: 4379.2183795\ttotal: 98.5ms\tremaining: 3.84s\n",
      "5:\tlearn: 4352.6408354\ttotal: 118ms\tremaining: 3.81s\n",
      "6:\tlearn: 4326.2868037\ttotal: 138ms\tremaining: 3.8s\n",
      "7:\tlearn: 4300.9475569\ttotal: 156ms\tremaining: 3.75s\n",
      "8:\tlearn: 4275.4840759\ttotal: 174ms\tremaining: 3.69s\n",
      "9:\tlearn: 4250.5712539\ttotal: 191ms\tremaining: 3.63s\n",
      "10:\tlearn: 4226.2533764\ttotal: 210ms\tremaining: 3.6s\n",
      "11:\tlearn: 4201.8491001\ttotal: 231ms\tremaining: 3.61s\n",
      "12:\tlearn: 4177.9991747\ttotal: 251ms\tremaining: 3.6s\n",
      "13:\tlearn: 4154.4768394\ttotal: 269ms\tremaining: 3.57s\n",
      "14:\tlearn: 4130.7443357\ttotal: 286ms\tremaining: 3.53s\n",
      "15:\tlearn: 4107.9179941\ttotal: 304ms\tremaining: 3.5s\n",
      "16:\tlearn: 4084.7870774\ttotal: 325ms\tremaining: 3.5s\n",
      "17:\tlearn: 4062.5666249\ttotal: 346ms\tremaining: 3.5s\n",
      "18:\tlearn: 4039.8381269\ttotal: 364ms\tremaining: 3.46s\n",
      "19:\tlearn: 4016.6471098\ttotal: 383ms\tremaining: 3.44s\n",
      "20:\tlearn: 3994.1146316\ttotal: 401ms\tremaining: 3.42s\n",
      "21:\tlearn: 3971.3921431\ttotal: 421ms\tremaining: 3.41s\n"
     ]
    },
    {
     "name": "stdout",
     "output_type": "stream",
     "text": [
      "22:\tlearn: 3949.3349010\ttotal: 442ms\tremaining: 3.4s\n",
      "23:\tlearn: 3928.2097865\ttotal: 460ms\tremaining: 3.37s\n",
      "24:\tlearn: 3907.5557896\ttotal: 478ms\tremaining: 3.35s\n",
      "25:\tlearn: 3887.2621323\ttotal: 496ms\tremaining: 3.32s\n",
      "26:\tlearn: 3867.4538468\ttotal: 521ms\tremaining: 3.34s\n",
      "27:\tlearn: 3847.6312356\ttotal: 541ms\tremaining: 3.32s\n",
      "28:\tlearn: 3827.0459720\ttotal: 559ms\tremaining: 3.3s\n",
      "29:\tlearn: 3807.9715958\ttotal: 577ms\tremaining: 3.27s\n",
      "30:\tlearn: 3788.4494047\ttotal: 595ms\tremaining: 3.25s\n",
      "31:\tlearn: 3769.2231224\ttotal: 619ms\tremaining: 3.25s\n",
      "32:\tlearn: 3751.1566319\ttotal: 640ms\tremaining: 3.24s\n",
      "33:\tlearn: 3732.5187860\ttotal: 659ms\tremaining: 3.22s\n",
      "34:\tlearn: 3713.7080163\ttotal: 677ms\tremaining: 3.19s\n",
      "35:\tlearn: 3695.2863721\ttotal: 696ms\tremaining: 3.17s\n",
      "36:\tlearn: 3677.9477158\ttotal: 716ms\tremaining: 3.15s\n",
      "37:\tlearn: 3659.9080880\ttotal: 737ms\tremaining: 3.14s\n",
      "38:\tlearn: 3642.2079431\ttotal: 755ms\tremaining: 3.12s\n",
      "39:\tlearn: 3624.8957655\ttotal: 773ms\tremaining: 3.09s\n",
      "40:\tlearn: 3607.9243290\ttotal: 792ms\tremaining: 3.07s\n",
      "41:\tlearn: 3590.7717012\ttotal: 811ms\tremaining: 3.05s\n",
      "42:\tlearn: 3573.9807483\ttotal: 833ms\tremaining: 3.04s\n",
      "43:\tlearn: 3556.8945940\ttotal: 851ms\tremaining: 3.02s\n",
      "44:\tlearn: 3540.5863620\ttotal: 870ms\tremaining: 3s\n",
      "45:\tlearn: 3524.6040091\ttotal: 889ms\tremaining: 2.98s\n",
      "46:\tlearn: 3508.5746900\ttotal: 909ms\tremaining: 2.96s\n",
      "47:\tlearn: 3493.3574114\ttotal: 930ms\tremaining: 2.94s\n",
      "48:\tlearn: 3477.3621709\ttotal: 948ms\tremaining: 2.92s\n",
      "49:\tlearn: 3461.7143901\ttotal: 966ms\tremaining: 2.9s\n",
      "50:\tlearn: 3446.7658569\ttotal: 985ms\tremaining: 2.88s\n",
      "51:\tlearn: 3431.5867298\ttotal: 1s\tremaining: 2.86s\n",
      "52:\tlearn: 3416.8430564\ttotal: 1.02s\tremaining: 2.84s\n",
      "53:\tlearn: 3402.6548416\ttotal: 1.04s\tremaining: 2.82s\n",
      "54:\tlearn: 3388.0646520\ttotal: 1.06s\tremaining: 2.81s\n",
      "55:\tlearn: 3373.4071060\ttotal: 1.08s\tremaining: 2.79s\n",
      "56:\tlearn: 3359.2213452\ttotal: 1.11s\tremaining: 2.79s\n",
      "57:\tlearn: 3345.5467186\ttotal: 1.13s\tremaining: 2.77s\n",
      "58:\tlearn: 3331.5512826\ttotal: 1.15s\tremaining: 2.75s\n",
      "59:\tlearn: 3317.5827803\ttotal: 1.17s\tremaining: 2.73s\n",
      "60:\tlearn: 3304.4976899\ttotal: 1.19s\tremaining: 2.71s\n",
      "61:\tlearn: 3291.4147104\ttotal: 1.21s\tremaining: 2.69s\n",
      "62:\tlearn: 3278.2471830\ttotal: 1.23s\tremaining: 2.68s\n",
      "63:\tlearn: 3265.4868084\ttotal: 1.25s\tremaining: 2.65s\n",
      "64:\tlearn: 3252.7987022\ttotal: 1.27s\tremaining: 2.63s\n",
      "65:\tlearn: 3239.8226360\ttotal: 1.29s\tremaining: 2.61s\n",
      "66:\tlearn: 3227.2953513\ttotal: 1.31s\tremaining: 2.6s\n",
      "67:\tlearn: 3214.8576286\ttotal: 1.33s\tremaining: 2.58s\n",
      "68:\tlearn: 3202.8514871\ttotal: 1.35s\tremaining: 2.56s\n",
      "69:\tlearn: 3191.4349617\ttotal: 1.37s\tremaining: 2.54s\n",
      "70:\tlearn: 3180.2598322\ttotal: 1.39s\tremaining: 2.52s\n",
      "71:\tlearn: 3168.7377390\ttotal: 1.4s\tremaining: 2.5s\n",
      "72:\tlearn: 3157.8029457\ttotal: 1.43s\tremaining: 2.48s\n",
      "73:\tlearn: 3146.8807810\ttotal: 1.45s\tremaining: 2.46s\n",
      "74:\tlearn: 3135.6283988\ttotal: 1.46s\tremaining: 2.44s\n",
      "75:\tlearn: 3124.7502881\ttotal: 1.48s\tremaining: 2.42s\n",
      "76:\tlearn: 3113.5837902\ttotal: 1.5s\tremaining: 2.4s\n",
      "77:\tlearn: 3102.6065387\ttotal: 1.52s\tremaining: 2.38s\n",
      "78:\tlearn: 3092.1728774\ttotal: 1.54s\tremaining: 2.36s\n",
      "79:\tlearn: 3081.2424263\ttotal: 1.56s\tremaining: 2.34s\n",
      "80:\tlearn: 3071.0075102\ttotal: 1.58s\tremaining: 2.32s\n",
      "81:\tlearn: 3060.6334961\ttotal: 1.6s\tremaining: 2.3s\n",
      "82:\tlearn: 3050.6797581\ttotal: 1.62s\tremaining: 2.28s\n",
      "83:\tlearn: 3040.5178566\ttotal: 1.64s\tremaining: 2.26s\n",
      "84:\tlearn: 3030.6711348\ttotal: 1.66s\tremaining: 2.24s\n",
      "85:\tlearn: 3020.8121580\ttotal: 1.67s\tremaining: 2.22s\n",
      "86:\tlearn: 3011.8702371\ttotal: 1.69s\tremaining: 2.19s\n",
      "87:\tlearn: 3002.5997765\ttotal: 1.71s\tremaining: 2.18s\n",
      "88:\tlearn: 2993.6643088\ttotal: 1.73s\tremaining: 2.16s\n",
      "89:\tlearn: 2983.9828906\ttotal: 1.75s\tremaining: 2.13s\n",
      "90:\tlearn: 2975.0050053\ttotal: 1.76s\tremaining: 2.11s\n",
      "91:\tlearn: 2966.2151885\ttotal: 1.78s\tremaining: 2.09s\n",
      "92:\tlearn: 2957.5407441\ttotal: 1.81s\tremaining: 2.08s\n",
      "93:\tlearn: 2948.7721252\ttotal: 1.83s\tremaining: 2.06s\n",
      "94:\tlearn: 2940.0828165\ttotal: 1.85s\tremaining: 2.04s\n",
      "95:\tlearn: 2930.9227982\ttotal: 1.86s\tremaining: 2.02s\n",
      "96:\tlearn: 2922.4217765\ttotal: 1.88s\tremaining: 2s\n",
      "97:\tlearn: 2913.7842048\ttotal: 1.9s\tremaining: 1.98s\n",
      "98:\tlearn: 2905.1469283\ttotal: 1.92s\tremaining: 1.96s\n",
      "99:\tlearn: 2896.9421612\ttotal: 1.94s\tremaining: 1.94s\n",
      "100:\tlearn: 2888.6909178\ttotal: 1.96s\tremaining: 1.92s\n",
      "101:\tlearn: 2880.4291867\ttotal: 1.97s\tremaining: 1.9s\n",
      "102:\tlearn: 2872.7551106\ttotal: 1.99s\tremaining: 1.88s\n",
      "103:\tlearn: 2865.3752295\ttotal: 2.02s\tremaining: 1.86s\n",
      "104:\tlearn: 2857.8792812\ttotal: 2.04s\tremaining: 1.84s\n",
      "105:\tlearn: 2850.2226388\ttotal: 2.05s\tremaining: 1.82s\n",
      "106:\tlearn: 2842.5261713\ttotal: 2.07s\tremaining: 1.8s\n",
      "107:\tlearn: 2834.8412292\ttotal: 2.09s\tremaining: 1.78s\n",
      "108:\tlearn: 2827.2718468\ttotal: 2.11s\tremaining: 1.76s\n",
      "109:\tlearn: 2819.9244774\ttotal: 2.13s\tremaining: 1.74s\n",
      "110:\tlearn: 2812.7011861\ttotal: 2.15s\tremaining: 1.72s\n",
      "111:\tlearn: 2805.7618015\ttotal: 2.16s\tremaining: 1.7s\n",
      "112:\tlearn: 2798.5768980\ttotal: 2.18s\tremaining: 1.68s\n",
      "113:\tlearn: 2791.6709035\ttotal: 2.21s\tremaining: 1.67s\n",
      "114:\tlearn: 2785.1300761\ttotal: 2.23s\tremaining: 1.65s\n",
      "115:\tlearn: 2778.6601227\ttotal: 2.25s\tremaining: 1.63s\n",
      "116:\tlearn: 2772.0024007\ttotal: 2.27s\tremaining: 1.61s\n",
      "117:\tlearn: 2765.1981045\ttotal: 2.29s\tremaining: 1.59s\n",
      "118:\tlearn: 2758.8667218\ttotal: 2.31s\tremaining: 1.57s\n",
      "119:\tlearn: 2752.3145761\ttotal: 2.33s\tremaining: 1.55s\n",
      "120:\tlearn: 2746.1584737\ttotal: 2.35s\tremaining: 1.53s\n",
      "121:\tlearn: 2740.1949690\ttotal: 2.37s\tremaining: 1.51s\n",
      "122:\tlearn: 2734.1750598\ttotal: 2.38s\tremaining: 1.49s\n",
      "123:\tlearn: 2727.7662966\ttotal: 2.41s\tremaining: 1.48s\n",
      "124:\tlearn: 2721.6198622\ttotal: 2.43s\tremaining: 1.46s\n",
      "125:\tlearn: 2715.6000630\ttotal: 2.44s\tremaining: 1.44s\n",
      "126:\tlearn: 2709.6143202\ttotal: 2.46s\tremaining: 1.42s\n",
      "127:\tlearn: 2703.7333512\ttotal: 2.48s\tremaining: 1.39s\n",
      "128:\tlearn: 2697.8386662\ttotal: 2.5s\tremaining: 1.37s\n",
      "129:\tlearn: 2692.1750105\ttotal: 2.52s\tremaining: 1.35s\n",
      "130:\tlearn: 2686.7302376\ttotal: 2.54s\tremaining: 1.33s\n",
      "131:\tlearn: 2681.1485765\ttotal: 2.55s\tremaining: 1.31s\n",
      "132:\tlearn: 2675.6436138\ttotal: 2.57s\tremaining: 1.29s\n",
      "133:\tlearn: 2670.3111007\ttotal: 2.59s\tremaining: 1.27s\n",
      "134:\tlearn: 2665.1126297\ttotal: 2.61s\tremaining: 1.26s\n",
      "135:\tlearn: 2659.6747072\ttotal: 2.63s\tremaining: 1.24s\n",
      "136:\tlearn: 2654.2724011\ttotal: 2.65s\tremaining: 1.22s\n",
      "137:\tlearn: 2649.4197347\ttotal: 2.67s\tremaining: 1.2s\n",
      "138:\tlearn: 2644.4652739\ttotal: 2.69s\tremaining: 1.18s\n",
      "139:\tlearn: 2639.2239491\ttotal: 2.7s\tremaining: 1.16s\n",
      "140:\tlearn: 2634.0316474\ttotal: 2.72s\tremaining: 1.14s\n",
      "141:\tlearn: 2629.2873549\ttotal: 2.74s\tremaining: 1.12s\n",
      "142:\tlearn: 2624.2370241\ttotal: 2.76s\tremaining: 1.1s\n",
      "143:\tlearn: 2619.6470879\ttotal: 2.78s\tremaining: 1.08s\n",
      "144:\tlearn: 2614.6222550\ttotal: 2.8s\tremaining: 1.06s\n",
      "145:\tlearn: 2610.1035831\ttotal: 2.82s\tremaining: 1.04s\n",
      "146:\tlearn: 2605.2176670\ttotal: 2.84s\tremaining: 1.02s\n",
      "147:\tlearn: 2600.5001388\ttotal: 2.86s\tremaining: 1s\n",
      "148:\tlearn: 2596.1664555\ttotal: 2.88s\tremaining: 985ms\n",
      "149:\tlearn: 2591.8180464\ttotal: 2.9s\tremaining: 965ms\n",
      "150:\tlearn: 2587.4554616\ttotal: 2.92s\tremaining: 946ms\n",
      "151:\tlearn: 2582.9301893\ttotal: 2.93s\tremaining: 927ms\n",
      "152:\tlearn: 2578.6682148\ttotal: 2.95s\tremaining: 907ms\n",
      "153:\tlearn: 2574.6229602\ttotal: 2.97s\tremaining: 887ms\n",
      "154:\tlearn: 2570.2761211\ttotal: 2.99s\tremaining: 867ms\n",
      "155:\tlearn: 2565.9806780\ttotal: 3.01s\tremaining: 849ms\n",
      "156:\tlearn: 2562.0873514\ttotal: 3.03s\tremaining: 830ms\n",
      "157:\tlearn: 2558.0700285\ttotal: 3.05s\tremaining: 810ms\n",
      "158:\tlearn: 2553.9001534\ttotal: 3.06s\tremaining: 791ms\n",
      "159:\tlearn: 2549.8321482\ttotal: 3.08s\tremaining: 771ms\n",
      "160:\tlearn: 2545.9320501\ttotal: 3.1s\tremaining: 751ms\n",
      "161:\tlearn: 2542.1477822\ttotal: 3.12s\tremaining: 732ms\n",
      "162:\tlearn: 2538.3507408\ttotal: 3.14s\tremaining: 713ms\n",
      "163:\tlearn: 2534.6020172\ttotal: 3.16s\tremaining: 693ms\n",
      "164:\tlearn: 2530.8061413\ttotal: 3.17s\tremaining: 674ms\n",
      "165:\tlearn: 2526.8354101\ttotal: 3.2s\tremaining: 656ms\n",
      "166:\tlearn: 2523.0447345\ttotal: 3.22s\tremaining: 636ms\n",
      "167:\tlearn: 2519.2632742\ttotal: 3.24s\tremaining: 617ms\n",
      "168:\tlearn: 2515.8751069\ttotal: 3.26s\tremaining: 597ms\n",
      "169:\tlearn: 2512.4906181\ttotal: 3.27s\tremaining: 578ms\n",
      "170:\tlearn: 2508.8129360\ttotal: 3.29s\tremaining: 559ms\n",
      "171:\tlearn: 2505.2016019\ttotal: 3.31s\tremaining: 539ms\n",
      "172:\tlearn: 2501.4999596\ttotal: 3.33s\tremaining: 520ms\n",
      "173:\tlearn: 2497.9456968\ttotal: 3.35s\tremaining: 501ms\n",
      "174:\tlearn: 2494.5760411\ttotal: 3.37s\tremaining: 481ms\n"
     ]
    },
    {
     "name": "stdout",
     "output_type": "stream",
     "text": [
      "175:\tlearn: 2491.0192624\ttotal: 3.39s\tremaining: 462ms\n",
      "176:\tlearn: 2487.6002060\ttotal: 3.41s\tremaining: 443ms\n",
      "177:\tlearn: 2484.3129754\ttotal: 3.43s\tremaining: 423ms\n",
      "178:\tlearn: 2480.9434263\ttotal: 3.44s\tremaining: 404ms\n",
      "179:\tlearn: 2477.7518259\ttotal: 3.46s\tremaining: 385ms\n",
      "180:\tlearn: 2474.5585742\ttotal: 3.48s\tremaining: 365ms\n",
      "181:\tlearn: 2471.5218831\ttotal: 3.5s\tremaining: 346ms\n",
      "182:\tlearn: 2468.5558024\ttotal: 3.52s\tremaining: 327ms\n",
      "183:\tlearn: 2465.2507487\ttotal: 3.53s\tremaining: 307ms\n",
      "184:\tlearn: 2462.3764236\ttotal: 3.55s\tremaining: 288ms\n",
      "185:\tlearn: 2459.2101024\ttotal: 3.57s\tremaining: 269ms\n",
      "186:\tlearn: 2456.1312349\ttotal: 3.58s\tremaining: 249ms\n",
      "187:\tlearn: 2453.2663449\ttotal: 3.6s\tremaining: 230ms\n",
      "188:\tlearn: 2450.3967190\ttotal: 3.62s\tremaining: 211ms\n",
      "189:\tlearn: 2447.4132239\ttotal: 3.64s\tremaining: 192ms\n",
      "190:\tlearn: 2444.5718348\ttotal: 3.66s\tremaining: 172ms\n",
      "191:\tlearn: 2441.6739301\ttotal: 3.68s\tremaining: 153ms\n",
      "192:\tlearn: 2438.9059122\ttotal: 3.7s\tremaining: 134ms\n",
      "193:\tlearn: 2435.9926501\ttotal: 3.72s\tremaining: 115ms\n",
      "194:\tlearn: 2433.2645850\ttotal: 3.74s\tremaining: 95.8ms\n",
      "195:\tlearn: 2430.5600400\ttotal: 3.75s\tremaining: 76.6ms\n",
      "196:\tlearn: 2427.8951761\ttotal: 3.77s\tremaining: 57.5ms\n",
      "197:\tlearn: 2425.2157492\ttotal: 3.79s\tremaining: 38.3ms\n",
      "198:\tlearn: 2422.5774104\ttotal: 3.81s\tremaining: 19.1ms\n",
      "199:\tlearn: 2420.0147573\ttotal: 3.83s\tremaining: 0us\n",
      "0:\tlearn: 4484.9770495\ttotal: 17.8ms\tremaining: 3.54s\n",
      "1:\tlearn: 4457.2947231\ttotal: 35.5ms\tremaining: 3.51s\n",
      "2:\tlearn: 4430.1186181\ttotal: 52.9ms\tremaining: 3.47s\n",
      "3:\tlearn: 4403.1652982\ttotal: 75ms\tremaining: 3.67s\n",
      "4:\tlearn: 4376.7205822\ttotal: 95.2ms\tremaining: 3.71s\n",
      "5:\tlearn: 4350.5675334\ttotal: 114ms\tremaining: 3.69s\n",
      "6:\tlearn: 4324.5303805\ttotal: 133ms\tremaining: 3.65s\n",
      "7:\tlearn: 4299.6368870\ttotal: 151ms\tremaining: 3.62s\n",
      "8:\tlearn: 4274.1247611\ttotal: 168ms\tremaining: 3.57s\n",
      "9:\tlearn: 4249.1838097\ttotal: 189ms\tremaining: 3.6s\n",
      "10:\tlearn: 4223.7106832\ttotal: 210ms\tremaining: 3.6s\n",
      "11:\tlearn: 4199.3712950\ttotal: 227ms\tremaining: 3.56s\n",
      "12:\tlearn: 4174.7083144\ttotal: 245ms\tremaining: 3.53s\n",
      "13:\tlearn: 4150.9038728\ttotal: 263ms\tremaining: 3.5s\n",
      "14:\tlearn: 4127.3421595\ttotal: 284ms\tremaining: 3.5s\n",
      "15:\tlearn: 4104.0576545\ttotal: 304ms\tremaining: 3.5s\n",
      "16:\tlearn: 4081.1680683\ttotal: 322ms\tremaining: 3.46s\n",
      "17:\tlearn: 4059.2771038\ttotal: 340ms\tremaining: 3.44s\n",
      "18:\tlearn: 4037.1050907\ttotal: 361ms\tremaining: 3.44s\n",
      "19:\tlearn: 4014.0758521\ttotal: 387ms\tremaining: 3.49s\n",
      "20:\tlearn: 3992.2155199\ttotal: 407ms\tremaining: 3.47s\n",
      "21:\tlearn: 3970.3933359\ttotal: 427ms\tremaining: 3.45s\n",
      "22:\tlearn: 3949.0026135\ttotal: 448ms\tremaining: 3.44s\n",
      "23:\tlearn: 3928.3047452\ttotal: 467ms\tremaining: 3.42s\n",
      "24:\tlearn: 3907.5307352\ttotal: 488ms\tremaining: 3.41s\n",
      "25:\tlearn: 3887.0629805\ttotal: 507ms\tremaining: 3.4s\n",
      "26:\tlearn: 3866.6748361\ttotal: 526ms\tremaining: 3.37s\n",
      "27:\tlearn: 3846.4871018\ttotal: 544ms\tremaining: 3.34s\n",
      "28:\tlearn: 3826.5561173\ttotal: 562ms\tremaining: 3.31s\n",
      "29:\tlearn: 3807.1526384\ttotal: 582ms\tremaining: 3.29s\n",
      "30:\tlearn: 3788.4608456\ttotal: 602ms\tremaining: 3.28s\n",
      "31:\tlearn: 3769.8390695\ttotal: 620ms\tremaining: 3.26s\n",
      "32:\tlearn: 3750.8117122\ttotal: 638ms\tremaining: 3.23s\n",
      "33:\tlearn: 3732.1286343\ttotal: 656ms\tremaining: 3.2s\n",
      "34:\tlearn: 3713.2604283\ttotal: 676ms\tremaining: 3.18s\n",
      "35:\tlearn: 3694.6807762\ttotal: 697ms\tremaining: 3.17s\n",
      "36:\tlearn: 3677.3457973\ttotal: 716ms\tremaining: 3.15s\n",
      "37:\tlearn: 3660.3702883\ttotal: 734ms\tremaining: 3.13s\n",
      "38:\tlearn: 3642.0783981\ttotal: 753ms\tremaining: 3.11s\n",
      "39:\tlearn: 3625.0923358\ttotal: 772ms\tremaining: 3.09s\n",
      "40:\tlearn: 3608.1029524\ttotal: 792ms\tremaining: 3.07s\n",
      "41:\tlearn: 3591.1284841\ttotal: 811ms\tremaining: 3.05s\n",
      "42:\tlearn: 3574.1762446\ttotal: 830ms\tremaining: 3.03s\n",
      "43:\tlearn: 3556.9229261\ttotal: 849ms\tremaining: 3.01s\n",
      "44:\tlearn: 3540.1534551\ttotal: 876ms\tremaining: 3.02s\n",
      "45:\tlearn: 3523.9607997\ttotal: 897ms\tremaining: 3s\n",
      "46:\tlearn: 3508.1482263\ttotal: 916ms\tremaining: 2.98s\n",
      "47:\tlearn: 3492.6213406\ttotal: 935ms\tremaining: 2.96s\n",
      "48:\tlearn: 3477.0887217\ttotal: 952ms\tremaining: 2.93s\n",
      "49:\tlearn: 3461.4901250\ttotal: 972ms\tremaining: 2.92s\n",
      "50:\tlearn: 3446.4080144\ttotal: 992ms\tremaining: 2.9s\n",
      "51:\tlearn: 3431.6148616\ttotal: 1.01s\tremaining: 2.88s\n",
      "52:\tlearn: 3416.6840328\ttotal: 1.03s\tremaining: 2.85s\n",
      "53:\tlearn: 3401.5702568\ttotal: 1.05s\tremaining: 2.83s\n",
      "54:\tlearn: 3387.4089919\ttotal: 1.07s\tremaining: 2.81s\n",
      "55:\tlearn: 3373.2529476\ttotal: 1.09s\tremaining: 2.79s\n",
      "56:\tlearn: 3359.2409724\ttotal: 1.11s\tremaining: 2.78s\n",
      "57:\tlearn: 3344.9579759\ttotal: 1.13s\tremaining: 2.75s\n",
      "58:\tlearn: 3330.9978162\ttotal: 1.14s\tremaining: 2.73s\n",
      "59:\tlearn: 3317.4737269\ttotal: 1.16s\tremaining: 2.71s\n",
      "60:\tlearn: 3304.6350849\ttotal: 1.18s\tremaining: 2.69s\n",
      "61:\tlearn: 3291.4244819\ttotal: 1.2s\tremaining: 2.67s\n",
      "62:\tlearn: 3278.4793119\ttotal: 1.22s\tremaining: 2.65s\n",
      "63:\tlearn: 3265.5757625\ttotal: 1.24s\tremaining: 2.63s\n",
      "64:\tlearn: 3253.1435976\ttotal: 1.26s\tremaining: 2.61s\n",
      "65:\tlearn: 3240.3542519\ttotal: 1.28s\tremaining: 2.59s\n",
      "66:\tlearn: 3228.4804113\ttotal: 1.3s\tremaining: 2.58s\n",
      "67:\tlearn: 3216.0896620\ttotal: 1.31s\tremaining: 2.55s\n",
      "68:\tlearn: 3203.7390821\ttotal: 1.33s\tremaining: 2.53s\n",
      "69:\tlearn: 3192.0580522\ttotal: 1.35s\tremaining: 2.51s\n",
      "70:\tlearn: 3180.8519599\ttotal: 1.38s\tremaining: 2.5s\n",
      "71:\tlearn: 3168.9774934\ttotal: 1.4s\tremaining: 2.48s\n",
      "72:\tlearn: 3157.1277251\ttotal: 1.42s\tremaining: 2.46s\n",
      "73:\tlearn: 3146.1582026\ttotal: 1.43s\tremaining: 2.44s\n",
      "74:\tlearn: 3134.7152225\ttotal: 1.45s\tremaining: 2.42s\n",
      "75:\tlearn: 3123.6414398\ttotal: 1.47s\tremaining: 2.4s\n",
      "76:\tlearn: 3112.9964540\ttotal: 1.49s\tremaining: 2.38s\n",
      "77:\tlearn: 3102.1714952\ttotal: 1.51s\tremaining: 2.37s\n",
      "78:\tlearn: 3091.4540836\ttotal: 1.53s\tremaining: 2.35s\n",
      "79:\tlearn: 3081.1101160\ttotal: 1.55s\tremaining: 2.33s\n",
      "80:\tlearn: 3070.6538050\ttotal: 1.57s\tremaining: 2.31s\n",
      "81:\tlearn: 3060.9389800\ttotal: 1.59s\tremaining: 2.29s\n",
      "82:\tlearn: 3050.8912177\ttotal: 1.61s\tremaining: 2.27s\n",
      "83:\tlearn: 3041.1328931\ttotal: 1.63s\tremaining: 2.25s\n",
      "84:\tlearn: 3031.0756787\ttotal: 1.65s\tremaining: 2.23s\n",
      "85:\tlearn: 3021.4636904\ttotal: 1.66s\tremaining: 2.21s\n",
      "86:\tlearn: 3011.5856112\ttotal: 1.69s\tremaining: 2.19s\n",
      "87:\tlearn: 3002.2868146\ttotal: 1.7s\tremaining: 2.17s\n",
      "88:\tlearn: 2993.1949060\ttotal: 1.72s\tremaining: 2.15s\n",
      "89:\tlearn: 2983.5666087\ttotal: 1.74s\tremaining: 2.13s\n",
      "90:\tlearn: 2975.0830584\ttotal: 1.77s\tremaining: 2.12s\n",
      "91:\tlearn: 2965.9061458\ttotal: 1.79s\tremaining: 2.1s\n",
      "92:\tlearn: 2957.1905600\ttotal: 1.81s\tremaining: 2.08s\n",
      "93:\tlearn: 2948.1687599\ttotal: 1.82s\tremaining: 2.06s\n",
      "94:\tlearn: 2939.0288327\ttotal: 1.84s\tremaining: 2.04s\n",
      "95:\tlearn: 2930.3710841\ttotal: 1.86s\tremaining: 2.02s\n",
      "96:\tlearn: 2922.0887570\ttotal: 1.88s\tremaining: 2s\n",
      "97:\tlearn: 2913.4626102\ttotal: 1.91s\tremaining: 1.98s\n",
      "98:\tlearn: 2904.9727001\ttotal: 1.93s\tremaining: 1.97s\n",
      "99:\tlearn: 2896.4760009\ttotal: 1.95s\tremaining: 1.95s\n",
      "100:\tlearn: 2888.6683604\ttotal: 1.97s\tremaining: 1.93s\n",
      "101:\tlearn: 2880.3835038\ttotal: 1.99s\tremaining: 1.91s\n",
      "102:\tlearn: 2872.5493329\ttotal: 2s\tremaining: 1.89s\n",
      "103:\tlearn: 2865.1225485\ttotal: 2.02s\tremaining: 1.87s\n",
      "104:\tlearn: 2857.6789298\ttotal: 2.04s\tremaining: 1.85s\n",
      "105:\tlearn: 2849.9726066\ttotal: 2.06s\tremaining: 1.82s\n",
      "106:\tlearn: 2842.2926157\ttotal: 2.08s\tremaining: 1.81s\n",
      "107:\tlearn: 2834.8792640\ttotal: 2.1s\tremaining: 1.79s\n",
      "108:\tlearn: 2827.6291673\ttotal: 2.12s\tremaining: 1.77s\n",
      "109:\tlearn: 2820.6713893\ttotal: 2.13s\tremaining: 1.75s\n",
      "110:\tlearn: 2813.5393121\ttotal: 2.15s\tremaining: 1.73s\n",
      "111:\tlearn: 2806.6071713\ttotal: 2.18s\tremaining: 1.71s\n",
      "112:\tlearn: 2800.0761267\ttotal: 2.2s\tremaining: 1.69s\n",
      "113:\tlearn: 2793.4447923\ttotal: 2.22s\tremaining: 1.67s\n",
      "114:\tlearn: 2786.3111498\ttotal: 2.23s\tremaining: 1.65s\n",
      "115:\tlearn: 2780.0553663\ttotal: 2.25s\tremaining: 1.63s\n",
      "116:\tlearn: 2773.2604476\ttotal: 2.27s\tremaining: 1.61s\n",
      "117:\tlearn: 2766.4185567\ttotal: 2.29s\tremaining: 1.59s\n",
      "118:\tlearn: 2759.6228320\ttotal: 2.31s\tremaining: 1.57s\n",
      "119:\tlearn: 2752.9808252\ttotal: 2.33s\tremaining: 1.55s\n",
      "120:\tlearn: 2746.9924984\ttotal: 2.35s\tremaining: 1.53s\n",
      "121:\tlearn: 2740.9835073\ttotal: 2.36s\tremaining: 1.51s\n",
      "122:\tlearn: 2735.1342878\ttotal: 2.38s\tremaining: 1.49s\n",
      "123:\tlearn: 2729.1918314\ttotal: 2.4s\tremaining: 1.47s\n",
      "124:\tlearn: 2723.2985184\ttotal: 2.42s\tremaining: 1.45s\n",
      "125:\tlearn: 2717.5059363\ttotal: 2.44s\tremaining: 1.43s\n",
      "126:\tlearn: 2711.5207606\ttotal: 2.46s\tremaining: 1.41s\n",
      "127:\tlearn: 2705.6143563\ttotal: 2.48s\tremaining: 1.39s\n",
      "128:\tlearn: 2699.8340514\ttotal: 2.5s\tremaining: 1.37s\n",
      "129:\tlearn: 2694.1584020\ttotal: 2.52s\tremaining: 1.35s\n",
      "130:\tlearn: 2688.3120056\ttotal: 2.53s\tremaining: 1.33s\n",
      "131:\tlearn: 2682.6384241\ttotal: 2.55s\tremaining: 1.31s\n"
     ]
    },
    {
     "name": "stdout",
     "output_type": "stream",
     "text": [
      "132:\tlearn: 2677.0108863\ttotal: 2.57s\tremaining: 1.29s\n",
      "133:\tlearn: 2671.8310166\ttotal: 2.59s\tremaining: 1.28s\n",
      "134:\tlearn: 2666.6187712\ttotal: 2.61s\tremaining: 1.26s\n",
      "135:\tlearn: 2661.2941621\ttotal: 2.63s\tremaining: 1.24s\n",
      "136:\tlearn: 2656.1806555\ttotal: 2.65s\tremaining: 1.22s\n",
      "137:\tlearn: 2651.0666679\ttotal: 2.66s\tremaining: 1.2s\n",
      "138:\tlearn: 2646.1579848\ttotal: 2.69s\tremaining: 1.18s\n",
      "139:\tlearn: 2641.2576113\ttotal: 2.71s\tremaining: 1.16s\n",
      "140:\tlearn: 2636.5225051\ttotal: 2.73s\tremaining: 1.14s\n",
      "141:\tlearn: 2631.4971230\ttotal: 2.75s\tremaining: 1.12s\n",
      "142:\tlearn: 2626.7643234\ttotal: 2.76s\tremaining: 1.1s\n",
      "143:\tlearn: 2621.9897740\ttotal: 2.78s\tremaining: 1.08s\n",
      "144:\tlearn: 2617.4257898\ttotal: 2.8s\tremaining: 1.06s\n",
      "145:\tlearn: 2612.9418932\ttotal: 2.82s\tremaining: 1.04s\n",
      "146:\tlearn: 2608.2422200\ttotal: 2.84s\tremaining: 1.02s\n",
      "147:\tlearn: 2603.5499900\ttotal: 2.85s\tremaining: 1s\n",
      "148:\tlearn: 2598.6845968\ttotal: 2.88s\tremaining: 984ms\n",
      "149:\tlearn: 2594.3907481\ttotal: 2.89s\tremaining: 965ms\n",
      "150:\tlearn: 2590.0040368\ttotal: 2.91s\tremaining: 945ms\n",
      "151:\tlearn: 2585.6836360\ttotal: 2.93s\tremaining: 926ms\n",
      "152:\tlearn: 2581.2957133\ttotal: 2.95s\tremaining: 907ms\n",
      "153:\tlearn: 2576.9245579\ttotal: 2.97s\tremaining: 888ms\n",
      "154:\tlearn: 2572.8771881\ttotal: 3s\tremaining: 870ms\n",
      "155:\tlearn: 2568.6773450\ttotal: 3.02s\tremaining: 851ms\n",
      "156:\tlearn: 2564.3390425\ttotal: 3.03s\tremaining: 831ms\n",
      "157:\tlearn: 2560.0173819\ttotal: 3.05s\tremaining: 811ms\n",
      "158:\tlearn: 2556.1572675\ttotal: 3.07s\tremaining: 792ms\n",
      "159:\tlearn: 2552.1081125\ttotal: 3.09s\tremaining: 772ms\n",
      "160:\tlearn: 2548.2889666\ttotal: 3.11s\tremaining: 753ms\n",
      "161:\tlearn: 2544.5381943\ttotal: 3.13s\tremaining: 734ms\n",
      "162:\tlearn: 2540.8017536\ttotal: 3.15s\tremaining: 714ms\n",
      "163:\tlearn: 2537.1249731\ttotal: 3.17s\tremaining: 695ms\n",
      "164:\tlearn: 2533.4178186\ttotal: 3.19s\tremaining: 676ms\n",
      "165:\tlearn: 2529.5633659\ttotal: 3.2s\tremaining: 656ms\n",
      "166:\tlearn: 2525.7204136\ttotal: 3.22s\tremaining: 637ms\n",
      "167:\tlearn: 2521.8513463\ttotal: 3.24s\tremaining: 617ms\n",
      "168:\tlearn: 2518.2779344\ttotal: 3.26s\tremaining: 598ms\n",
      "169:\tlearn: 2514.7624464\ttotal: 3.28s\tremaining: 579ms\n",
      "170:\tlearn: 2511.1800721\ttotal: 3.3s\tremaining: 560ms\n",
      "171:\tlearn: 2507.6506558\ttotal: 3.32s\tremaining: 540ms\n",
      "172:\tlearn: 2504.0054554\ttotal: 3.33s\tremaining: 520ms\n",
      "173:\tlearn: 2500.6875440\ttotal: 3.35s\tremaining: 501ms\n",
      "174:\tlearn: 2497.3384123\ttotal: 3.37s\tremaining: 482ms\n",
      "175:\tlearn: 2493.8291318\ttotal: 3.39s\tremaining: 462ms\n",
      "176:\tlearn: 2490.6297192\ttotal: 3.41s\tremaining: 443ms\n",
      "177:\tlearn: 2487.2479778\ttotal: 3.43s\tremaining: 423ms\n",
      "178:\tlearn: 2484.1880428\ttotal: 3.44s\tremaining: 404ms\n",
      "179:\tlearn: 2480.9185345\ttotal: 3.46s\tremaining: 385ms\n",
      "180:\tlearn: 2477.5993468\ttotal: 3.48s\tremaining: 366ms\n",
      "181:\tlearn: 2474.5510182\ttotal: 3.5s\tremaining: 346ms\n",
      "182:\tlearn: 2471.5459287\ttotal: 3.52s\tremaining: 327ms\n",
      "183:\tlearn: 2468.5217303\ttotal: 3.54s\tremaining: 307ms\n",
      "184:\tlearn: 2465.3079838\ttotal: 3.55s\tremaining: 288ms\n",
      "185:\tlearn: 2462.0643548\ttotal: 3.57s\tremaining: 269ms\n",
      "186:\tlearn: 2458.8220865\ttotal: 3.59s\tremaining: 250ms\n",
      "187:\tlearn: 2455.8348750\ttotal: 3.61s\tremaining: 230ms\n",
      "188:\tlearn: 2452.8965440\ttotal: 3.63s\tremaining: 211ms\n",
      "189:\tlearn: 2449.7797271\ttotal: 3.64s\tremaining: 192ms\n",
      "190:\tlearn: 2446.9003553\ttotal: 3.66s\tremaining: 173ms\n",
      "191:\tlearn: 2443.9920703\ttotal: 3.68s\tremaining: 153ms\n",
      "192:\tlearn: 2441.2329244\ttotal: 3.7s\tremaining: 134ms\n",
      "193:\tlearn: 2438.4103035\ttotal: 3.72s\tremaining: 115ms\n",
      "194:\tlearn: 2435.6840946\ttotal: 3.74s\tremaining: 95.8ms\n",
      "195:\tlearn: 2432.9925104\ttotal: 3.76s\tremaining: 76.7ms\n",
      "196:\tlearn: 2430.4141923\ttotal: 3.78s\tremaining: 57.5ms\n",
      "197:\tlearn: 2427.8174736\ttotal: 3.79s\tremaining: 38.3ms\n",
      "198:\tlearn: 2424.8277886\ttotal: 3.81s\tremaining: 19.2ms\n",
      "199:\tlearn: 2422.1287876\ttotal: 3.83s\tremaining: 0us\n",
      "0:\tlearn: 4487.4894447\ttotal: 18.5ms\tremaining: 3.68s\n",
      "1:\tlearn: 4460.0255030\ttotal: 38.5ms\tremaining: 3.81s\n",
      "2:\tlearn: 4432.6581345\ttotal: 60ms\tremaining: 3.94s\n",
      "3:\tlearn: 4405.6681823\ttotal: 80.9ms\tremaining: 3.96s\n",
      "4:\tlearn: 4379.2878824\ttotal: 99.3ms\tremaining: 3.87s\n",
      "5:\tlearn: 4352.8216169\ttotal: 119ms\tremaining: 3.84s\n",
      "6:\tlearn: 4327.0173457\ttotal: 140ms\tremaining: 3.85s\n",
      "7:\tlearn: 4300.9404494\ttotal: 159ms\tremaining: 3.81s\n",
      "8:\tlearn: 4275.0653040\ttotal: 177ms\tremaining: 3.76s\n",
      "9:\tlearn: 4249.9431748\ttotal: 195ms\tremaining: 3.7s\n",
      "10:\tlearn: 4225.7435504\ttotal: 214ms\tremaining: 3.68s\n",
      "11:\tlearn: 4201.1698022\ttotal: 234ms\tremaining: 3.67s\n",
      "12:\tlearn: 4176.9584979\ttotal: 255ms\tremaining: 3.67s\n",
      "13:\tlearn: 4153.2596562\ttotal: 272ms\tremaining: 3.62s\n",
      "14:\tlearn: 4129.8810187\ttotal: 290ms\tremaining: 3.57s\n",
      "15:\tlearn: 4107.2072815\ttotal: 308ms\tremaining: 3.54s\n",
      "16:\tlearn: 4084.3905241\ttotal: 328ms\tremaining: 3.53s\n",
      "17:\tlearn: 4062.6213257\ttotal: 349ms\tremaining: 3.53s\n",
      "18:\tlearn: 4040.2056388\ttotal: 368ms\tremaining: 3.5s\n",
      "19:\tlearn: 4017.5615652\ttotal: 386ms\tremaining: 3.48s\n",
      "20:\tlearn: 3995.1221035\ttotal: 405ms\tremaining: 3.45s\n",
      "21:\tlearn: 3973.2447431\ttotal: 427ms\tremaining: 3.45s\n",
      "22:\tlearn: 3951.6735915\ttotal: 449ms\tremaining: 3.45s\n",
      "23:\tlearn: 3931.1497085\ttotal: 467ms\tremaining: 3.42s\n",
      "24:\tlearn: 3910.6598683\ttotal: 485ms\tremaining: 3.4s\n",
      "25:\tlearn: 3890.0925729\ttotal: 504ms\tremaining: 3.37s\n",
      "26:\tlearn: 3869.0534988\ttotal: 524ms\tremaining: 3.36s\n",
      "27:\tlearn: 3848.9479855\ttotal: 544ms\tremaining: 3.34s\n",
      "28:\tlearn: 3829.0172881\ttotal: 563ms\tremaining: 3.32s\n",
      "29:\tlearn: 3809.6846864\ttotal: 582ms\tremaining: 3.29s\n",
      "30:\tlearn: 3790.5037977\ttotal: 600ms\tremaining: 3.27s\n",
      "31:\tlearn: 3771.6995404\ttotal: 620ms\tremaining: 3.25s\n",
      "32:\tlearn: 3752.6369674\ttotal: 640ms\tremaining: 3.24s\n",
      "33:\tlearn: 3734.0666663\ttotal: 659ms\tremaining: 3.22s\n",
      "34:\tlearn: 3715.4740770\ttotal: 678ms\tremaining: 3.19s\n",
      "35:\tlearn: 3697.0237004\ttotal: 696ms\tremaining: 3.17s\n",
      "36:\tlearn: 3679.7031838\ttotal: 722ms\tremaining: 3.18s\n",
      "37:\tlearn: 3661.9381112\ttotal: 742ms\tremaining: 3.16s\n",
      "38:\tlearn: 3644.6195956\ttotal: 763ms\tremaining: 3.15s\n",
      "39:\tlearn: 3627.1959599\ttotal: 784ms\tremaining: 3.14s\n",
      "40:\tlearn: 3610.2878816\ttotal: 804ms\tremaining: 3.12s\n",
      "41:\tlearn: 3593.5875048\ttotal: 824ms\tremaining: 3.1s\n",
      "42:\tlearn: 3577.5336057\ttotal: 845ms\tremaining: 3.08s\n",
      "43:\tlearn: 3561.2845357\ttotal: 864ms\tremaining: 3.06s\n",
      "44:\tlearn: 3544.7813931\ttotal: 882ms\tremaining: 3.04s\n",
      "45:\tlearn: 3528.5702156\ttotal: 901ms\tremaining: 3.02s\n",
      "46:\tlearn: 3512.0675030\ttotal: 925ms\tremaining: 3.01s\n",
      "47:\tlearn: 3497.1060341\ttotal: 945ms\tremaining: 2.99s\n",
      "48:\tlearn: 3481.0697851\ttotal: 963ms\tremaining: 2.97s\n",
      "49:\tlearn: 3465.2431356\ttotal: 982ms\tremaining: 2.94s\n",
      "50:\tlearn: 3450.5340492\ttotal: 1s\tremaining: 2.92s\n",
      "51:\tlearn: 3436.0611488\ttotal: 1.02s\tremaining: 2.9s\n",
      "52:\tlearn: 3421.2395960\ttotal: 1.04s\tremaining: 2.88s\n",
      "53:\tlearn: 3406.9878698\ttotal: 1.06s\tremaining: 2.86s\n",
      "54:\tlearn: 3391.9831434\ttotal: 1.08s\tremaining: 2.84s\n",
      "55:\tlearn: 3378.1597217\ttotal: 1.1s\tremaining: 2.82s\n",
      "56:\tlearn: 3364.2150335\ttotal: 1.12s\tremaining: 2.8s\n",
      "57:\tlearn: 3349.8960694\ttotal: 1.14s\tremaining: 2.78s\n",
      "58:\tlearn: 3335.8793651\ttotal: 1.16s\tremaining: 2.76s\n",
      "59:\tlearn: 3321.9262234\ttotal: 1.17s\tremaining: 2.74s\n",
      "60:\tlearn: 3308.4513014\ttotal: 1.19s\tremaining: 2.72s\n",
      "61:\tlearn: 3295.7942351\ttotal: 1.22s\tremaining: 2.71s\n",
      "62:\tlearn: 3283.1090534\ttotal: 1.24s\tremaining: 2.69s\n",
      "63:\tlearn: 3270.6311099\ttotal: 1.26s\tremaining: 2.67s\n",
      "64:\tlearn: 3257.8131397\ttotal: 1.27s\tremaining: 2.65s\n",
      "65:\tlearn: 3245.1657521\ttotal: 1.29s\tremaining: 2.63s\n",
      "66:\tlearn: 3232.8737759\ttotal: 1.31s\tremaining: 2.61s\n",
      "67:\tlearn: 3221.1020719\ttotal: 1.33s\tremaining: 2.59s\n",
      "68:\tlearn: 3209.2361323\ttotal: 1.35s\tremaining: 2.57s\n",
      "69:\tlearn: 3197.5251604\ttotal: 1.37s\tremaining: 2.54s\n",
      "70:\tlearn: 3185.9946034\ttotal: 1.39s\tremaining: 2.52s\n",
      "71:\tlearn: 3174.3140250\ttotal: 1.41s\tremaining: 2.5s\n",
      "72:\tlearn: 3162.8447557\ttotal: 1.43s\tremaining: 2.48s\n",
      "73:\tlearn: 3151.9213620\ttotal: 1.45s\tremaining: 2.46s\n",
      "74:\tlearn: 3141.1004489\ttotal: 1.46s\tremaining: 2.44s\n",
      "75:\tlearn: 3130.4471186\ttotal: 1.48s\tremaining: 2.42s\n",
      "76:\tlearn: 3119.7675050\ttotal: 1.5s\tremaining: 2.4s\n",
      "77:\tlearn: 3108.6738003\ttotal: 1.52s\tremaining: 2.38s\n",
      "78:\tlearn: 3097.8056609\ttotal: 1.54s\tremaining: 2.36s\n",
      "79:\tlearn: 3087.4889658\ttotal: 1.56s\tremaining: 2.34s\n",
      "80:\tlearn: 3077.4362661\ttotal: 1.58s\tremaining: 2.32s\n",
      "81:\tlearn: 3067.4705487\ttotal: 1.6s\tremaining: 2.3s\n",
      "82:\tlearn: 3057.4732224\ttotal: 1.62s\tremaining: 2.28s\n",
      "83:\tlearn: 3047.8548299\ttotal: 1.64s\tremaining: 2.26s\n",
      "84:\tlearn: 3037.8567677\ttotal: 1.66s\tremaining: 2.24s\n",
      "85:\tlearn: 3028.7176714\ttotal: 1.68s\tremaining: 2.22s\n",
      "86:\tlearn: 3019.0750860\ttotal: 1.69s\tremaining: 2.2s\n"
     ]
    },
    {
     "name": "stdout",
     "output_type": "stream",
     "text": [
      "87:\tlearn: 3009.8112055\ttotal: 1.71s\tremaining: 2.18s\n",
      "88:\tlearn: 3000.1319872\ttotal: 1.73s\tremaining: 2.16s\n",
      "89:\tlearn: 2990.7863816\ttotal: 1.75s\tremaining: 2.14s\n",
      "90:\tlearn: 2981.5544709\ttotal: 1.77s\tremaining: 2.12s\n",
      "91:\tlearn: 2972.6258529\ttotal: 1.79s\tremaining: 2.1s\n",
      "92:\tlearn: 2963.9980829\ttotal: 1.81s\tremaining: 2.08s\n",
      "93:\tlearn: 2954.8841879\ttotal: 1.83s\tremaining: 2.06s\n",
      "94:\tlearn: 2946.4112557\ttotal: 1.85s\tremaining: 2.04s\n",
      "95:\tlearn: 2937.5764604\ttotal: 1.87s\tremaining: 2.02s\n",
      "96:\tlearn: 2929.2539109\ttotal: 1.89s\tremaining: 2s\n",
      "97:\tlearn: 2920.7942381\ttotal: 1.9s\tremaining: 1.98s\n",
      "98:\tlearn: 2912.7584108\ttotal: 1.92s\tremaining: 1.96s\n",
      "99:\tlearn: 2904.6829939\ttotal: 1.94s\tremaining: 1.94s\n",
      "100:\tlearn: 2896.9970658\ttotal: 1.96s\tremaining: 1.92s\n",
      "101:\tlearn: 2888.6999834\ttotal: 1.98s\tremaining: 1.9s\n",
      "102:\tlearn: 2880.6353825\ttotal: 2s\tremaining: 1.88s\n",
      "103:\tlearn: 2872.6663392\ttotal: 2.02s\tremaining: 1.86s\n",
      "104:\tlearn: 2864.8165227\ttotal: 2.04s\tremaining: 1.85s\n",
      "105:\tlearn: 2857.4432604\ttotal: 2.06s\tremaining: 1.82s\n",
      "106:\tlearn: 2850.3886458\ttotal: 2.08s\tremaining: 1.8s\n",
      "107:\tlearn: 2843.0132593\ttotal: 2.09s\tremaining: 1.78s\n",
      "108:\tlearn: 2835.4372328\ttotal: 2.11s\tremaining: 1.76s\n",
      "109:\tlearn: 2828.4216659\ttotal: 2.13s\tremaining: 1.75s\n",
      "110:\tlearn: 2821.4932761\ttotal: 2.15s\tremaining: 1.73s\n",
      "111:\tlearn: 2814.4977452\ttotal: 2.17s\tremaining: 1.71s\n",
      "112:\tlearn: 2807.9845714\ttotal: 2.19s\tremaining: 1.68s\n",
      "113:\tlearn: 2801.0462444\ttotal: 2.21s\tremaining: 1.67s\n",
      "114:\tlearn: 2794.0238871\ttotal: 2.23s\tremaining: 1.65s\n",
      "115:\tlearn: 2787.8106753\ttotal: 2.25s\tremaining: 1.63s\n",
      "116:\tlearn: 2781.0829782\ttotal: 2.27s\tremaining: 1.61s\n",
      "117:\tlearn: 2774.4260271\ttotal: 2.29s\tremaining: 1.59s\n",
      "118:\tlearn: 2768.0806095\ttotal: 2.3s\tremaining: 1.57s\n",
      "119:\tlearn: 2761.6968172\ttotal: 2.32s\tremaining: 1.55s\n",
      "120:\tlearn: 2755.6683743\ttotal: 2.34s\tremaining: 1.53s\n",
      "121:\tlearn: 2749.5733452\ttotal: 2.36s\tremaining: 1.51s\n",
      "122:\tlearn: 2743.6012676\ttotal: 2.38s\tremaining: 1.49s\n",
      "123:\tlearn: 2737.4518857\ttotal: 2.4s\tremaining: 1.47s\n",
      "124:\tlearn: 2731.3935488\ttotal: 2.42s\tremaining: 1.45s\n",
      "125:\tlearn: 2725.4782414\ttotal: 2.44s\tremaining: 1.43s\n",
      "126:\tlearn: 2719.8728770\ttotal: 2.46s\tremaining: 1.41s\n",
      "127:\tlearn: 2713.9528069\ttotal: 2.47s\tremaining: 1.39s\n",
      "128:\tlearn: 2708.1298166\ttotal: 2.49s\tremaining: 1.37s\n",
      "129:\tlearn: 2702.2950148\ttotal: 2.51s\tremaining: 1.35s\n",
      "130:\tlearn: 2696.8647665\ttotal: 2.53s\tremaining: 1.33s\n",
      "131:\tlearn: 2691.2740680\ttotal: 2.55s\tremaining: 1.31s\n",
      "132:\tlearn: 2685.9367169\ttotal: 2.57s\tremaining: 1.3s\n",
      "133:\tlearn: 2680.9023896\ttotal: 2.59s\tremaining: 1.28s\n",
      "134:\tlearn: 2675.4558408\ttotal: 2.61s\tremaining: 1.26s\n",
      "135:\tlearn: 2670.1323701\ttotal: 2.63s\tremaining: 1.24s\n",
      "136:\tlearn: 2664.6877090\ttotal: 2.65s\tremaining: 1.22s\n",
      "137:\tlearn: 2659.8135526\ttotal: 2.67s\tremaining: 1.2s\n",
      "138:\tlearn: 2654.6482901\ttotal: 2.68s\tremaining: 1.18s\n",
      "139:\tlearn: 2649.5315956\ttotal: 2.7s\tremaining: 1.16s\n",
      "140:\tlearn: 2644.3799536\ttotal: 2.72s\tremaining: 1.14s\n",
      "141:\tlearn: 2639.7062840\ttotal: 2.74s\tremaining: 1.12s\n",
      "142:\tlearn: 2635.1103996\ttotal: 2.76s\tremaining: 1.1s\n",
      "143:\tlearn: 2630.1822268\ttotal: 2.78s\tremaining: 1.08s\n",
      "144:\tlearn: 2625.5175539\ttotal: 2.8s\tremaining: 1.06s\n",
      "145:\tlearn: 2621.1679551\ttotal: 2.82s\tremaining: 1.04s\n",
      "146:\tlearn: 2616.3755274\ttotal: 2.84s\tremaining: 1.02s\n",
      "147:\tlearn: 2611.8857533\ttotal: 2.86s\tremaining: 1s\n",
      "148:\tlearn: 2607.1998916\ttotal: 2.88s\tremaining: 984ms\n",
      "149:\tlearn: 2602.8762763\ttotal: 2.89s\tremaining: 964ms\n",
      "150:\tlearn: 2598.6018691\ttotal: 2.91s\tremaining: 945ms\n",
      "151:\tlearn: 2594.3152142\ttotal: 2.93s\tremaining: 926ms\n",
      "152:\tlearn: 2589.7350644\ttotal: 2.95s\tremaining: 906ms\n",
      "153:\tlearn: 2585.2814864\ttotal: 2.97s\tremaining: 887ms\n",
      "154:\tlearn: 2581.1156123\ttotal: 2.98s\tremaining: 867ms\n",
      "155:\tlearn: 2576.8816821\ttotal: 3s\tremaining: 847ms\n",
      "156:\tlearn: 2572.6349863\ttotal: 3.03s\tremaining: 829ms\n",
      "157:\tlearn: 2568.6352341\ttotal: 3.05s\tremaining: 810ms\n",
      "158:\tlearn: 2564.6206835\ttotal: 3.06s\tremaining: 791ms\n",
      "159:\tlearn: 2560.3920104\ttotal: 3.08s\tremaining: 771ms\n",
      "160:\tlearn: 2556.4548644\ttotal: 3.1s\tremaining: 751ms\n",
      "161:\tlearn: 2552.6728332\ttotal: 3.12s\tremaining: 732ms\n",
      "162:\tlearn: 2548.7101810\ttotal: 3.14s\tremaining: 712ms\n",
      "163:\tlearn: 2544.8842197\ttotal: 3.15s\tremaining: 693ms\n",
      "164:\tlearn: 2541.0761886\ttotal: 3.17s\tremaining: 673ms\n",
      "165:\tlearn: 2537.5480739\ttotal: 3.19s\tremaining: 654ms\n",
      "166:\tlearn: 2533.7968478\ttotal: 3.21s\tremaining: 635ms\n",
      "167:\tlearn: 2530.0702770\ttotal: 3.23s\tremaining: 615ms\n",
      "168:\tlearn: 2526.6891259\ttotal: 3.25s\tremaining: 596ms\n",
      "169:\tlearn: 2523.4449994\ttotal: 3.27s\tremaining: 576ms\n",
      "170:\tlearn: 2519.8834401\ttotal: 3.28s\tremaining: 557ms\n",
      "171:\tlearn: 2516.4180848\ttotal: 3.31s\tremaining: 538ms\n",
      "172:\tlearn: 2512.9756744\ttotal: 3.33s\tremaining: 519ms\n",
      "173:\tlearn: 2509.4691349\ttotal: 3.34s\tremaining: 500ms\n",
      "174:\tlearn: 2506.1180341\ttotal: 3.36s\tremaining: 480ms\n",
      "175:\tlearn: 2502.7401341\ttotal: 3.38s\tremaining: 461ms\n",
      "176:\tlearn: 2499.4910727\ttotal: 3.4s\tremaining: 442ms\n",
      "177:\tlearn: 2496.2050995\ttotal: 3.42s\tremaining: 423ms\n",
      "178:\tlearn: 2492.9778169\ttotal: 3.44s\tremaining: 403ms\n",
      "179:\tlearn: 2489.9938348\ttotal: 3.46s\tremaining: 384ms\n",
      "180:\tlearn: 2486.7906468\ttotal: 3.47s\tremaining: 365ms\n",
      "181:\tlearn: 2483.6369043\ttotal: 3.49s\tremaining: 345ms\n",
      "182:\tlearn: 2480.6232044\ttotal: 3.51s\tremaining: 326ms\n",
      "183:\tlearn: 2477.4540490\ttotal: 3.53s\tremaining: 307ms\n",
      "184:\tlearn: 2474.3028309\ttotal: 3.55s\tremaining: 288ms\n",
      "185:\tlearn: 2471.3725801\ttotal: 3.57s\tremaining: 268ms\n",
      "186:\tlearn: 2468.3149431\ttotal: 3.58s\tremaining: 249ms\n",
      "187:\tlearn: 2465.3979091\ttotal: 3.6s\tremaining: 230ms\n",
      "188:\tlearn: 2462.5375385\ttotal: 3.62s\tremaining: 211ms\n",
      "189:\tlearn: 2459.6801546\ttotal: 3.64s\tremaining: 192ms\n",
      "190:\tlearn: 2456.7631723\ttotal: 3.66s\tremaining: 172ms\n",
      "191:\tlearn: 2453.8760296\ttotal: 3.67s\tremaining: 153ms\n",
      "192:\tlearn: 2450.9602651\ttotal: 3.69s\tremaining: 134ms\n",
      "193:\tlearn: 2448.2400848\ttotal: 3.71s\tremaining: 115ms\n",
      "194:\tlearn: 2445.5620007\ttotal: 3.73s\tremaining: 95.7ms\n",
      "195:\tlearn: 2442.8195086\ttotal: 3.75s\tremaining: 76.5ms\n",
      "196:\tlearn: 2440.0757934\ttotal: 3.77s\tremaining: 57.3ms\n",
      "197:\tlearn: 2437.4828775\ttotal: 3.78s\tremaining: 38.2ms\n",
      "198:\tlearn: 2434.8955948\ttotal: 3.8s\tremaining: 19.1ms\n",
      "199:\tlearn: 2432.2648005\ttotal: 3.82s\tremaining: 0us\n",
      "0:\tlearn: 4486.5291210\ttotal: 23.8ms\tremaining: 4.73s\n",
      "1:\tlearn: 4457.1420526\ttotal: 49ms\tremaining: 4.85s\n",
      "2:\tlearn: 4428.1350490\ttotal: 75.5ms\tremaining: 4.95s\n",
      "3:\tlearn: 4399.2665857\ttotal: 105ms\tremaining: 5.16s\n",
      "4:\tlearn: 4370.6230291\ttotal: 133ms\tremaining: 5.19s\n",
      "5:\tlearn: 4342.7751688\ttotal: 155ms\tremaining: 5.01s\n",
      "6:\tlearn: 4315.3843382\ttotal: 177ms\tremaining: 4.87s\n",
      "7:\tlearn: 4287.8778549\ttotal: 201ms\tremaining: 4.83s\n",
      "8:\tlearn: 4260.9050674\ttotal: 225ms\tremaining: 4.77s\n",
      "9:\tlearn: 4234.3304879\ttotal: 247ms\tremaining: 4.7s\n",
      "10:\tlearn: 4208.5370427\ttotal: 270ms\tremaining: 4.63s\n",
      "11:\tlearn: 4181.9928535\ttotal: 293ms\tremaining: 4.59s\n",
      "12:\tlearn: 4156.2380701\ttotal: 318ms\tremaining: 4.57s\n",
      "13:\tlearn: 4131.1647046\ttotal: 340ms\tremaining: 4.51s\n",
      "14:\tlearn: 4106.1301849\ttotal: 362ms\tremaining: 4.47s\n",
      "15:\tlearn: 4081.3312363\ttotal: 384ms\tremaining: 4.42s\n",
      "16:\tlearn: 4056.8337395\ttotal: 409ms\tremaining: 4.4s\n",
      "17:\tlearn: 4032.6907277\ttotal: 432ms\tremaining: 4.37s\n",
      "18:\tlearn: 4008.5667719\ttotal: 455ms\tremaining: 4.33s\n",
      "19:\tlearn: 3984.7286361\ttotal: 477ms\tremaining: 4.29s\n",
      "20:\tlearn: 3961.4047932\ttotal: 513ms\tremaining: 4.37s\n",
      "21:\tlearn: 3938.6769048\ttotal: 535ms\tremaining: 4.33s\n",
      "22:\tlearn: 3915.9474967\ttotal: 557ms\tremaining: 4.29s\n",
      "23:\tlearn: 3893.2296573\ttotal: 579ms\tremaining: 4.25s\n",
      "24:\tlearn: 3871.1437465\ttotal: 604ms\tremaining: 4.23s\n",
      "25:\tlearn: 3849.0768259\ttotal: 628ms\tremaining: 4.2s\n",
      "26:\tlearn: 3827.7968820\ttotal: 650ms\tremaining: 4.16s\n",
      "27:\tlearn: 3806.1617631\ttotal: 690ms\tremaining: 4.24s\n",
      "28:\tlearn: 3785.0299503\ttotal: 716ms\tremaining: 4.22s\n",
      "29:\tlearn: 3764.0517530\ttotal: 740ms\tremaining: 4.19s\n",
      "30:\tlearn: 3743.4294577\ttotal: 762ms\tremaining: 4.15s\n",
      "31:\tlearn: 3723.1959328\ttotal: 794ms\tremaining: 4.17s\n",
      "32:\tlearn: 3703.6526153\ttotal: 821ms\tremaining: 4.16s\n",
      "33:\tlearn: 3684.0123571\ttotal: 884ms\tremaining: 4.32s\n",
      "34:\tlearn: 3664.0794814\ttotal: 911ms\tremaining: 4.29s\n",
      "35:\tlearn: 3645.0722489\ttotal: 981ms\tremaining: 4.47s\n",
      "36:\tlearn: 3625.7236087\ttotal: 1.01s\tremaining: 4.45s\n",
      "37:\tlearn: 3606.8308550\ttotal: 1.1s\tremaining: 4.68s\n",
      "38:\tlearn: 3588.2057090\ttotal: 1.13s\tremaining: 4.65s\n",
      "39:\tlearn: 3570.2806013\ttotal: 1.18s\tremaining: 4.73s\n",
      "40:\tlearn: 3552.3213634\ttotal: 1.21s\tremaining: 4.68s\n",
      "41:\tlearn: 3534.0555167\ttotal: 1.24s\tremaining: 4.65s\n",
      "42:\tlearn: 3516.3292998\ttotal: 1.26s\tremaining: 4.6s\n",
      "43:\tlearn: 3498.9563870\ttotal: 1.29s\tremaining: 4.56s\n"
     ]
    },
    {
     "name": "stdout",
     "output_type": "stream",
     "text": [
      "44:\tlearn: 3481.9361852\ttotal: 1.31s\tremaining: 4.52s\n",
      "45:\tlearn: 3465.0180902\ttotal: 1.33s\tremaining: 4.47s\n",
      "46:\tlearn: 3448.2757345\ttotal: 1.36s\tremaining: 4.42s\n",
      "47:\tlearn: 3431.9180229\ttotal: 1.38s\tremaining: 4.38s\n",
      "48:\tlearn: 3415.4844558\ttotal: 1.41s\tremaining: 4.34s\n",
      "49:\tlearn: 3399.1288772\ttotal: 1.43s\tremaining: 4.29s\n",
      "50:\tlearn: 3383.1057887\ttotal: 1.45s\tremaining: 4.24s\n",
      "51:\tlearn: 3367.0524447\ttotal: 1.47s\tremaining: 4.19s\n",
      "52:\tlearn: 3351.5742319\ttotal: 1.5s\tremaining: 4.16s\n",
      "53:\tlearn: 3336.3024067\ttotal: 1.52s\tremaining: 4.12s\n",
      "54:\tlearn: 3320.6473067\ttotal: 1.54s\tremaining: 4.07s\n",
      "55:\tlearn: 3305.7622998\ttotal: 1.57s\tremaining: 4.03s\n",
      "56:\tlearn: 3291.1214237\ttotal: 1.59s\tremaining: 3.99s\n",
      "57:\tlearn: 3276.0533079\ttotal: 1.61s\tremaining: 3.95s\n",
      "58:\tlearn: 3261.6325605\ttotal: 1.64s\tremaining: 3.92s\n",
      "59:\tlearn: 3247.5275304\ttotal: 1.66s\tremaining: 3.88s\n",
      "60:\tlearn: 3233.3724265\ttotal: 1.68s\tremaining: 3.84s\n",
      "61:\tlearn: 3219.3236681\ttotal: 1.71s\tremaining: 3.81s\n",
      "62:\tlearn: 3205.2062474\ttotal: 1.73s\tremaining: 3.77s\n",
      "63:\tlearn: 3191.8644450\ttotal: 1.75s\tremaining: 3.73s\n",
      "64:\tlearn: 3178.2593672\ttotal: 1.78s\tremaining: 3.7s\n",
      "65:\tlearn: 3165.2105629\ttotal: 1.81s\tremaining: 3.67s\n",
      "66:\tlearn: 3152.3118471\ttotal: 1.83s\tremaining: 3.63s\n",
      "67:\tlearn: 3139.4153989\ttotal: 1.85s\tremaining: 3.6s\n",
      "68:\tlearn: 3126.8959042\ttotal: 1.87s\tremaining: 3.56s\n",
      "69:\tlearn: 3114.7095533\ttotal: 1.9s\tremaining: 3.53s\n",
      "70:\tlearn: 3102.1698407\ttotal: 1.92s\tremaining: 3.49s\n",
      "71:\tlearn: 3090.0380194\ttotal: 1.94s\tremaining: 3.46s\n",
      "72:\tlearn: 3078.4699659\ttotal: 1.97s\tremaining: 3.42s\n",
      "73:\tlearn: 3066.3979711\ttotal: 1.99s\tremaining: 3.4s\n",
      "74:\tlearn: 3054.6547907\ttotal: 2.02s\tremaining: 3.36s\n",
      "75:\tlearn: 3042.8773342\ttotal: 2.04s\tremaining: 3.33s\n",
      "76:\tlearn: 3031.6164934\ttotal: 2.06s\tremaining: 3.29s\n",
      "77:\tlearn: 3020.0420643\ttotal: 2.09s\tremaining: 3.26s\n",
      "78:\tlearn: 3008.9104023\ttotal: 2.11s\tremaining: 3.23s\n",
      "79:\tlearn: 2998.0820565\ttotal: 2.13s\tremaining: 3.2s\n",
      "80:\tlearn: 2987.4745089\ttotal: 2.16s\tremaining: 3.17s\n",
      "81:\tlearn: 2976.8212763\ttotal: 2.18s\tremaining: 3.14s\n",
      "82:\tlearn: 2966.0011927\ttotal: 2.2s\tremaining: 3.11s\n",
      "83:\tlearn: 2955.5504946\ttotal: 2.23s\tremaining: 3.08s\n",
      "84:\tlearn: 2945.5496424\ttotal: 2.25s\tremaining: 3.04s\n",
      "85:\tlearn: 2935.5868944\ttotal: 2.27s\tremaining: 3.01s\n",
      "86:\tlearn: 2925.9284588\ttotal: 2.3s\tremaining: 2.99s\n",
      "87:\tlearn: 2915.5074914\ttotal: 2.33s\tremaining: 2.96s\n",
      "88:\tlearn: 2906.0108394\ttotal: 2.35s\tremaining: 2.93s\n",
      "89:\tlearn: 2896.2812721\ttotal: 2.37s\tremaining: 2.9s\n",
      "90:\tlearn: 2886.8041657\ttotal: 2.4s\tremaining: 2.87s\n",
      "91:\tlearn: 2877.6046969\ttotal: 2.42s\tremaining: 2.84s\n",
      "92:\tlearn: 2868.5885902\ttotal: 2.44s\tremaining: 2.81s\n",
      "93:\tlearn: 2858.8968651\ttotal: 2.46s\tremaining: 2.78s\n",
      "94:\tlearn: 2850.0787669\ttotal: 2.49s\tremaining: 2.75s\n",
      "95:\tlearn: 2841.2623263\ttotal: 2.51s\tremaining: 2.72s\n",
      "96:\tlearn: 2832.5926271\ttotal: 2.53s\tremaining: 2.69s\n",
      "97:\tlearn: 2823.4152269\ttotal: 2.56s\tremaining: 2.66s\n",
      "98:\tlearn: 2814.6814259\ttotal: 2.58s\tremaining: 2.63s\n",
      "99:\tlearn: 2806.4920877\ttotal: 2.6s\tremaining: 2.6s\n",
      "100:\tlearn: 2798.0278990\ttotal: 2.62s\tremaining: 2.57s\n",
      "101:\tlearn: 2790.0536294\ttotal: 2.65s\tremaining: 2.54s\n",
      "102:\tlearn: 2781.9385686\ttotal: 2.67s\tremaining: 2.51s\n",
      "103:\tlearn: 2773.9684563\ttotal: 2.69s\tremaining: 2.48s\n",
      "104:\tlearn: 2766.0597411\ttotal: 2.71s\tremaining: 2.46s\n",
      "105:\tlearn: 2758.1064691\ttotal: 2.74s\tremaining: 2.43s\n",
      "106:\tlearn: 2750.3558916\ttotal: 2.76s\tremaining: 2.4s\n",
      "107:\tlearn: 2742.7334340\ttotal: 2.78s\tremaining: 2.37s\n",
      "108:\tlearn: 2735.5996822\ttotal: 2.81s\tremaining: 2.34s\n",
      "109:\tlearn: 2728.3023691\ttotal: 2.83s\tremaining: 2.31s\n",
      "110:\tlearn: 2720.7654329\ttotal: 2.85s\tremaining: 2.29s\n",
      "111:\tlearn: 2713.0568553\ttotal: 2.87s\tremaining: 2.26s\n",
      "112:\tlearn: 2705.5973703\ttotal: 2.9s\tremaining: 2.23s\n",
      "113:\tlearn: 2698.6668539\ttotal: 2.92s\tremaining: 2.2s\n",
      "114:\tlearn: 2691.7993845\ttotal: 2.94s\tremaining: 2.17s\n",
      "115:\tlearn: 2684.8285336\ttotal: 2.96s\tremaining: 2.15s\n",
      "116:\tlearn: 2677.7187778\ttotal: 2.99s\tremaining: 2.12s\n",
      "117:\tlearn: 2671.0641530\ttotal: 3.01s\tremaining: 2.09s\n",
      "118:\tlearn: 2664.4906246\ttotal: 3.03s\tremaining: 2.06s\n",
      "119:\tlearn: 2657.7264930\ttotal: 3.05s\tremaining: 2.04s\n",
      "120:\tlearn: 2651.0888423\ttotal: 3.08s\tremaining: 2.01s\n",
      "121:\tlearn: 2644.5255068\ttotal: 3.1s\tremaining: 1.99s\n",
      "122:\tlearn: 2638.3174824\ttotal: 3.13s\tremaining: 1.96s\n",
      "123:\tlearn: 2632.0461926\ttotal: 3.15s\tremaining: 1.93s\n",
      "124:\tlearn: 2625.8443826\ttotal: 3.17s\tremaining: 1.9s\n",
      "125:\tlearn: 2620.0236345\ttotal: 3.2s\tremaining: 1.88s\n",
      "126:\tlearn: 2613.8113684\ttotal: 3.22s\tremaining: 1.85s\n",
      "127:\tlearn: 2608.0253088\ttotal: 3.25s\tremaining: 1.83s\n",
      "128:\tlearn: 2601.9163670\ttotal: 3.27s\tremaining: 1.8s\n",
      "129:\tlearn: 2596.1413166\ttotal: 3.29s\tremaining: 1.77s\n",
      "130:\tlearn: 2590.1955410\ttotal: 3.31s\tremaining: 1.75s\n",
      "131:\tlearn: 2584.5842924\ttotal: 3.34s\tremaining: 1.72s\n",
      "132:\tlearn: 2578.8907259\ttotal: 3.36s\tremaining: 1.69s\n",
      "133:\tlearn: 2573.2479716\ttotal: 3.38s\tremaining: 1.67s\n",
      "134:\tlearn: 2567.8250860\ttotal: 3.41s\tremaining: 1.64s\n",
      "135:\tlearn: 2562.1550774\ttotal: 3.43s\tremaining: 1.61s\n",
      "136:\tlearn: 2557.0339829\ttotal: 3.46s\tremaining: 1.59s\n",
      "137:\tlearn: 2551.6352983\ttotal: 3.48s\tremaining: 1.56s\n",
      "138:\tlearn: 2546.3368496\ttotal: 3.5s\tremaining: 1.54s\n",
      "139:\tlearn: 2541.3503027\ttotal: 3.52s\tremaining: 1.51s\n",
      "140:\tlearn: 2536.1380391\ttotal: 3.54s\tremaining: 1.48s\n",
      "141:\tlearn: 2531.1962777\ttotal: 3.57s\tremaining: 1.46s\n",
      "142:\tlearn: 2526.3937667\ttotal: 3.59s\tremaining: 1.43s\n",
      "143:\tlearn: 2521.3664799\ttotal: 3.61s\tremaining: 1.41s\n",
      "144:\tlearn: 2516.3321950\ttotal: 3.64s\tremaining: 1.38s\n",
      "145:\tlearn: 2511.4799316\ttotal: 3.66s\tremaining: 1.35s\n",
      "146:\tlearn: 2506.6803865\ttotal: 3.68s\tremaining: 1.33s\n",
      "147:\tlearn: 2502.0510287\ttotal: 3.71s\tremaining: 1.3s\n",
      "148:\tlearn: 2497.4374211\ttotal: 3.73s\tremaining: 1.28s\n",
      "149:\tlearn: 2492.9200826\ttotal: 3.75s\tremaining: 1.25s\n",
      "150:\tlearn: 2488.3161880\ttotal: 3.77s\tremaining: 1.22s\n",
      "151:\tlearn: 2483.7827652\ttotal: 3.8s\tremaining: 1.2s\n",
      "152:\tlearn: 2479.3502301\ttotal: 3.82s\tremaining: 1.17s\n",
      "153:\tlearn: 2474.9084877\ttotal: 3.84s\tremaining: 1.15s\n",
      "154:\tlearn: 2470.6437350\ttotal: 3.86s\tremaining: 1.12s\n",
      "155:\tlearn: 2466.5346408\ttotal: 3.88s\tremaining: 1.09s\n",
      "156:\tlearn: 2462.3257799\ttotal: 3.91s\tremaining: 1.07s\n",
      "157:\tlearn: 2458.2323989\ttotal: 3.93s\tremaining: 1.04s\n",
      "158:\tlearn: 2454.0578675\ttotal: 3.95s\tremaining: 1.02s\n",
      "159:\tlearn: 2450.0373557\ttotal: 3.97s\tremaining: 994ms\n",
      "160:\tlearn: 2446.1421009\ttotal: 4s\tremaining: 968ms\n",
      "161:\tlearn: 2442.2835979\ttotal: 4.02s\tremaining: 943ms\n",
      "162:\tlearn: 2438.2990386\ttotal: 4.04s\tremaining: 917ms\n",
      "163:\tlearn: 2434.5312343\ttotal: 4.06s\tremaining: 892ms\n",
      "164:\tlearn: 2430.8814153\ttotal: 4.08s\tremaining: 867ms\n",
      "165:\tlearn: 2427.0577698\ttotal: 4.11s\tremaining: 842ms\n",
      "166:\tlearn: 2423.1352700\ttotal: 4.13s\tremaining: 816ms\n",
      "167:\tlearn: 2419.5700241\ttotal: 4.15s\tremaining: 791ms\n",
      "168:\tlearn: 2416.0858951\ttotal: 4.17s\tremaining: 766ms\n",
      "169:\tlearn: 2412.6928999\ttotal: 4.2s\tremaining: 741ms\n",
      "170:\tlearn: 2409.1953535\ttotal: 4.22s\tremaining: 716ms\n",
      "171:\tlearn: 2405.5728498\ttotal: 4.24s\tremaining: 691ms\n",
      "172:\tlearn: 2402.2152519\ttotal: 4.27s\tremaining: 666ms\n",
      "173:\tlearn: 2398.8133342\ttotal: 4.29s\tremaining: 641ms\n",
      "174:\tlearn: 2395.5262371\ttotal: 4.31s\tremaining: 616ms\n",
      "175:\tlearn: 2392.0134499\ttotal: 4.33s\tremaining: 591ms\n",
      "176:\tlearn: 2388.7784246\ttotal: 4.35s\tremaining: 566ms\n",
      "177:\tlearn: 2385.4893550\ttotal: 4.38s\tremaining: 541ms\n",
      "178:\tlearn: 2381.8855184\ttotal: 4.4s\tremaining: 516ms\n",
      "179:\tlearn: 2378.7193105\ttotal: 4.42s\tremaining: 491ms\n",
      "180:\tlearn: 2375.4863439\ttotal: 4.44s\tremaining: 466ms\n",
      "181:\tlearn: 2372.3068381\ttotal: 4.47s\tremaining: 442ms\n",
      "182:\tlearn: 2369.2267854\ttotal: 4.49s\tremaining: 417ms\n",
      "183:\tlearn: 2366.2496702\ttotal: 4.52s\tremaining: 393ms\n",
      "184:\tlearn: 2363.2644226\ttotal: 4.54s\tremaining: 368ms\n",
      "185:\tlearn: 2360.0107928\ttotal: 4.56s\tremaining: 343ms\n",
      "186:\tlearn: 2357.0870424\ttotal: 4.58s\tremaining: 319ms\n",
      "187:\tlearn: 2354.1022382\ttotal: 4.61s\tremaining: 294ms\n",
      "188:\tlearn: 2351.2149784\ttotal: 4.63s\tremaining: 269ms\n",
      "189:\tlearn: 2348.4627255\ttotal: 4.65s\tremaining: 245ms\n",
      "190:\tlearn: 2345.5401632\ttotal: 4.67s\tremaining: 220ms\n",
      "191:\tlearn: 2342.7000665\ttotal: 4.7s\tremaining: 196ms\n",
      "192:\tlearn: 2339.8387260\ttotal: 4.72s\tremaining: 171ms\n",
      "193:\tlearn: 2337.0437501\ttotal: 4.74s\tremaining: 147ms\n",
      "194:\tlearn: 2334.3857528\ttotal: 4.76s\tremaining: 122ms\n",
      "195:\tlearn: 2331.4645000\ttotal: 4.78s\tremaining: 97.7ms\n",
      "196:\tlearn: 2328.9386590\ttotal: 4.81s\tremaining: 73.2ms\n"
     ]
    },
    {
     "name": "stdout",
     "output_type": "stream",
     "text": [
      "197:\tlearn: 2326.0451333\ttotal: 4.83s\tremaining: 48.8ms\n",
      "198:\tlearn: 2323.4602481\ttotal: 4.85s\tremaining: 24.4ms\n",
      "199:\tlearn: 2321.0301185\ttotal: 4.88s\tremaining: 0us\n",
      "0:\tlearn: 4492.5451797\ttotal: 34.2ms\tremaining: 6.81s\n",
      "1:\tlearn: 4463.0327153\ttotal: 57.9ms\tremaining: 5.73s\n",
      "2:\tlearn: 4433.5140792\ttotal: 80.1ms\tremaining: 5.26s\n",
      "3:\tlearn: 4404.6376361\ttotal: 104ms\tremaining: 5.09s\n",
      "4:\tlearn: 4375.7914662\ttotal: 128ms\tremaining: 5.01s\n",
      "5:\tlearn: 4347.4709372\ttotal: 151ms\tremaining: 4.87s\n",
      "6:\tlearn: 4319.9284130\ttotal: 172ms\tremaining: 4.75s\n",
      "7:\tlearn: 4292.3078069\ttotal: 194ms\tremaining: 4.66s\n",
      "8:\tlearn: 4265.2053051\ttotal: 220ms\tremaining: 4.67s\n",
      "9:\tlearn: 4239.0460258\ttotal: 243ms\tremaining: 4.61s\n",
      "10:\tlearn: 4213.1949725\ttotal: 265ms\tremaining: 4.55s\n",
      "11:\tlearn: 4187.3864132\ttotal: 288ms\tremaining: 4.51s\n",
      "12:\tlearn: 4161.7479111\ttotal: 316ms\tremaining: 4.54s\n",
      "13:\tlearn: 4135.9375919\ttotal: 339ms\tremaining: 4.51s\n",
      "14:\tlearn: 4110.6602860\ttotal: 361ms\tremaining: 4.46s\n",
      "15:\tlearn: 4085.6122608\ttotal: 384ms\tremaining: 4.41s\n",
      "16:\tlearn: 4061.2466702\ttotal: 408ms\tremaining: 4.39s\n",
      "17:\tlearn: 4037.1372497\ttotal: 431ms\tremaining: 4.36s\n",
      "18:\tlearn: 4013.3063562\ttotal: 454ms\tremaining: 4.32s\n",
      "19:\tlearn: 3989.8760887\ttotal: 476ms\tremaining: 4.28s\n",
      "20:\tlearn: 3966.2375053\ttotal: 500ms\tremaining: 4.26s\n",
      "21:\tlearn: 3943.4033624\ttotal: 525ms\tremaining: 4.25s\n",
      "22:\tlearn: 3920.8340608\ttotal: 548ms\tremaining: 4.21s\n",
      "23:\tlearn: 3898.6140335\ttotal: 570ms\tremaining: 4.18s\n",
      "24:\tlearn: 3876.4714570\ttotal: 592ms\tremaining: 4.14s\n",
      "25:\tlearn: 3854.7366663\ttotal: 617ms\tremaining: 4.13s\n",
      "26:\tlearn: 3833.2840543\ttotal: 639ms\tremaining: 4.09s\n",
      "27:\tlearn: 3811.9396476\ttotal: 661ms\tremaining: 4.06s\n",
      "28:\tlearn: 3790.7364384\ttotal: 683ms\tremaining: 4.03s\n",
      "29:\tlearn: 3769.7334840\ttotal: 711ms\tremaining: 4.03s\n",
      "30:\tlearn: 3749.1352746\ttotal: 734ms\tremaining: 4s\n",
      "31:\tlearn: 3728.8705477\ttotal: 757ms\tremaining: 3.97s\n",
      "32:\tlearn: 3709.0572168\ttotal: 778ms\tremaining: 3.94s\n",
      "33:\tlearn: 3689.3455361\ttotal: 802ms\tremaining: 3.92s\n",
      "34:\tlearn: 3669.7907309\ttotal: 826ms\tremaining: 3.89s\n",
      "35:\tlearn: 3650.3922796\ttotal: 848ms\tremaining: 3.86s\n",
      "36:\tlearn: 3631.3076497\ttotal: 870ms\tremaining: 3.83s\n",
      "37:\tlearn: 3612.6413587\ttotal: 894ms\tremaining: 3.81s\n",
      "38:\tlearn: 3593.9513457\ttotal: 919ms\tremaining: 3.79s\n",
      "39:\tlearn: 3575.4784872\ttotal: 945ms\tremaining: 3.78s\n",
      "40:\tlearn: 3557.6024435\ttotal: 969ms\tremaining: 3.76s\n",
      "41:\tlearn: 3539.6688735\ttotal: 992ms\tremaining: 3.73s\n",
      "42:\tlearn: 3522.0386017\ttotal: 1.02s\tremaining: 3.72s\n",
      "43:\tlearn: 3504.9319080\ttotal: 1.04s\tremaining: 3.69s\n",
      "44:\tlearn: 3487.2784265\ttotal: 1.06s\tremaining: 3.66s\n",
      "45:\tlearn: 3470.8042317\ttotal: 1.09s\tremaining: 3.65s\n",
      "46:\tlearn: 3453.6605395\ttotal: 1.12s\tremaining: 3.64s\n",
      "47:\tlearn: 3437.3637073\ttotal: 1.14s\tremaining: 3.61s\n",
      "48:\tlearn: 3421.0712955\ttotal: 1.16s\tremaining: 3.58s\n",
      "49:\tlearn: 3404.6846543\ttotal: 1.18s\tremaining: 3.55s\n",
      "50:\tlearn: 3388.7103954\ttotal: 1.21s\tremaining: 3.53s\n",
      "51:\tlearn: 3372.9519284\ttotal: 1.23s\tremaining: 3.51s\n",
      "52:\tlearn: 3357.1082555\ttotal: 1.25s\tremaining: 3.48s\n",
      "53:\tlearn: 3341.2772751\ttotal: 1.28s\tremaining: 3.45s\n",
      "54:\tlearn: 3325.8934655\ttotal: 1.3s\tremaining: 3.43s\n",
      "55:\tlearn: 3310.7395581\ttotal: 1.33s\tremaining: 3.41s\n",
      "56:\tlearn: 3295.8709852\ttotal: 1.35s\tremaining: 3.39s\n",
      "57:\tlearn: 3281.4922490\ttotal: 1.37s\tremaining: 3.36s\n",
      "58:\tlearn: 3266.5142189\ttotal: 1.39s\tremaining: 3.33s\n",
      "59:\tlearn: 3252.1944067\ttotal: 1.42s\tremaining: 3.31s\n",
      "60:\tlearn: 3238.0949027\ttotal: 1.44s\tremaining: 3.29s\n",
      "61:\tlearn: 3224.5660060\ttotal: 1.46s\tremaining: 3.26s\n",
      "62:\tlearn: 3210.9184541\ttotal: 1.49s\tremaining: 3.23s\n",
      "63:\tlearn: 3197.4698431\ttotal: 1.51s\tremaining: 3.21s\n",
      "64:\tlearn: 3183.8396745\ttotal: 1.53s\tremaining: 3.19s\n",
      "65:\tlearn: 3170.8179837\ttotal: 1.56s\tremaining: 3.16s\n",
      "66:\tlearn: 3157.7349738\ttotal: 1.59s\tremaining: 3.15s\n",
      "67:\tlearn: 3144.8998609\ttotal: 1.61s\tremaining: 3.13s\n",
      "68:\tlearn: 3132.1256771\ttotal: 1.64s\tremaining: 3.1s\n",
      "69:\tlearn: 3119.6827802\ttotal: 1.66s\tremaining: 3.08s\n",
      "70:\tlearn: 3107.4923508\ttotal: 1.68s\tremaining: 3.05s\n",
      "71:\tlearn: 3095.3565987\ttotal: 1.71s\tremaining: 3.04s\n",
      "72:\tlearn: 3083.4109793\ttotal: 1.73s\tremaining: 3.01s\n",
      "73:\tlearn: 3071.5536564\ttotal: 1.75s\tremaining: 2.99s\n",
      "74:\tlearn: 3059.6054514\ttotal: 1.78s\tremaining: 2.96s\n",
      "75:\tlearn: 3047.8514748\ttotal: 1.8s\tremaining: 2.94s\n",
      "76:\tlearn: 3036.3694254\ttotal: 1.82s\tremaining: 2.91s\n",
      "77:\tlearn: 3024.8587432\ttotal: 1.85s\tremaining: 2.89s\n",
      "78:\tlearn: 3013.7445924\ttotal: 1.87s\tremaining: 2.86s\n",
      "79:\tlearn: 3002.7823327\ttotal: 1.89s\tremaining: 2.84s\n",
      "80:\tlearn: 2991.8224730\ttotal: 1.92s\tremaining: 2.82s\n",
      "81:\tlearn: 2981.2497232\ttotal: 1.94s\tremaining: 2.79s\n",
      "82:\tlearn: 2970.9303774\ttotal: 1.96s\tremaining: 2.76s\n",
      "83:\tlearn: 2960.4944677\ttotal: 1.99s\tremaining: 2.74s\n",
      "84:\tlearn: 2950.0141093\ttotal: 2.01s\tremaining: 2.72s\n",
      "85:\tlearn: 2939.5689809\ttotal: 2.03s\tremaining: 2.69s\n",
      "86:\tlearn: 2929.8949687\ttotal: 2.06s\tremaining: 2.67s\n",
      "87:\tlearn: 2920.0103188\ttotal: 2.08s\tremaining: 2.64s\n",
      "88:\tlearn: 2910.5072402\ttotal: 2.1s\tremaining: 2.62s\n",
      "89:\tlearn: 2900.7108334\ttotal: 2.12s\tremaining: 2.6s\n",
      "90:\tlearn: 2891.4075823\ttotal: 2.15s\tremaining: 2.57s\n",
      "91:\tlearn: 2882.0503941\ttotal: 2.17s\tremaining: 2.55s\n",
      "92:\tlearn: 2872.7228353\ttotal: 2.19s\tremaining: 2.52s\n",
      "93:\tlearn: 2863.4104929\ttotal: 2.22s\tremaining: 2.5s\n",
      "94:\tlearn: 2854.5089812\ttotal: 2.24s\tremaining: 2.47s\n",
      "95:\tlearn: 2845.6974362\ttotal: 2.26s\tremaining: 2.45s\n",
      "96:\tlearn: 2837.0458542\ttotal: 2.28s\tremaining: 2.42s\n",
      "97:\tlearn: 2828.3428867\ttotal: 2.31s\tremaining: 2.4s\n",
      "98:\tlearn: 2819.7059529\ttotal: 2.33s\tremaining: 2.38s\n",
      "99:\tlearn: 2811.2456430\ttotal: 2.35s\tremaining: 2.35s\n",
      "100:\tlearn: 2802.6972598\ttotal: 2.37s\tremaining: 2.33s\n",
      "101:\tlearn: 2794.3968802\ttotal: 2.4s\tremaining: 2.31s\n",
      "102:\tlearn: 2786.2659709\ttotal: 2.42s\tremaining: 2.28s\n",
      "103:\tlearn: 2777.8051083\ttotal: 2.44s\tremaining: 2.26s\n",
      "104:\tlearn: 2769.9498988\ttotal: 2.47s\tremaining: 2.23s\n",
      "105:\tlearn: 2761.4553775\ttotal: 2.49s\tremaining: 2.21s\n",
      "106:\tlearn: 2754.0315735\ttotal: 2.51s\tremaining: 2.18s\n",
      "107:\tlearn: 2746.3860131\ttotal: 2.54s\tremaining: 2.16s\n",
      "108:\tlearn: 2738.5894165\ttotal: 2.56s\tremaining: 2.13s\n",
      "109:\tlearn: 2730.9163232\ttotal: 2.58s\tremaining: 2.11s\n",
      "110:\tlearn: 2723.5328420\ttotal: 2.61s\tremaining: 2.09s\n",
      "111:\tlearn: 2716.0870937\ttotal: 2.63s\tremaining: 2.07s\n",
      "112:\tlearn: 2708.5702910\ttotal: 2.65s\tremaining: 2.04s\n",
      "113:\tlearn: 2701.2278552\ttotal: 2.67s\tremaining: 2.02s\n",
      "114:\tlearn: 2694.0473270\ttotal: 2.7s\tremaining: 1.99s\n",
      "115:\tlearn: 2687.5031300\ttotal: 2.72s\tremaining: 1.97s\n",
      "116:\tlearn: 2680.5076951\ttotal: 2.75s\tremaining: 1.95s\n",
      "117:\tlearn: 2674.0852312\ttotal: 2.77s\tremaining: 1.92s\n",
      "118:\tlearn: 2667.2092658\ttotal: 2.8s\tremaining: 1.9s\n",
      "119:\tlearn: 2660.5660784\ttotal: 2.82s\tremaining: 1.88s\n",
      "120:\tlearn: 2653.9879392\ttotal: 2.84s\tremaining: 1.85s\n",
      "121:\tlearn: 2647.7146269\ttotal: 2.86s\tremaining: 1.83s\n",
      "122:\tlearn: 2641.4298209\ttotal: 2.89s\tremaining: 1.81s\n",
      "123:\tlearn: 2634.8252029\ttotal: 2.91s\tremaining: 1.78s\n",
      "124:\tlearn: 2628.7268405\ttotal: 2.93s\tremaining: 1.76s\n",
      "125:\tlearn: 2622.4702210\ttotal: 2.96s\tremaining: 1.74s\n",
      "126:\tlearn: 2616.3076302\ttotal: 2.98s\tremaining: 1.71s\n",
      "127:\tlearn: 2610.5485381\ttotal: 3.01s\tremaining: 1.69s\n",
      "128:\tlearn: 2604.6941751\ttotal: 3.03s\tremaining: 1.67s\n",
      "129:\tlearn: 2598.9907719\ttotal: 3.05s\tremaining: 1.64s\n",
      "130:\tlearn: 2593.1075644\ttotal: 3.07s\tremaining: 1.62s\n",
      "131:\tlearn: 2587.1138173\ttotal: 3.1s\tremaining: 1.59s\n",
      "132:\tlearn: 2581.6969014\ttotal: 3.12s\tremaining: 1.57s\n",
      "133:\tlearn: 2576.1167861\ttotal: 3.14s\tremaining: 1.55s\n",
      "134:\tlearn: 2570.3970048\ttotal: 3.16s\tremaining: 1.52s\n",
      "135:\tlearn: 2564.8573122\ttotal: 3.18s\tremaining: 1.5s\n",
      "136:\tlearn: 2559.9263998\ttotal: 3.21s\tremaining: 1.48s\n",
      "137:\tlearn: 2554.4652105\ttotal: 3.23s\tremaining: 1.45s\n",
      "138:\tlearn: 2549.1687300\ttotal: 3.25s\tremaining: 1.43s\n",
      "139:\tlearn: 2544.0704504\ttotal: 3.27s\tremaining: 1.4s\n",
      "140:\tlearn: 2539.1661143\ttotal: 3.29s\tremaining: 1.38s\n",
      "141:\tlearn: 2533.9439752\ttotal: 3.32s\tremaining: 1.35s\n",
      "142:\tlearn: 2529.1363987\ttotal: 3.34s\tremaining: 1.33s\n",
      "143:\tlearn: 2524.1616407\ttotal: 3.36s\tremaining: 1.31s\n",
      "144:\tlearn: 2519.3082383\ttotal: 3.38s\tremaining: 1.28s\n",
      "145:\tlearn: 2514.4120245\ttotal: 3.41s\tremaining: 1.26s\n",
      "146:\tlearn: 2509.6798104\ttotal: 3.44s\tremaining: 1.24s\n",
      "147:\tlearn: 2505.2062263\ttotal: 3.46s\tremaining: 1.21s\n",
      "148:\tlearn: 2500.6183461\ttotal: 3.48s\tremaining: 1.19s\n",
      "149:\tlearn: 2496.0171040\ttotal: 3.5s\tremaining: 1.17s\n",
      "150:\tlearn: 2491.5014371\ttotal: 3.53s\tremaining: 1.14s\n",
      "151:\tlearn: 2486.8700922\ttotal: 3.55s\tremaining: 1.12s\n",
      "152:\tlearn: 2482.4539291\ttotal: 3.57s\tremaining: 1.09s\n",
      "153:\tlearn: 2478.0139551\ttotal: 3.59s\tremaining: 1.07s\n",
      "154:\tlearn: 2473.6711498\ttotal: 3.62s\tremaining: 1.05s\n"
     ]
    },
    {
     "name": "stdout",
     "output_type": "stream",
     "text": [
      "155:\tlearn: 2469.2258324\ttotal: 3.64s\tremaining: 1.02s\n",
      "156:\tlearn: 2465.0839998\ttotal: 3.66s\tremaining: 1s\n",
      "157:\tlearn: 2460.9707565\ttotal: 3.68s\tremaining: 978ms\n",
      "158:\tlearn: 2456.8262261\ttotal: 3.7s\tremaining: 955ms\n",
      "159:\tlearn: 2452.5520064\ttotal: 3.73s\tremaining: 932ms\n",
      "160:\tlearn: 2448.2243998\ttotal: 3.75s\tremaining: 908ms\n",
      "161:\tlearn: 2444.3078504\ttotal: 3.77s\tremaining: 884ms\n",
      "162:\tlearn: 2440.1567824\ttotal: 3.79s\tremaining: 861ms\n",
      "163:\tlearn: 2436.3203685\ttotal: 3.82s\tremaining: 838ms\n",
      "164:\tlearn: 2432.5825612\ttotal: 3.84s\tremaining: 816ms\n",
      "165:\tlearn: 2428.9150675\ttotal: 3.87s\tremaining: 792ms\n",
      "166:\tlearn: 2425.0912123\ttotal: 3.9s\tremaining: 770ms\n",
      "167:\tlearn: 2421.4615850\ttotal: 3.92s\tremaining: 746ms\n",
      "168:\tlearn: 2417.6280183\ttotal: 3.94s\tremaining: 722ms\n",
      "169:\tlearn: 2414.0162006\ttotal: 3.96s\tremaining: 699ms\n",
      "170:\tlearn: 2410.5248159\ttotal: 3.98s\tremaining: 675ms\n",
      "171:\tlearn: 2406.9207823\ttotal: 4s\tremaining: 652ms\n",
      "172:\tlearn: 2403.2475595\ttotal: 4.03s\tremaining: 628ms\n",
      "173:\tlearn: 2399.8875226\ttotal: 4.05s\tremaining: 605ms\n",
      "174:\tlearn: 2396.6942455\ttotal: 4.07s\tremaining: 581ms\n",
      "175:\tlearn: 2393.0242803\ttotal: 4.09s\tremaining: 558ms\n",
      "176:\tlearn: 2389.7993834\ttotal: 4.11s\tremaining: 535ms\n",
      "177:\tlearn: 2386.3100124\ttotal: 4.13s\tremaining: 511ms\n",
      "178:\tlearn: 2382.8777639\ttotal: 4.16s\tremaining: 488ms\n",
      "179:\tlearn: 2379.6704126\ttotal: 4.18s\tremaining: 464ms\n",
      "180:\tlearn: 2376.3970933\ttotal: 4.2s\tremaining: 441ms\n",
      "181:\tlearn: 2373.3410776\ttotal: 4.22s\tremaining: 418ms\n",
      "182:\tlearn: 2370.3595660\ttotal: 4.25s\tremaining: 394ms\n",
      "183:\tlearn: 2367.4097889\ttotal: 4.27s\tremaining: 371ms\n",
      "184:\tlearn: 2364.4788579\ttotal: 4.3s\tremaining: 348ms\n",
      "185:\tlearn: 2361.1623017\ttotal: 4.32s\tremaining: 325ms\n",
      "186:\tlearn: 2358.1251529\ttotal: 4.34s\tremaining: 302ms\n",
      "187:\tlearn: 2355.2592111\ttotal: 4.36s\tremaining: 278ms\n",
      "188:\tlearn: 2352.2694867\ttotal: 4.38s\tremaining: 255ms\n",
      "189:\tlearn: 2349.3820535\ttotal: 4.41s\tremaining: 232ms\n",
      "190:\tlearn: 2346.5709701\ttotal: 4.43s\tremaining: 209ms\n",
      "191:\tlearn: 2343.7684696\ttotal: 4.45s\tremaining: 185ms\n",
      "192:\tlearn: 2341.0710417\ttotal: 4.48s\tremaining: 162ms\n",
      "193:\tlearn: 2338.2375233\ttotal: 4.5s\tremaining: 139ms\n",
      "194:\tlearn: 2335.2248448\ttotal: 4.52s\tremaining: 116ms\n",
      "195:\tlearn: 2332.5714775\ttotal: 4.54s\tremaining: 92.7ms\n",
      "196:\tlearn: 2329.9680824\ttotal: 4.56s\tremaining: 69.5ms\n",
      "197:\tlearn: 2327.4096025\ttotal: 4.58s\tremaining: 46.3ms\n",
      "198:\tlearn: 2324.7437443\ttotal: 4.61s\tremaining: 23.2ms\n",
      "199:\tlearn: 2322.0634373\ttotal: 4.63s\tremaining: 0us\n",
      "0:\tlearn: 4486.7068252\ttotal: 21.8ms\tremaining: 4.34s\n",
      "1:\tlearn: 4456.8298318\ttotal: 47.4ms\tremaining: 4.69s\n",
      "2:\tlearn: 4427.6341294\ttotal: 85.1ms\tremaining: 5.59s\n",
      "3:\tlearn: 4398.7105390\ttotal: 111ms\tremaining: 5.45s\n",
      "4:\tlearn: 4370.2168797\ttotal: 136ms\tremaining: 5.32s\n",
      "5:\tlearn: 4342.1460978\ttotal: 160ms\tremaining: 5.18s\n",
      "6:\tlearn: 4314.4315779\ttotal: 184ms\tremaining: 5.07s\n",
      "7:\tlearn: 4287.1830477\ttotal: 206ms\tremaining: 4.94s\n",
      "8:\tlearn: 4260.1613355\ttotal: 228ms\tremaining: 4.83s\n",
      "9:\tlearn: 4233.5513508\ttotal: 251ms\tremaining: 4.77s\n",
      "10:\tlearn: 4207.7522898\ttotal: 276ms\tremaining: 4.75s\n",
      "11:\tlearn: 4181.6368602\ttotal: 299ms\tremaining: 4.69s\n",
      "12:\tlearn: 4156.0409040\ttotal: 320ms\tremaining: 4.61s\n",
      "13:\tlearn: 4130.5751132\ttotal: 342ms\tremaining: 4.54s\n",
      "14:\tlearn: 4105.5028184\ttotal: 367ms\tremaining: 4.52s\n",
      "15:\tlearn: 4080.6803575\ttotal: 390ms\tremaining: 4.48s\n",
      "16:\tlearn: 4056.3913806\ttotal: 411ms\tremaining: 4.43s\n",
      "17:\tlearn: 4032.2673951\ttotal: 434ms\tremaining: 4.39s\n",
      "18:\tlearn: 4008.4240418\ttotal: 458ms\tremaining: 4.36s\n",
      "19:\tlearn: 3984.7307605\ttotal: 483ms\tremaining: 4.35s\n",
      "20:\tlearn: 3961.1331608\ttotal: 505ms\tremaining: 4.3s\n",
      "21:\tlearn: 3938.1887768\ttotal: 527ms\tremaining: 4.26s\n",
      "22:\tlearn: 3915.4282660\ttotal: 549ms\tremaining: 4.22s\n",
      "23:\tlearn: 3892.8068174\ttotal: 574ms\tremaining: 4.21s\n",
      "24:\tlearn: 3871.2536912\ttotal: 596ms\tremaining: 4.17s\n",
      "25:\tlearn: 3849.3483067\ttotal: 617ms\tremaining: 4.13s\n",
      "26:\tlearn: 3827.7132534\ttotal: 640ms\tremaining: 4.1s\n",
      "27:\tlearn: 3805.7980294\ttotal: 664ms\tremaining: 4.08s\n",
      "28:\tlearn: 3784.5870935\ttotal: 688ms\tremaining: 4.05s\n",
      "29:\tlearn: 3763.4689106\ttotal: 710ms\tremaining: 4.02s\n",
      "30:\tlearn: 3742.8347715\ttotal: 732ms\tremaining: 3.99s\n",
      "31:\tlearn: 3722.3887885\ttotal: 756ms\tremaining: 3.97s\n",
      "32:\tlearn: 3702.6491390\ttotal: 781ms\tremaining: 3.95s\n",
      "33:\tlearn: 3682.7897037\ttotal: 805ms\tremaining: 3.93s\n",
      "34:\tlearn: 3663.2508756\ttotal: 827ms\tremaining: 3.9s\n",
      "35:\tlearn: 3643.6393297\ttotal: 854ms\tremaining: 3.89s\n",
      "36:\tlearn: 3624.5761431\ttotal: 879ms\tremaining: 3.87s\n",
      "37:\tlearn: 3605.7781624\ttotal: 901ms\tremaining: 3.84s\n",
      "38:\tlearn: 3587.2245685\ttotal: 923ms\tremaining: 3.81s\n",
      "39:\tlearn: 3569.1907564\ttotal: 946ms\tremaining: 3.79s\n",
      "40:\tlearn: 3551.1756647\ttotal: 972ms\tremaining: 3.77s\n",
      "41:\tlearn: 3532.7007871\ttotal: 995ms\tremaining: 3.74s\n",
      "42:\tlearn: 3515.0981532\ttotal: 1.02s\tremaining: 3.71s\n",
      "43:\tlearn: 3497.6752267\ttotal: 1.04s\tremaining: 3.68s\n",
      "44:\tlearn: 3480.5548350\ttotal: 1.06s\tremaining: 3.67s\n",
      "45:\tlearn: 3463.7827603\ttotal: 1.09s\tremaining: 3.65s\n",
      "46:\tlearn: 3446.7467060\ttotal: 1.11s\tremaining: 3.62s\n",
      "47:\tlearn: 3429.9742618\ttotal: 1.14s\tremaining: 3.6s\n",
      "48:\tlearn: 3413.5540427\ttotal: 1.17s\tremaining: 3.59s\n",
      "49:\tlearn: 3397.4443126\ttotal: 1.19s\tremaining: 3.57s\n",
      "50:\tlearn: 3381.4596807\ttotal: 1.22s\tremaining: 3.56s\n",
      "51:\tlearn: 3366.1494733\ttotal: 1.24s\tremaining: 3.54s\n",
      "52:\tlearn: 3350.2845265\ttotal: 1.27s\tremaining: 3.52s\n",
      "53:\tlearn: 3334.9491405\ttotal: 1.3s\tremaining: 3.5s\n",
      "54:\tlearn: 3319.8948667\ttotal: 1.32s\tremaining: 3.48s\n",
      "55:\tlearn: 3305.2743711\ttotal: 1.35s\tremaining: 3.48s\n",
      "56:\tlearn: 3290.3172382\ttotal: 1.38s\tremaining: 3.45s\n",
      "57:\tlearn: 3275.4738827\ttotal: 1.4s\tremaining: 3.44s\n",
      "58:\tlearn: 3260.7994928\ttotal: 1.43s\tremaining: 3.42s\n",
      "59:\tlearn: 3246.7146403\ttotal: 1.46s\tremaining: 3.4s\n",
      "60:\tlearn: 3232.6010280\ttotal: 1.49s\tremaining: 3.39s\n",
      "61:\tlearn: 3219.1808425\ttotal: 1.51s\tremaining: 3.36s\n",
      "62:\tlearn: 3205.1349719\ttotal: 1.53s\tremaining: 3.33s\n",
      "63:\tlearn: 3191.2364338\ttotal: 1.56s\tremaining: 3.32s\n",
      "64:\tlearn: 3177.8047091\ttotal: 1.59s\tremaining: 3.3s\n",
      "65:\tlearn: 3164.9312938\ttotal: 1.61s\tremaining: 3.27s\n",
      "66:\tlearn: 3151.8398299\ttotal: 1.63s\tremaining: 3.24s\n",
      "67:\tlearn: 3138.9415718\ttotal: 1.66s\tremaining: 3.22s\n",
      "68:\tlearn: 3126.0104797\ttotal: 1.68s\tremaining: 3.19s\n",
      "69:\tlearn: 3113.6707369\ttotal: 1.71s\tremaining: 3.17s\n",
      "70:\tlearn: 3101.7085478\ttotal: 1.73s\tremaining: 3.14s\n",
      "71:\tlearn: 3089.4239729\ttotal: 1.75s\tremaining: 3.12s\n",
      "72:\tlearn: 3077.5381848\ttotal: 1.78s\tremaining: 3.1s\n",
      "73:\tlearn: 3065.9100694\ttotal: 1.8s\tremaining: 3.07s\n",
      "74:\tlearn: 3054.1395966\ttotal: 1.82s\tremaining: 3.04s\n",
      "75:\tlearn: 3042.7276122\ttotal: 1.85s\tremaining: 3.02s\n",
      "76:\tlearn: 3031.2290783\ttotal: 1.87s\tremaining: 2.99s\n",
      "77:\tlearn: 3019.7616375\ttotal: 1.9s\tremaining: 2.97s\n",
      "78:\tlearn: 3008.8007707\ttotal: 1.92s\tremaining: 2.94s\n",
      "79:\tlearn: 2998.3702738\ttotal: 1.95s\tremaining: 2.93s\n",
      "80:\tlearn: 2987.7405514\ttotal: 1.98s\tremaining: 2.91s\n",
      "81:\tlearn: 2976.9682483\ttotal: 2.01s\tremaining: 2.89s\n",
      "82:\tlearn: 2966.0770309\ttotal: 2.04s\tremaining: 2.87s\n",
      "83:\tlearn: 2955.4121486\ttotal: 2.06s\tremaining: 2.85s\n",
      "84:\tlearn: 2945.0093896\ttotal: 2.09s\tremaining: 2.83s\n",
      "85:\tlearn: 2935.1353460\ttotal: 2.12s\tremaining: 2.81s\n",
      "86:\tlearn: 2925.3297712\ttotal: 2.14s\tremaining: 2.78s\n",
      "87:\tlearn: 2915.4181571\ttotal: 2.17s\tremaining: 2.76s\n",
      "88:\tlearn: 2905.3740010\ttotal: 2.19s\tremaining: 2.73s\n",
      "89:\tlearn: 2895.6876159\ttotal: 2.21s\tremaining: 2.71s\n",
      "90:\tlearn: 2886.3164129\ttotal: 2.24s\tremaining: 2.68s\n",
      "91:\tlearn: 2876.6867186\ttotal: 2.27s\tremaining: 2.66s\n",
      "92:\tlearn: 2867.6621870\ttotal: 2.29s\tremaining: 2.64s\n",
      "93:\tlearn: 2858.2235367\ttotal: 2.32s\tremaining: 2.62s\n",
      "94:\tlearn: 2849.2773212\ttotal: 2.34s\tremaining: 2.59s\n",
      "95:\tlearn: 2840.1385596\ttotal: 2.37s\tremaining: 2.57s\n",
      "96:\tlearn: 2831.5918197\ttotal: 2.4s\tremaining: 2.54s\n",
      "97:\tlearn: 2822.8314532\ttotal: 2.42s\tremaining: 2.52s\n",
      "98:\tlearn: 2814.2542638\ttotal: 2.45s\tremaining: 2.5s\n",
      "99:\tlearn: 2805.6292853\ttotal: 2.48s\tremaining: 2.48s\n",
      "100:\tlearn: 2796.8835461\ttotal: 2.51s\tremaining: 2.46s\n",
      "101:\tlearn: 2788.9358915\ttotal: 2.53s\tremaining: 2.43s\n",
      "102:\tlearn: 2780.3670357\ttotal: 2.56s\tremaining: 2.41s\n",
      "103:\tlearn: 2772.3922129\ttotal: 2.58s\tremaining: 2.38s\n",
      "104:\tlearn: 2764.6368488\ttotal: 2.61s\tremaining: 2.36s\n",
      "105:\tlearn: 2756.7872009\ttotal: 2.63s\tremaining: 2.33s\n",
      "106:\tlearn: 2749.0647776\ttotal: 2.65s\tremaining: 2.3s\n",
      "107:\tlearn: 2741.3310870\ttotal: 2.68s\tremaining: 2.28s\n",
      "108:\tlearn: 2733.6023035\ttotal: 2.7s\tremaining: 2.25s\n",
      "109:\tlearn: 2725.8448097\ttotal: 2.72s\tremaining: 2.23s\n",
      "110:\tlearn: 2718.4911064\ttotal: 2.74s\tremaining: 2.2s\n",
      "111:\tlearn: 2711.2530021\ttotal: 2.77s\tremaining: 2.18s\n"
     ]
    },
    {
     "name": "stdout",
     "output_type": "stream",
     "text": [
      "112:\tlearn: 2704.1092498\ttotal: 2.79s\tremaining: 2.15s\n",
      "113:\tlearn: 2697.1210127\ttotal: 2.82s\tremaining: 2.13s\n",
      "114:\tlearn: 2689.9727975\ttotal: 2.85s\tremaining: 2.1s\n",
      "115:\tlearn: 2683.0524396\ttotal: 2.87s\tremaining: 2.08s\n",
      "116:\tlearn: 2675.9903814\ttotal: 2.9s\tremaining: 2.06s\n",
      "117:\tlearn: 2669.4028514\ttotal: 2.94s\tremaining: 2.04s\n",
      "118:\tlearn: 2662.5487533\ttotal: 2.96s\tremaining: 2.02s\n",
      "119:\tlearn: 2655.8970479\ttotal: 2.99s\tremaining: 1.99s\n",
      "120:\tlearn: 2649.1125450\ttotal: 3.01s\tremaining: 1.97s\n",
      "121:\tlearn: 2642.8227350\ttotal: 3.04s\tremaining: 1.94s\n",
      "122:\tlearn: 2636.6907303\ttotal: 3.06s\tremaining: 1.92s\n",
      "123:\tlearn: 2630.5397234\ttotal: 3.09s\tremaining: 1.89s\n",
      "124:\tlearn: 2624.4009293\ttotal: 3.11s\tremaining: 1.87s\n",
      "125:\tlearn: 2618.1991359\ttotal: 3.13s\tremaining: 1.84s\n",
      "126:\tlearn: 2611.9962040\ttotal: 3.15s\tremaining: 1.81s\n",
      "127:\tlearn: 2606.2043376\ttotal: 3.18s\tremaining: 1.79s\n",
      "128:\tlearn: 2600.2618637\ttotal: 3.2s\tremaining: 1.76s\n",
      "129:\tlearn: 2594.4320356\ttotal: 3.22s\tremaining: 1.74s\n",
      "130:\tlearn: 2588.6063619\ttotal: 3.25s\tremaining: 1.71s\n",
      "131:\tlearn: 2582.9280356\ttotal: 3.27s\tremaining: 1.69s\n",
      "132:\tlearn: 2577.5396162\ttotal: 3.3s\tremaining: 1.66s\n",
      "133:\tlearn: 2572.1716952\ttotal: 3.32s\tremaining: 1.63s\n",
      "134:\tlearn: 2566.2609898\ttotal: 3.35s\tremaining: 1.61s\n",
      "135:\tlearn: 2560.9869884\ttotal: 3.37s\tremaining: 1.59s\n",
      "136:\tlearn: 2555.8524299\ttotal: 3.39s\tremaining: 1.56s\n",
      "137:\tlearn: 2550.5064777\ttotal: 3.42s\tremaining: 1.53s\n",
      "138:\tlearn: 2544.8693660\ttotal: 3.44s\tremaining: 1.51s\n",
      "139:\tlearn: 2539.7032721\ttotal: 3.47s\tremaining: 1.49s\n",
      "140:\tlearn: 2534.5730405\ttotal: 3.49s\tremaining: 1.46s\n",
      "141:\tlearn: 2529.4592143\ttotal: 3.52s\tremaining: 1.44s\n",
      "142:\tlearn: 2524.5946716\ttotal: 3.55s\tremaining: 1.41s\n",
      "143:\tlearn: 2519.9040308\ttotal: 3.58s\tremaining: 1.39s\n",
      "144:\tlearn: 2515.0939391\ttotal: 3.6s\tremaining: 1.37s\n",
      "145:\tlearn: 2510.3151235\ttotal: 3.63s\tremaining: 1.34s\n",
      "146:\tlearn: 2505.8345717\ttotal: 3.65s\tremaining: 1.31s\n",
      "147:\tlearn: 2501.2409291\ttotal: 3.67s\tremaining: 1.29s\n",
      "148:\tlearn: 2496.7072333\ttotal: 3.7s\tremaining: 1.26s\n",
      "149:\tlearn: 2492.2184512\ttotal: 3.72s\tremaining: 1.24s\n",
      "150:\tlearn: 2487.4692936\ttotal: 3.75s\tremaining: 1.22s\n",
      "151:\tlearn: 2483.1269440\ttotal: 3.77s\tremaining: 1.19s\n",
      "152:\tlearn: 2478.9584704\ttotal: 3.79s\tremaining: 1.16s\n",
      "153:\tlearn: 2474.8244022\ttotal: 3.81s\tremaining: 1.14s\n",
      "154:\tlearn: 2470.4898457\ttotal: 3.84s\tremaining: 1.11s\n",
      "155:\tlearn: 2466.1512729\ttotal: 3.86s\tremaining: 1.09s\n",
      "156:\tlearn: 2462.1369516\ttotal: 3.89s\tremaining: 1.06s\n",
      "157:\tlearn: 2458.0280664\ttotal: 3.92s\tremaining: 1.04s\n",
      "158:\tlearn: 2453.8153609\ttotal: 3.94s\tremaining: 1.02s\n",
      "159:\tlearn: 2449.6979314\ttotal: 3.97s\tremaining: 992ms\n",
      "160:\tlearn: 2445.8442480\ttotal: 4s\tremaining: 968ms\n",
      "161:\tlearn: 2441.9714948\ttotal: 4.02s\tremaining: 943ms\n",
      "162:\tlearn: 2438.0388547\ttotal: 4.05s\tremaining: 920ms\n",
      "163:\tlearn: 2434.2800757\ttotal: 4.08s\tremaining: 896ms\n",
      "164:\tlearn: 2430.3657834\ttotal: 4.11s\tremaining: 872ms\n",
      "165:\tlearn: 2426.6825733\ttotal: 4.13s\tremaining: 846ms\n",
      "166:\tlearn: 2422.9214240\ttotal: 4.16s\tremaining: 821ms\n",
      "167:\tlearn: 2419.1723634\ttotal: 4.18s\tremaining: 796ms\n",
      "168:\tlearn: 2415.6926364\ttotal: 4.2s\tremaining: 771ms\n",
      "169:\tlearn: 2412.1629969\ttotal: 4.22s\tremaining: 745ms\n",
      "170:\tlearn: 2408.6574694\ttotal: 4.25s\tremaining: 720ms\n",
      "171:\tlearn: 2404.7959518\ttotal: 4.27s\tremaining: 695ms\n",
      "172:\tlearn: 2401.0747857\ttotal: 4.29s\tremaining: 670ms\n",
      "173:\tlearn: 2397.7192858\ttotal: 4.31s\tremaining: 644ms\n",
      "174:\tlearn: 2394.4004052\ttotal: 4.34s\tremaining: 620ms\n",
      "175:\tlearn: 2391.0872570\ttotal: 4.36s\tremaining: 595ms\n",
      "176:\tlearn: 2387.8565519\ttotal: 4.38s\tremaining: 570ms\n",
      "177:\tlearn: 2384.3976024\ttotal: 4.41s\tremaining: 544ms\n",
      "178:\tlearn: 2381.2175038\ttotal: 4.43s\tremaining: 519ms\n",
      "179:\tlearn: 2377.9065860\ttotal: 4.45s\tremaining: 495ms\n",
      "180:\tlearn: 2374.8263245\ttotal: 4.47s\tremaining: 470ms\n",
      "181:\tlearn: 2371.6344138\ttotal: 4.49s\tremaining: 445ms\n",
      "182:\tlearn: 2368.5658377\ttotal: 4.52s\tremaining: 420ms\n",
      "183:\tlearn: 2365.6029743\ttotal: 4.54s\tremaining: 395ms\n",
      "184:\tlearn: 2362.6831190\ttotal: 4.56s\tremaining: 370ms\n",
      "185:\tlearn: 2359.7094176\ttotal: 4.58s\tremaining: 345ms\n",
      "186:\tlearn: 2356.8856693\ttotal: 4.6s\tremaining: 320ms\n",
      "187:\tlearn: 2353.7463988\ttotal: 4.63s\tremaining: 295ms\n",
      "188:\tlearn: 2350.3849712\ttotal: 4.65s\tremaining: 271ms\n",
      "189:\tlearn: 2347.3516478\ttotal: 4.68s\tremaining: 246ms\n",
      "190:\tlearn: 2344.2490599\ttotal: 4.7s\tremaining: 222ms\n",
      "191:\tlearn: 2341.3060276\ttotal: 4.73s\tremaining: 197ms\n",
      "192:\tlearn: 2338.5533552\ttotal: 4.75s\tremaining: 172ms\n",
      "193:\tlearn: 2335.6966572\ttotal: 4.77s\tremaining: 148ms\n",
      "194:\tlearn: 2332.7090593\ttotal: 4.79s\tremaining: 123ms\n",
      "195:\tlearn: 2330.0387884\ttotal: 4.81s\tremaining: 98.3ms\n",
      "196:\tlearn: 2327.1305432\ttotal: 4.84s\tremaining: 73.7ms\n",
      "197:\tlearn: 2324.5423846\ttotal: 4.86s\tremaining: 49.1ms\n",
      "198:\tlearn: 2322.0343944\ttotal: 4.88s\tremaining: 24.5ms\n",
      "199:\tlearn: 2319.1976687\ttotal: 4.91s\tremaining: 0us\n",
      "0:\tlearn: 4483.3271577\ttotal: 24.1ms\tremaining: 4.79s\n",
      "1:\tlearn: 4453.8382311\ttotal: 48.8ms\tremaining: 4.83s\n",
      "2:\tlearn: 4424.4596902\ttotal: 75.2ms\tremaining: 4.94s\n",
      "3:\tlearn: 4395.6350123\ttotal: 100ms\tremaining: 4.9s\n",
      "4:\tlearn: 4367.1893954\ttotal: 123ms\tremaining: 4.81s\n",
      "5:\tlearn: 4339.2268101\ttotal: 148ms\tremaining: 4.78s\n",
      "6:\tlearn: 4311.7484239\ttotal: 170ms\tremaining: 4.68s\n",
      "7:\tlearn: 4284.2002308\ttotal: 192ms\tremaining: 4.6s\n",
      "8:\tlearn: 4257.2473953\ttotal: 213ms\tremaining: 4.52s\n",
      "9:\tlearn: 4230.3487464\ttotal: 240ms\tremaining: 4.56s\n",
      "10:\tlearn: 4204.5546215\ttotal: 263ms\tremaining: 4.51s\n",
      "11:\tlearn: 4178.8760428\ttotal: 285ms\tremaining: 4.46s\n",
      "12:\tlearn: 4153.2459014\ttotal: 307ms\tremaining: 4.42s\n",
      "13:\tlearn: 4127.9635859\ttotal: 331ms\tremaining: 4.4s\n",
      "14:\tlearn: 4102.5206790\ttotal: 356ms\tremaining: 4.39s\n",
      "15:\tlearn: 4077.8457163\ttotal: 378ms\tremaining: 4.34s\n",
      "16:\tlearn: 4053.3795176\ttotal: 399ms\tremaining: 4.29s\n",
      "17:\tlearn: 4029.1853566\ttotal: 423ms\tremaining: 4.27s\n",
      "18:\tlearn: 4005.1774118\ttotal: 450ms\tremaining: 4.28s\n",
      "19:\tlearn: 3981.4400256\ttotal: 472ms\tremaining: 4.25s\n",
      "20:\tlearn: 3958.1092885\ttotal: 493ms\tremaining: 4.2s\n",
      "21:\tlearn: 3934.8292896\ttotal: 520ms\tremaining: 4.2s\n",
      "22:\tlearn: 3912.0433610\ttotal: 544ms\tremaining: 4.19s\n",
      "23:\tlearn: 3889.7185728\ttotal: 566ms\tremaining: 4.15s\n",
      "24:\tlearn: 3867.6802454\ttotal: 589ms\tremaining: 4.12s\n",
      "25:\tlearn: 3845.8856924\ttotal: 611ms\tremaining: 4.09s\n",
      "26:\tlearn: 3824.4537799\ttotal: 637ms\tremaining: 4.08s\n",
      "27:\tlearn: 3802.9998547\ttotal: 661ms\tremaining: 4.06s\n",
      "28:\tlearn: 3782.3705765\ttotal: 684ms\tremaining: 4.03s\n",
      "29:\tlearn: 3761.3725507\ttotal: 706ms\tremaining: 4s\n",
      "30:\tlearn: 3740.9305622\ttotal: 731ms\tremaining: 3.99s\n",
      "31:\tlearn: 3720.8963715\ttotal: 755ms\tremaining: 3.96s\n",
      "32:\tlearn: 3701.4004377\ttotal: 778ms\tremaining: 3.93s\n",
      "33:\tlearn: 3681.1747223\ttotal: 800ms\tremaining: 3.9s\n",
      "34:\tlearn: 3661.6804495\ttotal: 823ms\tremaining: 3.88s\n",
      "35:\tlearn: 3642.2788831\ttotal: 848ms\tremaining: 3.86s\n",
      "36:\tlearn: 3623.2265873\ttotal: 871ms\tremaining: 3.84s\n",
      "37:\tlearn: 3604.6597507\ttotal: 893ms\tremaining: 3.81s\n",
      "38:\tlearn: 3585.7630633\ttotal: 916ms\tremaining: 3.78s\n",
      "39:\tlearn: 3567.8976770\ttotal: 940ms\tremaining: 3.76s\n",
      "40:\tlearn: 3550.0991488\ttotal: 967ms\tremaining: 3.75s\n",
      "41:\tlearn: 3532.0152740\ttotal: 991ms\tremaining: 3.73s\n",
      "42:\tlearn: 3514.0364686\ttotal: 1.02s\tremaining: 3.71s\n",
      "43:\tlearn: 3496.7586472\ttotal: 1.05s\tremaining: 3.72s\n",
      "44:\tlearn: 3479.5344701\ttotal: 1.07s\tremaining: 3.69s\n",
      "45:\tlearn: 3462.3501874\ttotal: 1.09s\tremaining: 3.66s\n",
      "46:\tlearn: 3445.7455536\ttotal: 1.12s\tremaining: 3.63s\n",
      "47:\tlearn: 3429.4591378\ttotal: 1.14s\tremaining: 3.61s\n",
      "48:\tlearn: 3413.0815222\ttotal: 1.16s\tremaining: 3.58s\n",
      "49:\tlearn: 3396.7287142\ttotal: 1.19s\tremaining: 3.56s\n",
      "50:\tlearn: 3380.9276189\ttotal: 1.21s\tremaining: 3.53s\n",
      "51:\tlearn: 3365.5813903\ttotal: 1.23s\tremaining: 3.51s\n",
      "52:\tlearn: 3350.3565154\ttotal: 1.26s\tremaining: 3.48s\n",
      "53:\tlearn: 3335.0208661\ttotal: 1.28s\tremaining: 3.46s\n",
      "54:\tlearn: 3320.0508912\ttotal: 1.3s\tremaining: 3.43s\n",
      "55:\tlearn: 3304.9868967\ttotal: 1.33s\tremaining: 3.42s\n",
      "56:\tlearn: 3290.2040511\ttotal: 1.35s\tremaining: 3.39s\n",
      "57:\tlearn: 3275.2140743\ttotal: 1.37s\tremaining: 3.37s\n",
      "58:\tlearn: 3260.8219308\ttotal: 1.4s\tremaining: 3.34s\n",
      "59:\tlearn: 3246.5332912\ttotal: 1.42s\tremaining: 3.31s\n",
      "60:\tlearn: 3232.3788084\ttotal: 1.45s\tremaining: 3.29s\n",
      "61:\tlearn: 3218.7892421\ttotal: 1.47s\tremaining: 3.27s\n",
      "62:\tlearn: 3205.4110304\ttotal: 1.49s\tremaining: 3.24s\n",
      "63:\tlearn: 3191.7823883\ttotal: 1.51s\tremaining: 3.21s\n",
      "64:\tlearn: 3178.2183344\ttotal: 1.54s\tremaining: 3.19s\n",
      "65:\tlearn: 3165.1134817\ttotal: 1.56s\tremaining: 3.17s\n",
      "66:\tlearn: 3152.2895010\ttotal: 1.58s\tremaining: 3.15s\n",
      "67:\tlearn: 3139.6009308\ttotal: 1.6s\tremaining: 3.12s\n",
      "68:\tlearn: 3126.9066773\ttotal: 1.63s\tremaining: 3.1s\n",
      "69:\tlearn: 3114.2558931\ttotal: 1.65s\tremaining: 3.07s\n",
      "70:\tlearn: 3102.0210665\ttotal: 1.68s\tremaining: 3.05s\n"
     ]
    },
    {
     "name": "stdout",
     "output_type": "stream",
     "text": [
      "71:\tlearn: 3089.7840324\ttotal: 1.7s\tremaining: 3.03s\n",
      "72:\tlearn: 3077.6528223\ttotal: 1.73s\tremaining: 3s\n",
      "73:\tlearn: 3065.6178617\ttotal: 1.76s\tremaining: 2.99s\n",
      "74:\tlearn: 3053.9554013\ttotal: 1.78s\tremaining: 2.97s\n",
      "75:\tlearn: 3042.2875918\ttotal: 1.8s\tremaining: 2.94s\n",
      "76:\tlearn: 3030.9878288\ttotal: 1.83s\tremaining: 2.92s\n",
      "77:\tlearn: 3019.5445975\ttotal: 1.85s\tremaining: 2.89s\n",
      "78:\tlearn: 3008.5256976\ttotal: 1.87s\tremaining: 2.87s\n",
      "79:\tlearn: 2998.0106845\ttotal: 1.89s\tremaining: 2.84s\n",
      "80:\tlearn: 2986.9106823\ttotal: 1.92s\tremaining: 2.82s\n",
      "81:\tlearn: 2976.3089735\ttotal: 1.94s\tremaining: 2.79s\n",
      "82:\tlearn: 2965.9562570\ttotal: 1.96s\tremaining: 2.77s\n",
      "83:\tlearn: 2955.8175799\ttotal: 1.99s\tremaining: 2.74s\n",
      "84:\tlearn: 2945.3605223\ttotal: 2.01s\tremaining: 2.71s\n",
      "85:\tlearn: 2935.3861914\ttotal: 2.03s\tremaining: 2.69s\n",
      "86:\tlearn: 2925.8441313\ttotal: 2.05s\tremaining: 2.67s\n",
      "87:\tlearn: 2915.5252801\ttotal: 2.08s\tremaining: 2.64s\n",
      "88:\tlearn: 2905.7786508\ttotal: 2.1s\tremaining: 2.62s\n",
      "89:\tlearn: 2895.8084720\ttotal: 2.12s\tremaining: 2.59s\n",
      "90:\tlearn: 2886.4541801\ttotal: 2.14s\tremaining: 2.57s\n",
      "91:\tlearn: 2877.0621673\ttotal: 2.17s\tremaining: 2.54s\n",
      "92:\tlearn: 2868.0396930\ttotal: 2.19s\tremaining: 2.52s\n",
      "93:\tlearn: 2859.0970161\ttotal: 2.22s\tremaining: 2.5s\n",
      "94:\tlearn: 2850.0946513\ttotal: 2.24s\tremaining: 2.48s\n",
      "95:\tlearn: 2841.2250704\ttotal: 2.26s\tremaining: 2.45s\n",
      "96:\tlearn: 2832.6441139\ttotal: 2.28s\tremaining: 2.43s\n",
      "97:\tlearn: 2824.0522545\ttotal: 2.31s\tremaining: 2.4s\n",
      "98:\tlearn: 2815.7019916\ttotal: 2.33s\tremaining: 2.38s\n",
      "99:\tlearn: 2807.3458421\ttotal: 2.35s\tremaining: 2.35s\n",
      "100:\tlearn: 2798.9488522\ttotal: 2.38s\tremaining: 2.33s\n",
      "101:\tlearn: 2790.7859932\ttotal: 2.4s\tremaining: 2.31s\n",
      "102:\tlearn: 2782.6720356\ttotal: 2.42s\tremaining: 2.28s\n",
      "103:\tlearn: 2774.4726187\ttotal: 2.45s\tremaining: 2.26s\n",
      "104:\tlearn: 2766.7794312\ttotal: 2.47s\tremaining: 2.23s\n",
      "105:\tlearn: 2759.0259249\ttotal: 2.49s\tremaining: 2.21s\n",
      "106:\tlearn: 2751.0631789\ttotal: 2.51s\tremaining: 2.18s\n",
      "107:\tlearn: 2743.1420504\ttotal: 2.54s\tremaining: 2.16s\n",
      "108:\tlearn: 2735.5059275\ttotal: 2.56s\tremaining: 2.14s\n",
      "109:\tlearn: 2727.7711658\ttotal: 2.58s\tremaining: 2.11s\n",
      "110:\tlearn: 2720.2599091\ttotal: 2.6s\tremaining: 2.09s\n",
      "111:\tlearn: 2712.7875859\ttotal: 2.63s\tremaining: 2.06s\n",
      "112:\tlearn: 2705.6928737\ttotal: 2.65s\tremaining: 2.04s\n",
      "113:\tlearn: 2698.4370944\ttotal: 2.67s\tremaining: 2.02s\n",
      "114:\tlearn: 2691.4276688\ttotal: 2.69s\tremaining: 1.99s\n",
      "115:\tlearn: 2684.5997030\ttotal: 2.72s\tremaining: 1.97s\n",
      "116:\tlearn: 2677.5899648\ttotal: 2.74s\tremaining: 1.95s\n",
      "117:\tlearn: 2670.5685428\ttotal: 2.76s\tremaining: 1.92s\n",
      "118:\tlearn: 2664.0792336\ttotal: 2.78s\tremaining: 1.9s\n",
      "119:\tlearn: 2657.5032159\ttotal: 2.81s\tremaining: 1.87s\n",
      "120:\tlearn: 2651.0401427\ttotal: 2.84s\tremaining: 1.85s\n",
      "121:\tlearn: 2644.7358616\ttotal: 2.86s\tremaining: 1.83s\n",
      "122:\tlearn: 2638.1354214\ttotal: 2.88s\tremaining: 1.8s\n",
      "123:\tlearn: 2632.1737981\ttotal: 2.9s\tremaining: 1.78s\n",
      "124:\tlearn: 2625.8678467\ttotal: 2.92s\tremaining: 1.75s\n",
      "125:\tlearn: 2619.7557743\ttotal: 2.95s\tremaining: 1.73s\n",
      "126:\tlearn: 2613.6543816\ttotal: 2.97s\tremaining: 1.71s\n",
      "127:\tlearn: 2607.7603112\ttotal: 2.99s\tremaining: 1.68s\n",
      "128:\tlearn: 2601.6878922\ttotal: 3.02s\tremaining: 1.66s\n",
      "129:\tlearn: 2595.9825211\ttotal: 3.04s\tremaining: 1.64s\n",
      "130:\tlearn: 2590.4511424\ttotal: 3.06s\tremaining: 1.61s\n",
      "131:\tlearn: 2584.4744404\ttotal: 3.09s\tremaining: 1.59s\n",
      "132:\tlearn: 2578.8037089\ttotal: 3.11s\tremaining: 1.56s\n",
      "133:\tlearn: 2573.1128339\ttotal: 3.13s\tremaining: 1.54s\n",
      "134:\tlearn: 2567.4216308\ttotal: 3.15s\tremaining: 1.52s\n",
      "135:\tlearn: 2561.7708212\ttotal: 3.17s\tremaining: 1.49s\n",
      "136:\tlearn: 2556.3362315\ttotal: 3.2s\tremaining: 1.47s\n",
      "137:\tlearn: 2550.8076121\ttotal: 3.22s\tremaining: 1.45s\n",
      "138:\tlearn: 2545.7617887\ttotal: 3.24s\tremaining: 1.42s\n",
      "139:\tlearn: 2540.5436629\ttotal: 3.27s\tremaining: 1.4s\n",
      "140:\tlearn: 2535.5735355\ttotal: 3.29s\tremaining: 1.38s\n",
      "141:\tlearn: 2530.4741592\ttotal: 3.31s\tremaining: 1.35s\n",
      "142:\tlearn: 2525.6640966\ttotal: 3.33s\tremaining: 1.33s\n",
      "143:\tlearn: 2520.8901270\ttotal: 3.35s\tremaining: 1.3s\n",
      "144:\tlearn: 2515.9384165\ttotal: 3.38s\tremaining: 1.28s\n",
      "145:\tlearn: 2511.2374411\ttotal: 3.4s\tremaining: 1.26s\n",
      "146:\tlearn: 2506.4711070\ttotal: 3.42s\tremaining: 1.23s\n",
      "147:\tlearn: 2502.0436304\ttotal: 3.45s\tremaining: 1.21s\n",
      "148:\tlearn: 2497.1470013\ttotal: 3.47s\tremaining: 1.19s\n",
      "149:\tlearn: 2492.5953241\ttotal: 3.49s\tremaining: 1.16s\n",
      "150:\tlearn: 2488.2749776\ttotal: 3.52s\tremaining: 1.14s\n",
      "151:\tlearn: 2483.8058427\ttotal: 3.54s\tremaining: 1.12s\n",
      "152:\tlearn: 2479.5596016\ttotal: 3.56s\tremaining: 1.09s\n",
      "153:\tlearn: 2475.1861716\ttotal: 3.58s\tremaining: 1.07s\n",
      "154:\tlearn: 2470.7348446\ttotal: 3.61s\tremaining: 1.05s\n",
      "155:\tlearn: 2466.4637532\ttotal: 3.63s\tremaining: 1.02s\n",
      "156:\tlearn: 2462.2454706\ttotal: 3.65s\tremaining: 1s\n",
      "157:\tlearn: 2458.1851051\ttotal: 3.68s\tremaining: 978ms\n",
      "158:\tlearn: 2453.9907922\ttotal: 3.7s\tremaining: 954ms\n",
      "159:\tlearn: 2449.9838916\ttotal: 3.72s\tremaining: 931ms\n",
      "160:\tlearn: 2445.7359215\ttotal: 3.75s\tremaining: 907ms\n",
      "161:\tlearn: 2441.7393514\ttotal: 3.77s\tremaining: 884ms\n",
      "162:\tlearn: 2438.0189726\ttotal: 3.79s\tremaining: 860ms\n",
      "163:\tlearn: 2434.2006971\ttotal: 3.81s\tremaining: 837ms\n",
      "164:\tlearn: 2430.2634140\ttotal: 3.83s\tremaining: 814ms\n",
      "165:\tlearn: 2426.7234066\ttotal: 3.86s\tremaining: 790ms\n",
      "166:\tlearn: 2422.9159550\ttotal: 3.88s\tremaining: 766ms\n",
      "167:\tlearn: 2419.2761685\ttotal: 3.9s\tremaining: 743ms\n",
      "168:\tlearn: 2415.7797277\ttotal: 3.92s\tremaining: 720ms\n",
      "169:\tlearn: 2412.3639534\ttotal: 3.95s\tremaining: 697ms\n",
      "170:\tlearn: 2408.8330183\ttotal: 3.97s\tremaining: 673ms\n",
      "171:\tlearn: 2405.1489078\ttotal: 3.99s\tremaining: 649ms\n",
      "172:\tlearn: 2401.6823092\ttotal: 4.02s\tremaining: 627ms\n",
      "173:\tlearn: 2398.3708141\ttotal: 4.04s\tremaining: 604ms\n",
      "174:\tlearn: 2394.8840410\ttotal: 4.06s\tremaining: 580ms\n",
      "175:\tlearn: 2391.3006509\ttotal: 4.08s\tremaining: 557ms\n",
      "176:\tlearn: 2387.8620028\ttotal: 4.11s\tremaining: 534ms\n",
      "177:\tlearn: 2384.4784361\ttotal: 4.13s\tremaining: 511ms\n",
      "178:\tlearn: 2380.9776282\ttotal: 4.15s\tremaining: 487ms\n",
      "179:\tlearn: 2377.8112428\ttotal: 4.17s\tremaining: 464ms\n",
      "180:\tlearn: 2374.5611740\ttotal: 4.19s\tremaining: 440ms\n",
      "181:\tlearn: 2371.4447886\ttotal: 4.22s\tremaining: 417ms\n",
      "182:\tlearn: 2368.3654727\ttotal: 4.24s\tremaining: 394ms\n",
      "183:\tlearn: 2365.3519351\ttotal: 4.26s\tremaining: 371ms\n",
      "184:\tlearn: 2361.9543286\ttotal: 4.28s\tremaining: 347ms\n",
      "185:\tlearn: 2358.7379506\ttotal: 4.31s\tremaining: 325ms\n",
      "186:\tlearn: 2355.6788896\ttotal: 4.33s\tremaining: 301ms\n",
      "187:\tlearn: 2352.7958999\ttotal: 4.36s\tremaining: 278ms\n",
      "188:\tlearn: 2349.9685658\ttotal: 4.38s\tremaining: 255ms\n",
      "189:\tlearn: 2346.9908730\ttotal: 4.4s\tremaining: 232ms\n",
      "190:\tlearn: 2344.0645868\ttotal: 4.42s\tremaining: 209ms\n",
      "191:\tlearn: 2341.2128936\ttotal: 4.45s\tremaining: 185ms\n",
      "192:\tlearn: 2338.4639221\ttotal: 4.47s\tremaining: 162ms\n",
      "193:\tlearn: 2335.7869855\ttotal: 4.49s\tremaining: 139ms\n",
      "194:\tlearn: 2333.0987336\ttotal: 4.51s\tremaining: 116ms\n",
      "195:\tlearn: 2330.3370380\ttotal: 4.53s\tremaining: 92.5ms\n",
      "196:\tlearn: 2327.5373771\ttotal: 4.55s\tremaining: 69.4ms\n",
      "197:\tlearn: 2325.0279512\ttotal: 4.58s\tremaining: 46.2ms\n",
      "198:\tlearn: 2322.3546499\ttotal: 4.6s\tremaining: 23.1ms\n",
      "199:\tlearn: 2319.7020661\ttotal: 4.62s\tremaining: 0us\n",
      "0:\tlearn: 4485.8124299\ttotal: 24.9ms\tremaining: 4.96s\n",
      "1:\tlearn: 4456.0741973\ttotal: 47.1ms\tremaining: 4.67s\n",
      "2:\tlearn: 4426.8145915\ttotal: 69.6ms\tremaining: 4.57s\n",
      "3:\tlearn: 4398.2056106\ttotal: 92.4ms\tremaining: 4.53s\n",
      "4:\tlearn: 4369.8768689\ttotal: 117ms\tremaining: 4.57s\n",
      "5:\tlearn: 4342.3478730\ttotal: 139ms\tremaining: 4.5s\n",
      "6:\tlearn: 4314.7757919\ttotal: 161ms\tremaining: 4.44s\n",
      "7:\tlearn: 4287.0518555\ttotal: 183ms\tremaining: 4.39s\n",
      "8:\tlearn: 4260.0035810\ttotal: 208ms\tremaining: 4.41s\n",
      "9:\tlearn: 4233.8844578\ttotal: 232ms\tremaining: 4.41s\n",
      "10:\tlearn: 4207.8626960\ttotal: 255ms\tremaining: 4.39s\n",
      "11:\tlearn: 4181.4696560\ttotal: 279ms\tremaining: 4.37s\n",
      "12:\tlearn: 4155.8830901\ttotal: 303ms\tremaining: 4.36s\n",
      "13:\tlearn: 4130.1870322\ttotal: 327ms\tremaining: 4.34s\n",
      "14:\tlearn: 4105.1571574\ttotal: 348ms\tremaining: 4.29s\n",
      "15:\tlearn: 4080.0712810\ttotal: 370ms\tremaining: 4.26s\n",
      "16:\tlearn: 4055.8480716\ttotal: 393ms\tremaining: 4.23s\n",
      "17:\tlearn: 4031.8164366\ttotal: 418ms\tremaining: 4.22s\n",
      "18:\tlearn: 4008.1318268\ttotal: 440ms\tremaining: 4.19s\n",
      "19:\tlearn: 3984.7615810\ttotal: 462ms\tremaining: 4.16s\n",
      "20:\tlearn: 3961.4568236\ttotal: 484ms\tremaining: 4.13s\n",
      "21:\tlearn: 3938.5649641\ttotal: 508ms\tremaining: 4.11s\n",
      "22:\tlearn: 3915.9638470\ttotal: 531ms\tremaining: 4.08s\n",
      "23:\tlearn: 3893.6504501\ttotal: 552ms\tremaining: 4.05s\n",
      "24:\tlearn: 3871.3923127\ttotal: 574ms\tremaining: 4.02s\n",
      "25:\tlearn: 3849.5160734\ttotal: 597ms\tremaining: 4s\n",
      "26:\tlearn: 3828.3009858\ttotal: 621ms\tremaining: 3.98s\n"
     ]
    },
    {
     "name": "stdout",
     "output_type": "stream",
     "text": [
      "27:\tlearn: 3806.9991770\ttotal: 644ms\tremaining: 3.95s\n",
      "28:\tlearn: 3786.1014877\ttotal: 665ms\tremaining: 3.92s\n",
      "29:\tlearn: 3765.0254063\ttotal: 696ms\tremaining: 3.94s\n",
      "30:\tlearn: 3744.1092378\ttotal: 721ms\tremaining: 3.93s\n",
      "31:\tlearn: 3723.8728754\ttotal: 742ms\tremaining: 3.9s\n",
      "32:\tlearn: 3704.0473478\ttotal: 765ms\tremaining: 3.87s\n",
      "33:\tlearn: 3684.5404838\ttotal: 787ms\tremaining: 3.84s\n",
      "34:\tlearn: 3665.2413798\ttotal: 811ms\tremaining: 3.83s\n",
      "35:\tlearn: 3645.7172561\ttotal: 837ms\tremaining: 3.81s\n",
      "36:\tlearn: 3626.6290124\ttotal: 860ms\tremaining: 3.79s\n",
      "37:\tlearn: 3607.9696015\ttotal: 883ms\tremaining: 3.76s\n",
      "38:\tlearn: 3589.5114289\ttotal: 907ms\tremaining: 3.75s\n",
      "39:\tlearn: 3571.3734362\ttotal: 932ms\tremaining: 3.73s\n",
      "40:\tlearn: 3553.4245077\ttotal: 954ms\tremaining: 3.7s\n",
      "41:\tlearn: 3535.3069141\ttotal: 976ms\tremaining: 3.67s\n",
      "42:\tlearn: 3517.9882622\ttotal: 1s\tremaining: 3.65s\n",
      "43:\tlearn: 3500.4073928\ttotal: 1.02s\tremaining: 3.63s\n",
      "44:\tlearn: 3482.9928036\ttotal: 1.05s\tremaining: 3.6s\n",
      "45:\tlearn: 3465.9251618\ttotal: 1.07s\tremaining: 3.58s\n",
      "46:\tlearn: 3449.1614325\ttotal: 1.1s\tremaining: 3.57s\n",
      "47:\tlearn: 3432.3804935\ttotal: 1.12s\tremaining: 3.54s\n",
      "48:\tlearn: 3415.9073480\ttotal: 1.14s\tremaining: 3.52s\n",
      "49:\tlearn: 3399.8923818\ttotal: 1.16s\tremaining: 3.49s\n",
      "50:\tlearn: 3383.8315242\ttotal: 1.19s\tremaining: 3.47s\n",
      "51:\tlearn: 3368.0697678\ttotal: 1.21s\tremaining: 3.45s\n",
      "52:\tlearn: 3352.8117297\ttotal: 1.23s\tremaining: 3.42s\n",
      "53:\tlearn: 3337.8395585\ttotal: 1.25s\tremaining: 3.4s\n",
      "54:\tlearn: 3323.1556020\ttotal: 1.28s\tremaining: 3.37s\n",
      "55:\tlearn: 3308.3111980\ttotal: 1.3s\tremaining: 3.35s\n",
      "56:\tlearn: 3293.2420589\ttotal: 1.33s\tremaining: 3.33s\n",
      "57:\tlearn: 3279.1268029\ttotal: 1.35s\tremaining: 3.3s\n",
      "58:\tlearn: 3265.1554945\ttotal: 1.37s\tremaining: 3.27s\n",
      "59:\tlearn: 3250.7838298\ttotal: 1.39s\tremaining: 3.25s\n",
      "60:\tlearn: 3236.9476349\ttotal: 1.42s\tremaining: 3.23s\n",
      "61:\tlearn: 3223.3376894\ttotal: 1.44s\tremaining: 3.2s\n",
      "62:\tlearn: 3209.2998847\ttotal: 1.46s\tremaining: 3.17s\n",
      "63:\tlearn: 3196.0318826\ttotal: 1.48s\tremaining: 3.15s\n",
      "64:\tlearn: 3182.5960377\ttotal: 1.51s\tremaining: 3.13s\n",
      "65:\tlearn: 3169.5785545\ttotal: 1.53s\tremaining: 3.11s\n",
      "66:\tlearn: 3156.9571090\ttotal: 1.55s\tremaining: 3.08s\n",
      "67:\tlearn: 3144.1657157\ttotal: 1.57s\tremaining: 3.06s\n",
      "68:\tlearn: 3131.8082208\ttotal: 1.6s\tremaining: 3.05s\n",
      "69:\tlearn: 3119.5068176\ttotal: 1.63s\tremaining: 3.02s\n",
      "70:\tlearn: 3106.9582777\ttotal: 1.65s\tremaining: 3s\n",
      "71:\tlearn: 3094.6530460\ttotal: 1.67s\tremaining: 2.97s\n",
      "72:\tlearn: 3082.5907681\ttotal: 1.7s\tremaining: 2.95s\n",
      "73:\tlearn: 3070.9538288\ttotal: 1.72s\tremaining: 2.93s\n",
      "74:\tlearn: 3059.1399946\ttotal: 1.74s\tremaining: 2.9s\n",
      "75:\tlearn: 3047.5150172\ttotal: 1.77s\tremaining: 2.88s\n",
      "76:\tlearn: 3036.5162795\ttotal: 1.79s\tremaining: 2.86s\n",
      "77:\tlearn: 3025.1477388\ttotal: 1.82s\tremaining: 2.84s\n",
      "78:\tlearn: 3014.2509567\ttotal: 1.84s\tremaining: 2.81s\n",
      "79:\tlearn: 3003.8808045\ttotal: 1.86s\tremaining: 2.79s\n",
      "80:\tlearn: 2993.1709824\ttotal: 1.88s\tremaining: 2.77s\n",
      "81:\tlearn: 2982.5787223\ttotal: 1.91s\tremaining: 2.75s\n",
      "82:\tlearn: 2971.9543695\ttotal: 1.93s\tremaining: 2.72s\n",
      "83:\tlearn: 2961.5437125\ttotal: 1.95s\tremaining: 2.7s\n",
      "84:\tlearn: 2951.3634267\ttotal: 1.97s\tremaining: 2.67s\n",
      "85:\tlearn: 2941.2728201\ttotal: 2s\tremaining: 2.65s\n",
      "86:\tlearn: 2931.0465356\ttotal: 2.02s\tremaining: 2.62s\n",
      "87:\tlearn: 2921.2171261\ttotal: 2.04s\tremaining: 2.6s\n",
      "88:\tlearn: 2911.6394064\ttotal: 2.06s\tremaining: 2.58s\n",
      "89:\tlearn: 2901.9110060\ttotal: 2.09s\tremaining: 2.56s\n",
      "90:\tlearn: 2892.5106781\ttotal: 2.12s\tremaining: 2.54s\n",
      "91:\tlearn: 2883.1435583\ttotal: 2.14s\tremaining: 2.51s\n",
      "92:\tlearn: 2874.2021713\ttotal: 2.16s\tremaining: 2.49s\n",
      "93:\tlearn: 2864.7447670\ttotal: 2.19s\tremaining: 2.46s\n",
      "94:\tlearn: 2855.7115528\ttotal: 2.21s\tremaining: 2.44s\n",
      "95:\tlearn: 2846.8477908\ttotal: 2.23s\tremaining: 2.42s\n",
      "96:\tlearn: 2838.3352908\ttotal: 2.25s\tremaining: 2.39s\n",
      "97:\tlearn: 2829.6867968\ttotal: 2.28s\tremaining: 2.37s\n",
      "98:\tlearn: 2821.4036631\ttotal: 2.3s\tremaining: 2.35s\n",
      "99:\tlearn: 2813.0144262\ttotal: 2.32s\tremaining: 2.32s\n",
      "100:\tlearn: 2804.7009970\ttotal: 2.35s\tremaining: 2.3s\n",
      "101:\tlearn: 2796.2604523\ttotal: 2.37s\tremaining: 2.27s\n",
      "102:\tlearn: 2788.0441634\ttotal: 2.39s\tremaining: 2.25s\n",
      "103:\tlearn: 2780.1639107\ttotal: 2.42s\tremaining: 2.23s\n",
      "104:\tlearn: 2771.9624274\ttotal: 2.44s\tremaining: 2.21s\n",
      "105:\tlearn: 2763.8475675\ttotal: 2.47s\tremaining: 2.19s\n",
      "106:\tlearn: 2756.5966474\ttotal: 2.49s\tremaining: 2.17s\n",
      "107:\tlearn: 2749.0579132\ttotal: 2.52s\tremaining: 2.14s\n",
      "108:\tlearn: 2741.4786288\ttotal: 2.54s\tremaining: 2.12s\n",
      "109:\tlearn: 2734.2361884\ttotal: 2.56s\tremaining: 2.1s\n",
      "110:\tlearn: 2726.7382382\ttotal: 2.58s\tremaining: 2.07s\n",
      "111:\tlearn: 2719.5080977\ttotal: 2.61s\tremaining: 2.05s\n",
      "112:\tlearn: 2712.3839254\ttotal: 2.63s\tremaining: 2.02s\n",
      "113:\tlearn: 2705.4120312\ttotal: 2.65s\tremaining: 2s\n",
      "114:\tlearn: 2698.6292220\ttotal: 2.67s\tremaining: 1.98s\n",
      "115:\tlearn: 2691.3776256\ttotal: 2.7s\tremaining: 1.95s\n",
      "116:\tlearn: 2684.5902975\ttotal: 2.72s\tremaining: 1.93s\n",
      "117:\tlearn: 2678.0705663\ttotal: 2.74s\tremaining: 1.91s\n",
      "118:\tlearn: 2671.0089727\ttotal: 2.76s\tremaining: 1.88s\n",
      "119:\tlearn: 2664.2678643\ttotal: 2.79s\tremaining: 1.86s\n",
      "120:\tlearn: 2657.5007010\ttotal: 2.81s\tremaining: 1.84s\n",
      "121:\tlearn: 2651.0887438\ttotal: 2.83s\tremaining: 1.81s\n",
      "122:\tlearn: 2644.9631927\ttotal: 2.86s\tremaining: 1.79s\n",
      "123:\tlearn: 2638.4309293\ttotal: 2.88s\tremaining: 1.76s\n",
      "124:\tlearn: 2632.4675934\ttotal: 2.9s\tremaining: 1.74s\n",
      "125:\tlearn: 2626.4106753\ttotal: 2.93s\tremaining: 1.72s\n",
      "126:\tlearn: 2620.4791556\ttotal: 2.95s\tremaining: 1.7s\n",
      "127:\tlearn: 2614.6863323\ttotal: 2.97s\tremaining: 1.67s\n",
      "128:\tlearn: 2608.6978964\ttotal: 3s\tremaining: 1.65s\n",
      "129:\tlearn: 2602.7255112\ttotal: 3.02s\tremaining: 1.63s\n",
      "130:\tlearn: 2596.8499871\ttotal: 3.04s\tremaining: 1.6s\n",
      "131:\tlearn: 2591.1302923\ttotal: 3.06s\tremaining: 1.58s\n",
      "132:\tlearn: 2585.7479989\ttotal: 3.09s\tremaining: 1.55s\n",
      "133:\tlearn: 2580.1584977\ttotal: 3.11s\tremaining: 1.53s\n",
      "134:\tlearn: 2574.6063500\ttotal: 3.13s\tremaining: 1.51s\n",
      "135:\tlearn: 2569.1552768\ttotal: 3.15s\tremaining: 1.48s\n",
      "136:\tlearn: 2563.9230929\ttotal: 3.18s\tremaining: 1.46s\n",
      "137:\tlearn: 2558.9099979\ttotal: 3.2s\tremaining: 1.44s\n",
      "138:\tlearn: 2553.5184565\ttotal: 3.22s\tremaining: 1.41s\n",
      "139:\tlearn: 2548.1667874\ttotal: 3.24s\tremaining: 1.39s\n",
      "140:\tlearn: 2543.3041045\ttotal: 3.26s\tremaining: 1.37s\n",
      "141:\tlearn: 2538.3395151\ttotal: 3.29s\tremaining: 1.34s\n",
      "142:\tlearn: 2533.4010885\ttotal: 3.31s\tremaining: 1.32s\n",
      "143:\tlearn: 2528.6443854\ttotal: 3.33s\tremaining: 1.3s\n",
      "144:\tlearn: 2523.7899207\ttotal: 3.35s\tremaining: 1.27s\n",
      "145:\tlearn: 2519.0453500\ttotal: 3.38s\tremaining: 1.25s\n",
      "146:\tlearn: 2514.1057480\ttotal: 3.4s\tremaining: 1.23s\n",
      "147:\tlearn: 2509.6499690\ttotal: 3.42s\tremaining: 1.2s\n",
      "148:\tlearn: 2505.1723267\ttotal: 3.44s\tremaining: 1.18s\n",
      "149:\tlearn: 2500.2825860\ttotal: 3.46s\tremaining: 1.15s\n",
      "150:\tlearn: 2495.5716001\ttotal: 3.49s\tremaining: 1.13s\n",
      "151:\tlearn: 2491.0953186\ttotal: 3.51s\tremaining: 1.11s\n",
      "152:\tlearn: 2486.9052485\ttotal: 3.53s\tremaining: 1.08s\n",
      "153:\tlearn: 2482.6535573\ttotal: 3.56s\tremaining: 1.06s\n",
      "154:\tlearn: 2478.3358334\ttotal: 3.58s\tremaining: 1.04s\n",
      "155:\tlearn: 2474.0770973\ttotal: 3.61s\tremaining: 1.02s\n",
      "156:\tlearn: 2469.8537138\ttotal: 3.63s\tremaining: 994ms\n",
      "157:\tlearn: 2465.7348848\ttotal: 3.65s\tremaining: 971ms\n",
      "158:\tlearn: 2461.5853085\ttotal: 3.67s\tremaining: 948ms\n",
      "159:\tlearn: 2457.4317660\ttotal: 3.7s\tremaining: 925ms\n",
      "160:\tlearn: 2453.5710654\ttotal: 3.72s\tremaining: 901ms\n",
      "161:\tlearn: 2449.6261972\ttotal: 3.74s\tremaining: 878ms\n",
      "162:\tlearn: 2445.5657558\ttotal: 3.76s\tremaining: 854ms\n",
      "163:\tlearn: 2441.7873124\ttotal: 3.79s\tremaining: 831ms\n",
      "164:\tlearn: 2437.7094572\ttotal: 3.81s\tremaining: 808ms\n",
      "165:\tlearn: 2434.0475113\ttotal: 3.83s\tremaining: 785ms\n",
      "166:\tlearn: 2430.3257064\ttotal: 3.85s\tremaining: 762ms\n",
      "167:\tlearn: 2426.6204518\ttotal: 3.88s\tremaining: 739ms\n",
      "168:\tlearn: 2422.9814377\ttotal: 3.9s\tremaining: 716ms\n",
      "169:\tlearn: 2419.4994481\ttotal: 3.92s\tremaining: 693ms\n",
      "170:\tlearn: 2415.8166560\ttotal: 3.94s\tremaining: 669ms\n",
      "171:\tlearn: 2412.2563942\ttotal: 3.97s\tremaining: 646ms\n",
      "172:\tlearn: 2408.7931669\ttotal: 4s\tremaining: 624ms\n",
      "173:\tlearn: 2405.3983367\ttotal: 4.02s\tremaining: 600ms\n",
      "174:\tlearn: 2402.0784909\ttotal: 4.04s\tremaining: 577ms\n",
      "175:\tlearn: 2398.4004729\ttotal: 4.06s\tremaining: 554ms\n",
      "176:\tlearn: 2395.1680785\ttotal: 4.08s\tremaining: 531ms\n",
      "177:\tlearn: 2391.9993863\ttotal: 4.11s\tremaining: 508ms\n",
      "178:\tlearn: 2388.5745111\ttotal: 4.13s\tremaining: 484ms\n",
      "179:\tlearn: 2385.3122519\ttotal: 4.15s\tremaining: 461ms\n"
     ]
    },
    {
     "name": "stdout",
     "output_type": "stream",
     "text": [
      "180:\tlearn: 2382.2086061\ttotal: 4.17s\tremaining: 438ms\n",
      "181:\tlearn: 2379.2379576\ttotal: 4.2s\tremaining: 415ms\n",
      "182:\tlearn: 2376.2374239\ttotal: 4.22s\tremaining: 392ms\n",
      "183:\tlearn: 2373.0767706\ttotal: 4.24s\tremaining: 369ms\n",
      "184:\tlearn: 2370.1399278\ttotal: 4.26s\tremaining: 346ms\n",
      "185:\tlearn: 2366.9460780\ttotal: 4.29s\tremaining: 323ms\n",
      "186:\tlearn: 2364.0570689\ttotal: 4.31s\tremaining: 300ms\n",
      "187:\tlearn: 2360.9112571\ttotal: 4.33s\tremaining: 277ms\n",
      "188:\tlearn: 2358.1040758\ttotal: 4.35s\tremaining: 253ms\n",
      "189:\tlearn: 2355.3037860\ttotal: 4.37s\tremaining: 230ms\n",
      "190:\tlearn: 2352.3330267\ttotal: 4.4s\tremaining: 207ms\n",
      "191:\tlearn: 2349.5169377\ttotal: 4.42s\tremaining: 184ms\n",
      "192:\tlearn: 2346.3888516\ttotal: 4.44s\tremaining: 161ms\n",
      "193:\tlearn: 2343.5973589\ttotal: 4.46s\tremaining: 138ms\n",
      "194:\tlearn: 2340.9032627\ttotal: 4.49s\tremaining: 115ms\n",
      "195:\tlearn: 2338.2906387\ttotal: 4.51s\tremaining: 92.1ms\n",
      "196:\tlearn: 2335.5166185\ttotal: 4.54s\tremaining: 69.1ms\n",
      "197:\tlearn: 2332.9496942\ttotal: 4.55s\tremaining: 46ms\n",
      "198:\tlearn: 2330.1432892\ttotal: 4.58s\tremaining: 23ms\n",
      "199:\tlearn: 2327.5059792\ttotal: 4.6s\tremaining: 0us\n",
      "0:\tlearn: 4487.1606560\ttotal: 26.9ms\tremaining: 5.35s\n",
      "1:\tlearn: 4457.8131260\ttotal: 55.5ms\tremaining: 5.49s\n",
      "2:\tlearn: 4429.0441911\ttotal: 85.5ms\tremaining: 5.62s\n",
      "3:\tlearn: 4400.0650330\ttotal: 114ms\tremaining: 5.58s\n",
      "4:\tlearn: 4371.4771895\ttotal: 149ms\tremaining: 5.79s\n",
      "5:\tlearn: 4343.2012316\ttotal: 179ms\tremaining: 5.79s\n",
      "6:\tlearn: 4315.6111026\ttotal: 211ms\tremaining: 5.82s\n",
      "7:\tlearn: 4288.0580528\ttotal: 239ms\tremaining: 5.73s\n",
      "8:\tlearn: 4260.8143748\ttotal: 269ms\tremaining: 5.71s\n",
      "9:\tlearn: 4234.6430332\ttotal: 297ms\tremaining: 5.65s\n",
      "10:\tlearn: 4208.2022525\ttotal: 325ms\tremaining: 5.58s\n",
      "11:\tlearn: 4182.1676904\ttotal: 353ms\tremaining: 5.53s\n",
      "12:\tlearn: 4156.5031891\ttotal: 384ms\tremaining: 5.52s\n",
      "13:\tlearn: 4130.9892012\ttotal: 411ms\tremaining: 5.46s\n",
      "14:\tlearn: 4106.2219736\ttotal: 440ms\tremaining: 5.43s\n",
      "15:\tlearn: 4081.4458973\ttotal: 473ms\tremaining: 5.44s\n",
      "16:\tlearn: 4057.1531300\ttotal: 502ms\tremaining: 5.4s\n",
      "17:\tlearn: 4032.7002097\ttotal: 530ms\tremaining: 5.36s\n",
      "18:\tlearn: 4008.8958025\ttotal: 559ms\tremaining: 5.32s\n",
      "19:\tlearn: 3985.5148240\ttotal: 589ms\tremaining: 5.3s\n",
      "20:\tlearn: 3962.4630417\ttotal: 616ms\tremaining: 5.25s\n",
      "21:\tlearn: 3939.5038063\ttotal: 644ms\tremaining: 5.21s\n",
      "22:\tlearn: 3916.8816396\ttotal: 678ms\tremaining: 5.21s\n",
      "23:\tlearn: 3894.4693158\ttotal: 704ms\tremaining: 5.17s\n",
      "24:\tlearn: 3872.4338566\ttotal: 732ms\tremaining: 5.12s\n",
      "25:\tlearn: 3851.0418017\ttotal: 762ms\tremaining: 5.1s\n",
      "26:\tlearn: 3829.3010448\ttotal: 791ms\tremaining: 5.07s\n",
      "27:\tlearn: 3807.9470251\ttotal: 818ms\tremaining: 5.02s\n",
      "28:\tlearn: 3786.9793521\ttotal: 848ms\tremaining: 5s\n",
      "29:\tlearn: 3766.3263511\ttotal: 879ms\tremaining: 4.98s\n",
      "30:\tlearn: 3746.1226191\ttotal: 907ms\tremaining: 4.94s\n",
      "31:\tlearn: 3725.8804333\ttotal: 935ms\tremaining: 4.91s\n",
      "32:\tlearn: 3705.6976801\ttotal: 969ms\tremaining: 4.9s\n",
      "33:\tlearn: 3686.2102519\ttotal: 996ms\tremaining: 4.86s\n",
      "34:\tlearn: 3666.6428453\ttotal: 1.02s\tremaining: 4.82s\n",
      "35:\tlearn: 3647.2614099\ttotal: 1.05s\tremaining: 4.79s\n",
      "36:\tlearn: 3627.6420375\ttotal: 1.08s\tremaining: 4.76s\n",
      "37:\tlearn: 3608.9186622\ttotal: 1.11s\tremaining: 4.73s\n",
      "38:\tlearn: 3590.4306293\ttotal: 1.14s\tremaining: 4.69s\n",
      "39:\tlearn: 3572.2983197\ttotal: 1.17s\tremaining: 4.66s\n",
      "40:\tlearn: 3554.2748651\ttotal: 1.19s\tremaining: 4.63s\n",
      "41:\tlearn: 3536.6238462\ttotal: 1.22s\tremaining: 4.59s\n",
      "42:\tlearn: 3519.1873436\ttotal: 1.25s\tremaining: 4.56s\n",
      "43:\tlearn: 3501.4217469\ttotal: 1.28s\tremaining: 4.54s\n",
      "44:\tlearn: 3483.5554467\ttotal: 1.31s\tremaining: 4.52s\n",
      "45:\tlearn: 3466.4813991\ttotal: 1.34s\tremaining: 4.49s\n",
      "46:\tlearn: 3449.6316523\ttotal: 1.37s\tremaining: 4.47s\n",
      "47:\tlearn: 3433.1630417\ttotal: 1.4s\tremaining: 4.44s\n",
      "48:\tlearn: 3417.2025152\ttotal: 1.43s\tremaining: 4.4s\n",
      "49:\tlearn: 3401.4088909\ttotal: 1.46s\tremaining: 4.38s\n",
      "50:\tlearn: 3385.4657911\ttotal: 1.49s\tremaining: 4.35s\n",
      "51:\tlearn: 3369.5396308\ttotal: 1.52s\tremaining: 4.32s\n",
      "52:\tlearn: 3354.2985182\ttotal: 1.55s\tremaining: 4.3s\n",
      "53:\tlearn: 3339.1879653\ttotal: 1.58s\tremaining: 4.28s\n",
      "54:\tlearn: 3324.0002713\ttotal: 1.61s\tremaining: 4.24s\n",
      "55:\tlearn: 3309.3116084\ttotal: 1.64s\tremaining: 4.21s\n",
      "56:\tlearn: 3294.4845834\ttotal: 1.67s\tremaining: 4.18s\n",
      "57:\tlearn: 3280.1414298\ttotal: 1.7s\tremaining: 4.16s\n",
      "58:\tlearn: 3265.2834240\ttotal: 1.72s\tremaining: 4.12s\n",
      "59:\tlearn: 3250.8071782\ttotal: 1.75s\tremaining: 4.09s\n",
      "60:\tlearn: 3236.9623010\ttotal: 1.78s\tremaining: 4.07s\n",
      "61:\tlearn: 3223.0267054\ttotal: 1.81s\tremaining: 4.03s\n",
      "62:\tlearn: 3209.5700582\ttotal: 1.84s\tremaining: 4s\n",
      "63:\tlearn: 3196.1622361\ttotal: 1.87s\tremaining: 3.97s\n",
      "64:\tlearn: 3182.7330633\ttotal: 1.9s\tremaining: 3.94s\n",
      "65:\tlearn: 3169.3461720\ttotal: 1.93s\tremaining: 3.91s\n",
      "66:\tlearn: 3155.9644991\ttotal: 1.96s\tremaining: 3.9s\n",
      "67:\tlearn: 3143.0178064\ttotal: 1.99s\tremaining: 3.87s\n",
      "68:\tlearn: 3130.8911045\ttotal: 2.02s\tremaining: 3.84s\n",
      "69:\tlearn: 3118.3161630\ttotal: 2.05s\tremaining: 3.82s\n",
      "70:\tlearn: 3106.0077740\ttotal: 2.08s\tremaining: 3.79s\n",
      "71:\tlearn: 3093.9394477\ttotal: 2.11s\tremaining: 3.76s\n",
      "72:\tlearn: 3081.6066007\ttotal: 2.14s\tremaining: 3.73s\n",
      "73:\tlearn: 3069.6449558\ttotal: 2.17s\tremaining: 3.7s\n",
      "74:\tlearn: 3057.9515823\ttotal: 2.2s\tremaining: 3.67s\n",
      "75:\tlearn: 3046.4641056\ttotal: 2.23s\tremaining: 3.63s\n",
      "76:\tlearn: 3035.0652792\ttotal: 2.26s\tremaining: 3.61s\n",
      "77:\tlearn: 3023.5995948\ttotal: 2.29s\tremaining: 3.58s\n",
      "78:\tlearn: 3012.3523322\ttotal: 2.31s\tremaining: 3.54s\n",
      "79:\tlearn: 3001.2742337\ttotal: 2.34s\tremaining: 3.51s\n",
      "80:\tlearn: 2990.5305872\ttotal: 2.37s\tremaining: 3.48s\n",
      "81:\tlearn: 2979.6590117\ttotal: 2.4s\tremaining: 3.45s\n",
      "82:\tlearn: 2969.3369166\ttotal: 2.42s\tremaining: 3.42s\n",
      "83:\tlearn: 2959.0919234\ttotal: 2.45s\tremaining: 3.39s\n",
      "84:\tlearn: 2948.8999371\ttotal: 2.48s\tremaining: 3.36s\n",
      "85:\tlearn: 2938.6895712\ttotal: 2.51s\tremaining: 3.33s\n",
      "86:\tlearn: 2928.7772657\ttotal: 2.54s\tremaining: 3.29s\n",
      "87:\tlearn: 2919.0880078\ttotal: 2.57s\tremaining: 3.27s\n",
      "88:\tlearn: 2909.4474160\ttotal: 2.59s\tremaining: 3.23s\n",
      "89:\tlearn: 2899.6577782\ttotal: 2.62s\tremaining: 3.2s\n",
      "90:\tlearn: 2890.3399979\ttotal: 2.65s\tremaining: 3.17s\n",
      "91:\tlearn: 2880.9677692\ttotal: 2.68s\tremaining: 3.15s\n",
      "92:\tlearn: 2871.8911718\ttotal: 2.71s\tremaining: 3.11s\n",
      "93:\tlearn: 2862.7557720\ttotal: 2.73s\tremaining: 3.08s\n",
      "94:\tlearn: 2853.9257952\ttotal: 2.76s\tremaining: 3.05s\n",
      "95:\tlearn: 2845.1111450\ttotal: 2.79s\tremaining: 3.02s\n",
      "96:\tlearn: 2836.5092397\ttotal: 2.82s\tremaining: 2.99s\n",
      "97:\tlearn: 2827.7311801\ttotal: 2.85s\tremaining: 2.96s\n",
      "98:\tlearn: 2818.9296947\ttotal: 2.88s\tremaining: 2.93s\n",
      "99:\tlearn: 2810.8151932\ttotal: 2.9s\tremaining: 2.9s\n",
      "100:\tlearn: 2802.4543366\ttotal: 2.93s\tremaining: 2.87s\n",
      "101:\tlearn: 2793.6590680\ttotal: 2.96s\tremaining: 2.85s\n",
      "102:\tlearn: 2785.8047316\ttotal: 2.99s\tremaining: 2.81s\n",
      "103:\tlearn: 2777.7760178\ttotal: 3.02s\tremaining: 2.79s\n",
      "104:\tlearn: 2769.8476208\ttotal: 3.05s\tremaining: 2.76s\n",
      "105:\tlearn: 2761.9190962\ttotal: 3.08s\tremaining: 2.73s\n",
      "106:\tlearn: 2754.3916455\ttotal: 3.1s\tremaining: 2.7s\n",
      "107:\tlearn: 2746.4018111\ttotal: 3.13s\tremaining: 2.67s\n",
      "108:\tlearn: 2739.0742268\ttotal: 3.17s\tremaining: 2.65s\n",
      "109:\tlearn: 2731.4094313\ttotal: 3.2s\tremaining: 2.62s\n",
      "110:\tlearn: 2723.6468031\ttotal: 3.22s\tremaining: 2.58s\n",
      "111:\tlearn: 2716.2694577\ttotal: 3.25s\tremaining: 2.55s\n",
      "112:\tlearn: 2708.8432482\ttotal: 3.28s\tremaining: 2.52s\n",
      "113:\tlearn: 2701.4388476\ttotal: 3.3s\tremaining: 2.49s\n",
      "114:\tlearn: 2694.4118140\ttotal: 3.33s\tremaining: 2.46s\n",
      "115:\tlearn: 2687.0571642\ttotal: 3.36s\tremaining: 2.43s\n",
      "116:\tlearn: 2679.8968345\ttotal: 3.39s\tremaining: 2.4s\n",
      "117:\tlearn: 2672.9243599\ttotal: 3.41s\tremaining: 2.37s\n",
      "118:\tlearn: 2666.1815617\ttotal: 3.44s\tremaining: 2.34s\n",
      "119:\tlearn: 2659.2826382\ttotal: 3.47s\tremaining: 2.31s\n",
      "120:\tlearn: 2652.9672344\ttotal: 3.5s\tremaining: 2.28s\n",
      "121:\tlearn: 2646.6616585\ttotal: 3.52s\tremaining: 2.25s\n",
      "122:\tlearn: 2640.3014970\ttotal: 3.55s\tremaining: 2.22s\n",
      "123:\tlearn: 2634.2226391\ttotal: 3.58s\tremaining: 2.19s\n",
      "124:\tlearn: 2627.9670559\ttotal: 3.61s\tremaining: 2.16s\n",
      "125:\tlearn: 2621.7781799\ttotal: 3.63s\tremaining: 2.13s\n",
      "126:\tlearn: 2615.8952312\ttotal: 3.66s\tremaining: 2.1s\n",
      "127:\tlearn: 2609.9327619\ttotal: 3.69s\tremaining: 2.08s\n",
      "128:\tlearn: 2604.0755978\ttotal: 3.72s\tremaining: 2.04s\n",
      "129:\tlearn: 2598.4132561\ttotal: 3.75s\tremaining: 2.02s\n",
      "130:\tlearn: 2592.8051596\ttotal: 3.78s\tremaining: 1.99s\n",
      "131:\tlearn: 2587.0854692\ttotal: 3.81s\tremaining: 1.96s\n",
      "132:\tlearn: 2581.4240541\ttotal: 3.83s\tremaining: 1.93s\n",
      "133:\tlearn: 2575.7979423\ttotal: 3.86s\tremaining: 1.9s\n"
     ]
    },
    {
     "name": "stdout",
     "output_type": "stream",
     "text": [
      "134:\tlearn: 2570.4786942\ttotal: 3.89s\tremaining: 1.87s\n",
      "135:\tlearn: 2565.0787034\ttotal: 3.92s\tremaining: 1.84s\n",
      "136:\tlearn: 2559.7406345\ttotal: 3.95s\tremaining: 1.81s\n",
      "137:\tlearn: 2554.3205718\ttotal: 3.98s\tremaining: 1.79s\n",
      "138:\tlearn: 2549.4678787\ttotal: 4s\tremaining: 1.75s\n",
      "139:\tlearn: 2544.1750982\ttotal: 4.03s\tremaining: 1.73s\n",
      "140:\tlearn: 2539.0762924\ttotal: 4.06s\tremaining: 1.7s\n",
      "141:\tlearn: 2534.1639910\ttotal: 4.08s\tremaining: 1.67s\n",
      "142:\tlearn: 2529.0991355\ttotal: 4.11s\tremaining: 1.64s\n",
      "143:\tlearn: 2524.2275486\ttotal: 4.14s\tremaining: 1.61s\n",
      "144:\tlearn: 2519.4166127\ttotal: 4.17s\tremaining: 1.58s\n",
      "145:\tlearn: 2514.6220983\ttotal: 4.19s\tremaining: 1.55s\n",
      "146:\tlearn: 2509.9763480\ttotal: 4.22s\tremaining: 1.52s\n",
      "147:\tlearn: 2505.2841421\ttotal: 4.26s\tremaining: 1.5s\n",
      "148:\tlearn: 2500.7562543\ttotal: 4.29s\tremaining: 1.47s\n",
      "149:\tlearn: 2496.2547170\ttotal: 4.32s\tremaining: 1.44s\n",
      "150:\tlearn: 2491.8753291\ttotal: 4.34s\tremaining: 1.41s\n",
      "151:\tlearn: 2487.5711962\ttotal: 4.37s\tremaining: 1.38s\n",
      "152:\tlearn: 2483.0799390\ttotal: 4.39s\tremaining: 1.35s\n",
      "153:\tlearn: 2478.7184948\ttotal: 4.42s\tremaining: 1.32s\n",
      "154:\tlearn: 2474.5075044\ttotal: 4.45s\tremaining: 1.29s\n",
      "155:\tlearn: 2469.9589394\ttotal: 4.48s\tremaining: 1.26s\n",
      "156:\tlearn: 2465.8055121\ttotal: 4.5s\tremaining: 1.23s\n",
      "157:\tlearn: 2461.7680660\ttotal: 4.54s\tremaining: 1.21s\n",
      "158:\tlearn: 2457.7797473\ttotal: 4.57s\tremaining: 1.18s\n",
      "159:\tlearn: 2453.6466008\ttotal: 4.59s\tremaining: 1.15s\n",
      "160:\tlearn: 2449.4662204\ttotal: 4.62s\tremaining: 1.12s\n",
      "161:\tlearn: 2445.4330996\ttotal: 4.65s\tremaining: 1.09s\n",
      "162:\tlearn: 2441.6572080\ttotal: 4.68s\tremaining: 1.06s\n",
      "163:\tlearn: 2437.5472969\ttotal: 4.7s\tremaining: 1.03s\n",
      "164:\tlearn: 2433.7115970\ttotal: 4.73s\tremaining: 1s\n",
      "165:\tlearn: 2429.9342597\ttotal: 4.76s\tremaining: 975ms\n",
      "166:\tlearn: 2426.1741000\ttotal: 4.79s\tremaining: 946ms\n",
      "167:\tlearn: 2422.3758529\ttotal: 4.81s\tremaining: 917ms\n",
      "168:\tlearn: 2418.6748780\ttotal: 4.85s\tremaining: 889ms\n",
      "169:\tlearn: 2415.1168488\ttotal: 4.87s\tremaining: 860ms\n",
      "170:\tlearn: 2411.7030171\ttotal: 4.9s\tremaining: 831ms\n",
      "171:\tlearn: 2408.0387025\ttotal: 4.93s\tremaining: 802ms\n",
      "172:\tlearn: 2404.4874928\ttotal: 4.96s\tremaining: 774ms\n",
      "173:\tlearn: 2401.0214711\ttotal: 4.98s\tremaining: 745ms\n",
      "174:\tlearn: 2397.5590142\ttotal: 5.01s\tremaining: 716ms\n",
      "175:\tlearn: 2394.2019690\ttotal: 5.04s\tremaining: 688ms\n",
      "176:\tlearn: 2390.9123466\ttotal: 5.07s\tremaining: 659ms\n",
      "177:\tlearn: 2387.6003989\ttotal: 5.1s\tremaining: 630ms\n",
      "178:\tlearn: 2384.2781901\ttotal: 5.12s\tremaining: 601ms\n",
      "179:\tlearn: 2381.0968011\ttotal: 5.15s\tremaining: 572ms\n",
      "180:\tlearn: 2377.9441018\ttotal: 5.18s\tremaining: 544ms\n",
      "181:\tlearn: 2374.6150088\ttotal: 5.21s\tremaining: 515ms\n",
      "182:\tlearn: 2371.3572208\ttotal: 5.24s\tremaining: 487ms\n",
      "183:\tlearn: 2368.1096009\ttotal: 5.27s\tremaining: 458ms\n",
      "184:\tlearn: 2365.1324022\ttotal: 5.3s\tremaining: 430ms\n",
      "185:\tlearn: 2361.8098785\ttotal: 5.33s\tremaining: 401ms\n",
      "186:\tlearn: 2358.6804308\ttotal: 5.36s\tremaining: 373ms\n",
      "187:\tlearn: 2355.7697960\ttotal: 5.39s\tremaining: 344ms\n",
      "188:\tlearn: 2352.6378399\ttotal: 5.41s\tremaining: 315ms\n",
      "189:\tlearn: 2349.5909676\ttotal: 5.45s\tremaining: 287ms\n",
      "190:\tlearn: 2346.7827575\ttotal: 5.47s\tremaining: 258ms\n",
      "191:\tlearn: 2343.9565096\ttotal: 5.5s\tremaining: 229ms\n",
      "192:\tlearn: 2341.1392114\ttotal: 5.53s\tremaining: 200ms\n",
      "193:\tlearn: 2338.4544522\ttotal: 5.55s\tremaining: 172ms\n",
      "194:\tlearn: 2335.6584650\ttotal: 5.58s\tremaining: 143ms\n",
      "195:\tlearn: 2332.9796438\ttotal: 5.61s\tremaining: 114ms\n",
      "196:\tlearn: 2330.3628999\ttotal: 5.64s\tremaining: 85.8ms\n",
      "197:\tlearn: 2327.8060645\ttotal: 5.66s\tremaining: 57.2ms\n",
      "198:\tlearn: 2325.2000238\ttotal: 5.69s\tremaining: 28.6ms\n",
      "199:\tlearn: 2322.4931808\ttotal: 5.72s\tremaining: 0us\n",
      "Best depth: 8\n",
      "0:\tlearn: 4487.1606560\ttotal: 30.8ms\tremaining: 6.13s\n",
      "1:\tlearn: 4457.8131260\ttotal: 58.4ms\tremaining: 5.78s\n",
      "2:\tlearn: 4429.0441911\ttotal: 87.4ms\tremaining: 5.74s\n",
      "3:\tlearn: 4400.0650330\ttotal: 116ms\tremaining: 5.69s\n",
      "4:\tlearn: 4371.4771895\ttotal: 144ms\tremaining: 5.61s\n",
      "5:\tlearn: 4343.2012316\ttotal: 172ms\tremaining: 5.55s\n",
      "6:\tlearn: 4315.6111026\ttotal: 202ms\tremaining: 5.58s\n",
      "7:\tlearn: 4288.0580528\ttotal: 229ms\tremaining: 5.5s\n",
      "8:\tlearn: 4260.8143748\ttotal: 256ms\tremaining: 5.44s\n",
      "9:\tlearn: 4234.6430332\ttotal: 290ms\tremaining: 5.51s\n",
      "10:\tlearn: 4208.2022525\ttotal: 318ms\tremaining: 5.47s\n",
      "11:\tlearn: 4182.1676904\ttotal: 346ms\tremaining: 5.42s\n",
      "12:\tlearn: 4156.5031891\ttotal: 374ms\tremaining: 5.38s\n",
      "13:\tlearn: 4130.9892012\ttotal: 404ms\tremaining: 5.36s\n",
      "14:\tlearn: 4106.2219736\ttotal: 435ms\tremaining: 5.36s\n",
      "15:\tlearn: 4081.4458973\ttotal: 467ms\tremaining: 5.37s\n",
      "16:\tlearn: 4057.1531300\ttotal: 498ms\tremaining: 5.36s\n",
      "17:\tlearn: 4032.7002097\ttotal: 528ms\tremaining: 5.34s\n",
      "18:\tlearn: 4008.8958025\ttotal: 555ms\tremaining: 5.29s\n",
      "19:\tlearn: 3985.5148240\ttotal: 585ms\tremaining: 5.26s\n",
      "20:\tlearn: 3962.4630417\ttotal: 613ms\tremaining: 5.23s\n",
      "21:\tlearn: 3939.5038063\ttotal: 640ms\tremaining: 5.18s\n",
      "22:\tlearn: 3916.8816396\ttotal: 668ms\tremaining: 5.14s\n",
      "23:\tlearn: 3894.4693158\ttotal: 698ms\tremaining: 5.12s\n",
      "24:\tlearn: 3872.4338566\ttotal: 726ms\tremaining: 5.08s\n",
      "25:\tlearn: 3851.0418017\ttotal: 754ms\tremaining: 5.04s\n",
      "26:\tlearn: 3829.3010448\ttotal: 783ms\tremaining: 5.02s\n",
      "27:\tlearn: 3807.9470251\ttotal: 813ms\tremaining: 4.99s\n",
      "28:\tlearn: 3786.9793521\ttotal: 840ms\tremaining: 4.95s\n",
      "29:\tlearn: 3766.3263511\ttotal: 866ms\tremaining: 4.91s\n",
      "30:\tlearn: 3746.1226191\ttotal: 901ms\tremaining: 4.91s\n",
      "31:\tlearn: 3725.8804333\ttotal: 930ms\tremaining: 4.88s\n",
      "32:\tlearn: 3705.6976801\ttotal: 957ms\tremaining: 4.84s\n",
      "33:\tlearn: 3686.2102519\ttotal: 987ms\tremaining: 4.82s\n",
      "34:\tlearn: 3666.6428453\ttotal: 1.02s\tremaining: 4.8s\n",
      "35:\tlearn: 3647.2614099\ttotal: 1.04s\tremaining: 4.76s\n",
      "36:\tlearn: 3627.6420375\ttotal: 1.07s\tremaining: 4.72s\n",
      "37:\tlearn: 3608.9186622\ttotal: 1.1s\tremaining: 4.7s\n",
      "38:\tlearn: 3590.4306293\ttotal: 1.13s\tremaining: 4.67s\n",
      "39:\tlearn: 3572.2983197\ttotal: 1.16s\tremaining: 4.63s\n",
      "40:\tlearn: 3554.2748651\ttotal: 1.19s\tremaining: 4.62s\n",
      "41:\tlearn: 3536.6238462\ttotal: 1.22s\tremaining: 4.6s\n",
      "42:\tlearn: 3519.1873436\ttotal: 1.25s\tremaining: 4.57s\n",
      "43:\tlearn: 3501.4217469\ttotal: 1.28s\tremaining: 4.54s\n",
      "44:\tlearn: 3483.5554467\ttotal: 1.31s\tremaining: 4.51s\n",
      "45:\tlearn: 3466.4813991\ttotal: 1.34s\tremaining: 4.48s\n",
      "46:\tlearn: 3449.6316523\ttotal: 1.37s\tremaining: 4.45s\n",
      "47:\tlearn: 3433.1630417\ttotal: 1.4s\tremaining: 4.43s\n",
      "48:\tlearn: 3417.2025152\ttotal: 1.43s\tremaining: 4.4s\n",
      "49:\tlearn: 3401.4088909\ttotal: 1.46s\tremaining: 4.37s\n",
      "50:\tlearn: 3385.4657911\ttotal: 1.48s\tremaining: 4.34s\n",
      "51:\tlearn: 3369.5396308\ttotal: 1.51s\tremaining: 4.31s\n",
      "52:\tlearn: 3354.2985182\ttotal: 1.54s\tremaining: 4.28s\n",
      "53:\tlearn: 3339.1879653\ttotal: 1.57s\tremaining: 4.26s\n",
      "54:\tlearn: 3324.0002713\ttotal: 1.6s\tremaining: 4.23s\n",
      "55:\tlearn: 3309.3116084\ttotal: 1.63s\tremaining: 4.2s\n",
      "56:\tlearn: 3294.4845834\ttotal: 1.66s\tremaining: 4.17s\n",
      "57:\tlearn: 3280.1414298\ttotal: 1.7s\tremaining: 4.15s\n",
      "58:\tlearn: 3265.2834240\ttotal: 1.72s\tremaining: 4.12s\n",
      "59:\tlearn: 3250.8071782\ttotal: 1.75s\tremaining: 4.09s\n",
      "60:\tlearn: 3236.9623010\ttotal: 1.78s\tremaining: 4.07s\n",
      "61:\tlearn: 3223.0267054\ttotal: 1.81s\tremaining: 4.03s\n",
      "62:\tlearn: 3209.5700582\ttotal: 1.84s\tremaining: 4s\n",
      "63:\tlearn: 3196.1622361\ttotal: 1.87s\tremaining: 3.97s\n",
      "64:\tlearn: 3182.7330633\ttotal: 1.9s\tremaining: 3.94s\n",
      "65:\tlearn: 3169.3461720\ttotal: 1.93s\tremaining: 3.91s\n",
      "66:\tlearn: 3155.9644991\ttotal: 1.95s\tremaining: 3.88s\n",
      "67:\tlearn: 3143.0178064\ttotal: 1.98s\tremaining: 3.85s\n",
      "68:\tlearn: 3130.8911045\ttotal: 2.01s\tremaining: 3.82s\n",
      "69:\tlearn: 3118.3161630\ttotal: 2.04s\tremaining: 3.78s\n",
      "70:\tlearn: 3106.0077740\ttotal: 2.07s\tremaining: 3.76s\n",
      "71:\tlearn: 3093.9394477\ttotal: 2.1s\tremaining: 3.73s\n",
      "72:\tlearn: 3081.6066007\ttotal: 2.13s\tremaining: 3.7s\n",
      "73:\tlearn: 3069.6449558\ttotal: 2.15s\tremaining: 3.67s\n",
      "74:\tlearn: 3057.9515823\ttotal: 2.18s\tremaining: 3.64s\n",
      "75:\tlearn: 3046.4641056\ttotal: 2.21s\tremaining: 3.61s\n",
      "76:\tlearn: 3035.0652792\ttotal: 2.24s\tremaining: 3.58s\n",
      "77:\tlearn: 3023.5995948\ttotal: 2.27s\tremaining: 3.55s\n",
      "78:\tlearn: 3012.3523322\ttotal: 2.3s\tremaining: 3.52s\n",
      "79:\tlearn: 3001.2742337\ttotal: 2.33s\tremaining: 3.49s\n",
      "80:\tlearn: 2990.5305872\ttotal: 2.35s\tremaining: 3.46s\n",
      "81:\tlearn: 2979.6590117\ttotal: 2.38s\tremaining: 3.43s\n",
      "82:\tlearn: 2969.3369166\ttotal: 2.41s\tremaining: 3.4s\n",
      "83:\tlearn: 2959.0919234\ttotal: 2.44s\tremaining: 3.37s\n",
      "84:\tlearn: 2948.8999371\ttotal: 2.47s\tremaining: 3.34s\n",
      "85:\tlearn: 2938.6895712\ttotal: 2.5s\tremaining: 3.31s\n"
     ]
    },
    {
     "name": "stdout",
     "output_type": "stream",
     "text": [
      "86:\tlearn: 2928.7772657\ttotal: 2.53s\tremaining: 3.28s\n",
      "87:\tlearn: 2919.0880078\ttotal: 2.55s\tremaining: 3.25s\n",
      "88:\tlearn: 2909.4474160\ttotal: 2.58s\tremaining: 3.22s\n",
      "89:\tlearn: 2899.6577782\ttotal: 2.61s\tremaining: 3.19s\n",
      "90:\tlearn: 2890.3399979\ttotal: 2.64s\tremaining: 3.16s\n",
      "91:\tlearn: 2880.9677692\ttotal: 2.67s\tremaining: 3.13s\n",
      "92:\tlearn: 2871.8911718\ttotal: 2.7s\tremaining: 3.1s\n",
      "93:\tlearn: 2862.7557720\ttotal: 2.73s\tremaining: 3.07s\n",
      "94:\tlearn: 2853.9257952\ttotal: 2.75s\tremaining: 3.04s\n",
      "95:\tlearn: 2845.1111450\ttotal: 2.78s\tremaining: 3.01s\n",
      "96:\tlearn: 2836.5092397\ttotal: 2.81s\tremaining: 2.98s\n",
      "97:\tlearn: 2827.7311801\ttotal: 2.84s\tremaining: 2.95s\n",
      "98:\tlearn: 2818.9296947\ttotal: 2.86s\tremaining: 2.92s\n",
      "99:\tlearn: 2810.8151932\ttotal: 2.89s\tremaining: 2.89s\n",
      "100:\tlearn: 2802.4543366\ttotal: 2.92s\tremaining: 2.86s\n",
      "101:\tlearn: 2793.6590680\ttotal: 2.95s\tremaining: 2.83s\n",
      "102:\tlearn: 2785.8047316\ttotal: 2.98s\tremaining: 2.81s\n",
      "103:\tlearn: 2777.7760178\ttotal: 3.01s\tremaining: 2.77s\n",
      "104:\tlearn: 2769.8476208\ttotal: 3.03s\tremaining: 2.75s\n",
      "105:\tlearn: 2761.9190962\ttotal: 3.06s\tremaining: 2.71s\n",
      "106:\tlearn: 2754.3916455\ttotal: 3.09s\tremaining: 2.69s\n",
      "107:\tlearn: 2746.4018111\ttotal: 3.12s\tremaining: 2.66s\n",
      "108:\tlearn: 2739.0742268\ttotal: 3.15s\tremaining: 2.63s\n",
      "109:\tlearn: 2731.4094313\ttotal: 3.18s\tremaining: 2.6s\n",
      "110:\tlearn: 2723.6468031\ttotal: 3.21s\tremaining: 2.57s\n",
      "111:\tlearn: 2716.2694577\ttotal: 3.23s\tremaining: 2.54s\n",
      "112:\tlearn: 2708.8432482\ttotal: 3.26s\tremaining: 2.51s\n",
      "113:\tlearn: 2701.4388476\ttotal: 3.29s\tremaining: 2.48s\n",
      "114:\tlearn: 2694.4118140\ttotal: 3.32s\tremaining: 2.45s\n",
      "115:\tlearn: 2687.0571642\ttotal: 3.35s\tremaining: 2.42s\n",
      "116:\tlearn: 2679.8968345\ttotal: 3.38s\tremaining: 2.4s\n",
      "117:\tlearn: 2672.9243599\ttotal: 3.41s\tremaining: 2.37s\n",
      "118:\tlearn: 2666.1815617\ttotal: 3.43s\tremaining: 2.34s\n",
      "119:\tlearn: 2659.2826382\ttotal: 3.46s\tremaining: 2.31s\n",
      "120:\tlearn: 2652.9672344\ttotal: 3.49s\tremaining: 2.28s\n",
      "121:\tlearn: 2646.6616585\ttotal: 3.52s\tremaining: 2.25s\n",
      "122:\tlearn: 2640.3014970\ttotal: 3.54s\tremaining: 2.22s\n",
      "123:\tlearn: 2634.2226391\ttotal: 3.57s\tremaining: 2.19s\n",
      "124:\tlearn: 2627.9670559\ttotal: 3.6s\tremaining: 2.16s\n",
      "125:\tlearn: 2621.7781799\ttotal: 3.63s\tremaining: 2.13s\n",
      "126:\tlearn: 2615.8952312\ttotal: 3.66s\tremaining: 2.1s\n",
      "127:\tlearn: 2609.9327619\ttotal: 3.69s\tremaining: 2.07s\n",
      "128:\tlearn: 2604.0755978\ttotal: 3.71s\tremaining: 2.04s\n",
      "129:\tlearn: 2598.4132561\ttotal: 3.74s\tremaining: 2.02s\n",
      "130:\tlearn: 2592.8051596\ttotal: 3.77s\tremaining: 1.99s\n",
      "131:\tlearn: 2587.0854692\ttotal: 3.8s\tremaining: 1.96s\n",
      "132:\tlearn: 2581.4240541\ttotal: 3.83s\tremaining: 1.93s\n",
      "133:\tlearn: 2575.7979423\ttotal: 3.85s\tremaining: 1.9s\n",
      "134:\tlearn: 2570.4786942\ttotal: 3.88s\tremaining: 1.87s\n",
      "135:\tlearn: 2565.0787034\ttotal: 3.91s\tremaining: 1.84s\n",
      "136:\tlearn: 2559.7406345\ttotal: 3.94s\tremaining: 1.81s\n",
      "137:\tlearn: 2554.3205718\ttotal: 3.97s\tremaining: 1.78s\n",
      "138:\tlearn: 2549.4678787\ttotal: 4s\tremaining: 1.75s\n",
      "139:\tlearn: 2544.1750982\ttotal: 4.02s\tremaining: 1.72s\n",
      "140:\tlearn: 2539.0762924\ttotal: 4.05s\tremaining: 1.69s\n",
      "141:\tlearn: 2534.1639910\ttotal: 4.08s\tremaining: 1.67s\n",
      "142:\tlearn: 2529.0991355\ttotal: 4.11s\tremaining: 1.64s\n",
      "143:\tlearn: 2524.2275486\ttotal: 4.14s\tremaining: 1.61s\n",
      "144:\tlearn: 2519.4166127\ttotal: 4.17s\tremaining: 1.58s\n",
      "145:\tlearn: 2514.6220983\ttotal: 4.19s\tremaining: 1.55s\n",
      "146:\tlearn: 2509.9763480\ttotal: 4.22s\tremaining: 1.52s\n",
      "147:\tlearn: 2505.2841421\ttotal: 4.24s\tremaining: 1.49s\n",
      "148:\tlearn: 2500.7562543\ttotal: 4.27s\tremaining: 1.46s\n",
      "149:\tlearn: 2496.2547170\ttotal: 4.3s\tremaining: 1.43s\n",
      "150:\tlearn: 2491.8753291\ttotal: 4.33s\tremaining: 1.4s\n",
      "151:\tlearn: 2487.5711962\ttotal: 4.36s\tremaining: 1.38s\n",
      "152:\tlearn: 2483.0799390\ttotal: 4.39s\tremaining: 1.35s\n",
      "153:\tlearn: 2478.7184948\ttotal: 4.42s\tremaining: 1.32s\n",
      "154:\tlearn: 2474.5075044\ttotal: 4.44s\tremaining: 1.29s\n",
      "155:\tlearn: 2469.9589394\ttotal: 4.47s\tremaining: 1.26s\n",
      "156:\tlearn: 2465.8055121\ttotal: 4.5s\tremaining: 1.23s\n",
      "157:\tlearn: 2461.7680660\ttotal: 4.53s\tremaining: 1.2s\n",
      "158:\tlearn: 2457.7797473\ttotal: 4.56s\tremaining: 1.18s\n",
      "159:\tlearn: 2453.6466008\ttotal: 4.59s\tremaining: 1.15s\n",
      "160:\tlearn: 2449.4662204\ttotal: 4.62s\tremaining: 1.12s\n",
      "161:\tlearn: 2445.4330996\ttotal: 4.65s\tremaining: 1.09s\n",
      "162:\tlearn: 2441.6572080\ttotal: 4.68s\tremaining: 1.06s\n",
      "163:\tlearn: 2437.5472969\ttotal: 4.7s\tremaining: 1.03s\n",
      "164:\tlearn: 2433.7115970\ttotal: 4.73s\tremaining: 1s\n",
      "165:\tlearn: 2429.9342597\ttotal: 4.76s\tremaining: 975ms\n",
      "166:\tlearn: 2426.1741000\ttotal: 4.79s\tremaining: 946ms\n",
      "167:\tlearn: 2422.3758529\ttotal: 4.81s\tremaining: 917ms\n",
      "168:\tlearn: 2418.6748780\ttotal: 4.84s\tremaining: 888ms\n",
      "169:\tlearn: 2415.1168488\ttotal: 4.87s\tremaining: 859ms\n",
      "170:\tlearn: 2411.7030171\ttotal: 4.9s\tremaining: 831ms\n",
      "171:\tlearn: 2408.0387025\ttotal: 4.93s\tremaining: 802ms\n",
      "172:\tlearn: 2404.4874928\ttotal: 4.96s\tremaining: 774ms\n",
      "173:\tlearn: 2401.0214711\ttotal: 4.99s\tremaining: 745ms\n",
      "174:\tlearn: 2397.5590142\ttotal: 5.02s\tremaining: 717ms\n",
      "175:\tlearn: 2394.2019690\ttotal: 5.04s\tremaining: 687ms\n",
      "176:\tlearn: 2390.9123466\ttotal: 5.07s\tremaining: 659ms\n",
      "177:\tlearn: 2387.6003989\ttotal: 5.1s\tremaining: 630ms\n",
      "178:\tlearn: 2384.2781901\ttotal: 5.12s\tremaining: 601ms\n",
      "179:\tlearn: 2381.0968011\ttotal: 5.15s\tremaining: 573ms\n",
      "180:\tlearn: 2377.9441018\ttotal: 5.18s\tremaining: 544ms\n",
      "181:\tlearn: 2374.6150088\ttotal: 5.21s\tremaining: 516ms\n",
      "182:\tlearn: 2371.3572208\ttotal: 5.24s\tremaining: 487ms\n",
      "183:\tlearn: 2368.1096009\ttotal: 5.27s\tremaining: 458ms\n",
      "184:\tlearn: 2365.1324022\ttotal: 5.3s\tremaining: 429ms\n",
      "185:\tlearn: 2361.8098785\ttotal: 5.33s\tremaining: 401ms\n",
      "186:\tlearn: 2358.6804308\ttotal: 5.35s\tremaining: 372ms\n",
      "187:\tlearn: 2355.7697960\ttotal: 5.38s\tremaining: 344ms\n",
      "188:\tlearn: 2352.6378399\ttotal: 5.41s\tremaining: 315ms\n",
      "189:\tlearn: 2349.5909676\ttotal: 5.44s\tremaining: 286ms\n",
      "190:\tlearn: 2346.7827575\ttotal: 5.47s\tremaining: 258ms\n",
      "191:\tlearn: 2343.9565096\ttotal: 5.5s\tremaining: 229ms\n",
      "192:\tlearn: 2341.1392114\ttotal: 5.53s\tremaining: 201ms\n",
      "193:\tlearn: 2338.4544522\ttotal: 5.56s\tremaining: 172ms\n",
      "194:\tlearn: 2335.6584650\ttotal: 5.58s\tremaining: 143ms\n",
      "195:\tlearn: 2332.9796438\ttotal: 5.61s\tremaining: 115ms\n",
      "196:\tlearn: 2330.3628999\ttotal: 5.64s\tremaining: 85.9ms\n",
      "197:\tlearn: 2327.8060645\ttotal: 5.67s\tremaining: 57.3ms\n",
      "198:\tlearn: 2325.2000238\ttotal: 5.7s\tremaining: 28.6ms\n",
      "199:\tlearn: 2322.4931808\ttotal: 5.72s\tremaining: 0us\n",
      "RMSE: 2311.832039802625\n",
      "\n",
      "\n",
      "Best depth: 8\n",
      "\n",
      "\n",
      "Best RMSE: 2311.832039802625\n",
      "\n",
      "\n",
      "CPU times: user 1min 11s, sys: 172 ms, total: 1min 11s\n",
      "Wall time: 1min 14s\n"
     ]
    }
   ],
   "source": [
    "%%time\n",
    "print('\\n')\n",
    "\n",
    "# Define the parameter grid\n",
    "param_grid = {\n",
    "    'depth': [4, 6, 8],  # This is an example range of depths to test\n",
    "    'iterations': [200],\n",
    "    'learning_rate': [0.01],\n",
    "    'l2_leaf_reg': [3],\n",
    "    'loss_function': ['RMSE']\n",
    "}\n",
    "\n",
    "# Initialize the CatBoost Regressor\n",
    "catboost_model = CatBoostRegressor()\n",
    "\n",
    "# Initialize GridSearchCV with the defined parameter grid\n",
    "grid_search = GridSearchCV(estimator=catboost_model, param_grid=param_grid, scoring='neg_mean_squared_error', cv=5)\n",
    "\n",
    "# Fit GridSearchCV to the training data\n",
    "grid_search.fit(features_train, target_train)\n",
    "\n",
    "# Get the best parameters from the grid search\n",
    "best_params = grid_search.best_params_\n",
    "best_depth = best_params['depth']\n",
    "\n",
    "# Print out the best depth found by GridSearchCV\n",
    "print(f\"Best depth: {best_depth}\")\n",
    "\n",
    "# Train a CatBoostRegressor with the best parameters\n",
    "catboost_model = CatBoostRegressor(**best_params)\n",
    "catboost_model.fit(features_train, target_train)\n",
    "\n",
    "# Make predictions on the test data\n",
    "cat_predictions = catboost_model.predict(features_test)\n",
    "\n",
    "# Calculate RMSE (root mean squared error) of the predictions\n",
    "rmse = np.sqrt(mean_squared_error(target_test, cat_predictions))\n",
    "print(f\"RMSE: {rmse}\")\n",
    "\n",
    "# Update and print the best RMSE\n",
    "best_rmse = float('inf')\n",
    "if rmse < best_rmse:\n",
    "    best_rmse = rmse\n",
    "    \n",
    "# Print out the best depth found by GridSearchCV\n",
    "print('\\n')\n",
    "print(f\"Best depth: {best_depth}\")\n",
    "\n",
    "print('\\n')\n",
    "print(f\"Best RMSE: {best_rmse}\")\n",
    "\n",
    "print('\\n')"
   ]
  },
  {
   "cell_type": "markdown",
   "metadata": {},
   "source": [
    "<span style=\"color: #5A9BD5; font-size: 16px;\">XGB Regressor:</span>"
   ]
  },
  {
   "cell_type": "code",
   "execution_count": 62,
   "metadata": {},
   "outputs": [
    {
     "name": "stdout",
     "output_type": "stream",
     "text": [
      "\n",
      "\n",
      "RMSE for XGBoost: 1787.8948759871791\n",
      "\n",
      "\n",
      "CPU times: user 1min 5s, sys: 64.4 ms, total: 1min 5s\n",
      "Wall time: 1min 5s\n"
     ]
    }
   ],
   "source": [
    "%%time\n",
    "print('\\n')\n",
    "xgb_model = XGBRegressor()\n",
    "xgb_model.fit(features_train, target_train)\n",
    "xgb_predictions = xgb_model.predict(features_test)\n",
    "\n",
    "#RMSE (root mean squared error)\n",
    "rmse = np.sqrt(mean_squared_error(target_test, xgb_predictions))\n",
    "print(f\"RMSE for XGBoost: {rmse}\")\n",
    "\n",
    "print('\\n')"
   ]
  },
  {
   "cell_type": "markdown",
   "metadata": {},
   "source": [
    "<div class=\"alert alert-block alert-success\">\n",
    "<b>Reviewer's comment</b> <a class=\"tocSkip\"></a>\n",
    "\n",
    "Well done!\n",
    "</div>"
   ]
  },
  {
   "cell_type": "markdown",
   "metadata": {},
   "source": [
    "## Model analysis"
   ]
  },
  {
   "cell_type": "markdown",
   "metadata": {},
   "source": [
    "Root Mean Squared Error (RMSE) is a commonly used metric to evaluate the performance of regression models. It measures the average magnitude of the errors between predicted and actual values, with a lower RMSE indicating better model performance.\n",
    "<br>\n",
    "<br>\n",
    "Linear Regression <b>RMSE score : 3203</b>\n",
    "<br>\n",
    "Decision Tree <b>RMSE score : 2070.54538</b>, Best Depth : 13\n",
    "<br>\n",
    "<br>\n",
    "\n",
    "Random Forest Regressor <b>best RMSE score : 1833.51435</b>, Best Depth : 14\n",
    "<br>\n",
    "LGBM Average <b>RMSE: 2005.5916079760002</b>\n",
    "<br>\n",
    "<br>\n",
    "    \n",
    "Cat Boost Regressor : <b>Best RMSE: 2311.832039802625</b>, Best depth: 8\n",
    "<br>\n",
    "XGBoost <b>RMSE : 1787.8948759871791</b>\n",
    "    \n",
    "<br>\n",
    "<br>\n",
    "Better Performing Models: Among the models, XGBoost has the lowest RMSE of 1787.89, indicating that it is the best performing model on this dataset in terms of prediction accuracy. This is followed by Random Forest with an RMSE of 1833.51.\n",
    "<br>\n",
    "<br>\n",
    "Tree-Based Models Perform Better: Decision Tree, Random Forest, XGBoost, and LGBM, which are all tree-based models, significantly outperform Linear Regression. This suggests that the relationship between the features and the target variable may not be linear, and tree-based methods are capturing this complex structure more effectively.\n",
    "<br>\n",
    "<br>\n",
    "Overall, XGBoost and Random Forest are the most promising models."
   ]
  },
  {
   "cell_type": "markdown",
   "metadata": {},
   "source": [
    "<div class=\"alert alert-block alert-success\">\n",
    "<b>Reviewer's comment</b> <a class=\"tocSkip\"></a>\n",
    "\n",
    "Great final conclusion!\n",
    "</div>"
   ]
  },
  {
   "cell_type": "markdown",
   "metadata": {},
   "source": [
    "# Checklist"
   ]
  },
  {
   "cell_type": "markdown",
   "metadata": {},
   "source": [
    "Type 'x' to check. Then press Shift+Enter."
   ]
  },
  {
   "cell_type": "markdown",
   "metadata": {},
   "source": [
    "- [x]  Jupyter Notebook is open\n",
    "- [x]  Code is error free\n",
    "- [x]  The cells with the code have been arranged in order of execution\n",
    "- [x]  The data has been downloaded and prepared\n",
    "- [x]  The models have been trained\n",
    "- [x]  The analysis of speed and quality of the models has been performed"
   ]
  }
 ],
 "metadata": {
  "ExecuteTimeLog": [
   {
    "duration": 9,
    "start_time": "2024-11-08T18:24:47.262Z"
   },
   {
    "duration": 2,
    "start_time": "2024-11-08T19:48:28.995Z"
   },
   {
    "duration": 818,
    "start_time": "2024-11-08T19:51:44.809Z"
   },
   {
    "duration": 2,
    "start_time": "2024-11-08T19:53:06.132Z"
   },
   {
    "duration": 3,
    "start_time": "2024-11-08T19:53:15.650Z"
   },
   {
    "duration": 616,
    "start_time": "2024-11-08T19:53:17.542Z"
   },
   {
    "duration": 494,
    "start_time": "2024-11-08T19:53:30.320Z"
   },
   {
    "duration": 3,
    "start_time": "2024-11-08T20:47:09.524Z"
   },
   {
    "duration": 5,
    "start_time": "2024-11-08T20:47:11.276Z"
   },
   {
    "duration": 3,
    "start_time": "2024-11-08T20:47:46.516Z"
   },
   {
    "duration": 3,
    "start_time": "2024-11-08T20:48:04.425Z"
   },
   {
    "duration": 2,
    "start_time": "2024-11-08T20:52:13.734Z"
   },
   {
    "duration": 3,
    "start_time": "2024-11-08T20:52:35.282Z"
   },
   {
    "duration": 412,
    "start_time": "2024-11-08T20:52:35.917Z"
   },
   {
    "duration": 3,
    "start_time": "2024-11-08T20:52:37.806Z"
   },
   {
    "duration": 3,
    "start_time": "2024-11-08T20:52:50.058Z"
   },
   {
    "duration": 3,
    "start_time": "2024-11-08T20:52:53.699Z"
   },
   {
    "duration": 6,
    "start_time": "2024-11-08T20:53:28.217Z"
   },
   {
    "duration": 13,
    "start_time": "2024-11-08T20:55:06.293Z"
   },
   {
    "duration": 2,
    "start_time": "2024-11-08T20:55:51.884Z"
   },
   {
    "duration": 407,
    "start_time": "2024-11-08T20:55:51.891Z"
   },
   {
    "duration": 3,
    "start_time": "2024-11-08T20:55:52.301Z"
   },
   {
    "duration": 3,
    "start_time": "2024-11-08T20:55:54.285Z"
   },
   {
    "duration": 2,
    "start_time": "2024-11-08T20:55:54.802Z"
   },
   {
    "duration": 3,
    "start_time": "2024-11-08T20:55:55.510Z"
   },
   {
    "duration": 4,
    "start_time": "2024-11-08T20:55:55.931Z"
   },
   {
    "duration": 12,
    "start_time": "2024-11-08T20:55:56.610Z"
   },
   {
    "duration": 11,
    "start_time": "2024-11-08T20:57:06.184Z"
   },
   {
    "duration": 96,
    "start_time": "2024-11-08T20:57:11.207Z"
   },
   {
    "duration": 753,
    "start_time": "2024-11-08T22:29:18.127Z"
   },
   {
    "duration": 463,
    "start_time": "2024-11-08T22:29:18.895Z"
   },
   {
    "duration": 3,
    "start_time": "2024-11-08T22:29:26.891Z"
   },
   {
    "duration": 3,
    "start_time": "2024-11-08T22:29:27.391Z"
   },
   {
    "duration": 3,
    "start_time": "2024-11-08T22:29:27.720Z"
   },
   {
    "duration": 4,
    "start_time": "2024-11-08T22:29:28.244Z"
   },
   {
    "duration": 93,
    "start_time": "2024-11-08T22:29:30.190Z"
   },
   {
    "duration": 2,
    "start_time": "2024-11-08T22:29:56.671Z"
   },
   {
    "duration": 1258,
    "start_time": "2024-11-08T22:32:44.217Z"
   },
   {
    "duration": 2,
    "start_time": "2024-11-08T22:34:39.819Z"
   },
   {
    "duration": 3,
    "start_time": "2024-11-08T22:34:41.816Z"
   },
   {
    "duration": 4,
    "start_time": "2024-11-08T22:35:14.284Z"
   },
   {
    "duration": 3,
    "start_time": "2024-11-08T22:37:31.440Z"
   },
   {
    "duration": 3,
    "start_time": "2024-11-08T22:37:31.994Z"
   },
   {
    "duration": 4,
    "start_time": "2024-11-08T22:37:32.508Z"
   },
   {
    "duration": 73,
    "start_time": "2024-11-08T22:37:33.987Z"
   },
   {
    "duration": 2,
    "start_time": "2024-11-08T22:38:30.735Z"
   },
   {
    "duration": 401,
    "start_time": "2024-11-08T22:38:30.741Z"
   },
   {
    "duration": 5,
    "start_time": "2024-11-08T22:38:31.144Z"
   },
   {
    "duration": 3,
    "start_time": "2024-11-08T22:38:32.523Z"
   },
   {
    "duration": 5,
    "start_time": "2024-11-08T22:38:33.094Z"
   },
   {
    "duration": 2,
    "start_time": "2024-11-08T22:39:01.920Z"
   },
   {
    "duration": 4,
    "start_time": "2024-11-08T22:39:03.998Z"
   },
   {
    "duration": 93,
    "start_time": "2024-11-08T22:39:06.018Z"
   },
   {
    "duration": 2,
    "start_time": "2024-11-08T22:39:11.018Z"
   },
   {
    "duration": 1269,
    "start_time": "2024-11-08T22:39:11.367Z"
   },
   {
    "duration": 617,
    "start_time": "2024-11-08T22:39:12.637Z"
   },
   {
    "duration": 5,
    "start_time": "2024-11-08T22:39:14.625Z"
   },
   {
    "duration": 4,
    "start_time": "2024-11-08T22:42:24.753Z"
   },
   {
    "duration": 5,
    "start_time": "2024-11-08T22:44:27.186Z"
   },
   {
    "duration": 5,
    "start_time": "2024-11-08T22:45:49.404Z"
   },
   {
    "duration": 5,
    "start_time": "2024-11-08T22:46:58.613Z"
   },
   {
    "duration": 13,
    "start_time": "2024-11-08T22:48:30.691Z"
   },
   {
    "duration": 12,
    "start_time": "2024-11-08T22:48:38.188Z"
   },
   {
    "duration": 4,
    "start_time": "2024-11-08T22:48:45.469Z"
   },
   {
    "duration": 378,
    "start_time": "2024-11-08T22:48:45.478Z"
   },
   {
    "duration": 5,
    "start_time": "2024-11-08T22:48:45.858Z"
   },
   {
    "duration": 6,
    "start_time": "2024-11-08T22:48:45.865Z"
   },
   {
    "duration": 0,
    "start_time": "2024-11-08T22:48:45.873Z"
   },
   {
    "duration": 0,
    "start_time": "2024-11-08T22:48:45.874Z"
   },
   {
    "duration": 0,
    "start_time": "2024-11-08T22:48:45.875Z"
   },
   {
    "duration": 0,
    "start_time": "2024-11-08T22:48:45.876Z"
   },
   {
    "duration": 0,
    "start_time": "2024-11-08T22:48:45.876Z"
   },
   {
    "duration": 0,
    "start_time": "2024-11-08T22:48:45.877Z"
   },
   {
    "duration": 39,
    "start_time": "2024-11-08T22:48:55.353Z"
   },
   {
    "duration": 39,
    "start_time": "2024-11-08T22:49:16.878Z"
   },
   {
    "duration": 720,
    "start_time": "2024-11-08T22:52:55.366Z"
   },
   {
    "duration": 431,
    "start_time": "2024-11-08T22:52:56.088Z"
   },
   {
    "duration": 3,
    "start_time": "2024-11-08T22:52:56.521Z"
   },
   {
    "duration": 4,
    "start_time": "2024-11-08T22:52:56.526Z"
   },
   {
    "duration": 0,
    "start_time": "2024-11-08T22:52:56.531Z"
   },
   {
    "duration": 0,
    "start_time": "2024-11-08T22:52:56.534Z"
   },
   {
    "duration": 0,
    "start_time": "2024-11-08T22:52:56.535Z"
   },
   {
    "duration": 0,
    "start_time": "2024-11-08T22:52:56.537Z"
   },
   {
    "duration": 2,
    "start_time": "2024-11-08T22:52:58.622Z"
   },
   {
    "duration": 1238,
    "start_time": "2024-11-08T22:52:59.330Z"
   },
   {
    "duration": 619,
    "start_time": "2024-11-08T22:53:01.098Z"
   },
   {
    "duration": 3,
    "start_time": "2024-11-08T22:53:19.748Z"
   },
   {
    "duration": 4,
    "start_time": "2024-11-08T22:53:20.756Z"
   },
   {
    "duration": 4,
    "start_time": "2024-11-08T22:53:21.208Z"
   },
   {
    "duration": 65,
    "start_time": "2024-11-08T22:53:24.196Z"
   },
   {
    "duration": 2,
    "start_time": "2024-11-08T22:53:24.621Z"
   },
   {
    "duration": 28,
    "start_time": "2024-11-08T22:53:27.271Z"
   },
   {
    "duration": 5,
    "start_time": "2024-11-08T22:53:28.282Z"
   },
   {
    "duration": 13,
    "start_time": "2024-11-08T22:54:25.812Z"
   },
   {
    "duration": 14,
    "start_time": "2024-11-08T22:54:30.980Z"
   },
   {
    "duration": 28,
    "start_time": "2024-11-08T22:56:38.636Z"
   },
   {
    "duration": 4,
    "start_time": "2024-11-08T23:01:18.446Z"
   },
   {
    "duration": 13,
    "start_time": "2024-11-08T23:02:52.896Z"
   },
   {
    "duration": 13,
    "start_time": "2024-11-08T23:02:59.996Z"
   },
   {
    "duration": 14,
    "start_time": "2024-11-08T23:03:04.521Z"
   },
   {
    "duration": 40,
    "start_time": "2024-11-08T23:03:11.418Z"
   },
   {
    "duration": 24,
    "start_time": "2024-11-08T23:03:26.774Z"
   },
   {
    "duration": 29,
    "start_time": "2024-11-08T23:05:00.397Z"
   },
   {
    "duration": 3,
    "start_time": "2024-11-08T23:10:35.700Z"
   },
   {
    "duration": 400,
    "start_time": "2024-11-08T23:10:35.707Z"
   },
   {
    "duration": 3,
    "start_time": "2024-11-08T23:10:36.109Z"
   },
   {
    "duration": 3,
    "start_time": "2024-11-08T23:10:36.114Z"
   },
   {
    "duration": 3,
    "start_time": "2024-11-08T23:10:36.118Z"
   },
   {
    "duration": 4,
    "start_time": "2024-11-08T23:10:36.123Z"
   },
   {
    "duration": 111,
    "start_time": "2024-11-08T23:10:36.128Z"
   },
   {
    "duration": 3,
    "start_time": "2024-11-08T23:10:36.241Z"
   },
   {
    "duration": 1272,
    "start_time": "2024-11-08T23:10:36.246Z"
   },
   {
    "duration": 24,
    "start_time": "2024-11-08T23:10:37.520Z"
   },
   {
    "duration": 26,
    "start_time": "2024-11-08T23:10:40.978Z"
   },
   {
    "duration": 2,
    "start_time": "2024-11-08T23:10:44.053Z"
   },
   {
    "duration": 14,
    "start_time": "2024-11-08T23:10:44.694Z"
   },
   {
    "duration": 17,
    "start_time": "2024-11-08T23:10:54.127Z"
   },
   {
    "duration": 27,
    "start_time": "2024-11-08T23:10:59.240Z"
   },
   {
    "duration": 27,
    "start_time": "2024-11-08T23:11:23.672Z"
   },
   {
    "duration": 26,
    "start_time": "2024-11-08T23:16:39.399Z"
   },
   {
    "duration": 5,
    "start_time": "2024-11-08T23:16:40.939Z"
   },
   {
    "duration": 64,
    "start_time": "2024-11-08T23:19:55.648Z"
   },
   {
    "duration": 12,
    "start_time": "2024-11-08T23:20:19.502Z"
   },
   {
    "duration": 58,
    "start_time": "2024-11-08T23:20:23.040Z"
   },
   {
    "duration": 57,
    "start_time": "2024-11-08T23:32:01.055Z"
   },
   {
    "duration": 16,
    "start_time": "2024-11-08T23:33:11.743Z"
   },
   {
    "duration": 15,
    "start_time": "2024-11-08T23:33:16.221Z"
   },
   {
    "duration": 26,
    "start_time": "2024-11-08T23:33:21.139Z"
   },
   {
    "duration": 5,
    "start_time": "2024-11-08T23:41:38.903Z"
   },
   {
    "duration": 24,
    "start_time": "2024-11-08T23:42:02.301Z"
   },
   {
    "duration": 6,
    "start_time": "2024-11-08T23:46:33.760Z"
   },
   {
    "duration": 6,
    "start_time": "2024-11-08T23:52:00.645Z"
   },
   {
    "duration": 17,
    "start_time": "2024-11-08T23:52:12.899Z"
   },
   {
    "duration": 6,
    "start_time": "2024-11-08T23:52:59.583Z"
   },
   {
    "duration": 2,
    "start_time": "2024-11-08T23:54:13.499Z"
   },
   {
    "duration": 388,
    "start_time": "2024-11-08T23:54:13.508Z"
   },
   {
    "duration": 5,
    "start_time": "2024-11-08T23:54:13.898Z"
   },
   {
    "duration": 2,
    "start_time": "2024-11-08T23:54:13.906Z"
   },
   {
    "duration": 3,
    "start_time": "2024-11-08T23:54:13.910Z"
   },
   {
    "duration": 4,
    "start_time": "2024-11-08T23:54:13.915Z"
   },
   {
    "duration": 115,
    "start_time": "2024-11-08T23:54:13.921Z"
   },
   {
    "duration": 3,
    "start_time": "2024-11-08T23:54:14.037Z"
   },
   {
    "duration": 1277,
    "start_time": "2024-11-08T23:54:14.042Z"
   },
   {
    "duration": 72,
    "start_time": "2024-11-08T23:54:15.320Z"
   },
   {
    "duration": 2,
    "start_time": "2024-11-08T23:54:15.394Z"
   },
   {
    "duration": 57,
    "start_time": "2024-11-08T23:54:15.397Z"
   },
   {
    "duration": 6,
    "start_time": "2024-11-08T23:54:17.244Z"
   },
   {
    "duration": 6,
    "start_time": "2024-11-08T23:56:54.467Z"
   },
   {
    "duration": 8,
    "start_time": "2024-11-08T23:57:51.895Z"
   },
   {
    "duration": 7,
    "start_time": "2024-11-08T23:58:51.527Z"
   },
   {
    "duration": 17,
    "start_time": "2024-11-09T00:00:20.073Z"
   },
   {
    "duration": 17,
    "start_time": "2024-11-09T00:00:35.670Z"
   },
   {
    "duration": 3,
    "start_time": "2024-11-09T00:02:10.502Z"
   },
   {
    "duration": 392,
    "start_time": "2024-11-09T00:02:10.509Z"
   },
   {
    "duration": 3,
    "start_time": "2024-11-09T00:02:10.903Z"
   },
   {
    "duration": 4,
    "start_time": "2024-11-09T00:02:10.907Z"
   },
   {
    "duration": 3,
    "start_time": "2024-11-09T00:02:10.912Z"
   },
   {
    "duration": 4,
    "start_time": "2024-11-09T00:02:10.918Z"
   },
   {
    "duration": 115,
    "start_time": "2024-11-09T00:02:10.924Z"
   },
   {
    "duration": 2,
    "start_time": "2024-11-09T00:02:11.041Z"
   },
   {
    "duration": 1255,
    "start_time": "2024-11-09T00:02:11.044Z"
   },
   {
    "duration": 66,
    "start_time": "2024-11-09T00:02:12.301Z"
   },
   {
    "duration": 16,
    "start_time": "2024-11-09T00:02:12.369Z"
   },
   {
    "duration": 58,
    "start_time": "2024-11-09T00:02:12.387Z"
   },
   {
    "duration": 7,
    "start_time": "2024-11-09T00:02:14.385Z"
   },
   {
    "duration": 774,
    "start_time": "2024-11-09T01:48:17.955Z"
   },
   {
    "duration": 560,
    "start_time": "2024-11-09T01:48:18.731Z"
   },
   {
    "duration": 3,
    "start_time": "2024-11-09T01:48:19.295Z"
   },
   {
    "duration": 4,
    "start_time": "2024-11-09T01:48:19.301Z"
   },
   {
    "duration": 7,
    "start_time": "2024-11-09T01:48:19.748Z"
   },
   {
    "duration": 9,
    "start_time": "2024-11-09T01:48:20.548Z"
   },
   {
    "duration": 144,
    "start_time": "2024-11-09T01:48:21.011Z"
   },
   {
    "duration": 4,
    "start_time": "2024-11-09T01:48:21.558Z"
   },
   {
    "duration": 1567,
    "start_time": "2024-11-09T01:48:22.192Z"
   },
   {
    "duration": 106,
    "start_time": "2024-11-09T01:48:23.760Z"
   },
   {
    "duration": 4,
    "start_time": "2024-11-09T01:48:24.792Z"
   },
   {
    "duration": 61,
    "start_time": "2024-11-09T01:48:25.259Z"
   },
   {
    "duration": 7,
    "start_time": "2024-11-09T01:48:27.191Z"
   },
   {
    "duration": 2915,
    "start_time": "2024-11-09T02:00:49.236Z"
   },
   {
    "duration": 5,
    "start_time": "2024-11-09T02:01:13.603Z"
   },
   {
    "duration": 4,
    "start_time": "2024-11-09T02:03:05.748Z"
   },
   {
    "duration": 511,
    "start_time": "2024-11-09T02:03:05.758Z"
   },
   {
    "duration": 3,
    "start_time": "2024-11-09T02:03:06.271Z"
   },
   {
    "duration": 4,
    "start_time": "2024-11-09T02:03:06.275Z"
   },
   {
    "duration": 3,
    "start_time": "2024-11-09T02:03:06.281Z"
   },
   {
    "duration": 5,
    "start_time": "2024-11-09T02:03:06.287Z"
   },
   {
    "duration": 151,
    "start_time": "2024-11-09T02:03:06.296Z"
   },
   {
    "duration": 7,
    "start_time": "2024-11-09T02:03:06.460Z"
   },
   {
    "duration": 1493,
    "start_time": "2024-11-09T02:03:06.469Z"
   },
   {
    "duration": 83,
    "start_time": "2024-11-09T02:03:07.964Z"
   },
   {
    "duration": 5,
    "start_time": "2024-11-09T02:03:08.051Z"
   },
   {
    "duration": 64,
    "start_time": "2024-11-09T02:03:08.063Z"
   },
   {
    "duration": 12,
    "start_time": "2024-11-09T02:03:08.128Z"
   },
   {
    "duration": 7,
    "start_time": "2024-11-09T02:03:16.496Z"
   },
   {
    "duration": 33,
    "start_time": "2024-11-09T02:03:17.850Z"
   },
   {
    "duration": 4,
    "start_time": "2024-11-09T02:03:18.702Z"
   },
   {
    "duration": 8,
    "start_time": "2024-11-09T02:03:42.049Z"
   },
   {
    "duration": 45,
    "start_time": "2024-11-09T02:04:01.411Z"
   },
   {
    "duration": 17,
    "start_time": "2024-11-09T02:04:01.779Z"
   },
   {
    "duration": 32,
    "start_time": "2024-11-09T02:04:02.617Z"
   },
   {
    "duration": 817,
    "start_time": "2024-11-09T02:04:24.660Z"
   },
   {
    "duration": 512,
    "start_time": "2024-11-09T02:04:25.480Z"
   },
   {
    "duration": 3,
    "start_time": "2024-11-09T02:04:25.994Z"
   },
   {
    "duration": 3,
    "start_time": "2024-11-09T02:04:25.999Z"
   },
   {
    "duration": 3,
    "start_time": "2024-11-09T02:04:26.004Z"
   },
   {
    "duration": 21,
    "start_time": "2024-11-09T02:04:26.008Z"
   },
   {
    "duration": 150,
    "start_time": "2024-11-09T02:04:26.036Z"
   },
   {
    "duration": 2,
    "start_time": "2024-11-09T02:04:26.187Z"
   },
   {
    "duration": 1569,
    "start_time": "2024-11-09T02:04:26.191Z"
   },
   {
    "duration": 72,
    "start_time": "2024-11-09T02:04:27.773Z"
   },
   {
    "duration": 2,
    "start_time": "2024-11-09T02:04:27.846Z"
   },
   {
    "duration": 85,
    "start_time": "2024-11-09T02:04:27.850Z"
   },
   {
    "duration": 59,
    "start_time": "2024-11-09T02:04:29.136Z"
   },
   {
    "duration": 8,
    "start_time": "2024-11-09T02:04:30.809Z"
   },
   {
    "duration": 33,
    "start_time": "2024-11-09T02:04:32.748Z"
   },
   {
    "duration": 21,
    "start_time": "2024-11-09T02:04:38.041Z"
   },
   {
    "duration": 7,
    "start_time": "2024-11-09T02:04:59.424Z"
   },
   {
    "duration": 465,
    "start_time": "2024-11-09T02:04:59.442Z"
   },
   {
    "duration": 2,
    "start_time": "2024-11-09T02:04:59.909Z"
   },
   {
    "duration": 14,
    "start_time": "2024-11-09T02:04:59.913Z"
   },
   {
    "duration": 12,
    "start_time": "2024-11-09T02:04:59.938Z"
   },
   {
    "duration": 6,
    "start_time": "2024-11-09T02:04:59.953Z"
   },
   {
    "duration": 110,
    "start_time": "2024-11-09T02:04:59.965Z"
   },
   {
    "duration": 3,
    "start_time": "2024-11-09T02:05:00.080Z"
   },
   {
    "duration": 1626,
    "start_time": "2024-11-09T02:05:00.085Z"
   },
   {
    "duration": 80,
    "start_time": "2024-11-09T02:05:01.713Z"
   },
   {
    "duration": 2,
    "start_time": "2024-11-09T02:05:01.797Z"
   },
   {
    "duration": 74,
    "start_time": "2024-11-09T02:05:01.801Z"
   },
   {
    "duration": 7,
    "start_time": "2024-11-09T02:05:01.877Z"
   },
   {
    "duration": 58,
    "start_time": "2024-11-09T02:05:01.885Z"
   },
   {
    "duration": 25,
    "start_time": "2024-11-09T02:05:04.294Z"
   },
   {
    "duration": 5,
    "start_time": "2024-11-09T02:05:06.656Z"
   },
   {
    "duration": 3,
    "start_time": "2024-11-09T02:07:11.586Z"
   },
   {
    "duration": 460,
    "start_time": "2024-11-09T02:07:11.591Z"
   },
   {
    "duration": 4,
    "start_time": "2024-11-09T02:07:12.053Z"
   },
   {
    "duration": 8,
    "start_time": "2024-11-09T02:07:12.059Z"
   },
   {
    "duration": 3,
    "start_time": "2024-11-09T02:07:12.070Z"
   },
   {
    "duration": 4,
    "start_time": "2024-11-09T02:07:12.075Z"
   },
   {
    "duration": 114,
    "start_time": "2024-11-09T02:07:12.081Z"
   },
   {
    "duration": 2,
    "start_time": "2024-11-09T02:07:12.197Z"
   },
   {
    "duration": 1550,
    "start_time": "2024-11-09T02:07:12.201Z"
   },
   {
    "duration": 75,
    "start_time": "2024-11-09T02:07:13.752Z"
   },
   {
    "duration": 23,
    "start_time": "2024-11-09T02:07:13.828Z"
   },
   {
    "duration": 61,
    "start_time": "2024-11-09T02:07:13.856Z"
   },
   {
    "duration": 12,
    "start_time": "2024-11-09T02:07:14.848Z"
   },
   {
    "duration": 8,
    "start_time": "2024-11-09T02:08:32.676Z"
   },
   {
    "duration": 3,
    "start_time": "2024-11-09T02:08:46.757Z"
   },
   {
    "duration": 425,
    "start_time": "2024-11-09T02:08:46.765Z"
   },
   {
    "duration": 3,
    "start_time": "2024-11-09T02:08:47.192Z"
   },
   {
    "duration": 5,
    "start_time": "2024-11-09T02:08:47.197Z"
   },
   {
    "duration": 3,
    "start_time": "2024-11-09T02:08:47.204Z"
   },
   {
    "duration": 36,
    "start_time": "2024-11-09T02:08:47.211Z"
   },
   {
    "duration": 119,
    "start_time": "2024-11-09T02:08:47.264Z"
   },
   {
    "duration": 3,
    "start_time": "2024-11-09T02:08:47.384Z"
   },
   {
    "duration": 1586,
    "start_time": "2024-11-09T02:08:47.388Z"
   },
   {
    "duration": 97,
    "start_time": "2024-11-09T02:08:48.978Z"
   },
   {
    "duration": 2,
    "start_time": "2024-11-09T02:08:49.076Z"
   },
   {
    "duration": 88,
    "start_time": "2024-11-09T02:08:49.080Z"
   },
   {
    "duration": 12,
    "start_time": "2024-11-09T02:08:49.439Z"
   },
   {
    "duration": 15,
    "start_time": "2024-11-09T02:09:07.920Z"
   },
   {
    "duration": 28,
    "start_time": "2024-11-09T02:09:18.165Z"
   },
   {
    "duration": 6,
    "start_time": "2024-11-09T02:09:23.912Z"
   },
   {
    "duration": 753,
    "start_time": "2024-11-09T23:55:40.079Z"
   },
   {
    "duration": 484,
    "start_time": "2024-11-09T23:55:44.027Z"
   },
   {
    "duration": 4,
    "start_time": "2024-11-09T23:55:49.246Z"
   },
   {
    "duration": 3,
    "start_time": "2024-11-09T23:55:49.956Z"
   },
   {
    "duration": 3,
    "start_time": "2024-11-09T23:55:50.356Z"
   },
   {
    "duration": 4,
    "start_time": "2024-11-09T23:55:50.784Z"
   },
   {
    "duration": 100,
    "start_time": "2024-11-09T23:55:51.759Z"
   },
   {
    "duration": 2,
    "start_time": "2024-11-09T23:55:52.325Z"
   },
   {
    "duration": 1280,
    "start_time": "2024-11-09T23:56:03.128Z"
   },
   {
    "duration": 69,
    "start_time": "2024-11-09T23:56:04.409Z"
   },
   {
    "duration": 2,
    "start_time": "2024-11-09T23:56:10.270Z"
   },
   {
    "duration": 58,
    "start_time": "2024-11-09T23:56:11.077Z"
   },
   {
    "duration": 7,
    "start_time": "2024-11-09T23:56:17.249Z"
   },
   {
    "duration": 29,
    "start_time": "2024-11-09T23:56:24.508Z"
   },
   {
    "duration": 8,
    "start_time": "2024-11-09T23:56:25.209Z"
   },
   {
    "duration": 6,
    "start_time": "2024-11-09T23:56:38.148Z"
   },
   {
    "duration": 25,
    "start_time": "2024-11-09T23:56:50.809Z"
   },
   {
    "duration": 17,
    "start_time": "2024-11-09T23:56:53.153Z"
   },
   {
    "duration": 29,
    "start_time": "2024-11-09T23:56:53.859Z"
   },
   {
    "duration": 2,
    "start_time": "2024-11-09T23:59:16.246Z"
   },
   {
    "duration": 392,
    "start_time": "2024-11-09T23:59:16.977Z"
   },
   {
    "duration": 3,
    "start_time": "2024-11-09T23:59:18.111Z"
   },
   {
    "duration": 2,
    "start_time": "2024-11-09T23:59:19.117Z"
   },
   {
    "duration": 2,
    "start_time": "2024-11-09T23:59:21.048Z"
   },
   {
    "duration": 3,
    "start_time": "2024-11-09T23:59:21.710Z"
   },
   {
    "duration": 96,
    "start_time": "2024-11-09T23:59:23.028Z"
   },
   {
    "duration": 3,
    "start_time": "2024-11-10T00:21:29.300Z"
   },
   {
    "duration": 1236,
    "start_time": "2024-11-10T00:21:29.725Z"
   },
   {
    "duration": 70,
    "start_time": "2024-11-10T00:21:30.963Z"
   },
   {
    "duration": 2,
    "start_time": "2024-11-10T00:21:44.614Z"
   },
   {
    "duration": 5,
    "start_time": "2024-11-10T00:21:46.113Z"
   },
   {
    "duration": 55,
    "start_time": "2024-11-10T00:22:00.314Z"
   },
   {
    "duration": 2,
    "start_time": "2024-11-10T00:23:14.785Z"
   },
   {
    "duration": 380,
    "start_time": "2024-11-10T00:23:24.695Z"
   },
   {
    "duration": 3,
    "start_time": "2024-11-10T00:23:31.595Z"
   },
   {
    "duration": 3,
    "start_time": "2024-11-10T00:23:32.413Z"
   },
   {
    "duration": 3,
    "start_time": "2024-11-10T00:23:39.204Z"
   },
   {
    "duration": 4,
    "start_time": "2024-11-10T00:23:40.686Z"
   },
   {
    "duration": 110,
    "start_time": "2024-11-10T00:23:47.256Z"
   },
   {
    "duration": 233,
    "start_time": "2024-11-10T00:26:21.731Z"
   },
   {
    "duration": 14,
    "start_time": "2024-11-10T00:26:44.545Z"
   },
   {
    "duration": 2,
    "start_time": "2024-11-10T00:27:38.547Z"
   },
   {
    "duration": 386,
    "start_time": "2024-11-10T00:27:42.295Z"
   },
   {
    "duration": 3,
    "start_time": "2024-11-10T00:27:50.995Z"
   },
   {
    "duration": 2,
    "start_time": "2024-11-10T00:28:12.970Z"
   },
   {
    "duration": 3,
    "start_time": "2024-11-10T00:28:13.795Z"
   },
   {
    "duration": 3,
    "start_time": "2024-11-10T00:28:14.286Z"
   },
   {
    "duration": 3,
    "start_time": "2024-11-10T00:28:15.405Z"
   },
   {
    "duration": 3,
    "start_time": "2024-11-10T00:28:38.614Z"
   },
   {
    "duration": 3,
    "start_time": "2024-11-10T00:28:39.315Z"
   },
   {
    "duration": 3,
    "start_time": "2024-11-10T00:28:40.033Z"
   },
   {
    "duration": 3,
    "start_time": "2024-11-10T00:28:40.554Z"
   },
   {
    "duration": 91,
    "start_time": "2024-11-10T00:28:41.513Z"
   },
   {
    "duration": 2,
    "start_time": "2024-11-10T00:29:26.464Z"
   },
   {
    "duration": 1528,
    "start_time": "2024-11-10T00:29:27.085Z"
   },
   {
    "duration": 82,
    "start_time": "2024-11-10T00:29:28.618Z"
   },
   {
    "duration": 2,
    "start_time": "2024-11-10T00:29:52.495Z"
   },
   {
    "duration": 2,
    "start_time": "2024-11-10T00:32:08.497Z"
   },
   {
    "duration": 23,
    "start_time": "2024-11-10T00:32:46.985Z"
   },
   {
    "duration": 2,
    "start_time": "2024-11-10T00:32:56.820Z"
   },
   {
    "duration": 413,
    "start_time": "2024-11-10T00:32:56.824Z"
   },
   {
    "duration": 2,
    "start_time": "2024-11-10T00:32:57.239Z"
   },
   {
    "duration": 3,
    "start_time": "2024-11-10T00:32:57.244Z"
   },
   {
    "duration": 3,
    "start_time": "2024-11-10T00:32:57.248Z"
   },
   {
    "duration": 5,
    "start_time": "2024-11-10T00:32:57.253Z"
   },
   {
    "duration": 121,
    "start_time": "2024-11-10T00:32:57.259Z"
   },
   {
    "duration": 2,
    "start_time": "2024-11-10T00:32:57.382Z"
   },
   {
    "duration": 1303,
    "start_time": "2024-11-10T00:32:57.387Z"
   },
   {
    "duration": 68,
    "start_time": "2024-11-10T00:32:58.692Z"
   },
   {
    "duration": 2,
    "start_time": "2024-11-10T00:32:58.762Z"
   },
   {
    "duration": 3,
    "start_time": "2024-11-10T00:32:58.765Z"
   },
   {
    "duration": 3,
    "start_time": "2024-11-10T00:33:02.884Z"
   },
   {
    "duration": 24,
    "start_time": "2024-11-10T00:33:04.847Z"
   },
   {
    "duration": 2123,
    "start_time": "2024-11-10T00:33:21.745Z"
   },
   {
    "duration": 1361,
    "start_time": "2024-11-10T00:33:29.825Z"
   },
   {
    "duration": 25,
    "start_time": "2024-11-10T00:34:32.946Z"
   },
   {
    "duration": 3,
    "start_time": "2024-11-10T00:35:43.105Z"
   },
   {
    "duration": 17,
    "start_time": "2024-11-10T00:36:43.197Z"
   },
   {
    "duration": 1465,
    "start_time": "2024-11-10T00:36:53.416Z"
   },
   {
    "duration": 21,
    "start_time": "2024-11-10T00:38:09.944Z"
   },
   {
    "duration": 25,
    "start_time": "2024-11-10T00:38:46.784Z"
   },
   {
    "duration": 25,
    "start_time": "2024-11-10T00:38:54.394Z"
   },
   {
    "duration": 24,
    "start_time": "2024-11-10T00:41:17.016Z"
   },
   {
    "duration": 25,
    "start_time": "2024-11-10T00:50:27.943Z"
   },
   {
    "duration": 16,
    "start_time": "2024-11-10T00:50:28.887Z"
   },
   {
    "duration": 25,
    "start_time": "2024-11-10T00:50:29.375Z"
   },
   {
    "duration": 410,
    "start_time": "2024-11-10T00:50:31.533Z"
   },
   {
    "duration": 15,
    "start_time": "2024-11-10T00:55:01.265Z"
   },
   {
    "duration": 113,
    "start_time": "2024-11-10T00:55:12.147Z"
   },
   {
    "duration": 54,
    "start_time": "2024-11-10T00:55:15.237Z"
   },
   {
    "duration": 4,
    "start_time": "2024-11-10T01:02:04.285Z"
   },
   {
    "duration": 2,
    "start_time": "2024-11-10T01:06:42.634Z"
   },
   {
    "duration": 376,
    "start_time": "2024-11-10T01:07:08.986Z"
   },
   {
    "duration": 3,
    "start_time": "2024-11-10T01:07:50.973Z"
   },
   {
    "duration": 3,
    "start_time": "2024-11-10T01:07:51.932Z"
   },
   {
    "duration": 3,
    "start_time": "2024-11-10T01:08:01.064Z"
   },
   {
    "duration": 4,
    "start_time": "2024-11-10T01:08:09.403Z"
   },
   {
    "duration": 91,
    "start_time": "2024-11-10T01:08:13.504Z"
   },
   {
    "duration": 1277,
    "start_time": "2024-11-10T01:08:36.343Z"
   },
   {
    "duration": 64,
    "start_time": "2024-11-10T01:08:38.516Z"
   },
   {
    "duration": 63,
    "start_time": "2024-11-10T01:09:22.355Z"
   },
   {
    "duration": 22,
    "start_time": "2024-11-10T01:10:12.125Z"
   },
   {
    "duration": 66,
    "start_time": "2024-11-10T01:10:16.954Z"
   },
   {
    "duration": 24,
    "start_time": "2024-11-10T01:10:49.476Z"
   },
   {
    "duration": 27,
    "start_time": "2024-11-10T01:11:36.034Z"
   },
   {
    "duration": 24,
    "start_time": "2024-11-10T01:11:53.954Z"
   },
   {
    "duration": 2,
    "start_time": "2024-11-10T01:27:44.958Z"
   },
   {
    "duration": 398,
    "start_time": "2024-11-10T01:27:44.962Z"
   },
   {
    "duration": 3,
    "start_time": "2024-11-10T01:27:45.362Z"
   },
   {
    "duration": 3,
    "start_time": "2024-11-10T01:27:45.367Z"
   },
   {
    "duration": 4,
    "start_time": "2024-11-10T01:27:45.371Z"
   },
   {
    "duration": 12,
    "start_time": "2024-11-10T01:27:45.377Z"
   },
   {
    "duration": 114,
    "start_time": "2024-11-10T01:27:45.391Z"
   },
   {
    "duration": 1219,
    "start_time": "2024-11-10T01:27:45.507Z"
   },
   {
    "duration": 64,
    "start_time": "2024-11-10T01:27:46.727Z"
   },
   {
    "duration": 32,
    "start_time": "2024-11-10T01:27:46.793Z"
   },
   {
    "duration": 27,
    "start_time": "2024-11-10T01:27:50.751Z"
   },
   {
    "duration": 26,
    "start_time": "2024-11-10T01:27:56.583Z"
   },
   {
    "duration": 4,
    "start_time": "2024-11-10T01:27:59.775Z"
   },
   {
    "duration": 23,
    "start_time": "2024-11-10T01:28:35.850Z"
   },
   {
    "duration": 25,
    "start_time": "2024-11-10T01:28:49.774Z"
   },
   {
    "duration": 4,
    "start_time": "2024-11-10T01:29:56.367Z"
   },
   {
    "duration": 24,
    "start_time": "2024-11-10T01:30:37.265Z"
   },
   {
    "duration": 112,
    "start_time": "2024-11-10T01:31:27.003Z"
   },
   {
    "duration": 57,
    "start_time": "2024-11-10T01:31:28.508Z"
   },
   {
    "duration": 69,
    "start_time": "2024-11-10T01:32:34.591Z"
   },
   {
    "duration": 55,
    "start_time": "2024-11-10T01:56:30.680Z"
   },
   {
    "duration": 24,
    "start_time": "2024-11-10T01:57:48.429Z"
   },
   {
    "duration": 15,
    "start_time": "2024-11-10T01:57:50.388Z"
   },
   {
    "duration": 25,
    "start_time": "2024-11-10T01:57:51.631Z"
   },
   {
    "duration": 3,
    "start_time": "2024-11-10T01:58:28.812Z"
   },
   {
    "duration": 405,
    "start_time": "2024-11-10T01:58:28.823Z"
   },
   {
    "duration": 3,
    "start_time": "2024-11-10T01:58:29.230Z"
   },
   {
    "duration": 2,
    "start_time": "2024-11-10T01:58:29.235Z"
   },
   {
    "duration": 3,
    "start_time": "2024-11-10T01:58:29.240Z"
   },
   {
    "duration": 13,
    "start_time": "2024-11-10T01:58:29.245Z"
   },
   {
    "duration": 122,
    "start_time": "2024-11-10T01:58:29.260Z"
   },
   {
    "duration": 1310,
    "start_time": "2024-11-10T01:58:29.383Z"
   },
   {
    "duration": 75,
    "start_time": "2024-11-10T01:58:30.696Z"
   },
   {
    "duration": 24,
    "start_time": "2024-11-10T01:58:30.773Z"
   },
   {
    "duration": 36,
    "start_time": "2024-11-10T01:58:30.800Z"
   },
   {
    "duration": 2,
    "start_time": "2024-11-10T01:58:30.838Z"
   },
   {
    "duration": 24,
    "start_time": "2024-11-10T01:58:30.842Z"
   },
   {
    "duration": 31,
    "start_time": "2024-11-10T01:58:30.868Z"
   },
   {
    "duration": 46,
    "start_time": "2024-11-10T01:58:30.901Z"
   },
   {
    "duration": 121,
    "start_time": "2024-11-10T01:58:30.949Z"
   },
   {
    "duration": 68,
    "start_time": "2024-11-10T01:58:31.072Z"
   },
   {
    "duration": 58,
    "start_time": "2024-11-10T01:58:35.642Z"
   },
   {
    "duration": 6,
    "start_time": "2024-11-10T01:58:42.160Z"
   },
   {
    "duration": 6,
    "start_time": "2024-11-10T02:00:58.821Z"
   },
   {
    "duration": 776,
    "start_time": "2024-11-10T05:05:23.744Z"
   },
   {
    "duration": 511,
    "start_time": "2024-11-10T05:05:26.543Z"
   },
   {
    "duration": 3,
    "start_time": "2024-11-10T05:05:35.559Z"
   },
   {
    "duration": 3,
    "start_time": "2024-11-10T05:05:36.173Z"
   },
   {
    "duration": 3,
    "start_time": "2024-11-10T05:05:36.725Z"
   },
   {
    "duration": 4,
    "start_time": "2024-11-10T05:05:37.598Z"
   },
   {
    "duration": 96,
    "start_time": "2024-11-10T05:05:40.108Z"
   },
   {
    "duration": 1303,
    "start_time": "2024-11-10T05:06:44.308Z"
   },
   {
    "duration": 66,
    "start_time": "2024-11-10T05:06:47.519Z"
   },
   {
    "duration": 24,
    "start_time": "2024-11-10T05:17:47.433Z"
   },
   {
    "duration": 26,
    "start_time": "2024-11-10T05:17:53.357Z"
   },
   {
    "duration": 2,
    "start_time": "2024-11-10T05:19:27.228Z"
   },
   {
    "duration": 26,
    "start_time": "2024-11-10T05:19:27.655Z"
   },
   {
    "duration": 27,
    "start_time": "2024-11-10T05:19:37.422Z"
   },
   {
    "duration": 24,
    "start_time": "2024-11-10T05:19:38.890Z"
   },
   {
    "duration": 24,
    "start_time": "2024-11-10T05:19:40.173Z"
   },
   {
    "duration": 112,
    "start_time": "2024-11-10T05:19:43.256Z"
   },
   {
    "duration": 64,
    "start_time": "2024-11-10T05:19:45.257Z"
   },
   {
    "duration": 60,
    "start_time": "2024-11-10T05:42:02.143Z"
   },
   {
    "duration": 7,
    "start_time": "2024-11-10T05:42:28.258Z"
   },
   {
    "duration": 6,
    "start_time": "2024-11-10T05:42:32.298Z"
   },
   {
    "duration": 5,
    "start_time": "2024-11-10T05:47:39.231Z"
   },
   {
    "duration": 36,
    "start_time": "2024-11-10T05:54:28.957Z"
   },
   {
    "duration": 210,
    "start_time": "2024-11-10T06:15:40.844Z"
   },
   {
    "duration": 7,
    "start_time": "2024-11-10T06:17:28.165Z"
   },
   {
    "duration": 12,
    "start_time": "2024-11-10T06:27:22.523Z"
   },
   {
    "duration": 2,
    "start_time": "2024-11-10T06:31:59.327Z"
   },
   {
    "duration": 397,
    "start_time": "2024-11-10T06:31:59.333Z"
   },
   {
    "duration": 2,
    "start_time": "2024-11-10T06:31:59.733Z"
   },
   {
    "duration": 3,
    "start_time": "2024-11-10T06:31:59.738Z"
   },
   {
    "duration": 3,
    "start_time": "2024-11-10T06:31:59.742Z"
   },
   {
    "duration": 5,
    "start_time": "2024-11-10T06:31:59.748Z"
   },
   {
    "duration": 120,
    "start_time": "2024-11-10T06:31:59.755Z"
   },
   {
    "duration": 1309,
    "start_time": "2024-11-10T06:31:59.877Z"
   },
   {
    "duration": 68,
    "start_time": "2024-11-10T06:32:01.187Z"
   },
   {
    "duration": 26,
    "start_time": "2024-11-10T06:32:01.256Z"
   },
   {
    "duration": 37,
    "start_time": "2024-11-10T06:32:01.283Z"
   },
   {
    "duration": 25,
    "start_time": "2024-11-10T06:32:01.322Z"
   },
   {
    "duration": 25,
    "start_time": "2024-11-10T06:32:01.348Z"
   },
   {
    "duration": 45,
    "start_time": "2024-11-10T06:32:01.375Z"
   },
   {
    "duration": 121,
    "start_time": "2024-11-10T06:32:01.424Z"
   },
   {
    "duration": 70,
    "start_time": "2024-11-10T06:32:01.547Z"
   },
   {
    "duration": 58,
    "start_time": "2024-11-10T06:32:01.619Z"
   },
   {
    "duration": 5,
    "start_time": "2024-11-10T06:32:01.678Z"
   },
   {
    "duration": 27,
    "start_time": "2024-11-10T06:32:01.685Z"
   },
   {
    "duration": 31,
    "start_time": "2024-11-10T06:32:01.714Z"
   },
   {
    "duration": 7,
    "start_time": "2024-11-10T06:32:01.747Z"
   },
   {
    "duration": 12,
    "start_time": "2024-11-10T06:32:04.704Z"
   },
   {
    "duration": 25,
    "start_time": "2024-11-10T06:33:40.488Z"
   },
   {
    "duration": 28,
    "start_time": "2024-11-10T06:37:37.726Z"
   },
   {
    "duration": 6,
    "start_time": "2024-11-10T06:40:59.646Z"
   },
   {
    "duration": 7,
    "start_time": "2024-11-10T06:42:36.165Z"
   },
   {
    "duration": 7,
    "start_time": "2024-11-10T06:44:41.537Z"
   },
   {
    "duration": 6,
    "start_time": "2024-11-10T06:45:12.568Z"
   },
   {
    "duration": 6,
    "start_time": "2024-11-10T06:46:34.145Z"
   },
   {
    "duration": 817,
    "start_time": "2024-11-10T20:31:29.885Z"
   },
   {
    "duration": 486,
    "start_time": "2024-11-10T20:31:32.149Z"
   },
   {
    "duration": 2,
    "start_time": "2024-11-10T20:51:35.663Z"
   },
   {
    "duration": 466,
    "start_time": "2024-11-10T20:51:37.447Z"
   },
   {
    "duration": 3,
    "start_time": "2024-11-10T20:51:43.298Z"
   },
   {
    "duration": 3,
    "start_time": "2024-11-10T20:51:43.741Z"
   },
   {
    "duration": 4,
    "start_time": "2024-11-10T20:51:46.057Z"
   },
   {
    "duration": 3,
    "start_time": "2024-11-10T20:51:46.807Z"
   },
   {
    "duration": 118,
    "start_time": "2024-11-10T20:51:57.014Z"
   },
   {
    "duration": 1418,
    "start_time": "2024-11-10T20:52:50.395Z"
   },
   {
    "duration": 23,
    "start_time": "2024-11-10T20:53:41.637Z"
   },
   {
    "duration": 67,
    "start_time": "2024-11-10T20:53:42.390Z"
   },
   {
    "duration": 24,
    "start_time": "2024-11-10T20:53:49.607Z"
   },
   {
    "duration": 26,
    "start_time": "2024-11-10T20:54:39.191Z"
   },
   {
    "duration": 26,
    "start_time": "2024-11-10T20:54:40.902Z"
   },
   {
    "duration": 38,
    "start_time": "2024-11-10T20:54:42.884Z"
   },
   {
    "duration": 32,
    "start_time": "2024-11-10T20:54:53.466Z"
   },
   {
    "duration": 25,
    "start_time": "2024-11-10T20:54:55.982Z"
   },
   {
    "duration": 112,
    "start_time": "2024-11-10T20:55:25.857Z"
   },
   {
    "duration": 69,
    "start_time": "2024-11-10T20:55:27.183Z"
   },
   {
    "duration": 24,
    "start_time": "2024-11-10T20:57:29.879Z"
   },
   {
    "duration": 67,
    "start_time": "2024-11-10T20:57:35.092Z"
   },
   {
    "duration": 24,
    "start_time": "2024-11-10T21:00:58.057Z"
   },
   {
    "duration": 26,
    "start_time": "2024-11-10T21:00:59.197Z"
   },
   {
    "duration": 26,
    "start_time": "2024-11-10T21:01:00.287Z"
   },
   {
    "duration": 25,
    "start_time": "2024-11-10T21:01:01.635Z"
   },
   {
    "duration": 24,
    "start_time": "2024-11-10T21:01:02.943Z"
   },
   {
    "duration": 110,
    "start_time": "2024-11-10T21:01:04.580Z"
   },
   {
    "duration": 63,
    "start_time": "2024-11-10T21:01:05.602Z"
   },
   {
    "duration": 67,
    "start_time": "2024-11-10T21:01:34.419Z"
   },
   {
    "duration": 6,
    "start_time": "2024-11-10T21:01:38.556Z"
   },
   {
    "duration": 24,
    "start_time": "2024-11-10T21:04:42.511Z"
   },
   {
    "duration": 25,
    "start_time": "2024-11-10T21:04:46.037Z"
   },
   {
    "duration": 27,
    "start_time": "2024-11-10T21:04:46.795Z"
   },
   {
    "duration": 27,
    "start_time": "2024-11-10T21:04:49.878Z"
   },
   {
    "duration": 26,
    "start_time": "2024-11-10T21:04:50.606Z"
   },
   {
    "duration": 111,
    "start_time": "2024-11-10T21:04:55.000Z"
   },
   {
    "duration": 63,
    "start_time": "2024-11-10T21:04:55.528Z"
   },
   {
    "duration": 63,
    "start_time": "2024-11-10T21:05:00.847Z"
   },
   {
    "duration": 26,
    "start_time": "2024-11-10T21:05:51.381Z"
   },
   {
    "duration": 5,
    "start_time": "2024-11-10T21:09:00.749Z"
   },
   {
    "duration": 6,
    "start_time": "2024-11-10T21:09:08.826Z"
   },
   {
    "duration": 33,
    "start_time": "2024-11-10T21:09:13.077Z"
   },
   {
    "duration": 8,
    "start_time": "2024-11-10T21:09:13.958Z"
   },
   {
    "duration": 27,
    "start_time": "2024-11-10T21:09:22.269Z"
   },
   {
    "duration": 26,
    "start_time": "2024-11-10T21:09:32.612Z"
   },
   {
    "duration": 6,
    "start_time": "2024-11-10T21:09:39.023Z"
   },
   {
    "duration": 6,
    "start_time": "2024-11-10T21:09:54.585Z"
   },
   {
    "duration": 3,
    "start_time": "2024-11-10T21:11:16.591Z"
   },
   {
    "duration": 2,
    "start_time": "2024-11-10T21:20:42.856Z"
   },
   {
    "duration": 5,
    "start_time": "2024-11-10T21:27:03.176Z"
   },
   {
    "duration": 1887,
    "start_time": "2024-11-10T21:33:51.697Z"
   },
   {
    "duration": 314,
    "start_time": "2024-11-10T21:34:57.722Z"
   },
   {
    "duration": 15,
    "start_time": "2024-11-10T21:35:23.661Z"
   },
   {
    "duration": 825,
    "start_time": "2024-11-10T21:35:30.401Z"
   },
   {
    "duration": 496,
    "start_time": "2024-11-10T21:39:22.732Z"
   },
   {
    "duration": 6,
    "start_time": "2024-11-10T22:04:09.655Z"
   },
   {
    "duration": 7,
    "start_time": "2024-11-10T22:04:25.292Z"
   },
   {
    "duration": 6,
    "start_time": "2024-11-10T22:05:43.698Z"
   },
   {
    "duration": 6,
    "start_time": "2024-11-10T22:09:36.469Z"
   },
   {
    "duration": 6,
    "start_time": "2024-11-10T22:09:43.286Z"
   },
   {
    "duration": 7,
    "start_time": "2024-11-10T22:10:53.383Z"
   },
   {
    "duration": 7,
    "start_time": "2024-11-10T22:12:06.133Z"
   },
   {
    "duration": 7,
    "start_time": "2024-11-10T22:12:34.902Z"
   },
   {
    "duration": 6,
    "start_time": "2024-11-10T22:12:42.804Z"
   },
   {
    "duration": 7,
    "start_time": "2024-11-10T22:13:15.369Z"
   },
   {
    "duration": 7,
    "start_time": "2024-11-10T22:13:23.117Z"
   },
   {
    "duration": 6,
    "start_time": "2024-11-10T22:13:49.893Z"
   },
   {
    "duration": 6,
    "start_time": "2024-11-10T22:14:41.767Z"
   },
   {
    "duration": 6,
    "start_time": "2024-11-10T22:15:07.668Z"
   },
   {
    "duration": 7,
    "start_time": "2024-11-10T22:16:27.859Z"
   },
   {
    "duration": 5,
    "start_time": "2024-11-10T22:23:08.784Z"
   },
   {
    "duration": 5,
    "start_time": "2024-11-10T22:24:44.339Z"
   },
   {
    "duration": 3,
    "start_time": "2024-11-10T22:27:29.234Z"
   },
   {
    "duration": 332,
    "start_time": "2024-11-10T22:27:36.885Z"
   },
   {
    "duration": 271,
    "start_time": "2024-11-10T22:27:55.101Z"
   },
   {
    "duration": 341,
    "start_time": "2024-11-10T22:28:03.552Z"
   },
   {
    "duration": 338,
    "start_time": "2024-11-10T22:34:27.408Z"
   },
   {
    "duration": 329,
    "start_time": "2024-11-10T22:34:51.872Z"
   },
   {
    "duration": 348,
    "start_time": "2024-11-10T22:34:52.574Z"
   },
   {
    "duration": 278,
    "start_time": "2024-11-10T22:34:53.304Z"
   },
   {
    "duration": 8,
    "start_time": "2024-11-10T22:34:54.146Z"
   },
   {
    "duration": 6,
    "start_time": "2024-11-10T22:35:09.150Z"
   },
   {
    "duration": 5,
    "start_time": "2024-11-10T22:46:11.749Z"
   },
   {
    "duration": 5,
    "start_time": "2024-11-10T22:48:45.842Z"
   },
   {
    "duration": 5,
    "start_time": "2024-11-10T22:52:51.923Z"
   },
   {
    "duration": 7,
    "start_time": "2024-11-10T22:53:17.165Z"
   },
   {
    "duration": 5,
    "start_time": "2024-11-10T22:53:26.411Z"
   },
   {
    "duration": 4,
    "start_time": "2024-11-10T22:53:50.940Z"
   },
   {
    "duration": 5,
    "start_time": "2024-11-10T22:54:02.708Z"
   },
   {
    "duration": 26,
    "start_time": "2024-11-10T23:15:04.621Z"
   },
   {
    "duration": 66,
    "start_time": "2024-11-10T23:15:18.449Z"
   },
   {
    "duration": 3,
    "start_time": "2024-11-10T23:15:43.748Z"
   },
   {
    "duration": 19,
    "start_time": "2024-11-10T23:21:31.554Z"
   },
   {
    "duration": 2619,
    "start_time": "2024-11-11T02:13:41.468Z"
   },
   {
    "duration": 475,
    "start_time": "2024-11-11T02:13:44.089Z"
   },
   {
    "duration": 3,
    "start_time": "2024-11-11T02:13:48.299Z"
   },
   {
    "duration": 3,
    "start_time": "2024-11-11T02:13:48.747Z"
   },
   {
    "duration": 3,
    "start_time": "2024-11-11T02:13:49.512Z"
   },
   {
    "duration": 4,
    "start_time": "2024-11-11T02:13:49.851Z"
   },
   {
    "duration": 97,
    "start_time": "2024-11-11T02:13:50.203Z"
   },
   {
    "duration": 1252,
    "start_time": "2024-11-11T02:13:54.062Z"
   },
   {
    "duration": 69,
    "start_time": "2024-11-11T02:14:01.401Z"
   },
   {
    "duration": 25,
    "start_time": "2024-11-11T02:14:09.330Z"
   },
   {
    "duration": 26,
    "start_time": "2024-11-11T02:14:10.914Z"
   },
   {
    "duration": 36,
    "start_time": "2024-11-11T02:14:11.948Z"
   },
   {
    "duration": 30,
    "start_time": "2024-11-11T02:14:13.151Z"
   },
   {
    "duration": 24,
    "start_time": "2024-11-11T02:14:14.215Z"
   },
   {
    "duration": 111,
    "start_time": "2024-11-11T02:14:20.466Z"
   },
   {
    "duration": 64,
    "start_time": "2024-11-11T02:14:21.308Z"
   },
   {
    "duration": 63,
    "start_time": "2024-11-11T02:14:39.751Z"
   },
   {
    "duration": 24,
    "start_time": "2024-11-11T02:14:49.927Z"
   },
   {
    "duration": 64,
    "start_time": "2024-11-11T02:15:11.813Z"
   },
   {
    "duration": 24,
    "start_time": "2024-11-11T02:15:18.581Z"
   },
   {
    "duration": 5,
    "start_time": "2024-11-11T02:15:25.895Z"
   },
   {
    "duration": 7,
    "start_time": "2024-11-11T02:15:31.831Z"
   },
   {
    "duration": 36,
    "start_time": "2024-11-11T02:18:13.831Z"
   },
   {
    "duration": 7,
    "start_time": "2024-11-11T02:18:16.904Z"
   },
   {
    "duration": 26,
    "start_time": "2024-11-11T02:18:35.420Z"
   },
   {
    "duration": 29,
    "start_time": "2024-11-11T02:18:38.163Z"
   },
   {
    "duration": 8,
    "start_time": "2024-11-11T02:20:04.663Z"
   },
   {
    "duration": 4,
    "start_time": "2024-11-11T02:20:27.456Z"
   },
   {
    "duration": 4,
    "start_time": "2024-11-11T02:20:34.804Z"
   },
   {
    "duration": 5,
    "start_time": "2024-11-11T02:20:39.629Z"
   },
   {
    "duration": 5,
    "start_time": "2024-11-11T02:20:49.704Z"
   },
   {
    "duration": 5,
    "start_time": "2024-11-11T02:20:55.834Z"
   },
   {
    "duration": 4,
    "start_time": "2024-11-11T02:21:01.272Z"
   },
   {
    "duration": 3,
    "start_time": "2024-11-11T02:21:09.209Z"
   },
   {
    "duration": 7,
    "start_time": "2024-11-11T02:21:13.145Z"
   },
   {
    "duration": 5,
    "start_time": "2024-11-11T02:21:29.266Z"
   },
   {
    "duration": 3,
    "start_time": "2024-11-11T02:21:36.396Z"
   },
   {
    "duration": 331,
    "start_time": "2024-11-11T02:22:08.214Z"
   },
   {
    "duration": 323,
    "start_time": "2024-11-11T02:22:14.565Z"
   },
   {
    "duration": 266,
    "start_time": "2024-11-11T02:22:17.961Z"
   },
   {
    "duration": 7,
    "start_time": "2024-11-11T02:22:40.231Z"
   },
   {
    "duration": 4,
    "start_time": "2024-11-11T02:23:02.657Z"
   },
   {
    "duration": 5,
    "start_time": "2024-11-11T02:23:38.831Z"
   },
   {
    "duration": 850,
    "start_time": "2024-11-11T02:28:24.197Z"
   },
   {
    "duration": 472,
    "start_time": "2024-11-11T02:28:25.049Z"
   },
   {
    "duration": 2,
    "start_time": "2024-11-11T02:28:25.525Z"
   },
   {
    "duration": 3,
    "start_time": "2024-11-11T02:28:25.655Z"
   },
   {
    "duration": 3,
    "start_time": "2024-11-11T02:28:25.814Z"
   },
   {
    "duration": 3,
    "start_time": "2024-11-11T02:28:25.966Z"
   },
   {
    "duration": 91,
    "start_time": "2024-11-11T02:28:26.100Z"
   },
   {
    "duration": 1300,
    "start_time": "2024-11-11T02:28:26.770Z"
   },
   {
    "duration": 72,
    "start_time": "2024-11-11T02:28:28.072Z"
   },
   {
    "duration": 27,
    "start_time": "2024-11-11T02:28:28.186Z"
   },
   {
    "duration": 23,
    "start_time": "2024-11-11T02:28:28.514Z"
   },
   {
    "duration": 27,
    "start_time": "2024-11-11T02:28:29.179Z"
   },
   {
    "duration": 25,
    "start_time": "2024-11-11T02:28:29.839Z"
   },
   {
    "duration": 24,
    "start_time": "2024-11-11T02:28:30.127Z"
   },
   {
    "duration": 113,
    "start_time": "2024-11-11T02:28:30.780Z"
   },
   {
    "duration": 68,
    "start_time": "2024-11-11T02:28:30.924Z"
   },
   {
    "duration": 70,
    "start_time": "2024-11-11T02:28:31.579Z"
   },
   {
    "duration": 26,
    "start_time": "2024-11-11T02:28:32.591Z"
   },
   {
    "duration": 6,
    "start_time": "2024-11-11T02:28:33.661Z"
   },
   {
    "duration": 7,
    "start_time": "2024-11-11T02:28:35.033Z"
   },
   {
    "duration": 28,
    "start_time": "2024-11-11T02:28:35.999Z"
   },
   {
    "duration": 8,
    "start_time": "2024-11-11T02:28:36.495Z"
   },
   {
    "duration": 27,
    "start_time": "2024-11-11T02:28:37.342Z"
   },
   {
    "duration": 27,
    "start_time": "2024-11-11T02:28:38.433Z"
   },
   {
    "duration": 7,
    "start_time": "2024-11-11T02:28:39.709Z"
   },
   {
    "duration": 4,
    "start_time": "2024-11-11T02:28:40.940Z"
   },
   {
    "duration": 4,
    "start_time": "2024-11-11T02:28:41.413Z"
   },
   {
    "duration": 6,
    "start_time": "2024-11-11T02:28:42.726Z"
   },
   {
    "duration": 3,
    "start_time": "2024-11-11T02:28:43.330Z"
   },
   {
    "duration": 324,
    "start_time": "2024-11-11T02:28:44.394Z"
   },
   {
    "duration": 386,
    "start_time": "2024-11-11T02:28:45.092Z"
   },
   {
    "duration": 266,
    "start_time": "2024-11-11T02:28:45.863Z"
   },
   {
    "duration": 6,
    "start_time": "2024-11-11T02:28:50.230Z"
   },
   {
    "duration": 4,
    "start_time": "2024-11-11T02:28:55.510Z"
   },
   {
    "duration": 4,
    "start_time": "2024-11-11T02:28:55.660Z"
   },
   {
    "duration": 897,
    "start_time": "2024-11-11T02:30:10.070Z"
   },
   {
    "duration": 456,
    "start_time": "2024-11-11T02:30:10.970Z"
   },
   {
    "duration": 3,
    "start_time": "2024-11-11T02:30:11.428Z"
   },
   {
    "duration": 3,
    "start_time": "2024-11-11T02:30:11.434Z"
   },
   {
    "duration": 5,
    "start_time": "2024-11-11T02:30:11.438Z"
   },
   {
    "duration": 4,
    "start_time": "2024-11-11T02:30:11.444Z"
   },
   {
    "duration": 115,
    "start_time": "2024-11-11T02:30:11.450Z"
   },
   {
    "duration": 1320,
    "start_time": "2024-11-11T02:30:11.566Z"
   },
   {
    "duration": 74,
    "start_time": "2024-11-11T02:30:12.887Z"
   },
   {
    "duration": 24,
    "start_time": "2024-11-11T02:30:12.964Z"
   },
   {
    "duration": 36,
    "start_time": "2024-11-11T02:30:12.990Z"
   },
   {
    "duration": 24,
    "start_time": "2024-11-11T02:30:13.028Z"
   },
   {
    "duration": 24,
    "start_time": "2024-11-11T02:30:13.053Z"
   },
   {
    "duration": 45,
    "start_time": "2024-11-11T02:30:13.079Z"
   },
   {
    "duration": 119,
    "start_time": "2024-11-11T02:30:13.125Z"
   },
   {
    "duration": 64,
    "start_time": "2024-11-11T02:30:13.247Z"
   },
   {
    "duration": 77,
    "start_time": "2024-11-11T02:30:13.312Z"
   },
   {
    "duration": 36,
    "start_time": "2024-11-11T02:30:13.390Z"
   },
   {
    "duration": 6,
    "start_time": "2024-11-11T02:30:13.427Z"
   },
   {
    "duration": 5,
    "start_time": "2024-11-11T02:30:13.434Z"
   },
   {
    "duration": 27,
    "start_time": "2024-11-11T02:30:13.441Z"
   },
   {
    "duration": 8,
    "start_time": "2024-11-11T02:30:13.470Z"
   },
   {
    "duration": 53,
    "start_time": "2024-11-11T02:30:13.479Z"
   },
   {
    "duration": 26,
    "start_time": "2024-11-11T02:30:13.533Z"
   },
   {
    "duration": 7,
    "start_time": "2024-11-11T02:30:13.560Z"
   },
   {
    "duration": 4,
    "start_time": "2024-11-11T02:30:13.568Z"
   },
   {
    "duration": 4,
    "start_time": "2024-11-11T02:30:13.574Z"
   },
   {
    "duration": 5,
    "start_time": "2024-11-11T02:30:13.582Z"
   },
   {
    "duration": 36,
    "start_time": "2024-11-11T02:30:13.588Z"
   },
   {
    "duration": 350,
    "start_time": "2024-11-11T02:30:13.626Z"
   },
   {
    "duration": 390,
    "start_time": "2024-11-11T02:30:13.978Z"
   },
   {
    "duration": 274,
    "start_time": "2024-11-11T02:30:14.370Z"
   },
   {
    "duration": 6,
    "start_time": "2024-11-11T02:30:14.646Z"
   },
   {
    "duration": 4,
    "start_time": "2024-11-11T02:30:14.653Z"
   },
   {
    "duration": 3,
    "start_time": "2024-11-11T02:30:14.659Z"
   },
   {
    "duration": 5,
    "start_time": "2024-11-11T02:30:14.665Z"
   },
   {
    "duration": 5,
    "start_time": "2024-11-11T03:10:48.221Z"
   },
   {
    "duration": 20,
    "start_time": "2024-11-11T03:18:01.531Z"
   },
   {
    "duration": 5,
    "start_time": "2024-11-11T03:18:16.912Z"
   },
   {
    "duration": 5,
    "start_time": "2024-11-11T03:21:39.371Z"
   },
   {
    "duration": 4,
    "start_time": "2024-11-11T03:21:43.450Z"
   },
   {
    "duration": 30,
    "start_time": "2024-11-11T03:21:58.250Z"
   },
   {
    "duration": 70,
    "start_time": "2024-11-11T03:22:14.280Z"
   },
   {
    "duration": 4,
    "start_time": "2024-11-11T03:22:24.866Z"
   },
   {
    "duration": 11,
    "start_time": "2024-11-11T03:26:04.935Z"
   },
   {
    "duration": 2,
    "start_time": "2024-11-11T03:34:50.730Z"
   },
   {
    "duration": 420,
    "start_time": "2024-11-11T03:34:50.736Z"
   },
   {
    "duration": 2,
    "start_time": "2024-11-11T03:34:51.158Z"
   },
   {
    "duration": 3,
    "start_time": "2024-11-11T03:34:51.163Z"
   },
   {
    "duration": 3,
    "start_time": "2024-11-11T03:34:51.168Z"
   },
   {
    "duration": 6,
    "start_time": "2024-11-11T03:34:51.172Z"
   },
   {
    "duration": 119,
    "start_time": "2024-11-11T03:34:51.180Z"
   },
   {
    "duration": 1272,
    "start_time": "2024-11-11T03:34:51.302Z"
   },
   {
    "duration": 70,
    "start_time": "2024-11-11T03:34:52.576Z"
   },
   {
    "duration": 23,
    "start_time": "2024-11-11T03:34:52.648Z"
   },
   {
    "duration": 24,
    "start_time": "2024-11-11T03:34:52.674Z"
   },
   {
    "duration": 41,
    "start_time": "2024-11-11T03:34:52.700Z"
   },
   {
    "duration": 24,
    "start_time": "2024-11-11T03:34:52.743Z"
   },
   {
    "duration": 22,
    "start_time": "2024-11-11T03:34:52.769Z"
   },
   {
    "duration": 132,
    "start_time": "2024-11-11T03:34:52.792Z"
   },
   {
    "duration": 71,
    "start_time": "2024-11-11T03:34:52.926Z"
   },
   {
    "duration": 78,
    "start_time": "2024-11-11T03:34:52.999Z"
   },
   {
    "duration": 24,
    "start_time": "2024-11-11T03:34:53.078Z"
   },
   {
    "duration": 5,
    "start_time": "2024-11-11T03:34:53.104Z"
   },
   {
    "duration": 6,
    "start_time": "2024-11-11T03:34:53.124Z"
   },
   {
    "duration": 26,
    "start_time": "2024-11-11T03:34:53.132Z"
   },
   {
    "duration": 7,
    "start_time": "2024-11-11T03:34:53.160Z"
   },
   {
    "duration": 25,
    "start_time": "2024-11-11T03:34:53.168Z"
   },
   {
    "duration": 54,
    "start_time": "2024-11-11T03:34:53.194Z"
   },
   {
    "duration": 6,
    "start_time": "2024-11-11T03:34:53.250Z"
   },
   {
    "duration": 4,
    "start_time": "2024-11-11T03:34:53.258Z"
   },
   {
    "duration": 4,
    "start_time": "2024-11-11T03:34:53.263Z"
   },
   {
    "duration": 5,
    "start_time": "2024-11-11T03:34:53.268Z"
   },
   {
    "duration": 3,
    "start_time": "2024-11-11T03:34:53.277Z"
   },
   {
    "duration": 360,
    "start_time": "2024-11-11T03:34:53.281Z"
   },
   {
    "duration": 342,
    "start_time": "2024-11-11T03:34:53.643Z"
   },
   {
    "duration": 270,
    "start_time": "2024-11-11T03:34:53.987Z"
   },
   {
    "duration": 7,
    "start_time": "2024-11-11T03:34:54.259Z"
   },
   {
    "duration": 4,
    "start_time": "2024-11-11T03:34:54.267Z"
   },
   {
    "duration": 5,
    "start_time": "2024-11-11T03:34:54.273Z"
   },
   {
    "duration": 4,
    "start_time": "2024-11-11T03:34:54.279Z"
   },
   {
    "duration": 49,
    "start_time": "2024-11-11T03:34:54.285Z"
   },
   {
    "duration": 63,
    "start_time": "2024-11-11T03:34:54.335Z"
   },
   {
    "duration": 3,
    "start_time": "2024-11-11T03:34:54.400Z"
   },
   {
    "duration": 15,
    "start_time": "2024-11-11T03:34:58.245Z"
   },
   {
    "duration": 78,
    "start_time": "2024-11-11T03:34:59.144Z"
   },
   {
    "duration": 4,
    "start_time": "2024-11-11T03:37:03.864Z"
   },
   {
    "duration": 415,
    "start_time": "2024-11-11T03:37:03.872Z"
   },
   {
    "duration": 3,
    "start_time": "2024-11-11T03:37:04.289Z"
   },
   {
    "duration": 4,
    "start_time": "2024-11-11T03:37:04.294Z"
   },
   {
    "duration": 3,
    "start_time": "2024-11-11T03:37:04.299Z"
   },
   {
    "duration": 20,
    "start_time": "2024-11-11T03:37:04.304Z"
   },
   {
    "duration": 105,
    "start_time": "2024-11-11T03:37:04.326Z"
   },
   {
    "duration": 1294,
    "start_time": "2024-11-11T03:37:04.433Z"
   },
   {
    "duration": 67,
    "start_time": "2024-11-11T03:37:05.729Z"
   },
   {
    "duration": 43,
    "start_time": "2024-11-11T03:37:05.799Z"
   },
   {
    "duration": 25,
    "start_time": "2024-11-11T03:37:05.846Z"
   },
   {
    "duration": 25,
    "start_time": "2024-11-11T03:37:05.872Z"
   },
   {
    "duration": 41,
    "start_time": "2024-11-11T03:37:05.899Z"
   },
   {
    "duration": 24,
    "start_time": "2024-11-11T03:37:05.941Z"
   },
   {
    "duration": 127,
    "start_time": "2024-11-11T03:37:05.966Z"
   },
   {
    "duration": 87,
    "start_time": "2024-11-11T03:37:06.095Z"
   },
   {
    "duration": 75,
    "start_time": "2024-11-11T03:37:06.184Z"
   },
   {
    "duration": 23,
    "start_time": "2024-11-11T03:37:06.261Z"
   },
   {
    "duration": 6,
    "start_time": "2024-11-11T03:37:06.285Z"
   },
   {
    "duration": 6,
    "start_time": "2024-11-11T03:37:06.292Z"
   },
   {
    "duration": 48,
    "start_time": "2024-11-11T03:37:06.299Z"
   },
   {
    "duration": 7,
    "start_time": "2024-11-11T03:37:06.348Z"
   },
   {
    "duration": 26,
    "start_time": "2024-11-11T03:37:06.356Z"
   },
   {
    "duration": 46,
    "start_time": "2024-11-11T03:37:06.384Z"
   },
   {
    "duration": 6,
    "start_time": "2024-11-11T03:37:06.431Z"
   },
   {
    "duration": 4,
    "start_time": "2024-11-11T03:37:06.440Z"
   },
   {
    "duration": 4,
    "start_time": "2024-11-11T03:37:06.445Z"
   },
   {
    "duration": 6,
    "start_time": "2024-11-11T03:37:06.451Z"
   },
   {
    "duration": 3,
    "start_time": "2024-11-11T03:37:06.461Z"
   },
   {
    "duration": 369,
    "start_time": "2024-11-11T03:37:06.465Z"
   },
   {
    "duration": 363,
    "start_time": "2024-11-11T03:37:06.837Z"
   },
   {
    "duration": 273,
    "start_time": "2024-11-11T03:37:07.202Z"
   },
   {
    "duration": 6,
    "start_time": "2024-11-11T03:37:07.477Z"
   },
   {
    "duration": 4,
    "start_time": "2024-11-11T03:37:07.484Z"
   },
   {
    "duration": 3,
    "start_time": "2024-11-11T03:37:07.490Z"
   },
   {
    "duration": 4,
    "start_time": "2024-11-11T03:37:07.495Z"
   },
   {
    "duration": 54,
    "start_time": "2024-11-11T03:37:07.500Z"
   },
   {
    "duration": 73,
    "start_time": "2024-11-11T03:37:07.556Z"
   },
   {
    "duration": 3,
    "start_time": "2024-11-11T03:37:07.633Z"
   },
   {
    "duration": 14,
    "start_time": "2024-11-11T03:37:07.638Z"
   },
   {
    "duration": 14,
    "start_time": "2024-11-11T03:37:13.576Z"
   },
   {
    "duration": 73,
    "start_time": "2024-11-11T03:37:14.826Z"
   },
   {
    "duration": 6,
    "start_time": "2024-11-11T03:37:24.409Z"
   },
   {
    "duration": 7,
    "start_time": "2024-11-11T03:38:04.284Z"
   },
   {
    "duration": 7,
    "start_time": "2024-11-11T03:41:41.164Z"
   },
   {
    "duration": 5,
    "start_time": "2024-11-11T03:42:01.128Z"
   },
   {
    "duration": 281,
    "start_time": "2024-11-11T03:42:17.215Z"
   },
   {
    "duration": 4,
    "start_time": "2024-11-11T03:44:28.881Z"
   },
   {
    "duration": 15,
    "start_time": "2024-11-11T03:44:33.134Z"
   },
   {
    "duration": 21,
    "start_time": "2024-11-11T03:45:09.083Z"
   },
   {
    "duration": 7,
    "start_time": "2024-11-11T03:50:03.673Z"
   },
   {
    "duration": 21,
    "start_time": "2024-11-11T03:50:10.705Z"
   },
   {
    "duration": 5,
    "start_time": "2024-11-11T03:53:57.838Z"
   },
   {
    "duration": 2,
    "start_time": "2024-11-11T03:53:59.545Z"
   },
   {
    "duration": 23,
    "start_time": "2024-11-11T03:54:03.116Z"
   },
   {
    "duration": 3,
    "start_time": "2024-11-11T03:54:33.429Z"
   },
   {
    "duration": 875,
    "start_time": "2024-11-11T03:54:53.563Z"
   },
   {
    "duration": 421,
    "start_time": "2024-11-11T03:54:54.552Z"
   },
   {
    "duration": 3,
    "start_time": "2024-11-11T03:54:55.561Z"
   },
   {
    "duration": 3,
    "start_time": "2024-11-11T03:54:56.050Z"
   },
   {
    "duration": 3,
    "start_time": "2024-11-11T03:54:56.530Z"
   },
   {
    "duration": 4,
    "start_time": "2024-11-11T03:54:56.941Z"
   },
   {
    "duration": 103,
    "start_time": "2024-11-11T03:54:57.324Z"
   },
   {
    "duration": 1315,
    "start_time": "2024-11-11T03:54:58.218Z"
   },
   {
    "duration": 65,
    "start_time": "2024-11-11T03:54:59.535Z"
   },
   {
    "duration": 24,
    "start_time": "2024-11-11T03:55:00.531Z"
   },
   {
    "duration": 25,
    "start_time": "2024-11-11T03:55:01.476Z"
   },
   {
    "duration": 25,
    "start_time": "2024-11-11T03:55:02.389Z"
   },
   {
    "duration": 25,
    "start_time": "2024-11-11T03:55:03.332Z"
   },
   {
    "duration": 24,
    "start_time": "2024-11-11T03:55:04.325Z"
   },
   {
    "duration": 115,
    "start_time": "2024-11-11T03:55:05.309Z"
   },
   {
    "duration": 66,
    "start_time": "2024-11-11T03:55:05.775Z"
   },
   {
    "duration": 61,
    "start_time": "2024-11-11T03:55:06.699Z"
   },
   {
    "duration": 28,
    "start_time": "2024-11-11T03:55:08.002Z"
   },
   {
    "duration": 5,
    "start_time": "2024-11-11T03:55:08.950Z"
   },
   {
    "duration": 6,
    "start_time": "2024-11-11T03:55:10.371Z"
   },
   {
    "duration": 28,
    "start_time": "2024-11-11T03:55:11.326Z"
   },
   {
    "duration": 7,
    "start_time": "2024-11-11T03:55:11.755Z"
   },
   {
    "duration": 26,
    "start_time": "2024-11-11T03:55:12.757Z"
   },
   {
    "duration": 27,
    "start_time": "2024-11-11T03:55:13.610Z"
   },
   {
    "duration": 7,
    "start_time": "2024-11-11T03:55:14.472Z"
   },
   {
    "duration": 4,
    "start_time": "2024-11-11T03:55:14.923Z"
   },
   {
    "duration": 6,
    "start_time": "2024-11-11T03:55:15.385Z"
   },
   {
    "duration": 6,
    "start_time": "2024-11-11T03:55:16.272Z"
   },
   {
    "duration": 3,
    "start_time": "2024-11-11T03:55:16.703Z"
   },
   {
    "duration": 332,
    "start_time": "2024-11-11T03:55:18.075Z"
   },
   {
    "duration": 375,
    "start_time": "2024-11-11T03:55:18.537Z"
   },
   {
    "duration": 265,
    "start_time": "2024-11-11T03:55:18.921Z"
   },
   {
    "duration": 7,
    "start_time": "2024-11-11T03:55:20.053Z"
   },
   {
    "duration": 4,
    "start_time": "2024-11-11T03:55:20.519Z"
   },
   {
    "duration": 4,
    "start_time": "2024-11-11T03:55:20.951Z"
   },
   {
    "duration": 4,
    "start_time": "2024-11-11T03:55:22.418Z"
   },
   {
    "duration": 23,
    "start_time": "2024-11-11T03:55:23.350Z"
   },
   {
    "duration": 63,
    "start_time": "2024-11-11T03:55:23.897Z"
   },
   {
    "duration": 4,
    "start_time": "2024-11-11T03:55:24.388Z"
   },
   {
    "duration": 12,
    "start_time": "2024-11-11T03:55:29.507Z"
   },
   {
    "duration": 86,
    "start_time": "2024-11-11T03:55:30.432Z"
   },
   {
    "duration": 5,
    "start_time": "2024-11-11T03:55:40.001Z"
   },
   {
    "duration": 3,
    "start_time": "2024-11-11T03:55:42.533Z"
   },
   {
    "duration": 2236,
    "start_time": "2024-11-11T03:55:44.163Z"
   },
   {
    "duration": 5,
    "start_time": "2024-11-11T04:01:31.570Z"
   },
   {
    "duration": 3,
    "start_time": "2024-11-11T04:01:33.283Z"
   },
   {
    "duration": 1905,
    "start_time": "2024-11-11T04:01:34.646Z"
   },
   {
    "duration": 20,
    "start_time": "2024-11-11T04:01:37.670Z"
   },
   {
    "duration": 3,
    "start_time": "2024-11-11T04:03:23.741Z"
   },
   {
    "duration": 416,
    "start_time": "2024-11-11T04:03:23.749Z"
   },
   {
    "duration": 3,
    "start_time": "2024-11-11T04:03:24.167Z"
   },
   {
    "duration": 3,
    "start_time": "2024-11-11T04:03:24.172Z"
   },
   {
    "duration": 4,
    "start_time": "2024-11-11T04:03:24.176Z"
   },
   {
    "duration": 4,
    "start_time": "2024-11-11T04:03:24.183Z"
   },
   {
    "duration": 110,
    "start_time": "2024-11-11T04:03:24.188Z"
   },
   {
    "duration": 1281,
    "start_time": "2024-11-11T04:03:24.300Z"
   },
   {
    "duration": 71,
    "start_time": "2024-11-11T04:03:25.583Z"
   },
   {
    "duration": 24,
    "start_time": "2024-11-11T04:03:25.655Z"
   },
   {
    "duration": 24,
    "start_time": "2024-11-11T04:03:25.681Z"
   },
   {
    "duration": 40,
    "start_time": "2024-11-11T04:03:25.706Z"
   },
   {
    "duration": 23,
    "start_time": "2024-11-11T04:03:25.748Z"
   },
   {
    "duration": 23,
    "start_time": "2024-11-11T04:03:25.772Z"
   },
   {
    "duration": 134,
    "start_time": "2024-11-11T04:03:25.800Z"
   },
   {
    "duration": 63,
    "start_time": "2024-11-11T04:03:25.936Z"
   },
   {
    "duration": 75,
    "start_time": "2024-11-11T04:03:26.000Z"
   },
   {
    "duration": 24,
    "start_time": "2024-11-11T04:03:26.077Z"
   },
   {
    "duration": 5,
    "start_time": "2024-11-11T04:03:26.102Z"
   },
   {
    "duration": 6,
    "start_time": "2024-11-11T04:03:26.124Z"
   },
   {
    "duration": 26,
    "start_time": "2024-11-11T04:03:26.131Z"
   },
   {
    "duration": 7,
    "start_time": "2024-11-11T04:03:26.159Z"
   },
   {
    "duration": 30,
    "start_time": "2024-11-11T04:03:26.170Z"
   },
   {
    "duration": 27,
    "start_time": "2024-11-11T04:03:26.224Z"
   },
   {
    "duration": 5,
    "start_time": "2024-11-11T04:03:26.252Z"
   },
   {
    "duration": 3,
    "start_time": "2024-11-11T04:03:26.259Z"
   },
   {
    "duration": 3,
    "start_time": "2024-11-11T04:03:26.264Z"
   },
   {
    "duration": 5,
    "start_time": "2024-11-11T04:03:26.269Z"
   },
   {
    "duration": 2,
    "start_time": "2024-11-11T04:03:26.276Z"
   },
   {
    "duration": 349,
    "start_time": "2024-11-11T04:03:26.280Z"
   },
   {
    "duration": 333,
    "start_time": "2024-11-11T04:03:26.631Z"
   },
   {
    "duration": 264,
    "start_time": "2024-11-11T04:03:26.966Z"
   },
   {
    "duration": 7,
    "start_time": "2024-11-11T04:03:27.232Z"
   },
   {
    "duration": 4,
    "start_time": "2024-11-11T04:03:27.241Z"
   },
   {
    "duration": 4,
    "start_time": "2024-11-11T04:03:27.247Z"
   },
   {
    "duration": 5,
    "start_time": "2024-11-11T04:03:27.252Z"
   },
   {
    "duration": 26,
    "start_time": "2024-11-11T04:03:27.258Z"
   },
   {
    "duration": 99,
    "start_time": "2024-11-11T04:03:27.285Z"
   },
   {
    "duration": 4,
    "start_time": "2024-11-11T04:03:27.386Z"
   },
   {
    "duration": 14,
    "start_time": "2024-11-11T04:03:27.391Z"
   },
   {
    "duration": 94,
    "start_time": "2024-11-11T04:03:27.406Z"
   },
   {
    "duration": 5,
    "start_time": "2024-11-11T04:03:33.369Z"
   },
   {
    "duration": 2,
    "start_time": "2024-11-11T04:03:37.606Z"
   },
   {
    "duration": 1898,
    "start_time": "2024-11-11T04:03:40.621Z"
   },
   {
    "duration": 4,
    "start_time": "2024-11-11T04:16:04.974Z"
   },
   {
    "duration": 386,
    "start_time": "2024-11-11T04:16:04.980Z"
   },
   {
    "duration": 3,
    "start_time": "2024-11-11T04:16:05.368Z"
   },
   {
    "duration": 3,
    "start_time": "2024-11-11T04:16:05.372Z"
   },
   {
    "duration": 3,
    "start_time": "2024-11-11T04:16:05.378Z"
   },
   {
    "duration": 4,
    "start_time": "2024-11-11T04:16:05.383Z"
   },
   {
    "duration": 121,
    "start_time": "2024-11-11T04:16:05.388Z"
   },
   {
    "duration": 1296,
    "start_time": "2024-11-11T04:16:05.511Z"
   },
   {
    "duration": 68,
    "start_time": "2024-11-11T04:16:06.809Z"
   },
   {
    "duration": 24,
    "start_time": "2024-11-11T04:16:06.878Z"
   },
   {
    "duration": 39,
    "start_time": "2024-11-11T04:16:06.904Z"
   },
   {
    "duration": 24,
    "start_time": "2024-11-11T04:16:06.945Z"
   },
   {
    "duration": 23,
    "start_time": "2024-11-11T04:16:06.971Z"
   },
   {
    "duration": 37,
    "start_time": "2024-11-11T04:16:06.998Z"
   },
   {
    "duration": 125,
    "start_time": "2024-11-11T04:16:07.037Z"
   },
   {
    "duration": 69,
    "start_time": "2024-11-11T04:16:07.164Z"
   },
   {
    "duration": 59,
    "start_time": "2024-11-11T04:16:07.235Z"
   },
   {
    "duration": 32,
    "start_time": "2024-11-11T04:16:07.296Z"
   },
   {
    "duration": 5,
    "start_time": "2024-11-11T04:16:07.330Z"
   },
   {
    "duration": 5,
    "start_time": "2024-11-11T04:16:07.337Z"
   },
   {
    "duration": 24,
    "start_time": "2024-11-11T04:16:07.345Z"
   },
   {
    "duration": 8,
    "start_time": "2024-11-11T04:16:07.371Z"
   },
   {
    "duration": 57,
    "start_time": "2024-11-11T04:16:07.380Z"
   },
   {
    "duration": 25,
    "start_time": "2024-11-11T04:16:07.439Z"
   },
   {
    "duration": 6,
    "start_time": "2024-11-11T04:16:07.466Z"
   },
   {
    "duration": 4,
    "start_time": "2024-11-11T04:16:07.474Z"
   },
   {
    "duration": 4,
    "start_time": "2024-11-11T04:16:07.480Z"
   },
   {
    "duration": 32,
    "start_time": "2024-11-11T04:16:07.492Z"
   },
   {
    "duration": 3,
    "start_time": "2024-11-11T04:16:07.526Z"
   },
   {
    "duration": 328,
    "start_time": "2024-11-11T04:16:07.531Z"
   },
   {
    "duration": 335,
    "start_time": "2024-11-11T04:16:07.861Z"
   },
   {
    "duration": 272,
    "start_time": "2024-11-11T04:16:08.198Z"
   },
   {
    "duration": 7,
    "start_time": "2024-11-11T04:16:08.471Z"
   },
   {
    "duration": 4,
    "start_time": "2024-11-11T04:16:08.479Z"
   },
   {
    "duration": 4,
    "start_time": "2024-11-11T04:16:08.485Z"
   },
   {
    "duration": 4,
    "start_time": "2024-11-11T04:16:08.491Z"
   },
   {
    "duration": 25,
    "start_time": "2024-11-11T04:16:08.523Z"
   },
   {
    "duration": 77,
    "start_time": "2024-11-11T04:16:08.550Z"
   },
   {
    "duration": 4,
    "start_time": "2024-11-11T04:16:08.629Z"
   },
   {
    "duration": 16,
    "start_time": "2024-11-11T04:16:08.634Z"
   },
   {
    "duration": 93,
    "start_time": "2024-11-11T04:16:08.654Z"
   },
   {
    "duration": 2313,
    "start_time": "2024-11-11T04:16:11.335Z"
   },
   {
    "duration": 6,
    "start_time": "2024-11-11T04:16:13.650Z"
   },
   {
    "duration": 2,
    "start_time": "2024-11-11T04:16:13.746Z"
   },
   {
    "duration": 126,
    "start_time": "2024-11-11T04:16:16.370Z"
   },
   {
    "duration": 5,
    "start_time": "2024-11-11T04:18:24.078Z"
   },
   {
    "duration": 3,
    "start_time": "2024-11-11T04:18:31.921Z"
   },
   {
    "duration": 392,
    "start_time": "2024-11-11T04:18:31.927Z"
   },
   {
    "duration": 3,
    "start_time": "2024-11-11T04:18:32.325Z"
   },
   {
    "duration": 4,
    "start_time": "2024-11-11T04:18:32.330Z"
   },
   {
    "duration": 3,
    "start_time": "2024-11-11T04:18:32.335Z"
   },
   {
    "duration": 4,
    "start_time": "2024-11-11T04:18:32.341Z"
   },
   {
    "duration": 110,
    "start_time": "2024-11-11T04:18:32.347Z"
   },
   {
    "duration": 1289,
    "start_time": "2024-11-11T04:18:32.458Z"
   },
   {
    "duration": 64,
    "start_time": "2024-11-11T04:18:33.749Z"
   },
   {
    "duration": 23,
    "start_time": "2024-11-11T04:18:33.825Z"
   },
   {
    "duration": 29,
    "start_time": "2024-11-11T04:18:33.850Z"
   },
   {
    "duration": 43,
    "start_time": "2024-11-11T04:18:33.881Z"
   },
   {
    "duration": 23,
    "start_time": "2024-11-11T04:18:33.926Z"
   },
   {
    "duration": 22,
    "start_time": "2024-11-11T04:18:33.951Z"
   },
   {
    "duration": 127,
    "start_time": "2024-11-11T04:18:33.977Z"
   },
   {
    "duration": 66,
    "start_time": "2024-11-11T04:18:34.106Z"
   },
   {
    "duration": 73,
    "start_time": "2024-11-11T04:18:34.174Z"
   },
   {
    "duration": 24,
    "start_time": "2024-11-11T04:18:34.248Z"
   },
   {
    "duration": 6,
    "start_time": "2024-11-11T04:18:34.273Z"
   },
   {
    "duration": 6,
    "start_time": "2024-11-11T04:18:34.280Z"
   },
   {
    "duration": 42,
    "start_time": "2024-11-11T04:18:34.288Z"
   },
   {
    "duration": 8,
    "start_time": "2024-11-11T04:18:34.332Z"
   },
   {
    "duration": 25,
    "start_time": "2024-11-11T04:18:34.341Z"
   },
   {
    "duration": 26,
    "start_time": "2024-11-11T04:18:34.367Z"
   },
   {
    "duration": 31,
    "start_time": "2024-11-11T04:18:34.394Z"
   },
   {
    "duration": 3,
    "start_time": "2024-11-11T04:18:34.427Z"
   },
   {
    "duration": 3,
    "start_time": "2024-11-11T04:18:34.432Z"
   },
   {
    "duration": 5,
    "start_time": "2024-11-11T04:18:34.437Z"
   },
   {
    "duration": 2,
    "start_time": "2024-11-11T04:18:34.444Z"
   },
   {
    "duration": 353,
    "start_time": "2024-11-11T04:18:34.449Z"
   },
   {
    "duration": 328,
    "start_time": "2024-11-11T04:18:34.804Z"
   },
   {
    "duration": 264,
    "start_time": "2024-11-11T04:18:35.134Z"
   },
   {
    "duration": 6,
    "start_time": "2024-11-11T04:18:35.400Z"
   },
   {
    "duration": 17,
    "start_time": "2024-11-11T04:18:35.408Z"
   },
   {
    "duration": 4,
    "start_time": "2024-11-11T04:18:35.427Z"
   },
   {
    "duration": 4,
    "start_time": "2024-11-11T04:18:35.432Z"
   },
   {
    "duration": 21,
    "start_time": "2024-11-11T04:18:35.437Z"
   },
   {
    "duration": 83,
    "start_time": "2024-11-11T04:18:35.460Z"
   },
   {
    "duration": 4,
    "start_time": "2024-11-11T04:18:35.544Z"
   },
   {
    "duration": 14,
    "start_time": "2024-11-11T04:18:38.890Z"
   },
   {
    "duration": 75,
    "start_time": "2024-11-11T04:18:39.606Z"
   },
   {
    "duration": 5,
    "start_time": "2024-11-11T04:18:41.966Z"
   },
   {
    "duration": 2,
    "start_time": "2024-11-11T04:18:47.284Z"
   },
   {
    "duration": 1917,
    "start_time": "2024-11-11T04:18:50.392Z"
   },
   {
    "duration": 2620,
    "start_time": "2024-11-11T19:06:03.308Z"
   },
   {
    "duration": 464,
    "start_time": "2024-11-11T19:06:05.930Z"
   },
   {
    "duration": 3,
    "start_time": "2024-11-11T19:06:06.844Z"
   },
   {
    "duration": 3,
    "start_time": "2024-11-11T19:06:07.394Z"
   },
   {
    "duration": 4,
    "start_time": "2024-11-11T19:06:07.849Z"
   },
   {
    "duration": 4,
    "start_time": "2024-11-11T19:06:08.353Z"
   },
   {
    "duration": 108,
    "start_time": "2024-11-11T19:06:08.797Z"
   },
   {
    "duration": 1383,
    "start_time": "2024-11-11T19:06:09.782Z"
   },
   {
    "duration": 73,
    "start_time": "2024-11-11T19:06:11.167Z"
   },
   {
    "duration": 27,
    "start_time": "2024-11-11T19:06:12.433Z"
   },
   {
    "duration": 25,
    "start_time": "2024-11-11T19:06:13.298Z"
   },
   {
    "duration": 24,
    "start_time": "2024-11-11T19:06:14.094Z"
   },
   {
    "duration": 25,
    "start_time": "2024-11-11T19:06:15.035Z"
   },
   {
    "duration": 24,
    "start_time": "2024-11-11T19:06:16.178Z"
   },
   {
    "duration": 112,
    "start_time": "2024-11-11T19:06:17.522Z"
   },
   {
    "duration": 66,
    "start_time": "2024-11-11T19:06:18.307Z"
   },
   {
    "duration": 63,
    "start_time": "2024-11-11T19:06:19.375Z"
   },
   {
    "duration": 27,
    "start_time": "2024-11-11T19:06:20.994Z"
   },
   {
    "duration": 6,
    "start_time": "2024-11-11T19:06:22.583Z"
   },
   {
    "duration": 6,
    "start_time": "2024-11-11T19:06:29.212Z"
   },
   {
    "duration": 27,
    "start_time": "2024-11-11T19:06:30.432Z"
   },
   {
    "duration": 7,
    "start_time": "2024-11-11T19:06:31.036Z"
   },
   {
    "duration": 26,
    "start_time": "2024-11-11T19:06:34.153Z"
   },
   {
    "duration": 29,
    "start_time": "2024-11-11T19:06:34.799Z"
   },
   {
    "duration": 10,
    "start_time": "2024-11-11T19:06:45.606Z"
   },
   {
    "duration": 4,
    "start_time": "2024-11-11T19:06:46.053Z"
   },
   {
    "duration": 4,
    "start_time": "2024-11-11T19:06:46.422Z"
   },
   {
    "duration": 5,
    "start_time": "2024-11-11T19:06:47.321Z"
   },
   {
    "duration": 2,
    "start_time": "2024-11-11T19:06:47.769Z"
   },
   {
    "duration": 334,
    "start_time": "2024-11-11T19:06:49.521Z"
   },
   {
    "duration": 325,
    "start_time": "2024-11-11T19:06:49.981Z"
   },
   {
    "duration": 267,
    "start_time": "2024-11-11T19:06:50.605Z"
   },
   {
    "duration": 6,
    "start_time": "2024-11-11T19:06:51.846Z"
   },
   {
    "duration": 4,
    "start_time": "2024-11-11T19:06:52.580Z"
   },
   {
    "duration": 4,
    "start_time": "2024-11-11T19:06:53.274Z"
   },
   {
    "duration": 4,
    "start_time": "2024-11-11T19:06:56.443Z"
   },
   {
    "duration": 25,
    "start_time": "2024-11-11T19:06:58.037Z"
   },
   {
    "duration": 63,
    "start_time": "2024-11-11T19:06:59.600Z"
   },
   {
    "duration": 4,
    "start_time": "2024-11-11T19:07:00.730Z"
   },
   {
    "duration": 11,
    "start_time": "2024-11-11T19:07:14.740Z"
   },
   {
    "duration": 81,
    "start_time": "2024-11-11T19:07:17.281Z"
   },
   {
    "duration": 4,
    "start_time": "2024-11-11T19:07:19.480Z"
   },
   {
    "duration": 2,
    "start_time": "2024-11-11T19:07:21.698Z"
   },
   {
    "duration": 2212,
    "start_time": "2024-11-11T19:07:23.879Z"
   },
   {
    "duration": 3,
    "start_time": "2024-11-11T22:56:31.829Z"
   },
   {
    "duration": 446,
    "start_time": "2024-11-11T22:56:32.415Z"
   },
   {
    "duration": 4,
    "start_time": "2024-11-11T22:56:33.080Z"
   },
   {
    "duration": 4,
    "start_time": "2024-11-11T22:56:33.420Z"
   },
   {
    "duration": 3,
    "start_time": "2024-11-11T22:56:33.734Z"
   },
   {
    "duration": 4,
    "start_time": "2024-11-11T22:56:34.037Z"
   },
   {
    "duration": 95,
    "start_time": "2024-11-11T22:56:34.349Z"
   },
   {
    "duration": 1239,
    "start_time": "2024-11-11T22:56:34.982Z"
   },
   {
    "duration": 85,
    "start_time": "2024-11-11T22:56:36.223Z"
   },
   {
    "duration": 30,
    "start_time": "2024-11-11T22:56:36.714Z"
   },
   {
    "duration": 25,
    "start_time": "2024-11-11T22:56:37.395Z"
   },
   {
    "duration": 26,
    "start_time": "2024-11-11T22:56:38.098Z"
   },
   {
    "duration": 24,
    "start_time": "2024-11-11T22:56:38.779Z"
   },
   {
    "duration": 25,
    "start_time": "2024-11-11T22:56:39.417Z"
   },
   {
    "duration": 113,
    "start_time": "2024-11-11T22:56:40.152Z"
   },
   {
    "duration": 63,
    "start_time": "2024-11-11T22:56:40.512Z"
   },
   {
    "duration": 68,
    "start_time": "2024-11-11T22:56:41.213Z"
   },
   {
    "duration": 24,
    "start_time": "2024-11-11T22:56:42.296Z"
   },
   {
    "duration": 6,
    "start_time": "2024-11-11T22:56:42.981Z"
   },
   {
    "duration": 8,
    "start_time": "2024-11-11T22:56:44.018Z"
   },
   {
    "duration": 32,
    "start_time": "2024-11-11T22:56:44.660Z"
   },
   {
    "duration": 8,
    "start_time": "2024-11-11T22:56:44.968Z"
   },
   {
    "duration": 27,
    "start_time": "2024-11-11T22:56:45.595Z"
   },
   {
    "duration": 26,
    "start_time": "2024-11-11T22:56:46.282Z"
   },
   {
    "duration": 6,
    "start_time": "2024-11-11T22:56:46.945Z"
   },
   {
    "duration": 4,
    "start_time": "2024-11-11T22:56:47.199Z"
   },
   {
    "duration": 4,
    "start_time": "2024-11-11T22:56:47.547Z"
   },
   {
    "duration": 6,
    "start_time": "2024-11-11T22:56:48.135Z"
   },
   {
    "duration": 3,
    "start_time": "2024-11-11T22:56:48.440Z"
   },
   {
    "duration": 321,
    "start_time": "2024-11-11T22:56:49.378Z"
   },
   {
    "duration": 330,
    "start_time": "2024-11-11T22:56:49.705Z"
   },
   {
    "duration": 272,
    "start_time": "2024-11-11T22:56:50.038Z"
   },
   {
    "duration": 6,
    "start_time": "2024-11-11T22:56:50.632Z"
   },
   {
    "duration": 4,
    "start_time": "2024-11-11T22:56:50.968Z"
   },
   {
    "duration": 4,
    "start_time": "2024-11-11T22:56:51.330Z"
   },
   {
    "duration": 6,
    "start_time": "2024-11-11T22:56:52.278Z"
   },
   {
    "duration": 29,
    "start_time": "2024-11-11T22:56:52.900Z"
   },
   {
    "duration": 64,
    "start_time": "2024-11-11T22:56:53.349Z"
   },
   {
    "duration": 4,
    "start_time": "2024-11-11T22:56:53.695Z"
   },
   {
    "duration": 12,
    "start_time": "2024-11-11T22:56:55.716Z"
   },
   {
    "duration": 81,
    "start_time": "2024-11-11T22:56:56.284Z"
   },
   {
    "duration": 2640,
    "start_time": "2024-11-12T00:02:59.330Z"
   },
   {
    "duration": 452,
    "start_time": "2024-11-12T00:03:01.972Z"
   },
   {
    "duration": 3,
    "start_time": "2024-11-12T00:03:02.426Z"
   },
   {
    "duration": 3,
    "start_time": "2024-11-12T00:03:02.432Z"
   },
   {
    "duration": 3,
    "start_time": "2024-11-12T00:03:02.436Z"
   },
   {
    "duration": 4,
    "start_time": "2024-11-12T00:03:02.675Z"
   },
   {
    "duration": 96,
    "start_time": "2024-11-12T00:03:02.967Z"
   },
   {
    "duration": 3,
    "start_time": "2024-11-12T00:03:52.754Z"
   },
   {
    "duration": 412,
    "start_time": "2024-11-12T00:03:52.762Z"
   },
   {
    "duration": 3,
    "start_time": "2024-11-12T00:03:53.176Z"
   },
   {
    "duration": 3,
    "start_time": "2024-11-12T00:03:53.181Z"
   },
   {
    "duration": 3,
    "start_time": "2024-11-12T00:03:53.185Z"
   },
   {
    "duration": 3,
    "start_time": "2024-11-12T00:03:53.190Z"
   },
   {
    "duration": 115,
    "start_time": "2024-11-12T00:03:53.195Z"
   },
   {
    "duration": 95,
    "start_time": "2024-11-12T00:03:55.113Z"
   },
   {
    "duration": 1280,
    "start_time": "2024-11-12T00:03:56.881Z"
   },
   {
    "duration": 82,
    "start_time": "2024-11-12T00:03:58.212Z"
   },
   {
    "duration": 33,
    "start_time": "2024-11-12T00:04:00.993Z"
   },
   {
    "duration": 10,
    "start_time": "2024-11-12T00:04:04.552Z"
   },
   {
    "duration": 14,
    "start_time": "2024-11-12T00:04:06.811Z"
   },
   {
    "duration": 67,
    "start_time": "2024-11-12T00:05:47.664Z"
   },
   {
    "duration": 24,
    "start_time": "2024-11-12T00:06:17.732Z"
   },
   {
    "duration": 27,
    "start_time": "2024-11-12T00:06:18.110Z"
   },
   {
    "duration": 25,
    "start_time": "2024-11-12T00:06:18.576Z"
   },
   {
    "duration": 25,
    "start_time": "2024-11-12T00:06:19.044Z"
   },
   {
    "duration": 24,
    "start_time": "2024-11-12T00:06:19.514Z"
   },
   {
    "duration": 115,
    "start_time": "2024-11-12T00:06:19.961Z"
   },
   {
    "duration": 64,
    "start_time": "2024-11-12T00:06:20.210Z"
   },
   {
    "duration": 112,
    "start_time": "2024-11-12T00:06:20.695Z"
   },
   {
    "duration": 25,
    "start_time": "2024-11-12T00:06:21.416Z"
   },
   {
    "duration": 5,
    "start_time": "2024-11-12T00:06:22.080Z"
   },
   {
    "duration": 6,
    "start_time": "2024-11-12T00:06:23.027Z"
   },
   {
    "duration": 37,
    "start_time": "2024-11-12T00:06:23.920Z"
   },
   {
    "duration": 6,
    "start_time": "2024-11-12T00:06:24.179Z"
   },
   {
    "duration": 26,
    "start_time": "2024-11-12T00:06:24.531Z"
   },
   {
    "duration": 27,
    "start_time": "2024-11-12T00:06:24.896Z"
   },
   {
    "duration": 7,
    "start_time": "2024-11-12T00:06:25.496Z"
   },
   {
    "duration": 4,
    "start_time": "2024-11-12T00:06:25.878Z"
   },
   {
    "duration": 4,
    "start_time": "2024-11-12T00:06:26.244Z"
   },
   {
    "duration": 6,
    "start_time": "2024-11-12T00:06:26.945Z"
   },
   {
    "duration": 3,
    "start_time": "2024-11-12T00:06:27.301Z"
   },
   {
    "duration": 325,
    "start_time": "2024-11-12T00:06:28.461Z"
   },
   {
    "duration": 328,
    "start_time": "2024-11-12T00:06:28.789Z"
   },
   {
    "duration": 273,
    "start_time": "2024-11-12T00:06:29.120Z"
   },
   {
    "duration": 7,
    "start_time": "2024-11-12T00:06:29.609Z"
   },
   {
    "duration": 4,
    "start_time": "2024-11-12T00:06:30.025Z"
   },
   {
    "duration": 4,
    "start_time": "2024-11-12T00:06:30.614Z"
   },
   {
    "duration": 5,
    "start_time": "2024-11-12T00:06:33.580Z"
   },
   {
    "duration": 28,
    "start_time": "2024-11-12T00:06:35.195Z"
   },
   {
    "duration": 64,
    "start_time": "2024-11-12T00:06:35.994Z"
   },
   {
    "duration": 3,
    "start_time": "2024-11-12T00:06:36.800Z"
   },
   {
    "duration": 16,
    "start_time": "2024-11-12T00:06:39.662Z"
   },
   {
    "duration": 92,
    "start_time": "2024-11-12T00:06:40.134Z"
   },
   {
    "duration": 6,
    "start_time": "2024-11-12T00:06:41.288Z"
   },
   {
    "duration": 2,
    "start_time": "2024-11-12T00:06:42.696Z"
   },
   {
    "duration": 437,
    "start_time": "2024-11-12T00:06:44.984Z"
   },
   {
    "duration": 2,
    "start_time": "2024-11-12T00:09:23.342Z"
   },
   {
    "duration": 418,
    "start_time": "2024-11-12T00:09:23.347Z"
   },
   {
    "duration": 3,
    "start_time": "2024-11-12T00:09:23.769Z"
   },
   {
    "duration": 3,
    "start_time": "2024-11-12T00:09:23.774Z"
   },
   {
    "duration": 3,
    "start_time": "2024-11-12T00:09:23.779Z"
   },
   {
    "duration": 4,
    "start_time": "2024-11-12T00:09:23.783Z"
   },
   {
    "duration": 116,
    "start_time": "2024-11-12T00:09:23.790Z"
   },
   {
    "duration": 1275,
    "start_time": "2024-11-12T00:09:25.597Z"
   },
   {
    "duration": 10,
    "start_time": "2024-11-12T00:09:26.875Z"
   },
   {
    "duration": 11,
    "start_time": "2024-11-12T00:09:26.887Z"
   },
   {
    "duration": 68,
    "start_time": "2024-11-12T00:09:37.662Z"
   },
   {
    "duration": 24,
    "start_time": "2024-11-12T00:09:43.083Z"
   },
   {
    "duration": 26,
    "start_time": "2024-11-12T00:09:53.679Z"
   },
   {
    "duration": 25,
    "start_time": "2024-11-12T00:09:54.507Z"
   },
   {
    "duration": 26,
    "start_time": "2024-11-12T00:09:55.259Z"
   },
   {
    "duration": 24,
    "start_time": "2024-11-12T00:09:55.977Z"
   },
   {
    "duration": 114,
    "start_time": "2024-11-12T00:09:58.994Z"
   },
   {
    "duration": 63,
    "start_time": "2024-11-12T00:09:59.802Z"
   },
   {
    "duration": 65,
    "start_time": "2024-11-12T00:10:06.884Z"
   },
   {
    "duration": 26,
    "start_time": "2024-11-12T00:10:09.178Z"
   },
   {
    "duration": 5,
    "start_time": "2024-11-12T00:10:10.226Z"
   },
   {
    "duration": 7,
    "start_time": "2024-11-12T00:10:11.361Z"
   },
   {
    "duration": 28,
    "start_time": "2024-11-12T00:10:12.469Z"
   },
   {
    "duration": 6,
    "start_time": "2024-11-12T00:10:13.249Z"
   },
   {
    "duration": 26,
    "start_time": "2024-11-12T00:10:14.713Z"
   },
   {
    "duration": 25,
    "start_time": "2024-11-12T00:10:16.027Z"
   },
   {
    "duration": 7,
    "start_time": "2024-11-12T00:10:19.732Z"
   },
   {
    "duration": 4,
    "start_time": "2024-11-12T00:10:20.761Z"
   },
   {
    "duration": 5,
    "start_time": "2024-11-12T00:10:23.986Z"
   },
   {
    "duration": 5,
    "start_time": "2024-11-12T00:10:25.644Z"
   },
   {
    "duration": 3,
    "start_time": "2024-11-12T00:10:26.364Z"
   },
   {
    "duration": 345,
    "start_time": "2024-11-12T00:10:27.710Z"
   },
   {
    "duration": 346,
    "start_time": "2024-11-12T00:10:28.211Z"
   },
   {
    "duration": 298,
    "start_time": "2024-11-12T00:10:31.632Z"
   },
   {
    "duration": 6,
    "start_time": "2024-11-12T00:10:32.611Z"
   },
   {
    "duration": 5,
    "start_time": "2024-11-12T00:10:35.750Z"
   },
   {
    "duration": 4,
    "start_time": "2024-11-12T00:10:36.197Z"
   },
   {
    "duration": 5,
    "start_time": "2024-11-12T00:10:38.111Z"
   },
   {
    "duration": 22,
    "start_time": "2024-11-12T00:10:39.812Z"
   },
   {
    "duration": 63,
    "start_time": "2024-11-12T00:10:40.314Z"
   },
   {
    "duration": 3,
    "start_time": "2024-11-12T00:10:40.867Z"
   },
   {
    "duration": 15,
    "start_time": "2024-11-12T00:10:43.727Z"
   },
   {
    "duration": 80,
    "start_time": "2024-11-12T00:10:44.511Z"
   },
   {
    "duration": 6,
    "start_time": "2024-11-12T00:10:55.137Z"
   },
   {
    "duration": 3,
    "start_time": "2024-11-12T00:10:56.960Z"
   },
   {
    "duration": 1959,
    "start_time": "2024-11-12T00:10:57.962Z"
   },
   {
    "duration": 15,
    "start_time": "2024-11-12T00:14:21.044Z"
   },
   {
    "duration": 81,
    "start_time": "2024-11-12T00:14:21.547Z"
   },
   {
    "duration": 5,
    "start_time": "2024-11-12T00:14:22.645Z"
   },
   {
    "duration": 2,
    "start_time": "2024-11-12T00:14:23.632Z"
   },
   {
    "duration": 1918,
    "start_time": "2024-11-12T00:14:24.527Z"
   },
   {
    "duration": 859,
    "start_time": "2024-11-12T00:27:03.116Z"
   },
   {
    "duration": 428,
    "start_time": "2024-11-12T00:27:03.977Z"
   },
   {
    "duration": 3,
    "start_time": "2024-11-12T00:27:04.407Z"
   },
   {
    "duration": 3,
    "start_time": "2024-11-12T00:27:04.412Z"
   },
   {
    "duration": 3,
    "start_time": "2024-11-12T00:27:04.417Z"
   },
   {
    "duration": 4,
    "start_time": "2024-11-12T00:27:04.422Z"
   },
   {
    "duration": 121,
    "start_time": "2024-11-12T00:27:04.427Z"
   },
   {
    "duration": 2,
    "start_time": "2024-11-12T00:27:06.442Z"
   },
   {
    "duration": 365,
    "start_time": "2024-11-12T00:27:07.645Z"
   },
   {
    "duration": 9,
    "start_time": "2024-11-12T00:27:08.131Z"
   },
   {
    "duration": 12,
    "start_time": "2024-11-12T00:27:08.567Z"
   },
   {
    "duration": 3,
    "start_time": "2024-11-12T00:28:22.819Z"
   },
   {
    "duration": 404,
    "start_time": "2024-11-12T00:28:22.826Z"
   },
   {
    "duration": 2,
    "start_time": "2024-11-12T00:28:23.233Z"
   },
   {
    "duration": 3,
    "start_time": "2024-11-12T00:28:23.237Z"
   },
   {
    "duration": 3,
    "start_time": "2024-11-12T00:28:23.241Z"
   },
   {
    "duration": 4,
    "start_time": "2024-11-12T00:28:23.246Z"
   },
   {
    "duration": 107,
    "start_time": "2024-11-12T00:28:23.252Z"
   },
   {
    "duration": 1324,
    "start_time": "2024-11-12T00:28:24.930Z"
   },
   {
    "duration": 14,
    "start_time": "2024-11-12T00:28:26.256Z"
   },
   {
    "duration": 12,
    "start_time": "2024-11-12T00:28:26.272Z"
   },
   {
    "duration": 70,
    "start_time": "2024-11-12T00:28:26.839Z"
   },
   {
    "duration": 26,
    "start_time": "2024-11-12T00:28:28.125Z"
   },
   {
    "duration": 25,
    "start_time": "2024-11-12T00:28:28.976Z"
   },
   {
    "duration": 25,
    "start_time": "2024-11-12T00:28:29.380Z"
   },
   {
    "duration": 25,
    "start_time": "2024-11-12T00:28:29.828Z"
   },
   {
    "duration": 23,
    "start_time": "2024-11-12T00:28:30.561Z"
   },
   {
    "duration": 115,
    "start_time": "2024-11-12T00:28:30.974Z"
   },
   {
    "duration": 65,
    "start_time": "2024-11-12T00:28:31.199Z"
   },
   {
    "duration": 64,
    "start_time": "2024-11-12T00:28:31.977Z"
   },
   {
    "duration": 25,
    "start_time": "2024-11-12T00:28:32.530Z"
   },
   {
    "duration": 5,
    "start_time": "2024-11-12T00:28:33.275Z"
   },
   {
    "duration": 7,
    "start_time": "2024-11-12T00:28:33.860Z"
   },
   {
    "duration": 29,
    "start_time": "2024-11-12T00:28:34.610Z"
   },
   {
    "duration": 8,
    "start_time": "2024-11-12T00:28:34.808Z"
   },
   {
    "duration": 27,
    "start_time": "2024-11-12T00:28:35.221Z"
   },
   {
    "duration": 26,
    "start_time": "2024-11-12T00:28:35.976Z"
   },
   {
    "duration": 7,
    "start_time": "2024-11-12T00:28:36.375Z"
   },
   {
    "duration": 4,
    "start_time": "2024-11-12T00:28:36.578Z"
   },
   {
    "duration": 4,
    "start_time": "2024-11-12T00:28:36.754Z"
   },
   {
    "duration": 5,
    "start_time": "2024-11-12T00:28:37.592Z"
   },
   {
    "duration": 3,
    "start_time": "2024-11-12T00:28:37.790Z"
   },
   {
    "duration": 328,
    "start_time": "2024-11-12T00:28:38.743Z"
   },
   {
    "duration": 331,
    "start_time": "2024-11-12T00:28:39.073Z"
   },
   {
    "duration": 265,
    "start_time": "2024-11-12T00:28:39.417Z"
   },
   {
    "duration": 6,
    "start_time": "2024-11-12T00:28:40.107Z"
   },
   {
    "duration": 4,
    "start_time": "2024-11-12T00:28:40.325Z"
   },
   {
    "duration": 5,
    "start_time": "2024-11-12T00:28:40.755Z"
   },
   {
    "duration": 5,
    "start_time": "2024-11-12T00:28:41.594Z"
   },
   {
    "duration": 27,
    "start_time": "2024-11-12T00:28:42.343Z"
   },
   {
    "duration": 64,
    "start_time": "2024-11-12T00:28:42.876Z"
   },
   {
    "duration": 4,
    "start_time": "2024-11-12T00:28:43.052Z"
   },
   {
    "duration": 12,
    "start_time": "2024-11-12T00:28:45.361Z"
   },
   {
    "duration": 83,
    "start_time": "2024-11-12T00:28:45.891Z"
   },
   {
    "duration": 8,
    "start_time": "2024-11-12T00:28:47.163Z"
   },
   {
    "duration": 2,
    "start_time": "2024-11-12T00:28:48.209Z"
   },
   {
    "duration": 2110,
    "start_time": "2024-11-12T00:28:49.024Z"
   },
   {
    "duration": 0,
    "start_time": "2024-11-12T00:28:51.136Z"
   },
   {
    "duration": 881,
    "start_time": "2024-11-12T00:48:06.527Z"
   },
   {
    "duration": 416,
    "start_time": "2024-11-12T00:48:07.410Z"
   },
   {
    "duration": 3,
    "start_time": "2024-11-12T00:48:07.828Z"
   },
   {
    "duration": 4,
    "start_time": "2024-11-12T00:48:07.833Z"
   },
   {
    "duration": 3,
    "start_time": "2024-11-12T00:48:07.838Z"
   },
   {
    "duration": 4,
    "start_time": "2024-11-12T00:48:07.842Z"
   },
   {
    "duration": 100,
    "start_time": "2024-11-12T00:48:07.871Z"
   },
   {
    "duration": 1292,
    "start_time": "2024-11-12T00:48:10.567Z"
   },
   {
    "duration": 11,
    "start_time": "2024-11-12T00:48:11.861Z"
   },
   {
    "duration": 63,
    "start_time": "2024-11-12T00:48:12.062Z"
   },
   {
    "duration": 24,
    "start_time": "2024-11-12T00:48:12.909Z"
   },
   {
    "duration": 25,
    "start_time": "2024-11-12T00:48:13.547Z"
   },
   {
    "duration": 24,
    "start_time": "2024-11-12T00:48:14.143Z"
   },
   {
    "duration": 25,
    "start_time": "2024-11-12T00:48:14.530Z"
   },
   {
    "duration": 24,
    "start_time": "2024-11-12T00:48:15.252Z"
   },
   {
    "duration": 112,
    "start_time": "2024-11-12T00:48:15.700Z"
   },
   {
    "duration": 69,
    "start_time": "2024-11-12T00:48:15.901Z"
   },
   {
    "duration": 71,
    "start_time": "2024-11-12T00:48:16.303Z"
   },
   {
    "duration": 24,
    "start_time": "2024-11-12T00:48:17.298Z"
   },
   {
    "duration": 6,
    "start_time": "2024-11-12T00:48:17.715Z"
   },
   {
    "duration": 7,
    "start_time": "2024-11-12T00:48:18.829Z"
   },
   {
    "duration": 27,
    "start_time": "2024-11-12T00:48:19.227Z"
   },
   {
    "duration": 7,
    "start_time": "2024-11-12T00:48:19.432Z"
   },
   {
    "duration": 26,
    "start_time": "2024-11-12T00:48:20.082Z"
   },
   {
    "duration": 27,
    "start_time": "2024-11-12T00:48:20.730Z"
   },
   {
    "duration": 8,
    "start_time": "2024-11-12T00:48:21.166Z"
   },
   {
    "duration": 5,
    "start_time": "2024-11-12T00:48:21.414Z"
   },
   {
    "duration": 4,
    "start_time": "2024-11-12T00:48:21.854Z"
   },
   {
    "duration": 7,
    "start_time": "2024-11-12T00:48:22.534Z"
   },
   {
    "duration": 3,
    "start_time": "2024-11-12T00:48:22.798Z"
   },
   {
    "duration": 315,
    "start_time": "2024-11-12T00:48:23.598Z"
   },
   {
    "duration": 386,
    "start_time": "2024-11-12T00:48:24.049Z"
   },
   {
    "duration": 274,
    "start_time": "2024-11-12T00:48:24.437Z"
   },
   {
    "duration": 6,
    "start_time": "2024-11-12T00:48:24.748Z"
   },
   {
    "duration": 4,
    "start_time": "2024-11-12T00:48:24.944Z"
   },
   {
    "duration": 4,
    "start_time": "2024-11-12T00:48:25.456Z"
   },
   {
    "duration": 5,
    "start_time": "2024-11-12T00:48:26.303Z"
   },
   {
    "duration": 26,
    "start_time": "2024-11-12T00:48:27.081Z"
   },
   {
    "duration": 64,
    "start_time": "2024-11-12T00:48:27.548Z"
   },
   {
    "duration": 4,
    "start_time": "2024-11-12T00:48:27.914Z"
   },
   {
    "duration": 12,
    "start_time": "2024-11-12T00:48:30.080Z"
   },
   {
    "duration": 79,
    "start_time": "2024-11-12T00:48:30.588Z"
   },
   {
    "duration": 5,
    "start_time": "2024-11-12T00:48:31.688Z"
   },
   {
    "duration": 2,
    "start_time": "2024-11-12T00:48:32.867Z"
   },
   {
    "duration": 2170,
    "start_time": "2024-11-12T00:48:33.751Z"
   },
   {
    "duration": 3,
    "start_time": "2024-11-12T00:49:51.622Z"
   },
   {
    "duration": 418,
    "start_time": "2024-11-12T00:49:51.629Z"
   },
   {
    "duration": 3,
    "start_time": "2024-11-12T00:49:52.049Z"
   },
   {
    "duration": 3,
    "start_time": "2024-11-12T00:49:52.054Z"
   },
   {
    "duration": 3,
    "start_time": "2024-11-12T00:49:52.071Z"
   },
   {
    "duration": 4,
    "start_time": "2024-11-12T00:49:52.076Z"
   },
   {
    "duration": 102,
    "start_time": "2024-11-12T00:49:52.081Z"
   },
   {
    "duration": 1248,
    "start_time": "2024-11-12T00:49:52.185Z"
   },
   {
    "duration": 11,
    "start_time": "2024-11-12T00:49:53.435Z"
   },
   {
    "duration": 73,
    "start_time": "2024-11-12T00:49:53.448Z"
   },
   {
    "duration": 25,
    "start_time": "2024-11-12T00:49:53.523Z"
   },
   {
    "duration": 37,
    "start_time": "2024-11-12T00:49:53.549Z"
   },
   {
    "duration": 25,
    "start_time": "2024-11-12T00:49:53.587Z"
   },
   {
    "duration": 23,
    "start_time": "2024-11-12T00:49:53.614Z"
   },
   {
    "duration": 40,
    "start_time": "2024-11-12T00:49:53.641Z"
   },
   {
    "duration": 121,
    "start_time": "2024-11-12T00:49:53.682Z"
   },
   {
    "duration": 72,
    "start_time": "2024-11-12T00:49:53.805Z"
   },
   {
    "duration": 58,
    "start_time": "2024-11-12T00:49:53.878Z"
   },
   {
    "duration": 36,
    "start_time": "2024-11-12T00:49:53.937Z"
   },
   {
    "duration": 6,
    "start_time": "2024-11-12T00:49:53.974Z"
   },
   {
    "duration": 7,
    "start_time": "2024-11-12T00:49:53.981Z"
   },
   {
    "duration": 23,
    "start_time": "2024-11-12T00:49:53.990Z"
   },
   {
    "duration": 6,
    "start_time": "2024-11-12T00:49:54.015Z"
   },
   {
    "duration": 57,
    "start_time": "2024-11-12T00:49:54.023Z"
   },
   {
    "duration": 25,
    "start_time": "2024-11-12T00:49:54.082Z"
   },
   {
    "duration": 6,
    "start_time": "2024-11-12T00:49:54.108Z"
   },
   {
    "duration": 4,
    "start_time": "2024-11-12T00:49:54.115Z"
   },
   {
    "duration": 7,
    "start_time": "2024-11-12T00:49:54.121Z"
   },
   {
    "duration": 7,
    "start_time": "2024-11-12T00:49:54.129Z"
   },
   {
    "duration": 31,
    "start_time": "2024-11-12T00:49:54.139Z"
   },
   {
    "duration": 309,
    "start_time": "2024-11-12T00:49:54.172Z"
   },
   {
    "duration": 334,
    "start_time": "2024-11-12T00:49:54.483Z"
   },
   {
    "duration": 273,
    "start_time": "2024-11-12T00:49:54.819Z"
   },
   {
    "duration": 6,
    "start_time": "2024-11-12T00:49:55.093Z"
   },
   {
    "duration": 4,
    "start_time": "2024-11-12T00:49:55.100Z"
   },
   {
    "duration": 4,
    "start_time": "2024-11-12T00:49:55.106Z"
   },
   {
    "duration": 4,
    "start_time": "2024-11-12T00:49:55.112Z"
   },
   {
    "duration": 55,
    "start_time": "2024-11-12T00:49:55.117Z"
   },
   {
    "duration": 64,
    "start_time": "2024-11-12T00:49:55.174Z"
   },
   {
    "duration": 4,
    "start_time": "2024-11-12T00:49:55.240Z"
   },
   {
    "duration": 33,
    "start_time": "2024-11-12T00:49:55.246Z"
   },
   {
    "duration": 77,
    "start_time": "2024-11-12T00:49:55.283Z"
   },
   {
    "duration": 5,
    "start_time": "2024-11-12T00:49:57.944Z"
   },
   {
    "duration": 2,
    "start_time": "2024-11-12T00:50:00.161Z"
   },
   {
    "duration": 1937,
    "start_time": "2024-11-12T00:50:01.133Z"
   },
   {
    "duration": 844,
    "start_time": "2024-11-12T00:50:35.045Z"
   },
   {
    "duration": 415,
    "start_time": "2024-11-12T00:50:35.891Z"
   },
   {
    "duration": 3,
    "start_time": "2024-11-12T00:50:36.308Z"
   },
   {
    "duration": 3,
    "start_time": "2024-11-12T00:50:36.328Z"
   },
   {
    "duration": 3,
    "start_time": "2024-11-12T00:50:36.497Z"
   },
   {
    "duration": 4,
    "start_time": "2024-11-12T00:50:36.658Z"
   },
   {
    "duration": 95,
    "start_time": "2024-11-12T00:50:37.187Z"
   },
   {
    "duration": 1249,
    "start_time": "2024-11-12T00:50:38.731Z"
   },
   {
    "duration": 11,
    "start_time": "2024-11-12T00:50:53.164Z"
   },
   {
    "duration": 64,
    "start_time": "2024-11-12T00:50:54.761Z"
   },
   {
    "duration": 25,
    "start_time": "2024-11-12T00:51:09.012Z"
   },
   {
    "duration": 26,
    "start_time": "2024-11-12T00:51:09.376Z"
   },
   {
    "duration": 25,
    "start_time": "2024-11-12T00:51:09.747Z"
   },
   {
    "duration": 24,
    "start_time": "2024-11-12T00:51:10.113Z"
   },
   {
    "duration": 24,
    "start_time": "2024-11-12T00:51:10.478Z"
   },
   {
    "duration": 118,
    "start_time": "2024-11-12T00:51:10.858Z"
   },
   {
    "duration": 62,
    "start_time": "2024-11-12T00:51:11.027Z"
   },
   {
    "duration": 59,
    "start_time": "2024-11-12T00:51:11.391Z"
   },
   {
    "duration": 24,
    "start_time": "2024-11-12T00:51:11.964Z"
   },
   {
    "duration": 7,
    "start_time": "2024-11-12T00:51:12.359Z"
   },
   {
    "duration": 7,
    "start_time": "2024-11-12T00:51:12.976Z"
   },
   {
    "duration": 33,
    "start_time": "2024-11-12T00:51:13.476Z"
   },
   {
    "duration": 6,
    "start_time": "2024-11-12T00:51:13.727Z"
   },
   {
    "duration": 26,
    "start_time": "2024-11-12T00:51:14.186Z"
   },
   {
    "duration": 26,
    "start_time": "2024-11-12T00:51:14.615Z"
   },
   {
    "duration": 7,
    "start_time": "2024-11-12T00:51:15.048Z"
   },
   {
    "duration": 3,
    "start_time": "2024-11-12T00:51:15.298Z"
   },
   {
    "duration": 4,
    "start_time": "2024-11-12T00:51:15.493Z"
   },
   {
    "duration": 5,
    "start_time": "2024-11-12T00:51:15.929Z"
   },
   {
    "duration": 3,
    "start_time": "2024-11-12T00:51:16.148Z"
   },
   {
    "duration": 314,
    "start_time": "2024-11-12T00:51:16.826Z"
   },
   {
    "duration": 396,
    "start_time": "2024-11-12T00:51:17.143Z"
   },
   {
    "duration": 281,
    "start_time": "2024-11-12T00:51:17.542Z"
   },
   {
    "duration": 7,
    "start_time": "2024-11-12T00:51:17.825Z"
   },
   {
    "duration": 4,
    "start_time": "2024-11-12T00:51:18.080Z"
   },
   {
    "duration": 4,
    "start_time": "2024-11-12T00:51:18.437Z"
   },
   {
    "duration": 5,
    "start_time": "2024-11-12T00:51:19.427Z"
   },
   {
    "duration": 29,
    "start_time": "2024-11-12T00:51:19.806Z"
   },
   {
    "duration": 63,
    "start_time": "2024-11-12T00:51:19.984Z"
   },
   {
    "duration": 4,
    "start_time": "2024-11-12T00:51:20.378Z"
   },
   {
    "duration": 12,
    "start_time": "2024-11-12T00:51:22.094Z"
   },
   {
    "duration": 83,
    "start_time": "2024-11-12T00:51:22.717Z"
   },
   {
    "duration": 5,
    "start_time": "2024-11-12T00:51:23.696Z"
   },
   {
    "duration": 3,
    "start_time": "2024-11-12T00:51:25.162Z"
   },
   {
    "duration": 2213,
    "start_time": "2024-11-12T00:51:26.529Z"
   },
   {
    "duration": 4,
    "start_time": "2024-11-12T01:03:35.638Z"
   },
   {
    "duration": 412,
    "start_time": "2024-11-12T01:03:35.644Z"
   },
   {
    "duration": 3,
    "start_time": "2024-11-12T01:03:36.058Z"
   },
   {
    "duration": 2,
    "start_time": "2024-11-12T01:03:36.072Z"
   },
   {
    "duration": 4,
    "start_time": "2024-11-12T01:03:36.076Z"
   },
   {
    "duration": 4,
    "start_time": "2024-11-12T01:03:36.081Z"
   },
   {
    "duration": 123,
    "start_time": "2024-11-12T01:03:36.087Z"
   },
   {
    "duration": 752,
    "start_time": "2024-11-12T01:03:36.212Z"
   },
   {
    "duration": 0,
    "start_time": "2024-11-12T01:03:36.966Z"
   },
   {
    "duration": 0,
    "start_time": "2024-11-12T01:03:36.967Z"
   },
   {
    "duration": 0,
    "start_time": "2024-11-12T01:03:36.967Z"
   },
   {
    "duration": 0,
    "start_time": "2024-11-12T01:03:36.968Z"
   },
   {
    "duration": 0,
    "start_time": "2024-11-12T01:03:36.968Z"
   },
   {
    "duration": 0,
    "start_time": "2024-11-12T01:03:36.969Z"
   },
   {
    "duration": 0,
    "start_time": "2024-11-12T01:03:36.970Z"
   },
   {
    "duration": 0,
    "start_time": "2024-11-12T01:03:36.971Z"
   },
   {
    "duration": 0,
    "start_time": "2024-11-12T01:03:36.972Z"
   },
   {
    "duration": 0,
    "start_time": "2024-11-12T01:03:36.973Z"
   },
   {
    "duration": 0,
    "start_time": "2024-11-12T01:03:36.978Z"
   },
   {
    "duration": 0,
    "start_time": "2024-11-12T01:03:36.979Z"
   },
   {
    "duration": 0,
    "start_time": "2024-11-12T01:03:36.980Z"
   },
   {
    "duration": 0,
    "start_time": "2024-11-12T01:03:36.981Z"
   },
   {
    "duration": 0,
    "start_time": "2024-11-12T01:03:36.982Z"
   },
   {
    "duration": 0,
    "start_time": "2024-11-12T01:03:36.982Z"
   },
   {
    "duration": 0,
    "start_time": "2024-11-12T01:03:36.983Z"
   },
   {
    "duration": 0,
    "start_time": "2024-11-12T01:03:36.985Z"
   },
   {
    "duration": 0,
    "start_time": "2024-11-12T01:03:36.987Z"
   },
   {
    "duration": 0,
    "start_time": "2024-11-12T01:03:36.989Z"
   },
   {
    "duration": 0,
    "start_time": "2024-11-12T01:03:36.990Z"
   },
   {
    "duration": 0,
    "start_time": "2024-11-12T01:03:36.991Z"
   },
   {
    "duration": 0,
    "start_time": "2024-11-12T01:03:36.992Z"
   },
   {
    "duration": 0,
    "start_time": "2024-11-12T01:03:36.993Z"
   },
   {
    "duration": 0,
    "start_time": "2024-11-12T01:03:36.994Z"
   },
   {
    "duration": 0,
    "start_time": "2024-11-12T01:03:36.994Z"
   },
   {
    "duration": 0,
    "start_time": "2024-11-12T01:03:36.995Z"
   },
   {
    "duration": 0,
    "start_time": "2024-11-12T01:03:36.996Z"
   },
   {
    "duration": 0,
    "start_time": "2024-11-12T01:03:36.998Z"
   },
   {
    "duration": 0,
    "start_time": "2024-11-12T01:03:36.999Z"
   },
   {
    "duration": 0,
    "start_time": "2024-11-12T01:03:37.001Z"
   },
   {
    "duration": 0,
    "start_time": "2024-11-12T01:03:37.002Z"
   },
   {
    "duration": 0,
    "start_time": "2024-11-12T01:03:37.004Z"
   },
   {
    "duration": 18,
    "start_time": "2024-11-12T01:04:08.513Z"
   },
   {
    "duration": 99,
    "start_time": "2024-11-12T01:04:10.877Z"
   },
   {
    "duration": 8,
    "start_time": "2024-11-12T01:04:35.927Z"
   },
   {
    "duration": 3,
    "start_time": "2024-11-12T01:04:37.129Z"
   },
   {
    "duration": 93,
    "start_time": "2024-11-12T01:04:38.487Z"
   },
   {
    "duration": 50,
    "start_time": "2024-11-12T01:05:39.315Z"
   },
   {
    "duration": 11,
    "start_time": "2024-11-12T01:06:00.860Z"
   },
   {
    "duration": 3,
    "start_time": "2024-11-12T01:06:03.687Z"
   },
   {
    "duration": 372,
    "start_time": "2024-11-12T01:06:03.693Z"
   },
   {
    "duration": 3,
    "start_time": "2024-11-12T01:06:04.070Z"
   },
   {
    "duration": 3,
    "start_time": "2024-11-12T01:06:04.075Z"
   },
   {
    "duration": 3,
    "start_time": "2024-11-12T01:06:04.080Z"
   },
   {
    "duration": 4,
    "start_time": "2024-11-12T01:06:04.085Z"
   },
   {
    "duration": 112,
    "start_time": "2024-11-12T01:06:04.090Z"
   },
   {
    "duration": 18,
    "start_time": "2024-11-12T01:06:04.204Z"
   },
   {
    "duration": 35,
    "start_time": "2024-11-12T01:06:05.757Z"
   },
   {
    "duration": 10,
    "start_time": "2024-11-12T01:06:06.235Z"
   },
   {
    "duration": 35,
    "start_time": "2024-11-12T01:06:17.413Z"
   },
   {
    "duration": 897,
    "start_time": "2024-11-12T01:07:07.475Z"
   },
   {
    "duration": 431,
    "start_time": "2024-11-12T01:07:08.374Z"
   },
   {
    "duration": 3,
    "start_time": "2024-11-12T01:07:08.807Z"
   },
   {
    "duration": 4,
    "start_time": "2024-11-12T01:07:08.812Z"
   },
   {
    "duration": 3,
    "start_time": "2024-11-12T01:07:08.819Z"
   },
   {
    "duration": 5,
    "start_time": "2024-11-12T01:07:08.823Z"
   },
   {
    "duration": 116,
    "start_time": "2024-11-12T01:07:08.829Z"
   },
   {
    "duration": 28,
    "start_time": "2024-11-12T01:07:14.871Z"
   },
   {
    "duration": 9,
    "start_time": "2024-11-12T01:07:18.657Z"
   },
   {
    "duration": 68,
    "start_time": "2024-11-12T01:07:46.611Z"
   },
   {
    "duration": 25,
    "start_time": "2024-11-12T01:07:48.222Z"
   },
   {
    "duration": 27,
    "start_time": "2024-11-12T01:07:49.190Z"
   },
   {
    "duration": 26,
    "start_time": "2024-11-12T01:07:50.041Z"
   },
   {
    "duration": 25,
    "start_time": "2024-11-12T01:07:50.922Z"
   },
   {
    "duration": 25,
    "start_time": "2024-11-12T01:07:51.856Z"
   },
   {
    "duration": 111,
    "start_time": "2024-11-12T01:07:52.838Z"
   },
   {
    "duration": 62,
    "start_time": "2024-11-12T01:07:53.332Z"
   },
   {
    "duration": 73,
    "start_time": "2024-11-12T01:07:54.155Z"
   },
   {
    "duration": 25,
    "start_time": "2024-11-12T01:07:55.487Z"
   },
   {
    "duration": 6,
    "start_time": "2024-11-12T01:07:56.409Z"
   },
   {
    "duration": 7,
    "start_time": "2024-11-12T01:07:57.739Z"
   },
   {
    "duration": 28,
    "start_time": "2024-11-12T01:07:58.573Z"
   },
   {
    "duration": 7,
    "start_time": "2024-11-12T01:07:58.988Z"
   },
   {
    "duration": 26,
    "start_time": "2024-11-12T01:07:59.854Z"
   },
   {
    "duration": 27,
    "start_time": "2024-11-12T01:08:00.657Z"
   },
   {
    "duration": 7,
    "start_time": "2024-11-12T01:08:01.471Z"
   },
   {
    "duration": 4,
    "start_time": "2024-11-12T01:08:01.857Z"
   },
   {
    "duration": 5,
    "start_time": "2024-11-12T01:08:02.308Z"
   },
   {
    "duration": 6,
    "start_time": "2024-11-12T01:08:03.488Z"
   },
   {
    "duration": 3,
    "start_time": "2024-11-12T01:08:03.924Z"
   },
   {
    "duration": 315,
    "start_time": "2024-11-12T01:08:05.119Z"
   },
   {
    "duration": 379,
    "start_time": "2024-11-12T01:08:05.510Z"
   },
   {
    "duration": 268,
    "start_time": "2024-11-12T01:08:06.024Z"
   },
   {
    "duration": 9,
    "start_time": "2024-11-12T01:08:06.853Z"
   },
   {
    "duration": 5,
    "start_time": "2024-11-12T01:08:07.283Z"
   },
   {
    "duration": 4,
    "start_time": "2024-11-12T01:08:07.656Z"
   },
   {
    "duration": 4,
    "start_time": "2024-11-12T01:08:08.855Z"
   },
   {
    "duration": 26,
    "start_time": "2024-11-12T01:08:09.336Z"
   },
   {
    "duration": 62,
    "start_time": "2024-11-12T01:08:09.758Z"
   },
   {
    "duration": 3,
    "start_time": "2024-11-12T01:08:10.172Z"
   },
   {
    "duration": 11,
    "start_time": "2024-11-12T01:08:11.756Z"
   },
   {
    "duration": 76,
    "start_time": "2024-11-12T01:08:12.621Z"
   },
   {
    "duration": 6,
    "start_time": "2024-11-12T01:08:14.210Z"
   },
   {
    "duration": 2,
    "start_time": "2024-11-12T01:08:17.409Z"
   },
   {
    "duration": 301,
    "start_time": "2024-11-12T01:08:18.233Z"
   },
   {
    "duration": 6,
    "start_time": "2024-11-12T01:13:03.410Z"
   },
   {
    "duration": 3,
    "start_time": "2024-11-12T01:13:07.015Z"
   },
   {
    "duration": 409,
    "start_time": "2024-11-12T01:13:07.022Z"
   },
   {
    "duration": 3,
    "start_time": "2024-11-12T01:13:07.433Z"
   },
   {
    "duration": 2,
    "start_time": "2024-11-12T01:13:07.438Z"
   },
   {
    "duration": 3,
    "start_time": "2024-11-12T01:13:07.442Z"
   },
   {
    "duration": 4,
    "start_time": "2024-11-12T01:13:07.447Z"
   },
   {
    "duration": 91,
    "start_time": "2024-11-12T01:13:07.472Z"
   },
   {
    "duration": 23,
    "start_time": "2024-11-12T01:13:07.571Z"
   },
   {
    "duration": 9,
    "start_time": "2024-11-12T01:13:07.596Z"
   },
   {
    "duration": 79,
    "start_time": "2024-11-12T01:13:07.607Z"
   },
   {
    "duration": 23,
    "start_time": "2024-11-12T01:13:07.688Z"
   },
   {
    "duration": 24,
    "start_time": "2024-11-12T01:13:07.713Z"
   },
   {
    "duration": 38,
    "start_time": "2024-11-12T01:13:07.739Z"
   },
   {
    "duration": 24,
    "start_time": "2024-11-12T01:13:07.779Z"
   },
   {
    "duration": 25,
    "start_time": "2024-11-12T01:13:07.807Z"
   },
   {
    "duration": 132,
    "start_time": "2024-11-12T01:13:07.833Z"
   },
   {
    "duration": 62,
    "start_time": "2024-11-12T01:13:07.971Z"
   },
   {
    "duration": 65,
    "start_time": "2024-11-12T01:13:08.035Z"
   },
   {
    "duration": 24,
    "start_time": "2024-11-12T01:13:08.102Z"
   },
   {
    "duration": 6,
    "start_time": "2024-11-12T01:13:08.128Z"
   },
   {
    "duration": 7,
    "start_time": "2024-11-12T01:13:08.135Z"
   },
   {
    "duration": 50,
    "start_time": "2024-11-12T01:13:08.144Z"
   },
   {
    "duration": 9,
    "start_time": "2024-11-12T01:13:08.198Z"
   },
   {
    "duration": 26,
    "start_time": "2024-11-12T01:13:08.209Z"
   },
   {
    "duration": 38,
    "start_time": "2024-11-12T01:13:08.237Z"
   },
   {
    "duration": 6,
    "start_time": "2024-11-12T01:13:08.276Z"
   },
   {
    "duration": 5,
    "start_time": "2024-11-12T01:13:08.283Z"
   },
   {
    "duration": 3,
    "start_time": "2024-11-12T01:13:08.290Z"
   },
   {
    "duration": 6,
    "start_time": "2024-11-12T01:13:08.295Z"
   },
   {
    "duration": 3,
    "start_time": "2024-11-12T01:13:08.303Z"
   },
   {
    "duration": 340,
    "start_time": "2024-11-12T01:13:08.307Z"
   },
   {
    "duration": 329,
    "start_time": "2024-11-12T01:13:08.649Z"
   },
   {
    "duration": 272,
    "start_time": "2024-11-12T01:13:08.980Z"
   },
   {
    "duration": 16,
    "start_time": "2024-11-12T01:13:09.254Z"
   },
   {
    "duration": 6,
    "start_time": "2024-11-12T01:13:09.273Z"
   },
   {
    "duration": 5,
    "start_time": "2024-11-12T01:13:09.281Z"
   },
   {
    "duration": 6,
    "start_time": "2024-11-12T01:13:09.288Z"
   },
   {
    "duration": 25,
    "start_time": "2024-11-12T01:13:09.295Z"
   },
   {
    "duration": 83,
    "start_time": "2024-11-12T01:13:09.323Z"
   },
   {
    "duration": 3,
    "start_time": "2024-11-12T01:13:09.408Z"
   },
   {
    "duration": 13,
    "start_time": "2024-11-12T01:13:09.413Z"
   },
   {
    "duration": 91,
    "start_time": "2024-11-12T01:13:09.430Z"
   },
   {
    "duration": 6,
    "start_time": "2024-11-12T01:13:09.522Z"
   },
   {
    "duration": 8,
    "start_time": "2024-11-12T01:13:12.518Z"
   },
   {
    "duration": 3,
    "start_time": "2024-11-12T01:13:13.717Z"
   },
   {
    "duration": 81,
    "start_time": "2024-11-12T01:13:15.323Z"
   },
   {
    "duration": 3,
    "start_time": "2024-11-12T01:13:41.703Z"
   },
   {
    "duration": 397,
    "start_time": "2024-11-12T01:13:41.708Z"
   },
   {
    "duration": 2,
    "start_time": "2024-11-12T01:13:42.107Z"
   },
   {
    "duration": 4,
    "start_time": "2024-11-12T01:13:42.111Z"
   },
   {
    "duration": 2,
    "start_time": "2024-11-12T01:13:42.118Z"
   },
   {
    "duration": 4,
    "start_time": "2024-11-12T01:13:42.122Z"
   },
   {
    "duration": 117,
    "start_time": "2024-11-12T01:13:42.128Z"
   },
   {
    "duration": 35,
    "start_time": "2024-11-12T01:13:42.246Z"
   },
   {
    "duration": 9,
    "start_time": "2024-11-12T01:13:42.283Z"
   },
   {
    "duration": 62,
    "start_time": "2024-11-12T01:13:42.294Z"
   },
   {
    "duration": 25,
    "start_time": "2024-11-12T01:13:42.371Z"
   },
   {
    "duration": 24,
    "start_time": "2024-11-12T01:13:42.398Z"
   },
   {
    "duration": 25,
    "start_time": "2024-11-12T01:13:42.425Z"
   },
   {
    "duration": 40,
    "start_time": "2024-11-12T01:13:42.451Z"
   },
   {
    "duration": 31,
    "start_time": "2024-11-12T01:13:42.493Z"
   },
   {
    "duration": 132,
    "start_time": "2024-11-12T01:13:42.526Z"
   },
   {
    "duration": 66,
    "start_time": "2024-11-12T01:13:42.660Z"
   },
   {
    "duration": 63,
    "start_time": "2024-11-12T01:13:42.728Z"
   },
   {
    "duration": 24,
    "start_time": "2024-11-12T01:13:42.792Z"
   },
   {
    "duration": 5,
    "start_time": "2024-11-12T01:13:42.818Z"
   },
   {
    "duration": 7,
    "start_time": "2024-11-12T01:13:42.824Z"
   },
   {
    "duration": 49,
    "start_time": "2024-11-12T01:13:42.832Z"
   },
   {
    "duration": 6,
    "start_time": "2024-11-12T01:13:42.883Z"
   },
   {
    "duration": 25,
    "start_time": "2024-11-12T01:13:42.891Z"
   },
   {
    "duration": 26,
    "start_time": "2024-11-12T01:13:42.917Z"
   },
   {
    "duration": 31,
    "start_time": "2024-11-12T01:13:42.944Z"
   },
   {
    "duration": 4,
    "start_time": "2024-11-12T01:13:42.977Z"
   },
   {
    "duration": 4,
    "start_time": "2024-11-12T01:13:42.982Z"
   },
   {
    "duration": 6,
    "start_time": "2024-11-12T01:13:42.988Z"
   },
   {
    "duration": 2,
    "start_time": "2024-11-12T01:13:42.996Z"
   },
   {
    "duration": 327,
    "start_time": "2024-11-12T01:13:43.001Z"
   },
   {
    "duration": 329,
    "start_time": "2024-11-12T01:13:43.330Z"
   },
   {
    "duration": 363,
    "start_time": "2024-11-12T01:13:43.661Z"
   },
   {
    "duration": 6,
    "start_time": "2024-11-12T01:13:44.026Z"
   },
   {
    "duration": 4,
    "start_time": "2024-11-12T01:13:44.034Z"
   },
   {
    "duration": 4,
    "start_time": "2024-11-12T01:13:44.039Z"
   },
   {
    "duration": 3,
    "start_time": "2024-11-12T01:13:44.070Z"
   },
   {
    "duration": 20,
    "start_time": "2024-11-12T01:13:44.075Z"
   },
   {
    "duration": 75,
    "start_time": "2024-11-12T01:13:44.096Z"
   },
   {
    "duration": 4,
    "start_time": "2024-11-12T01:13:44.173Z"
   },
   {
    "duration": 13,
    "start_time": "2024-11-12T01:13:44.179Z"
   },
   {
    "duration": 91,
    "start_time": "2024-11-12T01:13:44.194Z"
   },
   {
    "duration": 6,
    "start_time": "2024-11-12T01:13:47.058Z"
   },
   {
    "duration": 3,
    "start_time": "2024-11-12T01:13:48.307Z"
   },
   {
    "duration": 79,
    "start_time": "2024-11-12T01:13:49.620Z"
   },
   {
    "duration": 821,
    "start_time": "2024-11-12T01:14:19.158Z"
   },
   {
    "duration": 422,
    "start_time": "2024-11-12T01:14:19.981Z"
   },
   {
    "duration": 3,
    "start_time": "2024-11-12T01:14:20.405Z"
   },
   {
    "duration": 3,
    "start_time": "2024-11-12T01:14:20.411Z"
   },
   {
    "duration": 3,
    "start_time": "2024-11-12T01:14:20.415Z"
   },
   {
    "duration": 4,
    "start_time": "2024-11-12T01:14:20.420Z"
   },
   {
    "duration": 112,
    "start_time": "2024-11-12T01:14:20.425Z"
   },
   {
    "duration": 34,
    "start_time": "2024-11-12T01:14:20.539Z"
   },
   {
    "duration": 9,
    "start_time": "2024-11-12T01:14:20.575Z"
   },
   {
    "duration": 81,
    "start_time": "2024-11-12T01:14:20.588Z"
   },
   {
    "duration": 25,
    "start_time": "2024-11-12T01:14:20.671Z"
   },
   {
    "duration": 24,
    "start_time": "2024-11-12T01:14:20.699Z"
   },
   {
    "duration": 26,
    "start_time": "2024-11-12T01:14:20.725Z"
   },
   {
    "duration": 24,
    "start_time": "2024-11-12T01:14:20.769Z"
   },
   {
    "duration": 22,
    "start_time": "2024-11-12T01:14:20.795Z"
   },
   {
    "duration": 130,
    "start_time": "2024-11-12T01:14:20.819Z"
   },
   {
    "duration": 66,
    "start_time": "2024-11-12T01:14:20.951Z"
   },
   {
    "duration": 64,
    "start_time": "2024-11-12T01:14:21.018Z"
   },
   {
    "duration": 27,
    "start_time": "2024-11-12T01:14:21.084Z"
   },
   {
    "duration": 7,
    "start_time": "2024-11-12T01:14:21.113Z"
   },
   {
    "duration": 6,
    "start_time": "2024-11-12T01:14:21.122Z"
   },
   {
    "duration": 50,
    "start_time": "2024-11-12T01:14:21.130Z"
   },
   {
    "duration": 7,
    "start_time": "2024-11-12T01:14:21.182Z"
   },
   {
    "duration": 25,
    "start_time": "2024-11-12T01:14:21.190Z"
   },
   {
    "duration": 26,
    "start_time": "2024-11-12T01:14:21.217Z"
   },
   {
    "duration": 26,
    "start_time": "2024-11-12T01:14:21.245Z"
   },
   {
    "duration": 4,
    "start_time": "2024-11-12T01:14:21.273Z"
   },
   {
    "duration": 3,
    "start_time": "2024-11-12T01:14:21.281Z"
   },
   {
    "duration": 6,
    "start_time": "2024-11-12T01:14:21.286Z"
   },
   {
    "duration": 4,
    "start_time": "2024-11-12T01:14:21.293Z"
   },
   {
    "duration": 361,
    "start_time": "2024-11-12T01:14:21.299Z"
   },
   {
    "duration": 388,
    "start_time": "2024-11-12T01:14:21.662Z"
   },
   {
    "duration": 267,
    "start_time": "2024-11-12T01:14:22.052Z"
   },
   {
    "duration": 7,
    "start_time": "2024-11-12T01:14:22.321Z"
   },
   {
    "duration": 4,
    "start_time": "2024-11-12T01:14:22.330Z"
   },
   {
    "duration": 5,
    "start_time": "2024-11-12T01:14:22.335Z"
   },
   {
    "duration": 29,
    "start_time": "2024-11-12T01:14:22.341Z"
   },
   {
    "duration": 25,
    "start_time": "2024-11-12T01:14:22.371Z"
   },
   {
    "duration": 75,
    "start_time": "2024-11-12T01:14:22.398Z"
   },
   {
    "duration": 4,
    "start_time": "2024-11-12T01:14:22.474Z"
   },
   {
    "duration": 10,
    "start_time": "2024-11-12T01:14:22.480Z"
   },
   {
    "duration": 90,
    "start_time": "2024-11-12T01:14:22.492Z"
   },
   {
    "duration": 5,
    "start_time": "2024-11-12T01:14:24.736Z"
   },
   {
    "duration": 2,
    "start_time": "2024-11-12T01:14:25.931Z"
   },
   {
    "duration": 306,
    "start_time": "2024-11-12T01:14:27.848Z"
   },
   {
    "duration": 3,
    "start_time": "2024-11-12T01:15:52.038Z"
   },
   {
    "duration": 424,
    "start_time": "2024-11-12T01:15:52.045Z"
   },
   {
    "duration": 3,
    "start_time": "2024-11-12T01:15:52.471Z"
   },
   {
    "duration": 3,
    "start_time": "2024-11-12T01:15:52.475Z"
   },
   {
    "duration": 4,
    "start_time": "2024-11-12T01:15:52.479Z"
   },
   {
    "duration": 3,
    "start_time": "2024-11-12T01:15:52.486Z"
   },
   {
    "duration": 110,
    "start_time": "2024-11-12T01:15:52.491Z"
   },
   {
    "duration": 23,
    "start_time": "2024-11-12T01:15:52.603Z"
   },
   {
    "duration": 10,
    "start_time": "2024-11-12T01:15:52.628Z"
   },
   {
    "duration": 79,
    "start_time": "2024-11-12T01:15:52.639Z"
   },
   {
    "duration": 24,
    "start_time": "2024-11-12T01:15:52.720Z"
   },
   {
    "duration": 39,
    "start_time": "2024-11-12T01:15:52.746Z"
   },
   {
    "duration": 25,
    "start_time": "2024-11-12T01:15:52.787Z"
   },
   {
    "duration": 25,
    "start_time": "2024-11-12T01:15:52.814Z"
   },
   {
    "duration": 39,
    "start_time": "2024-11-12T01:15:52.842Z"
   },
   {
    "duration": 120,
    "start_time": "2024-11-12T01:15:52.883Z"
   },
   {
    "duration": 67,
    "start_time": "2024-11-12T01:15:53.004Z"
   },
   {
    "duration": 51,
    "start_time": "2024-11-12T01:15:53.072Z"
   },
   {
    "duration": 26,
    "start_time": "2024-11-12T01:15:53.125Z"
   },
   {
    "duration": 22,
    "start_time": "2024-11-12T01:15:53.152Z"
   },
   {
    "duration": 7,
    "start_time": "2024-11-12T01:15:53.175Z"
   },
   {
    "duration": 24,
    "start_time": "2024-11-12T01:15:53.185Z"
   },
   {
    "duration": 7,
    "start_time": "2024-11-12T01:15:53.211Z"
   },
   {
    "duration": 52,
    "start_time": "2024-11-12T01:15:53.219Z"
   },
   {
    "duration": 25,
    "start_time": "2024-11-12T01:15:53.272Z"
   },
   {
    "duration": 6,
    "start_time": "2024-11-12T01:15:53.299Z"
   },
   {
    "duration": 3,
    "start_time": "2024-11-12T01:15:53.307Z"
   },
   {
    "duration": 4,
    "start_time": "2024-11-12T01:15:53.312Z"
   },
   {
    "duration": 6,
    "start_time": "2024-11-12T01:15:53.317Z"
   },
   {
    "duration": 2,
    "start_time": "2024-11-12T01:15:53.325Z"
   },
   {
    "duration": 345,
    "start_time": "2024-11-12T01:15:53.329Z"
   },
   {
    "duration": 325,
    "start_time": "2024-11-12T01:15:53.676Z"
   },
   {
    "duration": 276,
    "start_time": "2024-11-12T01:15:54.003Z"
   },
   {
    "duration": 7,
    "start_time": "2024-11-12T01:15:54.281Z"
   },
   {
    "duration": 4,
    "start_time": "2024-11-12T01:15:54.290Z"
   },
   {
    "duration": 3,
    "start_time": "2024-11-12T01:15:54.296Z"
   },
   {
    "duration": 4,
    "start_time": "2024-11-12T01:15:54.301Z"
   },
   {
    "duration": 23,
    "start_time": "2024-11-12T01:15:54.307Z"
   },
   {
    "duration": 107,
    "start_time": "2024-11-12T01:15:54.332Z"
   },
   {
    "duration": 3,
    "start_time": "2024-11-12T01:15:54.441Z"
   },
   {
    "duration": 13,
    "start_time": "2024-11-12T01:15:56.737Z"
   },
   {
    "duration": 69,
    "start_time": "2024-11-12T01:15:57.333Z"
   },
   {
    "duration": 6,
    "start_time": "2024-11-12T01:15:59.234Z"
   },
   {
    "duration": 3,
    "start_time": "2024-11-12T01:16:00.577Z"
   },
   {
    "duration": 99,
    "start_time": "2024-11-12T01:16:01.451Z"
   },
   {
    "duration": 18,
    "start_time": "2024-11-12T01:16:56.538Z"
   },
   {
    "duration": 411,
    "start_time": "2024-11-12T01:16:56.559Z"
   },
   {
    "duration": 5,
    "start_time": "2024-11-12T01:16:56.971Z"
   },
   {
    "duration": 3,
    "start_time": "2024-11-12T01:16:56.978Z"
   },
   {
    "duration": 5,
    "start_time": "2024-11-12T01:16:56.982Z"
   },
   {
    "duration": 4,
    "start_time": "2024-11-12T01:16:56.989Z"
   },
   {
    "duration": 112,
    "start_time": "2024-11-12T01:16:56.994Z"
   },
   {
    "duration": 23,
    "start_time": "2024-11-12T01:16:57.108Z"
   },
   {
    "duration": 15,
    "start_time": "2024-11-12T01:16:57.133Z"
   },
   {
    "duration": 78,
    "start_time": "2024-11-12T01:16:57.169Z"
   },
   {
    "duration": 33,
    "start_time": "2024-11-12T01:16:57.250Z"
   },
   {
    "duration": 36,
    "start_time": "2024-11-12T01:16:57.285Z"
   },
   {
    "duration": 47,
    "start_time": "2024-11-12T01:16:57.323Z"
   },
   {
    "duration": 37,
    "start_time": "2024-11-12T01:16:57.374Z"
   },
   {
    "duration": 30,
    "start_time": "2024-11-12T01:16:57.413Z"
   },
   {
    "duration": 130,
    "start_time": "2024-11-12T01:16:57.445Z"
   },
   {
    "duration": 62,
    "start_time": "2024-11-12T01:16:57.577Z"
   },
   {
    "duration": 64,
    "start_time": "2024-11-12T01:16:57.641Z"
   },
   {
    "duration": 33,
    "start_time": "2024-11-12T01:16:57.707Z"
   },
   {
    "duration": 8,
    "start_time": "2024-11-12T01:16:57.742Z"
   },
   {
    "duration": 23,
    "start_time": "2024-11-12T01:16:57.752Z"
   },
   {
    "duration": 25,
    "start_time": "2024-11-12T01:16:57.777Z"
   },
   {
    "duration": 6,
    "start_time": "2024-11-12T01:16:57.804Z"
   },
   {
    "duration": 24,
    "start_time": "2024-11-12T01:16:57.812Z"
   },
   {
    "duration": 45,
    "start_time": "2024-11-12T01:16:57.838Z"
   },
   {
    "duration": 7,
    "start_time": "2024-11-12T01:16:57.885Z"
   },
   {
    "duration": 4,
    "start_time": "2024-11-12T01:16:57.894Z"
   },
   {
    "duration": 4,
    "start_time": "2024-11-12T01:16:57.902Z"
   },
   {
    "duration": 7,
    "start_time": "2024-11-12T01:16:57.907Z"
   },
   {
    "duration": 3,
    "start_time": "2024-11-12T01:16:57.915Z"
   },
   {
    "duration": 331,
    "start_time": "2024-11-12T01:16:57.920Z"
   },
   {
    "duration": 336,
    "start_time": "2024-11-12T01:16:58.253Z"
   },
   {
    "duration": 357,
    "start_time": "2024-11-12T01:16:58.591Z"
   },
   {
    "duration": 6,
    "start_time": "2024-11-12T01:16:58.950Z"
   },
   {
    "duration": 4,
    "start_time": "2024-11-12T01:16:58.970Z"
   },
   {
    "duration": 3,
    "start_time": "2024-11-12T01:16:58.976Z"
   },
   {
    "duration": 4,
    "start_time": "2024-11-12T01:16:58.981Z"
   },
   {
    "duration": 19,
    "start_time": "2024-11-12T01:16:58.987Z"
   },
   {
    "duration": 83,
    "start_time": "2024-11-12T01:16:59.007Z"
   },
   {
    "duration": 3,
    "start_time": "2024-11-12T01:16:59.092Z"
   },
   {
    "duration": 13,
    "start_time": "2024-11-12T01:16:59.097Z"
   },
   {
    "duration": 95,
    "start_time": "2024-11-12T01:16:59.112Z"
   },
   {
    "duration": 5,
    "start_time": "2024-11-12T01:17:01.999Z"
   },
   {
    "duration": 3,
    "start_time": "2024-11-12T01:17:03.749Z"
   },
   {
    "duration": 82,
    "start_time": "2024-11-12T01:17:04.604Z"
   },
   {
    "duration": 14,
    "start_time": "2024-11-12T01:26:27.054Z"
   },
   {
    "duration": 3,
    "start_time": "2024-11-12T01:44:07.432Z"
   },
   {
    "duration": 378,
    "start_time": "2024-11-12T01:44:08.335Z"
   },
   {
    "duration": 3,
    "start_time": "2024-11-12T01:44:09.362Z"
   },
   {
    "duration": 3,
    "start_time": "2024-11-12T01:44:10.062Z"
   },
   {
    "duration": 3,
    "start_time": "2024-11-12T01:44:10.344Z"
   },
   {
    "duration": 6,
    "start_time": "2024-11-12T01:44:10.581Z"
   },
   {
    "duration": 91,
    "start_time": "2024-11-12T01:44:11.012Z"
   },
   {
    "duration": 22,
    "start_time": "2024-11-12T01:44:12.312Z"
   },
   {
    "duration": 9,
    "start_time": "2024-11-12T01:44:12.530Z"
   },
   {
    "duration": 62,
    "start_time": "2024-11-12T01:44:13.651Z"
   },
   {
    "duration": 24,
    "start_time": "2024-11-12T01:44:14.762Z"
   },
   {
    "duration": 23,
    "start_time": "2024-11-12T01:44:15.981Z"
   },
   {
    "duration": 27,
    "start_time": "2024-11-12T01:44:16.579Z"
   },
   {
    "duration": 25,
    "start_time": "2024-11-12T01:44:17.232Z"
   },
   {
    "duration": 24,
    "start_time": "2024-11-12T01:44:18.200Z"
   },
   {
    "duration": 112,
    "start_time": "2024-11-12T01:44:19.172Z"
   },
   {
    "duration": 62,
    "start_time": "2024-11-12T01:44:19.599Z"
   },
   {
    "duration": 46,
    "start_time": "2024-11-12T01:44:21.370Z"
   },
   {
    "duration": 24,
    "start_time": "2024-11-12T01:44:22.783Z"
   },
   {
    "duration": 5,
    "start_time": "2024-11-12T01:44:24.295Z"
   },
   {
    "duration": 6,
    "start_time": "2024-11-12T01:44:25.953Z"
   },
   {
    "duration": 24,
    "start_time": "2024-11-12T01:44:27.884Z"
   },
   {
    "duration": 8,
    "start_time": "2024-11-12T01:44:28.285Z"
   },
   {
    "duration": 28,
    "start_time": "2024-11-12T01:44:29.544Z"
   },
   {
    "duration": 26,
    "start_time": "2024-11-12T01:44:30.161Z"
   },
   {
    "duration": 6,
    "start_time": "2024-11-12T01:44:31.246Z"
   },
   {
    "duration": 4,
    "start_time": "2024-11-12T01:44:31.731Z"
   },
   {
    "duration": 4,
    "start_time": "2024-11-12T01:44:32.193Z"
   },
   {
    "duration": 5,
    "start_time": "2024-11-12T01:44:33.113Z"
   },
   {
    "duration": 3,
    "start_time": "2024-11-12T01:44:33.869Z"
   },
   {
    "duration": 329,
    "start_time": "2024-11-12T01:44:35.564Z"
   },
   {
    "duration": 323,
    "start_time": "2024-11-12T01:44:36.065Z"
   },
   {
    "duration": 280,
    "start_time": "2024-11-12T01:44:36.589Z"
   },
   {
    "duration": 8,
    "start_time": "2024-11-12T01:44:37.968Z"
   },
   {
    "duration": 4,
    "start_time": "2024-11-12T01:44:38.385Z"
   },
   {
    "duration": 4,
    "start_time": "2024-11-12T01:44:38.813Z"
   },
   {
    "duration": 5,
    "start_time": "2024-11-12T01:44:40.470Z"
   },
   {
    "duration": 19,
    "start_time": "2024-11-12T01:44:41.802Z"
   },
   {
    "duration": 62,
    "start_time": "2024-11-12T01:44:42.311Z"
   },
   {
    "duration": 3,
    "start_time": "2024-11-12T01:44:48.435Z"
   },
   {
    "duration": 3,
    "start_time": "2024-11-12T01:48:51.920Z"
   },
   {
    "duration": 390,
    "start_time": "2024-11-12T01:48:55.061Z"
   },
   {
    "duration": 3,
    "start_time": "2024-11-12T01:48:56.993Z"
   },
   {
    "duration": 3,
    "start_time": "2024-11-12T01:48:57.145Z"
   },
   {
    "duration": 3,
    "start_time": "2024-11-12T01:48:57.967Z"
   },
   {
    "duration": 3,
    "start_time": "2024-11-12T01:48:58.401Z"
   },
   {
    "duration": 99,
    "start_time": "2024-11-12T01:48:59.253Z"
   },
   {
    "duration": 19,
    "start_time": "2024-11-12T01:49:02.581Z"
   },
   {
    "duration": 10,
    "start_time": "2024-11-12T01:49:02.734Z"
   },
   {
    "duration": 67,
    "start_time": "2024-11-12T01:49:03.671Z"
   },
   {
    "duration": 29,
    "start_time": "2024-11-12T01:49:05.121Z"
   },
   {
    "duration": 25,
    "start_time": "2024-11-12T01:49:05.812Z"
   },
   {
    "duration": 26,
    "start_time": "2024-11-12T01:49:06.508Z"
   },
   {
    "duration": 24,
    "start_time": "2024-11-12T01:49:13.285Z"
   },
   {
    "duration": 25,
    "start_time": "2024-11-12T01:49:14.095Z"
   },
   {
    "duration": 114,
    "start_time": "2024-11-12T01:49:15.297Z"
   },
   {
    "duration": 62,
    "start_time": "2024-11-12T01:49:15.450Z"
   },
   {
    "duration": 47,
    "start_time": "2024-11-12T01:49:16.408Z"
   },
   {
    "duration": 30,
    "start_time": "2024-11-12T01:49:17.930Z"
   },
   {
    "duration": 5,
    "start_time": "2024-11-12T01:49:18.666Z"
   },
   {
    "duration": 7,
    "start_time": "2024-11-12T01:49:19.543Z"
   },
   {
    "duration": 24,
    "start_time": "2024-11-12T01:49:20.425Z"
   },
   {
    "duration": 7,
    "start_time": "2024-11-12T01:49:21.033Z"
   },
   {
    "duration": 26,
    "start_time": "2024-11-12T01:49:21.912Z"
   },
   {
    "duration": 26,
    "start_time": "2024-11-12T01:49:22.663Z"
   },
   {
    "duration": 7,
    "start_time": "2024-11-12T01:49:23.382Z"
   },
   {
    "duration": 5,
    "start_time": "2024-11-12T01:49:23.566Z"
   },
   {
    "duration": 4,
    "start_time": "2024-11-12T01:49:24.153Z"
   },
   {
    "duration": 6,
    "start_time": "2024-11-12T01:49:24.830Z"
   },
   {
    "duration": 3,
    "start_time": "2024-11-12T01:49:25.005Z"
   },
   {
    "duration": 311,
    "start_time": "2024-11-12T01:49:26.653Z"
   },
   {
    "duration": 343,
    "start_time": "2024-11-12T01:49:26.966Z"
   },
   {
    "duration": 267,
    "start_time": "2024-11-12T01:49:27.412Z"
   },
   {
    "duration": 6,
    "start_time": "2024-11-12T01:49:28.448Z"
   },
   {
    "duration": 4,
    "start_time": "2024-11-12T01:49:28.582Z"
   },
   {
    "duration": 4,
    "start_time": "2024-11-12T01:49:29.418Z"
   },
   {
    "duration": 5,
    "start_time": "2024-11-12T01:49:31.411Z"
   },
   {
    "duration": 20,
    "start_time": "2024-11-12T01:49:32.443Z"
   },
   {
    "duration": 62,
    "start_time": "2024-11-12T01:49:32.592Z"
   },
   {
    "duration": 3,
    "start_time": "2024-11-12T01:49:33.980Z"
   },
   {
    "duration": 2,
    "start_time": "2024-11-12T01:49:49.781Z"
   },
   {
    "duration": 3,
    "start_time": "2024-11-12T01:50:08.162Z"
   },
   {
    "duration": 828,
    "start_time": "2024-11-12T01:51:19.350Z"
   },
   {
    "duration": 3,
    "start_time": "2024-11-12T01:55:21.317Z"
   },
   {
    "duration": 3,
    "start_time": "2024-11-12T01:55:21.834Z"
   },
   {
    "duration": 619,
    "start_time": "2024-11-12T01:55:22.295Z"
   },
   {
    "duration": 15,
    "start_time": "2024-11-12T01:55:24.841Z"
   },
   {
    "duration": 17,
    "start_time": "2024-11-12T01:55:25.211Z"
   },
   {
    "duration": 14,
    "start_time": "2024-11-12T01:55:28.480Z"
   },
   {
    "duration": 3,
    "start_time": "2024-11-12T01:55:46.172Z"
   },
   {
    "duration": 425,
    "start_time": "2024-11-12T01:55:46.177Z"
   },
   {
    "duration": 3,
    "start_time": "2024-11-12T01:55:46.604Z"
   },
   {
    "duration": 3,
    "start_time": "2024-11-12T01:55:46.608Z"
   },
   {
    "duration": 3,
    "start_time": "2024-11-12T01:55:46.614Z"
   },
   {
    "duration": 3,
    "start_time": "2024-11-12T01:55:46.619Z"
   },
   {
    "duration": 116,
    "start_time": "2024-11-12T01:55:46.623Z"
   },
   {
    "duration": 30,
    "start_time": "2024-11-12T01:55:46.741Z"
   },
   {
    "duration": 13,
    "start_time": "2024-11-12T01:55:46.773Z"
   },
   {
    "duration": 66,
    "start_time": "2024-11-12T01:55:46.787Z"
   },
   {
    "duration": 26,
    "start_time": "2024-11-12T01:55:46.869Z"
   },
   {
    "duration": 23,
    "start_time": "2024-11-12T01:55:46.897Z"
   },
   {
    "duration": 24,
    "start_time": "2024-11-12T01:55:46.922Z"
   },
   {
    "duration": 41,
    "start_time": "2024-11-12T01:55:46.948Z"
   },
   {
    "duration": 24,
    "start_time": "2024-11-12T01:55:46.991Z"
   },
   {
    "duration": 127,
    "start_time": "2024-11-12T01:55:47.016Z"
   },
   {
    "duration": 82,
    "start_time": "2024-11-12T01:55:47.145Z"
   },
   {
    "duration": 48,
    "start_time": "2024-11-12T01:55:47.229Z"
   },
   {
    "duration": 25,
    "start_time": "2024-11-12T01:55:47.279Z"
   },
   {
    "duration": 5,
    "start_time": "2024-11-12T01:55:47.305Z"
   },
   {
    "duration": 5,
    "start_time": "2024-11-12T01:55:47.312Z"
   },
   {
    "duration": 22,
    "start_time": "2024-11-12T01:55:47.319Z"
   },
   {
    "duration": 31,
    "start_time": "2024-11-12T01:55:47.342Z"
   },
   {
    "duration": 25,
    "start_time": "2024-11-12T01:55:47.375Z"
   },
   {
    "duration": 25,
    "start_time": "2024-11-12T01:55:47.402Z"
   },
   {
    "duration": 6,
    "start_time": "2024-11-12T01:55:47.429Z"
   },
   {
    "duration": 34,
    "start_time": "2024-11-12T01:55:47.437Z"
   },
   {
    "duration": 4,
    "start_time": "2024-11-12T01:55:47.472Z"
   },
   {
    "duration": 5,
    "start_time": "2024-11-12T01:55:47.479Z"
   },
   {
    "duration": 3,
    "start_time": "2024-11-12T01:55:47.486Z"
   },
   {
    "duration": 331,
    "start_time": "2024-11-12T01:55:47.490Z"
   },
   {
    "duration": 336,
    "start_time": "2024-11-12T01:55:47.823Z"
   },
   {
    "duration": 267,
    "start_time": "2024-11-12T01:55:48.161Z"
   },
   {
    "duration": 6,
    "start_time": "2024-11-12T01:55:48.430Z"
   },
   {
    "duration": 3,
    "start_time": "2024-11-12T01:55:48.439Z"
   },
   {
    "duration": 4,
    "start_time": "2024-11-12T01:55:48.444Z"
   },
   {
    "duration": 22,
    "start_time": "2024-11-12T01:55:48.449Z"
   },
   {
    "duration": 24,
    "start_time": "2024-11-12T01:55:48.473Z"
   },
   {
    "duration": 75,
    "start_time": "2024-11-12T01:55:48.499Z"
   },
   {
    "duration": 4,
    "start_time": "2024-11-12T01:55:48.576Z"
   },
   {
    "duration": 2,
    "start_time": "2024-11-12T01:55:48.582Z"
   },
   {
    "duration": 3,
    "start_time": "2024-11-12T01:55:48.585Z"
   },
   {
    "duration": 659,
    "start_time": "2024-11-12T01:55:49.449Z"
   },
   {
    "duration": 14,
    "start_time": "2024-11-12T01:55:51.831Z"
   },
   {
    "duration": 40,
    "start_time": "2024-11-12T01:55:52.248Z"
   },
   {
    "duration": 14,
    "start_time": "2024-11-12T01:55:54.813Z"
   },
   {
    "duration": 41,
    "start_time": "2024-11-12T01:57:36.718Z"
   },
   {
    "duration": 14,
    "start_time": "2024-11-12T01:57:37.413Z"
   },
   {
    "duration": 851,
    "start_time": "2024-11-12T01:58:15.340Z"
   },
   {
    "duration": 448,
    "start_time": "2024-11-12T01:58:16.193Z"
   },
   {
    "duration": 4,
    "start_time": "2024-11-12T01:58:16.642Z"
   },
   {
    "duration": 3,
    "start_time": "2024-11-12T01:58:16.648Z"
   },
   {
    "duration": 20,
    "start_time": "2024-11-12T01:58:16.652Z"
   },
   {
    "duration": 7,
    "start_time": "2024-11-12T01:58:16.675Z"
   },
   {
    "duration": 110,
    "start_time": "2024-11-12T01:58:16.684Z"
   },
   {
    "duration": 29,
    "start_time": "2024-11-12T01:58:16.796Z"
   },
   {
    "duration": 9,
    "start_time": "2024-11-12T01:58:16.827Z"
   },
   {
    "duration": 86,
    "start_time": "2024-11-12T01:58:16.839Z"
   },
   {
    "duration": 25,
    "start_time": "2024-11-12T01:58:16.927Z"
   },
   {
    "duration": 39,
    "start_time": "2024-11-12T01:58:16.953Z"
   },
   {
    "duration": 24,
    "start_time": "2024-11-12T01:58:16.994Z"
   },
   {
    "duration": 25,
    "start_time": "2024-11-12T01:58:17.019Z"
   },
   {
    "duration": 42,
    "start_time": "2024-11-12T01:58:17.045Z"
   },
   {
    "duration": 125,
    "start_time": "2024-11-12T01:58:17.089Z"
   },
   {
    "duration": 70,
    "start_time": "2024-11-12T01:58:17.216Z"
   },
   {
    "duration": 53,
    "start_time": "2024-11-12T01:58:17.287Z"
   },
   {
    "duration": 36,
    "start_time": "2024-11-12T01:58:17.342Z"
   },
   {
    "duration": 5,
    "start_time": "2024-11-12T01:58:17.380Z"
   },
   {
    "duration": 5,
    "start_time": "2024-11-12T01:58:17.387Z"
   },
   {
    "duration": 27,
    "start_time": "2024-11-12T01:58:17.394Z"
   },
   {
    "duration": 6,
    "start_time": "2024-11-12T01:58:17.423Z"
   },
   {
    "duration": 53,
    "start_time": "2024-11-12T01:58:17.431Z"
   },
   {
    "duration": 25,
    "start_time": "2024-11-12T01:58:17.486Z"
   },
   {
    "duration": 6,
    "start_time": "2024-11-12T01:58:17.512Z"
   },
   {
    "duration": 3,
    "start_time": "2024-11-12T01:58:17.520Z"
   },
   {
    "duration": 3,
    "start_time": "2024-11-12T01:58:17.527Z"
   },
   {
    "duration": 5,
    "start_time": "2024-11-12T01:58:17.532Z"
   },
   {
    "duration": 3,
    "start_time": "2024-11-12T01:58:17.571Z"
   },
   {
    "duration": 333,
    "start_time": "2024-11-12T01:58:17.575Z"
   },
   {
    "duration": 388,
    "start_time": "2024-11-12T01:58:17.909Z"
   },
   {
    "duration": 277,
    "start_time": "2024-11-12T01:58:18.298Z"
   },
   {
    "duration": 6,
    "start_time": "2024-11-12T01:58:18.577Z"
   },
   {
    "duration": 4,
    "start_time": "2024-11-12T01:58:18.585Z"
   },
   {
    "duration": 3,
    "start_time": "2024-11-12T01:58:18.592Z"
   },
   {
    "duration": 4,
    "start_time": "2024-11-12T01:58:18.597Z"
   },
   {
    "duration": 25,
    "start_time": "2024-11-12T01:58:18.603Z"
   },
   {
    "duration": 101,
    "start_time": "2024-11-12T01:58:18.630Z"
   },
   {
    "duration": 4,
    "start_time": "2024-11-12T01:58:18.733Z"
   },
   {
    "duration": 2,
    "start_time": "2024-11-12T01:58:18.739Z"
   },
   {
    "duration": 2,
    "start_time": "2024-11-12T01:58:20.408Z"
   },
   {
    "duration": 2,
    "start_time": "2024-11-12T01:58:21.285Z"
   },
   {
    "duration": 624,
    "start_time": "2024-11-12T01:58:21.977Z"
   },
   {
    "duration": 17,
    "start_time": "2024-11-12T01:58:24.631Z"
   },
   {
    "duration": 46,
    "start_time": "2024-11-12T01:58:25.081Z"
   },
   {
    "duration": 218,
    "start_time": "2024-11-12T01:58:25.876Z"
   },
   {
    "duration": 16,
    "start_time": "2024-11-12T01:58:38.796Z"
   },
   {
    "duration": 17,
    "start_time": "2024-11-12T01:58:50.647Z"
   },
   {
    "duration": 16,
    "start_time": "2024-11-12T01:59:03.259Z"
   },
   {
    "duration": 12,
    "start_time": "2024-11-12T02:16:10.555Z"
   },
   {
    "duration": 14,
    "start_time": "2024-11-12T02:31:30.779Z"
   },
   {
    "duration": 14,
    "start_time": "2024-11-12T02:31:31.856Z"
   },
   {
    "duration": 5,
    "start_time": "2024-11-12T03:10:45.862Z"
   },
   {
    "duration": 3,
    "start_time": "2024-11-12T03:10:47.128Z"
   },
   {
    "duration": 13,
    "start_time": "2024-11-12T03:10:50.190Z"
   },
   {
    "duration": 3,
    "start_time": "2024-11-12T03:12:35.411Z"
   },
   {
    "duration": 409,
    "start_time": "2024-11-12T03:12:35.418Z"
   },
   {
    "duration": 3,
    "start_time": "2024-11-12T03:12:35.829Z"
   },
   {
    "duration": 3,
    "start_time": "2024-11-12T03:12:35.834Z"
   },
   {
    "duration": 3,
    "start_time": "2024-11-12T03:12:35.838Z"
   },
   {
    "duration": 3,
    "start_time": "2024-11-12T03:12:35.844Z"
   },
   {
    "duration": 109,
    "start_time": "2024-11-12T03:12:35.849Z"
   },
   {
    "duration": 33,
    "start_time": "2024-11-12T03:12:35.960Z"
   },
   {
    "duration": 9,
    "start_time": "2024-11-12T03:12:35.995Z"
   },
   {
    "duration": 75,
    "start_time": "2024-11-12T03:12:36.006Z"
   },
   {
    "duration": 31,
    "start_time": "2024-11-12T03:12:36.083Z"
   },
   {
    "duration": 25,
    "start_time": "2024-11-12T03:12:36.116Z"
   },
   {
    "duration": 45,
    "start_time": "2024-11-12T03:12:36.143Z"
   },
   {
    "duration": 23,
    "start_time": "2024-11-12T03:12:36.190Z"
   },
   {
    "duration": 23,
    "start_time": "2024-11-12T03:12:36.217Z"
   },
   {
    "duration": 138,
    "start_time": "2024-11-12T03:12:36.241Z"
   },
   {
    "duration": 62,
    "start_time": "2024-11-12T03:12:36.381Z"
   },
   {
    "duration": 65,
    "start_time": "2024-11-12T03:12:36.445Z"
   },
   {
    "duration": 29,
    "start_time": "2024-11-12T03:12:36.512Z"
   },
   {
    "duration": 8,
    "start_time": "2024-11-12T03:12:36.543Z"
   },
   {
    "duration": 23,
    "start_time": "2024-11-12T03:12:36.552Z"
   },
   {
    "duration": 27,
    "start_time": "2024-11-12T03:12:36.576Z"
   },
   {
    "duration": 6,
    "start_time": "2024-11-12T03:12:36.605Z"
   },
   {
    "duration": 25,
    "start_time": "2024-11-12T03:12:36.612Z"
   },
   {
    "duration": 50,
    "start_time": "2024-11-12T03:12:36.638Z"
   },
   {
    "duration": 8,
    "start_time": "2024-11-12T03:12:36.690Z"
   },
   {
    "duration": 4,
    "start_time": "2024-11-12T03:12:36.699Z"
   },
   {
    "duration": 4,
    "start_time": "2024-11-12T03:12:36.705Z"
   },
   {
    "duration": 7,
    "start_time": "2024-11-12T03:12:36.710Z"
   },
   {
    "duration": 3,
    "start_time": "2024-11-12T03:12:36.718Z"
   },
   {
    "duration": 352,
    "start_time": "2024-11-12T03:12:36.722Z"
   },
   {
    "duration": 364,
    "start_time": "2024-11-12T03:12:37.076Z"
   },
   {
    "duration": 268,
    "start_time": "2024-11-12T03:12:37.442Z"
   },
   {
    "duration": 6,
    "start_time": "2024-11-12T03:12:37.713Z"
   },
   {
    "duration": 4,
    "start_time": "2024-11-12T03:12:37.721Z"
   },
   {
    "duration": 4,
    "start_time": "2024-11-12T03:12:37.727Z"
   },
   {
    "duration": 5,
    "start_time": "2024-11-12T03:12:37.732Z"
   },
   {
    "duration": 43,
    "start_time": "2024-11-12T03:12:37.739Z"
   },
   {
    "duration": 61,
    "start_time": "2024-11-12T03:12:37.784Z"
   },
   {
    "duration": 24,
    "start_time": "2024-11-12T03:12:37.847Z"
   },
   {
    "duration": 3,
    "start_time": "2024-11-12T03:12:37.872Z"
   },
   {
    "duration": 2,
    "start_time": "2024-11-12T03:12:37.879Z"
   },
   {
    "duration": 665,
    "start_time": "2024-11-12T03:12:37.883Z"
   },
   {
    "duration": 24,
    "start_time": "2024-11-12T03:12:38.550Z"
   },
   {
    "duration": 48,
    "start_time": "2024-11-12T03:12:38.576Z"
   },
   {
    "duration": 17,
    "start_time": "2024-11-12T03:12:38.625Z"
   },
   {
    "duration": 33,
    "start_time": "2024-11-12T03:12:38.643Z"
   },
   {
    "duration": 16,
    "start_time": "2024-11-12T03:12:38.677Z"
   },
   {
    "duration": 9,
    "start_time": "2024-11-12T03:12:38.696Z"
   },
   {
    "duration": 5,
    "start_time": "2024-11-12T03:12:41.094Z"
   },
   {
    "duration": 2,
    "start_time": "2024-11-12T03:12:42.401Z"
   },
   {
    "duration": 162,
    "start_time": "2024-11-12T03:12:43.440Z"
   },
   {
    "duration": 15,
    "start_time": "2024-11-12T03:12:46.884Z"
   },
   {
    "duration": 14,
    "start_time": "2024-11-12T03:12:50.340Z"
   },
   {
    "duration": 3,
    "start_time": "2024-11-12T03:15:24.136Z"
   },
   {
    "duration": 7,
    "start_time": "2024-11-12T03:15:34.422Z"
   },
   {
    "duration": 5,
    "start_time": "2024-11-12T03:15:35.523Z"
   },
   {
    "duration": 3,
    "start_time": "2024-11-12T03:15:36.528Z"
   },
   {
    "duration": 156,
    "start_time": "2024-11-12T03:15:37.355Z"
   },
   {
    "duration": 14,
    "start_time": "2024-11-12T03:15:38.474Z"
   },
   {
    "duration": 210,
    "start_time": "2024-11-12T03:15:40.078Z"
   },
   {
    "duration": 6,
    "start_time": "2024-11-12T03:16:58.411Z"
   },
   {
    "duration": 5,
    "start_time": "2024-11-12T03:22:29.743Z"
   },
   {
    "duration": 4,
    "start_time": "2024-11-12T03:24:10.542Z"
   },
   {
    "duration": 5,
    "start_time": "2024-11-12T03:24:22.102Z"
   },
   {
    "duration": 3,
    "start_time": "2024-11-12T03:25:54.166Z"
   },
   {
    "duration": 5,
    "start_time": "2024-11-12T03:41:03.858Z"
   },
   {
    "duration": 4,
    "start_time": "2024-11-12T03:44:31.442Z"
   },
   {
    "duration": 6,
    "start_time": "2024-11-12T03:44:37.753Z"
   },
   {
    "duration": 14,
    "start_time": "2024-11-12T03:45:29.988Z"
   },
   {
    "duration": 7,
    "start_time": "2024-11-12T03:46:32.280Z"
   },
   {
    "duration": 5,
    "start_time": "2024-11-12T03:51:42.529Z"
   },
   {
    "duration": 20,
    "start_time": "2024-11-12T03:51:43.979Z"
   },
   {
    "duration": 11,
    "start_time": "2024-11-12T03:51:44.888Z"
   },
   {
    "duration": 8,
    "start_time": "2024-11-12T03:55:29.572Z"
   },
   {
    "duration": 10,
    "start_time": "2024-11-12T03:58:29.847Z"
   },
   {
    "duration": 55,
    "start_time": "2024-11-12T03:58:32.216Z"
   },
   {
    "duration": 5,
    "start_time": "2024-11-12T04:01:50.826Z"
   },
   {
    "duration": 14,
    "start_time": "2024-11-12T04:12:00.438Z"
   },
   {
    "duration": 3,
    "start_time": "2024-11-12T04:12:20.559Z"
   },
   {
    "duration": 883,
    "start_time": "2024-11-12T04:12:37.713Z"
   },
   {
    "duration": 411,
    "start_time": "2024-11-12T04:12:38.598Z"
   },
   {
    "duration": 2,
    "start_time": "2024-11-12T04:12:39.011Z"
   },
   {
    "duration": 5,
    "start_time": "2024-11-12T04:12:39.015Z"
   },
   {
    "duration": 3,
    "start_time": "2024-11-12T04:12:39.022Z"
   },
   {
    "duration": 4,
    "start_time": "2024-11-12T04:12:39.027Z"
   },
   {
    "duration": 125,
    "start_time": "2024-11-12T04:12:39.032Z"
   },
   {
    "duration": 27,
    "start_time": "2024-11-12T04:12:39.159Z"
   },
   {
    "duration": 10,
    "start_time": "2024-11-12T04:12:39.188Z"
   },
   {
    "duration": 82,
    "start_time": "2024-11-12T04:12:39.199Z"
   },
   {
    "duration": 24,
    "start_time": "2024-11-12T04:12:39.283Z"
   },
   {
    "duration": 28,
    "start_time": "2024-11-12T04:12:39.308Z"
   },
   {
    "duration": 40,
    "start_time": "2024-11-12T04:12:39.338Z"
   },
   {
    "duration": 24,
    "start_time": "2024-11-12T04:12:39.383Z"
   },
   {
    "duration": 23,
    "start_time": "2024-11-12T04:12:39.409Z"
   },
   {
    "duration": 4,
    "start_time": "2024-11-12T04:12:39.434Z"
   },
   {
    "duration": 81,
    "start_time": "2024-11-12T04:12:39.440Z"
   },
   {
    "duration": 124,
    "start_time": "2024-11-12T04:12:39.523Z"
   },
   {
    "duration": 65,
    "start_time": "2024-11-12T04:12:39.649Z"
   },
   {
    "duration": 61,
    "start_time": "2024-11-12T04:12:39.716Z"
   },
   {
    "duration": 24,
    "start_time": "2024-11-12T04:12:39.779Z"
   },
   {
    "duration": 4,
    "start_time": "2024-11-12T04:12:39.805Z"
   },
   {
    "duration": 6,
    "start_time": "2024-11-12T04:12:39.811Z"
   },
   {
    "duration": 52,
    "start_time": "2024-11-12T04:12:39.819Z"
   },
   {
    "duration": 7,
    "start_time": "2024-11-12T04:12:39.873Z"
   },
   {
    "duration": 25,
    "start_time": "2024-11-12T04:12:39.882Z"
   },
   {
    "duration": 24,
    "start_time": "2024-11-12T04:12:39.909Z"
   },
   {
    "duration": 7,
    "start_time": "2024-11-12T04:12:39.935Z"
   },
   {
    "duration": 4,
    "start_time": "2024-11-12T04:12:39.969Z"
   },
   {
    "duration": 4,
    "start_time": "2024-11-12T04:12:39.975Z"
   },
   {
    "duration": 6,
    "start_time": "2024-11-12T04:12:39.981Z"
   },
   {
    "duration": 3,
    "start_time": "2024-11-12T04:12:39.989Z"
   },
   {
    "duration": 340,
    "start_time": "2024-11-12T04:12:39.994Z"
   },
   {
    "duration": 389,
    "start_time": "2024-11-12T04:12:40.336Z"
   },
   {
    "duration": 268,
    "start_time": "2024-11-12T04:12:40.727Z"
   },
   {
    "duration": 8,
    "start_time": "2024-11-12T04:12:40.997Z"
   },
   {
    "duration": 4,
    "start_time": "2024-11-12T04:12:41.006Z"
   },
   {
    "duration": 4,
    "start_time": "2024-11-12T04:12:41.012Z"
   },
   {
    "duration": 4,
    "start_time": "2024-11-12T04:12:41.018Z"
   },
   {
    "duration": 58,
    "start_time": "2024-11-12T04:12:41.024Z"
   },
   {
    "duration": 62,
    "start_time": "2024-11-12T04:12:41.086Z"
   },
   {
    "duration": 21,
    "start_time": "2024-11-12T04:12:41.149Z"
   },
   {
    "duration": 3,
    "start_time": "2024-11-12T04:12:41.171Z"
   },
   {
    "duration": 3,
    "start_time": "2024-11-12T04:12:41.175Z"
   },
   {
    "duration": 669,
    "start_time": "2024-11-12T04:12:41.180Z"
   },
   {
    "duration": 21,
    "start_time": "2024-11-12T04:12:41.851Z"
   },
   {
    "duration": 45,
    "start_time": "2024-11-12T04:12:41.874Z"
   },
   {
    "duration": 17,
    "start_time": "2024-11-12T04:12:41.921Z"
   },
   {
    "duration": 35,
    "start_time": "2024-11-12T04:12:41.940Z"
   },
   {
    "duration": 16,
    "start_time": "2024-11-12T04:12:41.978Z"
   },
   {
    "duration": 11,
    "start_time": "2024-11-12T04:12:41.996Z"
   },
   {
    "duration": 6,
    "start_time": "2024-11-12T04:12:42.008Z"
   },
   {
    "duration": 5,
    "start_time": "2024-11-12T04:12:49.211Z"
   },
   {
    "duration": 35,
    "start_time": "2024-11-12T04:12:50.763Z"
   },
   {
    "duration": 3,
    "start_time": "2024-11-12T04:12:52.140Z"
   },
   {
    "duration": 162,
    "start_time": "2024-11-12T04:12:53.479Z"
   },
   {
    "duration": 11,
    "start_time": "2024-11-12T04:12:54.590Z"
   },
   {
    "duration": 10,
    "start_time": "2024-11-12T04:12:55.695Z"
   },
   {
    "duration": 4,
    "start_time": "2024-11-12T04:12:57.509Z"
   },
   {
    "duration": 318,
    "start_time": "2024-11-12T04:12:58.840Z"
   },
   {
    "duration": 853,
    "start_time": "2024-11-12T04:16:27.326Z"
   },
   {
    "duration": 415,
    "start_time": "2024-11-12T04:16:28.182Z"
   },
   {
    "duration": 3,
    "start_time": "2024-11-12T04:16:28.599Z"
   },
   {
    "duration": 3,
    "start_time": "2024-11-12T04:16:28.604Z"
   },
   {
    "duration": 2,
    "start_time": "2024-11-12T04:16:28.610Z"
   },
   {
    "duration": 4,
    "start_time": "2024-11-12T04:16:28.614Z"
   },
   {
    "duration": 115,
    "start_time": "2024-11-12T04:16:28.620Z"
   },
   {
    "duration": 35,
    "start_time": "2024-11-12T04:16:28.736Z"
   },
   {
    "duration": 10,
    "start_time": "2024-11-12T04:16:28.773Z"
   },
   {
    "duration": 63,
    "start_time": "2024-11-12T04:16:28.785Z"
   },
   {
    "duration": 40,
    "start_time": "2024-11-12T04:16:28.850Z"
   },
   {
    "duration": 23,
    "start_time": "2024-11-12T04:16:28.892Z"
   },
   {
    "duration": 25,
    "start_time": "2024-11-12T04:16:28.916Z"
   },
   {
    "duration": 44,
    "start_time": "2024-11-12T04:16:28.945Z"
   },
   {
    "duration": 23,
    "start_time": "2024-11-12T04:16:28.990Z"
   },
   {
    "duration": 3,
    "start_time": "2024-11-12T04:16:29.015Z"
   },
   {
    "duration": 77,
    "start_time": "2024-11-12T04:16:29.020Z"
   },
   {
    "duration": 120,
    "start_time": "2024-11-12T04:16:29.099Z"
   },
   {
    "duration": 73,
    "start_time": "2024-11-12T04:16:29.221Z"
   },
   {
    "duration": 51,
    "start_time": "2024-11-12T04:16:29.296Z"
   },
   {
    "duration": 36,
    "start_time": "2024-11-12T04:16:29.349Z"
   },
   {
    "duration": 5,
    "start_time": "2024-11-12T04:16:29.386Z"
   },
   {
    "duration": 6,
    "start_time": "2024-11-12T04:16:29.392Z"
   },
   {
    "duration": 27,
    "start_time": "2024-11-12T04:16:29.399Z"
   },
   {
    "duration": 8,
    "start_time": "2024-11-12T04:16:29.427Z"
   },
   {
    "duration": 54,
    "start_time": "2024-11-12T04:16:29.436Z"
   },
   {
    "duration": 25,
    "start_time": "2024-11-12T04:16:29.491Z"
   },
   {
    "duration": 6,
    "start_time": "2024-11-12T04:16:29.518Z"
   },
   {
    "duration": 3,
    "start_time": "2024-11-12T04:16:29.527Z"
   },
   {
    "duration": 3,
    "start_time": "2024-11-12T04:16:29.532Z"
   },
   {
    "duration": 37,
    "start_time": "2024-11-12T04:16:29.537Z"
   },
   {
    "duration": 2,
    "start_time": "2024-11-12T04:16:29.576Z"
   },
   {
    "duration": 323,
    "start_time": "2024-11-12T04:16:29.580Z"
   },
   {
    "duration": 395,
    "start_time": "2024-11-12T04:16:29.904Z"
   },
   {
    "duration": 270,
    "start_time": "2024-11-12T04:16:30.301Z"
   },
   {
    "duration": 7,
    "start_time": "2024-11-12T04:16:30.573Z"
   },
   {
    "duration": 4,
    "start_time": "2024-11-12T04:16:30.581Z"
   },
   {
    "duration": 4,
    "start_time": "2024-11-12T04:16:30.587Z"
   },
   {
    "duration": 4,
    "start_time": "2024-11-12T04:16:30.593Z"
   },
   {
    "duration": 26,
    "start_time": "2024-11-12T04:16:30.599Z"
   },
   {
    "duration": 95,
    "start_time": "2024-11-12T04:16:30.629Z"
   },
   {
    "duration": 5,
    "start_time": "2024-11-12T04:16:30.725Z"
   },
   {
    "duration": 2,
    "start_time": "2024-11-12T04:16:30.731Z"
   },
   {
    "duration": 3,
    "start_time": "2024-11-12T04:16:30.735Z"
   },
   {
    "duration": 663,
    "start_time": "2024-11-12T04:16:30.740Z"
   },
   {
    "duration": 16,
    "start_time": "2024-11-12T04:16:31.405Z"
   },
   {
    "duration": 51,
    "start_time": "2024-11-12T04:16:31.423Z"
   },
   {
    "duration": 16,
    "start_time": "2024-11-12T04:16:31.476Z"
   },
   {
    "duration": 16,
    "start_time": "2024-11-12T04:16:31.494Z"
   },
   {
    "duration": 15,
    "start_time": "2024-11-12T04:16:31.511Z"
   },
   {
    "duration": 14,
    "start_time": "2024-11-12T04:16:31.528Z"
   },
   {
    "duration": 31,
    "start_time": "2024-11-12T04:16:31.543Z"
   },
   {
    "duration": 3,
    "start_time": "2024-11-12T04:25:36.641Z"
   },
   {
    "duration": 414,
    "start_time": "2024-11-12T04:25:36.648Z"
   },
   {
    "duration": 6,
    "start_time": "2024-11-12T04:25:37.064Z"
   },
   {
    "duration": 4,
    "start_time": "2024-11-12T04:25:37.072Z"
   },
   {
    "duration": 3,
    "start_time": "2024-11-12T04:25:37.079Z"
   },
   {
    "duration": 4,
    "start_time": "2024-11-12T04:25:37.085Z"
   },
   {
    "duration": 116,
    "start_time": "2024-11-12T04:25:37.090Z"
   },
   {
    "duration": 25,
    "start_time": "2024-11-12T04:25:37.208Z"
   },
   {
    "duration": 9,
    "start_time": "2024-11-12T04:25:37.235Z"
   },
   {
    "duration": 78,
    "start_time": "2024-11-12T04:25:37.246Z"
   },
   {
    "duration": 24,
    "start_time": "2024-11-12T04:25:37.327Z"
   },
   {
    "duration": 38,
    "start_time": "2024-11-12T04:25:37.353Z"
   },
   {
    "duration": 25,
    "start_time": "2024-11-12T04:25:37.393Z"
   },
   {
    "duration": 23,
    "start_time": "2024-11-12T04:25:37.420Z"
   },
   {
    "duration": 39,
    "start_time": "2024-11-12T04:25:37.446Z"
   },
   {
    "duration": 3,
    "start_time": "2024-11-12T04:25:53.137Z"
   },
   {
    "duration": 401,
    "start_time": "2024-11-12T04:25:53.147Z"
   },
   {
    "duration": 3,
    "start_time": "2024-11-12T04:25:53.551Z"
   },
   {
    "duration": 3,
    "start_time": "2024-11-12T04:25:53.556Z"
   },
   {
    "duration": 12,
    "start_time": "2024-11-12T04:25:53.560Z"
   },
   {
    "duration": 3,
    "start_time": "2024-11-12T04:25:53.574Z"
   },
   {
    "duration": 107,
    "start_time": "2024-11-12T04:25:53.579Z"
   },
   {
    "duration": 24,
    "start_time": "2024-11-12T04:25:53.688Z"
   },
   {
    "duration": 11,
    "start_time": "2024-11-12T04:25:53.714Z"
   },
   {
    "duration": 79,
    "start_time": "2024-11-12T04:25:53.727Z"
   },
   {
    "duration": 27,
    "start_time": "2024-11-12T04:25:53.807Z"
   },
   {
    "duration": 40,
    "start_time": "2024-11-12T04:25:53.835Z"
   },
   {
    "duration": 28,
    "start_time": "2024-11-12T04:25:53.876Z"
   },
   {
    "duration": 35,
    "start_time": "2024-11-12T04:25:53.907Z"
   },
   {
    "duration": 40,
    "start_time": "2024-11-12T04:25:53.946Z"
   },
   {
    "duration": 23,
    "start_time": "2024-11-12T04:25:55.145Z"
   },
   {
    "duration": 163,
    "start_time": "2024-11-12T04:25:58.329Z"
   },
   {
    "duration": 3,
    "start_time": "2024-11-12T04:26:10.530Z"
   },
   {
    "duration": 61,
    "start_time": "2024-11-12T04:26:11.735Z"
   },
   {
    "duration": 62,
    "start_time": "2024-11-12T04:26:17.793Z"
   },
   {
    "duration": 4,
    "start_time": "2024-11-12T04:26:53.942Z"
   },
   {
    "duration": 409,
    "start_time": "2024-11-12T04:26:53.951Z"
   },
   {
    "duration": 8,
    "start_time": "2024-11-12T04:26:54.362Z"
   },
   {
    "duration": 3,
    "start_time": "2024-11-12T04:26:54.371Z"
   },
   {
    "duration": 3,
    "start_time": "2024-11-12T04:26:54.375Z"
   },
   {
    "duration": 3,
    "start_time": "2024-11-12T04:26:54.381Z"
   },
   {
    "duration": 110,
    "start_time": "2024-11-12T04:26:54.386Z"
   },
   {
    "duration": 25,
    "start_time": "2024-11-12T04:26:54.497Z"
   },
   {
    "duration": 9,
    "start_time": "2024-11-12T04:26:54.523Z"
   },
   {
    "duration": 83,
    "start_time": "2024-11-12T04:26:54.534Z"
   },
   {
    "duration": 24,
    "start_time": "2024-11-12T04:26:54.619Z"
   },
   {
    "duration": 38,
    "start_time": "2024-11-12T04:26:54.645Z"
   },
   {
    "duration": 31,
    "start_time": "2024-11-12T04:26:54.684Z"
   },
   {
    "duration": 25,
    "start_time": "2024-11-12T04:26:54.717Z"
   },
   {
    "duration": 35,
    "start_time": "2024-11-12T04:26:54.746Z"
   },
   {
    "duration": 124,
    "start_time": "2024-11-12T04:26:54.783Z"
   },
   {
    "duration": 3,
    "start_time": "2024-11-12T04:26:54.908Z"
   },
   {
    "duration": 4,
    "start_time": "2024-11-12T04:26:58.628Z"
   },
   {
    "duration": 58,
    "start_time": "2024-11-12T04:27:00.181Z"
   },
   {
    "duration": 63,
    "start_time": "2024-11-12T04:27:00.928Z"
   },
   {
    "duration": 901,
    "start_time": "2024-11-12T04:27:07.872Z"
   },
   {
    "duration": 417,
    "start_time": "2024-11-12T04:27:08.776Z"
   },
   {
    "duration": 3,
    "start_time": "2024-11-12T04:27:09.195Z"
   },
   {
    "duration": 4,
    "start_time": "2024-11-12T04:27:09.200Z"
   },
   {
    "duration": 2,
    "start_time": "2024-11-12T04:27:09.207Z"
   },
   {
    "duration": 5,
    "start_time": "2024-11-12T04:27:09.210Z"
   },
   {
    "duration": 114,
    "start_time": "2024-11-12T04:27:09.217Z"
   },
   {
    "duration": 38,
    "start_time": "2024-11-12T04:27:09.333Z"
   },
   {
    "duration": 10,
    "start_time": "2024-11-12T04:27:09.372Z"
   },
   {
    "duration": 62,
    "start_time": "2024-11-12T04:27:09.383Z"
   },
   {
    "duration": 40,
    "start_time": "2024-11-12T04:27:09.447Z"
   },
   {
    "duration": 24,
    "start_time": "2024-11-12T04:27:09.489Z"
   },
   {
    "duration": 25,
    "start_time": "2024-11-12T04:27:09.514Z"
   },
   {
    "duration": 44,
    "start_time": "2024-11-12T04:27:09.543Z"
   },
   {
    "duration": 24,
    "start_time": "2024-11-12T04:27:09.589Z"
   },
   {
    "duration": 125,
    "start_time": "2024-11-12T04:27:09.615Z"
   },
   {
    "duration": 3,
    "start_time": "2024-11-12T04:27:09.743Z"
   },
   {
    "duration": 73,
    "start_time": "2024-11-12T04:27:09.748Z"
   },
   {
    "duration": 66,
    "start_time": "2024-11-12T04:27:09.822Z"
   },
   {
    "duration": 50,
    "start_time": "2024-11-12T04:27:09.889Z"
   },
   {
    "duration": 39,
    "start_time": "2024-11-12T04:27:09.942Z"
   },
   {
    "duration": 5,
    "start_time": "2024-11-12T04:27:09.983Z"
   },
   {
    "duration": 6,
    "start_time": "2024-11-12T04:27:09.989Z"
   },
   {
    "duration": 27,
    "start_time": "2024-11-12T04:27:09.997Z"
   },
   {
    "duration": 7,
    "start_time": "2024-11-12T04:27:10.025Z"
   },
   {
    "duration": 54,
    "start_time": "2024-11-12T04:27:10.034Z"
   },
   {
    "duration": 25,
    "start_time": "2024-11-12T04:27:10.090Z"
   },
   {
    "duration": 7,
    "start_time": "2024-11-12T04:27:10.117Z"
   },
   {
    "duration": 4,
    "start_time": "2024-11-12T04:27:10.125Z"
   },
   {
    "duration": 4,
    "start_time": "2024-11-12T04:27:10.131Z"
   },
   {
    "duration": 37,
    "start_time": "2024-11-12T04:27:10.137Z"
   },
   {
    "duration": 3,
    "start_time": "2024-11-12T04:27:10.176Z"
   },
   {
    "duration": 323,
    "start_time": "2024-11-12T04:27:10.180Z"
   },
   {
    "duration": 387,
    "start_time": "2024-11-12T04:27:10.506Z"
   },
   {
    "duration": 277,
    "start_time": "2024-11-12T04:27:10.895Z"
   },
   {
    "duration": 7,
    "start_time": "2024-11-12T04:27:11.174Z"
   },
   {
    "duration": 8,
    "start_time": "2024-11-12T04:27:11.182Z"
   },
   {
    "duration": 4,
    "start_time": "2024-11-12T04:27:11.191Z"
   },
   {
    "duration": 4,
    "start_time": "2024-11-12T04:27:11.197Z"
   },
   {
    "duration": 25,
    "start_time": "2024-11-12T04:27:11.202Z"
   },
   {
    "duration": 90,
    "start_time": "2024-11-12T04:27:11.232Z"
   },
   {
    "duration": 3,
    "start_time": "2024-11-12T04:27:11.324Z"
   },
   {
    "duration": 2,
    "start_time": "2024-11-12T04:27:11.329Z"
   },
   {
    "duration": 2,
    "start_time": "2024-11-12T04:27:11.333Z"
   },
   {
    "duration": 647,
    "start_time": "2024-11-12T04:27:11.337Z"
   },
   {
    "duration": 17,
    "start_time": "2024-11-12T04:27:11.986Z"
   },
   {
    "duration": 43,
    "start_time": "2024-11-12T04:27:12.004Z"
   },
   {
    "duration": 35,
    "start_time": "2024-11-12T04:27:12.049Z"
   },
   {
    "duration": 17,
    "start_time": "2024-11-12T04:27:12.085Z"
   },
   {
    "duration": 15,
    "start_time": "2024-11-12T04:27:12.104Z"
   },
   {
    "duration": 15,
    "start_time": "2024-11-12T04:27:12.121Z"
   },
   {
    "duration": 32,
    "start_time": "2024-11-12T04:27:12.138Z"
   },
   {
    "duration": 36,
    "start_time": "2024-11-12T04:27:12.171Z"
   },
   {
    "duration": 3,
    "start_time": "2024-11-12T04:27:12.208Z"
   },
   {
    "duration": 179,
    "start_time": "2024-11-12T04:27:12.212Z"
   },
   {
    "duration": 11,
    "start_time": "2024-11-12T04:27:12.393Z"
   },
   {
    "duration": 64,
    "start_time": "2024-11-12T04:27:12.406Z"
   },
   {
    "duration": 4,
    "start_time": "2024-11-12T04:27:12.472Z"
   },
   {
    "duration": 400,
    "start_time": "2024-11-12T04:27:12.477Z"
   },
   {
    "duration": 3,
    "start_time": "2024-11-12T04:32:58.542Z"
   },
   {
    "duration": 407,
    "start_time": "2024-11-12T04:32:58.550Z"
   },
   {
    "duration": 3,
    "start_time": "2024-11-12T04:32:58.959Z"
   },
   {
    "duration": 3,
    "start_time": "2024-11-12T04:32:58.970Z"
   },
   {
    "duration": 3,
    "start_time": "2024-11-12T04:32:58.975Z"
   },
   {
    "duration": 4,
    "start_time": "2024-11-12T04:32:58.979Z"
   },
   {
    "duration": 106,
    "start_time": "2024-11-12T04:32:58.985Z"
   },
   {
    "duration": 24,
    "start_time": "2024-11-12T04:32:59.092Z"
   },
   {
    "duration": 9,
    "start_time": "2024-11-12T04:32:59.118Z"
   },
   {
    "duration": 83,
    "start_time": "2024-11-12T04:32:59.129Z"
   },
   {
    "duration": 26,
    "start_time": "2024-11-12T04:32:59.215Z"
   },
   {
    "duration": 35,
    "start_time": "2024-11-12T04:32:59.243Z"
   },
   {
    "duration": 24,
    "start_time": "2024-11-12T04:32:59.280Z"
   },
   {
    "duration": 24,
    "start_time": "2024-11-12T04:32:59.306Z"
   },
   {
    "duration": 44,
    "start_time": "2024-11-12T04:32:59.332Z"
   },
   {
    "duration": 120,
    "start_time": "2024-11-12T04:32:59.377Z"
   },
   {
    "duration": 3,
    "start_time": "2024-11-12T04:32:59.499Z"
   },
   {
    "duration": 69,
    "start_time": "2024-11-12T04:32:59.504Z"
   },
   {
    "duration": 65,
    "start_time": "2024-11-12T04:32:59.575Z"
   },
   {
    "duration": 61,
    "start_time": "2024-11-12T04:32:59.642Z"
   },
   {
    "duration": 28,
    "start_time": "2024-11-12T04:32:59.705Z"
   },
   {
    "duration": 6,
    "start_time": "2024-11-12T04:32:59.735Z"
   },
   {
    "duration": 7,
    "start_time": "2024-11-12T04:32:59.743Z"
   },
   {
    "duration": 25,
    "start_time": "2024-11-12T04:32:59.770Z"
   },
   {
    "duration": 7,
    "start_time": "2024-11-12T04:32:59.797Z"
   },
   {
    "duration": 26,
    "start_time": "2024-11-12T04:32:59.806Z"
   },
   {
    "duration": 46,
    "start_time": "2024-11-12T04:32:59.834Z"
   },
   {
    "duration": 6,
    "start_time": "2024-11-12T04:32:59.882Z"
   },
   {
    "duration": 4,
    "start_time": "2024-11-12T04:32:59.892Z"
   },
   {
    "duration": 5,
    "start_time": "2024-11-12T04:32:59.897Z"
   },
   {
    "duration": 5,
    "start_time": "2024-11-12T04:32:59.903Z"
   },
   {
    "duration": 2,
    "start_time": "2024-11-12T04:32:59.910Z"
   },
   {
    "duration": 341,
    "start_time": "2024-11-12T04:32:59.914Z"
   },
   {
    "duration": 334,
    "start_time": "2024-11-12T04:33:00.256Z"
   },
   {
    "duration": 293,
    "start_time": "2024-11-12T04:33:00.592Z"
   },
   {
    "duration": 6,
    "start_time": "2024-11-12T04:33:00.886Z"
   },
   {
    "duration": 4,
    "start_time": "2024-11-12T04:33:00.894Z"
   },
   {
    "duration": 4,
    "start_time": "2024-11-12T04:33:00.900Z"
   },
   {
    "duration": 4,
    "start_time": "2024-11-12T04:33:00.905Z"
   },
   {
    "duration": 19,
    "start_time": "2024-11-12T04:33:00.911Z"
   },
   {
    "duration": 92,
    "start_time": "2024-11-12T04:33:00.932Z"
   },
   {
    "duration": 4,
    "start_time": "2024-11-12T04:33:01.025Z"
   },
   {
    "duration": 3,
    "start_time": "2024-11-12T04:33:01.030Z"
   },
   {
    "duration": 3,
    "start_time": "2024-11-12T04:33:01.035Z"
   },
   {
    "duration": 674,
    "start_time": "2024-11-12T04:33:01.039Z"
   },
   {
    "duration": 16,
    "start_time": "2024-11-12T04:33:01.714Z"
   },
   {
    "duration": 59,
    "start_time": "2024-11-12T04:33:01.732Z"
   },
   {
    "duration": 17,
    "start_time": "2024-11-12T04:33:01.792Z"
   },
   {
    "duration": 15,
    "start_time": "2024-11-12T04:33:01.811Z"
   },
   {
    "duration": 110,
    "start_time": "2024-11-12T04:33:01.829Z"
   },
   {
    "duration": 7,
    "start_time": "2024-11-12T04:33:01.941Z"
   },
   {
    "duration": 22,
    "start_time": "2024-11-12T04:33:01.950Z"
   },
   {
    "duration": 34,
    "start_time": "2024-11-12T04:33:03.585Z"
   },
   {
    "duration": 2,
    "start_time": "2024-11-12T04:33:06.498Z"
   },
   {
    "duration": 154,
    "start_time": "2024-11-12T04:33:13.945Z"
   },
   {
    "duration": 17,
    "start_time": "2024-11-12T04:33:19.730Z"
   },
   {
    "duration": 9,
    "start_time": "2024-11-12T04:33:21.557Z"
   },
   {
    "duration": 4,
    "start_time": "2024-11-12T04:33:22.642Z"
   },
   {
    "duration": 6,
    "start_time": "2024-11-12T04:33:23.416Z"
   },
   {
    "duration": 853,
    "start_time": "2024-11-12T04:34:23.821Z"
   },
   {
    "duration": 421,
    "start_time": "2024-11-12T04:34:24.677Z"
   },
   {
    "duration": 3,
    "start_time": "2024-11-12T04:34:25.100Z"
   },
   {
    "duration": 3,
    "start_time": "2024-11-12T04:34:25.105Z"
   },
   {
    "duration": 3,
    "start_time": "2024-11-12T04:34:25.110Z"
   },
   {
    "duration": 4,
    "start_time": "2024-11-12T04:34:25.114Z"
   },
   {
    "duration": 120,
    "start_time": "2024-11-12T04:34:25.120Z"
   },
   {
    "duration": 33,
    "start_time": "2024-11-12T04:34:25.242Z"
   },
   {
    "duration": 9,
    "start_time": "2024-11-12T04:34:25.277Z"
   },
   {
    "duration": 62,
    "start_time": "2024-11-12T04:34:25.289Z"
   },
   {
    "duration": 36,
    "start_time": "2024-11-12T04:34:25.353Z"
   },
   {
    "duration": 24,
    "start_time": "2024-11-12T04:34:25.390Z"
   },
   {
    "duration": 24,
    "start_time": "2024-11-12T04:34:25.415Z"
   },
   {
    "duration": 47,
    "start_time": "2024-11-12T04:34:25.444Z"
   },
   {
    "duration": 23,
    "start_time": "2024-11-12T04:34:25.493Z"
   },
   {
    "duration": 123,
    "start_time": "2024-11-12T04:34:25.518Z"
   },
   {
    "duration": 3,
    "start_time": "2024-11-12T04:34:25.643Z"
   },
   {
    "duration": 65,
    "start_time": "2024-11-12T04:34:25.648Z"
   },
   {
    "duration": 71,
    "start_time": "2024-11-12T04:34:25.715Z"
   },
   {
    "duration": 52,
    "start_time": "2024-11-12T04:34:25.787Z"
   },
   {
    "duration": 41,
    "start_time": "2024-11-12T04:34:25.841Z"
   },
   {
    "duration": 5,
    "start_time": "2024-11-12T04:34:25.883Z"
   },
   {
    "duration": 6,
    "start_time": "2024-11-12T04:34:25.891Z"
   },
   {
    "duration": 28,
    "start_time": "2024-11-12T04:34:25.899Z"
   },
   {
    "duration": 10,
    "start_time": "2024-11-12T04:34:25.929Z"
   },
   {
    "duration": 46,
    "start_time": "2024-11-12T04:34:25.941Z"
   },
   {
    "duration": 25,
    "start_time": "2024-11-12T04:34:25.989Z"
   },
   {
    "duration": 6,
    "start_time": "2024-11-12T04:34:26.016Z"
   },
   {
    "duration": 4,
    "start_time": "2024-11-12T04:34:26.023Z"
   },
   {
    "duration": 5,
    "start_time": "2024-11-12T04:34:26.028Z"
   },
   {
    "duration": 38,
    "start_time": "2024-11-12T04:34:26.034Z"
   },
   {
    "duration": 2,
    "start_time": "2024-11-12T04:34:26.074Z"
   },
   {
    "duration": 328,
    "start_time": "2024-11-12T04:34:26.078Z"
   },
   {
    "duration": 409,
    "start_time": "2024-11-12T04:34:26.409Z"
   },
   {
    "duration": 288,
    "start_time": "2024-11-12T04:34:26.820Z"
   },
   {
    "duration": 7,
    "start_time": "2024-11-12T04:34:27.110Z"
   },
   {
    "duration": 4,
    "start_time": "2024-11-12T04:34:27.119Z"
   },
   {
    "duration": 4,
    "start_time": "2024-11-12T04:34:27.124Z"
   },
   {
    "duration": 4,
    "start_time": "2024-11-12T04:34:27.130Z"
   },
   {
    "duration": 63,
    "start_time": "2024-11-12T04:34:27.135Z"
   },
   {
    "duration": 63,
    "start_time": "2024-11-12T04:34:27.203Z"
   },
   {
    "duration": 4,
    "start_time": "2024-11-12T04:34:27.271Z"
   },
   {
    "duration": 3,
    "start_time": "2024-11-12T04:34:27.276Z"
   },
   {
    "duration": 3,
    "start_time": "2024-11-12T04:34:27.281Z"
   },
   {
    "duration": 645,
    "start_time": "2024-11-12T04:34:27.285Z"
   },
   {
    "duration": 18,
    "start_time": "2024-11-12T04:34:27.931Z"
   },
   {
    "duration": 54,
    "start_time": "2024-11-12T04:34:27.951Z"
   },
   {
    "duration": 16,
    "start_time": "2024-11-12T04:34:28.007Z"
   },
   {
    "duration": 21,
    "start_time": "2024-11-12T04:34:28.025Z"
   },
   {
    "duration": 40,
    "start_time": "2024-11-12T04:34:28.049Z"
   },
   {
    "duration": 12,
    "start_time": "2024-11-12T04:34:28.092Z"
   },
   {
    "duration": 6,
    "start_time": "2024-11-12T04:34:28.105Z"
   },
   {
    "duration": 3,
    "start_time": "2024-11-12T04:34:28.113Z"
   },
   {
    "duration": 3,
    "start_time": "2024-11-12T04:34:28.117Z"
   },
   {
    "duration": 253,
    "start_time": "2024-11-12T04:34:28.122Z"
   },
   {
    "duration": 0,
    "start_time": "2024-11-12T04:34:28.377Z"
   },
   {
    "duration": 0,
    "start_time": "2024-11-12T04:34:28.378Z"
   },
   {
    "duration": 0,
    "start_time": "2024-11-12T04:34:28.380Z"
   },
   {
    "duration": 0,
    "start_time": "2024-11-12T04:34:28.381Z"
   },
   {
    "duration": 168,
    "start_time": "2024-11-12T04:34:47.613Z"
   },
   {
    "duration": 12,
    "start_time": "2024-11-12T04:34:48.734Z"
   },
   {
    "duration": 9,
    "start_time": "2024-11-12T04:34:50.045Z"
   },
   {
    "duration": 5,
    "start_time": "2024-11-12T04:34:51.817Z"
   },
   {
    "duration": 122,
    "start_time": "2024-11-12T04:34:56.698Z"
   },
   {
    "duration": 13,
    "start_time": "2024-11-12T04:36:08.000Z"
   },
   {
    "duration": 4,
    "start_time": "2024-11-12T04:36:25.410Z"
   },
   {
    "duration": 3,
    "start_time": "2024-11-12T04:37:15.869Z"
   },
   {
    "duration": 417,
    "start_time": "2024-11-12T04:37:15.876Z"
   },
   {
    "duration": 3,
    "start_time": "2024-11-12T04:37:16.295Z"
   },
   {
    "duration": 3,
    "start_time": "2024-11-12T04:37:16.300Z"
   },
   {
    "duration": 3,
    "start_time": "2024-11-12T04:37:16.304Z"
   },
   {
    "duration": 8,
    "start_time": "2024-11-12T04:37:16.309Z"
   },
   {
    "duration": 120,
    "start_time": "2024-11-12T04:37:16.319Z"
   },
   {
    "duration": 35,
    "start_time": "2024-11-12T04:37:16.441Z"
   },
   {
    "duration": 9,
    "start_time": "2024-11-12T04:37:16.478Z"
   },
   {
    "duration": 81,
    "start_time": "2024-11-12T04:37:16.489Z"
   },
   {
    "duration": 26,
    "start_time": "2024-11-12T04:37:16.572Z"
   },
   {
    "duration": 23,
    "start_time": "2024-11-12T04:37:16.600Z"
   },
   {
    "duration": 47,
    "start_time": "2024-11-12T04:37:16.625Z"
   },
   {
    "duration": 26,
    "start_time": "2024-11-12T04:37:16.674Z"
   },
   {
    "duration": 23,
    "start_time": "2024-11-12T04:37:16.704Z"
   },
   {
    "duration": 130,
    "start_time": "2024-11-12T04:37:16.729Z"
   },
   {
    "duration": 3,
    "start_time": "2024-11-12T04:37:16.861Z"
   },
   {
    "duration": 59,
    "start_time": "2024-11-12T04:37:16.871Z"
   },
   {
    "duration": 70,
    "start_time": "2024-11-12T04:37:16.932Z"
   },
   {
    "duration": 50,
    "start_time": "2024-11-12T04:37:17.004Z"
   },
   {
    "duration": 26,
    "start_time": "2024-11-12T04:37:17.070Z"
   },
   {
    "duration": 5,
    "start_time": "2024-11-12T04:37:17.098Z"
   },
   {
    "duration": 5,
    "start_time": "2024-11-12T04:37:17.105Z"
   },
   {
    "duration": 24,
    "start_time": "2024-11-12T04:37:17.111Z"
   },
   {
    "duration": 36,
    "start_time": "2024-11-12T04:37:17.137Z"
   },
   {
    "duration": 29,
    "start_time": "2024-11-12T04:37:17.175Z"
   },
   {
    "duration": 26,
    "start_time": "2024-11-12T04:37:17.206Z"
   },
   {
    "duration": 6,
    "start_time": "2024-11-12T04:37:17.234Z"
   },
   {
    "duration": 3,
    "start_time": "2024-11-12T04:37:17.242Z"
   },
   {
    "duration": 5,
    "start_time": "2024-11-12T04:37:17.270Z"
   },
   {
    "duration": 7,
    "start_time": "2024-11-12T04:37:17.276Z"
   },
   {
    "duration": 3,
    "start_time": "2024-11-12T04:37:17.285Z"
   },
   {
    "duration": 326,
    "start_time": "2024-11-12T04:37:17.289Z"
   },
   {
    "duration": 334,
    "start_time": "2024-11-12T04:37:17.618Z"
   },
   {
    "duration": 343,
    "start_time": "2024-11-12T04:37:17.954Z"
   },
   {
    "duration": 7,
    "start_time": "2024-11-12T04:37:18.299Z"
   },
   {
    "duration": 3,
    "start_time": "2024-11-12T04:37:18.307Z"
   },
   {
    "duration": 4,
    "start_time": "2024-11-12T04:37:18.312Z"
   },
   {
    "duration": 5,
    "start_time": "2024-11-12T04:37:18.317Z"
   },
   {
    "duration": 55,
    "start_time": "2024-11-12T04:37:18.324Z"
   },
   {
    "duration": 61,
    "start_time": "2024-11-12T04:37:18.381Z"
   },
   {
    "duration": 4,
    "start_time": "2024-11-12T04:37:18.447Z"
   },
   {
    "duration": 18,
    "start_time": "2024-11-12T04:37:18.453Z"
   },
   {
    "duration": 3,
    "start_time": "2024-11-12T04:37:18.472Z"
   },
   {
    "duration": 643,
    "start_time": "2024-11-12T04:37:18.477Z"
   },
   {
    "duration": 18,
    "start_time": "2024-11-12T04:37:19.121Z"
   },
   {
    "duration": 55,
    "start_time": "2024-11-12T04:37:19.141Z"
   },
   {
    "duration": 17,
    "start_time": "2024-11-12T04:37:19.198Z"
   },
   {
    "duration": 16,
    "start_time": "2024-11-12T04:37:19.216Z"
   },
   {
    "duration": 15,
    "start_time": "2024-11-12T04:37:19.234Z"
   },
   {
    "duration": 26,
    "start_time": "2024-11-12T04:37:19.251Z"
   },
   {
    "duration": 5,
    "start_time": "2024-11-12T04:37:19.279Z"
   },
   {
    "duration": 3,
    "start_time": "2024-11-12T04:37:22.769Z"
   },
   {
    "duration": 2,
    "start_time": "2024-11-12T04:37:24.263Z"
   },
   {
    "duration": 159,
    "start_time": "2024-11-12T04:37:43.157Z"
   },
   {
    "duration": 8,
    "start_time": "2024-11-12T04:37:46.197Z"
   },
   {
    "duration": 10,
    "start_time": "2024-11-12T04:37:50.108Z"
   },
   {
    "duration": 5,
    "start_time": "2024-11-12T04:37:54.277Z"
   },
   {
    "duration": 13,
    "start_time": "2024-11-12T04:38:23.198Z"
   },
   {
    "duration": 3,
    "start_time": "2024-11-12T04:38:28.659Z"
   },
   {
    "duration": 16,
    "start_time": "2024-11-12T04:38:43.330Z"
   },
   {
    "duration": 14,
    "start_time": "2024-11-12T04:41:57.952Z"
   },
   {
    "duration": 3,
    "start_time": "2024-11-12T04:44:02.431Z"
   },
   {
    "duration": 3,
    "start_time": "2024-11-12T04:44:21.036Z"
   },
   {
    "duration": 3,
    "start_time": "2024-11-12T04:44:35.157Z"
   },
   {
    "duration": 376,
    "start_time": "2024-11-12T04:44:35.162Z"
   },
   {
    "duration": 2,
    "start_time": "2024-11-12T04:44:35.540Z"
   },
   {
    "duration": 3,
    "start_time": "2024-11-12T04:44:35.544Z"
   },
   {
    "duration": 3,
    "start_time": "2024-11-12T04:44:35.551Z"
   },
   {
    "duration": 4,
    "start_time": "2024-11-12T04:44:35.570Z"
   },
   {
    "duration": 103,
    "start_time": "2024-11-12T04:44:35.575Z"
   },
   {
    "duration": 18,
    "start_time": "2024-11-12T04:44:35.679Z"
   },
   {
    "duration": 10,
    "start_time": "2024-11-12T04:44:35.699Z"
   },
   {
    "duration": 79,
    "start_time": "2024-11-12T04:44:35.711Z"
   },
   {
    "duration": 24,
    "start_time": "2024-11-12T04:44:35.792Z"
   },
   {
    "duration": 23,
    "start_time": "2024-11-12T04:44:35.818Z"
   },
   {
    "duration": 45,
    "start_time": "2024-11-12T04:44:35.842Z"
   },
   {
    "duration": 22,
    "start_time": "2024-11-12T04:44:35.891Z"
   },
   {
    "duration": 22,
    "start_time": "2024-11-12T04:44:35.916Z"
   },
   {
    "duration": 130,
    "start_time": "2024-11-12T04:44:35.940Z"
   },
   {
    "duration": 4,
    "start_time": "2024-11-12T04:44:36.071Z"
   },
   {
    "duration": 59,
    "start_time": "2024-11-12T04:44:36.076Z"
   },
   {
    "duration": 77,
    "start_time": "2024-11-12T04:44:36.137Z"
   },
   {
    "duration": 57,
    "start_time": "2024-11-12T04:44:36.216Z"
   },
   {
    "duration": 25,
    "start_time": "2024-11-12T04:44:36.274Z"
   },
   {
    "duration": 5,
    "start_time": "2024-11-12T04:44:36.301Z"
   },
   {
    "duration": 6,
    "start_time": "2024-11-12T04:44:36.307Z"
   },
   {
    "duration": 21,
    "start_time": "2024-11-12T04:44:36.314Z"
   },
   {
    "duration": 37,
    "start_time": "2024-11-12T04:44:36.338Z"
   },
   {
    "duration": 24,
    "start_time": "2024-11-12T04:44:36.377Z"
   },
   {
    "duration": 25,
    "start_time": "2024-11-12T04:44:36.403Z"
   },
   {
    "duration": 7,
    "start_time": "2024-11-12T04:44:36.429Z"
   },
   {
    "duration": 4,
    "start_time": "2024-11-12T04:44:36.437Z"
   },
   {
    "duration": 4,
    "start_time": "2024-11-12T04:44:36.469Z"
   },
   {
    "duration": 6,
    "start_time": "2024-11-12T04:44:36.475Z"
   },
   {
    "duration": 2,
    "start_time": "2024-11-12T04:44:36.483Z"
   },
   {
    "duration": 339,
    "start_time": "2024-11-12T04:44:36.487Z"
   },
   {
    "duration": 354,
    "start_time": "2024-11-12T04:44:36.828Z"
   },
   {
    "duration": 272,
    "start_time": "2024-11-12T04:44:37.184Z"
   },
   {
    "duration": 14,
    "start_time": "2024-11-12T04:44:37.458Z"
   },
   {
    "duration": 4,
    "start_time": "2024-11-12T04:44:37.474Z"
   },
   {
    "duration": 4,
    "start_time": "2024-11-12T04:44:37.479Z"
   },
   {
    "duration": 4,
    "start_time": "2024-11-12T04:44:37.485Z"
   },
   {
    "duration": 21,
    "start_time": "2024-11-12T04:44:37.491Z"
   },
   {
    "duration": 90,
    "start_time": "2024-11-12T04:44:37.516Z"
   },
   {
    "duration": 4,
    "start_time": "2024-11-12T04:44:37.608Z"
   },
   {
    "duration": 2,
    "start_time": "2024-11-12T04:44:37.614Z"
   },
   {
    "duration": 5,
    "start_time": "2024-11-12T04:44:37.618Z"
   },
   {
    "duration": 664,
    "start_time": "2024-11-12T04:44:37.625Z"
   },
   {
    "duration": 16,
    "start_time": "2024-11-12T04:44:38.776Z"
   },
   {
    "duration": 43,
    "start_time": "2024-11-12T04:44:39.113Z"
   },
   {
    "duration": 17,
    "start_time": "2024-11-12T04:44:39.460Z"
   },
   {
    "duration": 16,
    "start_time": "2024-11-12T04:44:39.862Z"
   },
   {
    "duration": 17,
    "start_time": "2024-11-12T04:44:40.295Z"
   },
   {
    "duration": 8,
    "start_time": "2024-11-12T04:44:41.060Z"
   },
   {
    "duration": 6,
    "start_time": "2024-11-12T04:44:41.767Z"
   },
   {
    "duration": 3,
    "start_time": "2024-11-12T04:44:42.648Z"
   },
   {
    "duration": 2,
    "start_time": "2024-11-12T04:44:43.547Z"
   },
   {
    "duration": 156,
    "start_time": "2024-11-12T04:44:46.596Z"
   },
   {
    "duration": 7,
    "start_time": "2024-11-12T04:44:49.560Z"
   },
   {
    "duration": 9,
    "start_time": "2024-11-12T04:44:52.629Z"
   },
   {
    "duration": 5,
    "start_time": "2024-11-12T04:44:54.254Z"
   },
   {
    "duration": 14,
    "start_time": "2024-11-12T04:45:05.765Z"
   },
   {
    "duration": 4,
    "start_time": "2024-11-12T04:45:10.552Z"
   },
   {
    "duration": 388,
    "start_time": "2024-11-12T04:45:10.564Z"
   },
   {
    "duration": 3,
    "start_time": "2024-11-12T04:45:10.954Z"
   },
   {
    "duration": 3,
    "start_time": "2024-11-12T04:45:10.970Z"
   },
   {
    "duration": 2,
    "start_time": "2024-11-12T04:45:10.975Z"
   },
   {
    "duration": 3,
    "start_time": "2024-11-12T04:45:10.980Z"
   },
   {
    "duration": 107,
    "start_time": "2024-11-12T04:45:10.985Z"
   },
   {
    "duration": 22,
    "start_time": "2024-11-12T04:45:11.093Z"
   },
   {
    "duration": 9,
    "start_time": "2024-11-12T04:45:11.117Z"
   },
   {
    "duration": 83,
    "start_time": "2024-11-12T04:45:11.128Z"
   },
   {
    "duration": 24,
    "start_time": "2024-11-12T04:45:11.212Z"
   },
   {
    "duration": 36,
    "start_time": "2024-11-12T04:45:11.237Z"
   },
   {
    "duration": 26,
    "start_time": "2024-11-12T04:45:11.275Z"
   },
   {
    "duration": 27,
    "start_time": "2024-11-12T04:45:11.302Z"
   },
   {
    "duration": 41,
    "start_time": "2024-11-12T04:45:11.334Z"
   },
   {
    "duration": 123,
    "start_time": "2024-11-12T04:45:11.377Z"
   },
   {
    "duration": 4,
    "start_time": "2024-11-12T04:45:11.501Z"
   },
   {
    "duration": 67,
    "start_time": "2024-11-12T04:45:11.506Z"
   },
   {
    "duration": 60,
    "start_time": "2024-11-12T04:45:11.575Z"
   },
   {
    "duration": 65,
    "start_time": "2024-11-12T04:45:11.637Z"
   },
   {
    "duration": 26,
    "start_time": "2024-11-12T04:45:11.704Z"
   },
   {
    "duration": 5,
    "start_time": "2024-11-12T04:45:11.732Z"
   },
   {
    "duration": 6,
    "start_time": "2024-11-12T04:45:11.739Z"
   },
   {
    "duration": 46,
    "start_time": "2024-11-12T04:45:11.746Z"
   },
   {
    "duration": 6,
    "start_time": "2024-11-12T04:45:11.794Z"
   },
   {
    "duration": 25,
    "start_time": "2024-11-12T04:45:11.802Z"
   },
   {
    "duration": 44,
    "start_time": "2024-11-12T04:45:11.829Z"
   },
   {
    "duration": 6,
    "start_time": "2024-11-12T04:45:11.875Z"
   },
   {
    "duration": 4,
    "start_time": "2024-11-12T04:45:11.883Z"
   },
   {
    "duration": 4,
    "start_time": "2024-11-12T04:45:11.888Z"
   },
   {
    "duration": 6,
    "start_time": "2024-11-12T04:45:11.894Z"
   },
   {
    "duration": 2,
    "start_time": "2024-11-12T04:45:11.902Z"
   },
   {
    "duration": 340,
    "start_time": "2024-11-12T04:45:11.906Z"
   },
   {
    "duration": 342,
    "start_time": "2024-11-12T04:45:12.248Z"
   },
   {
    "duration": 270,
    "start_time": "2024-11-12T04:45:12.592Z"
   },
   {
    "duration": 12,
    "start_time": "2024-11-12T04:45:12.863Z"
   },
   {
    "duration": 5,
    "start_time": "2024-11-12T04:45:12.877Z"
   },
   {
    "duration": 4,
    "start_time": "2024-11-12T04:45:12.883Z"
   },
   {
    "duration": 4,
    "start_time": "2024-11-12T04:45:12.889Z"
   },
   {
    "duration": 19,
    "start_time": "2024-11-12T04:45:12.895Z"
   },
   {
    "duration": 92,
    "start_time": "2024-11-12T04:45:12.915Z"
   },
   {
    "duration": 4,
    "start_time": "2024-11-12T04:45:13.011Z"
   },
   {
    "duration": 2,
    "start_time": "2024-11-12T04:45:13.016Z"
   },
   {
    "duration": 3,
    "start_time": "2024-11-12T04:45:13.020Z"
   },
   {
    "duration": 665,
    "start_time": "2024-11-12T04:45:13.024Z"
   },
   {
    "duration": 15,
    "start_time": "2024-11-12T04:45:13.691Z"
   },
   {
    "duration": 43,
    "start_time": "2024-11-12T04:45:13.708Z"
   },
   {
    "duration": 31,
    "start_time": "2024-11-12T04:45:13.753Z"
   },
   {
    "duration": 16,
    "start_time": "2024-11-12T04:45:13.785Z"
   },
   {
    "duration": 15,
    "start_time": "2024-11-12T04:45:13.803Z"
   },
   {
    "duration": 7,
    "start_time": "2024-11-12T04:45:13.820Z"
   },
   {
    "duration": 6,
    "start_time": "2024-11-12T04:45:13.828Z"
   },
   {
    "duration": 3,
    "start_time": "2024-11-12T04:45:13.836Z"
   },
   {
    "duration": 2,
    "start_time": "2024-11-12T04:45:13.871Z"
   },
   {
    "duration": 166,
    "start_time": "2024-11-12T04:45:13.874Z"
   },
   {
    "duration": 28,
    "start_time": "2024-11-12T04:45:14.042Z"
   },
   {
    "duration": 11,
    "start_time": "2024-11-12T04:45:14.072Z"
   },
   {
    "duration": 4,
    "start_time": "2024-11-12T04:45:14.085Z"
   },
   {
    "duration": 87,
    "start_time": "2024-11-12T04:45:14.091Z"
   },
   {
    "duration": 14,
    "start_time": "2024-11-12T04:45:15.999Z"
   },
   {
    "duration": 57,
    "start_time": "2024-11-12T04:45:38.983Z"
   },
   {
    "duration": 3,
    "start_time": "2024-11-12T04:47:30.621Z"
   },
   {
    "duration": 372,
    "start_time": "2024-11-12T04:47:30.631Z"
   },
   {
    "duration": 3,
    "start_time": "2024-11-12T04:47:31.005Z"
   },
   {
    "duration": 3,
    "start_time": "2024-11-12T04:47:31.010Z"
   },
   {
    "duration": 3,
    "start_time": "2024-11-12T04:47:31.016Z"
   },
   {
    "duration": 4,
    "start_time": "2024-11-12T04:47:31.020Z"
   },
   {
    "duration": 127,
    "start_time": "2024-11-12T04:47:31.026Z"
   },
   {
    "duration": 29,
    "start_time": "2024-11-12T04:47:31.155Z"
   },
   {
    "duration": 9,
    "start_time": "2024-11-12T04:47:31.186Z"
   },
   {
    "duration": 75,
    "start_time": "2024-11-12T04:47:31.197Z"
   },
   {
    "duration": 24,
    "start_time": "2024-11-12T04:47:31.276Z"
   },
   {
    "duration": 23,
    "start_time": "2024-11-12T04:47:31.302Z"
   },
   {
    "duration": 25,
    "start_time": "2024-11-12T04:47:31.326Z"
   },
   {
    "duration": 24,
    "start_time": "2024-11-12T04:47:31.370Z"
   },
   {
    "duration": 24,
    "start_time": "2024-11-12T04:47:31.396Z"
   },
   {
    "duration": 127,
    "start_time": "2024-11-12T04:47:31.422Z"
   },
   {
    "duration": 3,
    "start_time": "2024-11-12T04:47:31.551Z"
   },
   {
    "duration": 64,
    "start_time": "2024-11-12T04:47:31.556Z"
   },
   {
    "duration": 70,
    "start_time": "2024-11-12T04:47:31.621Z"
   },
   {
    "duration": 49,
    "start_time": "2024-11-12T04:47:31.692Z"
   },
   {
    "duration": 37,
    "start_time": "2024-11-12T04:47:31.743Z"
   },
   {
    "duration": 5,
    "start_time": "2024-11-12T04:47:31.782Z"
   },
   {
    "duration": 5,
    "start_time": "2024-11-12T04:47:31.789Z"
   },
   {
    "duration": 25,
    "start_time": "2024-11-12T04:47:31.796Z"
   },
   {
    "duration": 7,
    "start_time": "2024-11-12T04:47:31.823Z"
   },
   {
    "duration": 53,
    "start_time": "2024-11-12T04:47:31.832Z"
   },
   {
    "duration": 25,
    "start_time": "2024-11-12T04:47:31.887Z"
   },
   {
    "duration": 6,
    "start_time": "2024-11-12T04:47:31.914Z"
   },
   {
    "duration": 3,
    "start_time": "2024-11-12T04:47:31.925Z"
   },
   {
    "duration": 4,
    "start_time": "2024-11-12T04:47:31.930Z"
   },
   {
    "duration": 38,
    "start_time": "2024-11-12T04:47:31.936Z"
   },
   {
    "duration": 3,
    "start_time": "2024-11-12T04:47:31.975Z"
   },
   {
    "duration": 319,
    "start_time": "2024-11-12T04:47:31.979Z"
   },
   {
    "duration": 341,
    "start_time": "2024-11-12T04:47:32.300Z"
   },
   {
    "duration": 272,
    "start_time": "2024-11-12T04:47:32.644Z"
   },
   {
    "duration": 6,
    "start_time": "2024-11-12T04:47:32.918Z"
   },
   {
    "duration": 4,
    "start_time": "2024-11-12T04:47:32.925Z"
   },
   {
    "duration": 3,
    "start_time": "2024-11-12T04:47:32.931Z"
   },
   {
    "duration": 4,
    "start_time": "2024-11-12T04:47:32.936Z"
   },
   {
    "duration": 20,
    "start_time": "2024-11-12T04:47:32.970Z"
   },
   {
    "duration": 62,
    "start_time": "2024-11-12T04:47:32.991Z"
   },
   {
    "duration": 16,
    "start_time": "2024-11-12T04:47:33.055Z"
   },
   {
    "duration": 2,
    "start_time": "2024-11-12T04:47:33.073Z"
   },
   {
    "duration": 2,
    "start_time": "2024-11-12T04:47:33.078Z"
   },
   {
    "duration": 669,
    "start_time": "2024-11-12T04:47:33.081Z"
   },
   {
    "duration": 20,
    "start_time": "2024-11-12T04:47:33.751Z"
   },
   {
    "duration": 43,
    "start_time": "2024-11-12T04:47:33.772Z"
   },
   {
    "duration": 17,
    "start_time": "2024-11-12T04:47:33.817Z"
   },
   {
    "duration": 36,
    "start_time": "2024-11-12T04:47:33.835Z"
   },
   {
    "duration": 16,
    "start_time": "2024-11-12T04:47:33.872Z"
   },
   {
    "duration": 7,
    "start_time": "2024-11-12T04:47:33.890Z"
   },
   {
    "duration": 6,
    "start_time": "2024-11-12T04:47:33.899Z"
   },
   {
    "duration": 33,
    "start_time": "2024-11-12T04:47:36.564Z"
   },
   {
    "duration": 34,
    "start_time": "2024-11-12T04:47:43.730Z"
   },
   {
    "duration": 3,
    "start_time": "2024-11-12T04:47:45.278Z"
   },
   {
    "duration": 153,
    "start_time": "2024-11-12T04:47:53.961Z"
   },
   {
    "duration": 7,
    "start_time": "2024-11-12T04:48:19.663Z"
   },
   {
    "duration": 9,
    "start_time": "2024-11-12T04:48:21.068Z"
   },
   {
    "duration": 4,
    "start_time": "2024-11-12T04:48:22.081Z"
   },
   {
    "duration": 5,
    "start_time": "2024-11-12T04:48:22.790Z"
   },
   {
    "duration": 3,
    "start_time": "2024-11-12T04:58:10.747Z"
   },
   {
    "duration": 382,
    "start_time": "2024-11-12T04:58:10.752Z"
   },
   {
    "duration": 3,
    "start_time": "2024-11-12T04:58:11.136Z"
   },
   {
    "duration": 3,
    "start_time": "2024-11-12T04:58:11.141Z"
   },
   {
    "duration": 3,
    "start_time": "2024-11-12T04:58:11.146Z"
   },
   {
    "duration": 22,
    "start_time": "2024-11-12T04:58:11.150Z"
   },
   {
    "duration": 101,
    "start_time": "2024-11-12T04:58:11.174Z"
   },
   {
    "duration": 21,
    "start_time": "2024-11-12T04:58:11.278Z"
   },
   {
    "duration": 9,
    "start_time": "2024-11-12T04:58:11.301Z"
   },
   {
    "duration": 82,
    "start_time": "2024-11-12T04:58:11.312Z"
   },
   {
    "duration": 24,
    "start_time": "2024-11-12T04:58:11.396Z"
   },
   {
    "duration": 24,
    "start_time": "2024-11-12T04:58:11.421Z"
   },
   {
    "duration": 41,
    "start_time": "2024-11-12T04:58:11.447Z"
   },
   {
    "duration": 23,
    "start_time": "2024-11-12T04:58:11.492Z"
   },
   {
    "duration": 23,
    "start_time": "2024-11-12T04:58:11.517Z"
   },
   {
    "duration": 135,
    "start_time": "2024-11-12T04:58:11.542Z"
   },
   {
    "duration": 3,
    "start_time": "2024-11-12T04:58:11.679Z"
   },
   {
    "duration": 56,
    "start_time": "2024-11-12T04:58:11.684Z"
   },
   {
    "duration": 73,
    "start_time": "2024-11-12T04:58:11.742Z"
   },
   {
    "duration": 62,
    "start_time": "2024-11-12T04:58:11.816Z"
   },
   {
    "duration": 24,
    "start_time": "2024-11-12T04:58:11.880Z"
   },
   {
    "duration": 5,
    "start_time": "2024-11-12T04:58:11.906Z"
   },
   {
    "duration": 5,
    "start_time": "2024-11-12T04:58:11.912Z"
   },
   {
    "duration": 24,
    "start_time": "2024-11-12T04:58:11.919Z"
   },
   {
    "duration": 29,
    "start_time": "2024-11-12T04:58:11.945Z"
   },
   {
    "duration": 24,
    "start_time": "2024-11-12T04:58:11.976Z"
   },
   {
    "duration": 25,
    "start_time": "2024-11-12T04:58:12.002Z"
   },
   {
    "duration": 6,
    "start_time": "2024-11-12T04:58:12.029Z"
   },
   {
    "duration": 34,
    "start_time": "2024-11-12T04:58:12.037Z"
   },
   {
    "duration": 4,
    "start_time": "2024-11-12T04:58:12.073Z"
   },
   {
    "duration": 5,
    "start_time": "2024-11-12T04:58:12.079Z"
   },
   {
    "duration": 2,
    "start_time": "2024-11-12T04:58:12.086Z"
   },
   {
    "duration": 347,
    "start_time": "2024-11-12T04:58:12.090Z"
   },
   {
    "duration": 338,
    "start_time": "2024-11-12T04:58:12.439Z"
   },
   {
    "duration": 277,
    "start_time": "2024-11-12T04:58:12.779Z"
   },
   {
    "duration": 15,
    "start_time": "2024-11-12T04:58:13.057Z"
   },
   {
    "duration": 4,
    "start_time": "2024-11-12T04:58:13.074Z"
   },
   {
    "duration": 4,
    "start_time": "2024-11-12T04:58:13.079Z"
   },
   {
    "duration": 4,
    "start_time": "2024-11-12T04:58:13.085Z"
   },
   {
    "duration": 19,
    "start_time": "2024-11-12T04:58:13.090Z"
   },
   {
    "duration": 88,
    "start_time": "2024-11-12T04:58:13.113Z"
   },
   {
    "duration": 4,
    "start_time": "2024-11-12T04:58:13.202Z"
   },
   {
    "duration": 2,
    "start_time": "2024-11-12T04:58:13.208Z"
   },
   {
    "duration": 3,
    "start_time": "2024-11-12T04:58:13.212Z"
   },
   {
    "duration": 706,
    "start_time": "2024-11-12T04:58:13.216Z"
   },
   {
    "duration": 18,
    "start_time": "2024-11-12T04:58:13.923Z"
   },
   {
    "duration": 51,
    "start_time": "2024-11-12T04:58:13.943Z"
   },
   {
    "duration": 15,
    "start_time": "2024-11-12T04:58:13.996Z"
   },
   {
    "duration": 16,
    "start_time": "2024-11-12T04:58:14.013Z"
   },
   {
    "duration": 15,
    "start_time": "2024-11-12T04:58:14.032Z"
   },
   {
    "duration": 8,
    "start_time": "2024-11-12T04:58:14.070Z"
   },
   {
    "duration": 6,
    "start_time": "2024-11-12T04:58:14.080Z"
   },
   {
    "duration": 34,
    "start_time": "2024-11-12T04:58:14.087Z"
   },
   {
    "duration": 2,
    "start_time": "2024-11-12T04:58:14.122Z"
   },
   {
    "duration": 177,
    "start_time": "2024-11-12T04:58:14.126Z"
   },
   {
    "duration": 7,
    "start_time": "2024-11-12T04:58:14.306Z"
   },
   {
    "duration": 55,
    "start_time": "2024-11-12T04:58:14.315Z"
   },
   {
    "duration": 5,
    "start_time": "2024-11-12T04:58:14.388Z"
   },
   {
    "duration": 4,
    "start_time": "2024-11-12T04:58:16.429Z"
   },
   {
    "duration": 8,
    "start_time": "2024-11-12T05:24:38.975Z"
   },
   {
    "duration": 8,
    "start_time": "2024-11-12T05:25:03.414Z"
   },
   {
    "duration": 161,
    "start_time": "2024-11-12T06:05:23.707Z"
   },
   {
    "duration": 46,
    "start_time": "2024-11-12T06:09:52.378Z"
   },
   {
    "duration": 362,
    "start_time": "2024-11-12T06:09:52.426Z"
   },
   {
    "duration": 3,
    "start_time": "2024-11-12T06:09:52.790Z"
   },
   {
    "duration": 2,
    "start_time": "2024-11-12T06:09:52.795Z"
   },
   {
    "duration": 3,
    "start_time": "2024-11-12T06:09:52.799Z"
   },
   {
    "duration": 4,
    "start_time": "2024-11-12T06:09:52.804Z"
   },
   {
    "duration": 113,
    "start_time": "2024-11-12T06:09:52.810Z"
   },
   {
    "duration": 17,
    "start_time": "2024-11-12T06:09:52.925Z"
   },
   {
    "duration": 29,
    "start_time": "2024-11-12T06:09:52.943Z"
   },
   {
    "duration": 66,
    "start_time": "2024-11-12T06:09:52.974Z"
   },
   {
    "duration": 32,
    "start_time": "2024-11-12T06:09:53.042Z"
   },
   {
    "duration": 24,
    "start_time": "2024-11-12T06:09:53.076Z"
   },
   {
    "duration": 24,
    "start_time": "2024-11-12T06:09:53.102Z"
   },
   {
    "duration": 42,
    "start_time": "2024-11-12T06:09:53.130Z"
   },
   {
    "duration": 32,
    "start_time": "2024-11-12T06:09:53.174Z"
   },
   {
    "duration": 122,
    "start_time": "2024-11-12T06:09:53.208Z"
   },
   {
    "duration": 4,
    "start_time": "2024-11-12T06:09:53.332Z"
   },
   {
    "duration": 69,
    "start_time": "2024-11-12T06:09:53.338Z"
   },
   {
    "duration": 69,
    "start_time": "2024-11-12T06:09:53.409Z"
   },
   {
    "duration": 47,
    "start_time": "2024-11-12T06:09:53.480Z"
   },
   {
    "duration": 24,
    "start_time": "2024-11-12T06:09:53.530Z"
   },
   {
    "duration": 6,
    "start_time": "2024-11-12T06:09:53.571Z"
   },
   {
    "duration": 6,
    "start_time": "2024-11-12T06:09:53.578Z"
   },
   {
    "duration": 20,
    "start_time": "2024-11-12T06:09:53.585Z"
   },
   {
    "duration": 6,
    "start_time": "2024-11-12T06:09:53.607Z"
   },
   {
    "duration": 58,
    "start_time": "2024-11-12T06:09:53.614Z"
   },
   {
    "duration": 26,
    "start_time": "2024-11-12T06:09:53.674Z"
   },
   {
    "duration": 7,
    "start_time": "2024-11-12T06:09:53.703Z"
   },
   {
    "duration": 5,
    "start_time": "2024-11-12T06:09:53.711Z"
   },
   {
    "duration": 5,
    "start_time": "2024-11-12T06:09:53.717Z"
   },
   {
    "duration": 6,
    "start_time": "2024-11-12T06:09:53.724Z"
   },
   {
    "duration": 39,
    "start_time": "2024-11-12T06:09:53.732Z"
   },
   {
    "duration": 319,
    "start_time": "2024-11-12T06:09:53.773Z"
   },
   {
    "duration": 342,
    "start_time": "2024-11-12T06:09:54.094Z"
   },
   {
    "duration": 265,
    "start_time": "2024-11-12T06:09:54.438Z"
   },
   {
    "duration": 6,
    "start_time": "2024-11-12T06:09:54.705Z"
   },
   {
    "duration": 4,
    "start_time": "2024-11-12T06:09:54.713Z"
   },
   {
    "duration": 4,
    "start_time": "2024-11-12T06:09:54.718Z"
   },
   {
    "duration": 5,
    "start_time": "2024-11-12T06:09:54.723Z"
   },
   {
    "duration": 48,
    "start_time": "2024-11-12T06:09:54.729Z"
   },
   {
    "duration": 61,
    "start_time": "2024-11-12T06:09:54.783Z"
   },
   {
    "duration": 5,
    "start_time": "2024-11-12T06:09:54.846Z"
   },
   {
    "duration": 2,
    "start_time": "2024-11-12T06:09:54.873Z"
   },
   {
    "duration": 2,
    "start_time": "2024-11-12T06:09:54.877Z"
   },
   {
    "duration": 655,
    "start_time": "2024-11-12T06:09:54.881Z"
   },
   {
    "duration": 14,
    "start_time": "2024-11-12T06:09:55.538Z"
   },
   {
    "duration": 46,
    "start_time": "2024-11-12T06:09:55.554Z"
   },
   {
    "duration": 17,
    "start_time": "2024-11-12T06:09:55.601Z"
   },
   {
    "duration": 16,
    "start_time": "2024-11-12T06:09:55.619Z"
   },
   {
    "duration": 40,
    "start_time": "2024-11-12T06:09:55.636Z"
   },
   {
    "duration": 8,
    "start_time": "2024-11-12T06:09:55.678Z"
   },
   {
    "duration": 20,
    "start_time": "2024-11-12T06:09:55.688Z"
   },
   {
    "duration": 0,
    "start_time": "2024-11-12T06:09:55.709Z"
   },
   {
    "duration": 0,
    "start_time": "2024-11-12T06:09:55.711Z"
   },
   {
    "duration": 1,
    "start_time": "2024-11-12T06:09:55.711Z"
   },
   {
    "duration": 0,
    "start_time": "2024-11-12T06:09:55.713Z"
   },
   {
    "duration": 17,
    "start_time": "2024-11-12T06:10:55.111Z"
   },
   {
    "duration": 3,
    "start_time": "2024-11-12T06:11:05.886Z"
   },
   {
    "duration": 380,
    "start_time": "2024-11-12T06:11:05.891Z"
   },
   {
    "duration": 2,
    "start_time": "2024-11-12T06:11:06.273Z"
   },
   {
    "duration": 2,
    "start_time": "2024-11-12T06:11:06.278Z"
   },
   {
    "duration": 3,
    "start_time": "2024-11-12T06:11:06.282Z"
   },
   {
    "duration": 4,
    "start_time": "2024-11-12T06:11:06.286Z"
   },
   {
    "duration": 121,
    "start_time": "2024-11-12T06:11:06.291Z"
   },
   {
    "duration": 18,
    "start_time": "2024-11-12T06:11:06.414Z"
   },
   {
    "duration": 10,
    "start_time": "2024-11-12T06:11:06.434Z"
   },
   {
    "duration": 79,
    "start_time": "2024-11-12T06:11:06.447Z"
   },
   {
    "duration": 42,
    "start_time": "2024-11-12T06:11:06.528Z"
   },
   {
    "duration": 25,
    "start_time": "2024-11-12T06:11:06.572Z"
   },
   {
    "duration": 24,
    "start_time": "2024-11-12T06:11:06.599Z"
   },
   {
    "duration": 24,
    "start_time": "2024-11-12T06:11:06.625Z"
   },
   {
    "duration": 24,
    "start_time": "2024-11-12T06:11:06.671Z"
   },
   {
    "duration": 124,
    "start_time": "2024-11-12T06:11:06.697Z"
   },
   {
    "duration": 4,
    "start_time": "2024-11-12T06:11:06.823Z"
   },
   {
    "duration": 68,
    "start_time": "2024-11-12T06:11:06.829Z"
   },
   {
    "duration": 72,
    "start_time": "2024-11-12T06:11:06.899Z"
   },
   {
    "duration": 49,
    "start_time": "2024-11-12T06:11:06.972Z"
   },
   {
    "duration": 24,
    "start_time": "2024-11-12T06:11:07.023Z"
   },
   {
    "duration": 21,
    "start_time": "2024-11-12T06:11:07.049Z"
   },
   {
    "duration": 8,
    "start_time": "2024-11-12T06:11:07.073Z"
   },
   {
    "duration": 20,
    "start_time": "2024-11-12T06:11:07.082Z"
   },
   {
    "duration": 7,
    "start_time": "2024-11-12T06:11:07.104Z"
   },
   {
    "duration": 26,
    "start_time": "2024-11-12T06:11:07.112Z"
   },
   {
    "duration": 57,
    "start_time": "2024-11-12T06:11:07.139Z"
   },
   {
    "duration": 8,
    "start_time": "2024-11-12T06:11:07.201Z"
   },
   {
    "duration": 4,
    "start_time": "2024-11-12T06:11:07.210Z"
   },
   {
    "duration": 4,
    "start_time": "2024-11-12T06:11:07.216Z"
   },
   {
    "duration": 6,
    "start_time": "2024-11-12T06:11:07.221Z"
   },
   {
    "duration": 2,
    "start_time": "2024-11-12T06:11:07.229Z"
   },
   {
    "duration": 321,
    "start_time": "2024-11-12T06:11:07.270Z"
   },
   {
    "duration": 345,
    "start_time": "2024-11-12T06:11:07.593Z"
   },
   {
    "duration": 275,
    "start_time": "2024-11-12T06:11:07.941Z"
   },
   {
    "duration": 7,
    "start_time": "2024-11-12T06:11:08.218Z"
   },
   {
    "duration": 4,
    "start_time": "2024-11-12T06:11:08.226Z"
   },
   {
    "duration": 4,
    "start_time": "2024-11-12T06:11:08.232Z"
   },
   {
    "duration": 4,
    "start_time": "2024-11-12T06:11:08.238Z"
   },
   {
    "duration": 19,
    "start_time": "2024-11-12T06:11:08.270Z"
   },
   {
    "duration": 62,
    "start_time": "2024-11-12T06:11:08.292Z"
   },
   {
    "duration": 3,
    "start_time": "2024-11-12T06:11:08.370Z"
   },
   {
    "duration": 2,
    "start_time": "2024-11-12T06:11:08.375Z"
   },
   {
    "duration": 2,
    "start_time": "2024-11-12T06:11:08.379Z"
   },
   {
    "duration": 678,
    "start_time": "2024-11-12T06:11:08.382Z"
   },
   {
    "duration": 18,
    "start_time": "2024-11-12T06:11:09.062Z"
   },
   {
    "duration": 42,
    "start_time": "2024-11-12T06:11:09.081Z"
   },
   {
    "duration": 18,
    "start_time": "2024-11-12T06:11:09.125Z"
   },
   {
    "duration": 37,
    "start_time": "2024-11-12T06:11:09.147Z"
   },
   {
    "duration": 15,
    "start_time": "2024-11-12T06:11:09.185Z"
   },
   {
    "duration": 8,
    "start_time": "2024-11-12T06:11:09.201Z"
   },
   {
    "duration": 16,
    "start_time": "2024-11-12T06:11:09.210Z"
   },
   {
    "duration": 0,
    "start_time": "2024-11-12T06:11:09.228Z"
   },
   {
    "duration": 0,
    "start_time": "2024-11-12T06:11:09.229Z"
   },
   {
    "duration": 0,
    "start_time": "2024-11-12T06:11:09.231Z"
   },
   {
    "duration": 0,
    "start_time": "2024-11-12T06:11:09.232Z"
   },
   {
    "duration": 0,
    "start_time": "2024-11-12T06:11:09.233Z"
   },
   {
    "duration": 0,
    "start_time": "2024-11-12T06:11:09.234Z"
   },
   {
    "duration": 0,
    "start_time": "2024-11-12T06:11:09.236Z"
   },
   {
    "duration": 3,
    "start_time": "2024-11-12T06:12:19.059Z"
   },
   {
    "duration": 380,
    "start_time": "2024-11-12T06:12:19.064Z"
   },
   {
    "duration": 3,
    "start_time": "2024-11-12T06:12:19.446Z"
   },
   {
    "duration": 3,
    "start_time": "2024-11-12T06:12:19.451Z"
   },
   {
    "duration": 15,
    "start_time": "2024-11-12T06:12:19.456Z"
   },
   {
    "duration": 4,
    "start_time": "2024-11-12T06:12:19.472Z"
   },
   {
    "duration": 105,
    "start_time": "2024-11-12T06:12:19.478Z"
   },
   {
    "duration": 18,
    "start_time": "2024-11-12T06:12:19.585Z"
   },
   {
    "duration": 9,
    "start_time": "2024-11-12T06:12:19.605Z"
   },
   {
    "duration": 79,
    "start_time": "2024-11-12T06:12:19.617Z"
   },
   {
    "duration": 35,
    "start_time": "2024-11-12T06:12:19.697Z"
   },
   {
    "duration": 38,
    "start_time": "2024-11-12T06:12:19.734Z"
   },
   {
    "duration": 25,
    "start_time": "2024-11-12T06:12:19.773Z"
   },
   {
    "duration": 24,
    "start_time": "2024-11-12T06:12:19.799Z"
   },
   {
    "duration": 22,
    "start_time": "2024-11-12T06:12:19.825Z"
   },
   {
    "duration": 115,
    "start_time": "2024-11-12T06:12:19.870Z"
   },
   {
    "duration": 3,
    "start_time": "2024-11-12T06:12:19.987Z"
   },
   {
    "duration": 58,
    "start_time": "2024-11-12T06:12:19.992Z"
   },
   {
    "duration": 78,
    "start_time": "2024-11-12T06:12:20.051Z"
   },
   {
    "duration": 60,
    "start_time": "2024-11-12T06:12:20.131Z"
   },
   {
    "duration": 24,
    "start_time": "2024-11-12T06:12:20.192Z"
   },
   {
    "duration": 6,
    "start_time": "2024-11-12T06:12:20.218Z"
   },
   {
    "duration": 5,
    "start_time": "2024-11-12T06:12:20.226Z"
   },
   {
    "duration": 46,
    "start_time": "2024-11-12T06:12:20.232Z"
   },
   {
    "duration": 7,
    "start_time": "2024-11-12T06:12:20.280Z"
   },
   {
    "duration": 25,
    "start_time": "2024-11-12T06:12:20.289Z"
   },
   {
    "duration": 26,
    "start_time": "2024-11-12T06:12:20.315Z"
   },
   {
    "duration": 26,
    "start_time": "2024-11-12T06:12:20.346Z"
   },
   {
    "duration": 4,
    "start_time": "2024-11-12T06:12:20.374Z"
   },
   {
    "duration": 4,
    "start_time": "2024-11-12T06:12:20.379Z"
   },
   {
    "duration": 6,
    "start_time": "2024-11-12T06:12:20.385Z"
   },
   {
    "duration": 3,
    "start_time": "2024-11-12T06:12:20.392Z"
   },
   {
    "duration": 353,
    "start_time": "2024-11-12T06:12:20.397Z"
   },
   {
    "duration": 344,
    "start_time": "2024-11-12T06:12:20.753Z"
   },
   {
    "duration": 278,
    "start_time": "2024-11-12T06:12:21.099Z"
   },
   {
    "duration": 7,
    "start_time": "2024-11-12T06:12:21.379Z"
   },
   {
    "duration": 4,
    "start_time": "2024-11-12T06:12:21.387Z"
   },
   {
    "duration": 4,
    "start_time": "2024-11-12T06:12:21.393Z"
   },
   {
    "duration": 4,
    "start_time": "2024-11-12T06:12:21.398Z"
   },
   {
    "duration": 19,
    "start_time": "2024-11-12T06:12:21.403Z"
   },
   {
    "duration": 95,
    "start_time": "2024-11-12T06:12:21.424Z"
   },
   {
    "duration": 4,
    "start_time": "2024-11-12T06:12:21.521Z"
   },
   {
    "duration": 2,
    "start_time": "2024-11-12T06:12:21.527Z"
   },
   {
    "duration": 2,
    "start_time": "2024-11-12T06:12:21.531Z"
   },
   {
    "duration": 696,
    "start_time": "2024-11-12T06:12:21.535Z"
   },
   {
    "duration": 17,
    "start_time": "2024-11-12T06:12:22.233Z"
   },
   {
    "duration": 50,
    "start_time": "2024-11-12T06:12:22.252Z"
   },
   {
    "duration": 17,
    "start_time": "2024-11-12T06:12:22.304Z"
   },
   {
    "duration": 16,
    "start_time": "2024-11-12T06:12:22.323Z"
   },
   {
    "duration": 36,
    "start_time": "2024-11-12T06:12:22.340Z"
   },
   {
    "duration": 7,
    "start_time": "2024-11-12T06:12:22.378Z"
   },
   {
    "duration": 13,
    "start_time": "2024-11-12T06:12:27.739Z"
   },
   {
    "duration": 3,
    "start_time": "2024-11-12T06:12:33.202Z"
   },
   {
    "duration": 384,
    "start_time": "2024-11-12T06:12:33.208Z"
   },
   {
    "duration": 2,
    "start_time": "2024-11-12T06:12:33.595Z"
   },
   {
    "duration": 3,
    "start_time": "2024-11-12T06:12:33.599Z"
   },
   {
    "duration": 3,
    "start_time": "2024-11-12T06:12:33.604Z"
   },
   {
    "duration": 4,
    "start_time": "2024-11-12T06:12:33.608Z"
   },
   {
    "duration": 111,
    "start_time": "2024-11-12T06:12:33.614Z"
   },
   {
    "duration": 19,
    "start_time": "2024-11-12T06:12:33.727Z"
   },
   {
    "duration": 25,
    "start_time": "2024-11-12T06:12:33.748Z"
   },
   {
    "duration": 62,
    "start_time": "2024-11-12T06:12:33.775Z"
   },
   {
    "duration": 37,
    "start_time": "2024-11-12T06:12:33.840Z"
   },
   {
    "duration": 23,
    "start_time": "2024-11-12T06:12:33.879Z"
   },
   {
    "duration": 24,
    "start_time": "2024-11-12T06:12:33.904Z"
   },
   {
    "duration": 44,
    "start_time": "2024-11-12T06:12:33.930Z"
   },
   {
    "duration": 23,
    "start_time": "2024-11-12T06:12:33.976Z"
   },
   {
    "duration": 124,
    "start_time": "2024-11-12T06:12:34.001Z"
   },
   {
    "duration": 4,
    "start_time": "2024-11-12T06:12:34.127Z"
   },
   {
    "duration": 70,
    "start_time": "2024-11-12T06:12:34.133Z"
   },
   {
    "duration": 71,
    "start_time": "2024-11-12T06:12:34.205Z"
   },
   {
    "duration": 47,
    "start_time": "2024-11-12T06:12:34.278Z"
   },
   {
    "duration": 28,
    "start_time": "2024-11-12T06:12:34.327Z"
   },
   {
    "duration": 6,
    "start_time": "2024-11-12T06:12:34.371Z"
   },
   {
    "duration": 6,
    "start_time": "2024-11-12T06:12:34.379Z"
   },
   {
    "duration": 21,
    "start_time": "2024-11-12T06:12:34.386Z"
   },
   {
    "duration": 8,
    "start_time": "2024-11-12T06:12:34.409Z"
   },
   {
    "duration": 54,
    "start_time": "2024-11-12T06:12:34.419Z"
   },
   {
    "duration": 26,
    "start_time": "2024-11-12T06:12:34.474Z"
   },
   {
    "duration": 6,
    "start_time": "2024-11-12T06:12:34.501Z"
   },
   {
    "duration": 3,
    "start_time": "2024-11-12T06:12:34.512Z"
   },
   {
    "duration": 4,
    "start_time": "2024-11-12T06:12:34.517Z"
   },
   {
    "duration": 5,
    "start_time": "2024-11-12T06:12:34.523Z"
   },
   {
    "duration": 41,
    "start_time": "2024-11-12T06:12:34.530Z"
   },
   {
    "duration": 332,
    "start_time": "2024-11-12T06:12:34.573Z"
   },
   {
    "duration": 349,
    "start_time": "2024-11-12T06:12:34.907Z"
   },
   {
    "duration": 370,
    "start_time": "2024-11-12T06:12:35.258Z"
   },
   {
    "duration": 6,
    "start_time": "2024-11-12T06:12:35.630Z"
   },
   {
    "duration": 3,
    "start_time": "2024-11-12T06:12:35.638Z"
   },
   {
    "duration": 4,
    "start_time": "2024-11-12T06:12:35.643Z"
   },
   {
    "duration": 4,
    "start_time": "2024-11-12T06:12:35.669Z"
   },
   {
    "duration": 20,
    "start_time": "2024-11-12T06:12:35.674Z"
   },
   {
    "duration": 79,
    "start_time": "2024-11-12T06:12:35.695Z"
   },
   {
    "duration": 5,
    "start_time": "2024-11-12T06:12:35.776Z"
   },
   {
    "duration": 3,
    "start_time": "2024-11-12T06:12:35.782Z"
   },
   {
    "duration": 3,
    "start_time": "2024-11-12T06:12:35.786Z"
   },
   {
    "duration": 714,
    "start_time": "2024-11-12T06:12:35.790Z"
   },
   {
    "duration": 17,
    "start_time": "2024-11-12T06:12:36.506Z"
   },
   {
    "duration": 64,
    "start_time": "2024-11-12T06:12:36.524Z"
   },
   {
    "duration": 17,
    "start_time": "2024-11-12T06:12:36.590Z"
   },
   {
    "duration": 15,
    "start_time": "2024-11-12T06:12:36.609Z"
   },
   {
    "duration": 15,
    "start_time": "2024-11-12T06:12:36.626Z"
   },
   {
    "duration": 28,
    "start_time": "2024-11-12T06:12:36.643Z"
   },
   {
    "duration": 17,
    "start_time": "2024-11-12T06:12:36.673Z"
   },
   {
    "duration": 14,
    "start_time": "2024-11-12T06:12:37.209Z"
   },
   {
    "duration": 3,
    "start_time": "2024-11-12T06:13:03.624Z"
   },
   {
    "duration": 14,
    "start_time": "2024-11-12T06:13:04.717Z"
   },
   {
    "duration": 16,
    "start_time": "2024-11-12T06:13:47.412Z"
   },
   {
    "duration": 2,
    "start_time": "2024-11-12T06:14:00.768Z"
   },
   {
    "duration": 17,
    "start_time": "2024-11-12T06:14:02.703Z"
   },
   {
    "duration": 10,
    "start_time": "2024-11-12T06:14:33.811Z"
   },
   {
    "duration": 3,
    "start_time": "2024-11-12T06:14:44.819Z"
   },
   {
    "duration": 370,
    "start_time": "2024-11-12T06:14:44.827Z"
   },
   {
    "duration": 3,
    "start_time": "2024-11-12T06:14:45.200Z"
   },
   {
    "duration": 3,
    "start_time": "2024-11-12T06:14:45.205Z"
   },
   {
    "duration": 3,
    "start_time": "2024-11-12T06:14:45.209Z"
   },
   {
    "duration": 4,
    "start_time": "2024-11-12T06:14:45.214Z"
   },
   {
    "duration": 110,
    "start_time": "2024-11-12T06:14:45.220Z"
   },
   {
    "duration": 19,
    "start_time": "2024-11-12T06:14:45.332Z"
   },
   {
    "duration": 26,
    "start_time": "2024-11-12T06:14:45.353Z"
   },
   {
    "duration": 63,
    "start_time": "2024-11-12T06:14:45.380Z"
   },
   {
    "duration": 32,
    "start_time": "2024-11-12T06:14:45.444Z"
   },
   {
    "duration": 23,
    "start_time": "2024-11-12T06:14:45.478Z"
   },
   {
    "duration": 24,
    "start_time": "2024-11-12T06:14:45.504Z"
   },
   {
    "duration": 46,
    "start_time": "2024-11-12T06:14:45.530Z"
   },
   {
    "duration": 23,
    "start_time": "2024-11-12T06:14:45.581Z"
   },
   {
    "duration": 128,
    "start_time": "2024-11-12T06:14:45.606Z"
   },
   {
    "duration": 4,
    "start_time": "2024-11-12T06:14:45.736Z"
   },
   {
    "duration": 64,
    "start_time": "2024-11-12T06:14:45.742Z"
   },
   {
    "duration": 69,
    "start_time": "2024-11-12T06:14:45.809Z"
   },
   {
    "duration": 46,
    "start_time": "2024-11-12T06:14:45.880Z"
   },
   {
    "duration": 24,
    "start_time": "2024-11-12T06:14:45.929Z"
   },
   {
    "duration": 5,
    "start_time": "2024-11-12T06:14:45.970Z"
   },
   {
    "duration": 6,
    "start_time": "2024-11-12T06:14:45.976Z"
   },
   {
    "duration": 20,
    "start_time": "2024-11-12T06:14:45.983Z"
   },
   {
    "duration": 7,
    "start_time": "2024-11-12T06:14:46.004Z"
   },
   {
    "duration": 24,
    "start_time": "2024-11-12T06:14:46.012Z"
   },
   {
    "duration": 26,
    "start_time": "2024-11-12T06:14:46.070Z"
   },
   {
    "duration": 6,
    "start_time": "2024-11-12T06:14:46.098Z"
   },
   {
    "duration": 4,
    "start_time": "2024-11-12T06:14:46.106Z"
   },
   {
    "duration": 4,
    "start_time": "2024-11-12T06:14:46.112Z"
   },
   {
    "duration": 5,
    "start_time": "2024-11-12T06:14:46.117Z"
   },
   {
    "duration": 2,
    "start_time": "2024-11-12T06:14:46.124Z"
   },
   {
    "duration": 358,
    "start_time": "2024-11-12T06:14:46.128Z"
   },
   {
    "duration": 355,
    "start_time": "2024-11-12T06:14:46.488Z"
   },
   {
    "duration": 276,
    "start_time": "2024-11-12T06:14:46.844Z"
   },
   {
    "duration": 6,
    "start_time": "2024-11-12T06:14:47.122Z"
   },
   {
    "duration": 4,
    "start_time": "2024-11-12T06:14:47.129Z"
   },
   {
    "duration": 4,
    "start_time": "2024-11-12T06:14:47.135Z"
   },
   {
    "duration": 34,
    "start_time": "2024-11-12T06:14:47.140Z"
   },
   {
    "duration": 28,
    "start_time": "2024-11-12T06:14:47.176Z"
   },
   {
    "duration": 69,
    "start_time": "2024-11-12T06:14:47.206Z"
   },
   {
    "duration": 4,
    "start_time": "2024-11-12T06:14:47.279Z"
   },
   {
    "duration": 2,
    "start_time": "2024-11-12T06:14:47.285Z"
   },
   {
    "duration": 3,
    "start_time": "2024-11-12T06:14:47.288Z"
   },
   {
    "duration": 671,
    "start_time": "2024-11-12T06:14:47.292Z"
   },
   {
    "duration": 21,
    "start_time": "2024-11-12T06:14:47.964Z"
   },
   {
    "duration": 42,
    "start_time": "2024-11-12T06:14:47.987Z"
   },
   {
    "duration": 17,
    "start_time": "2024-11-12T06:14:48.031Z"
   },
   {
    "duration": 16,
    "start_time": "2024-11-12T06:14:48.069Z"
   },
   {
    "duration": 16,
    "start_time": "2024-11-12T06:14:48.086Z"
   },
   {
    "duration": 7,
    "start_time": "2024-11-12T06:14:48.104Z"
   },
   {
    "duration": 8,
    "start_time": "2024-11-12T06:14:49.000Z"
   },
   {
    "duration": 3,
    "start_time": "2024-11-12T06:14:50.060Z"
   },
   {
    "duration": 3,
    "start_time": "2024-11-12T06:14:50.480Z"
   },
   {
    "duration": 14,
    "start_time": "2024-11-12T06:14:50.863Z"
   },
   {
    "duration": 3,
    "start_time": "2024-11-12T06:15:06.881Z"
   },
   {
    "duration": 2,
    "start_time": "2024-11-12T06:15:26.426Z"
   },
   {
    "duration": 2,
    "start_time": "2024-11-12T06:15:28.390Z"
   },
   {
    "duration": 3,
    "start_time": "2024-11-12T06:15:30.658Z"
   },
   {
    "duration": 39,
    "start_time": "2024-11-12T06:15:59.760Z"
   },
   {
    "duration": 1114,
    "start_time": "2024-11-12T06:17:15.603Z"
   },
   {
    "duration": 485,
    "start_time": "2024-11-12T06:17:16.720Z"
   },
   {
    "duration": 2,
    "start_time": "2024-11-12T06:17:17.207Z"
   },
   {
    "duration": 6,
    "start_time": "2024-11-12T06:17:17.211Z"
   },
   {
    "duration": 4,
    "start_time": "2024-11-12T06:17:17.219Z"
   },
   {
    "duration": 5,
    "start_time": "2024-11-12T06:17:17.224Z"
   },
   {
    "duration": 126,
    "start_time": "2024-11-12T06:17:17.230Z"
   },
   {
    "duration": 30,
    "start_time": "2024-11-12T06:17:17.358Z"
   },
   {
    "duration": 9,
    "start_time": "2024-11-12T06:17:17.390Z"
   },
   {
    "duration": 77,
    "start_time": "2024-11-12T06:17:17.400Z"
   },
   {
    "duration": 24,
    "start_time": "2024-11-12T06:17:17.478Z"
   },
   {
    "duration": 24,
    "start_time": "2024-11-12T06:17:17.504Z"
   },
   {
    "duration": 42,
    "start_time": "2024-11-12T06:17:17.530Z"
   },
   {
    "duration": 23,
    "start_time": "2024-11-12T06:17:17.576Z"
   },
   {
    "duration": 24,
    "start_time": "2024-11-12T06:17:17.601Z"
   },
   {
    "duration": 129,
    "start_time": "2024-11-12T06:17:17.626Z"
   },
   {
    "duration": 4,
    "start_time": "2024-11-12T06:17:17.757Z"
   },
   {
    "duration": 58,
    "start_time": "2024-11-12T06:17:17.770Z"
   },
   {
    "duration": 78,
    "start_time": "2024-11-12T06:17:17.829Z"
   },
   {
    "duration": 50,
    "start_time": "2024-11-12T06:17:17.908Z"
   },
   {
    "duration": 23,
    "start_time": "2024-11-12T06:17:17.970Z"
   },
   {
    "duration": 5,
    "start_time": "2024-11-12T06:17:17.995Z"
   },
   {
    "duration": 6,
    "start_time": "2024-11-12T06:17:18.001Z"
   },
   {
    "duration": 27,
    "start_time": "2024-11-12T06:17:18.008Z"
   },
   {
    "duration": 34,
    "start_time": "2024-11-12T06:17:18.037Z"
   },
   {
    "duration": 24,
    "start_time": "2024-11-12T06:17:18.072Z"
   },
   {
    "duration": 25,
    "start_time": "2024-11-12T06:17:18.098Z"
   },
   {
    "duration": 5,
    "start_time": "2024-11-12T06:17:18.125Z"
   },
   {
    "duration": 4,
    "start_time": "2024-11-12T06:17:18.132Z"
   },
   {
    "duration": 33,
    "start_time": "2024-11-12T06:17:18.139Z"
   },
   {
    "duration": 6,
    "start_time": "2024-11-12T06:17:18.173Z"
   },
   {
    "duration": 3,
    "start_time": "2024-11-12T06:17:18.180Z"
   },
   {
    "duration": 332,
    "start_time": "2024-11-12T06:17:18.185Z"
   },
   {
    "duration": 335,
    "start_time": "2024-11-12T06:17:18.519Z"
   },
   {
    "duration": 278,
    "start_time": "2024-11-12T06:17:18.856Z"
   },
   {
    "duration": 6,
    "start_time": "2024-11-12T06:17:19.135Z"
   },
   {
    "duration": 4,
    "start_time": "2024-11-12T06:17:19.143Z"
   },
   {
    "duration": 23,
    "start_time": "2024-11-12T06:17:19.148Z"
   },
   {
    "duration": 5,
    "start_time": "2024-11-12T06:17:19.172Z"
   },
   {
    "duration": 25,
    "start_time": "2024-11-12T06:17:19.179Z"
   },
   {
    "duration": 78,
    "start_time": "2024-11-12T06:17:19.210Z"
   },
   {
    "duration": 4,
    "start_time": "2024-11-12T06:17:19.290Z"
   },
   {
    "duration": 3,
    "start_time": "2024-11-12T06:17:19.295Z"
   },
   {
    "duration": 2,
    "start_time": "2024-11-12T06:17:19.300Z"
   },
   {
    "duration": 659,
    "start_time": "2024-11-12T06:17:19.304Z"
   },
   {
    "duration": 20,
    "start_time": "2024-11-12T06:17:19.965Z"
   },
   {
    "duration": 46,
    "start_time": "2024-11-12T06:17:19.987Z"
   },
   {
    "duration": 17,
    "start_time": "2024-11-12T06:17:20.035Z"
   },
   {
    "duration": 15,
    "start_time": "2024-11-12T06:17:20.070Z"
   },
   {
    "duration": 17,
    "start_time": "2024-11-12T06:17:20.086Z"
   },
   {
    "duration": 13,
    "start_time": "2024-11-12T06:17:20.105Z"
   },
   {
    "duration": 2,
    "start_time": "2024-11-12T06:17:36.495Z"
   },
   {
    "duration": 2,
    "start_time": "2024-11-12T06:17:38.529Z"
   },
   {
    "duration": 4,
    "start_time": "2024-11-12T06:19:15.161Z"
   },
   {
    "duration": 421,
    "start_time": "2024-11-12T06:19:15.167Z"
   },
   {
    "duration": 2,
    "start_time": "2024-11-12T06:19:15.590Z"
   },
   {
    "duration": 3,
    "start_time": "2024-11-12T06:19:15.596Z"
   },
   {
    "duration": 3,
    "start_time": "2024-11-12T06:19:15.600Z"
   },
   {
    "duration": 3,
    "start_time": "2024-11-12T06:19:15.605Z"
   },
   {
    "duration": 111,
    "start_time": "2024-11-12T06:19:15.610Z"
   },
   {
    "duration": 26,
    "start_time": "2024-11-12T06:19:15.723Z"
   },
   {
    "duration": 26,
    "start_time": "2024-11-12T06:19:15.751Z"
   },
   {
    "duration": 63,
    "start_time": "2024-11-12T06:19:15.781Z"
   },
   {
    "duration": 37,
    "start_time": "2024-11-12T06:19:15.845Z"
   },
   {
    "duration": 25,
    "start_time": "2024-11-12T06:19:15.884Z"
   },
   {
    "duration": 25,
    "start_time": "2024-11-12T06:19:15.911Z"
   },
   {
    "duration": 45,
    "start_time": "2024-11-12T06:19:15.938Z"
   },
   {
    "duration": 23,
    "start_time": "2024-11-12T06:19:15.984Z"
   },
   {
    "duration": 123,
    "start_time": "2024-11-12T06:19:16.008Z"
   },
   {
    "duration": 3,
    "start_time": "2024-11-12T06:19:16.133Z"
   },
   {
    "duration": 69,
    "start_time": "2024-11-12T06:19:16.138Z"
   },
   {
    "duration": 67,
    "start_time": "2024-11-12T06:19:16.209Z"
   },
   {
    "duration": 57,
    "start_time": "2024-11-12T06:19:16.277Z"
   },
   {
    "duration": 47,
    "start_time": "2024-11-12T06:19:16.336Z"
   },
   {
    "duration": 6,
    "start_time": "2024-11-12T06:19:16.385Z"
   },
   {
    "duration": 6,
    "start_time": "2024-11-12T06:19:16.392Z"
   },
   {
    "duration": 25,
    "start_time": "2024-11-12T06:19:16.400Z"
   },
   {
    "duration": 6,
    "start_time": "2024-11-12T06:19:16.426Z"
   },
   {
    "duration": 53,
    "start_time": "2024-11-12T06:19:16.434Z"
   },
   {
    "duration": 25,
    "start_time": "2024-11-12T06:19:16.489Z"
   },
   {
    "duration": 6,
    "start_time": "2024-11-12T06:19:16.518Z"
   },
   {
    "duration": 4,
    "start_time": "2024-11-12T06:19:16.525Z"
   },
   {
    "duration": 22,
    "start_time": "2024-11-12T06:19:16.531Z"
   },
   {
    "duration": 16,
    "start_time": "2024-11-12T06:19:16.559Z"
   },
   {
    "duration": 4,
    "start_time": "2024-11-12T06:19:16.576Z"
   },
   {
    "duration": 328,
    "start_time": "2024-11-12T06:19:16.582Z"
   },
   {
    "duration": 343,
    "start_time": "2024-11-12T06:19:16.912Z"
   },
   {
    "duration": 277,
    "start_time": "2024-11-12T06:19:17.257Z"
   },
   {
    "duration": 6,
    "start_time": "2024-11-12T06:19:17.536Z"
   },
   {
    "duration": 4,
    "start_time": "2024-11-12T06:19:17.544Z"
   },
   {
    "duration": 23,
    "start_time": "2024-11-12T06:19:17.549Z"
   },
   {
    "duration": 5,
    "start_time": "2024-11-12T06:19:17.574Z"
   },
   {
    "duration": 24,
    "start_time": "2024-11-12T06:19:17.581Z"
   },
   {
    "duration": 78,
    "start_time": "2024-11-12T06:19:17.607Z"
   },
   {
    "duration": 3,
    "start_time": "2024-11-12T06:19:17.687Z"
   },
   {
    "duration": 3,
    "start_time": "2024-11-12T06:19:17.692Z"
   },
   {
    "duration": 3,
    "start_time": "2024-11-12T06:19:17.696Z"
   },
   {
    "duration": 656,
    "start_time": "2024-11-12T06:19:17.700Z"
   },
   {
    "duration": 15,
    "start_time": "2024-11-12T06:19:18.359Z"
   },
   {
    "duration": 43,
    "start_time": "2024-11-12T06:19:18.375Z"
   },
   {
    "duration": 18,
    "start_time": "2024-11-12T06:19:18.420Z"
   },
   {
    "duration": 37,
    "start_time": "2024-11-12T06:19:18.440Z"
   },
   {
    "duration": 16,
    "start_time": "2024-11-12T06:19:18.478Z"
   },
   {
    "duration": 9,
    "start_time": "2024-11-12T06:19:18.495Z"
   },
   {
    "duration": 2,
    "start_time": "2024-11-12T06:19:20.031Z"
   },
   {
    "duration": 297,
    "start_time": "2024-11-12T06:19:21.638Z"
   },
   {
    "duration": 4,
    "start_time": "2024-11-12T06:20:11.864Z"
   },
   {
    "duration": 3,
    "start_time": "2024-11-12T06:20:21.668Z"
   },
   {
    "duration": 393,
    "start_time": "2024-11-12T06:20:21.677Z"
   },
   {
    "duration": 3,
    "start_time": "2024-11-12T06:20:22.072Z"
   },
   {
    "duration": 3,
    "start_time": "2024-11-12T06:20:22.077Z"
   },
   {
    "duration": 2,
    "start_time": "2024-11-12T06:20:22.082Z"
   },
   {
    "duration": 3,
    "start_time": "2024-11-12T06:20:22.087Z"
   },
   {
    "duration": 111,
    "start_time": "2024-11-12T06:20:22.092Z"
   },
   {
    "duration": 18,
    "start_time": "2024-11-12T06:20:22.205Z"
   },
   {
    "duration": 9,
    "start_time": "2024-11-12T06:20:22.225Z"
   },
   {
    "duration": 86,
    "start_time": "2024-11-12T06:20:22.236Z"
   },
   {
    "duration": 23,
    "start_time": "2024-11-12T06:20:22.324Z"
   },
   {
    "duration": 36,
    "start_time": "2024-11-12T06:20:22.349Z"
   },
   {
    "duration": 24,
    "start_time": "2024-11-12T06:20:22.386Z"
   },
   {
    "duration": 26,
    "start_time": "2024-11-12T06:20:22.412Z"
   },
   {
    "duration": 39,
    "start_time": "2024-11-12T06:20:22.442Z"
   },
   {
    "duration": 123,
    "start_time": "2024-11-12T06:20:22.483Z"
   },
   {
    "duration": 3,
    "start_time": "2024-11-12T06:20:22.608Z"
   },
   {
    "duration": 69,
    "start_time": "2024-11-12T06:20:22.613Z"
   },
   {
    "duration": 62,
    "start_time": "2024-11-12T06:20:22.684Z"
   },
   {
    "duration": 60,
    "start_time": "2024-11-12T06:20:22.747Z"
   },
   {
    "duration": 24,
    "start_time": "2024-11-12T06:20:22.809Z"
   },
   {
    "duration": 6,
    "start_time": "2024-11-12T06:20:22.835Z"
   },
   {
    "duration": 6,
    "start_time": "2024-11-12T06:20:22.842Z"
   },
   {
    "duration": 20,
    "start_time": "2024-11-12T06:20:22.869Z"
   },
   {
    "duration": 6,
    "start_time": "2024-11-12T06:20:22.891Z"
   },
   {
    "duration": 24,
    "start_time": "2024-11-12T06:20:22.899Z"
   },
   {
    "duration": 47,
    "start_time": "2024-11-12T06:20:22.925Z"
   },
   {
    "duration": 6,
    "start_time": "2024-11-12T06:20:22.975Z"
   },
   {
    "duration": 4,
    "start_time": "2024-11-12T06:20:22.983Z"
   },
   {
    "duration": 4,
    "start_time": "2024-11-12T06:20:22.988Z"
   },
   {
    "duration": 5,
    "start_time": "2024-11-12T06:20:22.994Z"
   },
   {
    "duration": 2,
    "start_time": "2024-11-12T06:20:23.001Z"
   },
   {
    "duration": 329,
    "start_time": "2024-11-12T06:20:23.005Z"
   },
   {
    "duration": 329,
    "start_time": "2024-11-12T06:20:23.336Z"
   },
   {
    "duration": 278,
    "start_time": "2024-11-12T06:20:23.671Z"
   },
   {
    "duration": 7,
    "start_time": "2024-11-12T06:20:23.950Z"
   },
   {
    "duration": 15,
    "start_time": "2024-11-12T06:20:23.958Z"
   },
   {
    "duration": 4,
    "start_time": "2024-11-12T06:20:23.974Z"
   },
   {
    "duration": 4,
    "start_time": "2024-11-12T06:20:23.979Z"
   },
   {
    "duration": 19,
    "start_time": "2024-11-12T06:20:23.985Z"
   },
   {
    "duration": 90,
    "start_time": "2024-11-12T06:20:24.006Z"
   },
   {
    "duration": 4,
    "start_time": "2024-11-12T06:20:24.100Z"
   },
   {
    "duration": 3,
    "start_time": "2024-11-12T06:20:24.106Z"
   },
   {
    "duration": 2,
    "start_time": "2024-11-12T06:20:24.110Z"
   },
   {
    "duration": 656,
    "start_time": "2024-11-12T06:20:24.114Z"
   },
   {
    "duration": 19,
    "start_time": "2024-11-12T06:20:24.771Z"
   },
   {
    "duration": 42,
    "start_time": "2024-11-12T06:20:24.791Z"
   },
   {
    "duration": 15,
    "start_time": "2024-11-12T06:20:24.835Z"
   },
   {
    "duration": 16,
    "start_time": "2024-11-12T06:20:24.871Z"
   },
   {
    "duration": 16,
    "start_time": "2024-11-12T06:20:24.889Z"
   },
   {
    "duration": 21,
    "start_time": "2024-11-12T06:20:24.918Z"
   },
   {
    "duration": 3,
    "start_time": "2024-11-12T06:20:24.941Z"
   },
   {
    "duration": 2,
    "start_time": "2024-11-12T06:20:25.774Z"
   },
   {
    "duration": 13,
    "start_time": "2024-11-12T06:20:27.139Z"
   },
   {
    "duration": 3,
    "start_time": "2024-11-12T06:20:55.832Z"
   },
   {
    "duration": 4,
    "start_time": "2024-11-12T06:21:09.417Z"
   },
   {
    "duration": 387,
    "start_time": "2024-11-12T06:21:09.425Z"
   },
   {
    "duration": 3,
    "start_time": "2024-11-12T06:21:09.814Z"
   },
   {
    "duration": 3,
    "start_time": "2024-11-12T06:21:09.819Z"
   },
   {
    "duration": 4,
    "start_time": "2024-11-12T06:21:09.823Z"
   },
   {
    "duration": 3,
    "start_time": "2024-11-12T06:21:09.830Z"
   },
   {
    "duration": 119,
    "start_time": "2024-11-12T06:21:09.835Z"
   },
   {
    "duration": 27,
    "start_time": "2024-11-12T06:21:09.956Z"
   },
   {
    "duration": 9,
    "start_time": "2024-11-12T06:21:09.985Z"
   },
   {
    "duration": 80,
    "start_time": "2024-11-12T06:21:09.995Z"
   },
   {
    "duration": 24,
    "start_time": "2024-11-12T06:21:10.077Z"
   },
   {
    "duration": 24,
    "start_time": "2024-11-12T06:21:10.103Z"
   },
   {
    "duration": 43,
    "start_time": "2024-11-12T06:21:10.129Z"
   },
   {
    "duration": 24,
    "start_time": "2024-11-12T06:21:10.174Z"
   },
   {
    "duration": 23,
    "start_time": "2024-11-12T06:21:10.202Z"
   },
   {
    "duration": 133,
    "start_time": "2024-11-12T06:21:10.226Z"
   },
   {
    "duration": 9,
    "start_time": "2024-11-12T06:21:10.361Z"
   },
   {
    "duration": 56,
    "start_time": "2024-11-12T06:21:10.372Z"
   },
   {
    "duration": 80,
    "start_time": "2024-11-12T06:21:10.429Z"
   },
   {
    "duration": 47,
    "start_time": "2024-11-12T06:21:10.511Z"
   },
   {
    "duration": 24,
    "start_time": "2024-11-12T06:21:10.570Z"
   },
   {
    "duration": 6,
    "start_time": "2024-11-12T06:21:10.597Z"
   },
   {
    "duration": 5,
    "start_time": "2024-11-12T06:21:10.605Z"
   },
   {
    "duration": 25,
    "start_time": "2024-11-12T06:21:10.612Z"
   },
   {
    "duration": 6,
    "start_time": "2024-11-12T06:21:10.639Z"
   },
   {
    "duration": 26,
    "start_time": "2024-11-12T06:21:10.671Z"
   },
   {
    "duration": 27,
    "start_time": "2024-11-12T06:21:10.699Z"
   },
   {
    "duration": 6,
    "start_time": "2024-11-12T06:21:10.727Z"
   },
   {
    "duration": 7,
    "start_time": "2024-11-12T06:21:10.735Z"
   },
   {
    "duration": 29,
    "start_time": "2024-11-12T06:21:10.743Z"
   },
   {
    "duration": 7,
    "start_time": "2024-11-12T06:21:10.774Z"
   },
   {
    "duration": 3,
    "start_time": "2024-11-12T06:21:10.782Z"
   },
   {
    "duration": 344,
    "start_time": "2024-11-12T06:21:10.787Z"
   },
   {
    "duration": 350,
    "start_time": "2024-11-12T06:21:11.133Z"
   },
   {
    "duration": 276,
    "start_time": "2024-11-12T06:21:11.485Z"
   },
   {
    "duration": 10,
    "start_time": "2024-11-12T06:21:11.763Z"
   },
   {
    "duration": 4,
    "start_time": "2024-11-12T06:21:11.776Z"
   },
   {
    "duration": 4,
    "start_time": "2024-11-12T06:21:11.781Z"
   },
   {
    "duration": 4,
    "start_time": "2024-11-12T06:21:11.787Z"
   },
   {
    "duration": 19,
    "start_time": "2024-11-12T06:21:11.793Z"
   },
   {
    "duration": 91,
    "start_time": "2024-11-12T06:21:11.814Z"
   },
   {
    "duration": 4,
    "start_time": "2024-11-12T06:21:11.910Z"
   },
   {
    "duration": 2,
    "start_time": "2024-11-12T06:21:11.916Z"
   },
   {
    "duration": 2,
    "start_time": "2024-11-12T06:21:11.920Z"
   },
   {
    "duration": 671,
    "start_time": "2024-11-12T06:21:11.925Z"
   },
   {
    "duration": 17,
    "start_time": "2024-11-12T06:21:12.598Z"
   },
   {
    "duration": 54,
    "start_time": "2024-11-12T06:21:12.616Z"
   },
   {
    "duration": 18,
    "start_time": "2024-11-12T06:21:12.672Z"
   },
   {
    "duration": 16,
    "start_time": "2024-11-12T06:21:12.691Z"
   },
   {
    "duration": 15,
    "start_time": "2024-11-12T06:21:12.709Z"
   },
   {
    "duration": 37,
    "start_time": "2024-11-12T06:21:12.734Z"
   },
   {
    "duration": 2,
    "start_time": "2024-11-12T06:21:13.511Z"
   },
   {
    "duration": 2,
    "start_time": "2024-11-12T06:21:14.139Z"
   },
   {
    "duration": 2,
    "start_time": "2024-11-12T06:21:15.039Z"
   },
   {
    "duration": 14,
    "start_time": "2024-11-12T06:21:17.009Z"
   },
   {
    "duration": 4,
    "start_time": "2024-11-12T06:22:05.091Z"
   },
   {
    "duration": 6,
    "start_time": "2024-11-12T06:22:15.216Z"
   },
   {
    "duration": 390,
    "start_time": "2024-11-12T06:22:15.226Z"
   },
   {
    "duration": 3,
    "start_time": "2024-11-12T06:22:15.617Z"
   },
   {
    "duration": 2,
    "start_time": "2024-11-12T06:22:15.623Z"
   },
   {
    "duration": 3,
    "start_time": "2024-11-12T06:22:15.627Z"
   },
   {
    "duration": 4,
    "start_time": "2024-11-12T06:22:15.631Z"
   },
   {
    "duration": 114,
    "start_time": "2024-11-12T06:22:15.637Z"
   },
   {
    "duration": 30,
    "start_time": "2024-11-12T06:22:15.752Z"
   },
   {
    "duration": 9,
    "start_time": "2024-11-12T06:22:15.785Z"
   },
   {
    "duration": 80,
    "start_time": "2024-11-12T06:22:15.798Z"
   },
   {
    "duration": 24,
    "start_time": "2024-11-12T06:22:15.880Z"
   },
   {
    "duration": 24,
    "start_time": "2024-11-12T06:22:15.906Z"
   },
   {
    "duration": 42,
    "start_time": "2024-11-12T06:22:15.933Z"
   },
   {
    "duration": 23,
    "start_time": "2024-11-12T06:22:15.977Z"
   },
   {
    "duration": 23,
    "start_time": "2024-11-12T06:22:16.003Z"
   },
   {
    "duration": 132,
    "start_time": "2024-11-12T06:22:16.028Z"
   },
   {
    "duration": 9,
    "start_time": "2024-11-12T06:22:16.162Z"
   },
   {
    "duration": 56,
    "start_time": "2024-11-12T06:22:16.174Z"
   },
   {
    "duration": 73,
    "start_time": "2024-11-12T06:22:16.232Z"
   },
   {
    "duration": 64,
    "start_time": "2024-11-12T06:22:16.307Z"
   },
   {
    "duration": 24,
    "start_time": "2024-11-12T06:22:16.373Z"
   },
   {
    "duration": 5,
    "start_time": "2024-11-12T06:22:16.399Z"
   },
   {
    "duration": 6,
    "start_time": "2024-11-12T06:22:16.405Z"
   },
   {
    "duration": 20,
    "start_time": "2024-11-12T06:22:16.412Z"
   },
   {
    "duration": 7,
    "start_time": "2024-11-12T06:22:16.434Z"
   },
   {
    "duration": 52,
    "start_time": "2024-11-12T06:22:16.442Z"
   },
   {
    "duration": 25,
    "start_time": "2024-11-12T06:22:16.496Z"
   },
   {
    "duration": 9,
    "start_time": "2024-11-12T06:22:16.525Z"
   },
   {
    "duration": 6,
    "start_time": "2024-11-12T06:22:16.536Z"
   },
   {
    "duration": 28,
    "start_time": "2024-11-12T06:22:16.544Z"
   },
   {
    "duration": 6,
    "start_time": "2024-11-12T06:22:16.575Z"
   },
   {
    "duration": 4,
    "start_time": "2024-11-12T06:22:16.582Z"
   },
   {
    "duration": 353,
    "start_time": "2024-11-12T06:22:16.588Z"
   },
   {
    "duration": 359,
    "start_time": "2024-11-12T06:22:16.943Z"
   },
   {
    "duration": 276,
    "start_time": "2024-11-12T06:22:17.304Z"
   },
   {
    "duration": 6,
    "start_time": "2024-11-12T06:22:17.582Z"
   },
   {
    "duration": 4,
    "start_time": "2024-11-12T06:22:17.589Z"
   },
   {
    "duration": 4,
    "start_time": "2024-11-12T06:22:17.595Z"
   },
   {
    "duration": 4,
    "start_time": "2024-11-12T06:22:17.600Z"
   },
   {
    "duration": 20,
    "start_time": "2024-11-12T06:22:17.606Z"
   },
   {
    "duration": 94,
    "start_time": "2024-11-12T06:22:17.627Z"
   },
   {
    "duration": 4,
    "start_time": "2024-11-12T06:22:17.723Z"
   },
   {
    "duration": 2,
    "start_time": "2024-11-12T06:22:17.728Z"
   },
   {
    "duration": 3,
    "start_time": "2024-11-12T06:22:17.732Z"
   },
   {
    "duration": 666,
    "start_time": "2024-11-12T06:22:17.736Z"
   },
   {
    "duration": 17,
    "start_time": "2024-11-12T06:22:18.404Z"
   },
   {
    "duration": 56,
    "start_time": "2024-11-12T06:22:18.422Z"
   },
   {
    "duration": 16,
    "start_time": "2024-11-12T06:22:18.480Z"
   },
   {
    "duration": 16,
    "start_time": "2024-11-12T06:22:18.498Z"
   },
   {
    "duration": 16,
    "start_time": "2024-11-12T06:22:18.515Z"
   },
   {
    "duration": 9,
    "start_time": "2024-11-12T06:22:18.569Z"
   },
   {
    "duration": 3,
    "start_time": "2024-11-12T06:22:19.001Z"
   },
   {
    "duration": 3,
    "start_time": "2024-11-12T06:22:19.591Z"
   },
   {
    "duration": 2,
    "start_time": "2024-11-12T06:22:20.002Z"
   },
   {
    "duration": 2,
    "start_time": "2024-11-12T06:22:20.375Z"
   },
   {
    "duration": 2,
    "start_time": "2024-11-12T06:22:21.547Z"
   },
   {
    "duration": 3,
    "start_time": "2024-11-12T06:22:22.388Z"
   },
   {
    "duration": 35,
    "start_time": "2024-11-12T06:36:28.419Z"
   },
   {
    "duration": 16,
    "start_time": "2024-11-12T06:36:30.539Z"
   },
   {
    "duration": 66,
    "start_time": "2024-11-12T06:37:16.588Z"
   },
   {
    "duration": 1941,
    "start_time": "2024-11-12T06:37:30.763Z"
   },
   {
    "duration": 71,
    "start_time": "2024-11-12T06:39:13.472Z"
   },
   {
    "duration": 5,
    "start_time": "2024-11-12T06:40:16.706Z"
   },
   {
    "duration": 1937,
    "start_time": "2024-11-12T06:40:24.530Z"
   },
   {
    "duration": 13,
    "start_time": "2024-11-12T06:43:06.351Z"
   },
   {
    "duration": 421,
    "start_time": "2024-11-12T06:43:06.367Z"
   },
   {
    "duration": 3,
    "start_time": "2024-11-12T06:43:06.790Z"
   },
   {
    "duration": 3,
    "start_time": "2024-11-12T06:43:06.794Z"
   },
   {
    "duration": 2,
    "start_time": "2024-11-12T06:43:06.800Z"
   },
   {
    "duration": 4,
    "start_time": "2024-11-12T06:43:06.804Z"
   },
   {
    "duration": 116,
    "start_time": "2024-11-12T06:43:06.810Z"
   },
   {
    "duration": 22,
    "start_time": "2024-11-12T06:43:06.927Z"
   },
   {
    "duration": 22,
    "start_time": "2024-11-12T06:43:06.951Z"
   },
   {
    "duration": 67,
    "start_time": "2024-11-12T06:43:06.975Z"
   },
   {
    "duration": 41,
    "start_time": "2024-11-12T06:43:07.046Z"
   },
   {
    "duration": 24,
    "start_time": "2024-11-12T06:43:07.089Z"
   },
   {
    "duration": 24,
    "start_time": "2024-11-12T06:43:07.115Z"
   },
   {
    "duration": 45,
    "start_time": "2024-11-12T06:43:07.143Z"
   },
   {
    "duration": 25,
    "start_time": "2024-11-12T06:43:07.192Z"
   },
   {
    "duration": 130,
    "start_time": "2024-11-12T06:43:07.219Z"
   },
   {
    "duration": 4,
    "start_time": "2024-11-12T06:43:07.351Z"
   },
   {
    "duration": 65,
    "start_time": "2024-11-12T06:43:07.357Z"
   },
   {
    "duration": 68,
    "start_time": "2024-11-12T06:43:07.424Z"
   },
   {
    "duration": 49,
    "start_time": "2024-11-12T06:43:07.493Z"
   },
   {
    "duration": 41,
    "start_time": "2024-11-12T06:43:07.543Z"
   },
   {
    "duration": 6,
    "start_time": "2024-11-12T06:43:07.586Z"
   },
   {
    "duration": 6,
    "start_time": "2024-11-12T06:43:07.594Z"
   },
   {
    "duration": 19,
    "start_time": "2024-11-12T06:43:07.602Z"
   },
   {
    "duration": 6,
    "start_time": "2024-11-12T06:43:07.623Z"
   },
   {
    "duration": 56,
    "start_time": "2024-11-12T06:43:07.631Z"
   },
   {
    "duration": 26,
    "start_time": "2024-11-12T06:43:07.688Z"
   },
   {
    "duration": 7,
    "start_time": "2024-11-12T06:43:07.716Z"
   },
   {
    "duration": 5,
    "start_time": "2024-11-12T06:43:07.725Z"
   },
   {
    "duration": 4,
    "start_time": "2024-11-12T06:43:07.731Z"
   },
   {
    "duration": 34,
    "start_time": "2024-11-12T06:43:07.737Z"
   },
   {
    "duration": 3,
    "start_time": "2024-11-12T06:43:07.773Z"
   },
   {
    "duration": 333,
    "start_time": "2024-11-12T06:43:07.778Z"
   },
   {
    "duration": 449,
    "start_time": "2024-11-12T06:43:08.113Z"
   },
   {
    "duration": 275,
    "start_time": "2024-11-12T06:43:08.563Z"
   },
   {
    "duration": 7,
    "start_time": "2024-11-12T06:43:08.840Z"
   },
   {
    "duration": 4,
    "start_time": "2024-11-12T06:43:08.848Z"
   },
   {
    "duration": 4,
    "start_time": "2024-11-12T06:43:08.869Z"
   },
   {
    "duration": 4,
    "start_time": "2024-11-12T06:43:08.875Z"
   },
   {
    "duration": 19,
    "start_time": "2024-11-12T06:43:08.881Z"
   },
   {
    "duration": 83,
    "start_time": "2024-11-12T06:43:08.904Z"
   },
   {
    "duration": 4,
    "start_time": "2024-11-12T06:43:08.989Z"
   },
   {
    "duration": 3,
    "start_time": "2024-11-12T06:43:08.994Z"
   },
   {
    "duration": 3,
    "start_time": "2024-11-12T06:43:08.998Z"
   },
   {
    "duration": 700,
    "start_time": "2024-11-12T06:43:09.002Z"
   },
   {
    "duration": 16,
    "start_time": "2024-11-12T06:43:09.704Z"
   },
   {
    "duration": 56,
    "start_time": "2024-11-12T06:43:09.722Z"
   },
   {
    "duration": 16,
    "start_time": "2024-11-12T06:43:09.780Z"
   },
   {
    "duration": 16,
    "start_time": "2024-11-12T06:43:09.797Z"
   },
   {
    "duration": 16,
    "start_time": "2024-11-12T06:43:09.814Z"
   },
   {
    "duration": 8,
    "start_time": "2024-11-12T06:43:09.831Z"
   },
   {
    "duration": 133,
    "start_time": "2024-11-12T06:43:14.542Z"
   },
   {
    "duration": 4,
    "start_time": "2024-11-12T06:43:26.060Z"
   },
   {
    "duration": 35,
    "start_time": "2024-11-12T06:43:37.458Z"
   },
   {
    "duration": 1947,
    "start_time": "2024-11-12T06:43:40.993Z"
   },
   {
    "duration": 37,
    "start_time": "2024-11-12T06:44:28.738Z"
   },
   {
    "duration": 1938,
    "start_time": "2024-11-12T06:44:29.674Z"
   },
   {
    "duration": 51522,
    "start_time": "2024-11-12T06:45:17.721Z"
   },
   {
    "duration": 378,
    "start_time": "2024-11-12T06:48:06.489Z"
   },
   {
    "duration": 1048,
    "start_time": "2024-11-12T06:55:52.112Z"
   },
   {
    "duration": 415,
    "start_time": "2024-11-12T06:55:53.162Z"
   },
   {
    "duration": 3,
    "start_time": "2024-11-12T06:55:53.578Z"
   },
   {
    "duration": 2,
    "start_time": "2024-11-12T06:55:53.584Z"
   },
   {
    "duration": 3,
    "start_time": "2024-11-12T06:55:53.588Z"
   },
   {
    "duration": 3,
    "start_time": "2024-11-12T06:55:53.593Z"
   },
   {
    "duration": 112,
    "start_time": "2024-11-12T06:55:53.598Z"
   },
   {
    "duration": 27,
    "start_time": "2024-11-12T06:55:53.712Z"
   },
   {
    "duration": 10,
    "start_time": "2024-11-12T06:55:53.740Z"
   },
   {
    "duration": 62,
    "start_time": "2024-11-12T06:55:53.773Z"
   },
   {
    "duration": 37,
    "start_time": "2024-11-12T06:55:53.836Z"
   },
   {
    "duration": 24,
    "start_time": "2024-11-12T06:55:53.875Z"
   },
   {
    "duration": 24,
    "start_time": "2024-11-12T06:55:53.901Z"
   },
   {
    "duration": 43,
    "start_time": "2024-11-12T06:55:53.927Z"
   },
   {
    "duration": 24,
    "start_time": "2024-11-12T06:55:53.971Z"
   },
   {
    "duration": 121,
    "start_time": "2024-11-12T06:55:53.998Z"
   },
   {
    "duration": 3,
    "start_time": "2024-11-12T06:55:54.121Z"
   },
   {
    "duration": 69,
    "start_time": "2024-11-12T06:55:54.126Z"
   },
   {
    "duration": 62,
    "start_time": "2024-11-12T06:55:54.196Z"
   },
   {
    "duration": 51,
    "start_time": "2024-11-12T06:55:54.269Z"
   },
   {
    "duration": 25,
    "start_time": "2024-11-12T06:55:54.321Z"
   },
   {
    "duration": 22,
    "start_time": "2024-11-12T06:55:54.348Z"
   },
   {
    "duration": 6,
    "start_time": "2024-11-12T06:55:54.371Z"
   },
   {
    "duration": 28,
    "start_time": "2024-11-12T06:55:54.378Z"
   },
   {
    "duration": 7,
    "start_time": "2024-11-12T06:55:54.407Z"
   },
   {
    "duration": 26,
    "start_time": "2024-11-12T06:55:54.415Z"
   },
   {
    "duration": 46,
    "start_time": "2024-11-12T06:55:54.443Z"
   },
   {
    "duration": 6,
    "start_time": "2024-11-12T06:55:54.493Z"
   },
   {
    "duration": 4,
    "start_time": "2024-11-12T06:55:54.500Z"
   },
   {
    "duration": 4,
    "start_time": "2024-11-12T06:55:54.505Z"
   },
   {
    "duration": 6,
    "start_time": "2024-11-12T06:55:54.510Z"
   },
   {
    "duration": 3,
    "start_time": "2024-11-12T06:55:54.517Z"
   },
   {
    "duration": 361,
    "start_time": "2024-11-12T06:55:54.522Z"
   },
   {
    "duration": 328,
    "start_time": "2024-11-12T06:55:54.885Z"
   },
   {
    "duration": 273,
    "start_time": "2024-11-12T06:55:55.215Z"
   },
   {
    "duration": 7,
    "start_time": "2024-11-12T06:55:55.490Z"
   },
   {
    "duration": 3,
    "start_time": "2024-11-12T06:55:55.499Z"
   },
   {
    "duration": 4,
    "start_time": "2024-11-12T06:55:55.504Z"
   },
   {
    "duration": 5,
    "start_time": "2024-11-12T06:55:55.510Z"
   },
   {
    "duration": 59,
    "start_time": "2024-11-12T06:55:55.516Z"
   },
   {
    "duration": 62,
    "start_time": "2024-11-12T06:55:55.578Z"
   },
   {
    "duration": 4,
    "start_time": "2024-11-12T06:55:55.642Z"
   },
   {
    "duration": 2,
    "start_time": "2024-11-12T06:55:55.648Z"
   },
   {
    "duration": 3,
    "start_time": "2024-11-12T06:55:55.670Z"
   },
   {
    "duration": 631,
    "start_time": "2024-11-12T06:55:55.675Z"
   },
   {
    "duration": 16,
    "start_time": "2024-11-12T06:55:56.308Z"
   },
   {
    "duration": 61,
    "start_time": "2024-11-12T06:55:56.327Z"
   },
   {
    "duration": 16,
    "start_time": "2024-11-12T06:55:56.390Z"
   },
   {
    "duration": 16,
    "start_time": "2024-11-12T06:55:56.408Z"
   },
   {
    "duration": 17,
    "start_time": "2024-11-12T06:55:56.425Z"
   },
   {
    "duration": 33,
    "start_time": "2024-11-12T06:55:56.444Z"
   },
   {
    "duration": 115,
    "start_time": "2024-11-12T06:55:56.479Z"
   },
   {
    "duration": 2103,
    "start_time": "2024-11-12T06:55:56.596Z"
   },
   {
    "duration": 1982,
    "start_time": "2024-11-12T06:56:01.788Z"
   },
   {
    "duration": 82619,
    "start_time": "2024-11-12T06:56:07.418Z"
   },
   {
    "duration": 46,
    "start_time": "2024-11-12T06:58:42.136Z"
   },
   {
    "duration": 1041,
    "start_time": "2024-11-12T06:58:59.731Z"
   },
   {
    "duration": 425,
    "start_time": "2024-11-12T06:59:00.774Z"
   },
   {
    "duration": 4,
    "start_time": "2024-11-12T06:59:01.201Z"
   },
   {
    "duration": 3,
    "start_time": "2024-11-12T06:59:01.207Z"
   },
   {
    "duration": 3,
    "start_time": "2024-11-12T06:59:01.212Z"
   },
   {
    "duration": 5,
    "start_time": "2024-11-12T06:59:01.217Z"
   },
   {
    "duration": 113,
    "start_time": "2024-11-12T06:59:01.224Z"
   },
   {
    "duration": 36,
    "start_time": "2024-11-12T06:59:01.339Z"
   },
   {
    "duration": 12,
    "start_time": "2024-11-12T06:59:01.377Z"
   },
   {
    "duration": 79,
    "start_time": "2024-11-12T06:59:01.392Z"
   },
   {
    "duration": 24,
    "start_time": "2024-11-12T06:59:01.473Z"
   },
   {
    "duration": 24,
    "start_time": "2024-11-12T06:59:01.499Z"
   },
   {
    "duration": 24,
    "start_time": "2024-11-12T06:59:01.525Z"
   },
   {
    "duration": 41,
    "start_time": "2024-11-12T06:59:01.551Z"
   },
   {
    "duration": 24,
    "start_time": "2024-11-12T06:59:01.593Z"
   },
   {
    "duration": 128,
    "start_time": "2024-11-12T06:59:01.619Z"
   },
   {
    "duration": 4,
    "start_time": "2024-11-12T06:59:01.749Z"
   },
   {
    "duration": 70,
    "start_time": "2024-11-12T06:59:01.755Z"
   },
   {
    "duration": 70,
    "start_time": "2024-11-12T06:59:01.828Z"
   },
   {
    "duration": 52,
    "start_time": "2024-11-12T06:59:01.900Z"
   },
   {
    "duration": 36,
    "start_time": "2024-11-12T06:59:01.954Z"
   },
   {
    "duration": 5,
    "start_time": "2024-11-12T06:59:01.992Z"
   },
   {
    "duration": 5,
    "start_time": "2024-11-12T06:59:01.999Z"
   },
   {
    "duration": 27,
    "start_time": "2024-11-12T06:59:02.006Z"
   },
   {
    "duration": 7,
    "start_time": "2024-11-12T06:59:02.035Z"
   },
   {
    "duration": 26,
    "start_time": "2024-11-12T06:59:02.069Z"
   },
   {
    "duration": 25,
    "start_time": "2024-11-12T06:59:02.097Z"
   },
   {
    "duration": 6,
    "start_time": "2024-11-12T06:59:02.126Z"
   },
   {
    "duration": 4,
    "start_time": "2024-11-12T06:59:02.134Z"
   },
   {
    "duration": 32,
    "start_time": "2024-11-12T06:59:02.139Z"
   },
   {
    "duration": 5,
    "start_time": "2024-11-12T06:59:02.173Z"
   },
   {
    "duration": 3,
    "start_time": "2024-11-12T06:59:02.181Z"
   },
   {
    "duration": 336,
    "start_time": "2024-11-12T06:59:02.185Z"
   },
   {
    "duration": 335,
    "start_time": "2024-11-12T06:59:02.523Z"
   },
   {
    "duration": 275,
    "start_time": "2024-11-12T06:59:02.860Z"
   },
   {
    "duration": 7,
    "start_time": "2024-11-12T06:59:03.137Z"
   },
   {
    "duration": 4,
    "start_time": "2024-11-12T06:59:03.145Z"
   },
   {
    "duration": 21,
    "start_time": "2024-11-12T06:59:03.151Z"
   },
   {
    "duration": 5,
    "start_time": "2024-11-12T06:59:03.175Z"
   },
   {
    "duration": 27,
    "start_time": "2024-11-12T06:59:03.181Z"
   },
   {
    "duration": 83,
    "start_time": "2024-11-12T06:59:03.210Z"
   },
   {
    "duration": 4,
    "start_time": "2024-11-12T06:59:03.295Z"
   },
   {
    "duration": 2,
    "start_time": "2024-11-12T06:59:03.301Z"
   },
   {
    "duration": 2,
    "start_time": "2024-11-12T06:59:03.305Z"
   },
   {
    "duration": 654,
    "start_time": "2024-11-12T06:59:03.308Z"
   },
   {
    "duration": 15,
    "start_time": "2024-11-12T06:59:03.964Z"
   },
   {
    "duration": 46,
    "start_time": "2024-11-12T06:59:03.981Z"
   },
   {
    "duration": 16,
    "start_time": "2024-11-12T06:59:04.029Z"
   },
   {
    "duration": 38,
    "start_time": "2024-11-12T06:59:04.047Z"
   },
   {
    "duration": 15,
    "start_time": "2024-11-12T06:59:04.086Z"
   },
   {
    "duration": 14,
    "start_time": "2024-11-12T06:59:04.103Z"
   },
   {
    "duration": 101,
    "start_time": "2024-11-12T06:59:09.272Z"
   },
   {
    "duration": 53,
    "start_time": "2024-11-12T06:59:30.018Z"
   },
   {
    "duration": 1940,
    "start_time": "2024-11-12T06:59:41.809Z"
   },
   {
    "duration": 1941,
    "start_time": "2024-11-12T06:59:52.569Z"
   },
   {
    "duration": 112446,
    "start_time": "2024-11-12T07:00:04.559Z"
   },
   {
    "duration": 144540,
    "start_time": "2024-11-12T07:02:03.204Z"
   },
   {
    "duration": 3,
    "start_time": "2024-11-12T07:55:14.702Z"
   },
   {
    "duration": 1079,
    "start_time": "2024-11-12T07:55:36.614Z"
   },
   {
    "duration": 432,
    "start_time": "2024-11-12T07:55:37.696Z"
   },
   {
    "duration": 3,
    "start_time": "2024-11-12T07:55:38.130Z"
   },
   {
    "duration": 3,
    "start_time": "2024-11-12T07:55:38.136Z"
   },
   {
    "duration": 3,
    "start_time": "2024-11-12T07:55:38.141Z"
   },
   {
    "duration": 25,
    "start_time": "2024-11-12T07:55:38.145Z"
   },
   {
    "duration": 104,
    "start_time": "2024-11-12T07:55:38.172Z"
   },
   {
    "duration": 28,
    "start_time": "2024-11-12T07:55:38.278Z"
   },
   {
    "duration": 10,
    "start_time": "2024-11-12T07:55:38.308Z"
   },
   {
    "duration": 87,
    "start_time": "2024-11-12T07:55:38.321Z"
   },
   {
    "duration": 25,
    "start_time": "2024-11-12T07:55:38.410Z"
   },
   {
    "duration": 36,
    "start_time": "2024-11-12T07:55:38.437Z"
   },
   {
    "duration": 25,
    "start_time": "2024-11-12T07:55:38.476Z"
   },
   {
    "duration": 24,
    "start_time": "2024-11-12T07:55:38.503Z"
   },
   {
    "duration": 45,
    "start_time": "2024-11-12T07:55:38.529Z"
   },
   {
    "duration": 122,
    "start_time": "2024-11-12T07:55:38.576Z"
   },
   {
    "duration": 4,
    "start_time": "2024-11-12T07:55:38.700Z"
   },
   {
    "duration": 73,
    "start_time": "2024-11-12T07:55:38.706Z"
   },
   {
    "duration": 63,
    "start_time": "2024-11-12T07:55:38.781Z"
   },
   {
    "duration": 67,
    "start_time": "2024-11-12T07:55:38.847Z"
   },
   {
    "duration": 24,
    "start_time": "2024-11-12T07:55:38.916Z"
   },
   {
    "duration": 6,
    "start_time": "2024-11-12T07:55:38.942Z"
   },
   {
    "duration": 25,
    "start_time": "2024-11-12T07:55:38.949Z"
   },
   {
    "duration": 29,
    "start_time": "2024-11-12T07:55:38.976Z"
   },
   {
    "duration": 7,
    "start_time": "2024-11-12T07:55:39.007Z"
   },
   {
    "duration": 26,
    "start_time": "2024-11-12T07:55:39.016Z"
   },
   {
    "duration": 46,
    "start_time": "2024-11-12T07:55:39.044Z"
   },
   {
    "duration": 6,
    "start_time": "2024-11-12T07:55:39.095Z"
   },
   {
    "duration": 4,
    "start_time": "2024-11-12T07:55:39.103Z"
   },
   {
    "duration": 4,
    "start_time": "2024-11-12T07:55:39.109Z"
   },
   {
    "duration": 5,
    "start_time": "2024-11-12T07:55:39.115Z"
   },
   {
    "duration": 3,
    "start_time": "2024-11-12T07:55:39.122Z"
   },
   {
    "duration": 369,
    "start_time": "2024-11-12T07:55:39.127Z"
   },
   {
    "duration": 344,
    "start_time": "2024-11-12T07:55:39.497Z"
   },
   {
    "duration": 282,
    "start_time": "2024-11-12T07:55:39.844Z"
   },
   {
    "duration": 7,
    "start_time": "2024-11-12T07:55:40.129Z"
   },
   {
    "duration": 4,
    "start_time": "2024-11-12T07:55:40.137Z"
   },
   {
    "duration": 4,
    "start_time": "2024-11-12T07:55:40.143Z"
   },
   {
    "duration": 25,
    "start_time": "2024-11-12T07:55:40.148Z"
   },
   {
    "duration": 26,
    "start_time": "2024-11-12T07:55:40.175Z"
   },
   {
    "duration": 79,
    "start_time": "2024-11-12T07:55:40.203Z"
   },
   {
    "duration": 3,
    "start_time": "2024-11-12T07:55:40.284Z"
   },
   {
    "duration": 2,
    "start_time": "2024-11-12T07:55:40.289Z"
   },
   {
    "duration": 3,
    "start_time": "2024-11-12T07:55:40.293Z"
   },
   {
    "duration": 666,
    "start_time": "2024-11-12T07:55:40.297Z"
   },
   {
    "duration": 23,
    "start_time": "2024-11-12T07:55:40.965Z"
   },
   {
    "duration": 49,
    "start_time": "2024-11-12T07:55:40.990Z"
   },
   {
    "duration": 30,
    "start_time": "2024-11-12T07:55:41.040Z"
   },
   {
    "duration": 17,
    "start_time": "2024-11-12T07:55:41.072Z"
   },
   {
    "duration": 17,
    "start_time": "2024-11-12T07:55:41.091Z"
   },
   {
    "duration": 12,
    "start_time": "2024-11-12T07:55:41.110Z"
   },
   {
    "duration": 11,
    "start_time": "2024-11-12T07:55:42.792Z"
   },
   {
    "duration": 128,
    "start_time": "2024-11-12T07:56:13.843Z"
   },
   {
    "duration": 73,
    "start_time": "2024-11-12T07:56:35.596Z"
   },
   {
    "duration": 36,
    "start_time": "2024-11-12T07:56:58.602Z"
   },
   {
    "duration": 1994,
    "start_time": "2024-11-12T07:57:05.002Z"
   },
   {
    "duration": 141027,
    "start_time": "2024-11-12T07:57:15.515Z"
   },
   {
    "duration": 6,
    "start_time": "2024-11-12T08:07:00.709Z"
   },
   {
    "duration": 170,
    "start_time": "2024-11-12T08:10:45.640Z"
   },
   {
    "duration": 13112,
    "start_time": "2024-11-12T08:21:32.860Z"
   },
   {
    "duration": 13377,
    "start_time": "2024-11-12T08:23:08.305Z"
   },
   {
    "duration": 2813,
    "start_time": "2024-11-12T18:07:01.757Z"
   },
   {
    "duration": 472,
    "start_time": "2024-11-12T18:07:04.572Z"
   },
   {
    "duration": 3,
    "start_time": "2024-11-12T18:07:05.046Z"
   },
   {
    "duration": 3,
    "start_time": "2024-11-12T18:07:05.051Z"
   },
   {
    "duration": 3,
    "start_time": "2024-11-12T18:07:05.056Z"
   },
   {
    "duration": 5,
    "start_time": "2024-11-12T18:07:05.177Z"
   },
   {
    "duration": 97,
    "start_time": "2024-11-12T18:07:05.690Z"
   },
   {
    "duration": 28,
    "start_time": "2024-11-12T18:07:06.639Z"
   },
   {
    "duration": 13,
    "start_time": "2024-11-12T18:07:07.525Z"
   },
   {
    "duration": 65,
    "start_time": "2024-11-12T18:07:08.951Z"
   },
   {
    "duration": 25,
    "start_time": "2024-11-12T18:07:10.607Z"
   },
   {
    "duration": 24,
    "start_time": "2024-11-12T18:07:11.465Z"
   },
   {
    "duration": 34,
    "start_time": "2024-11-12T18:07:12.280Z"
   },
   {
    "duration": 25,
    "start_time": "2024-11-12T18:07:13.073Z"
   },
   {
    "duration": 24,
    "start_time": "2024-11-12T18:07:13.923Z"
   },
   {
    "duration": 111,
    "start_time": "2024-11-12T18:07:14.820Z"
   },
   {
    "duration": 3,
    "start_time": "2024-11-12T18:07:15.759Z"
   },
   {
    "duration": 57,
    "start_time": "2024-11-12T18:07:16.272Z"
   },
   {
    "duration": 65,
    "start_time": "2024-11-12T18:07:16.826Z"
   },
   {
    "duration": 51,
    "start_time": "2024-11-12T18:07:18.261Z"
   },
   {
    "duration": 25,
    "start_time": "2024-11-12T18:07:22.757Z"
   },
   {
    "duration": 5,
    "start_time": "2024-11-12T18:07:24.591Z"
   },
   {
    "duration": 6,
    "start_time": "2024-11-12T18:07:25.989Z"
   },
   {
    "duration": 27,
    "start_time": "2024-11-12T18:07:26.974Z"
   },
   {
    "duration": 7,
    "start_time": "2024-11-12T18:07:27.735Z"
   },
   {
    "duration": 26,
    "start_time": "2024-11-12T18:07:29.174Z"
   },
   {
    "duration": 30,
    "start_time": "2024-11-12T18:07:30.758Z"
   },
   {
    "duration": 6,
    "start_time": "2024-11-12T18:07:32.107Z"
   },
   {
    "duration": 4,
    "start_time": "2024-11-12T18:07:32.961Z"
   },
   {
    "duration": 4,
    "start_time": "2024-11-12T18:07:33.611Z"
   },
   {
    "duration": 6,
    "start_time": "2024-11-12T18:07:35.167Z"
   },
   {
    "duration": 3,
    "start_time": "2024-11-12T18:07:35.962Z"
   },
   {
    "duration": 313,
    "start_time": "2024-11-12T18:07:39.021Z"
   },
   {
    "duration": 327,
    "start_time": "2024-11-12T18:07:39.577Z"
   },
   {
    "duration": 264,
    "start_time": "2024-11-12T18:07:40.092Z"
   },
   {
    "duration": 8,
    "start_time": "2024-11-12T18:07:45.638Z"
   },
   {
    "duration": 5,
    "start_time": "2024-11-12T18:07:46.609Z"
   },
   {
    "duration": 4,
    "start_time": "2024-11-12T18:07:47.273Z"
   },
   {
    "duration": 5,
    "start_time": "2024-11-12T18:07:48.997Z"
   },
   {
    "duration": 26,
    "start_time": "2024-11-12T18:10:19.807Z"
   },
   {
    "duration": 65,
    "start_time": "2024-11-12T18:10:21.597Z"
   },
   {
    "duration": 4,
    "start_time": "2024-11-12T18:10:26.320Z"
   },
   {
    "duration": 3,
    "start_time": "2024-11-12T18:10:29.539Z"
   },
   {
    "duration": 3,
    "start_time": "2024-11-12T18:10:30.606Z"
   },
   {
    "duration": 623,
    "start_time": "2024-11-12T18:10:34.269Z"
   },
   {
    "duration": 13,
    "start_time": "2024-11-12T18:10:56.406Z"
   },
   {
    "duration": 3,
    "start_time": "2024-11-12T18:52:28.827Z"
   },
   {
    "duration": 413,
    "start_time": "2024-11-12T18:52:28.835Z"
   },
   {
    "duration": 3,
    "start_time": "2024-11-12T18:52:29.250Z"
   },
   {
    "duration": 5,
    "start_time": "2024-11-12T18:52:29.255Z"
   },
   {
    "duration": 4,
    "start_time": "2024-11-12T18:52:29.261Z"
   },
   {
    "duration": 4,
    "start_time": "2024-11-12T18:52:29.267Z"
   },
   {
    "duration": 115,
    "start_time": "2024-11-12T18:52:29.272Z"
   },
   {
    "duration": 6,
    "start_time": "2024-11-12T18:52:29.389Z"
   },
   {
    "duration": 34,
    "start_time": "2024-11-12T18:52:29.396Z"
   },
   {
    "duration": 8,
    "start_time": "2024-11-12T18:52:29.432Z"
   },
   {
    "duration": 63,
    "start_time": "2024-11-12T18:52:29.442Z"
   },
   {
    "duration": 36,
    "start_time": "2024-11-12T18:52:29.507Z"
   },
   {
    "duration": 24,
    "start_time": "2024-11-12T18:52:29.545Z"
   },
   {
    "duration": 25,
    "start_time": "2024-11-12T18:52:29.570Z"
   },
   {
    "duration": 44,
    "start_time": "2024-11-12T18:52:29.598Z"
   },
   {
    "duration": 23,
    "start_time": "2024-11-12T18:52:29.644Z"
   },
   {
    "duration": 123,
    "start_time": "2024-11-12T18:52:29.669Z"
   },
   {
    "duration": 3,
    "start_time": "2024-11-12T18:52:29.794Z"
   },
   {
    "duration": 68,
    "start_time": "2024-11-12T18:52:29.799Z"
   },
   {
    "duration": 68,
    "start_time": "2024-11-12T18:52:29.869Z"
   },
   {
    "duration": 56,
    "start_time": "2024-11-12T18:52:29.940Z"
   },
   {
    "duration": 37,
    "start_time": "2024-11-12T18:52:29.998Z"
   },
   {
    "duration": 24,
    "start_time": "2024-11-12T18:52:32.835Z"
   },
   {
    "duration": 6,
    "start_time": "2024-11-12T18:52:34.499Z"
   },
   {
    "duration": 32,
    "start_time": "2024-11-12T18:52:36.056Z"
   },
   {
    "duration": 9,
    "start_time": "2024-11-12T18:52:36.620Z"
   },
   {
    "duration": 29,
    "start_time": "2024-11-12T18:52:38.111Z"
   },
   {
    "duration": 28,
    "start_time": "2024-11-12T18:52:39.543Z"
   },
   {
    "duration": 7,
    "start_time": "2024-11-12T18:52:41.345Z"
   },
   {
    "duration": 4,
    "start_time": "2024-11-12T18:52:41.810Z"
   },
   {
    "duration": 4,
    "start_time": "2024-11-12T18:52:42.511Z"
   },
   {
    "duration": 7,
    "start_time": "2024-11-12T18:52:43.667Z"
   },
   {
    "duration": 3,
    "start_time": "2024-11-12T18:52:44.418Z"
   },
   {
    "duration": 429,
    "start_time": "2024-11-12T18:52:45.641Z"
   },
   {
    "duration": 347,
    "start_time": "2024-11-12T18:52:46.072Z"
   },
   {
    "duration": 260,
    "start_time": "2024-11-12T18:52:46.424Z"
   },
   {
    "duration": 6,
    "start_time": "2024-11-12T18:52:49.103Z"
   },
   {
    "duration": 4,
    "start_time": "2024-11-12T18:52:57.187Z"
   },
   {
    "duration": 5,
    "start_time": "2024-11-12T18:52:57.904Z"
   },
   {
    "duration": 5,
    "start_time": "2024-11-12T18:53:09.608Z"
   },
   {
    "duration": 23,
    "start_time": "2024-11-12T18:53:28.297Z"
   },
   {
    "duration": 62,
    "start_time": "2024-11-12T18:53:30.553Z"
   },
   {
    "duration": 3,
    "start_time": "2024-11-12T18:53:34.068Z"
   },
   {
    "duration": 4,
    "start_time": "2024-11-12T18:53:50.968Z"
   },
   {
    "duration": 2,
    "start_time": "2024-11-12T18:53:55.345Z"
   },
   {
    "duration": 670,
    "start_time": "2024-11-12T18:53:57.156Z"
   },
   {
    "duration": 13,
    "start_time": "2024-11-12T18:53:57.828Z"
   },
   {
    "duration": 16,
    "start_time": "2024-11-12T18:54:43.691Z"
   },
   {
    "duration": 53,
    "start_time": "2024-11-12T18:54:44.912Z"
   },
   {
    "duration": 16,
    "start_time": "2024-11-12T18:54:48.321Z"
   },
   {
    "duration": 17,
    "start_time": "2024-11-12T18:54:50.250Z"
   },
   {
    "duration": 20,
    "start_time": "2024-11-12T18:55:01.213Z"
   },
   {
    "duration": 13,
    "start_time": "2024-11-12T18:55:03.657Z"
   },
   {
    "duration": 55,
    "start_time": "2024-11-12T18:55:14.088Z"
   },
   {
    "duration": 2099,
    "start_time": "2024-11-12T18:55:28.797Z"
   },
   {
    "duration": 2018,
    "start_time": "2024-11-12T18:55:55.532Z"
   },
   {
    "duration": 306,
    "start_time": "2024-11-12T18:56:18.967Z"
   },
   {
    "duration": 65,
    "start_time": "2024-11-12T18:57:12.523Z"
   },
   {
    "duration": 2011,
    "start_time": "2024-11-12T18:57:21.255Z"
   },
   {
    "duration": 1995,
    "start_time": "2024-11-12T18:57:31.465Z"
   },
   {
    "duration": 146583,
    "start_time": "2024-11-12T18:57:42.822Z"
   },
   {
    "duration": 55802,
    "start_time": "2024-11-12T19:00:28.040Z"
   },
   {
    "duration": 26,
    "start_time": "2024-11-12T19:04:20.162Z"
   },
   {
    "duration": 43,
    "start_time": "2024-11-12T19:06:04.265Z"
   },
   {
    "duration": 106782,
    "start_time": "2024-11-12T19:06:34.277Z"
   },
   {
    "duration": 2676,
    "start_time": "2024-11-12T19:11:46.353Z"
   },
   {
    "duration": 8,
    "start_time": "2024-11-12T19:15:23.810Z"
   },
   {
    "duration": 145806,
    "start_time": "2024-11-12T19:15:51.109Z"
   },
   {
    "duration": 5,
    "start_time": "2024-11-12T19:21:36.184Z"
   },
   {
    "duration": 40,
    "start_time": "2024-11-12T19:24:57.581Z"
   },
   {
    "duration": 1984,
    "start_time": "2024-11-12T19:26:13.673Z"
   },
   {
    "duration": 1983,
    "start_time": "2024-11-12T19:35:14.075Z"
   },
   {
    "duration": 144932,
    "start_time": "2024-11-12T19:35:42.594Z"
   },
   {
    "duration": 39,
    "start_time": "2024-11-12T19:38:07.528Z"
   },
   {
    "duration": 35,
    "start_time": "2024-11-12T19:38:07.569Z"
   },
   {
    "duration": 2717,
    "start_time": "2024-11-12T19:38:07.607Z"
   },
   {
    "duration": 2521,
    "start_time": "2024-11-12T19:38:41.515Z"
   },
   {
    "duration": 15628,
    "start_time": "2024-11-12T19:46:42.998Z"
   },
   {
    "duration": 0,
    "start_time": "2024-11-12T19:54:43.152Z"
   },
   {
    "duration": 1089,
    "start_time": "2024-11-12T19:56:34.855Z"
   },
   {
    "duration": 417,
    "start_time": "2024-11-12T19:56:35.946Z"
   },
   {
    "duration": 2,
    "start_time": "2024-11-12T19:56:36.366Z"
   },
   {
    "duration": 4,
    "start_time": "2024-11-12T19:56:36.370Z"
   },
   {
    "duration": 3,
    "start_time": "2024-11-12T19:56:36.376Z"
   },
   {
    "duration": 5,
    "start_time": "2024-11-12T19:56:36.381Z"
   },
   {
    "duration": 120,
    "start_time": "2024-11-12T19:56:36.388Z"
   },
   {
    "duration": 14,
    "start_time": "2024-11-12T19:56:36.510Z"
   },
   {
    "duration": 26,
    "start_time": "2024-11-12T19:56:36.525Z"
   },
   {
    "duration": 11,
    "start_time": "2024-11-12T19:56:36.553Z"
   },
   {
    "duration": 87,
    "start_time": "2024-11-12T19:56:36.566Z"
   },
   {
    "duration": 24,
    "start_time": "2024-11-12T19:56:36.655Z"
   },
   {
    "duration": 24,
    "start_time": "2024-11-12T19:56:36.681Z"
   },
   {
    "duration": 24,
    "start_time": "2024-11-12T19:56:36.723Z"
   },
   {
    "duration": 24,
    "start_time": "2024-11-12T19:56:36.749Z"
   },
   {
    "duration": 23,
    "start_time": "2024-11-12T19:56:36.775Z"
   },
   {
    "duration": 133,
    "start_time": "2024-11-12T19:56:36.800Z"
   },
   {
    "duration": 4,
    "start_time": "2024-11-12T19:56:36.935Z"
   },
   {
    "duration": 58,
    "start_time": "2024-11-12T19:56:36.941Z"
   },
   {
    "duration": 78,
    "start_time": "2024-11-12T19:56:37.001Z"
   },
   {
    "duration": 59,
    "start_time": "2024-11-12T19:56:37.081Z"
   },
   {
    "duration": 24,
    "start_time": "2024-11-12T19:56:37.142Z"
   },
   {
    "duration": 7,
    "start_time": "2024-11-12T19:56:37.168Z"
   },
   {
    "duration": 47,
    "start_time": "2024-11-12T19:56:37.177Z"
   },
   {
    "duration": 8,
    "start_time": "2024-11-12T19:56:37.226Z"
   },
   {
    "duration": 25,
    "start_time": "2024-11-12T19:56:37.236Z"
   },
   {
    "duration": 25,
    "start_time": "2024-11-12T19:56:37.263Z"
   },
   {
    "duration": 7,
    "start_time": "2024-11-12T19:56:37.289Z"
   },
   {
    "duration": 3,
    "start_time": "2024-11-12T19:56:37.323Z"
   },
   {
    "duration": 4,
    "start_time": "2024-11-12T19:56:37.328Z"
   },
   {
    "duration": 6,
    "start_time": "2024-11-12T19:56:37.333Z"
   },
   {
    "duration": 2,
    "start_time": "2024-11-12T19:56:37.341Z"
   },
   {
    "duration": 363,
    "start_time": "2024-11-12T19:56:37.345Z"
   },
   {
    "duration": 341,
    "start_time": "2024-11-12T19:56:37.710Z"
   },
   {
    "duration": 279,
    "start_time": "2024-11-12T19:56:38.053Z"
   },
   {
    "duration": 7,
    "start_time": "2024-11-12T19:56:38.334Z"
   },
   {
    "duration": 4,
    "start_time": "2024-11-12T19:56:38.342Z"
   },
   {
    "duration": 6,
    "start_time": "2024-11-12T19:56:38.347Z"
   },
   {
    "duration": 4,
    "start_time": "2024-11-12T19:56:38.355Z"
   },
   {
    "duration": 24,
    "start_time": "2024-11-12T19:56:38.360Z"
   },
   {
    "duration": 90,
    "start_time": "2024-11-12T19:56:38.390Z"
   },
   {
    "duration": 3,
    "start_time": "2024-11-12T19:56:38.483Z"
   },
   {
    "duration": 3,
    "start_time": "2024-11-12T19:56:38.488Z"
   },
   {
    "duration": 3,
    "start_time": "2024-11-12T19:56:38.493Z"
   },
   {
    "duration": 660,
    "start_time": "2024-11-12T19:56:38.498Z"
   },
   {
    "duration": 12,
    "start_time": "2024-11-12T19:56:39.160Z"
   },
   {
    "duration": 14,
    "start_time": "2024-11-12T19:56:39.174Z"
   },
   {
    "duration": 58,
    "start_time": "2024-11-12T19:56:39.190Z"
   },
   {
    "duration": 16,
    "start_time": "2024-11-12T19:56:39.250Z"
   },
   {
    "duration": 15,
    "start_time": "2024-11-12T19:56:39.268Z"
   },
   {
    "duration": 40,
    "start_time": "2024-11-12T19:56:39.285Z"
   },
   {
    "duration": 10,
    "start_time": "2024-11-12T19:56:39.327Z"
   },
   {
    "duration": 101,
    "start_time": "2024-11-12T19:56:39.339Z"
   },
   {
    "duration": 2033,
    "start_time": "2024-11-12T19:56:39.442Z"
   },
   {
    "duration": 145124,
    "start_time": "2024-11-12T19:56:41.477Z"
   },
   {
    "duration": 13726,
    "start_time": "2024-11-12T19:59:06.604Z"
   },
   {
    "duration": 11833,
    "start_time": "2024-11-12T19:59:20.332Z"
   },
   {
    "duration": 0,
    "start_time": "2024-11-12T19:59:32.167Z"
   },
   {
    "duration": 0,
    "start_time": "2024-11-12T19:59:32.168Z"
   },
   {
    "duration": 0,
    "start_time": "2024-11-12T19:59:32.169Z"
   },
   {
    "duration": 0,
    "start_time": "2024-11-12T19:59:32.171Z"
   },
   {
    "duration": 0,
    "start_time": "2024-11-12T19:59:32.172Z"
   },
   {
    "duration": 0,
    "start_time": "2024-11-12T19:59:32.173Z"
   },
   {
    "duration": 0,
    "start_time": "2024-11-12T19:59:32.174Z"
   },
   {
    "duration": 0,
    "start_time": "2024-11-12T19:59:32.174Z"
   },
   {
    "duration": 0,
    "start_time": "2024-11-12T19:59:32.175Z"
   },
   {
    "duration": 0,
    "start_time": "2024-11-12T19:59:32.176Z"
   },
   {
    "duration": 11854,
    "start_time": "2024-11-12T20:02:51.548Z"
   },
   {
    "duration": 25,
    "start_time": "2024-11-12T20:07:47.532Z"
   },
   {
    "duration": 3,
    "start_time": "2024-11-12T20:08:13.141Z"
   },
   {
    "duration": 172,
    "start_time": "2024-11-12T21:13:35.326Z"
   },
   {
    "duration": 1069,
    "start_time": "2024-11-12T21:13:45.158Z"
   },
   {
    "duration": 426,
    "start_time": "2024-11-12T21:13:48.844Z"
   },
   {
    "duration": 4,
    "start_time": "2024-11-12T21:14:01.866Z"
   },
   {
    "duration": 3,
    "start_time": "2024-11-12T21:14:02.343Z"
   },
   {
    "duration": 3,
    "start_time": "2024-11-12T21:14:03.078Z"
   },
   {
    "duration": 5,
    "start_time": "2024-11-12T21:14:03.400Z"
   },
   {
    "duration": 101,
    "start_time": "2024-11-12T21:14:03.842Z"
   },
   {
    "duration": 6,
    "start_time": "2024-11-12T21:14:04.985Z"
   },
   {
    "duration": 28,
    "start_time": "2024-11-12T21:14:07.349Z"
   },
   {
    "duration": 11,
    "start_time": "2024-11-12T21:14:18.806Z"
   },
   {
    "duration": 64,
    "start_time": "2024-11-12T21:14:20.376Z"
   },
   {
    "duration": 25,
    "start_time": "2024-11-12T21:14:22.007Z"
   },
   {
    "duration": 25,
    "start_time": "2024-11-12T21:14:23.491Z"
   },
   {
    "duration": 25,
    "start_time": "2024-11-12T21:14:48.074Z"
   },
   {
    "duration": 25,
    "start_time": "2024-11-12T21:14:49.125Z"
   },
   {
    "duration": 24,
    "start_time": "2024-11-12T21:14:50.076Z"
   },
   {
    "duration": 112,
    "start_time": "2024-11-12T21:14:51.380Z"
   },
   {
    "duration": 4,
    "start_time": "2024-11-12T21:14:52.802Z"
   },
   {
    "duration": 56,
    "start_time": "2024-11-12T21:14:53.207Z"
   },
   {
    "duration": 62,
    "start_time": "2024-11-12T21:14:53.730Z"
   },
   {
    "duration": 47,
    "start_time": "2024-11-12T21:14:54.949Z"
   },
   {
    "duration": 24,
    "start_time": "2024-11-12T21:14:56.370Z"
   },
   {
    "duration": 7,
    "start_time": "2024-11-12T21:14:57.126Z"
   },
   {
    "duration": 35,
    "start_time": "2024-11-12T21:14:58.042Z"
   },
   {
    "duration": 8,
    "start_time": "2024-11-12T21:14:58.425Z"
   },
   {
    "duration": 26,
    "start_time": "2024-11-12T21:15:02.862Z"
   },
   {
    "duration": 27,
    "start_time": "2024-11-12T21:15:03.692Z"
   },
   {
    "duration": 7,
    "start_time": "2024-11-12T21:15:04.487Z"
   },
   {
    "duration": 4,
    "start_time": "2024-11-12T21:15:04.894Z"
   },
   {
    "duration": 4,
    "start_time": "2024-11-12T21:15:05.320Z"
   },
   {
    "duration": 6,
    "start_time": "2024-11-12T21:15:06.034Z"
   },
   {
    "duration": 3,
    "start_time": "2024-11-12T21:15:08.315Z"
   },
   {
    "duration": 314,
    "start_time": "2024-11-12T21:15:09.606Z"
   },
   {
    "duration": 325,
    "start_time": "2024-11-12T21:15:13.487Z"
   },
   {
    "duration": 264,
    "start_time": "2024-11-12T21:15:14.253Z"
   },
   {
    "duration": 7,
    "start_time": "2024-11-12T21:15:17.377Z"
   },
   {
    "duration": 5,
    "start_time": "2024-11-12T21:15:23.019Z"
   },
   {
    "duration": 4,
    "start_time": "2024-11-12T21:15:23.532Z"
   },
   {
    "duration": 5,
    "start_time": "2024-11-12T21:15:25.117Z"
   },
   {
    "duration": 25,
    "start_time": "2024-11-12T21:15:28.578Z"
   },
   {
    "duration": 62,
    "start_time": "2024-11-12T21:15:29.072Z"
   },
   {
    "duration": 3,
    "start_time": "2024-11-12T21:15:29.561Z"
   },
   {
    "duration": 4,
    "start_time": "2024-11-12T21:15:31.024Z"
   },
   {
    "duration": 2,
    "start_time": "2024-11-12T21:15:31.491Z"
   },
   {
    "duration": 644,
    "start_time": "2024-11-12T21:15:32.195Z"
   },
   {
    "duration": 11,
    "start_time": "2024-11-12T21:15:33.042Z"
   },
   {
    "duration": 17,
    "start_time": "2024-11-12T21:16:01.490Z"
   },
   {
    "duration": 42,
    "start_time": "2024-11-12T21:16:02.036Z"
   },
   {
    "duration": 16,
    "start_time": "2024-11-12T21:16:02.532Z"
   },
   {
    "duration": 16,
    "start_time": "2024-11-12T21:16:02.935Z"
   },
   {
    "duration": 16,
    "start_time": "2024-11-12T21:16:03.660Z"
   },
   {
    "duration": 8,
    "start_time": "2024-11-12T21:16:04.634Z"
   },
   {
    "duration": 83,
    "start_time": "2024-11-12T21:16:07.545Z"
   },
   {
    "duration": 40,
    "start_time": "2024-11-12T21:16:29.470Z"
   },
   {
    "duration": 2117,
    "start_time": "2024-11-12T21:16:33.027Z"
   },
   {
    "duration": 144049,
    "start_time": "2024-11-12T21:16:51.229Z"
   },
   {
    "duration": 13269,
    "start_time": "2024-11-12T21:19:29.159Z"
   },
   {
    "duration": 187310,
    "start_time": "2024-11-12T21:20:11.148Z"
   },
   {
    "duration": 1074,
    "start_time": "2024-11-12T21:23:36.988Z"
   },
   {
    "duration": 437,
    "start_time": "2024-11-12T21:23:38.064Z"
   },
   {
    "duration": 3,
    "start_time": "2024-11-12T21:23:38.503Z"
   },
   {
    "duration": 3,
    "start_time": "2024-11-12T21:23:38.508Z"
   },
   {
    "duration": 3,
    "start_time": "2024-11-12T21:23:38.525Z"
   },
   {
    "duration": 4,
    "start_time": "2024-11-12T21:23:38.530Z"
   },
   {
    "duration": 107,
    "start_time": "2024-11-12T21:23:38.536Z"
   },
   {
    "duration": 5,
    "start_time": "2024-11-12T21:23:38.645Z"
   },
   {
    "duration": 29,
    "start_time": "2024-11-12T21:23:38.651Z"
   },
   {
    "duration": 10,
    "start_time": "2024-11-12T21:23:38.685Z"
   },
   {
    "duration": 83,
    "start_time": "2024-11-12T21:23:38.698Z"
   },
   {
    "duration": 24,
    "start_time": "2024-11-12T21:23:38.783Z"
   },
   {
    "duration": 38,
    "start_time": "2024-11-12T21:23:38.808Z"
   },
   {
    "duration": 25,
    "start_time": "2024-11-12T21:23:38.848Z"
   },
   {
    "duration": 23,
    "start_time": "2024-11-12T21:23:38.874Z"
   },
   {
    "duration": 43,
    "start_time": "2024-11-12T21:23:38.899Z"
   },
   {
    "duration": 115,
    "start_time": "2024-11-12T21:23:38.945Z"
   },
   {
    "duration": 4,
    "start_time": "2024-11-12T21:23:39.061Z"
   },
   {
    "duration": 70,
    "start_time": "2024-11-12T21:23:39.067Z"
   },
   {
    "duration": 61,
    "start_time": "2024-11-12T21:23:39.139Z"
   },
   {
    "duration": 60,
    "start_time": "2024-11-12T21:23:39.202Z"
   },
   {
    "duration": 24,
    "start_time": "2024-11-12T21:23:39.264Z"
   },
   {
    "duration": 7,
    "start_time": "2024-11-12T21:23:39.289Z"
   },
   {
    "duration": 44,
    "start_time": "2024-11-12T21:23:39.297Z"
   },
   {
    "duration": 6,
    "start_time": "2024-11-12T21:23:39.343Z"
   },
   {
    "duration": 25,
    "start_time": "2024-11-12T21:23:39.351Z"
   },
   {
    "duration": 26,
    "start_time": "2024-11-12T21:23:39.377Z"
   },
   {
    "duration": 6,
    "start_time": "2024-11-12T21:23:39.427Z"
   },
   {
    "duration": 4,
    "start_time": "2024-11-12T21:23:39.434Z"
   },
   {
    "duration": 4,
    "start_time": "2024-11-12T21:23:39.439Z"
   },
   {
    "duration": 5,
    "start_time": "2024-11-12T21:23:39.445Z"
   },
   {
    "duration": 2,
    "start_time": "2024-11-12T21:23:39.452Z"
   },
   {
    "duration": 351,
    "start_time": "2024-11-12T21:23:39.456Z"
   },
   {
    "duration": 338,
    "start_time": "2024-11-12T21:23:39.809Z"
   },
   {
    "duration": 275,
    "start_time": "2024-11-12T21:23:40.149Z"
   },
   {
    "duration": 6,
    "start_time": "2024-11-12T21:23:40.426Z"
   },
   {
    "duration": 4,
    "start_time": "2024-11-12T21:23:40.433Z"
   },
   {
    "duration": 3,
    "start_time": "2024-11-12T21:23:40.439Z"
   },
   {
    "duration": 4,
    "start_time": "2024-11-12T21:23:40.444Z"
   },
   {
    "duration": 25,
    "start_time": "2024-11-12T21:23:40.450Z"
   },
   {
    "duration": 91,
    "start_time": "2024-11-12T21:23:40.477Z"
   },
   {
    "duration": 5,
    "start_time": "2024-11-12T21:23:40.570Z"
   },
   {
    "duration": 2,
    "start_time": "2024-11-12T21:23:40.577Z"
   },
   {
    "duration": 2,
    "start_time": "2024-11-12T21:23:40.581Z"
   },
   {
    "duration": 658,
    "start_time": "2024-11-12T21:23:40.585Z"
   },
   {
    "duration": 11,
    "start_time": "2024-11-12T21:23:41.245Z"
   },
   {
    "duration": 16,
    "start_time": "2024-11-12T21:23:41.260Z"
   },
   {
    "duration": 55,
    "start_time": "2024-11-12T21:23:41.278Z"
   },
   {
    "duration": 17,
    "start_time": "2024-11-12T21:23:41.334Z"
   },
   {
    "duration": 16,
    "start_time": "2024-11-12T21:23:41.352Z"
   },
   {
    "duration": 16,
    "start_time": "2024-11-12T21:23:41.369Z"
   },
   {
    "duration": 8,
    "start_time": "2024-11-12T21:23:41.388Z"
   },
   {
    "duration": 39,
    "start_time": "2024-11-12T21:23:41.424Z"
   },
   {
    "duration": 2110,
    "start_time": "2024-11-12T21:23:41.466Z"
   },
   {
    "duration": 145121,
    "start_time": "2024-11-12T21:23:43.579Z"
   },
   {
    "duration": 14440,
    "start_time": "2024-11-12T21:31:10.686Z"
   },
   {
    "duration": 71952,
    "start_time": "2024-11-12T21:31:30.814Z"
   },
   {
    "duration": 73697,
    "start_time": "2024-11-12T21:41:23.093Z"
   },
   {
    "duration": 72136,
    "start_time": "2024-11-12T21:45:16.217Z"
   },
   {
    "duration": 71556,
    "start_time": "2024-11-12T22:12:11.273Z"
   },
   {
    "duration": 2,
    "start_time": "2024-11-12T22:16:54.745Z"
   },
   {
    "duration": 22912,
    "start_time": "2024-11-12T22:16:55.329Z"
   },
   {
    "duration": 242,
    "start_time": "2024-11-12T22:19:38.109Z"
   },
   {
    "duration": 3,
    "start_time": "2024-11-12T22:19:57.682Z"
   },
   {
    "duration": 21158,
    "start_time": "2024-11-12T22:19:58.192Z"
   },
   {
    "duration": 183,
    "start_time": "2024-11-12T22:20:19.352Z"
   },
   {
    "duration": 5,
    "start_time": "2024-11-12T22:21:27.291Z"
   },
   {
    "duration": 204,
    "start_time": "2024-11-12T22:32:24.421Z"
   },
   {
    "duration": 129,
    "start_time": "2024-11-12T22:32:46.400Z"
   },
   {
    "duration": 191,
    "start_time": "2024-11-12T22:41:30.841Z"
   },
   {
    "duration": 2959,
    "start_time": "2024-11-12T23:54:11.611Z"
   },
   {
    "duration": 492,
    "start_time": "2024-11-12T23:54:14.575Z"
   },
   {
    "duration": 2,
    "start_time": "2024-11-12T23:54:15.069Z"
   },
   {
    "duration": 6,
    "start_time": "2024-11-12T23:54:15.073Z"
   },
   {
    "duration": 4,
    "start_time": "2024-11-12T23:54:15.081Z"
   },
   {
    "duration": 4,
    "start_time": "2024-11-12T23:54:15.087Z"
   },
   {
    "duration": 120,
    "start_time": "2024-11-12T23:54:15.093Z"
   },
   {
    "duration": 5,
    "start_time": "2024-11-12T23:54:15.215Z"
   },
   {
    "duration": 53,
    "start_time": "2024-11-12T23:54:15.221Z"
   },
   {
    "duration": 9,
    "start_time": "2024-11-12T23:54:15.276Z"
   },
   {
    "duration": 67,
    "start_time": "2024-11-12T23:54:15.287Z"
   },
   {
    "duration": 29,
    "start_time": "2024-11-12T23:54:15.355Z"
   },
   {
    "duration": 24,
    "start_time": "2024-11-12T23:54:15.386Z"
   },
   {
    "duration": 56,
    "start_time": "2024-11-12T23:54:15.413Z"
   },
   {
    "duration": 24,
    "start_time": "2024-11-12T23:54:15.472Z"
   },
   {
    "duration": 23,
    "start_time": "2024-11-12T23:54:15.498Z"
   },
   {
    "duration": 119,
    "start_time": "2024-11-12T23:54:15.522Z"
   },
   {
    "duration": 6,
    "start_time": "2024-11-12T23:54:15.642Z"
   },
   {
    "duration": 64,
    "start_time": "2024-11-12T23:54:15.650Z"
   },
   {
    "duration": 81,
    "start_time": "2024-11-12T23:54:15.716Z"
   },
   {
    "duration": 59,
    "start_time": "2024-11-12T23:54:15.799Z"
   },
   {
    "duration": 30,
    "start_time": "2024-11-12T23:54:15.859Z"
   },
   {
    "duration": 5,
    "start_time": "2024-11-12T23:54:15.891Z"
   },
   {
    "duration": 25,
    "start_time": "2024-11-12T23:54:15.898Z"
   },
   {
    "duration": 29,
    "start_time": "2024-11-12T23:54:15.925Z"
   },
   {
    "duration": 33,
    "start_time": "2024-11-12T23:54:15.955Z"
   },
   {
    "duration": 26,
    "start_time": "2024-11-12T23:54:15.990Z"
   },
   {
    "duration": 6,
    "start_time": "2024-11-12T23:54:16.017Z"
   },
   {
    "duration": 4,
    "start_time": "2024-11-12T23:54:16.024Z"
   },
   {
    "duration": 7,
    "start_time": "2024-11-12T23:54:16.043Z"
   },
   {
    "duration": 15,
    "start_time": "2024-11-12T23:54:16.051Z"
   },
   {
    "duration": 7,
    "start_time": "2024-11-12T23:54:16.068Z"
   },
   {
    "duration": 338,
    "start_time": "2024-11-12T23:54:16.077Z"
   },
   {
    "duration": 352,
    "start_time": "2024-11-12T23:54:16.418Z"
   },
   {
    "duration": 293,
    "start_time": "2024-11-12T23:54:16.772Z"
   },
   {
    "duration": 9,
    "start_time": "2024-11-12T23:54:17.068Z"
   },
   {
    "duration": 4,
    "start_time": "2024-11-12T23:54:17.079Z"
   },
   {
    "duration": 3,
    "start_time": "2024-11-12T23:54:17.085Z"
   },
   {
    "duration": 4,
    "start_time": "2024-11-12T23:54:17.090Z"
   },
   {
    "duration": 51,
    "start_time": "2024-11-12T23:54:17.095Z"
   },
   {
    "duration": 69,
    "start_time": "2024-11-12T23:54:17.150Z"
   },
   {
    "duration": 5,
    "start_time": "2024-11-12T23:54:17.220Z"
   },
   {
    "duration": 2,
    "start_time": "2024-11-12T23:54:17.227Z"
   },
   {
    "duration": 24,
    "start_time": "2024-11-12T23:54:17.230Z"
   },
   {
    "duration": 670,
    "start_time": "2024-11-12T23:54:17.264Z"
   },
   {
    "duration": 39,
    "start_time": "2024-11-12T23:54:17.936Z"
   },
   {
    "duration": 15,
    "start_time": "2024-11-12T23:54:17.976Z"
   },
   {
    "duration": 40,
    "start_time": "2024-11-12T23:54:17.993Z"
   },
   {
    "duration": 36,
    "start_time": "2024-11-12T23:54:18.035Z"
   },
   {
    "duration": 16,
    "start_time": "2024-11-12T23:54:18.073Z"
   },
   {
    "duration": 14,
    "start_time": "2024-11-12T23:54:18.090Z"
   },
   {
    "duration": 11,
    "start_time": "2024-11-12T23:54:20.512Z"
   },
   {
    "duration": 65,
    "start_time": "2024-11-12T23:54:23.519Z"
   },
   {
    "duration": 2074,
    "start_time": "2024-11-12T23:54:26.231Z"
   },
   {
    "duration": 145828,
    "start_time": "2024-11-12T23:54:36.573Z"
   },
   {
    "duration": 67181,
    "start_time": "2024-11-12T23:57:02.403Z"
   },
   {
    "duration": 74391,
    "start_time": "2024-11-13T00:19:40.888Z"
   },
   {
    "duration": 74141,
    "start_time": "2024-11-13T00:21:26.867Z"
   },
   {
    "duration": 2,
    "start_time": "2024-11-13T00:22:50.071Z"
   },
   {
    "duration": 66055,
    "start_time": "2024-11-13T00:22:50.811Z"
   },
   {
    "duration": 202,
    "start_time": "2024-11-13T00:23:56.867Z"
   },
   {
    "duration": 65414,
    "start_time": "2024-11-13T00:24:06.679Z"
   }
  ],
  "kernelspec": {
   "display_name": "Python 3 (ipykernel)",
   "language": "python",
   "name": "python3"
  },
  "language_info": {
   "codemirror_mode": {
    "name": "ipython",
    "version": 3
   },
   "file_extension": ".py",
   "mimetype": "text/x-python",
   "name": "python",
   "nbconvert_exporter": "python",
   "pygments_lexer": "ipython3",
   "version": "3.9.19"
  },
  "toc": {
   "base_numbering": 1,
   "nav_menu": {},
   "number_sections": true,
   "sideBar": true,
   "skip_h1_title": true,
   "title_cell": "Table of Contents",
   "title_sidebar": "Contents",
   "toc_cell": false,
   "toc_position": {},
   "toc_section_display": true,
   "toc_window_display": false
  }
 },
 "nbformat": 4,
 "nbformat_minor": 2
}
